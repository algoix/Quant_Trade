{
 "cells": [
  {
   "cell_type": "code",
   "execution_count": 9,
   "metadata": {
    "collapsed": true
   },
   "outputs": [],
   "source": [
    "#http://pandas-datareader.readthedocs.io/en/latest/remote_data.html#remote-data-iex"
   ]
  },
  {
   "cell_type": "code",
   "execution_count": 1,
   "metadata": {
    "collapsed": true
   },
   "outputs": [],
   "source": [
    "import pandas_datareader.data as web"
   ]
  },
  {
   "cell_type": "code",
   "execution_count": 4,
   "metadata": {
    "collapsed": true
   },
   "outputs": [],
   "source": [
    "#!pip install  pandas_datareader"
   ]
  },
  {
   "cell_type": "code",
   "execution_count": 2,
   "metadata": {
    "collapsed": true
   },
   "outputs": [],
   "source": [
    "from datetime import datetime"
   ]
  },
  {
   "cell_type": "code",
   "execution_count": 6,
   "metadata": {
    "collapsed": true
   },
   "outputs": [],
   "source": [
    "start = datetime(2015, 2, 9)\n",
    "end = datetime(2018,4,6)"
   ]
  },
  {
   "cell_type": "code",
   "execution_count": 7,
   "metadata": {
    "collapsed": false
   },
   "outputs": [
    {
     "name": "stdout",
     "output_type": "stream",
     "text": [
      "5y\n"
     ]
    }
   ],
   "source": [
    "spy = web.DataReader('SPY', 'iex', start, end)"
   ]
  },
  {
   "cell_type": "code",
   "execution_count": 8,
   "metadata": {
    "collapsed": false
   },
   "outputs": [
    {
     "data": {
      "text/html": [
       "<div>\n",
       "<style scoped>\n",
       "    .dataframe tbody tr th:only-of-type {\n",
       "        vertical-align: middle;\n",
       "    }\n",
       "\n",
       "    .dataframe tbody tr th {\n",
       "        vertical-align: top;\n",
       "    }\n",
       "\n",
       "    .dataframe thead th {\n",
       "        text-align: right;\n",
       "    }\n",
       "</style>\n",
       "<table border=\"1\" class=\"dataframe\">\n",
       "  <thead>\n",
       "    <tr style=\"text-align: right;\">\n",
       "      <th></th>\n",
       "      <th>open</th>\n",
       "      <th>high</th>\n",
       "      <th>low</th>\n",
       "      <th>close</th>\n",
       "      <th>volume</th>\n",
       "    </tr>\n",
       "    <tr>\n",
       "      <th>date</th>\n",
       "      <th></th>\n",
       "      <th></th>\n",
       "      <th></th>\n",
       "      <th></th>\n",
       "      <th></th>\n",
       "    </tr>\n",
       "  </thead>\n",
       "  <tbody>\n",
       "    <tr>\n",
       "      <th>2015-02-12</th>\n",
       "      <td>194.8322</td>\n",
       "      <td>195.8631</td>\n",
       "      <td>193.9725</td>\n",
       "      <td>195.7975</td>\n",
       "      <td>97545949</td>\n",
       "    </tr>\n",
       "    <tr>\n",
       "      <th>2015-02-13</th>\n",
       "      <td>195.9381</td>\n",
       "      <td>196.6597</td>\n",
       "      <td>195.6476</td>\n",
       "      <td>196.6035</td>\n",
       "      <td>93670430</td>\n",
       "    </tr>\n",
       "    <tr>\n",
       "      <th>2015-02-17</th>\n",
       "      <td>196.2474</td>\n",
       "      <td>197.1096</td>\n",
       "      <td>195.9662</td>\n",
       "      <td>196.9128</td>\n",
       "      <td>76968199</td>\n",
       "    </tr>\n",
       "  </tbody>\n",
       "</table>\n",
       "</div>"
      ],
      "text/plain": [
       "                open      high       low     close    volume\n",
       "date                                                        \n",
       "2015-02-12  194.8322  195.8631  193.9725  195.7975  97545949\n",
       "2015-02-13  195.9381  196.6597  195.6476  196.6035  93670430\n",
       "2015-02-17  196.2474  197.1096  195.9662  196.9128  76968199"
      ]
     },
     "execution_count": 8,
     "metadata": {},
     "output_type": "execute_result"
    }
   ],
   "source": [
    "spy[3:6]"
   ]
  },
  {
   "cell_type": "code",
   "execution_count": 10,
   "metadata": {
    "collapsed": true
   },
   "outputs": [],
   "source": [
    "spy = web.DataReader('SPY', 'iex-tops')"
   ]
  },
  {
   "cell_type": "code",
   "execution_count": 11,
   "metadata": {
    "collapsed": false
   },
   "outputs": [
    {
     "data": {
      "text/html": [
       "<div>\n",
       "<style scoped>\n",
       "    .dataframe tbody tr th:only-of-type {\n",
       "        vertical-align: middle;\n",
       "    }\n",
       "\n",
       "    .dataframe tbody tr th {\n",
       "        vertical-align: top;\n",
       "    }\n",
       "\n",
       "    .dataframe thead th {\n",
       "        text-align: right;\n",
       "    }\n",
       "</style>\n",
       "<table border=\"1\" class=\"dataframe\">\n",
       "  <thead>\n",
       "    <tr style=\"text-align: right;\">\n",
       "      <th></th>\n",
       "      <th>0</th>\n",
       "    </tr>\n",
       "  </thead>\n",
       "  <tbody>\n",
       "  </tbody>\n",
       "</table>\n",
       "</div>"
      ],
      "text/plain": [
       "Empty DataFrame\n",
       "Columns: [0]\n",
       "Index: []"
      ]
     },
     "execution_count": 11,
     "metadata": {},
     "output_type": "execute_result"
    }
   ],
   "source": [
    "spy[:10]"
   ]
  },
  {
   "cell_type": "code",
   "execution_count": 15,
   "metadata": {
    "collapsed": true
   },
   "outputs": [],
   "source": [
    "from iexfinance import get_historical_data"
   ]
  },
  {
   "cell_type": "code",
   "execution_count": 14,
   "metadata": {
    "collapsed": true
   },
   "outputs": [],
   "source": [
    "#!pip install iexfinance"
   ]
  },
  {
   "cell_type": "code",
   "execution_count": 16,
   "metadata": {
    "collapsed": true
   },
   "outputs": [],
   "source": [
    "from datetime import datetime"
   ]
  },
  {
   "cell_type": "code",
   "execution_count": 17,
   "metadata": {
    "collapsed": true
   },
   "outputs": [],
   "source": [
    "start = datetime(2015, 2, 9)\n",
    "end = datetime(2018,4,6)"
   ]
  },
  {
   "cell_type": "code",
   "execution_count": 18,
   "metadata": {
    "collapsed": true
   },
   "outputs": [],
   "source": [
    "spy = get_historical_data('SPY', start, end, output_format='pandas')"
   ]
  },
  {
   "cell_type": "code",
   "execution_count": 19,
   "metadata": {
    "collapsed": false
   },
   "outputs": [
    {
     "data": {
      "text/html": [
       "<div>\n",
       "<style scoped>\n",
       "    .dataframe tbody tr th:only-of-type {\n",
       "        vertical-align: middle;\n",
       "    }\n",
       "\n",
       "    .dataframe tbody tr th {\n",
       "        vertical-align: top;\n",
       "    }\n",
       "\n",
       "    .dataframe thead th {\n",
       "        text-align: right;\n",
       "    }\n",
       "</style>\n",
       "<table border=\"1\" class=\"dataframe\">\n",
       "  <thead>\n",
       "    <tr style=\"text-align: right;\">\n",
       "      <th></th>\n",
       "      <th>open</th>\n",
       "      <th>high</th>\n",
       "      <th>low</th>\n",
       "      <th>close</th>\n",
       "      <th>volume</th>\n",
       "    </tr>\n",
       "    <tr>\n",
       "      <th>date</th>\n",
       "      <th></th>\n",
       "      <th></th>\n",
       "      <th></th>\n",
       "      <th></th>\n",
       "      <th></th>\n",
       "    </tr>\n",
       "  </thead>\n",
       "  <tbody>\n",
       "    <tr>\n",
       "      <th>2018-03-23</th>\n",
       "      <td>264.17</td>\n",
       "      <td>265.020</td>\n",
       "      <td>257.8300</td>\n",
       "      <td>258.05</td>\n",
       "      <td>183534751</td>\n",
       "    </tr>\n",
       "    <tr>\n",
       "      <th>2018-03-26</th>\n",
       "      <td>262.13</td>\n",
       "      <td>265.430</td>\n",
       "      <td>259.4100</td>\n",
       "      <td>265.11</td>\n",
       "      <td>141956102</td>\n",
       "    </tr>\n",
       "    <tr>\n",
       "      <th>2018-03-27</th>\n",
       "      <td>266.17</td>\n",
       "      <td>266.770</td>\n",
       "      <td>258.8400</td>\n",
       "      <td>260.60</td>\n",
       "      <td>129941445</td>\n",
       "    </tr>\n",
       "    <tr>\n",
       "      <th>2018-03-28</th>\n",
       "      <td>260.75</td>\n",
       "      <td>262.640</td>\n",
       "      <td>258.5800</td>\n",
       "      <td>259.83</td>\n",
       "      <td>146452306</td>\n",
       "    </tr>\n",
       "    <tr>\n",
       "      <th>2018-03-29</th>\n",
       "      <td>261.12</td>\n",
       "      <td>265.260</td>\n",
       "      <td>259.8389</td>\n",
       "      <td>263.15</td>\n",
       "      <td>124244790</td>\n",
       "    </tr>\n",
       "    <tr>\n",
       "      <th>2018-04-02</th>\n",
       "      <td>262.55</td>\n",
       "      <td>263.130</td>\n",
       "      <td>254.6700</td>\n",
       "      <td>257.47</td>\n",
       "      <td>186286343</td>\n",
       "    </tr>\n",
       "    <tr>\n",
       "      <th>2018-04-03</th>\n",
       "      <td>258.87</td>\n",
       "      <td>261.310</td>\n",
       "      <td>256.8400</td>\n",
       "      <td>260.77</td>\n",
       "      <td>119956861</td>\n",
       "    </tr>\n",
       "    <tr>\n",
       "      <th>2018-04-04</th>\n",
       "      <td>256.75</td>\n",
       "      <td>264.355</td>\n",
       "      <td>256.6000</td>\n",
       "      <td>263.56</td>\n",
       "      <td>123715339</td>\n",
       "    </tr>\n",
       "    <tr>\n",
       "      <th>2018-04-05</th>\n",
       "      <td>265.55</td>\n",
       "      <td>266.640</td>\n",
       "      <td>264.3200</td>\n",
       "      <td>265.64</td>\n",
       "      <td>82652618</td>\n",
       "    </tr>\n",
       "    <tr>\n",
       "      <th>2018-04-06</th>\n",
       "      <td>263.42</td>\n",
       "      <td>265.110</td>\n",
       "      <td>258.0000</td>\n",
       "      <td>259.72</td>\n",
       "      <td>179521209</td>\n",
       "    </tr>\n",
       "  </tbody>\n",
       "</table>\n",
       "</div>"
      ],
      "text/plain": [
       "              open     high       low   close     volume\n",
       "date                                                    \n",
       "2018-03-23  264.17  265.020  257.8300  258.05  183534751\n",
       "2018-03-26  262.13  265.430  259.4100  265.11  141956102\n",
       "2018-03-27  266.17  266.770  258.8400  260.60  129941445\n",
       "2018-03-28  260.75  262.640  258.5800  259.83  146452306\n",
       "2018-03-29  261.12  265.260  259.8389  263.15  124244790\n",
       "2018-04-02  262.55  263.130  254.6700  257.47  186286343\n",
       "2018-04-03  258.87  261.310  256.8400  260.77  119956861\n",
       "2018-04-04  256.75  264.355  256.6000  263.56  123715339\n",
       "2018-04-05  265.55  266.640  264.3200  265.64   82652618\n",
       "2018-04-06  263.42  265.110  258.0000  259.72  179521209"
      ]
     },
     "execution_count": 19,
     "metadata": {},
     "output_type": "execute_result"
    }
   ],
   "source": [
    "spy.tail(10)"
   ]
  },
  {
   "cell_type": "markdown",
   "metadata": {},
   "source": [
    "http://www.enlistq.com/python-api-getting-market-financial-data-iex/\n",
    "\n",
    "https://pypi.python.org/pypi/iexfinance/0.3.1\n",
    "\n",
    "https://addisonlynch.github.io/iexfinance/historical.html    "
   ]
  },
  {
   "cell_type": "code",
   "execution_count": null,
   "metadata": {
    "collapsed": true
   },
   "outputs": [],
   "source": []
  }
 ],
 "metadata": {
  "kernelspec": {
   "display_name": "Python 3",
   "language": "python",
   "name": "python3"
  },
  "language_info": {
   "codemirror_mode": {
    "name": "ipython",
    "version": 3
   },
   "file_extension": ".py",
   "mimetype": "text/x-python",
   "name": "python",
   "nbconvert_exporter": "python",
   "pygments_lexer": "ipython3",
   "version": "3.5.2"
  }
 },
 "nbformat": 4,
 "nbformat_minor": 2
}
