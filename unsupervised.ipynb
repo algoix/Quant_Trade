{
 "cells": [
  {
   "cell_type": "markdown",
   "metadata": {},
   "source": [
    "### Autoencoder"
   ]
  },
  {
   "cell_type": "markdown",
   "metadata": {},
   "source": [
    "    https://towardsdatascience.com/autoencoders-bits-and-bytes-of-deep-learning-eaba376f23ad\n",
    "    https://codeburst.io/deep-learning-types-and-autoencoders-a40ee6754663\n",
    "    https://deeplearning4j.org/deepautoencoder\n",
    "    http://ufldl.stanford.edu/tutorial/unsupervised/Autoencoders/\n",
    "    https://aqibsaeed.github.io/2017-09-14-denoising-autoencoder-market-basket-cf/\n",
    "    http://ufldl.stanford.edu/tutorial/unsupervised/Autoencoders/\n"
   ]
  },
  {
   "cell_type": "code",
   "execution_count": null,
   "metadata": {
    "collapsed": true
   },
   "outputs": [],
   "source": []
  }
 ],
 "metadata": {
  "kernelspec": {
   "display_name": "Python 3",
   "language": "python",
   "name": "python3"
  },
  "language_info": {
   "codemirror_mode": {
    "name": "ipython",
    "version": 3
   },
   "file_extension": ".py",
   "mimetype": "text/x-python",
   "name": "python",
   "nbconvert_exporter": "python",
   "pygments_lexer": "ipython3",
   "version": "3.5.2"
  }
 },
 "nbformat": 4,
 "nbformat_minor": 1
}
