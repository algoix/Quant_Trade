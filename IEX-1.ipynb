{
 "cells": [
  {
   "cell_type": "code",
   "execution_count": 8,
   "metadata": {},
   "outputs": [
    {
     "name": "stdout",
     "output_type": "stream",
     "text": [
      "{'price': 273.68, 'size': 200, 'timestamp': 1518795666573}\n",
      "{'price': 273.67, 'size': 700, 'timestamp': 1518795668637}\n",
      "{'price': 273.66, 'size': 200, 'timestamp': 1518795669938}\n",
      "{'price': 273.65, 'size': 700, 'timestamp': 1518795670221}\n",
      "{'price': 273.64, 'size': 500, 'timestamp': 1518795628705}\n",
      "{'price': 273.63, 'size': 500, 'timestamp': 1518795668639}\n",
      "{'price': 273.62, 'size': 1000, 'timestamp': 1518795669942}\n",
      "{'price': 273.61, 'size': 500, 'timestamp': 1518795670222}\n",
      "{'price': 273.6, 'size': 700, 'timestamp': 1518795589549}\n",
      "{'price': 273.59, 'size': 200, 'timestamp': 1518795625035}\n"
     ]
    }
   ],
   "source": [
    "import urllib.request\n",
    "import json\n",
    "url = 'https://api.iextrading.com/1.0/deep?symbols=SPY'\n",
    "req = urllib.request.Request(url)\n",
    "\n",
    "##parsing response\n",
    "r = urllib.request.urlopen(req).read()\n",
    "cont = json.loads(r.decode('utf-8'))\n",
    "counter = 0\n",
    "print(cont['bids'][1])\n",
    "print(cont['bids'][2])\n",
    "print(cont['bids'][3])\n",
    "print(cont['bids'][4])\n",
    "print(cont['bids'][5])\n",
    "print(cont['bids'][6])\n",
    "print(cont['bids'][7])\n",
    "print(cont['bids'][8])\n",
    "print(cont['bids'][9])\n",
    "print(cont['bids'][10])"
   ]
  },
  {
   "cell_type": "code",
   "execution_count": null,
   "metadata": {
    "collapsed": true
   },
   "outputs": [],
   "source": [
    "def fetchLoop(sleeptime=1):\n",
    "    \"\"\"\n",
    "    main loop for fetching and inserting stocks\n",
    "    \"\"\"\n",
    "    df = pd.DataFrame()\n",
    "    while True:\n",
    "        stock_updates =stock_fetcher.fetchAllPrices()\n",
    "        for stock, price in stock_updates['prices'].items():\n",
    "            df=df.append(pd.DataFrame({'stock':stock,'price':float(price)},index=[stock_updates['timestamp']]))\n",
    "        time.sleep(sleeptime)\n",
    "        print(df)"
   ]
  }
 ],
 "metadata": {
  "kernelspec": {
   "display_name": "Python 3",
   "language": "python",
   "name": "python3"
  },
  "language_info": {
   "codemirror_mode": {
    "name": "ipython",
    "version": 3
   },
   "file_extension": ".py",
   "mimetype": "text/x-python",
   "name": "python",
   "nbconvert_exporter": "python",
   "pygments_lexer": "ipython3",
   "version": "3.6.5"
  }
 },
 "nbformat": 4,
 "nbformat_minor": 1
}
