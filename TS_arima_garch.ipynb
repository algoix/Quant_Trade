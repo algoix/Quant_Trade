{
 "cells": [
  {
   "cell_type": "markdown",
   "metadata": {},
   "source": [
    "1. Visualize the time series\n",
    "2. Stationarize time series\n",
    "3. Plot ACF/PACF for optimal parameters\n",
    "4. Build the ARIMA model\n",
    "5. Buils GARCH model\n",
    "6. Prediction"
   ]
  },
  {
   "cell_type": "code",
   "execution_count": 1,
   "metadata": {
    "collapsed": false
   },
   "outputs": [
    {
     "name": "stderr",
     "output_type": "stream",
     "text": [
      "/home/octo/anaconda2/envs/carnd-term1/lib/python3.5/site-packages/statsmodels/compat/pandas.py:56: FutureWarning: The pandas.core.datetools module is deprecated and will be removed in a future version. Please use the pandas.tseries module instead.\n",
      "  from pandas.core import datetools\n"
     ]
    }
   ],
   "source": [
    "import os\n",
    "import sys\n",
    "# data transforamtion and manipulation\n",
    "import pandas as pd\n",
    "import pandas_datareader.data as web\n",
    "import numpy as np\n",
    "\n",
    "# statistical modeling libraries\n",
    "from statsmodels.tsa.seasonal import seasonal_decompose\n",
    "# statistical modeling libraries\n",
    "from statsmodels.tsa.stattools import adfuller, kpss\n",
    "import statsmodels.formula.api as smf\n",
    "import statsmodels.tsa.api as smt\n",
    "import statsmodels.api as sm\n",
    "import scipy.stats as scs\n",
    "#from arch import arch_model\n",
    "from arch import arch_model\n",
    "\n",
    "# plotting and plot stying\n",
    "import matplotlib.pyplot as plt\n",
    "import matplotlib as mpl\n",
    "import seaborn as sns\n",
    "#%load_ext autoreload\n",
    "#%autoreload 2\n",
    "#%matplotlib inline\n",
    "#%config InlineBackend.figure_format = 'retina'\n",
    "#plt.style.use('seaborn')\n",
    "\n",
    "# basic functionalities\n",
    "import re\n",
    "import os\n",
    "import sys\n",
    "import datetime\n",
    "import itertools\n",
    "import math \n",
    "\n",
    "# data transforamtion and manipulation\n",
    "import pandas as pd\n",
    "import pandas_datareader.data as web\n",
    "import numpy as np\n",
    "# prevent crazy long pandas prints\n",
    "pd.options.display.max_columns = 16\n",
    "pd.options.display.max_rows = 16\n",
    "pd.set_option('display.float_format', lambda x: '%.5f' % x)\n",
    "np.set_printoptions(precision=5, suppress=True)\n",
    "\n",
    "\n",
    "# remove warnings\n",
    "import warnings\n",
    "warnings.filterwarnings('ignore')\n",
    "\n",
    "\n",
    "# jupyter wdgets\n",
    "from ipywidgets import interactive, widgets, RadioButtons, ToggleButtons, Select, FloatSlider, FloatProgress\n",
    "from IPython.display import set_matplotlib_formats, Image\n",
    "\n",
    "# prevent crazy long pandas prints\n",
    "pd.options.display.max_columns = 16\n",
    "pd.options.display.max_rows = 16\n",
    "pd.set_option('display.float_format', lambda x: '%.5f' % x)\n",
    "np.set_printoptions(precision=5, suppress=True)\n",
    "\n",
    "\n",
    "# remove warnings\n",
    "import warnings\n",
    "warnings.filterwarnings('ignore')\n",
    "\n",
    "# prevent crazy long pandas prints\n",
    "pd.options.display.max_columns = 16\n",
    "pd.options.display.max_rows = 16\n",
    "pd.set_option('display.float_format', lambda x: '%.5f' % x)\n",
    "np.set_printoptions(precision=5, suppress=True)\n",
    "\n",
    "\n",
    "# remove warnings\n",
    "import warnings\n",
    "warnings.filterwarnings('ignore')\n",
    "\n",
    "#plt.style.use('seaborn')\n",
    "#sns.set_style(\"whitegrid\", {'axes.grid' : False})\n",
    "#set_matplotlib_formats('pdf', 'png')\n",
    "plt.rcParams['savefig.dpi'] = 120\n",
    "plt.rcParams['figure.autolayout'] = False\n",
    "plt.rcParams['figure.figsize'] = (16, 8)\n",
    "plt.rcParams['axes.labelsize'] = 16\n",
    "plt.rcParams['axes.labelweight'] = 'bold'\n",
    "plt.rcParams['axes.titlesize'] = 20\n",
    "plt.rcParams['axes.titleweight'] = 'bold'\n",
    "plt.rcParams['font.size'] = 16\n",
    "plt.rcParams['lines.linewidth'] = 2.0\n",
    "plt.rcParams['lines.markersize'] = 8\n",
    "plt.rcParams['legend.fontsize'] = 14\n",
    "plt.rcParams['text.usetex'] = False\n",
    "#plt.rcParams['font.family'] = \"serif\"\n",
    "plt.rcParams['font.serif'] = \"cm\"\n",
    "plt.rcParams['text.latex.preamble'] = b\"\\usepackage{subdepth}, \\usepackage{type1cm}\"\n",
    "\n",
    "# jupyter theme overrides\n",
    "from jupyterthemes import jtplot\n",
    "# choose which theme to inherit plotting style from\n",
    "# onedork | grade3 | oceans16 | chesterish | monokai | solarizedl | solarizedd\n",
    "jtplot.style(theme='chesterish')\n",
    "# set \"context\" (paper, notebook, talk, poster)\n",
    "# scale font-size of ticklabels, legend, etc.\n",
    "# remove spines from x and y axes and make grid dashed\n",
    "jtplot.style(context='talk', fscale=1.4, spines=False, gridlines='--')\n",
    "\n",
    "# turn on X- and Y-axis tick marks (default=False)\n",
    "# turn off the axis grid lines (default=True)\n",
    "# and set the default figure size\n",
    "jtplot.style(ticks=True, grid=False, figsize=(6, 4.5))\n",
    "\n",
    "plt.rcParams['image.cmap'] = 'jet'\n",
    "# recet to matplotlib standards\n",
    "#jtplot.reset()"
   ]
  },
  {
   "cell_type": "code",
   "execution_count": 2,
   "metadata": {
    "collapsed": false
   },
   "outputs": [
    {
     "name": "stderr",
     "output_type": "stream",
     "text": [
      "Using TensorFlow backend.\n"
     ]
    }
   ],
   "source": [
    "import processing\n",
    "import ds\n",
    "import ml\n",
    "import model_saving\n",
    "import TS"
   ]
  },
  {
   "cell_type": "code",
   "execution_count": 3,
   "metadata": {
    "collapsed": false
   },
   "outputs": [
    {
     "name": "stdout",
     "output_type": "stream",
     "text": [
      "Machine: Linux x86_64\n",
      "\n",
      "3.5.2 | packaged by conda-forge | (default, Jul 26 2016, 01:32:08) \n",
      "[GCC 4.8.2 20140120 (Red Hat 4.8.2-15)]\n"
     ]
    }
   ],
   "source": [
    "p = print\n",
    "p('Machine: {} {}\\n'.format(os.uname().sysname,os.uname().machine))\n",
    "p(sys.version)"
   ]
  },
  {
   "cell_type": "code",
   "execution_count": 4,
   "metadata": {
    "collapsed": true
   },
   "outputs": [],
   "source": [
    "filename = '/home/octo/Dropbox'+ '/SPY29Dec.csv'"
   ]
  },
  {
   "cell_type": "code",
   "execution_count": 5,
   "metadata": {
    "collapsed": false
   },
   "outputs": [],
   "source": [
    "data=processing.get_csv_pd(filename)\n",
    "data=processing.BA(data)\n",
    "data=processing.preprocessing(data)\n",
    "data_km=ml.kalman_ma(data)\n",
    "data['km']=data_km\n",
    "data['diff']=np.where(np.logical_and(data.Open>data.km,data.spread>0),data.vwap-data.km,np.where(np.logical_and(data.Open<data.km,data.spread<0),data.vwap-data.km,0))"
   ]
  },
  {
   "cell_type": "code",
   "execution_count": 6,
   "metadata": {
    "collapsed": true
   },
   "outputs": [],
   "source": [
    "data_arima=np.log(data.Close).diff().diff(15)"
   ]
  },
  {
   "cell_type": "markdown",
   "metadata": {},
   "source": [
    "# 1. Visulisation"
   ]
  },
  {
   "cell_type": "markdown",
   "metadata": {},
   "source": [
    "### Stationarity\n",
    "Stationarity is defined using very strict criterion. However, for practical purposes we can assume the series to be stationary if it has constant statistical properties over time, ie. the following:\n",
    "\n",
    "constant mean\n",
    "constant variance\n",
    "an autocovariance that does not depend on time."
   ]
  },
  {
   "cell_type": "code",
   "execution_count": 8,
   "metadata": {
    "collapsed": false
   },
   "outputs": [
    {
     "data": {
      "image/png": "[encoded data removed]",
      "text/plain": [
       "<matplotlib.figure.Figure at 0x7fab6982f6d8>"
      ]
     },
     "metadata": {},
     "output_type": "display_data"
    }
   ],
   "source": [
    "import numpy as np\n",
    "X = data.Close.astype('float32')\n",
    "import matplotlib.pyplot as plt\n",
    "plt.plot(X)\n",
    "plt.show()"
   ]
  },
  {
   "cell_type": "code",
   "execution_count": 7,
   "metadata": {
    "collapsed": false
   },
   "outputs": [
    {
     "data": {
      "image/png": "[encoded data removed]",
      "text/plain": [
       "<matplotlib.figure.Figure at 0x7fabb69f5898>"
      ]
     },
     "metadata": {},
     "output_type": "display_data"
    }
   ],
   "source": [
    "# log double difference\n",
    "import numpy as np\n",
    "X = data_arima.astype('float32')\n",
    "import matplotlib.pyplot as plt\n",
    "plt.plot(X)\n",
    "plt.show()"
   ]
  },
  {
   "cell_type": "code",
   "execution_count": 9,
   "metadata": {
    "collapsed": false
   },
   "outputs": [],
   "source": [
    "data_arima=data_arima[5000:22000]"
   ]
  },
  {
   "cell_type": "code",
   "execution_count": 10,
   "metadata": {
    "collapsed": true
   },
   "outputs": [],
   "source": [
    "%matplotlib inline\n",
    "import os.path\n",
    "import datetime\n",
    "\n",
    "import pandas as pd\n",
    "import numpy as np\n",
    "import matplotlib.pyplot as plt\n",
    "import pandas_datareader.data as web\n",
    "import statsmodels.api as sm\n",
    "import statsmodels.tsa.api as smt\n",
    "\n",
    "from statsmodels.tsa.arima_model import ARIMA, ARIMAResults\n",
    "from statsmodels.graphics.tsaplots import plot_acf, plot_pacf\n",
    "\n",
    "from matplotlib.pylab import rcParams\n",
    "rcParams['figure.figsize'] = 15, 6\n",
    "plt.style.use('ggplot')"
   ]
  },
  {
   "cell_type": "code",
   "execution_count": 11,
   "metadata": {
    "collapsed": true
   },
   "outputs": [],
   "source": [
    "from matplotlib.pylab import rcParams\n",
    "from statsmodels.tsa.stattools import adfuller\n",
    "import pandas as pd "
   ]
  },
  {
   "cell_type": "code",
   "execution_count": 12,
   "metadata": {
    "collapsed": true
   },
   "outputs": [],
   "source": [
    "predict_time = 5"
   ]
  },
  {
   "cell_type": "code",
   "execution_count": 13,
   "metadata": {
    "collapsed": false
   },
   "outputs": [
    {
     "data": {
      "text/plain": [
       "2017-12-30 01:34:21.983155   -0.00006\n",
       "2017-12-30 01:34:23.122215    0.00000\n",
       "2017-12-30 01:34:24.243357   -0.00002\n",
       "2017-12-30 01:34:25.488592    0.00000\n",
       "2017-12-30 01:34:26.763723    0.00000\n",
       "Name: Close, dtype: float32"
      ]
     },
     "execution_count": 13,
     "metadata": {},
     "output_type": "execute_result"
    }
   ],
   "source": [
    "split = len(data_arima) - predict_time\n",
    "train_data, prediction_data = data_arima[0:split],data_arima[split:]\n",
    "train_data.tail(5)"
   ]
  },
  {
   "cell_type": "code",
   "execution_count": 14,
   "metadata": {
    "collapsed": false
   },
   "outputs": [
    {
     "data": {
      "text/plain": [
       "2017-12-30 01:34:28.020868   0.00000\n",
       "2017-12-30 01:34:29.601923   0.00000\n",
       "2017-12-30 01:34:31.595303   0.00000\n",
       "2017-12-30 01:34:33.393180   0.00000\n",
       "2017-12-30 01:34:34.995944   0.00000\n",
       "Name: Close, dtype: float32"
      ]
     },
     "execution_count": 14,
     "metadata": {},
     "output_type": "execute_result"
    }
   ],
   "source": [
    "prediction_data"
   ]
  },
  {
   "cell_type": "code",
   "execution_count": 15,
   "metadata": {
    "collapsed": false
   },
   "outputs": [
    {
     "data": {
      "image/png": "[encoded data removed]",
      "text/plain": [
       "<matplotlib.figure.Figure at 0x7fab69aac5c0>"
      ]
     },
     "metadata": {},
     "output_type": "display_data"
    },
    {
     "name": "stdout",
     "output_type": "stream",
     "text": [
      "Results of Dickey-Fuller Test:\n",
      "Test Statistic                  -32.95184\n",
      "p-value                           0.00000\n",
      "#Lags Used                       44.00000\n",
      "Number of Observations Used   16955.00000\n",
      "Critical Value (10%)             -2.56686\n",
      "Critical Value (1%)              -3.43074\n",
      "Critical Value (5%)              -2.86171\n",
      "dtype: float64\n"
     ]
    }
   ],
   "source": [
    "rcParams['figure.figsize'] = 15, 6\n",
    "TS.test_stationarity(data_arima)\n",
    "plt.show()"
   ]
  },
  {
   "cell_type": "code",
   "execution_count": 20,
   "metadata": {
    "collapsed": false
   },
   "outputs": [
    {
     "data": {
      "image/png": "[encoded data removed]",
      "text/plain": [
       "<matplotlib.figure.Figure at 0x7fab695faa20>"
      ]
     },
     "metadata": {},
     "output_type": "display_data"
    },
    {
     "name": "stdout",
     "output_type": "stream",
     "text": [
      "Results of Dickey-Fuller Test:\n",
      "Test Statistic                  -35.37453\n",
      "p-value                           0.00000\n",
      "#Lags Used                       46.00000\n",
      "Number of Observations Used   65316.00000\n",
      "Critical Value (10%)             -2.56679\n",
      "Critical Value (1%)              -3.43045\n",
      "Critical Value (5%)              -2.86158\n",
      "dtype: float64\n"
     ]
    }
   ],
   "source": [
    "rcParams['figure.figsize'] = 15, 6\n",
    "TS.test_stationarity(np.log(data.Close).diff(1).dropna())\n",
    "plt.show()"
   ]
  },
  {
   "cell_type": "code",
   "execution_count": 17,
   "metadata": {
    "collapsed": false
   },
   "outputs": [
    {
     "data": {
      "image/png": "[encoded data removed]",
      "text/plain": [
       "<matplotlib.figure.Figure at 0x7fab699c43c8>"
      ]
     },
     "metadata": {},
     "output_type": "display_data"
    },
    {
     "name": "stdout",
     "output_type": "stream",
     "text": [
      "Results of Dickey-Fuller Test:\n",
      "Test Statistic                    0.66340\n",
      "p-value                           0.98908\n",
      "#Lags Used                       47.00000\n",
      "Number of Observations Used   65316.00000\n",
      "Critical Value (10%)             -2.56679\n",
      "Critical Value (1%)              -3.43045\n",
      "Critical Value (5%)              -2.86158\n",
      "dtype: float64\n"
     ]
    }
   ],
   "source": [
    "rcParams['figure.figsize'] = 15, 6\n",
    "TS.test_stationarity(np.log(data.Close))\n",
    "plt.show()"
   ]
  },
  {
   "cell_type": "code",
   "execution_count": 22,
   "metadata": {
    "collapsed": false
   },
   "outputs": [
    {
     "data": {
      "text/plain": [
       "<matplotlib.figure.Figure at 0x7fab696dcf60>"
      ]
     },
     "metadata": {},
     "output_type": "display_data"
    },
    {
     "data": {
      "image/png": "[encoded data removed]",
      "text/plain": [
       "<matplotlib.figure.Figure at 0x7fab696c96d8>"
      ]
     },
     "metadata": {},
     "output_type": "display_data"
    }
   ],
   "source": [
    "from statsmodels.tsa.seasonal import seasonal_decompose\n",
    "decomposition = seasonal_decompose(data_arima, freq=2000)  \n",
    "fig = plt.figure()  \n",
    "fig = decomposition.plot()  \n",
    "fig.set_size_inches(15, 8)\n",
    "plt.show()"
   ]
  },
  {
   "cell_type": "code",
   "execution_count": 25,
   "metadata": {
    "collapsed": false
   },
   "outputs": [],
   "source": [
    "trend = decomposition.trend\n",
    "seasonal = decomposition.seasonal \n",
    "#residual = decomposition.res "
   ]
  },
  {
   "cell_type": "markdown",
   "metadata": {},
   "source": [
    "# 2. Time Series Basics\n",
    "\n",
    "A time series is a series of data points indexed (or listed or graphed) in time order. Most commonly, a time series is a sequence taken at successive equally spaced points in time. Thus it is a sequence of discrete-time data. - <a href=\"https://en.wikipedia.org/wiki/Time_series\">Wikipedia</a>\n",
    "\n",
    "## 2.1 Data generating process\n",
    "\n",
    "A time series is a sequence of observations $y_1, \\dots, y_T$ which are equally spaced along a time axis according to a frequency of observation (e.g. daily, monthly, yearly, etc). \n",
    "\n",
    "An observed time series, denoted $\\{y_t\\}_{t=1}^{T}$, is assumed to stem from an unobservable <strong>data generating process</strong>.\n",
    "\n",
    "A parametric modelling approach to time series analysis makes the fundamental assumption that the underlying data generating process is a <strong>stationary stochastic process</strong>. That is, the process has a certain structure which can be described by using a number of parameters (e.g autoregressive or moving average models).\n",
    "\n",
    "## 2.2 Concept of stationarity\n",
    "A stochastic process $\\{y_t\\}_{t=1}^{T}$ is called strongly stationary if the distribution of $\\{y_{t+s}\\}_{t=1}^{T}$ for $s \\in T$ is exactly the same as the distribution of $\\{y_t\\}_{t=1}^{T}$. In other words, the distribution of original time-series is exactly same as lagged time series (by any number of lags) or even sub segments of the time series. This assumption is to strict and absolutely not applicable to time series encountered in real life.\n",
    "\n",
    "A milder assumption is <strong>covariance stationarity</strong>. A process $\\{y_t\\}_{t=1}^{T}$ is covariance stationary if:\n",
    "<ol>\n",
    "<li>$ E[y_t] = \\mu < \\infty $ for all $t$</li>\n",
    "<li>$ V[y_t] = \\sigma^2 < \\infty $ for all $t$</li>\n",
    "<li>$ \\gamma(t, s) = \\gamma[\\tau] < \\infty $ for all $t$ and $\\tau$</li>\n",
    "</ol>"
   ]
  },
  {
   "cell_type": "code",
   "execution_count": null,
   "metadata": {
    "collapsed": false
   },
   "outputs": [],
   "source": [
    "Image(filename=('stationarity.png'))"
   ]
  },
  {
   "cell_type": "markdown",
   "metadata": {},
   "source": [
    "## 2.3 Serial Correlation (Autocorrelation)\n",
    "\n",
    "<strong>Autocovariance</strong> describes the covariance between two values of a stochastic process $\\{y_t\\}_{t=1}^T$ at different points in time:\n",
    "\n",
    "$$\n",
    "\\gamma(t, s) = Cov(y_t, y_s) = E[(y_t - \\mu_t)(y_s - \\mu_s)]\n",
    "$$\n",
    "\n",
    "Then, the <strong>autocarrelation function</strong> is given by\n",
    "\n",
    "$$\n",
    "\\rho(t, s) = \\frac{\\gamma(t, s)}{\\sigma_t\\sigma_s}\n",
    "$$\n",
    "\n",
    "with $-1 < \\rho(t, s) < +1$ and where $\\sigma$ is the standard deviation. This is the formalization of the third requirement of a stationary time series. Thus, when the residuals (errors) in a time series are correlated with each other it is said to exhibit <strong>serial correlation</strong>. For a stationary process the covariance is only dependent on the difference $\\tau$ between $t$ and $s$.\n",
    "\n",
    "The autocorrrelation is the processes autocovariance normalized by the standard deviation. Thus, the Autocorrelation is a better measurement for the dependency structure, because the autocovariacne will be affected by the underlying units of measurement for the observation. The autocovariance in some cases will not necessarily give an indication/intuition how strong the observations are connected with each other\n",
    "\n",
    "To get a better grasp of the serial correlation within a time series the <strong>Scatter Plot</strong> can be used. This is plotting the series against its past."
   ]
  },
  {
   "cell_type": "code",
   "execution_count": null,
   "metadata": {
    "collapsed": false
   },
   "outputs": [],
   "source": [
    "ncols = 3\n",
    "nrows = 3\n",
    "lags = 9\n",
    "\n",
    "fig, axes = plt.subplots(ncols=ncols, nrows=nrows, figsize=(6 * ncols, 6 * nrows))\n",
    "\n",
    "for ax, lag in zip(axes.flat, np.arange(1, lags + 1, 1)):\n",
    "    lag_str = 't-{}'.format(lag)\n",
    "    X = (pd.concat([data, data.shift(-lag)], axis=1, keys=['y']+[lag_str]).dropna())\n",
    "    \n",
    "    # plot data\n",
    "    X.plot(ax=ax, kind='scatter', y='y', x=lag_str, color='#FF0066');\n",
    "    corr = X.corr().as_matrix()[0][1]\n",
    "    ax.set_ylabel('Original');\n",
    "    ax.set_title('Lag: {} (corr={:.2f})'.format(lag_str, corr));\n",
    "    ax.set_aspect('equal');\n",
    "    \n",
    "    # top and right spine from plot\n",
    "    sns.despine();\n",
    "\n",
    "fig.tight_layout()\n",
    "#plt.savefig('./img/scatter_plot_pas.png')\n",
    "plt.show()"
   ]
  },
  {
   "cell_type": "markdown",
   "metadata": {},
   "source": [
    "If we fail to account for this in our models later on the standard errors of our coefficients are underestimated, inflating the size of our t-statistics. The result is too many Type-1 errors, where we reject our null hypothesis even when it is True. Ignoring autocorrelation means that the model predictions will be inaccurate, and one is likely to draw incorrect conclusions about the impact of the independent variables in our model. \n",
    "\n",
    "The plots of the <strong>Autocorrelation function (ACF)</strong> and the <strong>Partial Autorrelation Function (PACF)</strong> are the two main tools to examine the time series dependency structure. The ACF is a function of the time displacement of the time series itself. Informally, it is the similarity between observations as a function of the time lag between them. The PACF is the conditional correlation between two variables under the assumptions that the effects of all previous lags on the time series are known.\n",
    "\n",
    "The <code>ts_plot</code> function will be used to quickly evaluate statistical and distributional phenomena of a given time series process. It includes the ACF, PACF, QQ plot, and a histogram visualization."
   ]
  },
  {
   "cell_type": "markdown",
   "metadata": {},
   "source": [
    "## 2.4 White noise\n",
    "\n",
    "Random rocess $x_t$ is said to be a <strong>white noise process</strong> if its components each have a probability distribution with zero mean, finite variance and are statistically (serially) uncorrelated. It has the form\n",
    "\n",
    "$$\n",
    "x_t = \\varepsilon_t\n",
    "$$\n",
    "\n",
    "where $\\varepsilon_t \\sim (0, \\sigma^2)$ with $\\sigma^2 < \\infty$, and $E[\\varepsilon_t\\varepsilon_s] = 0$ for all $t /= s$.\n",
    "\n",
    "Errors are serially uncorrelated if they are <strong>independent and identically distributed (iid)</strong>. Serially uncorrelated errors implies that the joint distribution of, say $(\\varepsilon_1, \\varepsilon_2)$ must be a product of the distribution of the individual components $f(\\varepsilon_1, \\varepsilon_2) = f(\\varepsilon_1) \\cdot f(\\varepsilon_2)$.\n",
    "\n",
    "This is important because if a time series model is appropriate and successful at capturing the underlying process, residuals of the model will be iid and resemble a white noise process. Therefore part of time series analysis is simply trying to fit a model to a time series such that the residual series is indistinguishable white noise."
   ]
  },
  {
   "cell_type": "code",
   "execution_count": null,
   "metadata": {
    "collapsed": false
   },
   "outputs": [],
   "source": [
    "np.random.seed(1)\n",
    "\n",
    "# simulate discrete Gaussian white noise N(0, 1)\n",
    "e = np.random.normal(size=1000)\n",
    "#e = np.random.standard_t(size=1000, df=1)\n",
    "TS.ts_plot(e, lags=30, filename='white_noise', title='White Noise Process')"
   ]
  },
  {
   "cell_type": "code",
   "execution_count": null,
   "metadata": {
    "collapsed": false
   },
   "outputs": [],
   "source": [
    "# testing on Open price of stock\n",
    "TS.ts_plot(data.Open, lags=30, filename='white_noise', title='White Noise Process')"
   ]
  },
  {
   "cell_type": "code",
   "execution_count": null,
   "metadata": {
    "collapsed": false
   },
   "outputs": [],
   "source": [
    "# testing on Open price of stock\n",
    "TS.ts_plot(data.spread, lags=30, filename='white_noise', title='White Noise Process')"
   ]
  },
  {
   "cell_type": "code",
   "execution_count": null,
   "metadata": {
    "collapsed": false
   },
   "outputs": [],
   "source": [
    "# testing on Open price of stock\n",
    "TS.ts_plot(data.vel, lags=30, filename='white_noise', title='White Noise Process')"
   ]
  },
  {
   "cell_type": "markdown",
   "metadata": {},
   "source": [
    "The above plots resemble the desired structure of a time series errors when conducting prediction. Since a <strong>Normal distribution</strong> is assumed for the data creation. The process is thus called a Gaussian white noise process. However, most financial time series, e.g. returns on assets, are assumed to stem from a <strong>Student's t-distribution</strong>. \n",
    "\n",
    "From a visual point of view, as the <strong>Degrees of Freedom (DoF)</strong> of t-distribution increase it approches the normal distribution (at around <code>DoF=30</code>). The interpretation is, that for low DoF, extreme events are more likely to ocurr when compared to the normal distribution. This is referred to as <strong>leptocurtic</strong> behaviour, informally <strong>fat tails</strong> and highlight the fact that there is distributional density in the tail areas of a distribution.\n",
    "\n",
    "\n",
    "## 2.5  Random walk\n",
    "\n",
    "A process $\\{x_t\\}_{t=1}^T$ is called a random walk process if it is of the form\n",
    "\n",
    "$$\n",
    "x_t = x_{t-1} + \\varepsilon_t\n",
    "$$\n",
    "\n",
    "where $\\varepsilon_t$ is a white noise process. What is special about the random walk is, that it is <strong>non-stationary</strong>, that is, if a given time series is governed by a random walk process it is unpredictable."
   ]
  },
  {
   "cell_type": "code",
   "execution_count": null,
   "metadata": {
    "collapsed": false
   },
   "outputs": [],
   "source": [
    "np.random.seed(2)\n",
    "\n",
    "# parameter setting\n",
    "T = 1000\n",
    "e = np.random.normal(size=T)\n",
    "x = np.zeros_like(e)\n",
    "\n",
    "# simulate random walk\n",
    "for t in range(T):\n",
    "    x[t] = x[t-1] + e[t]\n",
    "\n",
    "# plot series\n",
    "TS.ts_plot(x, lags=100, filename='random_walk', title='Random Walk Process')"
   ]
  },
  {
   "cell_type": "markdown",
   "metadata": {},
   "source": [
    "<strong>Inference</strong>\n",
    "<ul>\n",
    "<li>Seemingly unpredictable beahviour in the data</li>\n",
    "<li>High ACF for any lag length</li>\n",
    "<li>The normal QQ plot and the histogram indicate that the series is not normally distributed</li>\n",
    "</ul>\n",
    "\n",
    "The random walk is a first order <strong>autoregressive process</strong> (see next section) wih a <strong>unit root</strong>, that is, the parameter $\\phi = 1$. This causes the process to be non-stationary. However, the process can be made stationary by applying simple algebra\n",
    "\n",
    "$$\n",
    "x_t - x_{t-1} = \\varepsilon_t\n",
    "$$\n"
   ]
  },
  {
   "cell_type": "code",
   "execution_count": null,
   "metadata": {
    "collapsed": false
   },
   "outputs": [],
   "source": [
    "TS.ts_plot(np.diff(x), lags=30)"
   ]
  },
  {
   "cell_type": "markdown",
   "metadata": {},
   "source": [
    "## 2.6 The Autoregressive Model - AR(p)\n",
    "\n",
    "As mentioned above the random walk process belongs to a more general group of processes, called </strong>autoregressive process</strong> of the form\n",
    "\n",
    "$$\n",
    "x_t = \\mu + \\sum_{i=1}^p\\phi_p x_{t-p} + \\varepsilon_t\n",
    "$$\n",
    "\n",
    "The current observation is a linear combination of past observations. For example an AR(1) time series is one period lagged weighted version of itself and is formulated as\n",
    "\n",
    "$$\n",
    "x_t = \\mu + \\phi x_{t-1} + \\varepsilon_{t}\n",
    "$$"
   ]
  },
  {
   "cell_type": "code",
   "execution_count": null,
   "metadata": {
    "collapsed": false
   },
   "outputs": [],
   "source": [
    "np.random.seed(4)\n",
    "\n",
    "# parameter setting\n",
    "T = 1000\n",
    "e = np.random.normal(size=T)\n",
    "x = np.zeros_like(e)\n",
    "phi = 0.3\n",
    "\n",
    "# simulate AR(1)\n",
    "for t in range(T):\n",
    "    x[t] = phi * x[t-1] + e[t]\n",
    "\n",
    "    # plot series\n",
    "TS.ts_plot(x, lags=30, filename='ar1', title='Autoregressive Process')"
   ]
  },
  {
   "cell_type": "markdown",
   "metadata": {},
   "source": [
    "<strong>Inference</strong>\n",
    "<ul>\n",
    "<li>ACF and PACF show spikes for the first lag order</li>\n",
    "<li>Histogram and QQ plot indicate nearly random error terms</li>\n",
    "</ul>\n",
    "\n",
    "\n",
    "## 2.7 The Moving Average Model - MA(q)\n",
    "\n",
    "The <strong>moving average model MA(q)</strong> assumes that the observed time series can be represented by a linear combination of white noise error terms. It has the general form\n",
    "\n",
    "$$\n",
    "x_t = \\varepsilon_t + \\sum_{i=1}^q\\theta_q\\varepsilon_{t-q}\n",
    "$$\n",
    "\n",
    "If $q < \\infty$ the time series will always be stationary. For example a MA(2) process could look like this\n",
    "\n",
    "$$\n",
    "x_t = \\varepsilon_t + 0.8 \\varepsilon_{t-1} -1.4 \\varepsilon_{t-2}\n",
    "$$"
   ]
  },
  {
   "cell_type": "code",
   "execution_count": null,
   "metadata": {
    "collapsed": false
   },
   "outputs": [],
   "source": [
    "np.random.seed(4)\n",
    "\n",
    "# parameter setting\n",
    "T = 1000\n",
    "e = np.random.normal(size=T)\n",
    "x = np.zeros_like(e)\n",
    "theta1 = 0.8\n",
    "theta2 = - 1.4\n",
    "\n",
    "# simulate MA(2)\n",
    "for t in range(T):\n",
    "    x[t] = e[t] + theta1 * e[t-1] + theta2 * e[t-2]\n",
    "\n",
    "    # plot series\n",
    "TS.ts_plot(x, lags=30, filename='ma2', title='Moving Average Process')"
   ]
  },
  {
   "cell_type": "markdown",
   "metadata": {},
   "source": [
    "Simulation of ARMA(2, 1):\n",
    "\n",
    "$$\n",
    "x_t = \\mu + \\phi_1 x_{t-1} + \\phi_2 x_{t-2} + \\varepsilon_t + \\theta_1 \\varepsilon_{t-1}\n",
    "$$\n",
    "\n",
    "where $\\mu$ is the general level of the time series."
   ]
  },
  {
   "cell_type": "code",
   "execution_count": null,
   "metadata": {
    "collapsed": false
   },
   "outputs": [],
   "source": [
    "np.random.seed(23787)\n",
    "\n",
    "# define parameters\n",
    "T =len(data.spread)\n",
    "mu =data.spread.mean()\n",
    "phi1 =0.6\n",
    "phi2 =0.4\n",
    "theta1 = 0.8\n",
    "e = np.random.normal(size=T)\n",
    "x = np.zeros_like(e)\n",
    "\n",
    "\n",
    "# simulate series\n",
    "for t in range(T):\n",
    "    x[t] =mu + phi1 * x[t-1] + phi2 * x[t-2] + e[t]/100 + theta1 * e[t-1]/100\n",
    "\n",
    "#plot series\n",
    "TS.ts_plot(x, lags=30, filename='ar1', title='Autoregressive Process')"
   ]
  },
  {
   "cell_type": "code",
   "execution_count": null,
   "metadata": {
    "collapsed": false
   },
   "outputs": [],
   "source": [
    "from matplotlib.pylab import rcParams\n",
    "rcParams['figure.figsize'] = 15, 6\n",
    "plt.style.use('ggplot')\n",
    "plt.plot(data.Close)\n",
    "plt.title('simulated price')\n",
    "plt.show()"
   ]
  },
  {
   "cell_type": "code",
   "execution_count": null,
   "metadata": {
    "collapsed": false
   },
   "outputs": [],
   "source": [
    "from matplotlib.pylab import rcParams\n",
    "rcParams['figure.figsize'] = 15, 6\n",
    "plt.style.use('ggplot')\n",
    "plt.plot(data.spread)\n",
    "plt.title('simulated price')\n",
    "plt.show()"
   ]
  },
  {
   "cell_type": "code",
   "execution_count": null,
   "metadata": {
    "collapsed": false
   },
   "outputs": [],
   "source": [
    "len(data.spread)"
   ]
  },
  {
   "cell_type": "code",
   "execution_count": null,
   "metadata": {
    "collapsed": false
   },
   "outputs": [],
   "source": [
    "# Simulate an MA(1) process\n",
    "\n",
    "n = int(1000)\n",
    "\n",
    "# set the AR(p) alphas equal to 0\n",
    "alphas = np.array([0.])\n",
    "betas = np.array([0.6])\n",
    "\n",
    "# add zero-lag and negate alphas\n",
    "ar = np.r_[1, -alphas]\n",
    "ma = np.r_[1, betas]\n",
    "\n",
    "ma1 = smt.arma_generate_sample(ar=ar, ma=ma, nsample=n) \n",
    "_ = TS.tsplot(ma1, lags=30)\n",
    "plt.show()"
   ]
  },
  {
   "cell_type": "code",
   "execution_count": null,
   "metadata": {
    "collapsed": false
   },
   "outputs": [],
   "source": [
    "# Fit the MA(1) model to our simulated time series\n",
    "# Specify ARMA model with order (p, q)\n",
    "\n",
    "max_lag = 30\n",
    "mdl = smt.ARMA(ma1, order=(0, 1)).fit(maxlag=max_lag, method='mle', trend='nc')\n",
    "p(mdl.summary())"
   ]
  },
  {
   "cell_type": "markdown",
   "metadata": {},
   "source": [
    "The model was able to correctly estimate the lag coefficent as 0.58 is close to our true value of 0.6. Also notice that our 95% confidence interval does contain the true value. Let's try simulating an MA(3)  process, then use our ARMA function to fit a third order MA model to the series and see if we can recover the correct lag coefficients (betas). Betas 1-3 are equal to 0.6, 0.4, and 0.2 respectively."
   ]
  },
  {
   "cell_type": "code",
   "execution_count": null,
   "metadata": {
    "collapsed": false
   },
   "outputs": [],
   "source": [
    "# Simulate MA(3) process with betas 0.6, 0.4, 0.2\n",
    "\n",
    "n = int(1000)\n",
    "alphas = np.array([0.])\n",
    "betas = np.array([0.6, 0.4, 0.2])\n",
    "ar = np.r_[1, -alphas]\n",
    "ma = np.r_[1, betas]\n",
    "\n",
    "ma3 = smt.arma_generate_sample(ar=ar, ma=ma, nsample=n)\n",
    "_ = TS.tsplot(ma3, lags=30)\n",
    "plt.show()"
   ]
  },
  {
   "cell_type": "code",
   "execution_count": null,
   "metadata": {
    "collapsed": false
   },
   "outputs": [],
   "source": [
    "# Fit MA(3) model to simulated time series\n",
    "\n",
    "max_lag = 30\n",
    "mdl = smt.ARMA(ma3, order=(0, 3)).fit(maxlag=max_lag, method='mle', trend='nc')\n",
    "p(mdl.summary())"
   ]
  },
  {
   "cell_type": "code",
   "execution_count": null,
   "metadata": {
    "collapsed": false
   },
   "outputs": [],
   "source": [
    "# Fit MA(3) to SPY returns\n",
    "\n",
    "max_lag = 30\n",
    "Y = lrets\n",
    "mdl = smt.ARMA(Y, order=(0, 3)).fit(maxlag=max_lag, method='mle', trend='nc')\n",
    "p(mdl.summary())\n",
    "_ = TS.tsplot(mdl.resid, lags=max_lag)\n",
    "plt.show()"
   ]
  },
  {
   "cell_type": "markdown",
   "metadata": {},
   "source": [
    "Not bad. Some of the ACF lags concern me especially at 6,8, and 13. It could be sampling error but that combined with the heaviness of the tails makes me think this isn't the best model to predict future SPY returns."
   ]
  },
  {
   "cell_type": "markdown",
   "metadata": {},
   "source": [
    "### AR(1) simulation of spread"
   ]
  },
  {
   "cell_type": "code",
   "execution_count": null,
   "metadata": {
    "collapsed": false
   },
   "outputs": [],
   "source": [
    "np.random.seed(43)\n",
    "\n",
    "# parameter setting\n",
    "T = len(data.spread)\n",
    "mu =data.spread.mean()\n",
    "e = np.random.normal(size=T)\n",
    "x = np.zeros_like(e)\n",
    "phi = 0.3\n",
    "\n",
    "# simulate AR(1)\n",
    "for t in range(T):\n",
    "    x[t] = mu + phi * x[t-1] + e[t]/100\n",
    "data['x']=x\n",
    "    # plot series\n",
    "TS.ts_plot(x, lags=30, filename='ar1', title='Autoregressive Process')"
   ]
  },
  {
   "cell_type": "code",
   "execution_count": null,
   "metadata": {
    "collapsed": false
   },
   "outputs": [],
   "source": [
    "from matplotlib.pylab import rcParams\n",
    "rcParams['figure.figsize'] = 15, 6\n",
    "plt.style.use('ggplot')\n",
    "plt.plot(data.spread)\n",
    "plt.title('simulated price')\n",
    "plt.show()"
   ]
  },
  {
   "cell_type": "code",
   "execution_count": null,
   "metadata": {
    "collapsed": false
   },
   "outputs": [],
   "source": [
    "from matplotlib.pylab import rcParams\n",
    "rcParams['figure.figsize'] = 15, 6\n",
    "plt.style.use('ggplot')\n",
    "plt.plot(data.Close)\n",
    "plt.title('simulated price')\n",
    "plt.show()"
   ]
  },
  {
   "cell_type": "code",
   "execution_count": null,
   "metadata": {
    "collapsed": false
   },
   "outputs": [],
   "source": [
    "# Simulate an AR(1) process with alpha = 0.6\n",
    "\n",
    "np.random.seed(1)\n",
    "n_samples = int(1000)\n",
    "a = 0.6\n",
    "x = w = np.random.normal(size=n_samples)\n",
    "\n",
    "for t in range(n_samples):\n",
    "    x[t] = a*x[t-1] + w[t]\n",
    "    \n",
    "_ = TS.tsplot(x, lags=lags)\n",
    "plt.show()"
   ]
  },
  {
   "cell_type": "code",
   "execution_count": null,
   "metadata": {
    "collapsed": true
   },
   "outputs": [],
   "source": [
    "# log returns\n",
    "lrets = np.log(data.Close/data.Close.shift(1)).dropna()"
   ]
  },
  {
   "cell_type": "code",
   "execution_count": null,
   "metadata": {
    "collapsed": false
   },
   "outputs": [],
   "source": [
    "# Simulate an AR(1) process with alpha = 0.6\n",
    "\n",
    "np.random.seed(1)\n",
    "n_samples = int(1000)\n",
    "a = 0.6\n",
    "x = w = np.random.normal(size=n_samples)\n",
    "\n",
    "for t in range(n_samples):\n",
    "    x[t] = a*lrets[t-1] + w[t]\n",
    "    \n",
    "_ = TS.tsplot(x, lags=lags)\n",
    "plt.show()"
   ]
  },
  {
   "cell_type": "code",
   "execution_count": null,
   "metadata": {
    "collapsed": false
   },
   "outputs": [],
   "source": [
    "# Simulate an AR(1) process with alpha = 0.6\n",
    "\n",
    "np.random.seed(1)\n",
    "n_samples = int(1000)\n",
    "a = 0.6\n",
    "x = w = np.random.normal(size=n_samples)\n",
    "\n",
    "for t in range(n_samples):\n",
    "    x[t] = a*x[t-1] + w[t]\n",
    "    \n",
    "_ = TS.tsplot(x, lags=lags)\n",
    "plt.show()"
   ]
  },
  {
   "cell_type": "code",
   "execution_count": null,
   "metadata": {
    "collapsed": false
   },
   "outputs": [],
   "source": [
    "# Fit an AR(p) model to simulated AR(1) model with alpha = 0.6\n",
    "\n",
    "mdl = smt.AR(x).fit(maxlag=30, ic='aic', trend='nc')\n",
    "%time est_order = smt.AR(x).select_order(maxlag=30, ic='aic', trend='nc')\n",
    "\n",
    "true_order = 1\n",
    "p('\\nalpha estimate: {:3.5f} | best lag order = {}'.format(mdl.params[0], est_order))\n",
    "p('\\ntrue alpha = {} | true order = {}'.format(a, true_order))"
   ]
  },
  {
   "cell_type": "markdown",
   "metadata": {},
   "source": [
    "As expected the distribution of our simulated AR(1) model is normal. There is significant serial correlation between lagged values especially at lag 1 as evidenced by the PACF plot. \n",
    "\n",
    "Now we can fit an AR(p) model using Python's statsmodels. First we fit the AR model to our simulated data and return the estimated alpha coefficient. Then we use the statsmodels function \"select_order()\" to see if the fitted model will select the correct lag. If the AR model is correct the estimated alpha coefficient will be close to our true alpha of 0.6 and the selected order will equal 1."
   ]
  },
  {
   "cell_type": "code",
   "execution_count": null,
   "metadata": {
    "collapsed": false
   },
   "outputs": [],
   "source": [
    "# Simulate an AR(2) process\n",
    "\n",
    "n = int(1000)\n",
    "alphas = np.array([.666, -.333])\n",
    "betas = np.array([0.])\n",
    "\n",
    "# Python requires us to specify the zero-lag value which is 1\n",
    "# Also note that the alphas for the AR model must be negated\n",
    "# We also set the betas for the MA equal to 0 for an AR(p) model\n",
    "# For more information see the examples at statsmodels.org\n",
    "ar = np.r_[1, -alphas]\n",
    "ma = np.r_[1, betas]\n",
    "\n",
    "ar2 = smt.arma_generate_sample(ar=ar, ma=ma, nsample=n) \n",
    "_ = TS.tsplot(ar2, lags=lags)\n",
    "plt.show()"
   ]
  },
  {
   "cell_type": "code",
   "execution_count": null,
   "metadata": {
    "collapsed": false
   },
   "outputs": [],
   "source": [
    "# Fit an AR(p) model to simulated AR(2) process\n",
    "\n",
    "max_lag = 10\n",
    "mdl = smt.AR(ar2).fit(maxlag=max_lag, ic='aic', trend='nc')\n",
    "est_order = smt.AR(ar2).select_order(maxlag=max_lag, ic='aic', trend='nc')\n",
    "\n",
    "true_order = 2\n",
    "p('\\ncoef estimate: {:3.4f} {:3.4f} | best lag order = {}'.format(mdl.params[0],mdl.params[1], est_order))\n",
    "p('\\ntrue coefs = {} | true order = {}'.format([.666,-.333], true_order))\n",
    "  \n",
    "# coef estimate: 0.6291 -0.3196 | best lag order = 2\n",
    "# true coefs = [0.666, -0.333] | true order = 2"
   ]
  },
  {
   "cell_type": "code",
   "execution_count": null,
   "metadata": {
    "collapsed": false
   },
   "outputs": [],
   "source": [
    "lrets=lrets[2000:12000]"
   ]
  },
  {
   "cell_type": "code",
   "execution_count": null,
   "metadata": {
    "collapsed": false
   },
   "outputs": [],
   "source": [
    "# Select best lag order for MSFT returns\n",
    "\n",
    "max_lag = 30\n",
    "mdl = smt.AR(lrets).fit(maxlag=max_lag, ic='aic', trend='nc')\n",
    "est_order = smt.AR(lrets).select_order(\n",
    "    maxlag=max_lag, ic='aic', trend='nc')\n",
    "\n",
    "p('best estimated lag order = {}'.format(est_order))\n",
    "\n",
    "# best estimated lag order = 22"
   ]
  },
  {
   "cell_type": "markdown",
   "metadata": {},
   "source": [
    "The best order is 22 parameters! Any model with this many parameters is unlikely to be useful in practice. Clearly there is more complexity underlying the returns process than this model can explain.\n",
    "\n"
   ]
  },
  {
   "cell_type": "markdown",
   "metadata": {},
   "source": [
    "# 3. Time series decomposition\n",
    "\n",
    "In the above data, a long term cyclic pattern seems to be non-existent. Also in theory, business cycles in traditional businesses are observed over a period of 7 or more years. Hence, we won’t include business cycles in this time series decomposition exercise. Also, we observe a overall increasing trend across years. We will build our model based on the following function:\n",
    "\n",
    "$$\n",
    "y_t = f(d_t, s_t, \\varepsilon_t)\n",
    "$$\n",
    "\n",
    "where $d_t$ is the trend component, $s_t$ is the seasonal component and $\\varepsilon_t$ is purely random noise.\n",
    "\n",
    "## 3.1 Time series components\n",
    "\n",
    "The fundamental idea of time series analysis is to decompose the original time series (sales, stock market trends, etc.) into several independent components. Typically, business time series are divided into the following four components:\n",
    "\n",
    "<ol>\n",
    "<li><strong>Trend</strong> – overall direction of the series i.e. upwards, downwards etc</li>\n",
    "<li><strong>Seasonality</strong> – monthly or yearly patterns</li>\n",
    "<li><strong>Cycle</strong> – long-term business cycles, they usually come after 5 or 7 years</li>\n",
    "<li><strong>Noise</strong> – irregular remainder left after extraction of all the components</li>\n",
    "</ol>\n",
    "\n",
    "Why bother decomposing the original / actual time series into components? It is much easier to forecast the individual regular patterns produced through decomposition of time series than the actual series. Let us have a quick look at our data series."
   ]
  },
  {
   "cell_type": "markdown",
   "metadata": {},
   "source": [
    "## 3.2 Trend\n",
    "\n",
    "From the preliminary plots so far it is obvious that there is some kind of increasing <strong>trend</strong> in the series along with seasonal variation. Since stationarity is a vital assumption we need to verify if our time series follows a stationary process or not. We can do so by\n",
    "\n",
    "<ol>\n",
    "<li><strong>Plots</strong>: review the time series plot of our data and visually check if there are any obvious trends or seasonality</li>\n",
    "<li><strong>Statistical tests</strong>: use statistical tests to check if the expectations of stationarity are met or have been violated.</li>\n",
    "</ol>\n",
    "\n",
    "### Moving averages over time\n",
    "\n",
    "One way to identify a trend pattern is to use moving averages over a specific window of past observations. This smoothes the curve by averaging adjacent values over the specified time horizon (window)."
   ]
  },
  {
   "cell_type": "code",
   "execution_count": null,
   "metadata": {
    "collapsed": true
   },
   "outputs": [],
   "source": [
    "y=data.Close[4000:4200]"
   ]
  },
  {
   "cell_type": "code",
   "execution_count": null,
   "metadata": {
    "collapsed": false
   },
   "outputs": [],
   "source": [
    "# define figure and axes\n",
    "fig, axes = plt.subplots(2, 2, sharey=False, sharex=False);\n",
    "fig.set_figwidth(14);\n",
    "fig.set_figheight(8);\n",
    "\n",
    "# push data to each ax\n",
    "#upper left\n",
    "axes[0][0].plot(y.index, y, label='Original');\n",
    "axes[0][0].plot(y.index, y.rolling(window=4).mean(), label='4-Months Rolling Mean', color='crimson');\n",
    "axes[0][0].set_xlabel(\"Years\");\n",
    "axes[0][0].set_ylabel(\"Passengers\");\n",
    "axes[0][0].set_title(\"4-Months Moving Average\");\n",
    "axes[0][0].legend(loc='best');\n",
    "\n",
    "# upper right\n",
    "axes[0][1].plot(y.index, y, label='Original')\n",
    "axes[0][1].plot(y.index, y.rolling(window=6).mean(), label='6-Months Rolling Mean', color='crimson');\n",
    "axes[0][1].set_xlabel(\"Years\");\n",
    "axes[0][1].set_ylabel(\"Passengers\");\n",
    "axes[0][1].set_title(\"6-Months Moving Average\");\n",
    "axes[0][1].legend(loc='best');\n",
    "\n",
    "# lower left\n",
    "axes[1][0].plot(y.index, y, label='Original');\n",
    "axes[1][0].plot(y.index, y.rolling(window=8).mean(), label='8-Months Rolling Mean', color='crimson');\n",
    "axes[1][0].set_xlabel(\"Years\");\n",
    "axes[1][0].set_ylabel(\"Passengers\");\n",
    "axes[1][0].set_title(\"8-Months Moving Average\");\n",
    "axes[1][0].legend(loc='best');\n",
    "\n",
    "# lower right\n",
    "axes[1][1].plot(y.index, y, label='Original');\n",
    "axes[1][1].plot(y.index, y.rolling(window=12).mean(), label='12-Months Rolling Mean', color='crimson');\n",
    "axes[1][1].set_xlabel(\"Years\");\n",
    "axes[1][1].set_ylabel(\"Passengers\");\n",
    "axes[1][1].set_title(\"12-Months Moving Average\");\n",
    "axes[1][1].legend(loc='best');\n",
    "plt.tight_layout();\n",
    "plt.savefig('./img/rolling_windows.png')\n",
    "plt.show()"
   ]
  },
  {
   "cell_type": "markdown",
   "metadata": {},
   "source": [
    "We can see that, as the rolling mean window is increased the curve becomes smoother. With the function <code>plot_rolling_average</code> we can plot the 12 month rolling average for a given time series. Not that 12 month is the default this value can be modified."
   ]
  },
  {
   "cell_type": "code",
   "execution_count": null,
   "metadata": {
    "collapsed": false
   },
   "outputs": [],
   "source": [
    "TS.plot_rolling_average(y[4000:4500])"
   ]
  },
  {
   "cell_type": "markdown",
   "metadata": {},
   "source": [
    "Again, judging from the rolling mean plot, it is evident that there is a trend in the data, i.e. the data is not trend stationary. However, it might not always be possible to rely on a visual analysis.\n",
    "\n",
    "## 3.3 Seasonality\n",
    "\n",
    "People tend to go on vacation mainly during summer holidays. That is, at some time periods during the year people tend to use aircrafts more frequently. We could check this hypothesis of a seasonal effect by "
   ]
  },
  {
   "cell_type": "code",
   "execution_count": null,
   "metadata": {
    "collapsed": false
   },
   "outputs": [],
   "source": [
    "data.index.strftime('%m')"
   ]
  },
  {
   "cell_type": "code",
   "execution_count": null,
   "metadata": {
    "collapsed": false
   },
   "outputs": [],
   "source": [
    "data.index.strftime('%b')"
   ]
  },
  {
   "cell_type": "code",
   "execution_count": null,
   "metadata": {
    "collapsed": false
   },
   "outputs": [],
   "source": [
    "data.index.strftime('%M')"
   ]
  },
  {
   "cell_type": "code",
   "execution_count": null,
   "metadata": {
    "collapsed": false
   },
   "outputs": [],
   "source": [
    "data.index.strftime('%H')"
   ]
  },
  {
   "cell_type": "code",
   "execution_count": null,
   "metadata": {
    "collapsed": false
   },
   "outputs": [],
   "source": [
    "data.index.strftime('%D')"
   ]
  },
  {
   "cell_type": "code",
   "execution_count": null,
   "metadata": {
    "collapsed": true
   },
   "outputs": [],
   "source": [
    "data['sec']=data.index.strftime('%S')\n",
    "data['minute']=data.index.strftime('%M')\n",
    "data['hour']=data.index.strftime('%H')\n",
    "data['day']=data.index.strftime('%D')"
   ]
  },
  {
   "cell_type": "code",
   "execution_count": null,
   "metadata": {
    "collapsed": false
   },
   "outputs": [],
   "source": [
    "data.tail()"
   ]
  },
  {
   "cell_type": "code",
   "execution_count": null,
   "metadata": {
    "collapsed": true
   },
   "outputs": [],
   "source": [
    "# reshape data using 'Year' as index and 'Month' as column\n",
    "data_piv_line = data.pivot(columns='hour', values='Close')\n",
    "#df_piv_line = df.pivot(index='Month', columns='Year', values='n_passengers')\n",
    "#df_piv_line = df_piv_line.reindex(index=month_names)"
   ]
  },
  {
   "cell_type": "code",
   "execution_count": null,
   "metadata": {
    "collapsed": false
   },
   "outputs": [],
   "source": [
    "data_piv_line"
   ]
  },
  {
   "cell_type": "code",
   "execution_count": null,
   "metadata": {
    "collapsed": false
   },
   "outputs": [],
   "source": [
    "# create line plot\n",
    "data_piv_line.plot(colormap='jet');\n",
    "plt.title('Hourly Effect', fontsize=24)\n",
    "plt.ylabel('Close')\n",
    "plt.legend(loc='best', bbox_to_anchor=(1.0, 0.5))\n",
    "#plt.savefig('./img/seasonal_effect_lines.png')\n",
    "plt.show()"
   ]
  },
  {
   "cell_type": "code",
   "execution_count": null,
   "metadata": {
    "collapsed": false
   },
   "outputs": [],
   "source": [
    "# create a box plot\n",
    "fig, ax = plt.subplots();\n",
    "data_piv_line.plot(ax=ax, kind='box');\n",
    "ax.set_title('Hourly effect of price', fontsize=24);\n",
    "ax.set_xlabel('Hour');\n",
    "ax.set_ylabel('Close');\n",
    "ax.xaxis.set_ticks_position('bottom');\n",
    "fig.tight_layout();\n",
    "#plt.savefig('./img/seasonal_effect_boxplot.png')\n",
    "plt.show()"
   ]
  },
  {
   "cell_type": "markdown",
   "metadata": {},
   "source": [
    "<strong>Inference</strong>\n",
    "<ul>\n",
    "<li>The number of airline passengers have been increasing without fail every year</li>\n",
    "<li>July and August are the peak months for airline passengers and the variance and the mean for these months are also much higher than any of the other months</li>\n",
    "<li>There is a seasonal cycle of 12 months where the mean value of each month starts with an increasing trend in the beginneing of the year and drops down toward the end of the year</li>\n",
    "</ul>\n",
    "\n",
    "As we have expected there is a prevelant tendency of using more aircrafts during the summer months. "
   ]
  },
  {
   "cell_type": "code",
   "execution_count": null,
   "metadata": {
    "collapsed": false
   },
   "outputs": [],
   "source": [
    "# plot heatmap\n",
    "sns.heatmap(data_piv_line[2000:2500], annot=False)\n",
    "plt.show()"
   ]
  },
  {
   "cell_type": "markdown",
   "metadata": {},
   "source": [
    "## 3.4 Noise\n",
    "\n",
    "To understand the underlying pattern in the number of international airline passengers, we assume a <strong>multiplicative</strong> time series decomposition model with the following equation\n",
    "\n",
    "$$\n",
    "y_t = d_t \\cdot s_t \\cdot \\varepsilon_t\n",
    "$$\n",
    "\n",
    "The <code>statsmodels</code> library grants access to predefined methods for decomposing time series automatically. Using the code below calls the <code>seasonal_decomposition</code> method which will return the original time series, the trend component, seasonality component. A specification of wether to apply an additive or multiplicative model is required.\n",
    "\n",
    "<strong>However</strong>, be aware that plain vanilla decomposition models like these are rarely used for forecasting. Their primary purpose is to understand underlying patterns in temporal data to use in more sophisticated analysis like Holt-Winters seasonal method or ARIMA."
   ]
  },
  {
   "cell_type": "code",
   "execution_count": null,
   "metadata": {
    "collapsed": false
   },
   "outputs": [],
   "source": [
    "X = data.Close.astype('float32')\n",
    "ts_log = np.log(X)\n",
    "plt.plot(ts_log)\n",
    "plt.show()"
   ]
  },
  {
   "cell_type": "code",
   "execution_count": null,
   "metadata": {
    "collapsed": false
   },
   "outputs": [],
   "source": [
    "# multiplicative seasonal decomposition\n",
    "decomp = seasonal_decompose(ts_log, model='multiplicative',freq=2000)\n",
    "decomp.plot();\n",
    "#plt.savefig('./img/decomposition.png')\n",
    "plt.show()"
   ]
  },
  {
   "cell_type": "code",
   "execution_count": null,
   "metadata": {
    "collapsed": false
   },
   "outputs": [],
   "source": [
    "# multiplicative seasonal decomposition\n",
    "decomp = seasonal_decompose(data.Open, model='multiplicative',freq=2000)\n",
    "decomp.plot();\n",
    "#plt.savefig('./img/decomposition.png')\n",
    "plt.show()"
   ]
  },
  {
   "cell_type": "code",
   "execution_count": null,
   "metadata": {
    "collapsed": false
   },
   "outputs": [],
   "source": [
    "y=data.Open-data.Open.shift(60)\n",
    "X = y.astype('float32')\n",
    "#ts_log = np.log(X)\n",
    "plt.plot(X)\n",
    "plt.show()\n",
    "# multiplicative seasonal decomposition\n",
    "decomp = seasonal_decompose(y.dropna(), model='multiplicative',freq=2000)\n",
    "decomp.plot();\n",
    "#plt.savefig('./img/decomposition.png')\n",
    "plt.show()"
   ]
  },
  {
   "cell_type": "markdown",
   "metadata": {},
   "source": [
    "<strong>Inference</strong>\n",
    "<ul>\n",
    "<li><strong>Trend</strong> - The 12 month moving average calculated earlier looks quite alike. Hence, we could have used linear regression to estimate the trend in this data.</li>\n",
    "<li><strong>Seasonality</strong> - The seasonal plot displays a consistent month-to-month pattern. The monthly seasonal components are average values for a month after trend removal</li>\n",
    "<li><strong>Noise</strong> - is the residual series left after removing the trend and seasonality components</li>\n",
    "</ul>\n",
    "\n",
    "Alternatively and for comparison, an <strong>additive</strong> model would be\n",
    "\n",
    "$$\n",
    "y_t = d_t + s_t + \\varepsilon_t\n",
    "$$"
   ]
  },
  {
   "cell_type": "code",
   "execution_count": null,
   "metadata": {
    "collapsed": false
   },
   "outputs": [],
   "source": [
    "# additive seasonal decomposition\n",
    "decomp = seasonal_decompose(data.spread, model='additive',freq=2000)\n",
    "decomp.plot();\n",
    "#plt.savefig('./img/decomp_additive.png')\n",
    "plt.show()"
   ]
  },
  {
   "cell_type": "markdown",
   "metadata": {},
   "source": [
    "##### data.spread has negative value so additive is useful"
   ]
  },
  {
   "cell_type": "markdown",
   "metadata": {},
   "source": [
    "<strong>Inference</strong>\n",
    "<ul>\n",
    "<li>Difference in the scale of the decomposed time series when compared to the multiplicative model</li>\n",
    "<li>There is still a pattern left in the residual series</li>\n",
    "<li>The high residual values indicate that the application of a multiplicative model is preferable</li>\n",
    "</ul>\n",
    "\n",
    "<strong>Best Practice</strong>\n",
    "<ul>\n",
    "<li>When the data contains negative values, an additive model should be used</li>\n",
    "</ul>\n"
   ]
  },
  {
   "cell_type": "markdown",
   "metadata": {},
   "source": [
    "# 4. Stationarize a time series\n",
    "\n",
    "Before models for forecasting can be applied, the series must be transformed into a stationary time series. The <strong>Augmented-Dickey Fuller Test</strong> can be used to test whether or not a given time series is stationary. The null hypothesis is that there is at least one <strong>unit root</strong> present in the data. \n",
    "\n",
    "If the test statistic is smaller than the critical value, the hypothesis is rejected, the series would be stationary, and no further transformations of the data would be required. A standalone version of the Dickey Fuller test is provided with function <code>test_for_Stationarity</code>"
   ]
  },
  {
   "cell_type": "code",
   "execution_count": null,
   "metadata": {
    "collapsed": true
   },
   "outputs": [],
   "source": [
    "y=data.Close"
   ]
  },
  {
   "cell_type": "code",
   "execution_count": null,
   "metadata": {
    "collapsed": false
   },
   "outputs": [],
   "source": [
    "TS.adf_test(y)"
   ]
  },
  {
   "cell_type": "markdown",
   "metadata": {},
   "source": [
    "##### data.spread is stationary but data.Open is not"
   ]
  },
  {
   "cell_type": "markdown",
   "metadata": {},
   "source": [
    "Because the test statistic is above the 5% critical value and the p-value is larger than 0.05, (the moving average is not constant over time) and the null hypothesis of the Augmented Dickey-Fuller test cannot be rejected, the series is not stationary.\n",
    "\n",
    "For this section, the function <code>ts_diagnostics</code> is introduced to monitor the effort of stationarizing the time series. It includes the rolling mean and standard deviation of a time series with a twelve month window, the ACF, PACF, QQ Plot, histogram, and computes the Augmented-Dickey Fuller Test."
   ]
  },
  {
   "cell_type": "code",
   "execution_count": null,
   "metadata": {
    "collapsed": false
   },
   "outputs": [],
   "source": [
    "TS.kpss_test(y)"
   ]
  },
  {
   "cell_type": "code",
   "execution_count": null,
   "metadata": {
    "collapsed": false
   },
   "outputs": [],
   "source": [
    "TS.ts_diagnostics(y, lags=30, title='Close Price', filename='adf_data')"
   ]
  },
  {
   "cell_type": "markdown",
   "metadata": {},
   "source": [
    "## 4.1 Trend stationary\n",
    "\n",
    "The first difference is used to make a time series <strong>trend</strong> or <strong>mean stationary</strong>. A first difference can be applied applied by"
   ]
  },
  {
   "cell_type": "code",
   "execution_count": null,
   "metadata": {
    "collapsed": true
   },
   "outputs": [],
   "source": [
    "from scipy import signal\n",
    "y_detrend = signal.detrend(y)"
   ]
  },
  {
   "cell_type": "code",
   "execution_count": null,
   "metadata": {
    "collapsed": false
   },
   "outputs": [],
   "source": [
    "type(y_detrend)"
   ]
  },
  {
   "cell_type": "code",
   "execution_count": null,
   "metadata": {
    "collapsed": true
   },
   "outputs": [],
   "source": [
    "y_diff = np.diff(y)"
   ]
  },
  {
   "cell_type": "code",
   "execution_count": null,
   "metadata": {
    "collapsed": false
   },
   "outputs": [],
   "source": [
    "y_detrend[:3]"
   ]
  },
  {
   "cell_type": "code",
   "execution_count": null,
   "metadata": {
    "collapsed": false
   },
   "outputs": [],
   "source": [
    "y_diff[:3]"
   ]
  },
  {
   "cell_type": "code",
   "execution_count": null,
   "metadata": {
    "collapsed": false
   },
   "outputs": [],
   "source": [
    "TS.ts_diagnostics(y_detrend, lags=30, title='Detrend Close', filename='adf_diff')"
   ]
  },
  {
   "cell_type": "markdown",
   "metadata": {},
   "source": [
    "<strong>Inference</strong>\n",
    "<ul>\n",
    "<li>Improvement for the Dickey Fuller test statistic, but process is still not stationary as indicated by the dark blue line (time dependent variance)</li>\n",
    "<li>Serial correlation has been reduced, however, there are still spikes in ACF and PACF plots</li>\n",
    "<li>Mean appears mean stationary around 0 (red line).</li>\n",
    "</ul>\n",
    "\n",
    "## 4.2 Log transformation\n",
    "\n",
    "The log transformation is used to make a time series <strong>variance stationary</strong>, that is stabalizing the variance for the complete time series\n",
    "\n",
    "$$\n",
    "y^{log}_t = log(y_t)\n",
    "$$\n",
    "\n",
    "Note, that the series will not be stationary on the mean since the original data and not the differenced data is used here"
   ]
  },
  {
   "cell_type": "code",
   "execution_count": null,
   "metadata": {
    "collapsed": true
   },
   "outputs": [],
   "source": [
    "y_log = np.log(y)"
   ]
  },
  {
   "cell_type": "code",
   "execution_count": null,
   "metadata": {
    "collapsed": false
   },
   "outputs": [],
   "source": [
    "TS.ts_diagnostics(y_log, lags=30, title='Log of Close', filename='adf_log')"
   ]
  },
  {
   "cell_type": "markdown",
   "metadata": {},
   "source": [
    "<strong>Inference</strong>\n",
    "<ul>\n",
    "<li>Application of the log transformation resulted in less variation of the processes variance</li>\n",
    "<li>Process is still not stationary, since test statistic is larger than the critical value</li>\n",
    "<li>Strong serial correlation rmains within the series</li>\n",
    "<li>The errors do not appear do be normally distributed</li>\n",
    "</ul>\n",
    "\n",
    "## 4.3 Log transformed first order difference\n",
    "\n",
    "$$\n",
    "y'_t = log(y_t) - log(y_{t-1})\n",
    "$$"
   ]
  },
  {
   "cell_type": "code",
   "execution_count": null,
   "metadata": {
    "collapsed": true
   },
   "outputs": [],
   "source": [
    "y_log_diff = np.log(y).diff().dropna()"
   ]
  },
  {
   "cell_type": "code",
   "execution_count": null,
   "metadata": {
    "collapsed": false
   },
   "outputs": [],
   "source": [
    "TS.ts_diagnostics(y_log_diff, lags=30, title='Log tr. first order diff', filename='adf_log_diff')"
   ]
  },
  {
   "cell_type": "markdown",
   "metadata": {},
   "source": [
    "<strong>Inference</strong>\n",
    "<ul>\n",
    "<li>Application of the first difference seems to have extracted the trend pattern</li>\n",
    "<li>However, the process is still not stationary, since test statistic is larger than the critical value</li>\n",
    "<li>The plotted series can now be interpreted as percentages changes per month</li>\n",
    "</ul>\n",
    "\n",
    "\n",
    "## 4.4 Log transformed second order difference\n",
    "\n",
    "Sicne the time series is still not stationary (as indicated by the Dickey-Fuller test) another differencing step can be included."
   ]
  },
  {
   "cell_type": "code",
   "execution_count": null,
   "metadata": {
    "collapsed": true
   },
   "outputs": [],
   "source": [
    "y_log_diff2 = np.log(y).diff(1).diff(12).dropna()"
   ]
  },
  {
   "cell_type": "code",
   "execution_count": null,
   "metadata": {
    "collapsed": false
   },
   "outputs": [],
   "source": [
    "TS.ts_diagnostics(y_log_diff2, lags=30, title='Log tr. second order of Close', filename='adf_log_diff2')"
   ]
  },
  {
   "cell_type": "markdown",
   "metadata": {},
   "source": [
    "Since there are spikes in the ACF and PACF plots which lie outsight the insignifcant zone it can be concluded that the residuals are still not random. This implies that there is an information pattern left in the residuals which can be extracted by <strong>autoregressive</strong> and <strong>moving average</strong> models.\n",
    "\n",
    "When looking at the PACF and ACF plot of the log transformed second order differenced time series a significant spike in the residuals at lag 12 can be detected. This is an indication for the seasonal component, which as not been extracted from the series completely. Overall, this preliminary result makes sense, since the analyzed data has a monthly frequency that tends to have a seasonality of 12 months."
   ]
  },
  {
   "cell_type": "markdown",
   "metadata": {},
   "source": [
    "### Autoregressive Moving Average Models - ARMA(p, q)"
   ]
  },
  {
   "cell_type": "markdown",
   "metadata": {},
   "source": [
    "As you may have guessed, the ARMA model is simply the merger between AR(p) and MA(q) models. Let's recap what these models represent to us from a quant finance perspective: \n",
    "\n",
    "AR(p) models try to capture (explain) the momentum and mean reversion effects often observed in trading markets. \n",
    "MA(q) models try to capture (explain) the shock effects observed in the white noise terms. These shock effects could be thought of as unexpected events affecting the observation process e.g. Surprise earnings, A terrorist attack, etc"
   ]
  },
  {
   "cell_type": "markdown",
   "metadata": {},
   "source": [
    "Let's simulate an ARMA(2, 2) process with given parameters, then fit an ARMA(2, 2) model and see if it can correctly estimate those parameters. Set alphas equal to [0.5,-0.25] and betas equal to [0.5,-0.3]. "
   ]
  },
  {
   "cell_type": "code",
   "execution_count": null,
   "metadata": {
    "collapsed": false
   },
   "outputs": [],
   "source": [
    "# Simulate an ARMA(2, 2) model with alphas=[0.5,-0.25] and betas=[0.5,-0.3]\n",
    "max_lag = 30\n",
    "\n",
    "n = int(5000) # lots of samples to help estimates\n",
    "burn = int(n/10) # number of samples to discard before fit\n",
    "\n",
    "alphas = np.array([0.5, -0.25])\n",
    "betas = np.array([0.5, -0.3])\n",
    "ar = np.r_[1, -alphas]\n",
    "ma = np.r_[1, betas]\n",
    "\n",
    "arma22 = smt.arma_generate_sample(ar=ar, ma=ma, nsample=n, burnin=burn)\n",
    "_ = TS.tsplot(arma22, lags=max_lag)\n",
    "plt.show()\n",
    "mdl = smt.ARMA(arma22, order=(2, 2)).fit(maxlag=max_lag, method='mle', trend='nc', burnin=burn)\n",
    "p(mdl.summary())"
   ]
  },
  {
   "cell_type": "markdown",
   "metadata": {},
   "source": [
    "The model has correctly recovered our parameters, and our true parameters are contained within the 95% confidence interval.\n",
    "\n",
    "Next we simulate a ARMA(3, 2) model. After, we cycle through a non trivial number of combinations of p, q to fit an ARMA model to our simulated series. We choose the best combination based on which model produces the lowest Akaike Information Criterion (AIC)."
   ]
  },
  {
   "cell_type": "code",
   "execution_count": null,
   "metadata": {
    "collapsed": false
   },
   "outputs": [],
   "source": [
    "# Simulate an ARMA(3, 2) model with alphas=[0.5,-0.25,0.4] and betas=[0.5,-0.3]\n",
    "\n",
    "max_lag = 30\n",
    "\n",
    "n = int(5000)\n",
    "burn = 2000\n",
    "\n",
    "alphas = np.array([0.5, -0.25, 0.4])\n",
    "betas = np.array([0.5, -0.3])\n",
    "\n",
    "ar = np.r_[1, -alphas]\n",
    "ma = np.r_[1, betas]\n",
    "\n",
    "arma32 = smt.arma_generate_sample(ar=ar, ma=ma, nsample=n, burnin=burn)\n",
    "_ = TS.tsplot(arma32, lags=max_lag)\n",
    "\n",
    "plt.plot()\n",
    "# pick best order by aic \n",
    "# smallest aic value wins\n",
    "best_aic = np.inf \n",
    "best_order = None\n",
    "best_mdl = None\n",
    "\n",
    "rng = range(5)\n",
    "for i in rng:\n",
    "    for j in rng:\n",
    "        try:\n",
    "            tmp_mdl = smt.ARMA(arma32, order=(i, j)).fit(method='mle', trend='nc')\n",
    "            tmp_aic = tmp_mdl.aic\n",
    "            if tmp_aic < best_aic:\n",
    "                best_aic = tmp_aic\n",
    "                best_order = (i, j)\n",
    "                best_mdl = tmp_mdl\n",
    "        except: continue\n",
    "\n",
    "\n",
    "p('aic: {:6.5f} | order: {}'.format(best_aic, best_order))\n",
    "\n",
    "# aic: 14108.27213 | order: (3, 2)"
   ]
  },
  {
   "cell_type": "markdown",
   "metadata": {},
   "source": [
    "We see that the correct order was selected and the model correctly estimated our parameters. However notice the MA.L1.y coefficent; the true value of 0.5 is almost outside of the 95% confidence interval!\n",
    "\n",
    "Below we observe the model's residuals. Clearly it is a white noise process, thus the best model has been fit to explain the data."
   ]
  },
  {
   "cell_type": "code",
   "execution_count": null,
   "metadata": {
    "collapsed": false
   },
   "outputs": [],
   "source": [
    "# Fit ARMA model to SPY returns\n",
    "\n",
    "best_aic = np.inf \n",
    "best_order = None\n",
    "best_mdl = None\n",
    "\n",
    "rng = range(5) # [0,1,2,3,4,5]\n",
    "for i in rng:\n",
    "    for j in rng:\n",
    "        try:\n",
    "            tmp_mdl = smt.ARMA(lrets, order=(i, j)).fit(\n",
    "                method='mle', trend='nc'\n",
    "            )\n",
    "            tmp_aic = tmp_mdl.aic\n",
    "            if tmp_aic < best_aic:\n",
    "                best_aic = tmp_aic\n",
    "                best_order = (i, j)\n",
    "                best_mdl = tmp_mdl\n",
    "        except: continue\n",
    "\n",
    "\n",
    "p('aic: {:6.5f} | order: {}'.format(best_aic, best_order))\n",
    "\n",
    "# aic: -11518.22902 | order: (4, 4)"
   ]
  },
  {
   "cell_type": "markdown",
   "metadata": {},
   "source": [
    "The ACF and PACF are showing no significant autocorrelation. The QQ and Probability Plots show the residuals are approximately normal with heavy tails. However, this model's residuals do NOT look like white noise! Look at the highlighted areas of obvious conditional heteroskedasticity (conditional volatility) that the model has not captured. "
   ]
  },
  {
   "cell_type": "markdown",
   "metadata": {},
   "source": [
    "### Autoregressive Integrated Moving Average Models - ARIMA(p, d, q)"
   ]
  },
  {
   "cell_type": "markdown",
   "metadata": {},
   "source": [
    "ARIMA is a natural extension to the class of ARMA models. As previously mentioned many of our TS are not stationary, however they can be made stationary by differencing. We saw an example of this when we took the first difference of a Guassian random walk and proved that it equals white noise. Said another way, we took the nonstationary random walk and transformed it to stationary white noise by first-differencing.\n",
    "\n",
    "Without diving too deeply into the equation, just know the \"d\" references the number of times we are differencing the series. A side note, in Python we must use np.diff() function if we need to difference a series more than once. The pandas functions DataFrame.diff()/Series.diff() only takes the first difference of a dataframe/series and does not implement the recursive differencing needed in TSA.  \n",
    "\n",
    "In the following example, we iterate through a non-trivial number of combinations of (p, d, q) orders, to find the best ARIMA model to fit SPY returns. We use the AIC to evaluate each model. The lowest AIC wins. "
   ]
  },
  {
   "cell_type": "code",
   "execution_count": null,
   "metadata": {
    "collapsed": false
   },
   "outputs": [],
   "source": [
    "# Fit ARIMA(p, d, q) model to SPY Returns\n",
    "# pick best order and final model based on aic\n",
    "\n",
    "best_aic = np.inf \n",
    "best_order = None\n",
    "best_mdl = None\n",
    "\n",
    "pq_rng = range(5) # [0,1,2,3,4]\n",
    "d_rng = range(2) # [0,1]\n",
    "for i in pq_rng:\n",
    "    for d in d_rng:\n",
    "        for j in pq_rng:\n",
    "            try:\n",
    "                tmp_mdl = smt.ARIMA(lrets, order=(i,d,j)).fit(method='mle', trend='nc')\n",
    "                tmp_aic = tmp_mdl.aic\n",
    "                if tmp_aic < best_aic:\n",
    "                    best_aic = tmp_aic\n",
    "                    best_order = (i, d, j)\n",
    "                    best_mdl = tmp_mdl\n",
    "            except: continue\n",
    "\n",
    "\n",
    "p('aic: {:6.5f} | order: {}'.format(best_aic, best_order))\n",
    "# aic: -11518.22902 | order: (4, 0, 4)\n",
    "\n",
    "# ARIMA model resid plot\n",
    "_ = TS.tsplot(best_mdl.resid, lags=30)\n",
    "plt.show()"
   ]
  },
  {
   "cell_type": "markdown",
   "metadata": {},
   "source": [
    "It should be no surprise that the best model has a differencing of 0. Recall that we already took the first difference of log prices to calculate the stock returns. Below, I plot the model residuals. The result is essentially identical to the ARMA(4, 4) model we fit above. Clearly this ARIMA model has not explained the conditional volatility in the series either! "
   ]
  },
  {
   "cell_type": "markdown",
   "metadata": {},
   "source": [
    "Now we have at least accumulated enough knowledge to make a simple forecast of future returns. Here we make use of our model's forecast() method. As arguments, it takes an integer for the number of time steps to predict, and a decimal for the alpha argument to specify the confidence intervals. The default setting is 95% confidence. For 99% set alpha equal to 0.01. "
   ]
  },
  {
   "cell_type": "code",
   "execution_count": null,
   "metadata": {
    "collapsed": false
   },
   "outputs": [],
   "source": [
    "# Create a 21 day forecast of SPY returns with 95%, 99% CI\n",
    "n_steps = 21\n",
    "\n",
    "f, err95, ci95 = best_mdl.forecast(steps=n_steps) # 95% CI\n",
    "_, err99, ci99 = best_mdl.forecast(steps=n_steps, alpha=0.01) # 99% CI\n",
    "\n",
    "idx = pd.date_range(data.index[-1], periods=n_steps, freq='3H')\n",
    "fc_95 = pd.DataFrame(np.column_stack([f, ci95]), \n",
    "                     index=idx, columns=['forecast', 'lower_ci_95', 'upper_ci_95'])\n",
    "fc_99 = pd.DataFrame(np.column_stack([ci99]), \n",
    "                     index=idx, columns=['lower_ci_99', 'upper_ci_99'])\n",
    "fc_all = fc_95.combine_first(fc_99)\n",
    "fc_all.head()"
   ]
  },
  {
   "cell_type": "code",
   "execution_count": null,
   "metadata": {
    "collapsed": false
   },
   "outputs": [],
   "source": [
    "# Plot 21 day forecast for SPY returns\n",
    "\n",
    "plt.style.use('bmh')\n",
    "fig = plt.figure(figsize=(9,7))\n",
    "ax = plt.gca()\n",
    "\n",
    "ts = lrets#lrets.iloc[-500:].copy()\n",
    "ts.plot(ax=ax, label='Spy Returns')\n",
    "# in sample prediction\n",
    "pred = best_mdl.predict(ts.index[0], ts.index[-1])\n",
    "pred.plot(ax=ax, style='r-', label='In-sample prediction')\n",
    "\n",
    "styles = ['b-', '0.2', '0.75', '0.2', '0.75']\n",
    "fc_all.plot(ax=ax, style=styles)\n",
    "plt.fill_between(fc_all.index, fc_all.lower_ci_95, fc_all.upper_ci_95, color='gray', alpha=0.7)\n",
    "plt.fill_between(fc_all.index, fc_all.lower_ci_99, fc_all.upper_ci_99, color='gray', alpha=0.2)\n",
    "plt.title('{} Day SPY Return Forecast\\nARIMA{}'.format(n_steps, best_order))\n",
    "plt.legend(loc='best', fontsize=10)\n",
    "plt.show()"
   ]
  },
  {
   "cell_type": "markdown",
   "metadata": {},
   "source": [
    "# Prediction"
   ]
  },
  {
   "cell_type": "code",
   "execution_count": 1,
   "metadata": {
    "collapsed": false
   },
   "outputs": [
    {
     "ename": "NameError",
     "evalue": "name 'sm' is not defined",
     "output_type": "error",
     "traceback": [
      "\u001b[0;31m---------------------------------------------------------------------------\u001b[0m",
      "\u001b[0;31mNameError\u001b[0m                                 Traceback (most recent call last)",
      "\u001b[0;32m<ipython-input-1-d9bb0d1863ca>\u001b[0m in \u001b[0;36m<module>\u001b[0;34m()\u001b[0m\n\u001b[0;32m----> 1\u001b[0;31m \u001b[0mmod\u001b[0m \u001b[0;34m=\u001b[0m \u001b[0msm\u001b[0m\u001b[0;34m.\u001b[0m\u001b[0mtsa\u001b[0m\u001b[0;34m.\u001b[0m\u001b[0mstatespace\u001b[0m\u001b[0;34m.\u001b[0m\u001b[0mSARIMAX\u001b[0m\u001b[0;34m(\u001b[0m\u001b[0mdata_arima\u001b[0m\u001b[0;34m.\u001b[0m\u001b[0mdropna\u001b[0m\u001b[0;34m(\u001b[0m\u001b[0;34m)\u001b[0m\u001b[0;34m[\u001b[0m\u001b[0;36m2000\u001b[0m\u001b[0;34m:\u001b[0m\u001b[0;36m3000\u001b[0m\u001b[0;34m]\u001b[0m\u001b[0;34m,\u001b[0m \u001b[0mtrend\u001b[0m\u001b[0;34m=\u001b[0m\u001b[0;34m'n'\u001b[0m\u001b[0;34m,\u001b[0m \u001b[0morder\u001b[0m\u001b[0;34m=\u001b[0m\u001b[0;34m(\u001b[0m\u001b[0;36m4\u001b[0m\u001b[0;34m,\u001b[0m\u001b[0;36m0\u001b[0m\u001b[0;34m,\u001b[0m\u001b[0;36m3\u001b[0m\u001b[0;34m)\u001b[0m\u001b[0;34m,\u001b[0m \u001b[0mseasonal_order\u001b[0m\u001b[0;34m=\u001b[0m\u001b[0;34m(\u001b[0m\u001b[0;36m1\u001b[0m\u001b[0;34m,\u001b[0m\u001b[0;36m1\u001b[0m\u001b[0;34m,\u001b[0m\u001b[0;36m1\u001b[0m\u001b[0;34m,\u001b[0m\u001b[0;36m12\u001b[0m\u001b[0;34m)\u001b[0m\u001b[0;34m)\u001b[0m\u001b[0;34m\u001b[0m\u001b[0m\n\u001b[0m\u001b[1;32m      2\u001b[0m \u001b[0mresults\u001b[0m \u001b[0;34m=\u001b[0m \u001b[0mmod\u001b[0m\u001b[0;34m.\u001b[0m\u001b[0mfit\u001b[0m\u001b[0;34m(\u001b[0m\u001b[0;34m)\u001b[0m\u001b[0;34m\u001b[0m\u001b[0m\n\u001b[1;32m      3\u001b[0m \u001b[0mprint\u001b[0m\u001b[0;34m(\u001b[0m\u001b[0mresults\u001b[0m\u001b[0;34m.\u001b[0m\u001b[0msummary\u001b[0m\u001b[0;34m(\u001b[0m\u001b[0;34m)\u001b[0m\u001b[0;34m)\u001b[0m\u001b[0;34m\u001b[0m\u001b[0m\n",
      "\u001b[0;31mNameError\u001b[0m: name 'sm' is not defined"
     ]
    }
   ],
   "source": [
    "mod = sm.tsa.statespace.SARIMAX(data_arima.dropna()[2000:3000], trend='n', order=(4,0,3), seasonal_order=(1,1,1,12))\n",
    "results = mod.fit()\n",
    "print(results.summary())"
   ]
  },
  {
   "cell_type": "markdown",
   "metadata": {},
   "source": [
    "### Autoregressive Conditionally Heteroskedastic Models - ARCH(p)"
   ]
  },
  {
   "cell_type": "markdown",
   "metadata": {},
   "source": [
    "ARCH(p) models can be thought of as simply an AR(p) model applied to the variance of a time series. Another way to think about it, is that the variance of our time series NOW at time t, is conditional on past observations of the variance in previous periods.\n"
   ]
  },
  {
   "cell_type": "code",
   "execution_count": null,
   "metadata": {
    "collapsed": false
   },
   "outputs": [],
   "source": [
    "# Simulate ARCH(1) series\n",
    "# Var(yt) = a_0 + a_1*y{t-1}**2\n",
    "# if a_1 is between 0 and 1 then yt is white noise\n",
    "\n",
    "np.random.seed(13)\n",
    "\n",
    "a0 = 2\n",
    "a1 = .5\n",
    "\n",
    "y = w = np.random.normal(size=1000)\n",
    "Y = np.empty_like(y)\n",
    "\n",
    "for t in range(len(y)):\n",
    "    Y[t] = w[t] * np.sqrt((a0 + a1*y[t-1]**2))\n",
    "\n",
    "# simulated ARCH(1) series, looks like white noise\n",
    "TS.tsplot(Y, lags=30)\n",
    "plt.show()"
   ]
  },
  {
   "cell_type": "markdown",
   "metadata": {},
   "source": [
    "Notice the ACF, and PACF  seem to show significance at lag 1 indicating an AR(1) model for the variance may be appropriate. "
   ]
  },
  {
   "cell_type": "markdown",
   "metadata": {},
   "source": [
    "### Generalized Autoregressive Conditionally Heteroskedastic Models - GARCH(p,q)"
   ]
  },
  {
   "cell_type": "markdown",
   "metadata": {},
   "source": [
    "Simply put GARCH(p, q)  is an ARMA model applied to the variance of a time series i.e., it has an autoregressive term and a moving average term. The AR(p) models the variance of the residuals (squared errors) or simply our time series squared. The MA(q) portion models the variance of the process."
   ]
  },
  {
   "cell_type": "markdown",
   "metadata": {},
   "source": [
    "Omega (w) is white noise, and alpha and beta are parameters of the model. Also alpha_1 + beta_1 must be less than 1 or the model is unstable. We can simulate a GARCH(1, 1) process below."
   ]
  },
  {
   "cell_type": "code",
   "execution_count": null,
   "metadata": {
    "collapsed": false
   },
   "outputs": [],
   "source": [
    "# Simulating a GARCH(1, 1) process\n",
    "\n",
    "np.random.seed(2)\n",
    "\n",
    "a0 = 0.2\n",
    "a1 = 0.5\n",
    "b1 = 0.3\n",
    "\n",
    "n = 10000\n",
    "w = np.random.normal(size=n)\n",
    "eps = np.zeros_like(w)\n",
    "sigsq = np.zeros_like(w)\n",
    "\n",
    "for i in range(1, n):\n",
    "    sigsq[i] = a0 + a1*(eps[i-1]**2) + b1*sigsq[i-1]\n",
    "    eps[i] = w[i] * np.sqrt(sigsq[i])\n",
    "\n",
    "_ = TS.tsplot(eps, lags=30)\n",
    "plt.show()"
   ]
  },
  {
   "cell_type": "markdown",
   "metadata": {},
   "source": [
    "There is clearly autocorrelation present and the significance of the lags in both the ACF and PACF indicate we need both AR and MA components for our model. Let's see if we can recover our process parameters using a GARCH(1, 1) model. Here we make use of the arch_model function from the ARCH package. "
   ]
  },
  {
   "cell_type": "code",
   "execution_count": null,
   "metadata": {
    "collapsed": false
   },
   "outputs": [],
   "source": [
    "# Fit a GARCH(1, 1) model to our simulated EPS series\n",
    "# We use the arch_model function from the ARCH package\n",
    "\n",
    "am = arch_model(eps)\n",
    "res = am.fit(update_freq=5)\n",
    "p(res.summary())"
   ]
  },
  {
   "cell_type": "markdown",
   "metadata": {},
   "source": [
    "for SPY-\n",
    "Iterate through combinations of ARIMA(p, d, q) models to best fit our time series. \n",
    "Pick the GARCH model orders according to the ARIMA model with lowest AIC.\n",
    "Fit the GARCH(p, q) model to our time series.\n",
    "Examine the model residuals and squared residuals for autocorrelation\n"
   ]
  },
  {
   "cell_type": "code",
   "execution_count": null,
   "metadata": {
    "collapsed": false
   },
   "outputs": [],
   "source": [
    "# Notice I've selected a specific time period to run this analysis\n",
    "TS = lrets.ix[2000:15000]\n",
    "res_tup = _get_best_model(TS)"
   ]
  },
  {
   "cell_type": "code",
   "execution_count": null,
   "metadata": {
    "collapsed": false
   },
   "outputs": [],
   "source": [
    "# Now we can fit the arch model using the best fit arima model parameters\n",
    "\n",
    "p_ = best_order[0]\n",
    "o_ = best_order[1]\n",
    "q_ = best_order[2]\n",
    "\n",
    "# Using student T distribution usually provides better fit\n",
    "am = arch_model(TS, p=p_, o=o_, q=q_, dist='StudentsT')\n",
    "res = am.fit(update_freq=5, disp='off')\n",
    "p(res.summary())"
   ]
  },
  {
   "cell_type": "markdown",
   "metadata": {},
   "source": [
    "THE ARIMA MODEL In econometrics and time series analysis the ARIMA model, an acronym for AutoRegressive Integrated Moving Average, is a model that allows us to better understand the time series data and also predict points in the future. The model is represented as ARIMA(p, d, q) when p, d, q are non negative integers and they represent the number of passes on each individual process of the model.\n",
    "\n",
    "p: corresponds to the “AR” part of the model. An AR(1) is called a first-order auto-regressive model for Y and it defines simple regression with an independent variable being a lagged value of Y(ex Y+1).\n",
    "\n",
    "d: corresponds to the “I” part of the model. An I(1) is called a first-order integrated model and it defines the number of the differentiations of the time series in order to make them stationary. We define stationary series as the series whose mean, variance and autocorrelation are constant over time. Stationary series are easier to predict and stationarity can be approximated by differentiating the data points.\n",
    "\n",
    "q: corresponds to the “MA” part of the model. An MA(1) is called a first-order moving average model and it defined the lagged forecast errors of the prediction equation.\n",
    "\n",
    "#### DIAGNOSTICS\n",
    "STATIONARITY\n",
    "We can test a time series for stationarity using the “Augmented Dickey - Fuller” test. This is a test which executes a null hypothesis testing that there is a unit-root with the alternative hypothesis that there is no unit root. A unit root is a random trend in time series and it adds a negative effect on any attempt of prediction. If the p-value of the ad-fuller test is above a critical limit then we cannot reject the null hypothesis and the presence of a unit root. Statsmodels offers a function to perform the ad-fuller test on a time series which will be used in this experiment.\n",
    "\n",
    "DURBIN WATSON TEST\n",
    "The Durbin-Watsos test is a test statistic which reports the presence of autocorrelation in the time series. As autocorrelation we define the error of a period, transferred to another period. For example the underestimation of some profit for period A causes an underestimation of a profit for period B. This test can returns a value between 0 and 4 with 2 being no autocorrelation and the rest of the values defining the presence of positive autocorrelation (0<2) and negative autocorrelation (2<4)."
   ]
  },
  {
   "cell_type": "markdown",
   "metadata": {},
   "source": [
    "#### What is Time Series Analysis?\n",
    "Firstly, a time series is defined as some quantity that is measured sequentially in time over some interval.\n",
    "\n",
    "In its broadest form, time series analysis is about inferring what has happened to a series of data points in the past and attempting to predict what will happen to it the future.\n",
    "\n",
    "However, we are going to take a quantitative statistical approach to time series, by assuming that our time series are realisations of sequences of random variables. That is, we are going to assume that there is some underlying generating process for our time series based on one or more statistical distributions from which these variables are drawn.\n",
    "\n",
    "Time series analysis attempts to understand the past and predict the future.\n",
    "Such a sequence of random variables is known as a discrete-time stochastic process (DTSP). In quantitative trading we are concerned with attempting to fit statistical models to these DTSPs to infer underlying relationships between series or predict future values in order to generate trading signals.\n",
    "\n",
    "Time series in general, including those outside of the financial world, often contain the following features:\n",
    "\n",
    "##### Trends -\n",
    "A trend is a consistent directional movement in a time series. These trends will either be deterministic or stochastic. The former allows us to provide an underlying rationale for the trend, while the latter is a random feature of a series that we will be unlikely to explain. Trends often appear in financial series, particularly commodities prices, and many Commodity Trading Advisor (CTA) funds use sophisticated trend identification models in their trading algorithms.\n",
    "##### Seasonal Variation -\n",
    "Many time series contain seasonal variation. This is particularly true in series representing business sales or climate levels. In quantitative finance we often see seasonal variation in commodities, particularly those related to growing seasons or annual temperature variation (such as natural gas).\n",
    "##### Serial Dependence - \n",
    "One of the most important characteristics of time series, particularly financial series, is that of serial correlation. This occurs when time series observations that are close together in time tend to be correlated. Volatility clustering is one aspect of serial correlation that is particularly important in quantitative trading."
   ]
  },
  {
   "cell_type": "markdown",
   "metadata": {},
   "source": [
    "We will be in a position to create some sophisticated modern models for examining high-frequency data.\n",
    "\n",
    "##### Time Series Introduction - \n",
    "This article outlines the area of time series analysis, its scope and how it can be applied to financial data.\n",
    "Correlation - An absolutely fundamental aspect of modeling time series is the concept of serial correlation. We will define it and describe one of the biggest pitfalls of time series analysis, namely that \"correlation does not imply causation\".\n",
    "##### Forecasting - \n",
    "In this section we will consider the concept of forecasting, that is making predictions of future direction or level for a particular time series, and how it is carried out in practice.\n",
    "Stochastic Models - We have spent some time considering stochastic models in the field of options pricing on the site, namely with Geometric Brownian Motion and Stochastic Volatility. We will be looking at other models, including white noise and autoregressive models.\n",
    "##### Regression - \n",
    "When we have deterministic (as opposed to stochastic) trends in the data we can justify their extrapolation using regression models. We will consider both linear and non-linear regression, and account for serial correlation.\n",
    "Stationary Models - Stationary models assume that the statistical properties (namely the mean and variance) of the series are constant in time. We can use Moving Average (MA) models, as well as combine them with autoregressive models to form ARMA models.\n",
    "##### Non-Stationary Models - \n",
    "Many financial time series are non-stationary, that is they have varying mean and variance. In particular, asset prices often have periods of high-volatility. For these series we need to use non-stationary models such as ARIMA, ARCH and GARCH.\n",
    "##### Multivariate Modeling - \n",
    "We have considered multivariate models on QuantStart in the past, namely when we considered mean-reverting pairs of equities. In this section we will more rigourously define cointegration and look at further tests for it. We will also consider vector autoregressive (VAR) models [not to be confused with Value-at-Risk!].\n",
    "##### State-Space Models - \n",
    "State Space Modelling borrows a long history of modern control theory used in engineering in order to allow us to model time series with rapidly varying parameters (such as the ββ slope variable between two cointegrated assets in a linear regression). In particular, we will consider the famous Kalman Filter and the Hidden Markov Model. This will be one of the major uses of Bayesian analysis in time series."
   ]
  },
  {
   "cell_type": "markdown",
   "metadata": {},
   "source": [
    "### serial correlation (also known as autocorrelation).\n",
    "When we are given one or more financial time series we are primarily interested in forecasting or simulating data. It is relatively straightforward to identify deterministic trends as well as seasonal variation and decompose a series into these components. However, once such a time series has been decomposed we are left with a random component.\n",
    "\n",
    "Sometimes such a time series can be well modelled by independent random variables. However, there are many situations, particularly in finance, where consecutive elements of this random component time series will possess correlation. That is, the behaviour of sequential points in the remaining series affect each other in a dependent manner. One major example occurs in mean-reverting pairs trading. Mean-reversion shows up as correlation between sequential variables in time series.\n",
    "\n",
    "Our task as quantitative modellers is to try and identify the structure of these correlations, as they will allow us to markedly improve our forecasts and thus the potential profitability of a strategy. In addition identifying the correlation structure will improve the realism of any simulated time series based on the model. This is extremely useful for improving the effectiveness of risk management components of the strategy implementation.\n",
    "\n",
    "When sequential observations of a time series are correlated in the manner described above we say that serial correlation (or autocorrelation) exists in the time series.\n",
    "\n",
    "Expectation=mu, covariance and Correlation are important to know\n",
    "\n",
    "Essentially when we model a time series we decompose the series into three components: trend, seasonal/cyclical, and random. The random component is called the residual or error. It is simply the difference between our predicted value(s) and the observed value(s). Serial correlation is when the residuals (errors) of our TS models are correlated with each other. "
   ]
  },
  {
   "cell_type": "markdown",
   "metadata": {},
   "source": [
    "#### White Noise and Random Walks\n",
    "By definition a time series that is a white noise process has serially UNcorrelated errors and the expected mean of those errors is equal to zero. Another description for serially uncorrelated errors is, independent and identically distributed (i.i.d.). This is important because, if our TSM is appropriate and successful at capturing the underlying process, the residuals of our model will be i.i.d. and resemble a white noise process. Therefore part of TSA is literally trying to fit a model to the time series such that the residual series is indistinguishable from white noise."
   ]
  },
  {
   "cell_type": "markdown",
   "metadata": {},
   "source": [
    "### REF\n",
    "    http://www.blackarbs.com/blog/time-series-analysis-in-python-linear-models-to-garch/11/1/2016\n",
    "    https://www.quantstart.com/articles#time-series-analysis"
   ]
  },
  {
   "cell_type": "markdown",
   "metadata": {
    "collapsed": true
   },
   "source": [
    "    http://www.blackarbs.com/blog/time-series-analysis-in-python-linear-models-to-garch/11/1/2016\n",
    "    https://medium.com/@kangeugine/time-series-arima-model-11140bc08c6\n",
    "    https://tomaugspurger.github.io/modern-7-timeseries\n",
    "    http://www.dms.umontreal.ca/~duchesne/chap7.pdf\n",
    "    http://hamelg.blogspot.in/2015/11/python-for-data-analysis-part-24.html\n",
    "    https://stats.stackexchange.com/questions/148004/testing-for-autocorrelation-ljung-box-versus-breusch-godfrey\n",
    "    http://ucanalytics.com/blogs/how-effective-is-my-marketing-budget-regression-with-arima-errors-arimax-case-study-example-part-5/\n",
    "    https://github.com/seanabu/seanabu.github.io/blob/master/_posts/2016-03-22-time-series-seasonal-ARIMA-model-in-python.markdown\n",
    "    https://github.com/topics/arima\n",
    "    https://github.com/topics/arima-model\n",
    "    https://github.com/sdasadia/Oil-Price-Prediction\n",
    "    https://github.com/rouseguy/TimeSeriesAnalysiswithPython/tree/master/time_series\n",
    "    https://github.com/topics/forecasting-models\n",
    "    https://github.com/statsmodels/statsmodels\n",
    "    http://www.statsmodels.org/stable/\n",
    "    https://www.quantinsti.com/blog/forecasting-stock-returns-using-arima-model/\n",
    "    https://machinelearningmastery.com/time-series-forecast-study-python-monthly-sales-french-champagne/\n",
    "    https://www.analyticsvidhya.com/blog/2016/02/time-series-forecasting-codes-python/\n",
    "    http://www.agounaris.eu/posts/2017/05/01/stock-symbol-time-series-analysis-and-prediction-with-arima-model.html\n",
    "    https://ec.europa.eu/eurostat/sa-elearning/seasonality-tests\n",
    "    http://cs.bme.hu/~adam.zlatniczki/education/stockforecast/08_volatility_modelling.py\n",
    "    https://www.kaggle.com/berhag/co2-emission-forecast-with-python-seasonal-arima\n",
    "    https://conference.scipy.org/scipy2011/slides/mckinney_time_series.pdf\n",
    "    http://www.statsmodels.org/dev/generated/statsmodels.tsa.arima_model.ARMAResults.html\n",
    "    http://dacatay.com/data-science/part-3-time-series-stationarity-python/\n",
    "    file:///home/octo/Downloads/holtwintersv1change_tcm77-238155.pdf\n",
    "    https://www.kevinsheppard.com/images/b/b3/Python_introduction-2016.pdf\n",
    "    https://stackoverflow.com/questions/31402734/python-automatically-choose-parameters-for-arma-model\n",
    "    "
   ]
  },
  {
   "cell_type": "code",
   "execution_count": null,
   "metadata": {
    "collapsed": true
   },
   "outputs": [],
   "source": []
  }
 ],
 "metadata": {
  "kernelspec": {
   "display_name": "Python 3",
   "language": "python",
   "name": "python3"
  },
  "language_info": {
   "codemirror_mode": {
    "name": "ipython",
    "version": 3
   },
   "file_extension": ".py",
   "mimetype": "text/x-python",
   "name": "python",
   "nbconvert_exporter": "python",
   "pygments_lexer": "ipython3",
   "version": "3.5.2"
  },
  "widgets": {
   "state": {},
   "version": "1.1.2"
  }
 },
 "nbformat": 4,
 "nbformat_minor": 2
}
