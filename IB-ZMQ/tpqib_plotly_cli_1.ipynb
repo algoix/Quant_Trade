{
 "cells": [
  {
   "cell_type": "code",
   "execution_count": 19,
   "metadata": {
    "collapsed": true
   },
   "outputs": [],
   "source": [
    "import zmq\n",
    "import json\n",
    "import datetime\n",
    "\n",
    "# plotly imports\n",
    "import plotly.plotly as py\n",
    "from plotly.graph_objs import *\n",
    "# register under http://plot.ly and replace credentials by yours\n",
    "# py.sign_in('Python-Demo-Account', 'gwt101uhh0')\n",
    "pcreds = json.load(open('/home/octo/creds/plotly_creds.json', 'r'))\n",
    "py.sign_in(pc['username'],pc['api_key'])\n",
    "\n",
    "times = []\n",
    "quotes = []\n",
    "i = 0"
   ]
  },
  {
   "cell_type": "code",
   "execution_count": 20,
   "metadata": {
    "collapsed": true
   },
   "outputs": [],
   "source": [
    "# plotly preparations\n",
    "\n",
    "# get stream id from stream id list\n",
    "stream_ids = pcreds['stream_ids']\n",
    "\n",
    "# generate Stream object\n",
    "stream_0 = Stream(\n",
    "    token=stream_ids[0],\n",
    "    maxpoints=150)\n",
    "\n",
    "# generate Scatter & Data objects\n",
    "trace0 = Scatter(\n",
    "    x=[], y=[],\n",
    "    mode='lines+markers',\n",
    "    stream=stream_0,\n",
    "    name='price')\n",
    "\n",
    "dats = Data([trace0])\n",
    "\n",
    "# generate figure object\n",
    "layout = Layout(title=' ')\n",
    "fig = Figure(data=dats, layout=layout)\n",
    "unique_url = py.plot(fig, filename='stream_plot', auto_open=False)"
   ]
  },
  {
   "cell_type": "code",
   "execution_count": 21,
   "metadata": {
    "collapsed": false
   },
   "outputs": [
    {
     "name": "stdout",
     "output_type": "stream",
     "text": [
      "URL of the streaming plot:\n",
      "https://plot.ly/~parthasen/16\n"
     ]
    }
   ],
   "source": [
    "print('URL of the streaming plot:\\n%s' % unique_url)"
   ]
  },
  {
   "cell_type": "code",
   "execution_count": 22,
   "metadata": {
    "collapsed": false
   },
   "outputs": [
    {
     "name": "stdout",
     "output_type": "stream",
     "text": [
      "Collecting & plotting stock prices.\n",
      "SPY price is 245.28\n",
      "SPY price is 245.27\n",
      "SPY price is 245.28\n",
      "SPY price is 245.27\n",
      "SPY price is 245.28\n",
      "SPY price is 245.27\n",
      "SPY price is 245.28\n",
      "SPY price is 245.27\n",
      "SPY price is 245.28\n",
      "SPY price is 245.27\n",
      "SPY price is 245.26\n",
      "SPY price is 245.27\n",
      "SPY price is 245.28\n",
      "SPY price is 245.27\n",
      "SPY price is 245.28\n",
      "SPY price is 245.27\n",
      "SPY price is 245.28\n",
      "SPY price is 245.29\n",
      "SPY price is 245.28\n",
      "SPY price is 245.27\n",
      "SPY price is 245.28\n",
      "SPY price is 245.27\n",
      "SPY price is 245.28\n",
      "SPY price is 245.29\n",
      "SPY price is 245.3\n",
      "SPY price is 245.29\n",
      "SPY price is 245.28\n",
      "SPY price is 245.27\n",
      "SPY price is 245.26\n",
      "SPY price is 245.27\n",
      "SPY price is 245.28\n",
      "SPY price is 245.27\n",
      "SPY price is 245.26\n",
      "SPY price is 245.27\n",
      "SPY price is 245.26\n",
      "SPY price is 245.24\n",
      "SPY price is 245.25\n",
      "SPY price is 245.26\n",
      "SPY price is 245.27\n",
      "SPY price is 245.26\n",
      "SPY price is 245.25\n",
      "SPY price is 245.24\n",
      "SPY price is 245.25\n",
      "SPY price is 245.24\n",
      "SPY price is 245.25\n",
      "SPY price is 245.26\n",
      "SPY price is 245.27\n",
      "SPY price is 245.28\n",
      "SPY price is 245.29\n",
      "SPY price is 245.3\n",
      "SPY price is 245.29\n",
      "SPY price is 245.3\n",
      "SPY price is 245.31\n",
      "SPY price is 245.3\n",
      "SPY price is 245.29\n",
      "SPY price is 245.28\n",
      "SPY price is 245.27\n",
      "SPY price is 245.26\n",
      "SPY price is 245.24\n",
      "SPY price is 245.23\n",
      "SPY price is 245.26\n",
      "SPY price is 245.25\n",
      "SPY price is 245.24\n",
      "SPY price is 245.23\n",
      "SPY price is 245.22\n",
      "SPY price is 245.21\n",
      "SPY price is 245.23\n",
      "SPY price is 245.22\n",
      "SPY price is 245.21\n",
      "SPY price is 245.2\n",
      "SPY price is 245.21\n",
      "SPY price is 245.2\n",
      "SPY price is 245.21\n",
      "SPY price is 245.22\n",
      "SPY price is 245.21\n",
      "SPY price is 245.2\n",
      "SPY price is 245.22\n",
      "SPY price is 245.21\n",
      "SPY price is 245.2\n",
      "SPY price is 245.19\n",
      "SPY price is 245.18\n",
      "SPY price is 245.19\n",
      "SPY price is 245.2\n",
      "SPY price is 245.19\n",
      "SPY price is 245.18\n",
      "SPY price is 245.19\n",
      "SPY price is 245.2\n",
      "SPY price is 245.19\n",
      "SPY price is 245.2\n",
      "SPY price is 245.19\n",
      "SPY price is 245.2\n",
      "SPY price is 245.19\n",
      "SPY price is 245.2\n",
      "SPY price is 245.19\n",
      "SPY price is 245.2\n",
      "SPY price is 245.21\n",
      "SPY price is 245.22\n",
      "SPY price is 245.21\n",
      "SPY price is 245.22\n",
      "SPY price is 245.21\n"
     ]
    }
   ],
   "source": [
    "port = \"7000\"\n",
    "\n",
    "# socket to talk to server\n",
    "context = zmq.Context()\n",
    "socket = context.socket(zmq.SUB)\n",
    "\n",
    "print (\"Collecting & plotting stock prices.\")\n",
    "socket.connect(\"tcp://localhost:%s\" % port)\n",
    "\n",
    "socket.setsockopt_string(zmq.SUBSCRIBE, u'SPY')\n",
    "\n",
    "s0 = py.Stream(stream_ids[0])\n",
    "s0.open()\n",
    "\n",
    "# process 100 updates\n",
    "for _ in range(100):\n",
    "    string = socket.recv_string()\n",
    "    sym, spy = string.split()\n",
    "    print (\"%s price is %s\" % (sym,spy))\n",
    "    dt = datetime.datetime.now()\n",
    "    s0.write({'x': str(dt)[11:-3], 'y': float(spy)})"
   ]
  },
  {
   "cell_type": "code",
   "execution_count": null,
   "metadata": {
    "collapsed": true
   },
   "outputs": [],
   "source": []
  }
 ],
 "metadata": {
  "kernelspec": {
   "display_name": "Python 3",
   "language": "python",
   "name": "python3"
  },
  "language_info": {
   "codemirror_mode": {
    "name": "ipython",
    "version": 3
   },
   "file_extension": ".py",
   "mimetype": "text/x-python",
   "name": "python",
   "nbconvert_exporter": "python",
   "pygments_lexer": "ipython3",
   "version": "3.5.2"
  },
  "widgets": {
   "state": {},
   "version": "1.1.2"
  }
 },
 "nbformat": 4,
 "nbformat_minor": 2
}
