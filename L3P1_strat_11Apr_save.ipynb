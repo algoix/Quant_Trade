{
 "cells": [
  {
   "cell_type": "code",
   "execution_count": 1,
   "metadata": {
    "collapsed": false
   },
   "outputs": [
    {
     "name": "stderr",
     "output_type": "stream",
     "text": [
      "/home/octo/anaconda2/envs/carnd-term1/lib/python3.5/site-packages/statsmodels/compat/pandas.py:56: FutureWarning: The pandas.core.datetools module is deprecated and will be removed in a future version. Please use the pandas.tseries module instead.\n",
      "  from pandas.core import datetools\n",
      "/home/octo/anaconda2/envs/carnd-term1/lib/python3.5/site-packages/sklearn/base.py:311: UserWarning: Trying to unpickle estimator LinearRegression from version 0.18 when using version 0.19.1. This might lead to breaking code or invalid results. Use at your own risk.\n",
      "  UserWarning)\n",
      "/home/octo/anaconda2/envs/carnd-term1/lib/python3.5/site-packages/sklearn/base.py:311: UserWarning: Trying to unpickle estimator SVR from version 0.18 when using version 0.19.1. This might lead to breaking code or invalid results. Use at your own risk.\n",
      "  UserWarning)\n",
      "/home/octo/anaconda2/envs/carnd-term1/lib/python3.5/site-packages/sklearn/base.py:311: UserWarning: Trying to unpickle estimator SVC from version 0.18 when using version 0.19.1. This might lead to breaking code or invalid results. Use at your own risk.\n",
      "  UserWarning)\n",
      "/home/octo/anaconda2/envs/carnd-term1/lib/python3.5/site-packages/sklearn/base.py:311: UserWarning: Trying to unpickle estimator LogisticRegression from version 0.18 when using version 0.19.1. This might lead to breaking code or invalid results. Use at your own risk.\n",
      "  UserWarning)\n",
      "Using TensorFlow backend.\n"
     ]
    }
   ],
   "source": [
    "#import processing\n",
    "import ds\n",
    "import ml\n",
    "import model_saving\n",
    "import TS\n",
    "import TA\n",
    "# Load the necessary packages and modules\n",
    "#from pandas_datareader import data as pdr\n",
    "import matplotlib.pyplot as plt\n",
    "import pandas as pd\n",
    "import numpy\n",
    "import numpy as np\n",
    "import math as m\n",
    "import talib\n",
    "import pickle\n",
    "from sklearn import svm\n",
    "\n",
    "from hmmlearn.hmm import GaussianHMM\n",
    "from sklearn.externals import joblib"
   ]
  },
  {
   "cell_type": "code",
   "execution_count": 2,
   "metadata": {
    "collapsed": true
   },
   "outputs": [],
   "source": [
    "filename_train ='/home/octo/Dropbox'+ '/SPY10Apr.csv'"
   ]
  },
  {
   "cell_type": "code",
   "execution_count": 1,
   "metadata": {
    "collapsed": true
   },
   "outputs": [],
   "source": [
    "# loading csv file\n",
    "def get_csv_pd(path):\n",
    "    spy_pd=pd.read_csv(path,sep=',',dtype={'askPrice':np.float32,'askSize':np.float32,\n",
    "                                           'bidPrice':np.float32,'bidSize':np.float32},index_col=0,parse_dates=True)\n",
    "    return spy_pd\n",
    "def BA(df):\n",
    "    df.bidPrice=df.loc[:,'bidPrice'].replace(to_replace=0, method='ffill')\n",
    "    df.bidSize=df.loc[:,'bidSize'].replace(to_replace=0, method='ffill')\n",
    "    df.askPrice=df.loc[:,'askPrice'].replace(to_replace=0, method='ffill')\n",
    "    df.askSize=df.loc[:,'askSize'].replace(to_replace=0, method='ffill')\n",
    "    df=df[df['bidPrice']>df.bidPrice.mean()-df.bidPrice.std()]\n",
    "    df=df[df['askPrice']>df.askPrice.mean()-df.askPrice.std()]\n",
    "    df=df.dropna()\n",
    "    return df\n",
    "def processing(df):\n",
    "    df['Open']=(df.askPrice+df.bidPrice)/2\n",
    "    df['Close']=df.Open.shift(-1)\n",
    "    df['High']=df.askPrice.rolling(6).max()\n",
    "    df['Low']=df.bidPrice.rolling(6).min()\n",
    "    df['Volume']=df.askSize+df.bidSize\n",
    "    df['vwap']=((df.loc[:,'bidPrice']*df.loc[:,'bidSize'])+(df.loc[:,'askPrice']*df.loc[:,'askSize']))/(df.loc[:,'bidSize']+df.loc[:,'askSize'])\n",
    "    df=df.dropna()\n",
    "    return df\n",
    "def tech_ind(data):\n",
    "    data['km']=ml.kalman_ma(data)\n",
    "    data['rsi']=talib.RSI(np.array(data.Close.astype('float64')),timeperiod=6)\n",
    "    data['atr']=talib.ATR(np.array(data.High.astype('float64')),np.array(data.Low.astype('float64')),np.array(data.Close.astype  ('float64')),timeperiod=6)\n",
    "    data['mom']=talib.MOM(np.array(data.Close.astype('float64')), timeperiod=6)# mom consists 0\n",
    "    return data\n"
   ]
  },
  {
   "cell_type": "code",
   "execution_count": 28,
   "metadata": {
    "collapsed": false
   },
   "outputs": [],
   "source": [
    "data=get_csv_pd(filename_train)\n",
    "data=BA(data)\n",
    "data=processing(data)\n",
    "data=tech_ind(data)\n",
    "data=data.drop(['Stock'], axis=1)\n",
    "data=(data-data.rolling(6).mean())\n",
    "data['UD']=np.where(np.logical_and(data.Close.diff(6)>0.005,data.askPrice>data.km*1.001),1,np.where(np.logical_and(data.Close.diff(6)<-0.005,data.bidPrice<data.km*0.999),-1,0))\n",
    "data['U']=np.where(np.logical_and(data.Close.diff(6)>0.005,data.askPrice>data.km*1.001),1,0)\n",
    "data['D']=np.where(np.logical_and(data.Close.diff(6)<-0.005,data.bidPrice<data.km*0.999),-1,0)\n",
    "data=data[['askPrice','bidPrice','High','Low','Volume','vwap','rsi','atr','mom','UD','U','D']]\n",
    "data=data.astype('float64')\n",
    "data=data.dropna()"
   ]
  },
  {
   "cell_type": "code",
   "execution_count": 7,
   "metadata": {
    "collapsed": false
   },
   "outputs": [],
   "source": [
    "#len(data)"
   ]
  },
  {
   "cell_type": "code",
   "execution_count": 31,
   "metadata": {
    "collapsed": false
   },
   "outputs": [],
   "source": [
    "#data.head()"
   ]
  },
  {
   "cell_type": "code",
   "execution_count": null,
   "metadata": {
    "collapsed": false
   },
   "outputs": [],
   "source": [
    "#data.tail()"
   ]
  },
  {
   "cell_type": "code",
   "execution_count": 29,
   "metadata": {
    "collapsed": false
   },
   "outputs": [
    {
     "name": "stdout",
     "output_type": "stream",
     "text": [
      "UD\n",
      "-1.00000    15445\n",
      "0.00000     46288\n",
      "1.00000     11622\n",
      "dtype: int64\n"
     ]
    }
   ],
   "source": [
    "print(data.groupby('UD').size())"
   ]
  },
  {
   "cell_type": "markdown",
   "metadata": {},
   "source": [
    "## state analysis"
   ]
  },
  {
   "cell_type": "code",
   "execution_count": 32,
   "metadata": {
    "collapsed": false
   },
   "outputs": [
    {
     "name": "stdout",
     "output_type": "stream",
     "text": [
      "fitting to HMM and decoding ..."
     ]
    },
    {
     "data": {
      "text/plain": [
       "GaussianHMM(algorithm='viterbi', covariance_type='full', covars_prior=0.01,\n",
       "      covars_weight=1, init_params='stmc', means_prior=0, means_weight=0,\n",
       "      min_covar=0.001, n_components=3, n_iter=1000, params='stmc',\n",
       "      random_state=None, startprob_prior=1.0, tol=0.01, transmat_prior=1.0,\n",
       "      verbose=False)"
      ]
     },
     "execution_count": 32,
     "metadata": {},
     "output_type": "execute_result"
    }
   ],
   "source": [
    "from hmmlearn.hmm import GaussianHMM\n",
    "print(\"fitting to HMM and decoding ...\", end=\"\")\n",
    "# Make an HMM instance and execute fit\n",
    "model_hmm = GaussianHMM(n_components=3, covariance_type=\"full\", n_iter=1000)\n",
    "#model_hmm.fit(data[['Volume','vwap','km','rsi', 'atr','mom']])\n",
    "model_hmm.fit(data[['askPrice','bidPrice','High','Low','Volume','vwap','rsi','atr','mom']])"
   ]
  },
  {
   "cell_type": "code",
   "execution_count": 33,
   "metadata": {
    "collapsed": false
   },
   "outputs": [
    {
     "data": {
      "text/plain": [
       "['markov_hmm.pkl']"
      ]
     },
     "execution_count": 33,
     "metadata": {},
     "output_type": "execute_result"
    }
   ],
   "source": [
    "from sklearn.externals import joblib\n",
    "joblib.dump(model_hmm, \"markov_hmm.pkl\")"
   ]
  },
  {
   "cell_type": "markdown",
   "metadata": {},
   "source": [
    "## SMOTE"
   ]
  },
  {
   "cell_type": "code",
   "execution_count": 37,
   "metadata": {
    "collapsed": true
   },
   "outputs": [],
   "source": [
    "import numpy as np\n",
    "import pandas as pd\n",
    "from sklearn.ensemble import RandomForestClassifier\n",
    "from sklearn.model_selection import train_test_split\n",
    "from sklearn.metrics import recall_score\n",
    "from imblearn.over_sampling import SMOTE"
   ]
  },
  {
   "cell_type": "code",
   "execution_count": null,
   "metadata": {
    "collapsed": false
   },
   "outputs": [],
   "source": [
    "sm = SMOTE(random_state=14, ratio ='minority')\n",
    "X_o,Y_o = sm.fit_sample(X,Y)"
   ]
  },
  {
   "cell_type": "markdown",
   "metadata": {},
   "source": [
    "## Bayes"
   ]
  },
  {
   "cell_type": "code",
   "execution_count": 44,
   "metadata": {
    "collapsed": true
   },
   "outputs": [],
   "source": [
    "import numpy as np\n",
    "import sklearn\n",
    "from sklearn.naive_bayes import BernoulliNB\n",
    "#from sklearn.naive_bayes import GaussianNB"
   ]
  },
  {
   "cell_type": "code",
   "execution_count": 45,
   "metadata": {
    "collapsed": true
   },
   "outputs": [],
   "source": [
    "X=data[['askPrice','bidPrice','High','Low','Volume','vwap','rsi','atr','mom']]\n",
    "Yu=data.U\n",
    "Yd=data.D"
   ]
  },
  {
   "cell_type": "markdown",
   "metadata": {},
   "source": [
    "### UP"
   ]
  },
  {
   "cell_type": "code",
   "execution_count": 46,
   "metadata": {
    "collapsed": false
   },
   "outputs": [],
   "source": [
    "sm = SMOTE(random_state=14, ratio ='minority')\n",
    "X_o,Y_o = sm.fit_sample(X,Yu)"
   ]
  },
  {
   "cell_type": "code",
   "execution_count": 47,
   "metadata": {
    "collapsed": false
   },
   "outputs": [
    {
     "data": {
      "text/plain": [
       "BernoulliNB(alpha=1.0, binarize=0.0, class_prior=None, fit_prior=True)"
      ]
     },
     "execution_count": 47,
     "metadata": {},
     "output_type": "execute_result"
    }
   ],
   "source": [
    "bnb = BernoulliNB()\n",
    "bnb.fit(X_o, Y_o)"
   ]
  },
  {
   "cell_type": "code",
   "execution_count": 49,
   "metadata": {
    "collapsed": true
   },
   "outputs": [],
   "source": [
    "filename_nb = 'nbU.sav'\n",
    "pickle.dump(bnb, open(filename_nb, 'wb'))"
   ]
  },
  {
   "cell_type": "markdown",
   "metadata": {},
   "source": [
    "### Dn"
   ]
  },
  {
   "cell_type": "code",
   "execution_count": 50,
   "metadata": {
    "collapsed": true
   },
   "outputs": [],
   "source": [
    "sm = SMOTE(random_state=15, ratio ='minority')\n",
    "X_o,Y_o = sm.fit_sample(X,Yd)"
   ]
  },
  {
   "cell_type": "code",
   "execution_count": 51,
   "metadata": {
    "collapsed": false
   },
   "outputs": [
    {
     "data": {
      "text/plain": [
       "BernoulliNB(alpha=1.0, binarize=0.0, class_prior=None, fit_prior=True)"
      ]
     },
     "execution_count": 51,
     "metadata": {},
     "output_type": "execute_result"
    }
   ],
   "source": [
    "bnb = BernoulliNB()\n",
    "bnb.fit(X_o, Y_o)"
   ]
  },
  {
   "cell_type": "code",
   "execution_count": 52,
   "metadata": {
    "collapsed": true
   },
   "outputs": [],
   "source": [
    "filename_nb = 'nbD.sav'\n",
    "pickle.dump(bnb, open(filename_nb, 'wb'))"
   ]
  },
  {
   "cell_type": "markdown",
   "metadata": {},
   "source": [
    "## outlier"
   ]
  },
  {
   "cell_type": "code",
   "execution_count": 55,
   "metadata": {
    "collapsed": false
   },
   "outputs": [
    {
     "data": {
      "text/plain": [
       "OneClassSVM(cache_size=200, coef0=4.0, degree=3, gamma='auto', kernel='poly',\n",
       "      max_iter=-1, nu=0.05, random_state=None, shrinking=True, tol=0.001,\n",
       "      verbose=False)"
      ]
     },
     "execution_count": 55,
     "metadata": {},
     "output_type": "execute_result"
    }
   ],
   "source": [
    "#outlier = svm.OneClassSVM(nu=0.05, kernel=\"rbf\", gamma=0.1)\n",
    "outlier = svm.OneClassSVM(kernel=\"poly\", degree=3, gamma=\"auto\", coef0=4.0, tol=0.001, nu=0.05, shrinking=True, cache_size=200, verbose=False, max_iter=-1, random_state=None)\n",
    "outlier.fit(data[['askPrice','bidPrice','High','Low','Volume','vwap','rsi','atr','mom']])"
   ]
  },
  {
   "cell_type": "code",
   "execution_count": 56,
   "metadata": {
    "collapsed": true
   },
   "outputs": [],
   "source": [
    "filename_outlr = 'outlr.sav'\n",
    "pickle.dump(outlier, open(filename_outlr, 'wb'))"
   ]
  },
  {
   "cell_type": "markdown",
   "metadata": {},
   "source": [
    "## RF for UD"
   ]
  },
  {
   "cell_type": "code",
   "execution_count": 57,
   "metadata": {
    "collapsed": true
   },
   "outputs": [],
   "source": [
    "X=data[['askPrice','bidPrice','High','Low','Volume','vwap','rsi','atr','mom']]\n",
    "Y=data.UD"
   ]
  },
  {
   "cell_type": "code",
   "execution_count": 58,
   "metadata": {
    "collapsed": true
   },
   "outputs": [],
   "source": [
    "sm = SMOTE(random_state=11, ratio ='minority')\n",
    "X_o,Y_o = sm.fit_sample(X,Y)"
   ]
  },
  {
   "cell_type": "code",
   "execution_count": 59,
   "metadata": {
    "collapsed": false
   },
   "outputs": [
    {
     "data": {
      "text/plain": [
       "RandomForestClassifier(bootstrap=True, class_weight=None, criterion='gini',\n",
       "            max_depth=None, max_features=6, max_leaf_nodes=None,\n",
       "            min_impurity_decrease=0.0, min_impurity_split=None,\n",
       "            min_samples_leaf=1, min_samples_split=2,\n",
       "            min_weight_fraction_leaf=0.0, n_estimators=9, n_jobs=1,\n",
       "            oob_score=False, random_state=15, verbose=0, warm_start=False)"
      ]
     },
     "execution_count": 59,
     "metadata": {},
     "output_type": "execute_result"
    }
   ],
   "source": [
    "SEED=15\n",
    "rf = RandomForestClassifier(\n",
    "    n_estimators=9,\n",
    "    max_features=6,\n",
    "    random_state=SEED\n",
    ")\n",
    "\n",
    "rf.fit(X_o,Y_o)"
   ]
  },
  {
   "cell_type": "code",
   "execution_count": 60,
   "metadata": {
    "collapsed": true
   },
   "outputs": [],
   "source": [
    "filename_rf = 'rf.sav'\n",
    "pickle.dump(rf, open(filename_rf, 'wb'))"
   ]
  },
  {
   "cell_type": "code",
   "execution_count": 61,
   "metadata": {
    "collapsed": false
   },
   "outputs": [
    {
     "name": "stdout",
     "output_type": "stream",
     "text": [
      "0.9627968538995711\n"
     ]
    }
   ],
   "source": [
    "# Kfold validation\n",
    "import pandas\n",
    "from sklearn import model_selection\n",
    "from sklearn.ensemble import RandomForestClassifier\n",
    "\n",
    "kfold = model_selection.KFold(n_splits=20, random_state=SEED)\n",
    "#results = model_selection.cross_val_score(rf, X_o,Y_o, cv=kfold)\n",
    "results = model_selection.cross_val_score(rf, X,Y, cv=kfold)\n",
    "print(results.mean())"
   ]
  },
  {
   "cell_type": "markdown",
   "metadata": {},
   "source": [
    "## Gradient Boosting for UD"
   ]
  },
  {
   "cell_type": "code",
   "execution_count": 62,
   "metadata": {
    "collapsed": true
   },
   "outputs": [],
   "source": [
    "# Stochastic Gradient Boosting Classification\n",
    "import pandas\n",
    "from sklearn import model_selection\n",
    "from sklearn.ensemble import GradientBoostingClassifier"
   ]
  },
  {
   "cell_type": "code",
   "execution_count": 63,
   "metadata": {
    "collapsed": false
   },
   "outputs": [
    {
     "data": {
      "text/plain": [
       "GradientBoostingClassifier(criterion='friedman_mse', init=None,\n",
       "              learning_rate=0.1, loss='deviance', max_depth=3,\n",
       "              max_features=None, max_leaf_nodes=None,\n",
       "              min_impurity_decrease=0.0, min_impurity_split=None,\n",
       "              min_samples_leaf=1, min_samples_split=2,\n",
       "              min_weight_fraction_leaf=0.0, n_estimators=9, presort='auto',\n",
       "              random_state=7, subsample=1.0, verbose=0, warm_start=False)"
      ]
     },
     "execution_count": 63,
     "metadata": {},
     "output_type": "execute_result"
    }
   ],
   "source": [
    "seed = 7\n",
    "num_trees = 9\n",
    "#kfold = model_selection.KFold(n_splits=20, random_state=seed)\n",
    "gb = GradientBoostingClassifier(n_estimators=num_trees, random_state=seed)\n",
    "#results = model_selection.cross_val_score(model, X, Y, cv=kfold)\n",
    "#print(results.mean())\n",
    "gb.fit(X,Y)"
   ]
  },
  {
   "cell_type": "code",
   "execution_count": 64,
   "metadata": {
    "collapsed": true
   },
   "outputs": [],
   "source": [
    "filename_gb = 'gb.sav'\n",
    "pickle.dump(gb, open(filename_gb, 'wb'))"
   ]
  },
  {
   "cell_type": "markdown",
   "metadata": {},
   "source": []
  }
 ],
 "metadata": {
  "kernelspec": {
   "display_name": "Python 3",
   "language": "python",
   "name": "python3"
  },
  "language_info": {
   "codemirror_mode": {
    "name": "ipython",
    "version": 3
   },
   "file_extension": ".py",
   "mimetype": "text/x-python",
   "name": "python",
   "nbconvert_exporter": "python",
   "pygments_lexer": "ipython3",
   "version": "3.5.2"
  }
 },
 "nbformat": 4,
 "nbformat_minor": 1
}
