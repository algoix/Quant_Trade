{
 "cells": [
  {
   "cell_type": "markdown",
   "metadata": {},
   "source": [
    "https://github.com/parthasen/ALGO/new/LSTM\n",
    "\n",
    "https://www.tensorflow.org/tutorials/recurrent"
   ]
  },
  {
   "cell_type": "code",
   "execution_count": 1,
   "metadata": {
    "collapsed": true
   },
   "outputs": [],
   "source": [
    "from __future__ import absolute_import\n",
    "from __future__ import division\n",
    "from __future__ import print_function"
   ]
  },
  {
   "cell_type": "code",
   "execution_count": 2,
   "metadata": {
    "collapsed": true
   },
   "outputs": [],
   "source": [
    "#import pandas_datareader.data as pdr_data\n",
    "import numpy as np\n",
    "import pandas as pd\n",
    "import time\n",
    "import os\n",
    "import sys\n",
    "from collections import deque"
   ]
  },
  {
   "cell_type": "code",
   "execution_count": 3,
   "metadata": {
    "collapsed": true
   },
   "outputs": [],
   "source": [
    "from collections import OrderedDict\n",
    "import copy\n",
    "#import cPickle as pkl\n",
    "import random\n",
    "import sys\n",
    "import time\n",
    "import pdb\n",
    "import os\n",
    "import logging\n",
    "\n",
    "import numpy\n",
    "import theano\n",
    "import theano.tensor as tensor\n",
    "from theano.sandbox.rng_mrg import MRG_RandomStreams as RandomStreams\n",
    "from theano.ifelse import ifelse\n",
    "from theano import config"
   ]
  },
  {
   "cell_type": "code",
   "execution_count": 4,
   "metadata": {
    "collapsed": true
   },
   "outputs": [],
   "source": [
    "import tensorflow as tf\n",
    "#import config as c\n",
    "#from tensorflow.models.rnn import rnn\n",
    "#from tensorflow.models.rnn import rnn_cell\n",
    "#from tensorflow.models.rnn import seq2seq"
   ]
  },
  {
   "cell_type": "code",
   "execution_count": 27,
   "metadata": {
    "collapsed": false
   },
   "outputs": [
    {
     "name": "stdout",
     "output_type": "stream",
     "text": [
      "Requirement already satisfied: config in /home/octo/anaconda2/envs/SDC3/lib/python3.5/site-packages\r\n"
     ]
    }
   ],
   "source": [
    "! pip install config "
   ]
  },
  {
   "cell_type": "markdown",
   "metadata": {},
   "source": [
    "###### https://github.com/jaungiers/LSTM-Neural-Network-for-Time-Series-Prediction/blob/master/lstm.py\n",
    "##### https://github.com/llSourcell/How-to-Predict-Stock-Prices-Easily-Demo/blob/master/stockdemo.ipynb\n",
    "##### http://www.jakob-aungiers.com/articles/a/LSTM-Neural-Network-for-Time-Series-Prediction"
   ]
  },
  {
   "cell_type": "code",
   "execution_count": 5,
   "metadata": {
    "collapsed": false
   },
   "outputs": [
    {
     "name": "stderr",
     "output_type": "stream",
     "text": [
      "Using TensorFlow backend.\n"
     ]
    }
   ],
   "source": [
    "import time\n",
    "import warnings\n",
    "import numpy as np\n",
    "from numpy import newaxis\n",
    "from keras.layers.core import Dense, Activation, Dropout\n",
    "from keras.layers.recurrent import LSTM\n",
    "from keras.models import Sequential\n",
    "import matplotlib.pyplot as plt"
   ]
  },
  {
   "cell_type": "code",
   "execution_count": 6,
   "metadata": {
    "collapsed": true
   },
   "outputs": [],
   "source": [
    "warnings.filterwarnings(\"ignore\")"
   ]
  },
  {
   "cell_type": "code",
   "execution_count": 7,
   "metadata": {
    "collapsed": true
   },
   "outputs": [],
   "source": [
    "def plot_results_multiple(predicted_data, true_data, prediction_len):\n",
    "    fig = plt.figure(facecolor='white')\n",
    "    ax = fig.add_subplot(111)\n",
    "    ax.plot(true_data, label='True Data')\n",
    "    print ('yo')\n",
    "    #Pad the list of predictions to shift it in the graph to it's correct start\n",
    "    for i, data in enumerate(predicted_data):\n",
    "        padding = [None for p in xrange(i * prediction_len)]\n",
    "        plt.plot(padding + data, label='Prediction')\n",
    "        plt.legend()\n",
    "    plt.show()\n",
    "\n",
    "def load_data(filename, seq_len, normalise_window):\n",
    "    f = open(filename, 'r').read()\n",
    "    data = f.split('\\n')\n",
    "\n",
    "    sequence_length = seq_len + 1\n",
    "    result = []\n",
    "    for index in range(len(data) - sequence_length):\n",
    "        result.append(data[index: index + sequence_length])\n",
    "    \n",
    "    if normalise_window:\n",
    "        result = normalise_windows(result)\n",
    "\n",
    "    result = np.array(result)\n",
    "\n",
    "    row = round(0.9 * result.shape[0])\n",
    "    train = result[:int(row), :]\n",
    "    np.random.shuffle(train)\n",
    "    x_train = train[:, :-1]\n",
    "    y_train = train[:, -1]\n",
    "    x_test = result[int(row):, :-1]\n",
    "    y_test = result[int(row):, -1]\n",
    "\n",
    "    x_train = np.reshape(x_train, (x_train.shape[0], x_train.shape[1], 1))\n",
    "    x_test = np.reshape(x_test, (x_test.shape[0], x_test.shape[1], 1))  \n",
    "\n",
    "    return [x_train, y_train, x_test, y_test]\n",
    "\n",
    "def normalise_windows(window_data):\n",
    "    normalised_data = []\n",
    "    for window in window_data:\n",
    "        normalised_window = [((float(p) / float(window[0])) - 1) for p in window]\n",
    "        normalised_data.append(normalised_window)\n",
    "    return normalised_data\n",
    "\n",
    "def build_model(layers):\n",
    "    model = Sequential()\n",
    "\n",
    "    model.add(LSTM(\n",
    "        input_dim=layers[0],\n",
    "        output_dim=layers[1],\n",
    "        return_sequences=True))\n",
    "    model.add(Dropout(0.2))\n",
    "\n",
    "    model.add(LSTM(\n",
    "        layers[2],\n",
    "        return_sequences=False))\n",
    "    model.add(Dropout(0.2))\n",
    "\n",
    "    model.add(Dense(\n",
    "        output_dim=layers[3]))\n",
    "    model.add(Activation(\"linear\"))\n",
    "\n",
    "    start = time.time()\n",
    "    model.compile(loss=\"mse\", optimizer=\"rmsprop\")\n",
    "    print (\"Compilation Time : \", time.time() - start)\n",
    "    return model\n",
    "\n",
    "def predict_point_by_point(model, data):\n",
    "    #Predict each timestep given the last sequence of true data, in effect only predicting 1 step ahead each time\n",
    "    predicted = model.predict(data)\n",
    "    predicted = np.reshape(predicted, (predicted.size,))\n",
    "    return predicted\n",
    "\n",
    "def predict_sequence_full(model, data, window_size):\n",
    "    #Shift the window by 1 new prediction each time, re-run predictions on new window\n",
    "    curr_frame = data[0]\n",
    "    predicted = []\n",
    "    for i in xrange(len(data)):\n",
    "        predicted.append(model.predict(curr_frame[newaxis,:,:])[0,0])\n",
    "        curr_frame = curr_frame[1:]\n",
    "        curr_frame = np.insert(curr_frame, [window_size-1], predicted[-1], axis=0)\n",
    "    return predicted\n",
    "\n",
    "def predict_sequences_multiple(model, data, window_size, prediction_len):\n",
    "    #Predict sequence of 50 steps before shifting prediction run forward by 50 steps\n",
    "    prediction_seqs = []\n",
    "    for i in range(int(len(data)/prediction_len)+1):\n",
    "        curr_frame = data[i*prediction_len]\n",
    "        predicted = []\n",
    "        for j in range(prediction_len):\n",
    "            predicted.append(model.predict(curr_frame[newaxis,:,:])[0,0])\n",
    "            curr_frame = curr_frame[1:]\n",
    "            curr_frame = np.insert(curr_frame, [window_size-1], predicted[-1], axis=0)\n",
    "        prediction_seqs.append(predicted)\n",
    "    return prediction_seqs"
   ]
  },
  {
   "cell_type": "code",
   "execution_count": 8,
   "metadata": {
    "collapsed": true
   },
   "outputs": [],
   "source": [
    "#import lstm\n",
    "import time\n",
    "import matplotlib.pyplot as plt\n",
    "\n",
    "def plot_results(predicted_data, true_data):\n",
    "    fig = plt.figure(facecolor='white')\n",
    "    ax = fig.add_subplot(111)\n",
    "    ax.plot(true_data, label='True Data')\n",
    "    plt.plot(predicted_data, label='Prediction')\n",
    "    plt.legend()\n",
    "    plt.show()\n",
    "\n",
    "def plot_results_multiple(predicted_data, true_data, prediction_len):\n",
    "    fig = plt.figure(facecolor='white')\n",
    "    ax = fig.add_subplot(111)\n",
    "    ax.plot(true_data, label='True Data')\n",
    "    #Pad the list of predictions to shift it in the graph to it's correct start\n",
    "    for i, data in enumerate(predicted_data):\n",
    "        padding = [None for p in range(i * prediction_len)]\n",
    "        plt.plot(padding + data, label='Prediction')\n",
    "        plt.legend()\n",
    "    plt.show()"
   ]
  },
  {
   "cell_type": "code",
   "execution_count": 12,
   "metadata": {
    "collapsed": false
   },
   "outputs": [
    {
     "name": "stdout",
     "output_type": "stream",
     "text": [
      "> Loading data... \n",
      "> Data Loaded. Compiling...\n",
      "Compilation Time :  0.028746843338012695\n",
      "Train on 6310 samples, validate on 333 samples\n",
      "Epoch 1/3\n",
      "6310/6310 [==============================] - 7s - loss: 0.0174 - val_loss: 1.0795e-07\n",
      "Epoch 2/3\n",
      "6310/6310 [==============================] - 7s - loss: 7.3507e-05 - val_loss: 1.3100e-06\n",
      "Epoch 3/3\n",
      "6310/6310 [==============================] - 7s - loss: 4.8898e-05 - val_loss: 6.4038e-08\n",
      "Training duration (s) :  31.227837800979614\n"
     ]
    }
   ],
   "source": [
    "global_start_time = time.time()\n",
    "epochs  = 3\n",
    "seq_len = 50\n",
    "print('> Loading data... ')\n",
    "\n",
    "X_train, y_train, X_test, y_test = load_data('/home/octo/Desktop/project_080317/SPY.csv', seq_len, True)\n",
    "\n",
    "print('> Data Loaded. Compiling...')\n",
    "\n",
    "model = build_model([1, 50, 100, 1])\n",
    "\n",
    "model.fit(X_train,y_train,batch_size=512,nb_epoch=epochs,validation_split=0.05)\n",
    "\n",
    "predictions = predict_sequences_multiple(model, X_test, seq_len, 50)\n",
    "#predicted = lstm.predict_sequence_full(model, X_test, seq_len)\n",
    "#predicted = lstm.predict_point_by_point(model, X_test) \n",
    "print('Training duration (s) : ', time.time() - global_start_time)"
   ]
  },
  {
   "cell_type": "code",
   "execution_count": 17,
   "metadata": {
    "collapsed": false
   },
   "outputs": [
    {
     "data": {
      "image/png": "[encoded data removed]",
      "text/plain": [
       "<matplotlib.figure.Figure at 0x7f5bf049bb38>"
      ]
     },
     "metadata": {},
     "output_type": "display_data"
    }
   ],
   "source": [
    "plot_results_multiple(predictions, y_test, 50)"
   ]
  },
  {
   "cell_type": "code",
   "execution_count": null,
   "metadata": {
    "collapsed": true
   },
   "outputs": [],
   "source": []
  },
  {
   "cell_type": "markdown",
   "metadata": {},
   "source": [
    "https://medium.com/@TalPerry/deep-learning-the-stock-market-df853d139e02#.weu2ru2xj\n",
    "https://github.com/talolard/MarketVectors/blob/master/preparedata.ipynb    "
   ]
  },
  {
   "cell_type": "code",
   "execution_count": 39,
   "metadata": {
    "collapsed": false
   },
   "outputs": [
    {
     "name": "stdout",
     "output_type": "stream",
     "text": [
      "Populating the interactive namespace from numpy and matplotlib\n"
     ]
    }
   ],
   "source": [
    "import pandas as pd\n",
    "import os\n",
    "%pylab inline"
   ]
  },
  {
   "cell_type": "code",
   "execution_count": 41,
   "metadata": {
    "collapsed": true
   },
   "outputs": [],
   "source": [
    "datapath = '/home/octo/Desktop/project_080317/quantquote_daily_sp500_83986/daily'\n",
    "filepath = os.path.join(datapath,os.listdir('/home/octo/Desktop/project_080317/quantquote_daily_sp500_83986/daily')[0])"
   ]
  },
  {
   "cell_type": "code",
   "execution_count": 42,
   "metadata": {
    "collapsed": false
   },
   "outputs": [
    {
     "name": "stdout",
     "output_type": "stream",
     "text": [
      "/home/octo/Desktop/project_080317/quantquote_daily_sp500_83986/daily/table_nfx.csv nfx\n"
     ]
    }
   ],
   "source": [
    "import re\n",
    "ticker_regex = re.compile('.+_(?P<ticker>.+)\\.csv')\n",
    "get_ticker =lambda x :ticker_regex.match(x).groupdict()['ticker']\n",
    "print(filepath,get_ticker(filepath))"
   ]
  },
  {
   "cell_type": "code",
   "execution_count": 43,
   "metadata": {
    "collapsed": true
   },
   "outputs": [],
   "source": [
    "ret = lambda x,y: log(y/x) #Log return \n",
    "zscore = lambda x:(x -x.mean())/x.std() # zscore"
   ]
  },
  {
   "cell_type": "code",
   "execution_count": 44,
   "metadata": {
    "collapsed": true
   },
   "outputs": [],
   "source": [
    "D = pd.read_csv(filepath,header=None,names=['UNK','o','h','l','c','v']) #Load the dataframe with head"
   ]
  },
  {
   "cell_type": "code",
   "execution_count": 45,
   "metadata": {
    "collapsed": false
   },
   "outputs": [
    {
     "data": {
      "text/html": [
       "<div>\n",
       "<table border=\"1\" class=\"dataframe\">\n",
       "  <thead>\n",
       "    <tr style=\"text-align: right;\">\n",
       "      <th></th>\n",
       "      <th>UNK</th>\n",
       "      <th>o</th>\n",
       "      <th>h</th>\n",
       "      <th>l</th>\n",
       "      <th>c</th>\n",
       "      <th>v</th>\n",
       "    </tr>\n",
       "  </thead>\n",
       "  <tbody>\n",
       "    <tr>\n",
       "      <th>19980102</th>\n",
       "      <td>0</td>\n",
       "      <td>11.720</td>\n",
       "      <td>11.875</td>\n",
       "      <td>11.565</td>\n",
       "      <td>11.875</td>\n",
       "      <td>152600</td>\n",
       "    </tr>\n",
       "    <tr>\n",
       "      <th>19980105</th>\n",
       "      <td>0</td>\n",
       "      <td>11.875</td>\n",
       "      <td>11.875</td>\n",
       "      <td>11.315</td>\n",
       "      <td>11.315</td>\n",
       "      <td>81200</td>\n",
       "    </tr>\n",
       "    <tr>\n",
       "      <th>19980106</th>\n",
       "      <td>0</td>\n",
       "      <td>11.190</td>\n",
       "      <td>11.220</td>\n",
       "      <td>10.065</td>\n",
       "      <td>10.405</td>\n",
       "      <td>328200</td>\n",
       "    </tr>\n",
       "    <tr>\n",
       "      <th>19980107</th>\n",
       "      <td>0</td>\n",
       "      <td>10.750</td>\n",
       "      <td>11.125</td>\n",
       "      <td>10.530</td>\n",
       "      <td>10.845</td>\n",
       "      <td>650400</td>\n",
       "    </tr>\n",
       "    <tr>\n",
       "      <th>19980108</th>\n",
       "      <td>0</td>\n",
       "      <td>10.750</td>\n",
       "      <td>10.970</td>\n",
       "      <td>10.500</td>\n",
       "      <td>10.530</td>\n",
       "      <td>51400</td>\n",
       "    </tr>\n",
       "  </tbody>\n",
       "</table>\n",
       "</div>"
      ],
      "text/plain": [
       "          UNK       o       h       l       c       v\n",
       "19980102    0  11.720  11.875  11.565  11.875  152600\n",
       "19980105    0  11.875  11.875  11.315  11.315   81200\n",
       "19980106    0  11.190  11.220  10.065  10.405  328200\n",
       "19980107    0  10.750  11.125  10.530  10.845  650400\n",
       "19980108    0  10.750  10.970  10.500  10.530   51400"
      ]
     },
     "execution_count": 45,
     "metadata": {},
     "output_type": "execute_result"
    }
   ],
   "source": [
    "D.head()"
   ]
  },
  {
   "cell_type": "code",
   "execution_count": 46,
   "metadata": {
    "collapsed": true
   },
   "outputs": [],
   "source": [
    "def make_inputs(filepath):\n",
    "    D = pd.read_csv(filepath,header=None,names=['UNK','o','h','l','c','v']) #Load the dataframe with headers\n",
    "    D.index = pd.to_datetime(D.index,format='%Y%m%d') # Set the indix to a datetime\n",
    "    Res = pd.DataFrame()\n",
    "    ticker = get_ticker(filepath)\n",
    "\n",
    "    Res['c_2_o'] = zscore(ret(D.o,D.c))\n",
    "    Res['h_2_o'] = zscore(ret(D.o,D.h))\n",
    "    Res['l_2_o'] = zscore(ret(D.o,D.l))\n",
    "    Res['c_2_h'] = zscore(ret(D.h,D.c))\n",
    "    Res['h_2_l'] = zscore(ret(D.h,D.l))\n",
    "    Res['c1_c0'] = ret(D.c,D.c.shift(-1)).fillna(0) #Tommorows return \n",
    "    Res['vol'] = zscore(D.v)\n",
    "    Res['ticker'] = ticker\n",
    "    return Res"
   ]
  },
  {
   "cell_type": "code",
   "execution_count": 47,
   "metadata": {
    "collapsed": true
   },
   "outputs": [],
   "source": [
    "Res = make_inputs(filepath)"
   ]
  },
  {
   "cell_type": "code",
   "execution_count": 50,
   "metadata": {
    "collapsed": false
   },
   "outputs": [
    {
     "data": {
      "text/html": [
       "<div>\n",
       "<table border=\"1\" class=\"dataframe\">\n",
       "  <thead>\n",
       "    <tr style=\"text-align: right;\">\n",
       "      <th></th>\n",
       "      <th>c_2_o</th>\n",
       "      <th>h_2_o</th>\n",
       "      <th>l_2_o</th>\n",
       "      <th>c_2_h</th>\n",
       "      <th>h_2_l</th>\n",
       "      <th>c1_c0</th>\n",
       "      <th>vol</th>\n",
       "      <th>ticker</th>\n",
       "    </tr>\n",
       "  </thead>\n",
       "  <tbody>\n",
       "    <tr>\n",
       "      <th>1998-01-02</th>\n",
       "      <td>0.558193</td>\n",
       "      <td>-0.189480</td>\n",
       "      <td>0.235789</td>\n",
       "      <td>0.965902</td>\n",
       "      <td>0.361444</td>\n",
       "      <td>-0.048306</td>\n",
       "      <td>-1.075871</td>\n",
       "      <td>nfx</td>\n",
       "    </tr>\n",
       "    <tr>\n",
       "      <th>1998-01-05</th>\n",
       "      <td>-1.940882</td>\n",
       "      <td>-0.934880</td>\n",
       "      <td>-1.626524</td>\n",
       "      <td>-1.768433</td>\n",
       "      <td>-0.655125</td>\n",
       "      <td>-0.083843</td>\n",
       "      <td>-1.144195</td>\n",
       "      <td>nfx</td>\n",
       "    </tr>\n",
       "    <tr>\n",
       "      <th>1998-01-06</th>\n",
       "      <td>-2.934417</td>\n",
       "      <td>-0.782983</td>\n",
       "      <td>-4.694692</td>\n",
       "      <td>-3.302715</td>\n",
       "      <td>-3.461351</td>\n",
       "      <td>0.041418</td>\n",
       "      <td>-0.907834</td>\n",
       "      <td>nfx</td>\n",
       "    </tr>\n",
       "    <tr>\n",
       "      <th>1998-01-07</th>\n",
       "      <td>0.381670</td>\n",
       "      <td>1.010467</td>\n",
       "      <td>-0.156121</td>\n",
       "      <td>-0.476982</td>\n",
       "      <td>-0.964943</td>\n",
       "      <td>-0.029476</td>\n",
       "      <td>-0.599513</td>\n",
       "      <td>nfx</td>\n",
       "    </tr>\n",
       "    <tr>\n",
       "      <th>1998-01-08</th>\n",
       "      <td>-0.817170</td>\n",
       "      <td>0.214461</td>\n",
       "      <td>-0.307962</td>\n",
       "      <td>-1.351252</td>\n",
       "      <td>-0.445008</td>\n",
       "      <td>-0.011942</td>\n",
       "      <td>-1.172712</td>\n",
       "      <td>nfx</td>\n",
       "    </tr>\n",
       "  </tbody>\n",
       "</table>\n",
       "</div>"
      ],
      "text/plain": [
       "               c_2_o     h_2_o     l_2_o     c_2_h     h_2_l     c1_c0  \\\n",
       "1998-01-02  0.558193 -0.189480  0.235789  0.965902  0.361444 -0.048306   \n",
       "1998-01-05 -1.940882 -0.934880 -1.626524 -1.768433 -0.655125 -0.083843   \n",
       "1998-01-06 -2.934417 -0.782983 -4.694692 -3.302715 -3.461351  0.041418   \n",
       "1998-01-07  0.381670  1.010467 -0.156121 -0.476982 -0.964943 -0.029476   \n",
       "1998-01-08 -0.817170  0.214461 -0.307962 -1.351252 -0.445008 -0.011942   \n",
       "\n",
       "                 vol ticker  \n",
       "1998-01-02 -1.075871    nfx  \n",
       "1998-01-05 -1.144195    nfx  \n",
       "1998-01-06 -0.907834    nfx  \n",
       "1998-01-07 -0.599513    nfx  \n",
       "1998-01-08 -1.172712    nfx  "
      ]
     },
     "execution_count": 50,
     "metadata": {},
     "output_type": "execute_result"
    }
   ],
   "source": [
    "Res.head() # Lets look at what we got"
   ]
  },
  {
   "cell_type": "code",
   "execution_count": 49,
   "metadata": {
    "collapsed": false
   },
   "outputs": [
    {
     "data": {
      "text/html": [
       "<div>\n",
       "<table border=\"1\" class=\"dataframe\">\n",
       "  <thead>\n",
       "    <tr style=\"text-align: right;\">\n",
       "      <th></th>\n",
       "      <th>c_2_o</th>\n",
       "      <th>h_2_o</th>\n",
       "      <th>l_2_o</th>\n",
       "      <th>c_2_h</th>\n",
       "      <th>h_2_l</th>\n",
       "      <th>c1_c0</th>\n",
       "      <th>vol</th>\n",
       "    </tr>\n",
       "  </thead>\n",
       "  <tbody>\n",
       "    <tr>\n",
       "      <th>c_2_o</th>\n",
       "      <td>1.000000</td>\n",
       "      <td>0.695814</td>\n",
       "      <td>0.751325</td>\n",
       "      <td>0.697501</td>\n",
       "      <td>0.086182</td>\n",
       "      <td>0.039865</td>\n",
       "      <td>-0.042077</td>\n",
       "    </tr>\n",
       "    <tr>\n",
       "      <th>h_2_o</th>\n",
       "      <td>0.695814</td>\n",
       "      <td>1.000000</td>\n",
       "      <td>0.304330</td>\n",
       "      <td>-0.029335</td>\n",
       "      <td>-0.553911</td>\n",
       "      <td>0.027395</td>\n",
       "      <td>0.201176</td>\n",
       "    </tr>\n",
       "    <tr>\n",
       "      <th>l_2_o</th>\n",
       "      <td>0.751325</td>\n",
       "      <td>0.304330</td>\n",
       "      <td>1.000000</td>\n",
       "      <td>0.742004</td>\n",
       "      <td>0.624512</td>\n",
       "      <td>0.017703</td>\n",
       "      <td>-0.251680</td>\n",
       "    </tr>\n",
       "    <tr>\n",
       "      <th>c_2_h</th>\n",
       "      <td>0.697501</td>\n",
       "      <td>-0.029335</td>\n",
       "      <td>0.742004</td>\n",
       "      <td>1.000000</td>\n",
       "      <td>0.672589</td>\n",
       "      <td>0.028148</td>\n",
       "      <td>-0.259278</td>\n",
       "    </tr>\n",
       "    <tr>\n",
       "      <th>h_2_l</th>\n",
       "      <td>0.086182</td>\n",
       "      <td>-0.553911</td>\n",
       "      <td>0.624512</td>\n",
       "      <td>0.672589</td>\n",
       "      <td>1.000000</td>\n",
       "      <td>-0.006988</td>\n",
       "      <td>-0.384923</td>\n",
       "    </tr>\n",
       "    <tr>\n",
       "      <th>c1_c0</th>\n",
       "      <td>0.039865</td>\n",
       "      <td>0.027395</td>\n",
       "      <td>0.017703</td>\n",
       "      <td>0.028148</td>\n",
       "      <td>-0.006988</td>\n",
       "      <td>1.000000</td>\n",
       "      <td>-0.011665</td>\n",
       "    </tr>\n",
       "    <tr>\n",
       "      <th>vol</th>\n",
       "      <td>-0.042077</td>\n",
       "      <td>0.201176</td>\n",
       "      <td>-0.251680</td>\n",
       "      <td>-0.259278</td>\n",
       "      <td>-0.384923</td>\n",
       "      <td>-0.011665</td>\n",
       "      <td>1.000000</td>\n",
       "    </tr>\n",
       "  </tbody>\n",
       "</table>\n",
       "</div>"
      ],
      "text/plain": [
       "          c_2_o     h_2_o     l_2_o     c_2_h     h_2_l     c1_c0       vol\n",
       "c_2_o  1.000000  0.695814  0.751325  0.697501  0.086182  0.039865 -0.042077\n",
       "h_2_o  0.695814  1.000000  0.304330 -0.029335 -0.553911  0.027395  0.201176\n",
       "l_2_o  0.751325  0.304330  1.000000  0.742004  0.624512  0.017703 -0.251680\n",
       "c_2_h  0.697501 -0.029335  0.742004  1.000000  0.672589  0.028148 -0.259278\n",
       "h_2_l  0.086182 -0.553911  0.624512  0.672589  1.000000 -0.006988 -0.384923\n",
       "c1_c0  0.039865  0.027395  0.017703  0.028148 -0.006988  1.000000 -0.011665\n",
       "vol   -0.042077  0.201176 -0.251680 -0.259278 -0.384923 -0.011665  1.000000"
      ]
     },
     "execution_count": 49,
     "metadata": {},
     "output_type": "execute_result"
    }
   ],
   "source": [
    "Res.corr() #Quick check to see we didn't mess it up. All values should be different, otherwise we repeated a variable"
   ]
  },
  {
   "cell_type": "markdown",
   "metadata": {},
   "source": [
    "\n",
    "### Generating the full data set\n",
    "\n",
    "I'll iterate over each file, run the above and concat to a final df. Then we'll pivot\n"
   ]
  },
  {
   "cell_type": "code",
   "execution_count": 51,
   "metadata": {
    "collapsed": true
   },
   "outputs": [],
   "source": [
    "Final = pd.DataFrame()\n",
    "for f in os.listdir(datapath):\n",
    "    filepath = os.path.join(datapath,f)\n",
    "    if filepath.endswith('.csv'):\n",
    "        Res = make_inputs(filepath)\n",
    "        Final = Final.append(Res)"
   ]
  },
  {
   "cell_type": "code",
   "execution_count": 52,
   "metadata": {
    "collapsed": false
   },
   "outputs": [
    {
     "data": {
      "text/html": [
       "<div>\n",
       "<table border=\"1\" class=\"dataframe\">\n",
       "  <thead>\n",
       "    <tr style=\"text-align: right;\">\n",
       "      <th></th>\n",
       "      <th>c_2_o</th>\n",
       "      <th>h_2_o</th>\n",
       "      <th>l_2_o</th>\n",
       "      <th>c_2_h</th>\n",
       "      <th>h_2_l</th>\n",
       "      <th>c1_c0</th>\n",
       "      <th>vol</th>\n",
       "      <th>ticker</th>\n",
       "    </tr>\n",
       "  </thead>\n",
       "  <tbody>\n",
       "    <tr>\n",
       "      <th>1998-01-02</th>\n",
       "      <td>0.558193</td>\n",
       "      <td>-0.189480</td>\n",
       "      <td>0.235789</td>\n",
       "      <td>0.965902</td>\n",
       "      <td>0.361444</td>\n",
       "      <td>-0.048306</td>\n",
       "      <td>-1.075871</td>\n",
       "      <td>nfx</td>\n",
       "    </tr>\n",
       "    <tr>\n",
       "      <th>1998-01-05</th>\n",
       "      <td>-1.940882</td>\n",
       "      <td>-0.934880</td>\n",
       "      <td>-1.626524</td>\n",
       "      <td>-1.768433</td>\n",
       "      <td>-0.655125</td>\n",
       "      <td>-0.083843</td>\n",
       "      <td>-1.144195</td>\n",
       "      <td>nfx</td>\n",
       "    </tr>\n",
       "    <tr>\n",
       "      <th>1998-01-06</th>\n",
       "      <td>-2.934417</td>\n",
       "      <td>-0.782983</td>\n",
       "      <td>-4.694692</td>\n",
       "      <td>-3.302715</td>\n",
       "      <td>-3.461351</td>\n",
       "      <td>0.041418</td>\n",
       "      <td>-0.907834</td>\n",
       "      <td>nfx</td>\n",
       "    </tr>\n",
       "    <tr>\n",
       "      <th>1998-01-07</th>\n",
       "      <td>0.381670</td>\n",
       "      <td>1.010467</td>\n",
       "      <td>-0.156121</td>\n",
       "      <td>-0.476982</td>\n",
       "      <td>-0.964943</td>\n",
       "      <td>-0.029476</td>\n",
       "      <td>-0.599513</td>\n",
       "      <td>nfx</td>\n",
       "    </tr>\n",
       "    <tr>\n",
       "      <th>1998-01-08</th>\n",
       "      <td>-0.817170</td>\n",
       "      <td>0.214461</td>\n",
       "      <td>-0.307962</td>\n",
       "      <td>-1.351252</td>\n",
       "      <td>-0.445008</td>\n",
       "      <td>-0.011942</td>\n",
       "      <td>-1.172712</td>\n",
       "      <td>nfx</td>\n",
       "    </tr>\n",
       "  </tbody>\n",
       "</table>\n",
       "</div>"
      ],
      "text/plain": [
       "               c_2_o     h_2_o     l_2_o     c_2_h     h_2_l     c1_c0  \\\n",
       "1998-01-02  0.558193 -0.189480  0.235789  0.965902  0.361444 -0.048306   \n",
       "1998-01-05 -1.940882 -0.934880 -1.626524 -1.768433 -0.655125 -0.083843   \n",
       "1998-01-06 -2.934417 -0.782983 -4.694692 -3.302715 -3.461351  0.041418   \n",
       "1998-01-07  0.381670  1.010467 -0.156121 -0.476982 -0.964943 -0.029476   \n",
       "1998-01-08 -0.817170  0.214461 -0.307962 -1.351252 -0.445008 -0.011942   \n",
       "\n",
       "                 vol ticker  \n",
       "1998-01-02 -1.075871    nfx  \n",
       "1998-01-05 -1.144195    nfx  \n",
       "1998-01-06 -0.907834    nfx  \n",
       "1998-01-07 -0.599513    nfx  \n",
       "1998-01-08 -1.172712    nfx  "
      ]
     },
     "execution_count": 52,
     "metadata": {},
     "output_type": "execute_result"
    }
   ],
   "source": [
    "Final.head()"
   ]
  },
  {
   "cell_type": "code",
   "execution_count": 53,
   "metadata": {
    "collapsed": true
   },
   "outputs": [],
   "source": [
    "pivot_columns = Final.columns[:-1]\n",
    "P = Final.pivot_table(index=Final.index,columns='ticker',values=pivot_columns) # Make a pivot table from the data"
   ]
  },
  {
   "cell_type": "code",
   "execution_count": 55,
   "metadata": {
    "collapsed": false
   },
   "outputs": [
    {
     "data": {
      "text/html": [
       "<div>\n",
       "<table border=\"1\" class=\"dataframe\">\n",
       "  <thead>\n",
       "    <tr>\n",
       "      <th></th>\n",
       "      <th colspan=\"10\" halign=\"left\">c_2_o</th>\n",
       "      <th>...</th>\n",
       "      <th colspan=\"10\" halign=\"left\">vol</th>\n",
       "    </tr>\n",
       "    <tr>\n",
       "      <th>ticker</th>\n",
       "      <th>a</th>\n",
       "      <th>aa</th>\n",
       "      <th>aapl</th>\n",
       "      <th>abbv</th>\n",
       "      <th>abc</th>\n",
       "      <th>abt</th>\n",
       "      <th>ace</th>\n",
       "      <th>acn</th>\n",
       "      <th>act</th>\n",
       "      <th>adbe</th>\n",
       "      <th>...</th>\n",
       "      <th>xl</th>\n",
       "      <th>xlnx</th>\n",
       "      <th>xom</th>\n",
       "      <th>xray</th>\n",
       "      <th>xrx</th>\n",
       "      <th>xyl</th>\n",
       "      <th>yhoo</th>\n",
       "      <th>yum</th>\n",
       "      <th>zion</th>\n",
       "      <th>zmh</th>\n",
       "    </tr>\n",
       "  </thead>\n",
       "  <tbody>\n",
       "    <tr>\n",
       "      <th>1998-01-02</th>\n",
       "      <td>NaN</td>\n",
       "      <td>-0.017649</td>\n",
       "      <td>6.991394</td>\n",
       "      <td>NaN</td>\n",
       "      <td>0.047250</td>\n",
       "      <td>1.845516</td>\n",
       "      <td>-0.601609</td>\n",
       "      <td>NaN</td>\n",
       "      <td>-0.911471</td>\n",
       "      <td>-0.375461</td>\n",
       "      <td>...</td>\n",
       "      <td>-0.676802</td>\n",
       "      <td>1.391497</td>\n",
       "      <td>-1.045626</td>\n",
       "      <td>-1.147952</td>\n",
       "      <td>-0.817355</td>\n",
       "      <td>NaN</td>\n",
       "      <td>-0.368713</td>\n",
       "      <td>-0.678763</td>\n",
       "      <td>-0.724482</td>\n",
       "      <td>NaN</td>\n",
       "    </tr>\n",
       "    <tr>\n",
       "      <th>1998-01-05</th>\n",
       "      <td>NaN</td>\n",
       "      <td>0.373488</td>\n",
       "      <td>-1.224062</td>\n",
       "      <td>NaN</td>\n",
       "      <td>-0.160945</td>\n",
       "      <td>0.031659</td>\n",
       "      <td>-0.234577</td>\n",
       "      <td>NaN</td>\n",
       "      <td>2.090086</td>\n",
       "      <td>0.791331</td>\n",
       "      <td>...</td>\n",
       "      <td>-0.621025</td>\n",
       "      <td>1.019607</td>\n",
       "      <td>-0.615370</td>\n",
       "      <td>-0.556684</td>\n",
       "      <td>-0.757660</td>\n",
       "      <td>NaN</td>\n",
       "      <td>0.064841</td>\n",
       "      <td>0.980283</td>\n",
       "      <td>-0.735275</td>\n",
       "      <td>NaN</td>\n",
       "    </tr>\n",
       "    <tr>\n",
       "      <th>1998-01-06</th>\n",
       "      <td>NaN</td>\n",
       "      <td>-0.718569</td>\n",
       "      <td>6.857266</td>\n",
       "      <td>NaN</td>\n",
       "      <td>-1.102853</td>\n",
       "      <td>-0.473164</td>\n",
       "      <td>0.452262</td>\n",
       "      <td>NaN</td>\n",
       "      <td>-1.239961</td>\n",
       "      <td>1.451409</td>\n",
       "      <td>...</td>\n",
       "      <td>-0.634169</td>\n",
       "      <td>0.020195</td>\n",
       "      <td>-0.527923</td>\n",
       "      <td>-1.131583</td>\n",
       "      <td>-0.629732</td>\n",
       "      <td>NaN</td>\n",
       "      <td>0.150071</td>\n",
       "      <td>1.697887</td>\n",
       "      <td>-0.683202</td>\n",
       "      <td>NaN</td>\n",
       "    </tr>\n",
       "    <tr>\n",
       "      <th>1998-01-07</th>\n",
       "      <td>NaN</td>\n",
       "      <td>0.980669</td>\n",
       "      <td>-3.007557</td>\n",
       "      <td>NaN</td>\n",
       "      <td>0.553079</td>\n",
       "      <td>0.746779</td>\n",
       "      <td>0.137372</td>\n",
       "      <td>NaN</td>\n",
       "      <td>-0.878292</td>\n",
       "      <td>-0.534781</td>\n",
       "      <td>...</td>\n",
       "      <td>-0.616242</td>\n",
       "      <td>1.023705</td>\n",
       "      <td>-0.134130</td>\n",
       "      <td>-0.329006</td>\n",
       "      <td>-0.504232</td>\n",
       "      <td>NaN</td>\n",
       "      <td>-0.463651</td>\n",
       "      <td>0.515268</td>\n",
       "      <td>-0.635858</td>\n",
       "      <td>NaN</td>\n",
       "    </tr>\n",
       "    <tr>\n",
       "      <th>1998-01-08</th>\n",
       "      <td>NaN</td>\n",
       "      <td>-1.828950</td>\n",
       "      <td>1.388888</td>\n",
       "      <td>NaN</td>\n",
       "      <td>0.488170</td>\n",
       "      <td>-0.221620</td>\n",
       "      <td>-0.484264</td>\n",
       "      <td>NaN</td>\n",
       "      <td>1.300492</td>\n",
       "      <td>0.538778</td>\n",
       "      <td>...</td>\n",
       "      <td>-0.655003</td>\n",
       "      <td>0.645285</td>\n",
       "      <td>-0.907375</td>\n",
       "      <td>-1.066107</td>\n",
       "      <td>-0.560549</td>\n",
       "      <td>NaN</td>\n",
       "      <td>-0.157777</td>\n",
       "      <td>0.235907</td>\n",
       "      <td>-0.605092</td>\n",
       "      <td>NaN</td>\n",
       "    </tr>\n",
       "  </tbody>\n",
       "</table>\n",
       "<p>5 rows × 3500 columns</p>\n",
       "</div>"
      ],
      "text/plain": [
       "           c_2_o                                                             \\\n",
       "ticker         a        aa      aapl abbv       abc       abt       ace acn   \n",
       "1998-01-02   NaN -0.017649  6.991394  NaN  0.047250  1.845516 -0.601609 NaN   \n",
       "1998-01-05   NaN  0.373488 -1.224062  NaN -0.160945  0.031659 -0.234577 NaN   \n",
       "1998-01-06   NaN -0.718569  6.857266  NaN -1.102853 -0.473164  0.452262 NaN   \n",
       "1998-01-07   NaN  0.980669 -3.007557  NaN  0.553079  0.746779  0.137372 NaN   \n",
       "1998-01-08   NaN -1.828950  1.388888  NaN  0.488170 -0.221620 -0.484264 NaN   \n",
       "\n",
       "                               ...       vol                                \\\n",
       "ticker           act      adbe ...        xl      xlnx       xom      xray   \n",
       "1998-01-02 -0.911471 -0.375461 ... -0.676802  1.391497 -1.045626 -1.147952   \n",
       "1998-01-05  2.090086  0.791331 ... -0.621025  1.019607 -0.615370 -0.556684   \n",
       "1998-01-06 -1.239961  1.451409 ... -0.634169  0.020195 -0.527923 -1.131583   \n",
       "1998-01-07 -0.878292 -0.534781 ... -0.616242  1.023705 -0.134130 -0.329006   \n",
       "1998-01-08  1.300492  0.538778 ... -0.655003  0.645285 -0.907375 -1.066107   \n",
       "\n",
       "                                                            \n",
       "ticker           xrx xyl      yhoo       yum      zion zmh  \n",
       "1998-01-02 -0.817355 NaN -0.368713 -0.678763 -0.724482 NaN  \n",
       "1998-01-05 -0.757660 NaN  0.064841  0.980283 -0.735275 NaN  \n",
       "1998-01-06 -0.629732 NaN  0.150071  1.697887 -0.683202 NaN  \n",
       "1998-01-07 -0.504232 NaN -0.463651  0.515268 -0.635858 NaN  \n",
       "1998-01-08 -0.560549 NaN -0.157777  0.235907 -0.605092 NaN  \n",
       "\n",
       "[5 rows x 3500 columns]"
      ]
     },
     "execution_count": 55,
     "metadata": {},
     "output_type": "execute_result"
    }
   ],
   "source": [
    "P.head()"
   ]
  },
  {
   "cell_type": "code",
   "execution_count": 56,
   "metadata": {
    "collapsed": true
   },
   "outputs": [],
   "source": [
    "mi = P.columns.tolist()"
   ]
  },
  {
   "cell_type": "code",
   "execution_count": 57,
   "metadata": {
    "collapsed": true
   },
   "outputs": [],
   "source": [
    "new_ind = pd.Index(e[1] +'_' + e[0] for e in mi)"
   ]
  },
  {
   "cell_type": "code",
   "execution_count": 58,
   "metadata": {
    "collapsed": true
   },
   "outputs": [],
   "source": [
    "P.columns = new_ind\n",
    "P = P.sort(axis=1) # Sort by columns"
   ]
  },
  {
   "cell_type": "code",
   "execution_count": 59,
   "metadata": {
    "collapsed": false
   },
   "outputs": [
    {
     "data": {
      "text/html": [
       "<div>\n",
       "<table border=\"1\" class=\"dataframe\">\n",
       "  <thead>\n",
       "    <tr style=\"text-align: right;\">\n",
       "      <th></th>\n",
       "      <th>a_c1_c0</th>\n",
       "      <th>a_c_2_h</th>\n",
       "      <th>a_c_2_o</th>\n",
       "      <th>a_h_2_l</th>\n",
       "      <th>a_h_2_o</th>\n",
       "      <th>a_l_2_o</th>\n",
       "      <th>a_vol</th>\n",
       "      <th>aa_c1_c0</th>\n",
       "      <th>aa_c_2_h</th>\n",
       "      <th>aa_c_2_o</th>\n",
       "      <th>...</th>\n",
       "      <th>zion_h_2_o</th>\n",
       "      <th>zion_l_2_o</th>\n",
       "      <th>zion_vol</th>\n",
       "      <th>zmh_c1_c0</th>\n",
       "      <th>zmh_c_2_h</th>\n",
       "      <th>zmh_c_2_o</th>\n",
       "      <th>zmh_h_2_l</th>\n",
       "      <th>zmh_h_2_o</th>\n",
       "      <th>zmh_l_2_o</th>\n",
       "      <th>zmh_vol</th>\n",
       "    </tr>\n",
       "  </thead>\n",
       "  <tbody>\n",
       "    <tr>\n",
       "      <th>1998-01-02</th>\n",
       "      <td>NaN</td>\n",
       "      <td>NaN</td>\n",
       "      <td>NaN</td>\n",
       "      <td>NaN</td>\n",
       "      <td>NaN</td>\n",
       "      <td>NaN</td>\n",
       "      <td>NaN</td>\n",
       "      <td>0.017390</td>\n",
       "      <td>0.670259</td>\n",
       "      <td>-0.017649</td>\n",
       "      <td>...</td>\n",
       "      <td>0.246401</td>\n",
       "      <td>0.710284</td>\n",
       "      <td>-0.724482</td>\n",
       "      <td>NaN</td>\n",
       "      <td>NaN</td>\n",
       "      <td>NaN</td>\n",
       "      <td>NaN</td>\n",
       "      <td>NaN</td>\n",
       "      <td>NaN</td>\n",
       "      <td>NaN</td>\n",
       "    </tr>\n",
       "    <tr>\n",
       "      <th>1998-01-05</th>\n",
       "      <td>NaN</td>\n",
       "      <td>NaN</td>\n",
       "      <td>NaN</td>\n",
       "      <td>NaN</td>\n",
       "      <td>NaN</td>\n",
       "      <td>NaN</td>\n",
       "      <td>NaN</td>\n",
       "      <td>-0.022601</td>\n",
       "      <td>0.462520</td>\n",
       "      <td>0.373488</td>\n",
       "      <td>...</td>\n",
       "      <td>0.127875</td>\n",
       "      <td>0.710284</td>\n",
       "      <td>-0.735275</td>\n",
       "      <td>NaN</td>\n",
       "      <td>NaN</td>\n",
       "      <td>NaN</td>\n",
       "      <td>NaN</td>\n",
       "      <td>NaN</td>\n",
       "      <td>NaN</td>\n",
       "      <td>NaN</td>\n",
       "    </tr>\n",
       "    <tr>\n",
       "      <th>1998-01-06</th>\n",
       "      <td>NaN</td>\n",
       "      <td>NaN</td>\n",
       "      <td>NaN</td>\n",
       "      <td>NaN</td>\n",
       "      <td>NaN</td>\n",
       "      <td>NaN</td>\n",
       "      <td>NaN</td>\n",
       "      <td>0.001693</td>\n",
       "      <td>-0.088471</td>\n",
       "      <td>-0.718569</td>\n",
       "      <td>...</td>\n",
       "      <td>-0.677287</td>\n",
       "      <td>-1.264514</td>\n",
       "      <td>-0.683202</td>\n",
       "      <td>NaN</td>\n",
       "      <td>NaN</td>\n",
       "      <td>NaN</td>\n",
       "      <td>NaN</td>\n",
       "      <td>NaN</td>\n",
       "      <td>NaN</td>\n",
       "      <td>NaN</td>\n",
       "    </tr>\n",
       "    <tr>\n",
       "      <th>1998-01-07</th>\n",
       "      <td>NaN</td>\n",
       "      <td>NaN</td>\n",
       "      <td>NaN</td>\n",
       "      <td>NaN</td>\n",
       "      <td>NaN</td>\n",
       "      <td>NaN</td>\n",
       "      <td>NaN</td>\n",
       "      <td>-0.042290</td>\n",
       "      <td>1.002099</td>\n",
       "      <td>0.980669</td>\n",
       "      <td>...</td>\n",
       "      <td>-0.677287</td>\n",
       "      <td>-1.175835</td>\n",
       "      <td>-0.635858</td>\n",
       "      <td>NaN</td>\n",
       "      <td>NaN</td>\n",
       "      <td>NaN</td>\n",
       "      <td>NaN</td>\n",
       "      <td>NaN</td>\n",
       "      <td>NaN</td>\n",
       "      <td>NaN</td>\n",
       "    </tr>\n",
       "    <tr>\n",
       "      <th>1998-01-08</th>\n",
       "      <td>NaN</td>\n",
       "      <td>NaN</td>\n",
       "      <td>NaN</td>\n",
       "      <td>NaN</td>\n",
       "      <td>NaN</td>\n",
       "      <td>NaN</td>\n",
       "      <td>NaN</td>\n",
       "      <td>-0.024094</td>\n",
       "      <td>-2.074267</td>\n",
       "      <td>-1.828950</td>\n",
       "      <td>...</td>\n",
       "      <td>-0.202411</td>\n",
       "      <td>-2.278200</td>\n",
       "      <td>-0.605092</td>\n",
       "      <td>NaN</td>\n",
       "      <td>NaN</td>\n",
       "      <td>NaN</td>\n",
       "      <td>NaN</td>\n",
       "      <td>NaN</td>\n",
       "      <td>NaN</td>\n",
       "      <td>NaN</td>\n",
       "    </tr>\n",
       "  </tbody>\n",
       "</table>\n",
       "<p>5 rows × 3500 columns</p>\n",
       "</div>"
      ],
      "text/plain": [
       "            a_c1_c0  a_c_2_h  a_c_2_o  a_h_2_l  a_h_2_o  a_l_2_o  a_vol  \\\n",
       "1998-01-02      NaN      NaN      NaN      NaN      NaN      NaN    NaN   \n",
       "1998-01-05      NaN      NaN      NaN      NaN      NaN      NaN    NaN   \n",
       "1998-01-06      NaN      NaN      NaN      NaN      NaN      NaN    NaN   \n",
       "1998-01-07      NaN      NaN      NaN      NaN      NaN      NaN    NaN   \n",
       "1998-01-08      NaN      NaN      NaN      NaN      NaN      NaN    NaN   \n",
       "\n",
       "            aa_c1_c0  aa_c_2_h  aa_c_2_o   ...     zion_h_2_o  zion_l_2_o  \\\n",
       "1998-01-02  0.017390  0.670259 -0.017649   ...       0.246401    0.710284   \n",
       "1998-01-05 -0.022601  0.462520  0.373488   ...       0.127875    0.710284   \n",
       "1998-01-06  0.001693 -0.088471 -0.718569   ...      -0.677287   -1.264514   \n",
       "1998-01-07 -0.042290  1.002099  0.980669   ...      -0.677287   -1.175835   \n",
       "1998-01-08 -0.024094 -2.074267 -1.828950   ...      -0.202411   -2.278200   \n",
       "\n",
       "            zion_vol  zmh_c1_c0  zmh_c_2_h  zmh_c_2_o  zmh_h_2_l  zmh_h_2_o  \\\n",
       "1998-01-02 -0.724482        NaN        NaN        NaN        NaN        NaN   \n",
       "1998-01-05 -0.735275        NaN        NaN        NaN        NaN        NaN   \n",
       "1998-01-06 -0.683202        NaN        NaN        NaN        NaN        NaN   \n",
       "1998-01-07 -0.635858        NaN        NaN        NaN        NaN        NaN   \n",
       "1998-01-08 -0.605092        NaN        NaN        NaN        NaN        NaN   \n",
       "\n",
       "            zmh_l_2_o  zmh_vol  \n",
       "1998-01-02        NaN      NaN  \n",
       "1998-01-05        NaN      NaN  \n",
       "1998-01-06        NaN      NaN  \n",
       "1998-01-07        NaN      NaN  \n",
       "1998-01-08        NaN      NaN  \n",
       "\n",
       "[5 rows x 3500 columns]"
      ]
     },
     "execution_count": 59,
     "metadata": {},
     "output_type": "execute_result"
    }
   ],
   "source": [
    "P.head()"
   ]
  },
  {
   "cell_type": "code",
   "execution_count": 60,
   "metadata": {
    "collapsed": true
   },
   "outputs": [],
   "source": [
    "clean_and_flat = P.dropna(1)"
   ]
  },
  {
   "cell_type": "code",
   "execution_count": 61,
   "metadata": {
    "collapsed": true
   },
   "outputs": [],
   "source": [
    "target_cols = list(filter(lambda x: 'c1_c0' in x, clean_and_flat.columns.values))\n",
    "input_cols  = list(filter(lambda x: 'c1_c0' not in x, clean_and_flat.columns.values))"
   ]
  },
  {
   "cell_type": "code",
   "execution_count": 62,
   "metadata": {
    "collapsed": true
   },
   "outputs": [],
   "source": [
    "InputDF = clean_and_flat[input_cols][:3900]\n",
    "TargetDF = clean_and_flat[target_cols][:3900]"
   ]
  },
  {
   "cell_type": "code",
   "execution_count": 63,
   "metadata": {
    "collapsed": true
   },
   "outputs": [],
   "source": [
    "corrs = TargetDF.corr()"
   ]
  },
  {
   "cell_type": "code",
   "execution_count": 64,
   "metadata": {
    "collapsed": true
   },
   "outputs": [],
   "source": [
    "num_stocks = len(TargetDF.columns)"
   ]
  },
  {
   "cell_type": "code",
   "execution_count": 65,
   "metadata": {
    "collapsed": true
   },
   "outputs": [],
   "source": [
    "TotalReturn = ((1-exp(TargetDF)).sum(1))/num_stocks # If i put one dollar in each stock at the close, this is how much I'd get back"
   ]
  },
  {
   "cell_type": "code",
   "execution_count": 66,
   "metadata": {
    "collapsed": true
   },
   "outputs": [],
   "source": [
    "def labeler(x):\n",
    "    if x>0.0029:\n",
    "        return 1\n",
    "    if x<-0.00462:\n",
    "        return -1\n",
    "    else:\n",
    "        return 0"
   ]
  },
  {
   "cell_type": "code",
   "execution_count": 67,
   "metadata": {
    "collapsed": true
   },
   "outputs": [],
   "source": [
    "Labeled = pd.DataFrame()\n",
    "Labeled['return'] = TotalReturn\n",
    "Labeled['class'] = TotalReturn.apply(labeler,1)\n",
    "Labeled['multi_class'] = pd.qcut(TotalReturn,11,labels=range(11))"
   ]
  },
  {
   "cell_type": "code",
   "execution_count": 68,
   "metadata": {
    "collapsed": false
   },
   "outputs": [
    {
     "data": {
      "text/plain": [
       "[(-0.00301, 0.00119], (0.00741, 0.0999], (0.00119, 0.00741], [-0.108, -0.00877], (-0.00877, -0.00301]]\n",
       "Categories (5, object): [[-0.108, -0.00877] < (-0.00877, -0.00301] < (-0.00301, 0.00119] < (0.00119, 0.00741] < (0.00741, 0.0999]]"
      ]
     },
     "execution_count": 68,
     "metadata": {},
     "output_type": "execute_result"
    }
   ],
   "source": [
    "pd.qcut(TotalReturn,5).unique()"
   ]
  },
  {
   "cell_type": "code",
   "execution_count": 69,
   "metadata": {
    "collapsed": true
   },
   "outputs": [],
   "source": [
    "def labeler_multi(x):\n",
    "    if x>0.0029:\n",
    "        return 1\n",
    "    if x<-0.00462:\n",
    "        return -1\n",
    "    else:\n",
    "        return 0"
   ]
  },
  {
   "cell_type": "code",
   "execution_count": 70,
   "metadata": {
    "collapsed": false
   },
   "outputs": [
    {
     "data": {
      "text/plain": [
       " 1    1301\n",
       " 0    1301\n",
       "-1    1298\n",
       "Name: class, dtype: int64"
      ]
     },
     "execution_count": 70,
     "metadata": {},
     "output_type": "execute_result"
    }
   ],
   "source": [
    "Labeled['class'].value_counts()"
   ]
  },
  {
   "cell_type": "code",
   "execution_count": 71,
   "metadata": {
    "collapsed": true
   },
   "outputs": [],
   "source": [
    "Labeled['act_return'] = Labeled['class'] * Labeled['return']"
   ]
  },
  {
   "cell_type": "code",
   "execution_count": 72,
   "metadata": {
    "collapsed": false
   },
   "outputs": [
    {
     "data": {
      "text/plain": [
       "array([<matplotlib.axes._subplots.AxesSubplot object at 0x7f36290ab860>,\n",
       "       <matplotlib.axes._subplots.AxesSubplot object at 0x7f3629007860>], dtype=object)"
      ]
     },
     "execution_count": 72,
     "metadata": {},
     "output_type": "execute_result"
    },
    {
     "data": {
      "image/png": "[encoded data removed]",
      "text/plain": [
       "<matplotlib.figure.Figure at 0x7f3629101e48>"
      ]
     },
     "metadata": {},
     "output_type": "display_data"
    }
   ],
   "source": [
    "Labeled[['return','act_return']].cumsum().plot(subplots=True)"
   ]
  },
  {
   "cell_type": "markdown",
   "metadata": {},
   "source": [
    "##### Logistic Regression"
   ]
  },
  {
   "cell_type": "code",
   "execution_count": 73,
   "metadata": {
    "collapsed": true
   },
   "outputs": [],
   "source": [
    "from sklearn import linear_model\n",
    "logreg = linear_model.LogisticRegression(C=1e5)"
   ]
  },
  {
   "cell_type": "code",
   "execution_count": 74,
   "metadata": {
    "collapsed": true
   },
   "outputs": [],
   "source": [
    "test_size=600"
   ]
  },
  {
   "cell_type": "code",
   "execution_count": 75,
   "metadata": {
    "collapsed": true
   },
   "outputs": [],
   "source": [
    "res = logreg.fit(InputDF[:-test_size],Labeled['multi_class'][:-test_size])"
   ]
  },
  {
   "cell_type": "code",
   "execution_count": null,
   "metadata": {
    "collapsed": true
   },
   "outputs": [],
   "source": [
    "from sklearn.metrics import classification_report,confusion_matrix\n",
    "#print(classification_report(Labeled['multi_class'][-test_size:],res.predict(InputDF[-test_size:])))\n",
    "print(confusion_matrix(Labeled['multi_class'][-test_size:],res.predict(InputDF[-test_size:])))"
   ]
  }
 ],
 "metadata": {
  "anaconda-cloud": {},
  "kernelspec": {
   "display_name": "Python 3",
   "language": "python",
   "name": "python3"
  },
  "language_info": {
   "codemirror_mode": {
    "name": "ipython",
    "version": 3
   },
   "file_extension": ".py",
   "mimetype": "text/x-python",
   "name": "python",
   "nbconvert_exporter": "python",
   "pygments_lexer": "ipython3",
   "version": "3.5.2"
  },
  "widgets": {
   "state": {},
   "version": "1.1.2"
  }
 },
 "nbformat": 4,
 "nbformat_minor": 1
}
