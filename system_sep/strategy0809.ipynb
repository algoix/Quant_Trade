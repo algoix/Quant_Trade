{
 "cells": [
  {
   "cell_type": "code",
   "execution_count": 1,
   "metadata": {
    "collapsed": false
   },
   "outputs": [
    {
     "name": "stdout",
     "output_type": "stream",
     "text": [
      "Collecting & plotting stock prices.\n"
     ]
    }
   ],
   "source": [
    "%run client_collection.py"
   ]
  },
  {
   "cell_type": "code",
   "execution_count": 2,
   "metadata": {
    "collapsed": true
   },
   "outputs": [],
   "source": [
    "%run preprocessing.py"
   ]
  },
  {
   "cell_type": "code",
   "execution_count": 3,
   "metadata": {
    "collapsed": false
   },
   "outputs": [
    {
     "name": "stderr",
     "output_type": "stream",
     "text": [
      "/home/octo/anaconda2/envs/carnd-term1/lib/python3.5/site-packages/statsmodels/compat/pandas.py:56: FutureWarning:\n",
      "\n",
      "The pandas.core.datetools module is deprecated and will be removed in a future version. Please use the pandas.tseries module instead.\n",
      "\n",
      "Using TensorFlow backend.\n"
     ]
    }
   ],
   "source": [
    "%run km_arima_lstm.py"
   ]
  },
  {
   "cell_type": "code",
   "execution_count": 6,
   "metadata": {
    "collapsed": false
   },
   "outputs": [
    {
     "data": {
      "text/plain": [
       "\"\\nfinal=pd.DataFrame()\\nwindow=1000\\nfor _ in range(window):\\n#while True:\\n    iterations += 1\\n    string = socket.recv_string()\\n    sym, bidPrice,bidSize,askPrice,askSize = string.split()\\n    #print('%s %s %s %s %s' % (sym, bidPrice,bidSize,askPrice,askSize))\\n    dt = datetime.datetime.now()\\n    df = df.append(pd.DataFrame({'bidPrice': float(bidPrice),'bidSize': float(bidSize),'askPrice': float(askPrice),'askSize': float(askSize)},index=[dt]))\\n    data=preprocessing_df(df)\\n    #print(df.tail(1))\\n    print(data.tail(1))   \\n\""
      ]
     },
     "execution_count": 6,
     "metadata": {},
     "output_type": "execute_result"
    }
   ],
   "source": [
    "## warm up upto preprocessing\n",
    "'''\n",
    "final=pd.DataFrame()\n",
    "window=1000\n",
    "for _ in range(window):\n",
    "#while True:\n",
    "    iterations += 1\n",
    "    string = socket.recv_string()\n",
    "    sym, bidPrice,bidSize,askPrice,askSize = string.split()\n",
    "    #print('%s %s %s %s %s' % (sym, bidPrice,bidSize,askPrice,askSize))\n",
    "    dt = datetime.datetime.now()\n",
    "    df = df.append(pd.DataFrame({'bidPrice': float(bidPrice),'bidSize': float(bidSize),'askPrice': float(askPrice),'askSize': float(askSize)},index=[dt]))\n",
    "    data=preprocessing_df(df)\n",
    "    #print(df.tail(1))\n",
    "    print(data.tail(1))   \n",
    "'''"
   ]
  },
  {
   "cell_type": "code",
   "execution_count": 11,
   "metadata": {
    "collapsed": false
   },
   "outputs": [
    {
     "data": {
      "text/plain": [
       "100"
      ]
     },
     "execution_count": 11,
     "metadata": {},
     "output_type": "execute_result"
    }
   ],
   "source": [
    "len(data)"
   ]
  },
  {
   "cell_type": "code",
   "execution_count": 8,
   "metadata": {
    "collapsed": false
   },
   "outputs": [],
   "source": [
    "#testing to delete inf and NaN\n",
    "data=data[1000:2000]"
   ]
  },
  {
   "cell_type": "code",
   "execution_count": 9,
   "metadata": {
    "collapsed": false
   },
   "outputs": [
    {
     "data": {
      "text/html": [
       "<div>\n",
       "<style>\n",
       "    .dataframe thead tr:only-child th {\n",
       "        text-align: right;\n",
       "    }\n",
       "\n",
       "    .dataframe thead th {\n",
       "        text-align: left;\n",
       "    }\n",
       "\n",
       "    .dataframe tbody tr th {\n",
       "        vertical-align: top;\n",
       "    }\n",
       "</style>\n",
       "<table border=\"1\" class=\"dataframe\">\n",
       "  <thead>\n",
       "    <tr style=\"text-align: right;\">\n",
       "      <th></th>\n",
       "      <th>Close</th>\n",
       "      <th>D</th>\n",
       "      <th>U</th>\n",
       "      <th>askPrice</th>\n",
       "      <th>askSize</th>\n",
       "      <th>bidPrice</th>\n",
       "      <th>bidSize</th>\n",
       "      <th>log</th>\n",
       "      <th>logDiff</th>\n",
       "      <th>price</th>\n",
       "      <th>sigma</th>\n",
       "    </tr>\n",
       "  </thead>\n",
       "  <tbody>\n",
       "    <tr>\n",
       "      <th>2017-09-08 20:25:46.256804</th>\n",
       "      <td>246.755</td>\n",
       "      <td>0</td>\n",
       "      <td>1</td>\n",
       "      <td>246.76</td>\n",
       "      <td>19.0</td>\n",
       "      <td>246.75</td>\n",
       "      <td>228.0</td>\n",
       "      <td>5.508396</td>\n",
       "      <td>0.000041</td>\n",
       "      <td>246.750769</td>\n",
       "      <td>0.000008</td>\n",
       "    </tr>\n",
       "    <tr>\n",
       "      <th>2017-09-08 20:25:46.267021</th>\n",
       "      <td>246.755</td>\n",
       "      <td>0</td>\n",
       "      <td>1</td>\n",
       "      <td>246.76</td>\n",
       "      <td>22.0</td>\n",
       "      <td>246.75</td>\n",
       "      <td>228.0</td>\n",
       "      <td>5.508396</td>\n",
       "      <td>0.000041</td>\n",
       "      <td>246.750880</td>\n",
       "      <td>0.000006</td>\n",
       "    </tr>\n",
       "  </tbody>\n",
       "</table>\n",
       "</div>"
      ],
      "text/plain": [
       "                              Close  D  U  askPrice  askSize  bidPrice  \\\n",
       "2017-09-08 20:25:46.256804  246.755  0  1    246.76     19.0    246.75   \n",
       "2017-09-08 20:25:46.267021  246.755  0  1    246.76     22.0    246.75   \n",
       "\n",
       "                            bidSize       log   logDiff       price     sigma  \n",
       "2017-09-08 20:25:46.256804    228.0  5.508396  0.000041  246.750769  0.000008  \n",
       "2017-09-08 20:25:46.267021    228.0  5.508396  0.000041  246.750880  0.000006  "
      ]
     },
     "execution_count": 9,
     "metadata": {},
     "output_type": "execute_result"
    }
   ],
   "source": [
    "#checking\n",
    "data.head(2)"
   ]
  },
  {
   "cell_type": "code",
   "execution_count": 10,
   "metadata": {
    "collapsed": false
   },
   "outputs": [
    {
     "name": "stderr",
     "output_type": "stream",
     "text": [
      "/home/octo/anaconda2/envs/carnd-term1/lib/python3.5/site-packages/sklearn/utils/validation.py:526: DataConversionWarning:\n",
      "\n",
      "A column-vector y was passed when a 1d array was expected. Please change the shape of y to (n_samples, ), for example using ravel().\n",
      "\n"
     ]
    }
   ],
   "source": [
    "import pickle\n",
    "#from sklearn.cross_validation import train_test_split\n",
    "from sklearn import linear_model\n",
    "from sklearn.svm import SVR\n",
    "from sklearn.preprocessing import MinMaxScaler\n",
    "from sklearn.model_selection import train_test_split\n",
    "from sklearn.svm import SVC\n",
    "\n",
    "\n",
    "df=data\n",
    "# saving linear model\n",
    "df=df[1:].dropna()\n",
    "X=df[['askPrice','askSize','bidPrice','bidSize','Close','U','D','sigma']]\n",
    "y=df[['logDiff']]\n",
    "regr = linear_model.LinearRegression()\n",
    "regr_model=regr.fit(X,y)\n",
    "regr_model = pickle.dumps(regr_model)\n",
    "# Fit regression model\n",
    "svr_rbf = SVR(kernel='rbf', C=1e3, gamma=0.9) #kernel='linear' #kernel='poly'\n",
    "svr_model = svr_rbf.fit(X, y)\n",
    "svr_model = pickle.dumps(svr_model)\n",
    "\n",
    "# saving logistics and SVC model\n",
    "df=df[1:].dropna()\n",
    "X=df[['askPrice','askSize','bidPrice','bidSize','Close','price','sigma']]\n",
    "y1=df[['U']]\n",
    "y2=df[['D']]\n",
    "\n",
    "svm = SVC(kernel='linear')\n",
    "lm = linear_model.LogisticRegression(C=1e4)\n",
    "svm_model_up= svm.fit(X,y1)\n",
    "svm_model_up = pickle.dumps(svm_model_up)\n",
    "lm_model_up= lm.fit(X, y1)\n",
    "lm_model_up = pickle.dumps(lm_model_up)\n",
    "svm_model_dn= svm.fit(X, y2)\n",
    "svm_model_dn = pickle.dumps(svm_model_dn)\n",
    "lm_model_dn= lm.fit(X, y2)\n",
    "lm_model_dn = pickle.dumps(lm_model_dn)\n",
    "\n",
    "\n",
    "#loading regression model, first save the model\n",
    "svr_model = pickle.loads(svr_model)\n",
    "regr_model = pickle.loads(regr_model)\n",
    "\n",
    "#loading classification model, first save the model\n",
    "svm_model_up = pickle.loads(svm_model_up)\n",
    "svm_model_dn = pickle.loads(svm_model_dn)\n",
    "lm_model_up = pickle.loads(lm_model_up)\n",
    "lm_model_dn = pickle.loads(lm_model_dn)\n",
    "\n",
    "def strat_lr(data):\n",
    "    data=data.tail(60).dropna()\n",
    "    X=data[['askPrice','askSize','bidPrice','bidSize','Close','U','D','sigma']]\n",
    "    y=data[['logDiff']]\n",
    "    predict_regr=regr_model.predict(X)\n",
    "    predict_svr=svr_model.predict(X)\n",
    "    dt=data[['Close']]\n",
    "    dt['predict_regr']=predict_regr\n",
    "    dt['predict_svr']=predict_svr\n",
    "        \n",
    "    #pdf=data\n",
    "    #pdf['pREG']=np.exp(dt.predict_regr+data.log.shift(59))\n",
    "    #pdf['pSVR']=np.exp(dt.predict_regr+data.log.shift(59))\n",
    "    data['pREG']=np.exp(dt.predict_regr+data.log.shift(59))\n",
    "    data['pSVR']=np.exp(dt.predict_regr+data.log.shift(59))\n",
    "    return data\n",
    "\n",
    "def classification_up_dn(data):\n",
    "    X=data[['askPrice','askSize','bidPrice','bidSize','Close','price','sigma']]\n",
    "    y1=data[['U']]\n",
    "    y2=data[['D']]\n",
    "    pr_df=data.tail(60)\n",
    "    predict_svm_up=svm_model_up.predict(X.tail(60))\n",
    "    pr_df['predict_svm_up']=predict_svm_up\n",
    "    predict_lm_up=lm_model_up.predict(X.tail(60))\n",
    "    pr_df['predict_lm_up']=predict_lm_up\n",
    "    predict_svm_dn=svm_model_dn.predict(X.tail(60))\n",
    "    pr_df['predict_svm_dn']=predict_svm_dn\n",
    "    predict_lm_dn=lm_model_dn.predict(X.tail(60))\n",
    "    pr_df['predict_lm_dn']=predict_lm_dn\n",
    "    pr_df['predict_svm']=pr_df.predict_svm_up+pr_df.predict_svm_dn\n",
    "    pr_df['predict_lm']=pr_df.predict_lm_up+pr_df.predict_lm_dn\n",
    "    return pr_df"
   ]
  },
  {
   "cell_type": "code",
   "execution_count": 20,
   "metadata": {
    "collapsed": true
   },
   "outputs": [],
   "source": [
    "import json\n",
    "import plotly_stream as plyst\n",
    "import plotly.tools as plyt\n",
    "import plotly.plotly as ply"
   ]
  },
  {
   "cell_type": "code",
   "execution_count": 21,
   "metadata": {
    "collapsed": false
   },
   "outputs": [],
   "source": [
    "import json\n",
    "import datetime\n",
    "import time\n",
    "import random\n",
    "import pandas as pd\n",
    "import plotly.plotly as py\n",
    "import plotly.tools as tls \n",
    "from plotly.graph_objs import *\n",
    "import cufflinks"
   ]
  },
  {
   "cell_type": "code",
   "execution_count": 16,
   "metadata": {
    "collapsed": true
   },
   "outputs": [],
   "source": [
    "pc = json.load(open('creds/plotly_creds.json', 'r'))"
   ]
  },
  {
   "cell_type": "code",
   "execution_count": 17,
   "metadata": {
    "collapsed": true
   },
   "outputs": [],
   "source": [
    "plyt.set_credentials_file(username=pc['username'], api_key=pc['api_key'])"
   ]
  },
  {
   "cell_type": "code",
   "execution_count": 18,
   "metadata": {
    "collapsed": true
   },
   "outputs": [],
   "source": [
    "plyst.plotly_stream.set_stream_tokens(pc['stream_ids'])"
   ]
  },
  {
   "cell_type": "code",
   "execution_count": 55,
   "metadata": {
    "collapsed": false
   },
   "outputs": [],
   "source": [
    "#!pip install twisted"
   ]
  },
  {
   "cell_type": "code",
   "execution_count": 54,
   "metadata": {
    "collapsed": false
   },
   "outputs": [],
   "source": [
    "# solving module 'twisted' has no attribute '__version__'\n",
    "#!pip install --upgrade pyopenssl"
   ]
  },
  {
   "cell_type": "code",
   "execution_count": 22,
   "metadata": {
    "collapsed": false
   },
   "outputs": [],
   "source": [
    "pcreds = json.load(open('creds/plotly_creds.json', 'r'))\n",
    "py.sign_in(pcreds['username'], pcreds['api_key'])\n",
    "from autobahn.twisted.websocket import WebSocketClientProtocol, \\\n",
    "                                       WebSocketClientFactory"
   ]
  },
  {
   "cell_type": "code",
   "execution_count": 24,
   "metadata": {
    "collapsed": true
   },
   "outputs": [],
   "source": [
    "# plotly preparations\n",
    "\n",
    "# get stream id from stream id list\n",
    "stream_ids = pcreds['stream_ids']\n",
    "\n",
    "# generate Stream object with maximum points 150\n",
    "stream_0 = Stream(\n",
    "    token=stream_ids[0],\n",
    "    maxpoints=150)\n",
    "\n",
    "# generate Scatter & Data objects\n",
    "trace0 = Scatter(\n",
    "    x=[], y=[],\n",
    "    mode='lines+markers',\n",
    "    stream=stream_0,\n",
    "    name='price')\n",
    "\n",
    "dats = Data([trace0])"
   ]
  },
  {
   "cell_type": "code",
   "execution_count": 44,
   "metadata": {
    "collapsed": false
   },
   "outputs": [
    {
     "name": "stdout",
     "output_type": "stream",
     "text": [
      "URL of the streaming plot:\n",
      "https://plot.ly/~parthasen/16\n"
     ]
    }
   ],
   "source": [
    "# generate figure object\n",
    "layout = Layout(title=' ')\n",
    "fig = Figure(data=dats, layout=layout)\n",
    "unique_url = py.plot(fig, filename='stream_plot', auto_open=False)\n",
    "\n",
    "print('URL of the streaming plot:\\n%s' % unique_url)\n",
    "\n",
    "s0 = py.Stream(stream_ids[0])\n",
    "s0.open()\n",
    "s1 = py.Stream(stream_ids[1])\n",
    "s1.open()"
   ]
  },
  {
   "cell_type": "markdown",
   "metadata": {},
   "source": [
    "### testing"
   ]
  },
  {
   "cell_type": "code",
   "execution_count": 67,
   "metadata": {
    "collapsed": false
   },
   "outputs": [
    {
     "name": "stderr",
     "output_type": "stream",
     "text": [
      "/home/octo/anaconda2/envs/carnd-term1/lib/python3.5/site-packages/ipykernel/__main__.py:58: SettingWithCopyWarning:\n",
      "\n",
      "\n",
      "A value is trying to be set on a copy of a slice from a DataFrame.\n",
      "Try using .loc[row_indexer,col_indexer] = value instead\n",
      "\n",
      "See the caveats in the documentation: http://pandas.pydata.org/pandas-docs/stable/indexing.html#indexing-view-versus-copy\n",
      "\n",
      "/home/octo/anaconda2/envs/carnd-term1/lib/python3.5/site-packages/ipykernel/__main__.py:59: SettingWithCopyWarning:\n",
      "\n",
      "\n",
      "A value is trying to be set on a copy of a slice from a DataFrame.\n",
      "Try using .loc[row_indexer,col_indexer] = value instead\n",
      "\n",
      "See the caveats in the documentation: http://pandas.pydata.org/pandas-docs/stable/indexing.html#indexing-view-versus-copy\n",
      "\n",
      "/home/octo/anaconda2/envs/carnd-term1/lib/python3.5/site-packages/ipykernel/__main__.py:74: SettingWithCopyWarning:\n",
      "\n",
      "\n",
      "A value is trying to be set on a copy of a slice from a DataFrame.\n",
      "Try using .loc[row_indexer,col_indexer] = value instead\n",
      "\n",
      "See the caveats in the documentation: http://pandas.pydata.org/pandas-docs/stable/indexing.html#indexing-view-versus-copy\n",
      "\n",
      "/home/octo/anaconda2/envs/carnd-term1/lib/python3.5/site-packages/ipykernel/__main__.py:76: SettingWithCopyWarning:\n",
      "\n",
      "\n",
      "A value is trying to be set on a copy of a slice from a DataFrame.\n",
      "Try using .loc[row_indexer,col_indexer] = value instead\n",
      "\n",
      "See the caveats in the documentation: http://pandas.pydata.org/pandas-docs/stable/indexing.html#indexing-view-versus-copy\n",
      "\n",
      "/home/octo/anaconda2/envs/carnd-term1/lib/python3.5/site-packages/ipykernel/__main__.py:78: SettingWithCopyWarning:\n",
      "\n",
      "\n",
      "A value is trying to be set on a copy of a slice from a DataFrame.\n",
      "Try using .loc[row_indexer,col_indexer] = value instead\n",
      "\n",
      "See the caveats in the documentation: http://pandas.pydata.org/pandas-docs/stable/indexing.html#indexing-view-versus-copy\n",
      "\n",
      "/home/octo/anaconda2/envs/carnd-term1/lib/python3.5/site-packages/ipykernel/__main__.py:80: SettingWithCopyWarning:\n",
      "\n",
      "\n",
      "A value is trying to be set on a copy of a slice from a DataFrame.\n",
      "Try using .loc[row_indexer,col_indexer] = value instead\n",
      "\n",
      "See the caveats in the documentation: http://pandas.pydata.org/pandas-docs/stable/indexing.html#indexing-view-versus-copy\n",
      "\n",
      "/home/octo/anaconda2/envs/carnd-term1/lib/python3.5/site-packages/ipykernel/__main__.py:81: SettingWithCopyWarning:\n",
      "\n",
      "\n",
      "A value is trying to be set on a copy of a slice from a DataFrame.\n",
      "Try using .loc[row_indexer,col_indexer] = value instead\n",
      "\n",
      "See the caveats in the documentation: http://pandas.pydata.org/pandas-docs/stable/indexing.html#indexing-view-versus-copy\n",
      "\n",
      "/home/octo/anaconda2/envs/carnd-term1/lib/python3.5/site-packages/ipykernel/__main__.py:82: SettingWithCopyWarning:\n",
      "\n",
      "\n",
      "A value is trying to be set on a copy of a slice from a DataFrame.\n",
      "Try using .loc[row_indexer,col_indexer] = value instead\n",
      "\n",
      "See the caveats in the documentation: http://pandas.pydata.org/pandas-docs/stable/indexing.html#indexing-view-versus-copy\n",
      "\n",
      "/home/octo/anaconda2/envs/carnd-term1/lib/python3.5/site-packages/ipykernel/__main__.py:32: SettingWithCopyWarning:\n",
      "\n",
      "\n",
      "A value is trying to be set on a copy of a slice from a DataFrame.\n",
      "Try using .loc[row_indexer,col_indexer] = value instead\n",
      "\n",
      "See the caveats in the documentation: http://pandas.pydata.org/pandas-docs/stable/indexing.html#indexing-view-versus-copy\n",
      "\n"
     ]
    },
    {
     "name": "stdout",
     "output_type": "stream",
     "text": [
      "                              Close       price          km    pr_arima  UD  \\\n",
      "2017-09-08 22:54:39.888967  246.845  246.840432  246.848182  246.855002   1   \n",
      "\n",
      "                                LSTM  \n",
      "2017-09-08 22:54:39.888967  0.318773  \n",
      "                             Close   price          km    pr_arima  UD  \\\n",
      "2017-09-08 22:54:40.917290  246.85  246.85  246.848323  246.855002   1   \n",
      "\n",
      "                                LSTM  \n",
      "2017-09-08 22:54:40.917290  0.284741  \n",
      "                             Close   price         km    pr_arima  UD     LSTM\n",
      "2017-09-08 22:54:41.972271  246.85  246.85  246.84845  246.855002   0  0.02745\n",
      "                              Close       price          km    pr_arima  UD  \\\n",
      "2017-09-08 22:54:43.038164  246.855  246.851646  246.848719  246.860002   0   \n",
      "\n",
      "                                LSTM  \n",
      "2017-09-08 22:54:43.038164  0.230136  \n",
      "                              Close       price          km    pr_arima  UD  \\\n",
      "2017-09-08 22:54:44.666503  246.855  246.858182  246.849584  246.860002  -1   \n",
      "\n",
      "                                LSTM  \n",
      "2017-09-08 22:54:44.666503  0.022698  \n",
      "                              Close       price          km    pr_arima  UD  \\\n",
      "2017-09-08 22:54:45.721488  246.855  246.858182  246.850363  246.865002  -1   \n",
      "\n",
      "                                LSTM  \n",
      "2017-09-08 22:54:45.721488  0.114068  \n",
      "                              Close       price          km    pr_arima  UD  \\\n",
      "2017-09-08 22:54:46.742297  246.855  246.858182  246.851067  246.865002  -1   \n",
      "\n",
      "                                LSTM  \n",
      "2017-09-08 22:54:46.742297  0.113899  \n",
      "                              Close       price          km    pr_arima  UD  \\\n",
      "2017-09-08 22:54:47.760532  246.855  246.858462  246.851731  246.865002  -1   \n",
      "\n",
      "                                LSTM  \n",
      "2017-09-08 22:54:47.760532  0.166404  \n",
      "                              Close       price          km    pr_arima  UD  \\\n",
      "2017-09-08 22:54:48.767472  246.855  246.858407  246.852326  246.865002  -1   \n",
      "\n",
      "                                LSTM  \n",
      "2017-09-08 22:54:48.767472  0.173726  \n",
      "                             Close       price          km    pr_arima  UD  \\\n",
      "2017-09-08 22:54:49.779847  246.85  246.856814  246.852713  246.865002  -1   \n",
      "\n",
      "                                LSTM  \n",
      "2017-09-08 22:54:49.779847  0.172528  \n"
     ]
    }
   ],
   "source": [
    "window=10\n",
    "for _ in range(window):\n",
    "    iterations += 1\n",
    "    string = socket.recv_string()\n",
    "    sym, bidPrice,bidSize,askPrice,askSize = string.split()\n",
    "    #print('%s %s %s %s %s' % (sym, bidPrice,bidSize,askPrice,askSize))\n",
    "    dt = datetime.datetime.now()\n",
    "    df = df.append(pd.DataFrame({'bidPrice': float(bidPrice),'bidSize': float(bidSize),'askPrice': float(askPrice),'askSize': float(askSize)},index=[dt]))\n",
    "    data=preprocessing_df(df)\n",
    "    \n",
    "    pre_arima=ARIMA_df(data.logDiff)\n",
    "    data['pr_arima']=np.exp(float(pre_arima[-1])+df.log.shift(60))\n",
    "    \n",
    "    data=kalman_ma(data)\n",
    "    data=strat_lr(data)\n",
    "    data=classification_up_dn(data)\n",
    "    \n",
    "    data['predict_svm']=data.predict_svm_up+data.predict_svm_dn\n",
    "    data['predict_lm']=data.predict_lm_up+data.predict_lm_dn\n",
    "    #data['UD']=np.where(data.predict_svm+data.predict_lm>0,1,np.where(data.predict_svm+data.predict_lm<0,-1,0))  \n",
    "    data['UD']=np.where(np.logical_and(data.predict_svm>0,data.predict_lm>0),1,np.where(np.logical_and(data.predict_svm<0,data.predict_lm<0),-1,0))  \n",
    "    #data=data.dropna()   \n",
    "    data['spread']=data.Close-data.pr_arima\n",
    "\n",
    "    df_LSTM= data[['askPrice','askSize','bidPrice','bidSize','Close','spread','pr_arima','sigma']]\n",
    "    pr,y=strat_LSTM(df_LSTM)\n",
    "    UD=pr[-1]-y[-1]\n",
    "    final=final.append(pd.DataFrame({'LSTM':float(UD)},index=[dt]))\n",
    "    #output=data[['Close','price','km','pr_arima','pREG','pSVR','UD']]\n",
    "    output=data[['Close','price','km','pr_arima','UD']]\n",
    "    #output['spread']=data.pREG-data.SVR\n",
    "    output['LSTM']=final.LSTM\n",
    "       \n",
    "    #plotting\n",
    "    dt = datetime.datetime.now()\n",
    "    s0.write({'x': str(dt)[11:-3], 'y': float(output['price'].tail(1))})\n",
    "    #s1.write({'x': str(dt)[11:-3], 'y': float(output['km'].tail(1))})\n",
    "    \n",
    "    #trading\n",
    "\n",
    "    #output['signal']=0\n",
    "    #if output.Close.ix[-1]>output.km.ix[-1] and output.Close.ix[-1]>output.price.ix[-1] and output.LSTM.ix[-1]>output.LSTM.shift(1).ix[-1] and output.pr_arima.ix[-1]>output.pr_arima.shift(1).ix[-1]:\n",
    "    #    output['signal']=1\n",
    "        #print('long the market')\n",
    "    #if output.Close.ix[-1]<output.km.ix[-1] and output.Close.ix[-1]<output.price.ix[-1] and output.LSTM.ix[-1]<output.LSTM.shift(1).ix[-1] and output.pr_arima.ix[-1]<output.pr_arima.shift(1).ix[-1]:\n",
    "    #    output['signal']=-1\n",
    "        #print('long the market')        \n",
    "    \n",
    "    #print(data.tail(1))\n",
    "    print(output.tail(1))\n",
    "    #print(output.signal.tail(1))\n",
    "    #print(final)\n",
    "    "
   ]
  },
  {
   "cell_type": "markdown",
   "metadata": {},
   "source": [
    "### Trading"
   ]
  },
  {
   "cell_type": "code",
   "execution_count": null,
   "metadata": {
    "collapsed": false
   },
   "outputs": [
    {
     "name": "stderr",
     "output_type": "stream",
     "text": [
      "/home/octo/anaconda2/envs/carnd-term1/lib/python3.5/site-packages/ipykernel/__main__.py:58: SettingWithCopyWarning:\n",
      "\n",
      "\n",
      "A value is trying to be set on a copy of a slice from a DataFrame.\n",
      "Try using .loc[row_indexer,col_indexer] = value instead\n",
      "\n",
      "See the caveats in the documentation: http://pandas.pydata.org/pandas-docs/stable/indexing.html#indexing-view-versus-copy\n",
      "\n",
      "/home/octo/anaconda2/envs/carnd-term1/lib/python3.5/site-packages/ipykernel/__main__.py:59: SettingWithCopyWarning:\n",
      "\n",
      "\n",
      "A value is trying to be set on a copy of a slice from a DataFrame.\n",
      "Try using .loc[row_indexer,col_indexer] = value instead\n",
      "\n",
      "See the caveats in the documentation: http://pandas.pydata.org/pandas-docs/stable/indexing.html#indexing-view-versus-copy\n",
      "\n",
      "/home/octo/anaconda2/envs/carnd-term1/lib/python3.5/site-packages/ipykernel/__main__.py:74: SettingWithCopyWarning:\n",
      "\n",
      "\n",
      "A value is trying to be set on a copy of a slice from a DataFrame.\n",
      "Try using .loc[row_indexer,col_indexer] = value instead\n",
      "\n",
      "See the caveats in the documentation: http://pandas.pydata.org/pandas-docs/stable/indexing.html#indexing-view-versus-copy\n",
      "\n",
      "/home/octo/anaconda2/envs/carnd-term1/lib/python3.5/site-packages/ipykernel/__main__.py:76: SettingWithCopyWarning:\n",
      "\n",
      "\n",
      "A value is trying to be set on a copy of a slice from a DataFrame.\n",
      "Try using .loc[row_indexer,col_indexer] = value instead\n",
      "\n",
      "See the caveats in the documentation: http://pandas.pydata.org/pandas-docs/stable/indexing.html#indexing-view-versus-copy\n",
      "\n",
      "/home/octo/anaconda2/envs/carnd-term1/lib/python3.5/site-packages/ipykernel/__main__.py:78: SettingWithCopyWarning:\n",
      "\n",
      "\n",
      "A value is trying to be set on a copy of a slice from a DataFrame.\n",
      "Try using .loc[row_indexer,col_indexer] = value instead\n",
      "\n",
      "See the caveats in the documentation: http://pandas.pydata.org/pandas-docs/stable/indexing.html#indexing-view-versus-copy\n",
      "\n",
      "/home/octo/anaconda2/envs/carnd-term1/lib/python3.5/site-packages/ipykernel/__main__.py:80: SettingWithCopyWarning:\n",
      "\n",
      "\n",
      "A value is trying to be set on a copy of a slice from a DataFrame.\n",
      "Try using .loc[row_indexer,col_indexer] = value instead\n",
      "\n",
      "See the caveats in the documentation: http://pandas.pydata.org/pandas-docs/stable/indexing.html#indexing-view-versus-copy\n",
      "\n",
      "/home/octo/anaconda2/envs/carnd-term1/lib/python3.5/site-packages/ipykernel/__main__.py:81: SettingWithCopyWarning:\n",
      "\n",
      "\n",
      "A value is trying to be set on a copy of a slice from a DataFrame.\n",
      "Try using .loc[row_indexer,col_indexer] = value instead\n",
      "\n",
      "See the caveats in the documentation: http://pandas.pydata.org/pandas-docs/stable/indexing.html#indexing-view-versus-copy\n",
      "\n",
      "/home/octo/anaconda2/envs/carnd-term1/lib/python3.5/site-packages/ipykernel/__main__.py:82: SettingWithCopyWarning:\n",
      "\n",
      "\n",
      "A value is trying to be set on a copy of a slice from a DataFrame.\n",
      "Try using .loc[row_indexer,col_indexer] = value instead\n",
      "\n",
      "See the caveats in the documentation: http://pandas.pydata.org/pandas-docs/stable/indexing.html#indexing-view-versus-copy\n",
      "\n",
      "/home/octo/anaconda2/envs/carnd-term1/lib/python3.5/site-packages/ipykernel/__main__.py:31: SettingWithCopyWarning:\n",
      "\n",
      "\n",
      "A value is trying to be set on a copy of a slice from a DataFrame.\n",
      "Try using .loc[row_indexer,col_indexer] = value instead\n",
      "\n",
      "See the caveats in the documentation: http://pandas.pydata.org/pandas-docs/stable/indexing.html#indexing-view-versus-copy\n",
      "\n"
     ]
    }
   ],
   "source": [
    "while True:\n",
    "    iterations += 1\n",
    "    string = socket.recv_string()\n",
    "    sym, bidPrice,bidSize,askPrice,askSize = string.split()\n",
    "    #print('%s %s %s %s %s' % (sym, bidPrice,bidSize,askPrice,askSize))\n",
    "    dt = datetime.datetime.now()\n",
    "    df = df.append(pd.DataFrame({'bidPrice': float(bidPrice),'bidSize': float(bidSize),'askPrice': float(askPrice),'askSize': float(askSize)},index=[dt]))\n",
    "    data=preprocessing_df(df)\n",
    "    \n",
    "    pre_arima=ARIMA_df(data.logDiff)\n",
    "    data['pr_arima']=np.exp(float(pre_arima[-1])+df.log.shift(60))\n",
    "    \n",
    "    data=kalman_ma(data)\n",
    "    data=strat_lr(data)\n",
    "    data=classification_up_dn(data)\n",
    "    \n",
    "    data['predict_svm']=data.predict_svm_up+data.predict_svm_dn\n",
    "    data['predict_lm']=data.predict_lm_up+data.predict_lm_dn\n",
    "    #data['UD']=np.where(data.predict_svm+data.predict_lm>0,1,np.where(data.predict_svm+data.predict_lm<0,-1,0))  \n",
    "    data['UD']=np.where(np.logical_and(data.predict_svm>0,data.predict_lm>0),1,np.where(np.logical_and(data.predict_svm<0,data.predict_lm<0),-1,0))  \n",
    "    #data=data.dropna()   \n",
    "    data['spread']=data.Close-data.pr_arima\n",
    "\n",
    "    df_LSTM= data[['askPrice','askSize','bidPrice','bidSize','Close','spread','pr_arima','sigma']]\n",
    "    pr,y=strat_LSTM(df_LSTM)\n",
    "    UD=pr[-1]-y[-1]\n",
    "    final=final.append(pd.DataFrame({'LSTM':float(UD)},index=[dt]))\n",
    "    #output=data[['Close','price','km','pr_arima','pREG','pSVR','UD']]\n",
    "    output=data[['Close','price','km','pr_arima','UD']]\n",
    "    #output['spread']=data.pREG-data.SVR\n",
    "    output['LSTM']=final.LSTM\n",
    "       \n",
    "    #plotting\n",
    "    dt = datetime.datetime.now()\n",
    "    s0.write({'x': str(dt)[11:-3], 'y': float(output['price'].tail(1))})\n",
    "    #s1.write({'x': str(dt)[11:-3], 'y': float(output['km'].tail(1))})\n",
    "    \n",
    "    #trading\n",
    "\n",
    "    #output['signal']=0\n",
    "    #if output.Close.ix[-1]>output.km.ix[-1] and output.Close.ix[-1]>output.price.ix[-1] and output.LSTM.ix[-1]>output.LSTM.shift(1).ix[-1] and output.pr_arima.ix[-1]>output.pr_arima.shift(1).ix[-1]:\n",
    "    #    output['signal']=1\n",
    "        #print('long the market')\n",
    "    #if output.Close.ix[-1]<output.km.ix[-1] and output.Close.ix[-1]<output.price.ix[-1] and output.LSTM.ix[-1]<output.LSTM.shift(1).ix[-1] and output.pr_arima.ix[-1]<output.pr_arima.shift(1).ix[-1]:\n",
    "    #    output['signal']=-1\n",
    "        #print('long the market')        \n",
    "    \n",
    "    #print(data.tail(1))\n",
    "    #print(output.tail(1))\n",
    "    #print(output.signal.tail(1))\n",
    "    #print(final)\n",
    "    output.tail(1).to_csv('/home/octo/Dropbox/ml_output.txt', sep=',', encoding='utf-8')"
   ]
  },
  {
   "cell_type": "code",
   "execution_count": null,
   "metadata": {
    "collapsed": true
   },
   "outputs": [],
   "source": []
  }
 ],
 "metadata": {
  "kernelspec": {
   "display_name": "Python 3",
   "language": "python",
   "name": "python3"
  },
  "language_info": {
   "codemirror_mode": {
    "name": "ipython",
    "version": 3
   },
   "file_extension": ".py",
   "mimetype": "text/x-python",
   "name": "python",
   "nbconvert_exporter": "python",
   "pygments_lexer": "ipython3",
   "version": "3.5.2"
  },
  "widgets": {
   "state": {},
   "version": "1.1.2"
  }
 },
 "nbformat": 4,
 "nbformat_minor": 2
}
