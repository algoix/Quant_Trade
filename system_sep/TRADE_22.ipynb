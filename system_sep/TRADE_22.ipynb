{
 "cells": [
  {
   "cell_type": "code",
   "execution_count": 1,
   "metadata": {
    "collapsed": false
   },
   "outputs": [
    {
     "name": "stdout",
     "output_type": "stream",
     "text": [
      "Server Version: 76\n",
      "TWS Time at connection:20170927 19:10:29 IST\n"
     ]
    }
   ],
   "source": [
    "import predicsenseIB\n",
    "import datetime\n",
    "import zmq\n",
    "import pandas as pd\n",
    "\n",
    "conn = predicsenseIB.tpqibcon()\n",
    "\n",
    "spy_contract = conn.create_contract('SPY', 'STK', 'SMART', 'SMART', 'USD')\n",
    "\n",
    "context = zmq.Context()\n",
    "\n",
    "# publishing for ML and plotly\n",
    "socket_pub = context.socket(zmq.PUB)\n",
    "socket_pub.bind('tcp://127.0.0.1:7000')\n",
    "\n",
    "# publishing for acount, holding and trading info\n",
    "socket_pub1 = context.socket(zmq.PUB)\n",
    "socket_pub1.bind('tcp://127.0.0.1:7020')\n",
    "\n",
    "# Subscribing to forwarder for trading\n",
    "port = \"7010\"\n",
    "socket_sub = context.socket(zmq.SUB)\n",
    "socket_sub.connect(\"tcp://localhost:%s\" % port)\n",
    "socket_sub.setsockopt_string(zmq.SUBSCRIBE, u'SPY')\n",
    "\n",
    "field = ['lastTimestamp', 'askPrice', 'askSize',\n",
    "         'bidPrice', 'bidSize',\n",
    "         'low', 'high', 'close',\n",
    "         'volume', 'lastPrice', 'lastSize', 'halted']"
   ]
  },
  {
   "cell_type": "code",
   "execution_count": 2,
   "metadata": {
    "collapsed": true
   },
   "outputs": [],
   "source": [
    "# Subscribing to PLOT for instant value, to use in trade\n",
    "port = \"7030\"\n",
    "socket_sub30 = context.socket(zmq.SUB)\n",
    "socket_sub30.connect(\"tcp://localhost:%s\" % port)\n",
    "socket_sub30.setsockopt_string(zmq.SUBSCRIBE, u'SPY')"
   ]
  },
  {
   "cell_type": "code",
   "execution_count": 3,
   "metadata": {
    "collapsed": true
   },
   "outputs": [],
   "source": [
    "# for streaming market data\n",
    "def send_tick(field, value):\n",
    "    bid_price = ''\n",
    "    bid_size=''\n",
    "    ask_price=''\n",
    "    ask_size=''\n",
    "    df = pd.DataFrame()\n",
    "    \n",
    "   \n",
    "    if field == 'bidPrice':\n",
    "        bid_price = value\n",
    "        bid_size=0\n",
    "        ask_price=0\n",
    "        ask_size=0\n",
    "        msg = 'SPY %s %s %s %s' %(bid_price,bid_size,ask_price,ask_size)\n",
    "        #print(msg)\n",
    "        socket_pub.send_string(msg)\n",
    "        \n",
    "    if field == 'bidSize':\n",
    "        bid_price = 0\n",
    "        bid_size= value\n",
    "        ask_price=0\n",
    "        ask_size=0\n",
    "        msg = 'SPY %s %s %s %s' %(bid_price,bid_size,ask_price,ask_size)\n",
    "        #print(msg)\n",
    "        socket_pub.send_string(msg)\n",
    "        \n",
    "    if field == 'askPrice':\n",
    "        bid_price = 0\n",
    "        bid_size= 0\n",
    "        ask_price =value\n",
    "        ask_size=0\n",
    "        msg = 'SPY %s %s %s %s' %(bid_price,bid_size,ask_price,ask_size)\n",
    "        #print(msg)\n",
    "        socket_pub.send_string(msg)\n",
    "\n",
    "    if field == 'askSize':\n",
    "        bid_price = 0\n",
    "        bid_size= 0\n",
    "        ask_price =0\n",
    "        ask_size=value\n",
    "        msg = 'SPY %s %s %s %s' %(bid_price,bid_size,ask_price,ask_size)\n",
    "        #print(msg)\n",
    "        socket_pub.send_string(msg)\n",
    "\n",
    "\n",
    "request_id = conn.request_market_data(spy_contract, send_tick)        \n",
    "        \n",
    "#if __name__ == '__main__':\n",
    "#    request_id = conn.request_market_data(spy_contract, send_bid_price)\n",
    "\n",
    "#conn.cancel_market_data(request_id)\n",
    "#conn.close()      "
   ]
  },
  {
   "cell_type": "code",
   "execution_count": 4,
   "metadata": {
    "collapsed": false
   },
   "outputs": [],
   "source": [
    "#conn.cancel_market_data(request_id)\n",
    "#conn.close()"
   ]
  },
  {
   "cell_type": "code",
   "execution_count": 6,
   "metadata": {
    "collapsed": false
   },
   "outputs": [
    {
     "name": "stdout",
     "output_type": "stream",
     "text": [
      "Server Error: HMDS data farm connection is broken:fundfarm\n",
      "Server Error: HMDS data farm connection is broken:fundfarm\n",
      "Server Error: HMDS data farm connection is broken:fundfarm\n",
      "Server Error: HMDS data farm connection is OK:fundfarm\n",
      "Server Error: Market data farm connection is broken:cashfarm\n",
      "Server Error: Market data farm connection is OK:cashfarm\n",
      "Server Error: Market data farm connection is broken:hfarm\n",
      "Server Error: Market data farm connection is OK:hfarm\n",
      "Server Error: Market data farm connection is broken:jfarm\n",
      "Server Error: Market data farm connection is broken:hfarm\n",
      "Server Error: Market data farm connection is OK:jfarm\n",
      "Server Error: Market data farm connection is OK:hfarm\n",
      "Server Error: Market data farm connection is broken:cashfarm\n",
      "Server Error: Market data farm connection is broken:cashfarm\n",
      "Server Error: Market data farm connection is broken:cashfarm\n",
      "Server Error: Market data farm connection is OK:cashfarm\n",
      "Server Error: Market data farm connection is broken:hfarm\n",
      "Server Error: Market data farm connection is OK:hfarm\n",
      "Server Error: unpack requires a bytes object of length 1\n",
      "Bye.\n"
     ]
    }
   ],
   "source": [
    "pos=conn.req_positions()\n",
    "average=pos[pos['sym']=='SPY'].tail(1).avgCost\n",
    "quantity=pos[pos['sym']=='SPY'].tail(1).quantity"
   ]
  },
  {
   "cell_type": "markdown",
   "metadata": {},
   "source": [
    "## TRADING"
   ]
  },
  {
   "cell_type": "markdown",
   "metadata": {},
   "source": [
    "#### Subscription to port:7010"
   ]
  },
  {
   "cell_type": "code",
   "execution_count": null,
   "metadata": {
    "collapsed": true
   },
   "outputs": [],
   "source": [
    "import numpy as np\n",
    "import time\n",
    "df = pd.DataFrame()\n",
    "df_val=pd.DataFrame()\n",
    "## warm up upto preprocessing\n",
    "#final=pd.DataFrame()\n",
    "money = 120000\n",
    "buy_cover_order = conn.create_order('MKT',400, 'Buy')\n",
    "sell_Short_order = conn.create_order('MKT',400, 'Sell')\n",
    "window=10\n",
    "for _ in range(window):\n",
    "#while True:\n",
    "    #iterations += 1\n",
    "    # after forwarder's start\n",
    "    val=socket_sub30.recv_string()\n",
    "    sym,val=val.split()\n",
    "    dt = datetime.datetime.now()\n",
    "    df_val = df_val.append(pd.DataFrame({'close': float(val)},index=[dt]))\n",
    "\n",
    "    ml=socket_sub.recv_string()\n",
    "    sym,close,price,km,arima,UD,LSTM = ml.split()\n",
    "    dt = datetime.datetime.now()\n",
    "    df = df.append(pd.DataFrame({'close': float(close),'price': float(price),'km': float(km),'arima': float(arima),'LSTM':float(LSTM)},index=[dt]))\n",
    "    \n",
    "    global request_id\n",
    "    \n",
    "    value=float(df_val.close.tail(1))\n",
    "    pos=conn.req_positions()\n",
    "    #print(pos)\n",
    "    average=pos[pos['sym']=='SPY'].tail(1).avgCost\n",
    "    quantity=pos[pos['sym']=='SPY'].tail(1).quantity\n",
    "    \n",
    "    df_val['quantity']=float(quantity)\n",
    "    df_val['average']=float(average)\n",
    "    #df_val['trade']=0\n",
    "    \n",
    "    #data['trade']=0\n",
    "    \n",
    "    B=np.where(df.close.tail(1)>df.arima.shift(1).tail(1),1,0)==1 and\\\n",
    "    np.where(df.price.tail(1)>df.km.tail(1),1,0)==1 and np.where(df.close.tail(1)>df.LSTM.shift(1).tail(1),1,0)==1\n",
    "    SH=np.where(df.close.tail(1)<df.arima.shift(1).tail(1),1,0)==1 and\\\n",
    "    np.where(df.price.tail(1)<df.km.tail(1),1,0)==1 and np.where(df.close.tail(1)<df.LSTM.shift(1).tail(1),1,0)==1\n",
    "    C=np.where(df.price.tail(1)>df.km.tail(1),1,0)==1\n",
    "    S=np.where(df.price.tail(1)<df.km.tail(1),1,0)==1\n",
    "    \n",
    "\n",
    "       \n",
    "    #if df.close>df.km and df.arima>df.arima.shift(1) and df.LSTM>df.LSTM.shift(1):\n",
    "    if np.where(df.close.tail(1)-df.arima.shift(1).tail(1)<0.05) and B and float(quantity)==0:\n",
    "        #print('400 shares cost %s USD, I have %s USD, so .. '% (400 * value, money))\n",
    "        print('I buy!')\n",
    "        conn.place_order(spy_contract, buy_cover_order)\n",
    "        #df_val['trade']='B'\n",
    "        #time.sleep( 20 )\n",
    "\n",
    "    if S and float(quantity)>=800 and np.where(df_val.close>(float(average)+0.04)):\n",
    "        print('I sell!')\n",
    "        conn.place_order(spy_contract,sell_Short_order)\n",
    "        #df_val['trade']='S'\n",
    "        #time.sleep( 20 )\n",
    "            #money = money+400* value\n",
    "            #money = 120000\n",
    "\n",
    "    if  np.where(df.arima.shift(1).tail(1)-df.close.tail(1)<0.05) and SH and float(quantity)==0:\n",
    "        #print('400 shares cost %s USD, I have %s USD' % (400* value, money))\n",
    "        print('I short!')\n",
    "        conn.place_order(spy_contract,sell_Short_order)\n",
    "        #time.sleep( 20 )\n",
    "        #df_val['trade']='SH'\n",
    "    \n",
    "    #if df.close<df.km and df.arima>df.arima.shift(1) and df.LSTM>df.LSTM.shift(1):\n",
    "    if C and float(quantity)<=-800 and np.where(df_val.close<(float(average)-0.04)):\n",
    "        print('I cover!')\n",
    "        conn.place_order(spy_contract,buy_cover_order)\n",
    "        #time.sleep( 20 )\n",
    "        #df_val['trade']='C'\n",
    "    #else:\n",
    "        #df_val['trade']=0 \n",
    "    \n",
    "\n",
    "    #print(df_val.tail(1))\n",
    "    #print(df_val.tail(1))\n",
    "    x = df_val.to_string(header=False,index=False,index_names=False).split('\\n')\n",
    "    print(x[-1])"
   ]
  }
 ],
 "metadata": {
  "kernelspec": {
   "display_name": "Python 3",
   "language": "python",
   "name": "python3"
  },
  "language_info": {
   "codemirror_mode": {
    "name": "ipython",
    "version": 3
   },
   "file_extension": ".py",
   "mimetype": "text/x-python",
   "name": "python",
   "nbconvert_exporter": "python",
   "pygments_lexer": "ipython3",
   "version": "3.5.2"
  },
  "widgets": {
   "state": {},
   "version": "1.1.2"
  }
 },
 "nbformat": 4,
 "nbformat_minor": 2
}
