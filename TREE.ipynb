{
 "cells": [
  {
   "cell_type": "markdown",
   "metadata": {},
   "source": [
    "https://www.analyticsvidhya.com/blog/2016/04/complete-tutorial-tree-based-modeling-scratch-in-python/"
   ]
  },
  {
   "cell_type": "code",
   "execution_count": 1,
   "metadata": {
    "collapsed": false
   },
   "outputs": [
    {
     "name": "stderr",
     "output_type": "stream",
     "text": [
      "/home/octo/anaconda2/envs/carnd-term1/lib/python3.5/site-packages/statsmodels/compat/pandas.py:56: FutureWarning: The pandas.core.datetools module is deprecated and will be removed in a future version. Please use the pandas.tseries module instead.\n",
      "  from pandas.core import datetools\n",
      "Using TensorFlow backend.\n"
     ]
    }
   ],
   "source": [
    "import processing\n",
    "import ds\n",
    "import ml\n",
    "import model_saving\n",
    "import TS\n",
    "import TA"
   ]
  },
  {
   "cell_type": "code",
   "execution_count": 2,
   "metadata": {
    "collapsed": true
   },
   "outputs": [],
   "source": [
    "filename = '/home/octo/Dropbox'+ '/SPY21Dec.csv'"
   ]
  },
  {
   "cell_type": "code",
   "execution_count": 3,
   "metadata": {
    "collapsed": true
   },
   "outputs": [],
   "source": [
    "# Load the necessary packages and modules\n",
    "from pandas_datareader import data as pdr\n",
    "import matplotlib.pyplot as plt\n",
    "import pandas as pd\n",
    "import numpy\n",
    "import numpy as np\n",
    "import math as m"
   ]
  },
  {
   "cell_type": "code",
   "execution_count": 4,
   "metadata": {
    "collapsed": true
   },
   "outputs": [],
   "source": [
    "data=processing.get_csv_pd(filename)\n",
    "data=processing.BA(data)\n",
    "data=processing.preprocessing(data)\n",
    "data_km=ml.kalman_ma(data)\n",
    "data['km']=data_km"
   ]
  },
  {
   "cell_type": "code",
   "execution_count": 5,
   "metadata": {
    "collapsed": false
   },
   "outputs": [],
   "source": [
    "data['diff']=np.where(np.logical_and(data.Open>data.km,data.spread>0),data.vwap-data.km,np.where(np.logical_and(data.Open<data.km,data.spread<0),data.vwap-data.km,0))"
   ]
  },
  {
   "cell_type": "code",
   "execution_count": 69,
   "metadata": {
    "collapsed": true
   },
   "outputs": [],
   "source": [
    "ta_data=data[['Close','diff','vel','vwap','liq']]"
   ]
  },
  {
   "cell_type": "code",
   "execution_count": 70,
   "metadata": {
    "collapsed": false
   },
   "outputs": [],
   "source": [
    "n = 12\n",
    "roc_= TA.ROC(data,n)\n",
    "ta_data['roc'] = roc_['Rate of Change']"
   ]
  },
  {
   "cell_type": "code",
   "execution_count": 71,
   "metadata": {
    "collapsed": false
   },
   "outputs": [],
   "source": [
    "n = 50\n",
    "ewma_= TA.EWMA(data,n)\n",
    "ta_data['ewma'] = ewma_['EWMA_50']"
   ]
  },
  {
   "cell_type": "code",
   "execution_count": 72,
   "metadata": {
    "collapsed": false
   },
   "outputs": [],
   "source": [
    "n = 20\n",
    "sma_= TA.SMA(data,n)\n",
    "ta_data['sma'] = sma_['SMA']"
   ]
  },
  {
   "cell_type": "code",
   "execution_count": 73,
   "metadata": {
    "collapsed": true
   },
   "outputs": [],
   "source": [
    "import talib"
   ]
  },
  {
   "cell_type": "code",
   "execution_count": 74,
   "metadata": {
    "collapsed": false
   },
   "outputs": [],
   "source": [
    "adx=talib.ADX(np.array(data.High.astype('float64')),np.array(data.Low.astype('float64')),np.array(data.Close.astype('float64')),12)"
   ]
  },
  {
   "cell_type": "code",
   "execution_count": 75,
   "metadata": {
    "collapsed": true
   },
   "outputs": [],
   "source": [
    "ta_data['adx'] = adx"
   ]
  },
  {
   "cell_type": "code",
   "execution_count": 76,
   "metadata": {
    "collapsed": true
   },
   "outputs": [],
   "source": [
    "# Defining target variable\n",
    "Y=np.where(data.Close.diff(12)>0,1,-1)\n",
    "ta_data['Y']=Y"
   ]
  },
  {
   "cell_type": "markdown",
   "metadata": {},
   "source": [
    "    https://www.quantinsti.com/blog/use-decision-trees-machine-learning-predict-stock-movements/\n",
    "    \n",
    "    https://machinelearningmastery.com/implement-decision-tree-algorithm-scratch-python/\n",
    "    "
   ]
  },
  {
   "cell_type": "code",
   "execution_count": 81,
   "metadata": {
    "collapsed": true
   },
   "outputs": [],
   "source": [
    "ta_data=ta_data[2000:12000].dropna()"
   ]
  },
  {
   "cell_type": "code",
   "execution_count": 82,
   "metadata": {
    "collapsed": false
   },
   "outputs": [],
   "source": [
    "X=ta_data[['diff','vel','vwap','liq','roc','ewma','sma','adx']]\n",
    "Y=ta_data.Y"
   ]
  },
  {
   "cell_type": "code",
   "execution_count": 83,
   "metadata": {
    "collapsed": false
   },
   "outputs": [
    {
     "data": {
      "text/html": [
       "<div>\n",
       "<style scoped>\n",
       "    .dataframe tbody tr th:only-of-type {\n",
       "        vertical-align: middle;\n",
       "    }\n",
       "\n",
       "    .dataframe tbody tr th {\n",
       "        vertical-align: top;\n",
       "    }\n",
       "\n",
       "    .dataframe thead th {\n",
       "        text-align: right;\n",
       "    }\n",
       "</style>\n",
       "<table border=\"1\" class=\"dataframe\">\n",
       "  <thead>\n",
       "    <tr style=\"text-align: right;\">\n",
       "      <th></th>\n",
       "      <th>Close</th>\n",
       "      <th>diff</th>\n",
       "      <th>vel</th>\n",
       "      <th>vwap</th>\n",
       "      <th>liq</th>\n",
       "      <th>roc</th>\n",
       "      <th>ewma</th>\n",
       "      <th>sma</th>\n",
       "      <th>adx</th>\n",
       "      <th>Y</th>\n",
       "    </tr>\n",
       "  </thead>\n",
       "  <tbody>\n",
       "    <tr>\n",
       "      <th>2017-12-21 21:23:10.509075</th>\n",
       "      <td>267.57999</td>\n",
       "      <td>0.00000</td>\n",
       "      <td>0.00000</td>\n",
       "      <td>267.57999</td>\n",
       "      <td>0.00000</td>\n",
       "      <td>0.00009</td>\n",
       "      <td>267.56510</td>\n",
       "      <td>267.56625</td>\n",
       "      <td>73.49531</td>\n",
       "      <td>1</td>\n",
       "    </tr>\n",
       "    <tr>\n",
       "      <th>2017-12-21 21:23:11.220797</th>\n",
       "      <td>267.57999</td>\n",
       "      <td>0.00000</td>\n",
       "      <td>0.00500</td>\n",
       "      <td>267.58582</td>\n",
       "      <td>0.01001</td>\n",
       "      <td>0.00006</td>\n",
       "      <td>267.56568</td>\n",
       "      <td>267.56750</td>\n",
       "      <td>74.74585</td>\n",
       "      <td>1</td>\n",
       "    </tr>\n",
       "    <tr>\n",
       "      <th>2017-12-21 21:23:11.992278</th>\n",
       "      <td>267.58499</td>\n",
       "      <td>0.00000</td>\n",
       "      <td>0.00500</td>\n",
       "      <td>267.58850</td>\n",
       "      <td>0.01001</td>\n",
       "      <td>0.00007</td>\n",
       "      <td>267.56644</td>\n",
       "      <td>267.56900</td>\n",
       "      <td>75.89217</td>\n",
       "      <td>1</td>\n",
       "    </tr>\n",
       "    <tr>\n",
       "      <th>2017-12-21 21:23:12.952875</th>\n",
       "      <td>267.58499</td>\n",
       "      <td>0.00000</td>\n",
       "      <td>0.00500</td>\n",
       "      <td>267.58850</td>\n",
       "      <td>0.01001</td>\n",
       "      <td>0.00004</td>\n",
       "      <td>267.56717</td>\n",
       "      <td>267.57050</td>\n",
       "      <td>76.94296</td>\n",
       "      <td>1</td>\n",
       "    </tr>\n",
       "    <tr>\n",
       "      <th>2017-12-21 21:23:13.861346</th>\n",
       "      <td>267.58499</td>\n",
       "      <td>0.00000</td>\n",
       "      <td>0.00998</td>\n",
       "      <td>267.58850</td>\n",
       "      <td>0.01001</td>\n",
       "      <td>0.00004</td>\n",
       "      <td>267.56787</td>\n",
       "      <td>267.57200</td>\n",
       "      <td>77.90619</td>\n",
       "      <td>1</td>\n",
       "    </tr>\n",
       "  </tbody>\n",
       "</table>\n",
       "</div>"
      ],
      "text/plain": [
       "                               Close    diff     vel      vwap     liq  \\\n",
       "2017-12-21 21:23:10.509075 267.57999 0.00000 0.00000 267.57999 0.00000   \n",
       "2017-12-21 21:23:11.220797 267.57999 0.00000 0.00500 267.58582 0.01001   \n",
       "2017-12-21 21:23:11.992278 267.58499 0.00000 0.00500 267.58850 0.01001   \n",
       "2017-12-21 21:23:12.952875 267.58499 0.00000 0.00500 267.58850 0.01001   \n",
       "2017-12-21 21:23:13.861346 267.58499 0.00000 0.00998 267.58850 0.01001   \n",
       "\n",
       "                               roc      ewma       sma      adx  Y  \n",
       "2017-12-21 21:23:10.509075 0.00009 267.56510 267.56625 73.49531  1  \n",
       "2017-12-21 21:23:11.220797 0.00006 267.56568 267.56750 74.74585  1  \n",
       "2017-12-21 21:23:11.992278 0.00007 267.56644 267.56900 75.89217  1  \n",
       "2017-12-21 21:23:12.952875 0.00004 267.56717 267.57050 76.94296  1  \n",
       "2017-12-21 21:23:13.861346 0.00004 267.56787 267.57200 77.90619  1  "
      ]
     },
     "execution_count": 83,
     "metadata": {},
     "output_type": "execute_result"
    }
   ],
   "source": [
    "ta_data.tail()"
   ]
  },
  {
   "cell_type": "code",
   "execution_count": 84,
   "metadata": {
    "collapsed": true
   },
   "outputs": [],
   "source": [
    "# training set and test set\n",
    "split_percentage=0.7\n",
    "split=int(split_percentage*len(ta_data))\n",
    "X_train=X[:split]\n",
    "Y_train=Y[:split]\n",
    "X_test=X[split:]\n",
    "Y_test=Y[split:]"
   ]
  },
  {
   "cell_type": "code",
   "execution_count": 85,
   "metadata": {
    "collapsed": false
   },
   "outputs": [
    {
     "data": {
      "text/plain": [
       "DecisionTreeClassifier(class_weight=None, criterion='gini', max_depth=None,\n",
       "            max_features=None, max_leaf_nodes=None,\n",
       "            min_impurity_split=1e-07, min_samples_leaf=1,\n",
       "            min_samples_split=2, min_weight_fraction_leaf=0.0,\n",
       "            presort=False, random_state=None, splitter='best')"
      ]
     },
     "execution_count": 85,
     "metadata": {},
     "output_type": "execute_result"
    }
   ],
   "source": [
    "#Import Library\n",
    "#Import other necessary libraries like pandas, numpy...\n",
    "from sklearn import tree\n",
    "#Assumed you have, X (predictor) and Y (target) for training data set and x_test(predictor) of test_dataset\n",
    "# Create tree object \n",
    "model = tree.DecisionTreeClassifier(criterion='gini') # for classification, here you can change the algorithm as gini or entropy (information gain) by default it is gini  \n",
    "# model = tree.DecisionTreeRegressor() for regression\n",
    "# Train the model using the training sets and check score\n",
    "model.fit(X_train,Y_train)"
   ]
  },
  {
   "cell_type": "code",
   "execution_count": 86,
   "metadata": {
    "collapsed": false
   },
   "outputs": [],
   "source": [
    "model.score(X_train,Y_train)\n",
    "#Predict Output\n",
    "predicted= model.predict(X_test)"
   ]
  },
  {
   "cell_type": "code",
   "execution_count": 87,
   "metadata": {
    "collapsed": false
   },
   "outputs": [
    {
     "data": {
      "text/plain": [
       "1.0"
      ]
     },
     "execution_count": 87,
     "metadata": {},
     "output_type": "execute_result"
    }
   ],
   "source": [
    "model.score(X_test,Y_test)"
   ]
  },
  {
   "cell_type": "code",
   "execution_count": 88,
   "metadata": {
    "collapsed": false
   },
   "outputs": [
    {
     "name": "stdout",
     "output_type": "stream",
     "text": [
      "training set sccuracy:  1\n",
      "test set sccuracy:  1\n"
     ]
    }
   ],
   "source": [
    "from sklearn.metrics import accuracy_score\n",
    "accuracy_train=accuracy_score(Y_train,model.predict(X_train))\n",
    "accuracy_test=accuracy_score(Y_test,model.predict(X_test))\n",
    "print('training set sccuracy: %2.f' %accuracy_train)\n",
    "print('test set sccuracy: %2.f' %accuracy_test)"
   ]
  },
  {
   "cell_type": "code",
   "execution_count": 91,
   "metadata": {
    "collapsed": false
   },
   "outputs": [],
   "source": [
    "# Creating trading strategy\n",
    "ta_data['pr_signal']=model.predict(X)\n",
    "ta_data['ret']=np.log(ta_data.Close/ta_data.Close.shift(12))\n",
    "cum_ret=ta_data[split:].ret.cumsum()*100\n",
    "ta_data['strat_ret']=ta_data.ret*ta_data.pr_signal.shift(1)\n",
    "cum_strat_ret=ta_data[split:].strat_ret.cumsum()*100"
   ]
  },
  {
   "cell_type": "code",
   "execution_count": 92,
   "metadata": {
    "collapsed": false
   },
   "outputs": [
    {
     "data": {
      "image/png": "[encoded data removed]",
      "text/plain": [
       "<matplotlib.figure.Figure at 0x7fc8aa8290f0>"
      ]
     },
     "metadata": {},
     "output_type": "display_data"
    }
   ],
   "source": [
    "#plot\n",
    "plt.figure(figsize=(15,5))\n",
    "plt.plot(cum_ret,color='r',label='index return')\n",
    "plt.plot(cum_strat_ret,color='g',label='strategy return')\n",
    "plt.legend()\n",
    "plt.show()"
   ]
  },
  {
   "cell_type": "code",
   "execution_count": 93,
   "metadata": {
    "collapsed": false
   },
   "outputs": [
    {
     "name": "stdout",
     "output_type": "stream",
     "text": [
      "Sharpe ratio: 1.69\n"
     ]
    }
   ],
   "source": [
    "# sharp ratio\n",
    "std=cum_strat_ret.std()\n",
    "Sharpe=(cum_strat_ret-cum_ret)/std\n",
    "Sharpe=Sharpe.mean()\n",
    "print('Sharpe ratio: %.2f' %Sharpe)"
   ]
  },
  {
   "cell_type": "code",
   "execution_count": 94,
   "metadata": {
    "collapsed": true
   },
   "outputs": [],
   "source": [
    "data_feature_names =['diff','vel','vwap','liq','roc','ewma','sma','adx']"
   ]
  },
  {
   "cell_type": "code",
   "execution_count": 99,
   "metadata": {
    "collapsed": false
   },
   "outputs": [
    {
     "data": {
      "text/plain": [
       "True"
      ]
     },
     "execution_count": 99,
     "metadata": {},
     "output_type": "execute_result"
    }
   ],
   "source": [
    "import pydotplus\n",
    "import collections\n",
    "# Visualize data\n",
    "dot_data = tree.export_graphviz(model,\n",
    "                                feature_names=data_feature_names,\n",
    "                                out_file=None,\n",
    "                                filled=True,\n",
    "                                rounded=True)\n",
    "graph = pydotplus.graph_from_dot_data(dot_data)\n",
    " \n",
    "colors = ('turquoise', 'orange')\n",
    "edges = collections.defaultdict(list)\n",
    " \n",
    "for edge in graph.get_edge_list():\n",
    "    edges[edge.get_source()].append(int(edge.get_destination()))\n",
    " \n",
    "for edge in edges:\n",
    "    edges[edge].sort()    \n",
    "    for i in range(2):\n",
    "        dest = graph.get_node(str(edges[edge][i]))[0]\n",
    "        dest.set_fillcolor(colors[i])\n",
    " \n",
    "graph.write_png('tree.png')"
   ]
  },
  {
   "cell_type": "markdown",
   "metadata": {},
   "source": [
    "https://pythonprogramminglanguage.com/decision-tree-visual-example/"
   ]
  },
  {
   "cell_type": "code",
   "execution_count": 103,
   "metadata": {
    "collapsed": false
   },
   "outputs": [
    {
     "data": {
      "image/png": "[encoded data removed]",
      "text/plain": [
       "<IPython.core.display.Image object>"
      ]
     },
     "execution_count": 103,
     "metadata": {},
     "output_type": "execute_result"
    }
   ],
   "source": [
    "from sklearn.externals.six import StringIO  \n",
    "from IPython.display import Image  \n",
    "from sklearn.tree import export_graphviz\n",
    "import pydotplus\n",
    "dot_data = StringIO()\n",
    "model_tree = tree.DecisionTreeClassifier()\n",
    "model_tree.fit(X,Y)\n",
    "export_graphviz(model_tree, out_file=dot_data,  \n",
    "                filled=True, rounded=True,\n",
    "                special_characters=True)\n",
    "graph = pydotplus.graph_from_dot_data(dot_data.getvalue())  \n",
    "Image(graph.create_png())"
   ]
  },
  {
   "cell_type": "code",
   "execution_count": 105,
   "metadata": {
    "collapsed": false
   },
   "outputs": [
    {
     "data": {
      "image/svg+xml": [
       "<?xml version=\"1.0\" encoding=\"UTF-8\" standalone=\"no\"?>\n",
       "<!DOCTYPE svg PUBLIC \"-//W3C//DTD SVG 1.1//EN\"\n",
       " \"http://www.w3.org/Graphics/SVG/1.1/DTD/svg11.dtd\">\n",
       "<!-- Generated by graphviz version 2.38.0 (20140413.2041)\n",
       " -->\n",
       "<!-- Title: Tree Pages: 1 -->\n",
       "<svg width=\"250pt\" height=\"165pt\"\n",
       " viewBox=\"0.00 0.00 250.00 165.00\" xmlns=\"http://www.w3.org/2000/svg\" xmlns:xlink=\"http://www.w3.org/1999/xlink\">\n",
       "<g id=\"graph0\" class=\"graph\" transform=\"scale(1 1) rotate(0) translate(4 161)\">\n",
       "<title>Tree</title>\n",
       "<polygon fill=\"white\" stroke=\"none\" points=\"-4,4 -4,-161 246,-161 246,4 -4,4\"/>\n",
       "<!-- 0 -->\n",
       "<g id=\"node1\" class=\"node\"><title>0</title>\n",
       "<polygon fill=\"none\" stroke=\"black\" points=\"187,-157 55,-157 55,-89 187,-89 187,-157\"/>\n",
       "<text text-anchor=\"middle\" x=\"121\" y=\"-141.8\" font-family=\"Times,serif\" font-size=\"14.00\">roc &lt;= 0.0</text>\n",
       "<text text-anchor=\"middle\" x=\"121\" y=\"-126.8\" font-family=\"Times,serif\" font-size=\"14.00\">gini = 0.4644</text>\n",
       "<text text-anchor=\"middle\" x=\"121\" y=\"-111.8\" font-family=\"Times,serif\" font-size=\"14.00\">samples = 5600</text>\n",
       "<text text-anchor=\"middle\" x=\"121\" y=\"-96.8\" font-family=\"Times,serif\" font-size=\"14.00\">value = [3547, 2053]</text>\n",
       "</g>\n",
       "<!-- 1 -->\n",
       "<g id=\"node2\" class=\"node\"><title>1</title>\n",
       "<polygon fill=\"none\" stroke=\"black\" points=\"112,-53 0,-53 0,-0 112,-0 112,-53\"/>\n",
       "<text text-anchor=\"middle\" x=\"56\" y=\"-37.8\" font-family=\"Times,serif\" font-size=\"14.00\">gini = 0.0</text>\n",
       "<text text-anchor=\"middle\" x=\"56\" y=\"-22.8\" font-family=\"Times,serif\" font-size=\"14.00\">samples = 3547</text>\n",
       "<text text-anchor=\"middle\" x=\"56\" y=\"-7.8\" font-family=\"Times,serif\" font-size=\"14.00\">value = [3547, 0]</text>\n",
       "</g>\n",
       "<!-- 0&#45;&gt;1 -->\n",
       "<g id=\"edge1\" class=\"edge\"><title>0&#45;&gt;1</title>\n",
       "<path fill=\"none\" stroke=\"black\" d=\"M98.2662,-88.9485C92.1626,-80.0749 85.5525,-70.4648 79.4129,-61.5388\"/>\n",
       "<polygon fill=\"black\" stroke=\"black\" points=\"82.2534,-59.4924 73.7025,-53.2367 76.486,-63.4594 82.2534,-59.4924\"/>\n",
       "<text text-anchor=\"middle\" x=\"69.1558\" y=\"-74.1198\" font-family=\"Times,serif\" font-size=\"14.00\">True</text>\n",
       "</g>\n",
       "<!-- 2 -->\n",
       "<g id=\"node3\" class=\"node\"><title>2</title>\n",
       "<polygon fill=\"none\" stroke=\"black\" points=\"242,-53 130,-53 130,-0 242,-0 242,-53\"/>\n",
       "<text text-anchor=\"middle\" x=\"186\" y=\"-37.8\" font-family=\"Times,serif\" font-size=\"14.00\">gini = 0.0</text>\n",
       "<text text-anchor=\"middle\" x=\"186\" y=\"-22.8\" font-family=\"Times,serif\" font-size=\"14.00\">samples = 2053</text>\n",
       "<text text-anchor=\"middle\" x=\"186\" y=\"-7.8\" font-family=\"Times,serif\" font-size=\"14.00\">value = [0, 2053]</text>\n",
       "</g>\n",
       "<!-- 0&#45;&gt;2 -->\n",
       "<g id=\"edge2\" class=\"edge\"><title>0&#45;&gt;2</title>\n",
       "<path fill=\"none\" stroke=\"black\" d=\"M143.734,-88.9485C149.837,-80.0749 156.447,-70.4648 162.587,-61.5388\"/>\n",
       "<polygon fill=\"black\" stroke=\"black\" points=\"165.514,-63.4594 168.298,-53.2367 159.747,-59.4924 165.514,-63.4594\"/>\n",
       "<text text-anchor=\"middle\" x=\"172.844\" y=\"-74.1198\" font-family=\"Times,serif\" font-size=\"14.00\">False</text>\n",
       "</g>\n",
       "</g>\n",
       "</svg>\n"
      ],
      "text/plain": [
       "<graphviz.files.Source at 0x7fc87e8a6208>"
      ]
     },
     "execution_count": 105,
     "metadata": {},
     "output_type": "execute_result"
    }
   ],
   "source": [
    "from graphviz import Source\n",
    "from sklearn import tree\n",
    "Source( tree.export_graphviz(model, out_file=None, feature_names=X.columns))"
   ]
  },
  {
   "cell_type": "code",
   "execution_count": 106,
   "metadata": {
    "collapsed": false
   },
   "outputs": [
    {
     "data": {
      "image/svg+xml": [
       "<svg height=\"165pt\" viewBox=\"0.00 0.00 250.00 165.00\" width=\"250pt\" xmlns=\"http://www.w3.org/2000/svg\" xmlns:xlink=\"http://www.w3.org/1999/xlink\">\n",
       "<g class=\"graph\" id=\"graph0\" transform=\"scale(1 1) rotate(0) translate(4 161)\">\n",
       "<title>Tree</title>\n",
       "<polygon fill=\"white\" points=\"-4,4 -4,-161 246,-161 246,4 -4,4\" stroke=\"none\"/>\n",
       "<!-- 0 -->\n",
       "<g class=\"node\" id=\"node1\"><title>0</title>\n",
       "<polygon fill=\"none\" points=\"187,-157 55,-157 55,-89 187,-89 187,-157\" stroke=\"black\"/>\n",
       "<text font-family=\"Times,serif\" font-size=\"14.00\" text-anchor=\"middle\" x=\"121\" y=\"-141.8\">roc &lt;= 0.0</text>\n",
       "<text font-family=\"Times,serif\" font-size=\"14.00\" text-anchor=\"middle\" x=\"121\" y=\"-126.8\">gini = 0.4677</text>\n",
       "<text font-family=\"Times,serif\" font-size=\"14.00\" text-anchor=\"middle\" x=\"121\" y=\"-111.8\">samples = 8000</text>\n",
       "<text font-family=\"Times,serif\" font-size=\"14.00\" text-anchor=\"middle\" x=\"121\" y=\"-96.8\">value = [5017, 2983]</text>\n",
       "</g>\n",
       "<!-- 1 -->\n",
       "<g class=\"node\" id=\"node2\"><title>1</title>\n",
       "<polygon fill=\"none\" points=\"112,-53 0,-53 0,-0 112,-0 112,-53\" stroke=\"black\"/>\n",
       "<text font-family=\"Times,serif\" font-size=\"14.00\" text-anchor=\"middle\" x=\"56\" y=\"-37.8\">gini = 0.0</text>\n",
       "<text font-family=\"Times,serif\" font-size=\"14.00\" text-anchor=\"middle\" x=\"56\" y=\"-22.8\">samples = 5017</text>\n",
       "<text font-family=\"Times,serif\" font-size=\"14.00\" text-anchor=\"middle\" x=\"56\" y=\"-7.8\">value = [5017, 0]</text>\n",
       "</g>\n",
       "<!-- 0&#45;&gt;1 -->\n",
       "<g class=\"edge\" id=\"edge1\"><title>0-&gt;1</title>\n",
       "<path d=\"M98.2662,-88.9485C92.1626,-80.0749 85.5525,-70.4648 79.4129,-61.5388\" fill=\"none\" stroke=\"black\"/>\n",
       "<polygon fill=\"black\" points=\"82.2534,-59.4924 73.7025,-53.2367 76.486,-63.4594 82.2534,-59.4924\" stroke=\"black\"/>\n",
       "<text font-family=\"Times,serif\" font-size=\"14.00\" text-anchor=\"middle\" x=\"69.1558\" y=\"-74.1198\">True</text>\n",
       "</g>\n",
       "<!-- 2 -->\n",
       "<g class=\"node\" id=\"node3\"><title>2</title>\n",
       "<polygon fill=\"none\" points=\"242,-53 130,-53 130,-0 242,-0 242,-53\" stroke=\"black\"/>\n",
       "<text font-family=\"Times,serif\" font-size=\"14.00\" text-anchor=\"middle\" x=\"186\" y=\"-37.8\">gini = 0.0</text>\n",
       "<text font-family=\"Times,serif\" font-size=\"14.00\" text-anchor=\"middle\" x=\"186\" y=\"-22.8\">samples = 2983</text>\n",
       "<text font-family=\"Times,serif\" font-size=\"14.00\" text-anchor=\"middle\" x=\"186\" y=\"-7.8\">value = [0, 2983]</text>\n",
       "</g>\n",
       "<!-- 0&#45;&gt;2 -->\n",
       "<g class=\"edge\" id=\"edge2\"><title>0-&gt;2</title>\n",
       "<path d=\"M143.734,-88.9485C149.837,-80.0749 156.447,-70.4648 162.587,-61.5388\" fill=\"none\" stroke=\"black\"/>\n",
       "<polygon fill=\"black\" points=\"165.514,-63.4594 168.298,-53.2367 159.747,-59.4924 165.514,-63.4594\" stroke=\"black\"/>\n",
       "<text font-family=\"Times,serif\" font-size=\"14.00\" text-anchor=\"middle\" x=\"172.844\" y=\"-74.1198\">False</text>\n",
       "</g>\n",
       "</g>\n",
       "</svg>"
      ],
      "text/plain": [
       "<IPython.core.display.SVG object>"
      ]
     },
     "execution_count": 106,
     "metadata": {},
     "output_type": "execute_result"
    }
   ],
   "source": [
    "from IPython.display import SVG\n",
    "graph = Source( tree.export_graphviz(model_tree, out_file=None, feature_names=X.columns))\n",
    "SVG(graph.pipe(format='svg'))"
   ]
  },
  {
   "cell_type": "code",
   "execution_count": 107,
   "metadata": {
    "collapsed": false
   },
   "outputs": [
    {
     "data": {
      "image/png": "[encoded data removed]",
      "text/plain": [
       "<IPython.core.display.Image object>"
      ]
     },
     "execution_count": 107,
     "metadata": {},
     "output_type": "execute_result"
    }
   ],
   "source": [
    "#Get the png image, save it and view it:\n",
    "graph = Source( tree.export_graphviz(model, out_file=None, feature_names=X.columns))\n",
    "png_bytes = graph.pipe(format='png')\n",
    "with open('dtree_pipe.png','wb') as f:\n",
    "    f.write(png_bytes)\n",
    "\n",
    "from IPython.display import Image\n",
    "Image(png_bytes)"
   ]
  },
  {
   "cell_type": "markdown",
   "metadata": {},
   "source": [
    "https://github.com/topics/decision-trees?l=python&o=asc&s=updated\n",
    "\n",
    "https://github.com/architsingh15/MNIST-dataset-analysis-with-Random-Forest-SVM-and-ConvolutionalNN/blob/master/SVM/svm.py\n",
    "\n",
    "https://github.com/motakbiri/kaggle-house-price/blob/master/utils.py\n",
    "\n",
    "https://github.com/Ankushr785/Kaggle-Titanic-Dataset\n",
    "\n",
    "https://github.com/manjunath-satyamurthy/decision-trees-cancer-prediction-/blob/master/cancer_predict.py\n",
    "\n",
    "https://arxiv.org/abs/1605.00003v1\n",
    "\n",
    "https://www.quantinsti.com/blog/forecasting-markets-using-extreme-gradient-boosting-xgboost/\n",
    "\n",
    "https://www.quantinsti.com/blog/use-decision-trees-machine-learning-predict-stock-movements/\n",
    "\n",
    "http://www.cse.scu.edu/~mwang2/projects/Predict_stockMarket_16w.pdf\n",
    "\n",
    "http://markdunne.github.io/public/mark-dunne-stock-market-prediction.pdf\n",
    "\n",
    "https://web.cs.elte.hu/blobs/diplomamunkak/bsc_matelem/2014/fora_gyula_krisztian.pdf\n",
    "\n",
    "http://dataaspirant.com/2017/02/01/decision-tree-algorithm-python-with-scikit-learn/\n",
    "\n",
    "https://machinelearningmastery.com/implement-random-forest-scratch-python/\n",
    "\n",
    "https://machinelearningmastery.com/develop-first-xgboost-model-python-scikit-learn/\n",
    "\n",
    "http://intelligentonlinetools.com/blog/2017/12/26/prediction-data-stock-price-prophet-report/\n"
   ]
  },
  {
   "cell_type": "code",
   "execution_count": null,
   "metadata": {
    "collapsed": true
   },
   "outputs": [],
   "source": []
  }
 ],
 "metadata": {
  "kernelspec": {
   "display_name": "Python 3",
   "language": "python",
   "name": "python3"
  },
  "language_info": {
   "codemirror_mode": {
    "name": "ipython",
    "version": 3
   },
   "file_extension": ".py",
   "mimetype": "text/x-python",
   "name": "python",
   "nbconvert_exporter": "python",
   "pygments_lexer": "ipython3",
   "version": "3.5.2"
  }
 },
 "nbformat": 4,
 "nbformat_minor": 1
}
