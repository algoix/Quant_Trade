{
 "cells": [
  {
   "cell_type": "code",
   "execution_count": null,
   "metadata": {
    "collapsed": true,
    "scrolled": true
   },
   "outputs": [],
   "source": [
    "#%run tpqib_serv.py"
   ]
  },
  {
   "cell_type": "code",
   "execution_count": null,
   "metadata": {
    "collapsed": true
   },
   "outputs": [],
   "source": [
    "#conn.cancel_market_data(request_id)\n",
    "#conn.close()"
   ]
  },
  {
   "cell_type": "code",
   "execution_count": null,
   "metadata": {
    "collapsed": true
   },
   "outputs": [],
   "source": [
    "import tpqib\n",
    "import datetime\n",
    "import zmq\n",
    "import pandas as pd"
   ]
  },
  {
   "cell_type": "code",
   "execution_count": null,
   "metadata": {
    "collapsed": false
   },
   "outputs": [],
   "source": [
    "conn = tpqib.tpqibcon(clientId=1001)"
   ]
  },
  {
   "cell_type": "code",
   "execution_count": null,
   "metadata": {
    "collapsed": true
   },
   "outputs": [],
   "source": [
    "portfolio=['SPY','KMT','CNC','WLK','PAM','HFC','WGO','CONN']"
   ]
  },
  {
   "cell_type": "code",
   "execution_count": null,
   "metadata": {
    "collapsed": false
   },
   "outputs": [],
   "source": [
    "portfolio[0]"
   ]
  },
  {
   "cell_type": "code",
   "execution_count": null,
   "metadata": {
    "collapsed": true
   },
   "outputs": [],
   "source": [
    "c_stk_1 = conn.create_contract(portfolio[0], 'STK', 'SMART', 'SMART', 'USD')\n",
    "c_stk_2 = conn.create_contract(portfolio[1], 'STK', 'SMART', 'SMART', 'USD')\n",
    "c_stk_3 = conn.create_contract(portfolio[2], 'STK', 'SMART', 'SMART', 'USD')\n",
    "c_stk_4 = conn.create_contract(portfolio[3], 'STK', 'SMART', 'SMART', 'USD')\n",
    "contract_stk_5 = conn.create_contract(portfolio[4], 'STK', 'SMART', 'SMART', 'USD')\n",
    "contract_stk_6 = conn.create_contract(portfolio[5], 'STK', 'SMART', 'SMART', 'USD')\n",
    "contract_stk_7 = conn.create_contract(portfolio[6], 'STK', 'SMART', 'SMART', 'USD')\n",
    "contract_stk_8 = conn.create_contract(portfolio[7], 'STK', 'SMART', 'SMART', 'USD')"
   ]
  },
  {
   "cell_type": "code",
   "execution_count": null,
   "metadata": {
    "collapsed": false
   },
   "outputs": [],
   "source": [
    "contract_stk=['contract_stk_1','contract_stk_1','contract_stk_1',contract_stk_1]"
   ]
  },
  {
   "cell_type": "code",
   "execution_count": null,
   "metadata": {
    "collapsed": true
   },
   "outputs": [],
   "source": [
    "context = zmq.Context()"
   ]
  },
  {
   "cell_type": "code",
   "execution_count": null,
   "metadata": {
    "collapsed": false
   },
   "outputs": [],
   "source": [
    "field = ['lastTimestamp', 'askPrice', 'askSize',\n",
    "         'bidPrice', 'bidSize',\n",
    "         'low', 'high', 'close',\n",
    "         'volume', 'lastPrice', 'lastSize', 'halted']"
   ]
  },
  {
   "cell_type": "code",
   "execution_count": null,
   "metadata": {
    "collapsed": true
   },
   "outputs": [],
   "source": [
    "socket_7000 = context.socket(zmq.PUB)\n",
    "socket_7000.bind('tcp://127.0.0.1:7000')"
   ]
  },
  {
   "cell_type": "code",
   "execution_count": null,
   "metadata": {
    "collapsed": true
   },
   "outputs": [],
   "source": [
    "def send_tick(field, value):\n",
    "    bid_price = ''\n",
    "    bid_size=''\n",
    "    ask_price=''\n",
    "    ask_size=''\n",
    "    high=''\n",
    "    low=''\n",
    "    close=''\n",
    "    volume=''\n",
    "    lastprice='' \n",
    "    #df = pd.DataFrame()\n",
    "    \n",
    "    if field == 'bidPrice':\n",
    "        bid_price = value\n",
    "        bid_size=0\n",
    "        ask_price=0\n",
    "        ask_size=0\n",
    "        high=0\n",
    "        low=0\n",
    "        close=0\n",
    "        volume=0\n",
    "        lastprice=0 \n",
    "        msg = '%s %s %s %s %s %s %s %s %s %s' %(stk,bid_size,ask_price,ask_size,high,low,close,volume,lastprice)\n",
    "        print(msg)\n",
    "        #socket_7000.send_string(msg)\n",
    "        #dt = datetime.datetime.now()\n",
    "        #df = df.append(pd.DataFrame({'Bid': float(value)}, index=[dt]))\n",
    "    if field == 'bidSize':\n",
    "        bid_price = 0\n",
    "        bid_size= value\n",
    "        ask_price=0\n",
    "        ask_size=0\n",
    "        high=0\n",
    "        low=0\n",
    "        close=0\n",
    "        volume=0\n",
    "        msg = '%s %s %s %s %s %s %s %s %s %s' %(stk,bid_price,bid_size,ask_price,ask_size,high,low,close,volume,lastprice)\n",
    "        print(msg)\n",
    "        #socket_7000.send_string(msg)\n",
    "    if field == 'askPrice':\n",
    "        bid_price = 0\n",
    "        bid_size= 0\n",
    "        ask_price =value\n",
    "        ask_size=0\n",
    "        high=0\n",
    "        low=0\n",
    "        close=0\n",
    "        volume=0\n",
    "        msg = '%s %s %s %s %s %s %s %s %s %s' %(stk,bid_price,bid_size,ask_price,ask_size,high,low,close,volume,lastprice)\n",
    "        print(msg)\n",
    "        #socket_7000.send_string(msg)\n",
    "    if field == 'askSize':\n",
    "        bid_price = 0\n",
    "        bid_size= 0\n",
    "        ask_price =0\n",
    "        ask_size=value\n",
    "        high=0\n",
    "        low=0\n",
    "        close=0\n",
    "        volume=0\n",
    "        msg = '%s %s %s %s %s %s %s %s %s %s' %(stk,bid_price,bid_size,ask_price,ask_size,high,low,close,volume,lastprice)\n",
    "        print(msg)\n",
    "        #socket_7000.send_string(msg)\n",
    "    if field == 'high':\n",
    "        bid_price = 0\n",
    "        bid_size= 0\n",
    "        ask_price =0\n",
    "        ask_size=0\n",
    "        high=value\n",
    "        low=0\n",
    "        close=0\n",
    "        volume=0\n",
    "        msg = '%s %s %s %s %s %s %s %s %s %s' %(stk,bid_price,bid_size,ask_price,ask_size,high,low,close,volume,lastprice)\n",
    "        print(msg)\n",
    "        #socket_7000.send_string(msg)\n",
    "    if field == 'low':\n",
    "        bid_price = 0\n",
    "        bid_size= 0\n",
    "        ask_price =0\n",
    "        ask_size=0\n",
    "        high=0\n",
    "        low=value\n",
    "        close=0\n",
    "        volume=0\n",
    "        msg = '%s %s %s %s %s %s %s %s %s %s' %(stk,bid_price,bid_size,ask_price,ask_size,high,low,close,volume,lastprice)\n",
    "        print(msg)\n",
    "        #socket_7000.send_string(msg)\n",
    "    if field == 'close':\n",
    "        bid_price = 0\n",
    "        bid_size= 0\n",
    "        ask_price =0\n",
    "        ask_size=0\n",
    "        high=0\n",
    "        low=0\n",
    "        close=value\n",
    "        volume=0\n",
    "        astprice=0\n",
    "        msg = '%s %s %s %s %s %s %s %s %s %s' %(stk,bid_price,bid_size,ask_price,ask_size,high,low,close,volume,lastprice)\n",
    "        print(msg)\n",
    "        #socket_7000.send_string(msg) \n",
    "    if field == 'volume':\n",
    "        bid_price = 0\n",
    "        bid_size= 0\n",
    "        ask_price =0\n",
    "        ask_size=0\n",
    "        high=0\n",
    "        low=0\n",
    "        close=0\n",
    "        volume=value\n",
    "        lastprice=0\n",
    "        msg = '%s %s %s %s %s %s %s %s %s %s' %(stk,bid_price,bid_size,ask_price,ask_size,high,low,close,volume,lastprice)\n",
    "        print(msg)\n",
    "        #socket_7000.send_string(msg) \n",
    "    if field == 'lastPrice':\n",
    "        bid_price = 0\n",
    "        bid_size= 0\n",
    "        ask_price =0\n",
    "        ask_size=0\n",
    "        high=0\n",
    "        low=0\n",
    "        close=0\n",
    "        volume=0\n",
    "        lastprice=value\n",
    "        msg = '%s %s %s %s %s %s %s %s %s %s' %(stk,bid_price,bid_size,ask_price,ask_size,high,low,close,volume,lastprice)\n",
    "        print(msg)\n",
    "        #socket_7000.send_string(msg)      \n"
   ]
  },
  {
   "cell_type": "code",
   "execution_count": null,
   "metadata": {
    "collapsed": false
   },
   "outputs": [],
   "source": [
    "conn.cancel_market_data(request_id)\n",
    "conn.close()"
   ]
  },
  {
   "cell_type": "code",
   "execution_count": null,
   "metadata": {
    "collapsed": false
   },
   "outputs": [],
   "source": [
    "for i in range (0,7):\n",
    "    stk=portfolio[i]\n",
    "    request_id = conn.request_market_data(conn.create_contract(stk, 'STK', 'SMART', 'SMART', 'USD'), send_tick)"
   ]
  },
  {
   "cell_type": "code",
   "execution_count": null,
   "metadata": {
    "collapsed": true
   },
   "outputs": [],
   "source": []
  },
  {
   "cell_type": "code",
   "execution_count": null,
   "metadata": {
    "collapsed": true
   },
   "outputs": [],
   "source": []
  }
 ],
 "metadata": {
  "kernelspec": {
   "display_name": "Python 3",
   "language": "python",
   "name": "python3"
  },
  "language_info": {
   "codemirror_mode": {
    "name": "ipython",
    "version": 3
   },
   "file_extension": ".py",
   "mimetype": "text/x-python",
   "name": "python",
   "nbconvert_exporter": "python",
   "pygments_lexer": "ipython3",
   "version": "3.5.2"
  }
 },
 "nbformat": 4,
 "nbformat_minor": 2
}
