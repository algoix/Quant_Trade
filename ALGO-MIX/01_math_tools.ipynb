{
 "cells": [
  {
   "cell_type": "markdown",
   "metadata": {},
   "source": [
    "# Mathematical Tools"
   ]
  },
  {
   "cell_type": "markdown",
   "metadata": {},
   "source": [
    "## Approximation"
   ]
  },
  {
   "cell_type": "code",
   "execution_count": null,
   "metadata": {
    "collapsed": false,
    "uuid": "460b709e-eed1-48e4-b3ad-d07377ea5de6"
   },
   "outputs": [],
   "source": [
    "import numpy as np\n",
    "import matplotlib.pyplot as plt\n",
    "import seaborn as sns; sns.set()\n",
    "%matplotlib inline"
   ]
  },
  {
   "cell_type": "code",
   "execution_count": null,
   "metadata": {
    "collapsed": false,
    "uuid": "2326c3ad-f244-4f48-8b68-851bd2347d57"
   },
   "outputs": [],
   "source": [
    "def f(x):\n",
    "    return np.sin(x) + 0.5 * x"
   ]
  },
  {
   "cell_type": "code",
   "execution_count": null,
   "metadata": {
    "collapsed": false,
    "uuid": "c09f73d2-c2a5-4c6d-a2f1-08a191378417"
   },
   "outputs": [],
   "source": [
    "x = np.linspace(-2 * np.pi, 2 * np.pi, 50)"
   ]
  },
  {
   "cell_type": "code",
   "execution_count": null,
   "metadata": {
    "collapsed": false,
    "uuid": "96d2bd1b-8883-486d-920d-b610aeb076a8"
   },
   "outputs": [],
   "source": [
    "plt.plot(x, f(x), 'b')\n",
    "plt.grid(True)\n",
    "plt.xlabel('x')\n",
    "plt.ylabel('f(x)')"
   ]
  },
  {
   "cell_type": "markdown",
   "metadata": {},
   "source": [
    "### Regression"
   ]
  },
  {
   "cell_type": "markdown",
   "metadata": {},
   "source": [
    "#### Monomials as Basis Functions"
   ]
  },
  {
   "cell_type": "code",
   "execution_count": null,
   "metadata": {
    "collapsed": false,
    "uuid": "ace90420-7219-4227-8210-bf107f556726"
   },
   "outputs": [],
   "source": [
    "reg = np.polyfit(x, f(x), deg=1)\n",
    "ry = np.polyval(reg, x)"
   ]
  },
  {
   "cell_type": "code",
   "execution_count": null,
   "metadata": {
    "collapsed": false,
    "uuid": "c0667d3e-a48a-413d-b250-5e0d3b58275e"
   },
   "outputs": [],
   "source": [
    "plt.plot(x, f(x), 'b', label='f(x)')\n",
    "plt.plot(x, ry, 'r.', label='regression')\n",
    "plt.legend(loc=0)\n",
    "plt.grid(True)\n",
    "plt.xlabel('x')\n",
    "plt.ylabel('f(x)')"
   ]
  },
  {
   "cell_type": "code",
   "execution_count": null,
   "metadata": {
    "collapsed": false,
    "uuid": "096bb07a-55f7-45de-8734-2a76d8749d53"
   },
   "outputs": [],
   "source": [
    "reg = np.polyfit(x, f(x), deg=5)\n",
    "ry = np.polyval(reg, x)"
   ]
  },
  {
   "cell_type": "code",
   "execution_count": null,
   "metadata": {
    "collapsed": false,
    "uuid": "5e17309e-e8e2-4df9-b841-0f57d983b89e"
   },
   "outputs": [],
   "source": [
    "plt.plot(x, f(x), 'b', label='f(x)')\n",
    "plt.plot(x, ry, 'r.', label='regression')\n",
    "plt.legend(loc=0)\n",
    "plt.grid(True)\n",
    "plt.xlabel('x')\n",
    "plt.ylabel('f(x)')"
   ]
  },
  {
   "cell_type": "code",
   "execution_count": null,
   "metadata": {
    "collapsed": false,
    "uuid": "67b14a21-e8f2-4dd4-a43b-0d232f2b4055"
   },
   "outputs": [],
   "source": [
    "reg = np.polyfit(x, f(x), 7)\n",
    "ry = np.polyval(reg, x)"
   ]
  },
  {
   "cell_type": "code",
   "execution_count": null,
   "metadata": {
    "collapsed": false,
    "uuid": "053752b7-7eb3-4d93-acdf-69874ceada12"
   },
   "outputs": [],
   "source": [
    "plt.plot(x, f(x), 'b', label='f(x)')\n",
    "plt.plot(x, ry, 'r.', label='regression')\n",
    "plt.legend(loc=0)\n",
    "plt.grid(True)\n",
    "plt.xlabel('x')\n",
    "plt.ylabel('f(x)')"
   ]
  },
  {
   "cell_type": "code",
   "execution_count": null,
   "metadata": {
    "collapsed": false,
    "uuid": "e600b6be-4cf2-4212-807a-7f397f081e98"
   },
   "outputs": [],
   "source": [
    "np.allclose(f(x), ry)"
   ]
  },
  {
   "cell_type": "code",
   "execution_count": null,
   "metadata": {
    "collapsed": false,
    "uuid": "bc6918fe-f520-483c-94eb-41dd89abfa70"
   },
   "outputs": [],
   "source": [
    "np.sum((f(x) - ry) ** 2) / len(x)"
   ]
  },
  {
   "cell_type": "markdown",
   "metadata": {},
   "source": [
    "#### Individual Basis Functions"
   ]
  },
  {
   "cell_type": "code",
   "execution_count": null,
   "metadata": {
    "collapsed": false,
    "uuid": "b4f05890-56e0-4f29-9d61-bd9948ad8af0"
   },
   "outputs": [],
   "source": [
    "matrix = np.zeros((3 + 1, len(x)))\n",
    "matrix[3, :] = x ** 3\n",
    "matrix[2, :] = x ** 2\n",
    "matrix[1, :] = x\n",
    "matrix[0, :] = 1"
   ]
  },
  {
   "cell_type": "code",
   "execution_count": null,
   "metadata": {
    "collapsed": false,
    "uuid": "c8963eee-4bc8-4ef2-a172-d4b64fd065a3"
   },
   "outputs": [],
   "source": [
    "reg = np.linalg.lstsq(matrix.T, f(x))[0]"
   ]
  },
  {
   "cell_type": "code",
   "execution_count": null,
   "metadata": {
    "collapsed": false,
    "uuid": "efd077d1-9c8a-4961-be95-400f83cd679e"
   },
   "outputs": [],
   "source": [
    "reg"
   ]
  },
  {
   "cell_type": "code",
   "execution_count": null,
   "metadata": {
    "collapsed": false,
    "uuid": "efb7b252-d0f8-4263-b2be-4d9588ab06a7"
   },
   "outputs": [],
   "source": [
    "ry = np.dot(reg, matrix)"
   ]
  },
  {
   "cell_type": "code",
   "execution_count": null,
   "metadata": {
    "collapsed": false,
    "uuid": "1b1953fe-83a2-436b-8cd4-69c5abf6d2e1"
   },
   "outputs": [],
   "source": [
    "plt.plot(x, f(x), 'b', label='f(x)')\n",
    "plt.plot(x, ry, 'r.', label='regression')\n",
    "plt.legend(loc=0)\n",
    "plt.grid(True)\n",
    "plt.xlabel('x')\n",
    "plt.ylabel('f(x)')"
   ]
  },
  {
   "cell_type": "code",
   "execution_count": null,
   "metadata": {
    "collapsed": false,
    "uuid": "ac77ef01-8abe-4b99-8f92-8325a396ff2c"
   },
   "outputs": [],
   "source": [
    "matrix[3, :] = np.sin(x)\n",
    "reg = np.linalg.lstsq(matrix.T, f(x))[0]\n",
    "ry = np.dot(reg, matrix)"
   ]
  },
  {
   "cell_type": "code",
   "execution_count": null,
   "metadata": {
    "collapsed": false,
    "uuid": "58d9db31-5885-4fba-8ae7-2e962a0963ca"
   },
   "outputs": [],
   "source": [
    "plt.plot(x, f(x), 'b', label='f(x)')\n",
    "plt.plot(x, ry, 'r.', label='regression')\n",
    "plt.legend(loc=0)\n",
    "plt.grid(True)\n",
    "plt.xlabel('x')\n",
    "plt.ylabel('f(x)')"
   ]
  },
  {
   "cell_type": "code",
   "execution_count": null,
   "metadata": {
    "collapsed": false,
    "uuid": "02481bd5-c737-46bc-9b90-5554fcad8745"
   },
   "outputs": [],
   "source": [
    "np.allclose(f(x), ry)"
   ]
  },
  {
   "cell_type": "code",
   "execution_count": null,
   "metadata": {
    "collapsed": false,
    "uuid": "6bf80137-3a52-483b-a557-b092bbf23b36"
   },
   "outputs": [],
   "source": [
    "np.sum((f(x) - ry) ** 2) / len(x)"
   ]
  },
  {
   "cell_type": "code",
   "execution_count": null,
   "metadata": {
    "collapsed": false,
    "uuid": "86f9a92c-600d-4515-b34d-20c9f35a86b0"
   },
   "outputs": [],
   "source": [
    "reg"
   ]
  },
  {
   "cell_type": "markdown",
   "metadata": {},
   "source": [
    "#### Noisy Data"
   ]
  },
  {
   "cell_type": "code",
   "execution_count": null,
   "metadata": {
    "collapsed": false,
    "uuid": "75d3a6a6-a940-4a49-b35d-29f21880ab95"
   },
   "outputs": [],
   "source": [
    "xn = np.linspace(-2 * np.pi, 2 * np.pi, 50)\n",
    "xn = xn + 0.15 * np.random.standard_normal(len(xn))\n",
    "yn = f(xn) + 0.25 * np.random.standard_normal(len(xn))"
   ]
  },
  {
   "cell_type": "code",
   "execution_count": null,
   "metadata": {
    "collapsed": false,
    "uuid": "f6f9c05f-1f96-48ee-aaca-f4d80c3d3ac5"
   },
   "outputs": [],
   "source": [
    "reg = np.polyfit(xn, yn, 7)\n",
    "ry = np.polyval(reg, xn)"
   ]
  },
  {
   "cell_type": "code",
   "execution_count": null,
   "metadata": {
    "collapsed": false,
    "uuid": "9a475222-3bfd-4300-951b-94e60792c6da"
   },
   "outputs": [],
   "source": [
    "plt.plot(xn, yn, 'b^', label='f(x)')\n",
    "plt.plot(xn, ry, 'ro', label='regression')\n",
    "plt.legend(loc=0)\n",
    "plt.grid(True)\n",
    "plt.xlabel('x')\n",
    "plt.ylabel('f(x)')"
   ]
  },
  {
   "cell_type": "markdown",
   "metadata": {},
   "source": [
    "#### Unsorted Data"
   ]
  },
  {
   "cell_type": "code",
   "execution_count": null,
   "metadata": {
    "collapsed": false,
    "uuid": "8ea85cdb-47f2-4967-b684-7894d9964e76"
   },
   "outputs": [],
   "source": [
    "xu = np.random.rand(50) * 4 * np.pi - 2 * np.pi\n",
    "yu = f(xu)"
   ]
  },
  {
   "cell_type": "code",
   "execution_count": null,
   "metadata": {
    "collapsed": false,
    "uuid": "0034edf5-1cef-4eea-be44-c69103fe6eb2"
   },
   "outputs": [],
   "source": [
    "print xu[:10].round(2)\n",
    "print yu[:10].round(2)"
   ]
  },
  {
   "cell_type": "code",
   "execution_count": null,
   "metadata": {
    "collapsed": false,
    "uuid": "d7f5f003-1cb8-4432-a8d6-cb4bef1a101a"
   },
   "outputs": [],
   "source": [
    "reg = np.polyfit(xu, yu, 5)\n",
    "ry = np.polyval(reg, xu)"
   ]
  },
  {
   "cell_type": "code",
   "execution_count": null,
   "metadata": {
    "collapsed": false,
    "uuid": "40177962-0363-479c-bdbd-451a4c043060"
   },
   "outputs": [],
   "source": [
    "plt.plot(xu, yu, 'b^', label='f(x)')\n",
    "plt.plot(xu, ry, 'ro', label='regression')\n",
    "plt.legend(loc=0)\n",
    "plt.grid(True)\n",
    "plt.xlabel('x')\n",
    "plt.ylabel('f(x)')"
   ]
  },
  {
   "cell_type": "markdown",
   "metadata": {},
   "source": [
    "#### Multiple Dimensions"
   ]
  },
  {
   "cell_type": "code",
   "execution_count": null,
   "metadata": {
    "collapsed": false,
    "uuid": "82b95a7b-9e3e-4dc8-b313-1af775b06b8b"
   },
   "outputs": [],
   "source": [
    "def fm((x, y)):\n",
    "    return np.sin(x) + 0.25 * x + np.sqrt(y) + 0.05 * y ** 2"
   ]
  },
  {
   "cell_type": "code",
   "execution_count": null,
   "metadata": {
    "collapsed": false,
    "uuid": "b03b67ac-f7df-41d1-9dab-1e074e8738fa"
   },
   "outputs": [],
   "source": [
    "x = np.linspace(0, 10, 20)\n",
    "y = np.linspace(0, 10, 20)\n",
    "X, Y = np.meshgrid(x, y)\n",
    "  # generates 2-d grids out of the 1-d arrays\n",
    "Z = fm((X, Y))\n",
    "x = X.flatten()\n",
    "y = Y.flatten()\n",
    "  # yields 1-d arrays from the 2-d grids"
   ]
  },
  {
   "cell_type": "code",
   "execution_count": null,
   "metadata": {
    "collapsed": false,
    "uuid": "52a91ef7-33c4-4de1-b69b-ea4d740aa252"
   },
   "outputs": [],
   "source": [
    "from mpl_toolkits.mplot3d import Axes3D\n",
    "import matplotlib as mpl\n",
    "\n",
    "fig = plt.figure(figsize=(9, 6))\n",
    "ax = fig.gca(projection='3d')\n",
    "surf = ax.plot_surface(X, Y, Z, rstride=2, cstride=2, cmap=mpl.cm.coolwarm,\n",
    "        linewidth=0.5, antialiased=True)\n",
    "ax.set_xlabel('x')\n",
    "ax.set_ylabel('y')\n",
    "ax.set_zlabel('f(x, y)')\n",
    "fig.colorbar(surf, shrink=0.5, aspect=5)"
   ]
  },
  {
   "cell_type": "code",
   "execution_count": null,
   "metadata": {
    "collapsed": false,
    "uuid": "5918f2cf-3ead-4b80-980e-4a375ee159db"
   },
   "outputs": [],
   "source": [
    "matrix = np.zeros((len(x), 6 + 1))\n",
    "matrix[:, 6] = np.sqrt(y)\n",
    "matrix[:, 5] = np.sin(x)\n",
    "matrix[:, 4] = y ** 2\n",
    "matrix[:, 3] = x ** 2\n",
    "matrix[:, 2] = y\n",
    "matrix[:, 1] = x\n",
    "matrix[:, 0] = 1"
   ]
  },
  {
   "cell_type": "code",
   "execution_count": null,
   "metadata": {
    "collapsed": false,
    "uuid": "48ce242e-3411-41bf-b6c1-c8e228f3e494"
   },
   "outputs": [],
   "source": [
    "import statsmodels.api as sm"
   ]
  },
  {
   "cell_type": "code",
   "execution_count": null,
   "metadata": {
    "collapsed": false,
    "uuid": "b9eb74bd-9280-4d8b-ae7d-8853911389cb"
   },
   "outputs": [],
   "source": [
    "model = sm.OLS(fm((x, y)), matrix).fit()"
   ]
  },
  {
   "cell_type": "code",
   "execution_count": null,
   "metadata": {
    "collapsed": false,
    "uuid": "cc9c9f77-9051-4d82-bb7b-c646216d542f"
   },
   "outputs": [],
   "source": [
    "model.rsquared"
   ]
  },
  {
   "cell_type": "code",
   "execution_count": null,
   "metadata": {
    "collapsed": false,
    "uuid": "b68898de-9001-4a15-a5ee-7ee50c5592ea"
   },
   "outputs": [],
   "source": [
    "a = model.params\n",
    "a"
   ]
  },
  {
   "cell_type": "code",
   "execution_count": null,
   "metadata": {
    "collapsed": false,
    "uuid": "1f5d1574-8238-45e4-987d-bdb7cc6b5e03"
   },
   "outputs": [],
   "source": [
    "def reg_func(a, (x, y)):\n",
    "    f6 = a[6] * np.sqrt(y)\n",
    "    f5 = a[5] * np.sin(x)\n",
    "    f4 = a[4] * y ** 2\n",
    "    f3 = a[3] * x ** 2\n",
    "    f2 = a[2] * y\n",
    "    f1 = a[1] * x\n",
    "    f0 = a[0] * 1\n",
    "    return (f6 + f5 + f4 + f3 +\n",
    "            f2 + f1 + f0)"
   ]
  },
  {
   "cell_type": "code",
   "execution_count": null,
   "metadata": {
    "collapsed": false,
    "uuid": "fd9f8eed-1b10-4ec8-8a15-bedae7f53a18"
   },
   "outputs": [],
   "source": [
    "RZ = reg_func(a, (X, Y))"
   ]
  },
  {
   "cell_type": "code",
   "execution_count": null,
   "metadata": {
    "collapsed": false,
    "uuid": "096451ce-173a-43b5-b81f-9dac26df2702"
   },
   "outputs": [],
   "source": [
    "fig = plt.figure(figsize=(9, 6))\n",
    "ax = fig.gca(projection='3d')\n",
    "surf1 = ax.plot_surface(X, Y, Z, rstride=2, cstride=2,\n",
    "            cmap=mpl.cm.coolwarm, linewidth=0.5,\n",
    "            antialiased=True)\n",
    "surf2 = ax.plot_wireframe(X, Y, RZ, rstride=2, cstride=2,\n",
    "                          label='regression')\n",
    "ax.set_xlabel('x')\n",
    "ax.set_ylabel('y')\n",
    "ax.set_zlabel('f(x, y)')\n",
    "ax.legend()\n",
    "fig.colorbar(surf, shrink=0.5, aspect=5)"
   ]
  },
  {
   "cell_type": "markdown",
   "metadata": {},
   "source": [
    "### Interpolation"
   ]
  },
  {
   "cell_type": "code",
   "execution_count": null,
   "metadata": {
    "collapsed": false,
    "uuid": "5e345542-f425-4630-9eae-0a446927ad73"
   },
   "outputs": [],
   "source": [
    "import scipy.interpolate as spi"
   ]
  },
  {
   "cell_type": "code",
   "execution_count": null,
   "metadata": {
    "collapsed": false,
    "uuid": "20200433-3e90-4bb6-be5a-8e6a1360989e"
   },
   "outputs": [],
   "source": [
    "x = np.linspace(-2 * np.pi, 2 * np.pi, 25)"
   ]
  },
  {
   "cell_type": "code",
   "execution_count": null,
   "metadata": {
    "collapsed": false,
    "uuid": "6e3caa90-2a2a-4429-8536-ab25091a5640"
   },
   "outputs": [],
   "source": [
    "def f(x):\n",
    "    return np.sin(x) + 0.5 * x"
   ]
  },
  {
   "cell_type": "code",
   "execution_count": null,
   "metadata": {
    "collapsed": false,
    "uuid": "afdb9c45-1b12-4358-ba3e-a1bc3c4d32db"
   },
   "outputs": [],
   "source": [
    "ipo = spi.splrep(x, f(x), k=1)"
   ]
  },
  {
   "cell_type": "code",
   "execution_count": null,
   "metadata": {
    "collapsed": false,
    "uuid": "7217594a-3398-4dfd-9d16-f90ee0f24bd9"
   },
   "outputs": [],
   "source": [
    "iy = spi.splev(x, ipo)"
   ]
  },
  {
   "cell_type": "code",
   "execution_count": null,
   "metadata": {
    "collapsed": false,
    "uuid": "89d96d0e-dabd-490f-acad-15bba904b546"
   },
   "outputs": [],
   "source": [
    "plt.plot(x, f(x), 'b', label='f(x)')\n",
    "plt.plot(x, iy, 'r.', label='interpolation')\n",
    "plt.legend(loc=0)\n",
    "plt.grid(True)\n",
    "plt.xlabel('x')\n",
    "plt.ylabel('f(x)')"
   ]
  },
  {
   "cell_type": "code",
   "execution_count": null,
   "metadata": {
    "collapsed": false,
    "uuid": "b9cacc73-786b-4c6b-ad5f-e4d22729c17e"
   },
   "outputs": [],
   "source": [
    "np.allclose(f(x), iy)"
   ]
  },
  {
   "cell_type": "code",
   "execution_count": null,
   "metadata": {
    "collapsed": false,
    "uuid": "3daf1f42-54d8-4150-aab6-5188d1c23bdb"
   },
   "outputs": [],
   "source": [
    "xd = np.linspace(1.0, 3.0, 50)\n",
    "iyd = spi.splev(xd, ipo)"
   ]
  },
  {
   "cell_type": "code",
   "execution_count": null,
   "metadata": {
    "collapsed": false,
    "uuid": "7ba1134b-ac71-4c3a-a0fc-b644c59effc6"
   },
   "outputs": [],
   "source": [
    "plt.plot(xd, f(xd), 'b', label='f(x)')\n",
    "plt.plot(xd, iyd, 'r.', label='interpolation')\n",
    "plt.legend(loc=0)\n",
    "plt.grid(True)\n",
    "plt.xlabel('x')\n",
    "plt.ylabel('f(x)')"
   ]
  },
  {
   "cell_type": "code",
   "execution_count": null,
   "metadata": {
    "collapsed": false,
    "uuid": "c3d9f85f-671f-4353-beab-fad9db9f8aa4"
   },
   "outputs": [],
   "source": [
    "ipo = spi.splrep(x, f(x), k=3)\n",
    "iyd = spi.splev(xd, ipo)"
   ]
  },
  {
   "cell_type": "code",
   "execution_count": null,
   "metadata": {
    "collapsed": false,
    "uuid": "0c3e96f1-8732-4ce6-a6ed-bbaae732d950"
   },
   "outputs": [],
   "source": [
    "plt.plot(xd, f(xd), 'b', label='f(x)')\n",
    "plt.plot(xd, iyd, 'r.', label='interpolation')\n",
    "plt.legend(loc=0)\n",
    "plt.grid(True)\n",
    "plt.xlabel('x')\n",
    "plt.ylabel('f(x)')"
   ]
  },
  {
   "cell_type": "code",
   "execution_count": null,
   "metadata": {
    "collapsed": false,
    "uuid": "8c67b514-160e-40e3-8f69-da81d7579b2d"
   },
   "outputs": [],
   "source": [
    "np.allclose(f(xd), iyd)"
   ]
  },
  {
   "cell_type": "code",
   "execution_count": null,
   "metadata": {
    "collapsed": false,
    "uuid": "ecc6c2fb-faa4-4149-b71e-05ac5cddeb79"
   },
   "outputs": [],
   "source": [
    "np.sum((f(xd) - iyd) ** 2) / len(xd)"
   ]
  },
  {
   "cell_type": "markdown",
   "metadata": {},
   "source": [
    "## Convex Optimization"
   ]
  },
  {
   "cell_type": "code",
   "execution_count": null,
   "metadata": {
    "collapsed": false,
    "uuid": "a09a918e-760c-4e9c-95b8-fe3b568dacdb"
   },
   "outputs": [],
   "source": [
    "def fm((x, y)):\n",
    "    return (np.sin(x) + 0.05 * x ** 2\n",
    "          + np.sin(y) + 0.05 * y ** 2)"
   ]
  },
  {
   "cell_type": "code",
   "execution_count": null,
   "metadata": {
    "collapsed": false,
    "uuid": "1f4a147b-d9d2-42d5-8553-dd95d75d8251"
   },
   "outputs": [],
   "source": [
    "x = np.linspace(-10, 10, 50)\n",
    "y = np.linspace(-10, 10, 50)\n",
    "X, Y = np.meshgrid(x, y)\n",
    "Z = fm((X, Y))"
   ]
  },
  {
   "cell_type": "code",
   "execution_count": null,
   "metadata": {
    "collapsed": false,
    "uuid": "b3a1d3b7-25eb-4ac8-81ed-ad740fd1a297"
   },
   "outputs": [],
   "source": [
    "fig = plt.figure(figsize=(9, 6))\n",
    "ax = fig.gca(projection='3d')\n",
    "surf = ax.plot_surface(X, Y, Z, rstride=2, cstride=2, cmap=mpl.cm.coolwarm,\n",
    "        linewidth=0.5, antialiased=True)\n",
    "ax.set_xlabel('x')\n",
    "ax.set_ylabel('y')\n",
    "ax.set_zlabel('f(x, y)')\n",
    "fig.colorbar(surf, shrink=0.5, aspect=5)"
   ]
  },
  {
   "cell_type": "code",
   "execution_count": null,
   "metadata": {
    "collapsed": false,
    "uuid": "72b2e44d-2127-412e-9046-2b0c7c5bf7c6"
   },
   "outputs": [],
   "source": [
    "import scipy.optimize as spo"
   ]
  },
  {
   "cell_type": "markdown",
   "metadata": {},
   "source": [
    "### Global Optimization"
   ]
  },
  {
   "cell_type": "code",
   "execution_count": null,
   "metadata": {
    "collapsed": false,
    "uuid": "e6c829bb-f358-430d-9e8c-781e9d15c9e6"
   },
   "outputs": [],
   "source": [
    "def fo((x, y)):\n",
    "    z = np.sin(x) + 0.05 * x ** 2 + np.sin(y) + 0.05 * y ** 2\n",
    "    if output == True:\n",
    "        print '%8.4f %8.4f %8.4f' % (x, y, z)\n",
    "    return z"
   ]
  },
  {
   "cell_type": "code",
   "execution_count": null,
   "metadata": {
    "collapsed": false,
    "uuid": "d1f54d32-6cb5-4cd2-8a95-ea3b92c87266"
   },
   "outputs": [],
   "source": [
    "output = True\n",
    "spo.brute(fo, ((-10, 10.1, 5), (-10, 10.1, 5)), finish=None)"
   ]
  },
  {
   "cell_type": "code",
   "execution_count": null,
   "metadata": {
    "collapsed": false,
    "uuid": "dc42167b-4e8f-462c-8aad-a94afdf0a8bc"
   },
   "outputs": [],
   "source": [
    "output = False\n",
    "opt1 = spo.brute(fo, ((-10, 10.1, 0.1), (-10, 10.1, 0.1)), finish=None)\n",
    "opt1"
   ]
  },
  {
   "cell_type": "code",
   "execution_count": null,
   "metadata": {
    "collapsed": false,
    "uuid": "ec2669cd-36a5-4b79-a90c-761a39b12044"
   },
   "outputs": [],
   "source": [
    "fm(opt1)"
   ]
  },
  {
   "cell_type": "markdown",
   "metadata": {},
   "source": [
    "### Local Optimization"
   ]
  },
  {
   "cell_type": "code",
   "execution_count": null,
   "metadata": {
    "collapsed": false,
    "uuid": "e451a278-e2ae-4d86-b357-f230468052a4"
   },
   "outputs": [],
   "source": [
    "output = True\n",
    "opt2 = spo.fmin(fo, opt1, xtol=0.001, ftol=0.001, maxiter=15, maxfun=20)\n",
    "opt2"
   ]
  },
  {
   "cell_type": "code",
   "execution_count": null,
   "metadata": {
    "collapsed": false,
    "uuid": "0352d556-6ea7-47a6-9c76-e4a56c0efed7"
   },
   "outputs": [],
   "source": [
    "fm(opt2)"
   ]
  },
  {
   "cell_type": "code",
   "execution_count": null,
   "metadata": {
    "collapsed": false,
    "uuid": "ff9beaf9-73d7-4157-85cb-24783abae775"
   },
   "outputs": [],
   "source": [
    "output = False\n",
    "spo.fmin(fo, (2.0, 2.0), maxiter=250)"
   ]
  },
  {
   "cell_type": "markdown",
   "metadata": {},
   "source": [
    "### Constrained Optimization"
   ]
  },
  {
   "cell_type": "code",
   "execution_count": null,
   "metadata": {
    "collapsed": false,
    "uuid": "703a8ac0-1c74-4851-9fd3-7ac404ee3446"
   },
   "outputs": [],
   "source": [
    "# function to be minimized\n",
    "from math import sqrt\n",
    "def Eu((s, b)):\n",
    "    return -(0.5 * sqrt(s * 15 + b * 5) + 0.5 * sqrt(s * 5 + b * 12))\n",
    "\n",
    "# constraints\n",
    "cons = ({'type': 'ineq', 'fun': lambda (s, b):  100 - s * 10 - b * 10})\n",
    "  # budget constraint\n",
    "bnds = ((0, 1000), (0, 1000))  # uppper bounds large enough"
   ]
  },
  {
   "cell_type": "code",
   "execution_count": null,
   "metadata": {
    "collapsed": false,
    "uuid": "8f989832-637a-4188-b096-26ceeabd77ea"
   },
   "outputs": [],
   "source": [
    "result = spo.minimize(Eu, [5, 5], method='SLSQP',\n",
    "                       bounds=bnds, constraints=cons)"
   ]
  },
  {
   "cell_type": "code",
   "execution_count": null,
   "metadata": {
    "collapsed": false,
    "uuid": "67c11995-124c-4f9d-8edf-1364b412e754"
   },
   "outputs": [],
   "source": [
    "result"
   ]
  },
  {
   "cell_type": "code",
   "execution_count": null,
   "metadata": {
    "collapsed": false,
    "uuid": "53899a89-8532-4f22-a17f-54d106412867"
   },
   "outputs": [],
   "source": [
    "result['x']"
   ]
  },
  {
   "cell_type": "code",
   "execution_count": null,
   "metadata": {
    "collapsed": false,
    "uuid": "b8548809-fe3a-4fa4-9496-8d3b6a177973"
   },
   "outputs": [],
   "source": [
    "-result['fun']"
   ]
  },
  {
   "cell_type": "code",
   "execution_count": null,
   "metadata": {
    "collapsed": false,
    "uuid": "7453e87b-a70d-47b9-8a12-c5c0f01e4b86"
   },
   "outputs": [],
   "source": [
    "np.dot(result['x'], [10, 10])"
   ]
  },
  {
   "cell_type": "markdown",
   "metadata": {},
   "source": [
    "## Integration"
   ]
  },
  {
   "cell_type": "code",
   "execution_count": null,
   "metadata": {
    "collapsed": false,
    "uuid": "6a38567d-4a2d-464f-8de3-7687e1d2916d"
   },
   "outputs": [],
   "source": [
    "import scipy.integrate as sci"
   ]
  },
  {
   "cell_type": "code",
   "execution_count": null,
   "metadata": {
    "collapsed": false,
    "uuid": "0954e5b6-9874-4bad-a2fb-28273a015e4a"
   },
   "outputs": [],
   "source": [
    "def f(x):\n",
    "    return np.sin(x) + 0.5 * x"
   ]
  },
  {
   "cell_type": "code",
   "execution_count": null,
   "metadata": {
    "collapsed": false,
    "uuid": "afb6151f-5743-4950-980e-18047e066ebc"
   },
   "outputs": [],
   "source": [
    "a = 0.5  # left integral limit\n",
    "b = 9.5  # right integral limit\n",
    "x = np.linspace(0, 10)\n",
    "y = f(x)"
   ]
  },
  {
   "cell_type": "code",
   "execution_count": null,
   "metadata": {
    "collapsed": false,
    "uuid": "ad78923f-e4c1-4381-9a24-33b4f1ea3c56"
   },
   "outputs": [],
   "source": [
    "from matplotlib.patches import Polygon\n",
    "\n",
    "fig, ax = plt.subplots(figsize=(7, 5))\n",
    "plt.plot(x, y, 'b', linewidth=2)\n",
    "plt.ylim(ymin=0)\n",
    "\n",
    "# area under the function\n",
    "# between lower and upper limit\n",
    "Ix = np.linspace(a, b)\n",
    "Iy = f(Ix)\n",
    "verts = [(a, 0)] + list(zip(Ix, Iy)) + [(b, 0)]\n",
    "poly = Polygon(verts, facecolor='0.7', edgecolor='0.5')\n",
    "ax.add_patch(poly)\n",
    "\n",
    "# labels\n",
    "plt.text(0.75 * (a + b), 1.5, r\"$\\int_a^b f(x)dx$\",\n",
    "         horizontalalignment='center', fontsize=20)\n",
    "\n",
    "plt.figtext(0.9, 0.075, '$x$')\n",
    "plt.figtext(0.075, 0.9, '$f(x)$')\n",
    "\n",
    "ax.set_xticks((a, b))\n",
    "ax.set_xticklabels(('$a$', '$b$'))\n",
    "ax.set_yticks([f(a), f(b)])"
   ]
  },
  {
   "cell_type": "markdown",
   "metadata": {},
   "source": [
    "### Numerical Integration"
   ]
  },
  {
   "cell_type": "code",
   "execution_count": null,
   "metadata": {
    "collapsed": false,
    "uuid": "6d3aa9c8-58c0-46a3-a89f-ca471a1f83e4"
   },
   "outputs": [],
   "source": [
    "sci.fixed_quad(f, a, b)[0]"
   ]
  },
  {
   "cell_type": "code",
   "execution_count": null,
   "metadata": {
    "collapsed": false,
    "uuid": "0ddebba6-5357-4ce9-b829-d752132d12df"
   },
   "outputs": [],
   "source": [
    "sci.quad(f, a, b)[0]"
   ]
  },
  {
   "cell_type": "code",
   "execution_count": null,
   "metadata": {
    "collapsed": false,
    "uuid": "3b1779d6-c831-449d-964f-e2cc869847e7"
   },
   "outputs": [],
   "source": [
    "sci.romberg(f, a, b)"
   ]
  },
  {
   "cell_type": "code",
   "execution_count": null,
   "metadata": {
    "collapsed": false,
    "uuid": "5499809d-f2b1-4cc9-8808-511f4e82c5ed"
   },
   "outputs": [],
   "source": [
    "xi = np.linspace(0.5, 9.5, 25)"
   ]
  },
  {
   "cell_type": "code",
   "execution_count": null,
   "metadata": {
    "collapsed": false,
    "uuid": "aec239bc-cdd9-4477-b47c-4d0136ed686d"
   },
   "outputs": [],
   "source": [
    "sci.trapz(f(xi), xi)"
   ]
  },
  {
   "cell_type": "code",
   "execution_count": null,
   "metadata": {
    "collapsed": false,
    "uuid": "ce33e420-5143-4d54-b23f-0040f54723fc"
   },
   "outputs": [],
   "source": [
    "sci.simps(f(xi), xi)"
   ]
  },
  {
   "cell_type": "markdown",
   "metadata": {},
   "source": [
    "### Integration by Simulation"
   ]
  },
  {
   "cell_type": "code",
   "execution_count": null,
   "metadata": {
    "collapsed": false,
    "uuid": "bb840eb2-0e13-40eb-aea7-0f106dcf9f41"
   },
   "outputs": [],
   "source": [
    "for i in range(1, 20):\n",
    "    np.random.seed(1000)\n",
    "    x = np.random.random(i * 10) * (b - a) + a\n",
    "    print np.sum(f(x)) / len(x) * (b - a)"
   ]
  },
  {
   "cell_type": "markdown",
   "metadata": {},
   "source": [
    "## Symbolic Computation"
   ]
  },
  {
   "cell_type": "code",
   "execution_count": null,
   "metadata": {
    "collapsed": false,
    "uuid": "f01d358d-8094-426c-8e69-657218d8c319"
   },
   "outputs": [],
   "source": [
    "import sympy as sy"
   ]
  },
  {
   "cell_type": "markdown",
   "metadata": {},
   "source": [
    "### Basics"
   ]
  },
  {
   "cell_type": "code",
   "execution_count": null,
   "metadata": {
    "collapsed": false,
    "uuid": "2cb7d5d8-ae45-4001-863e-714df216a656"
   },
   "outputs": [],
   "source": [
    "x = sy.Symbol('x')\n",
    "y = sy.Symbol('y')"
   ]
  },
  {
   "cell_type": "code",
   "execution_count": null,
   "metadata": {
    "collapsed": false,
    "uuid": "7bf55a76-f348-4820-af94-a83ed233d9a2"
   },
   "outputs": [],
   "source": [
    "type(x)"
   ]
  },
  {
   "cell_type": "code",
   "execution_count": null,
   "metadata": {
    "collapsed": false,
    "uuid": "a8f0388b-1df6-4389-877c-af5d9f141708"
   },
   "outputs": [],
   "source": [
    "sy.sqrt(x)"
   ]
  },
  {
   "cell_type": "code",
   "execution_count": null,
   "metadata": {
    "collapsed": false,
    "uuid": "f308fe2e-a5bc-4c88-a7f6-a4f09a568f2f"
   },
   "outputs": [],
   "source": [
    "3 + sy.sqrt(x) - 4 ** 2"
   ]
  },
  {
   "cell_type": "code",
   "execution_count": null,
   "metadata": {
    "collapsed": false,
    "uuid": "025f5084-4efc-4416-a564-b8a96ec426fd"
   },
   "outputs": [],
   "source": [
    "f = x ** 2 + 3 + 0.5 * x ** 2 + 3 / 2"
   ]
  },
  {
   "cell_type": "code",
   "execution_count": null,
   "metadata": {
    "collapsed": false,
    "uuid": "f427581e-50ba-45b9-a145-ff734be26e59"
   },
   "outputs": [],
   "source": [
    "sy.simplify(f)"
   ]
  },
  {
   "cell_type": "code",
   "execution_count": null,
   "metadata": {
    "collapsed": false,
    "uuid": "59837e7c-a82f-44e5-8b87-b0fba310ffc5"
   },
   "outputs": [],
   "source": [
    "sy.init_printing(pretty_print=False, use_unicode=False)"
   ]
  },
  {
   "cell_type": "code",
   "execution_count": null,
   "metadata": {
    "collapsed": false,
    "uuid": "ea1bbb85-a431-4e6c-a264-6ffb6df9f59e"
   },
   "outputs": [],
   "source": [
    "print sy.pretty(f)"
   ]
  },
  {
   "cell_type": "code",
   "execution_count": null,
   "metadata": {
    "collapsed": false,
    "uuid": "e8702014-5347-4eac-b10c-39c5a54459c9"
   },
   "outputs": [],
   "source": [
    "print sy.pretty(sy.sqrt(x) + 0.5)"
   ]
  },
  {
   "cell_type": "code",
   "execution_count": null,
   "metadata": {
    "collapsed": false,
    "uuid": "b8cf7cf4-56e2-4c6b-a70b-6592ec4bd6a6"
   },
   "outputs": [],
   "source": [
    "%%time\n",
    "pi_str = str(sy.N(sy.pi, 400000))\n",
    "pi_str[:40]"
   ]
  },
  {
   "cell_type": "code",
   "execution_count": null,
   "metadata": {
    "collapsed": false,
    "uuid": "595cc15e-99b8-43c7-ad89-db4500fdb860"
   },
   "outputs": [],
   "source": [
    "pi_str[-40:]"
   ]
  },
  {
   "cell_type": "code",
   "execution_count": null,
   "metadata": {
    "collapsed": false,
    "uuid": "cc4b85c4-e603-4d36-9553-f3999e877fca"
   },
   "outputs": [],
   "source": [
    "pi_str.find('111272')"
   ]
  },
  {
   "cell_type": "markdown",
   "metadata": {},
   "source": [
    "### Equations"
   ]
  },
  {
   "cell_type": "code",
   "execution_count": null,
   "metadata": {
    "collapsed": false,
    "uuid": "c310eeab-ac04-4015-a327-29628f9a9a11"
   },
   "outputs": [],
   "source": [
    "sy.solve(x ** 2 - 1)"
   ]
  },
  {
   "cell_type": "code",
   "execution_count": null,
   "metadata": {
    "collapsed": false,
    "uuid": "60076f9d-93f3-47e0-b5b6-87d1bca3d30a"
   },
   "outputs": [],
   "source": [
    "sy.solve(x ** 2 - 1 - 3)"
   ]
  },
  {
   "cell_type": "code",
   "execution_count": null,
   "metadata": {
    "collapsed": false,
    "uuid": "6c9e1060-61e6-4b18-9be4-cb71b83fc5a7"
   },
   "outputs": [],
   "source": [
    "sy.solve(x ** 3 + 0.5 * x ** 2 - 1)"
   ]
  },
  {
   "cell_type": "code",
   "execution_count": null,
   "metadata": {
    "collapsed": false,
    "uuid": "fcd70615-0db5-4c5c-8246-245ba3c8501c"
   },
   "outputs": [],
   "source": [
    "sy.solve(x ** 2 + y ** 2)"
   ]
  },
  {
   "cell_type": "markdown",
   "metadata": {},
   "source": [
    "### Integration"
   ]
  },
  {
   "cell_type": "code",
   "execution_count": null,
   "metadata": {
    "collapsed": false,
    "uuid": "503329d1-812a-461c-9019-e6bb2a44125e"
   },
   "outputs": [],
   "source": [
    "a, b = sy.symbols('a b')"
   ]
  },
  {
   "cell_type": "code",
   "execution_count": null,
   "metadata": {
    "collapsed": false,
    "uuid": "af7bf980-d65b-4567-8576-404e79c5ac65"
   },
   "outputs": [],
   "source": [
    "print sy.pretty(sy.Integral(sy.sin(x) + 0.5 * x, (x, a, b)))"
   ]
  },
  {
   "cell_type": "code",
   "execution_count": null,
   "metadata": {
    "collapsed": false,
    "uuid": "89d4c980-01d7-423a-a2ab-a9698787019a"
   },
   "outputs": [],
   "source": [
    "int_func = sy.integrate(sy.sin(x) + 0.5 * x, x)"
   ]
  },
  {
   "cell_type": "code",
   "execution_count": null,
   "metadata": {
    "collapsed": false,
    "uuid": "38141163-7d29-4bd6-bfaf-9f9cfad86967"
   },
   "outputs": [],
   "source": [
    "print sy.pretty(int_func)"
   ]
  },
  {
   "cell_type": "code",
   "execution_count": null,
   "metadata": {
    "collapsed": false,
    "uuid": "51d4481a-c6b6-4caa-b4d1-aa6fb04d4493"
   },
   "outputs": [],
   "source": [
    "Fb = int_func.subs(x, 9.5).evalf()\n",
    "Fa = int_func.subs(x, 0.5).evalf()"
   ]
  },
  {
   "cell_type": "code",
   "execution_count": null,
   "metadata": {
    "collapsed": false,
    "uuid": "0c46e097-c665-440e-9d05-03c0d6e6d8d8"
   },
   "outputs": [],
   "source": [
    "Fb - Fa  # exact value of integral"
   ]
  },
  {
   "cell_type": "code",
   "execution_count": null,
   "metadata": {
    "collapsed": false,
    "uuid": "657b13dc-101e-4c0c-9d15-43dbd418c3c8"
   },
   "outputs": [],
   "source": [
    "int_func_limits = sy.integrate(sy.sin(x) + 0.5 * x, (x, a, b))\n",
    "print sy.pretty(int_func_limits)"
   ]
  },
  {
   "cell_type": "code",
   "execution_count": null,
   "metadata": {
    "collapsed": false,
    "uuid": "5c65cea8-1e15-4efa-aba4-52888becaf19"
   },
   "outputs": [],
   "source": [
    "int_func_limits.subs({a : 0.5, b : 9.5}).evalf()"
   ]
  },
  {
   "cell_type": "code",
   "execution_count": null,
   "metadata": {
    "collapsed": false,
    "uuid": "b13767c8-4878-42c1-b738-0727b824b329"
   },
   "outputs": [],
   "source": [
    "sy.integrate(sy.sin(x) + 0.5 * x, (x, 0.5, 9.5))"
   ]
  },
  {
   "cell_type": "markdown",
   "metadata": {},
   "source": [
    "### Differentiation"
   ]
  },
  {
   "cell_type": "code",
   "execution_count": null,
   "metadata": {
    "collapsed": false,
    "uuid": "6ea93bb3-eb7c-4837-8327-621f3752b657"
   },
   "outputs": [],
   "source": [
    "int_func.diff()"
   ]
  },
  {
   "cell_type": "code",
   "execution_count": null,
   "metadata": {
    "collapsed": false,
    "uuid": "164131fd-a197-40ce-85d6-94221e808073"
   },
   "outputs": [],
   "source": [
    "f = (sy.sin(x) + 0.05 * x ** 2\n",
    "   + sy.sin(y) + 0.05 * y ** 2)"
   ]
  },
  {
   "cell_type": "code",
   "execution_count": null,
   "metadata": {
    "collapsed": false,
    "uuid": "5d1ce51b-2536-469b-b516-56db1e86519a"
   },
   "outputs": [],
   "source": [
    "del_x = sy.diff(f, x)\n",
    "del_x"
   ]
  },
  {
   "cell_type": "code",
   "execution_count": null,
   "metadata": {
    "collapsed": false,
    "uuid": "8d778c21-ed6a-43f0-8347-b95af334972a"
   },
   "outputs": [],
   "source": [
    "del_y = sy.diff(f, y)\n",
    "del_y"
   ]
  },
  {
   "cell_type": "code",
   "execution_count": null,
   "metadata": {
    "collapsed": false,
    "uuid": "588daaba-266a-43da-a4b9-baeb56fc1ac8"
   },
   "outputs": [],
   "source": [
    "xo = sy.nsolve(del_x, -1.5)\n",
    "xo"
   ]
  },
  {
   "cell_type": "code",
   "execution_count": null,
   "metadata": {
    "collapsed": false,
    "uuid": "2ef9beca-58f2-470b-a50e-6292bffbf2e0"
   },
   "outputs": [],
   "source": [
    "yo = sy.nsolve(del_y, -1.5)\n",
    "yo"
   ]
  },
  {
   "cell_type": "code",
   "execution_count": null,
   "metadata": {
    "collapsed": false,
    "uuid": "c0812b29-c69f-4a30-aaf1-1447d1434cf4"
   },
   "outputs": [],
   "source": [
    "f.subs({x : xo, y : yo}).evalf() \n",
    "  # global minimum"
   ]
  },
  {
   "cell_type": "code",
   "execution_count": null,
   "metadata": {
    "collapsed": false,
    "uuid": "fd89d904-eab3-4035-941a-785c6a3f36cb"
   },
   "outputs": [],
   "source": [
    "xo = sy.nsolve(del_x, 1.5)\n",
    "xo"
   ]
  },
  {
   "cell_type": "code",
   "execution_count": null,
   "metadata": {
    "collapsed": false,
    "uuid": "cc99d8f4-e062-4c7e-85ae-46e96d3c8f19"
   },
   "outputs": [],
   "source": [
    "yo = sy.nsolve(del_y, 1.5)\n",
    "yo"
   ]
  },
  {
   "cell_type": "code",
   "execution_count": null,
   "metadata": {
    "collapsed": false,
    "uuid": "54622abe-cef1-47ff-bf23-b883cf588a91"
   },
   "outputs": [],
   "source": [
    "f.subs({x : xo, y : yo}).evalf()\n",
    "  # local minimum"
   ]
  }
 ],
 "metadata": {
  "kernelspec": {
   "display_name": "Python 2",
   "language": "python",
   "name": "python2"
  },
  "language_info": {
   "codemirror_mode": {
    "name": "ipython",
    "version": 2
   },
   "file_extension": ".py",
   "mimetype": "text/x-python",
   "name": "python",
   "nbconvert_exporter": "python",
   "pygments_lexer": "ipython2",
   "version": "2.7.11"
  }
 },
 "nbformat": 4,
 "nbformat_minor": 0
}
