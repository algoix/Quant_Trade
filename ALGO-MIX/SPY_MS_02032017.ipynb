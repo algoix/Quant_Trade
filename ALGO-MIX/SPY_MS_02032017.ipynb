{
 "cells": [
  {
   "cell_type": "code",
   "execution_count": 1,
   "metadata": {
    "collapsed": true
   },
   "outputs": [],
   "source": [
    "import numpy as np\n",
    "import pandas as pd\n",
    "import warnings; warnings.simplefilter('ignore')\n",
    "# plotting\n",
    "import matplotlib.pyplot as plt\n",
    "import seaborn as sns; sns.set()\n",
    "%matplotlib inline\n",
    "import matplotlib.pyplot as plt\n",
    "import numpy as np\n",
    "from sklearn import linear_model"
   ]
  },
  {
   "cell_type": "code",
   "execution_count": 2,
   "metadata": {
    "collapsed": true
   },
   "outputs": [],
   "source": [
    "#sqqq and tqqq are taken as IBdata feed not for SPXS \n",
    "path = '/home/octo/Dropbox/IQ_data/'\n",
    "spy=pd.read_csv(path + 'SPY.csv',names = [\"high\", \"low\", \"open\",\"close\",\"total_volume\",\"volume\"],index_col=0, parse_dates=True)\n",
    "sqqq= pd.read_csv(path + 'SQQQ.csv',names = [\"high\", \"low\", \"open\",\"close\",\"total_volume\",\"volume\"],index_col=0, parse_dates=True)\n",
    "tqqq=pd.read_csv(path + 'TQQQ.csv',names = [\"high\", \"low\", \"open\",\"close\",\"total_volume\",\"volume\"],index_col=0, parse_dates=True)\n",
    "spy=spy.tail(140000)\n",
    "sqqq=sqqq.tail(140000)\n",
    "tqqq=tqqq.tail(140000)"
   ]
  },
  {
   "cell_type": "code",
   "execution_count": 3,
   "metadata": {
    "collapsed": true
   },
   "outputs": [],
   "source": [
    "#df for datascience\n",
    "df=pd.DataFrame(data=spy.open)"
   ]
  },
  {
   "cell_type": "code",
   "execution_count": 4,
   "metadata": {
    "collapsed": true
   },
   "outputs": [],
   "source": [
    "#df['time']=df.index.strftime('%H:%M:%S')\n",
    "time=df.index.strftime('%H:%M:%S')"
   ]
  },
  {
   "cell_type": "code",
   "execution_count": 5,
   "metadata": {
    "collapsed": false
   },
   "outputs": [],
   "source": [
    "# difference at '09:30:05' from last day close\n",
    "EO=np.where(time=='09:30:05',df.open-spy.close.shift(1),0)\n",
    "df['EO']=np.where(time=='09:30:05',df.open-spy.close.shift(1),0)     \n",
    "df['EO']=df.EO.replace(to_replace=0, method='ffill')"
   ]
  },
  {
   "cell_type": "code",
   "execution_count": 6,
   "metadata": {
    "collapsed": true
   },
   "outputs": [],
   "source": [
    "H=pd.rolling_max(spy.high,4600)\n",
    "L=pd.rolling_min(spy.low,4600)\n",
    "M=(H+L)/2\n",
    "df['OF']=np.where(time=='09:30:05',df.open,0)\n",
    "df['OF']=df.OF.replace(to_replace=0, method='ffill')\n",
    "df['HF']=np.where(time=='09:30:05',H,0)\n",
    "df['HF']=df.HF.replace(to_replace=0, method='ffill')\n",
    "df['LF']=np.where(time=='09:30:05',L,0)\n",
    "df['LF']=df.LF.replace(to_replace=0, method='ffill')\n",
    "df['MF']=np.where(time=='09:30:05',M,0)\n",
    "df['MF']=df.MF.replace(to_replace=0, method='ffill')\n",
    "df['OD']=df.open-df.OF"
   ]
  },
  {
   "cell_type": "code",
   "execution_count": 7,
   "metadata": {
    "collapsed": false
   },
   "outputs": [],
   "source": [
    "#SEntiment at start\n",
    "\n",
    "df['S']=np.where(df.EO>0.25,1,np.where(df.EO<-0.25,-1,0))\n",
    "\n",
    "#SEntiment now\n",
    "\n",
    "df['Sn']=np.where(df.OD>0,1,np.where(df.OD<0,-1,0))\n",
    "\n",
    "#SEntiment reversed if change is 1/4 \n",
    "\n",
    "df['Srev']=np.where(df.OD/df.EO<-0.25,1,0)\n",
    "\n",
    "#SEntiment stronger if change is 1/4 \n",
    "\n",
    "df['S_strong']=np.where(df.OD/df.EO>0.25,1,0)"
   ]
  },
  {
   "cell_type": "code",
   "execution_count": 8,
   "metadata": {
    "collapsed": true
   },
   "outputs": [],
   "source": [
    "#market state atn start\n",
    "\n",
    "df['MS']=np.where(df.OF>df.HF,4,np.where(df.OF>df.MF,3,np.where(df.OF<df.MF,2,np.where(df.OF<df.LF,1,0))))"
   ]
  },
  {
   "cell_type": "code",
   "execution_count": 9,
   "metadata": {
    "collapsed": true
   },
   "outputs": [],
   "source": [
    "#market state now\n",
    "\n",
    "MSn=np.where(df.open>df.HF,4,np.where(df.open>df.MF,3,np.where(df.open<df.HF,2,np.where(df.open<df.LF,1,0))))\n",
    "MSch=MSn-df['MS']"
   ]
  },
  {
   "cell_type": "code",
   "execution_count": 10,
   "metadata": {
    "collapsed": true
   },
   "outputs": [],
   "source": [
    "df['MSch']=np.where(MSch>0,1,np.where(MSch<0,-1,0))"
   ]
  },
  {
   "cell_type": "markdown",
   "metadata": {},
   "source": [
    "## Market state change will contunue or will reverse ?\n",
    "#### Sentiment reversal causes -ve market change and stronger sentiment causes +ve market change "
   ]
  },
  {
   "cell_type": "code",
   "execution_count": 11,
   "metadata": {
    "collapsed": true
   },
   "outputs": [],
   "source": [
    "df_ms=pd.DataFrame(data=spy.open)\n",
    "df_ms['MSch']=df.MSch\n",
    "df_ms['S_rev']=df.Srev\n",
    "df_ms['S_strong']=df.S_strong"
   ]
  },
  {
   "cell_type": "code",
   "execution_count": 12,
   "metadata": {
    "collapsed": true
   },
   "outputs": [],
   "source": [
    "# reversal, when market up or down\n",
    "NL=pd.rolling_sum(pd.DataFrame(data=spy.open-spy.close.shift(60)),12)\n",
    "NLqtop=pd.rolling_quantile(NL,720,.7)\n",
    "NLqbot=pd.rolling_quantile(NL,720,.3)\n",
    "df['R']=np.where(NL>NLqtop,1,np.where(NL<NLqbot,-1,0)) # only considering 1 and 0"
   ]
  },
  {
   "cell_type": "code",
   "execution_count": 13,
   "metadata": {
    "collapsed": false
   },
   "outputs": [],
   "source": [
    "df['speed']=pd.rolling_sum(pd.DataFrame(data=(spy.open-spy.close.shift(1))),60)\n",
    "speedQtop=pd.rolling_quantile(df.speed,1000,.7)\n",
    "speedQbot=pd.rolling_quantile(df.speed,1000,.3)\n",
    "df['speedB']=np.where(df.speed>speedQtop,1,np.where(df.speed<speedQbot,-1,0))"
   ]
  },
  {
   "cell_type": "code",
   "execution_count": 14,
   "metadata": {
    "collapsed": true
   },
   "outputs": [],
   "source": [
    "P=(spy.high+spy.low+spy.close)/3\n",
    "vwap=pd.rolling_sum(spy.volume*P,12)/pd.rolling_sum(spy.volume,12)\n",
    "df['spread']=pd.rolling_sum(pd.DataFrame(data=(spy.open-vwap)),60)\n",
    "spreadqtop=pd.rolling_quantile(df.spread,1000,.7)\n",
    "spreadqbot=pd.rolling_quantile(df.spread,1000,.3)\n",
    "df['spreadB']=np.where(df.spread>spreadqtop,1,np.where(df.spread<spreadqbot,-1,0))"
   ]
  },
  {
   "cell_type": "code",
   "execution_count": 15,
   "metadata": {
    "collapsed": true
   },
   "outputs": [],
   "source": [
    "df_ms=pd.DataFrame(data=spy.open)\n",
    "df_ms['MSch']=df.MSch\n",
    "df_ms['S_rev']=df.Srev\n",
    "df_ms['S_strong']=df.S_strong\n",
    "df_ms['R']=df.R\n",
    "df_ms['speedB']=df.speedB\n",
    "df_ms['spreadB']=df.spreadB"
   ]
  },
  {
   "cell_type": "code",
   "execution_count": 16,
   "metadata": {
    "collapsed": true
   },
   "outputs": [],
   "source": [
    "p60=pd.DataFrame(data=spy.close.shift(60))\n",
    "df=df.tail(130000)\n",
    "df_ms=df_ms.tail(130000)"
   ]
  },
  {
   "cell_type": "code",
   "execution_count": 17,
   "metadata": {
    "collapsed": true
   },
   "outputs": [],
   "source": [
    "# Create linear regression object\n",
    "regr = linear_model.LinearRegression()\n",
    "# Train the model using the training sets\n",
    "regr.fit(pd.DataFrame(spy.open.tail(130000)),pd.DataFrame(p60.tail(130000)))\n",
    "df['pr']=regr.predict(pd.DataFrame(p60.tail(130000)))"
   ]
  },
  {
   "cell_type": "code",
   "execution_count": 18,
   "metadata": {
    "collapsed": true
   },
   "outputs": [],
   "source": [
    "err=df.open-df.pr\n",
    "errQtop=pd.rolling_quantile(err,1000,.8)\n",
    "errQbot=pd.rolling_quantile(err,1000,.2)\n",
    "df['err']=np.where(err>errQtop,1,np.where(err<errQbot,-1,0))"
   ]
  },
  {
   "cell_type": "code",
   "execution_count": 19,
   "metadata": {
    "collapsed": true
   },
   "outputs": [],
   "source": [
    "df=df.dropna()"
   ]
  },
  {
   "cell_type": "code",
   "execution_count": 20,
   "metadata": {
    "collapsed": true
   },
   "outputs": [],
   "source": [
    "df_ms['e']=df['err']"
   ]
  },
  {
   "cell_type": "code",
   "execution_count": 21,
   "metadata": {
    "collapsed": false
   },
   "outputs": [],
   "source": [
    "df_ml=df_ms"
   ]
  },
  {
   "cell_type": "markdown",
   "metadata": {},
   "source": [
    "# Machine Learning"
   ]
  },
  {
   "cell_type": "code",
   "execution_count": 22,
   "metadata": {
    "collapsed": true
   },
   "outputs": [],
   "source": [
    "# reduce dataset based Market state change\n",
    "df_ml=df_ml[df_ml.MSch!=0] # all decision when volume above 30% or vol==1\n",
    "df_ml=df_ml.dropna()"
   ]
  },
  {
   "cell_type": "code",
   "execution_count": 23,
   "metadata": {
    "collapsed": false
   },
   "outputs": [
    {
     "data": {
      "text/plain": [
       "63589"
      ]
     },
     "execution_count": 23,
     "metadata": {},
     "output_type": "execute_result"
    }
   ],
   "source": [
    "len(df_ml)"
   ]
  },
  {
   "cell_type": "code",
   "execution_count": 24,
   "metadata": {
    "collapsed": false
   },
   "outputs": [
    {
     "data": {
      "text/plain": [
       "130000"
      ]
     },
     "execution_count": 24,
     "metadata": {},
     "output_type": "execute_result"
    }
   ],
   "source": [
    "len(df)"
   ]
  },
  {
   "cell_type": "code",
   "execution_count": 25,
   "metadata": {
    "collapsed": false
   },
   "outputs": [
    {
     "data": {
      "image/png": "[encoded data removed]",
      "text/plain": [
       "<matplotlib.figure.Figure at 0x7f1e1705d890>"
      ]
     },
     "metadata": {},
     "output_type": "display_data"
    }
   ],
   "source": [
    "pd.DataFrame.hist(df_ml, figsize = [10,10]);"
   ]
  },
  {
   "cell_type": "code",
   "execution_count": 27,
   "metadata": {
    "collapsed": false
   },
   "outputs": [],
   "source": [
    "#X=pd.DataFrame(df_svm[['volume_u','volume_d','ret_p','ret_n','Volatility','momentum','RSI']])\n",
    "X=pd.DataFrame(df_ml[['speedB','spreadB','e','S_strong','R','S_rev']])\n",
    "y=pd.DataFrame(df_ml[['MSch']])"
   ]
  },
  {
   "cell_type": "code",
   "execution_count": 28,
   "metadata": {
    "collapsed": true
   },
   "outputs": [],
   "source": [
    "from sklearn.cross_validation import train_test_split\n",
    "X_train, X_test, y_train, y_test = train_test_split(X, y, test_size=0.2, random_state=42)"
   ]
  },
  {
   "cell_type": "markdown",
   "metadata": {},
   "source": [
    "### SVM"
   ]
  },
  {
   "cell_type": "code",
   "execution_count": 29,
   "metadata": {
    "collapsed": false
   },
   "outputs": [
    {
     "name": "stderr",
     "output_type": "stream",
     "text": [
      "/home/octo/anaconda2/envs/PyAlgo/lib/python2.7/site-packages/sklearn/svm/base.py:514: DataConversionWarning: A column-vector y was passed when a 1d array was expected. Please change the shape of y to (n_samples, ), for example using ravel().\n",
      "  y_ = column_or_1d(y, warn=True)\n"
     ]
    },
    {
     "name": "stdout",
     "output_type": "stream",
     "text": [
      "SVC accuracy for test set: 0.780862\n"
     ]
    }
   ],
   "source": [
    "from sklearn import svm\n",
    "from sklearn.svm import SVC\n",
    "svm = SVC(kernel='linear')\n",
    "svm_model = svm.fit(X_train, y_train)\n",
    "print('SVC accuracy for test set: %f' % svm_model.score(X_test, y_test))"
   ]
  },
  {
   "cell_type": "code",
   "execution_count": 30,
   "metadata": {
    "collapsed": false
   },
   "outputs": [
    {
     "name": "stdout",
     "output_type": "stream",
     "text": [
      "             precision    recall  f1-score   support\n",
      "\n",
      "         -1       0.50      0.42      0.46      2775\n",
      "          1       0.85      0.88      0.86      9943\n",
      "\n",
      "avg / total       0.77      0.78      0.77     12718\n",
      "\n"
     ]
    }
   ],
   "source": [
    "from sklearn.metrics import classification_report\n",
    "y_true, y_pred = y_test,svm_model.predict(X_test)\n",
    "print(classification_report(y_true, y_pred))"
   ]
  },
  {
   "cell_type": "code",
   "execution_count": 32,
   "metadata": {
    "collapsed": false
   },
   "outputs": [
    {
     "data": {
      "text/plain": [
       "array([1, 1, 1, 1, 1, 1, 1, 1, 1, 1])"
      ]
     },
     "execution_count": 32,
     "metadata": {},
     "output_type": "execute_result"
    }
   ],
   "source": [
    "X1=pd.DataFrame(df_ml[['speedB','spreadB','e','S_strong','R','S_rev']]).tail(10)\n",
    "svm_model.predict(X1)"
   ]
  },
  {
   "cell_type": "code",
   "execution_count": 33,
   "metadata": {
    "collapsed": false
   },
   "outputs": [
    {
     "data": {
      "text/plain": [
       "2017-03-01 15:59:15    1\n",
       "2017-03-01 15:59:20    1\n",
       "2017-03-01 15:59:25    1\n",
       "2017-03-01 15:59:30    1\n",
       "2017-03-01 15:59:35    1\n",
       "2017-03-01 15:59:40    1\n",
       "2017-03-01 15:59:45    1\n",
       "2017-03-01 15:59:50    1\n",
       "2017-03-01 15:59:55    1\n",
       "2017-03-01 16:00:00    1\n",
       "Name: MSch, dtype: int64"
      ]
     },
     "execution_count": 33,
     "metadata": {},
     "output_type": "execute_result"
    }
   ],
   "source": [
    "df_ml.MSch.tail(10)"
   ]
  },
  {
   "cell_type": "markdown",
   "metadata": {},
   "source": [
    "### Logistics"
   ]
  },
  {
   "cell_type": "code",
   "execution_count": 34,
   "metadata": {
    "collapsed": false
   },
   "outputs": [
    {
     "name": "stdout",
     "output_type": "stream",
     "text": [
      "Logistic Regression accuracy for test set: 0.780862\n"
     ]
    },
    {
     "name": "stderr",
     "output_type": "stream",
     "text": [
      "/home/octo/anaconda2/envs/PyAlgo/lib/python2.7/site-packages/sklearn/utils/validation.py:515: DataConversionWarning: A column-vector y was passed when a 1d array was expected. Please change the shape of y to (n_samples, ), for example using ravel().\n",
      "  y = column_or_1d(y, warn=True)\n"
     ]
    }
   ],
   "source": [
    "from sklearn import linear_model\n",
    "lm = linear_model.LogisticRegression(C=1e4)\n",
    "lm_model= lm.fit(X_train, y_train)\n",
    "print('Logistic Regression accuracy for test set: %f' % lm_model.score(X_test, y_test))"
   ]
  },
  {
   "cell_type": "code",
   "execution_count": 35,
   "metadata": {
    "collapsed": false
   },
   "outputs": [
    {
     "name": "stdout",
     "output_type": "stream",
     "text": [
      "             precision    recall  f1-score   support\n",
      "\n",
      "         -1       0.50      0.40      0.45      2775\n",
      "          1       0.84      0.89      0.86      9943\n",
      "\n",
      "avg / total       0.77      0.78      0.77     12718\n",
      "\n"
     ]
    }
   ],
   "source": [
    "from sklearn.metrics import classification_report\n",
    "y_true, y_pred = y_test,lm_model.predict(X_test)\n",
    "print(classification_report(y_true, y_pred))"
   ]
  },
  {
   "cell_type": "code",
   "execution_count": 36,
   "metadata": {
    "collapsed": false
   },
   "outputs": [
    {
     "data": {
      "text/plain": [
       "array([1, 1, 1, 1, 1, 1, 1, 1, 1, 1])"
      ]
     },
     "execution_count": 36,
     "metadata": {},
     "output_type": "execute_result"
    }
   ],
   "source": [
    "lm_model.predict(X1)"
   ]
  },
  {
   "cell_type": "markdown",
   "metadata": {},
   "source": [
    "### KNN"
   ]
  },
  {
   "cell_type": "code",
   "execution_count": 37,
   "metadata": {
    "collapsed": false
   },
   "outputs": [
    {
     "name": "stderr",
     "output_type": "stream",
     "text": [
      "/home/octo/anaconda2/envs/PyAlgo/lib/python2.7/site-packages/ipykernel/__main__.py:3: DataConversionWarning: A column-vector y was passed when a 1d array was expected. Please change the shape of y to (n_samples, ), for example using ravel().\n",
      "  app.launch_new_instance()\n"
     ]
    },
    {
     "name": "stdout",
     "output_type": "stream",
     "text": [
      "k-NN accuracy for test set: 0.773549\n"
     ]
    }
   ],
   "source": [
    "from sklearn import neighbors, linear_model\n",
    "knn = neighbors.KNeighborsClassifier(n_neighbors = 5)\n",
    "knn_model = knn.fit(X_train, y_train)\n",
    "print('k-NN accuracy for test set: %f' % knn_model.score(X_test, y_test))"
   ]
  },
  {
   "cell_type": "code",
   "execution_count": 38,
   "metadata": {
    "collapsed": false
   },
   "outputs": [
    {
     "name": "stdout",
     "output_type": "stream",
     "text": [
      "             precision    recall  f1-score   support\n",
      "\n",
      "         -1       0.49      0.67      0.56      2775\n",
      "          1       0.90      0.80      0.85      9943\n",
      "\n",
      "avg / total       0.81      0.77      0.79     12718\n",
      "\n"
     ]
    }
   ],
   "source": [
    "from sklearn.metrics import classification_report\n",
    "y_true, y_pred = y_test, knn_model.predict(X_test)\n",
    "print(classification_report(y_true, y_pred))"
   ]
  },
  {
   "cell_type": "code",
   "execution_count": 39,
   "metadata": {
    "collapsed": false
   },
   "outputs": [
    {
     "data": {
      "text/plain": [
       "array([1, 1, 1, 1, 1, 1, 1, 1, 1, 1])"
      ]
     },
     "execution_count": 39,
     "metadata": {},
     "output_type": "execute_result"
    }
   ],
   "source": [
    "knn_model.predict(X1)"
   ]
  },
  {
   "cell_type": "markdown",
   "metadata": {},
   "source": [
    "### Decision Tree"
   ]
  },
  {
   "cell_type": "code",
   "execution_count": 40,
   "metadata": {
    "collapsed": true
   },
   "outputs": [],
   "source": [
    "from sklearn import metrics\n",
    "from sklearn.tree import DecisionTreeClassifier"
   ]
  },
  {
   "cell_type": "code",
   "execution_count": 41,
   "metadata": {
    "collapsed": false
   },
   "outputs": [
    {
     "name": "stdout",
     "output_type": "stream",
     "text": [
      "Decison Tree accuracy for test set: 0.788410\n"
     ]
    }
   ],
   "source": [
    "dt = DecisionTreeClassifier()\n",
    "dt_model=dt.fit(X_train, y_train)\n",
    "print('Decison Tree accuracy for test set: %f' % dt_model.score(X_test, y_test))"
   ]
  },
  {
   "cell_type": "code",
   "execution_count": 42,
   "metadata": {
    "collapsed": false
   },
   "outputs": [
    {
     "name": "stdout",
     "output_type": "stream",
     "text": [
      "             precision    recall  f1-score   support\n",
      "\n",
      "         -1       0.52      0.47      0.49      2775\n",
      "          1       0.86      0.88      0.87      9943\n",
      "\n",
      "avg / total       0.78      0.79      0.78     12718\n",
      "\n"
     ]
    }
   ],
   "source": [
    "from sklearn.metrics import classification_report\n",
    "y_true, y_pred = y_test, dt_model.predict(X_test)\n",
    "print(classification_report(y_true, y_pred))"
   ]
  },
  {
   "cell_type": "code",
   "execution_count": 43,
   "metadata": {
    "collapsed": false
   },
   "outputs": [
    {
     "data": {
      "text/plain": [
       "array([1, 1, 1, 1, 1, 1, 1, 1, 1, 1])"
      ]
     },
     "execution_count": 43,
     "metadata": {},
     "output_type": "execute_result"
    }
   ],
   "source": [
    "dt_model.predict(X1)"
   ]
  },
  {
   "cell_type": "markdown",
   "metadata": {},
   "source": [
    "### Naive Bayes"
   ]
  },
  {
   "cell_type": "code",
   "execution_count": 44,
   "metadata": {
    "collapsed": false
   },
   "outputs": [
    {
     "name": "stdout",
     "output_type": "stream",
     "text": [
      "Decison Tree accuracy for test set: 0.755307\n"
     ]
    },
    {
     "name": "stderr",
     "output_type": "stream",
     "text": [
      "/home/octo/anaconda2/envs/PyAlgo/lib/python2.7/site-packages/sklearn/utils/validation.py:515: DataConversionWarning: A column-vector y was passed when a 1d array was expected. Please change the shape of y to (n_samples, ), for example using ravel().\n",
      "  y = column_or_1d(y, warn=True)\n"
     ]
    }
   ],
   "source": [
    "from sklearn.naive_bayes import GaussianNB\n",
    "gnb = GaussianNB()\n",
    "gnb_model=gnb.fit(X_train, y_train)\n",
    "print('Decison Tree accuracy for test set: %f' % gnb_model.score(X_test, y_test))"
   ]
  },
  {
   "cell_type": "code",
   "execution_count": 45,
   "metadata": {
    "collapsed": false
   },
   "outputs": [
    {
     "name": "stdout",
     "output_type": "stream",
     "text": [
      "             precision    recall  f1-score   support\n",
      "\n",
      "         -1       0.47      0.99      0.64      2775\n",
      "          1       1.00      0.69      0.82      9943\n",
      "\n",
      "avg / total       0.88      0.76      0.78     12718\n",
      "\n"
     ]
    }
   ],
   "source": [
    "from sklearn.metrics import classification_report\n",
    "y_true, y_pred = y_test, gnb_model.predict(X_test)\n",
    "print(classification_report(y_true, y_pred))"
   ]
  },
  {
   "cell_type": "code",
   "execution_count": 46,
   "metadata": {
    "collapsed": false
   },
   "outputs": [
    {
     "data": {
      "text/plain": [
       "array([1, 1, 1, 1, 1, 1, 1, 1, 1, 1])"
      ]
     },
     "execution_count": 46,
     "metadata": {},
     "output_type": "execute_result"
    }
   ],
   "source": [
    "gnb_model.predict(X1)"
   ]
  },
  {
   "cell_type": "code",
   "execution_count": 49,
   "metadata": {
    "collapsed": true
   },
   "outputs": [],
   "source": [
    "df_ml1=df_ml"
   ]
  },
  {
   "cell_type": "code",
   "execution_count": 53,
   "metadata": {
    "collapsed": true
   },
   "outputs": [],
   "source": [
    "df_ml1['MSch1']=df_ml1.MSch.shift(1)\n",
    "df_ml1=df_ml1.dropna()"
   ]
  },
  {
   "cell_type": "code",
   "execution_count": 55,
   "metadata": {
    "collapsed": true
   },
   "outputs": [],
   "source": [
    "df_ml1['MSchg']=df_ml1.MSch-df_ml1.MSch1"
   ]
  },
  {
   "cell_type": "code",
   "execution_count": 56,
   "metadata": {
    "collapsed": false
   },
   "outputs": [
    {
     "data": {
      "text/html": [
       "<div>\n",
       "<table border=\"1\" class=\"dataframe\">\n",
       "  <thead>\n",
       "    <tr style=\"text-align: right;\">\n",
       "      <th></th>\n",
       "      <th>open</th>\n",
       "      <th>MSch</th>\n",
       "      <th>S_rev</th>\n",
       "      <th>S_strong</th>\n",
       "      <th>R</th>\n",
       "      <th>speedB</th>\n",
       "      <th>spreadB</th>\n",
       "      <th>e</th>\n",
       "      <th>MSch1</th>\n",
       "      <th>MSchg</th>\n",
       "    </tr>\n",
       "  </thead>\n",
       "  <tbody>\n",
       "    <tr>\n",
       "      <th>2017-01-19 10:58:05</th>\n",
       "      <td>226.390</td>\n",
       "      <td>-1</td>\n",
       "      <td>1</td>\n",
       "      <td>0</td>\n",
       "      <td>-1</td>\n",
       "      <td>-1</td>\n",
       "      <td>-1</td>\n",
       "      <td>0</td>\n",
       "      <td>-1</td>\n",
       "      <td>0</td>\n",
       "    </tr>\n",
       "    <tr>\n",
       "      <th>2017-01-19 10:58:15</th>\n",
       "      <td>226.390</td>\n",
       "      <td>-1</td>\n",
       "      <td>1</td>\n",
       "      <td>0</td>\n",
       "      <td>-1</td>\n",
       "      <td>-1</td>\n",
       "      <td>-1</td>\n",
       "      <td>0</td>\n",
       "      <td>-1</td>\n",
       "      <td>0</td>\n",
       "    </tr>\n",
       "    <tr>\n",
       "      <th>2017-01-19 10:58:20</th>\n",
       "      <td>226.400</td>\n",
       "      <td>-1</td>\n",
       "      <td>1</td>\n",
       "      <td>0</td>\n",
       "      <td>-1</td>\n",
       "      <td>-1</td>\n",
       "      <td>-1</td>\n",
       "      <td>0</td>\n",
       "      <td>-1</td>\n",
       "      <td>0</td>\n",
       "    </tr>\n",
       "    <tr>\n",
       "      <th>2017-01-19 10:58:30</th>\n",
       "      <td>226.405</td>\n",
       "      <td>-1</td>\n",
       "      <td>1</td>\n",
       "      <td>0</td>\n",
       "      <td>-1</td>\n",
       "      <td>-1</td>\n",
       "      <td>-1</td>\n",
       "      <td>0</td>\n",
       "      <td>-1</td>\n",
       "      <td>0</td>\n",
       "    </tr>\n",
       "    <tr>\n",
       "      <th>2017-01-19 10:58:35</th>\n",
       "      <td>226.410</td>\n",
       "      <td>-1</td>\n",
       "      <td>1</td>\n",
       "      <td>0</td>\n",
       "      <td>-1</td>\n",
       "      <td>0</td>\n",
       "      <td>-1</td>\n",
       "      <td>0</td>\n",
       "      <td>-1</td>\n",
       "      <td>0</td>\n",
       "    </tr>\n",
       "  </tbody>\n",
       "</table>\n",
       "</div>"
      ],
      "text/plain": [
       "                        open  MSch  S_rev  S_strong  R  speedB  spreadB  e  \\\n",
       "2017-01-19 10:58:05  226.390    -1      1         0 -1      -1       -1  0   \n",
       "2017-01-19 10:58:15  226.390    -1      1         0 -1      -1       -1  0   \n",
       "2017-01-19 10:58:20  226.400    -1      1         0 -1      -1       -1  0   \n",
       "2017-01-19 10:58:30  226.405    -1      1         0 -1      -1       -1  0   \n",
       "2017-01-19 10:58:35  226.410    -1      1         0 -1       0       -1  0   \n",
       "\n",
       "                     MSch1  MSchg  \n",
       "2017-01-19 10:58:05     -1      0  \n",
       "2017-01-19 10:58:15     -1      0  \n",
       "2017-01-19 10:58:20     -1      0  \n",
       "2017-01-19 10:58:30     -1      0  \n",
       "2017-01-19 10:58:35     -1      0  "
      ]
     },
     "execution_count": 56,
     "metadata": {},
     "output_type": "execute_result"
    }
   ],
   "source": [
    "df_ml1.head()"
   ]
  },
  {
   "cell_type": "code",
   "execution_count": 58,
   "metadata": {
    "collapsed": false
   },
   "outputs": [],
   "source": [
    "# reduce dataset based Market state change\n",
    "df_ml1=df_ml1[df_ml1.MSchg!=0] # all decision when volume above 30% or vol==1\n",
    "df_ml1=df_ml1.dropna()"
   ]
  },
  {
   "cell_type": "code",
   "execution_count": 59,
   "metadata": {
    "collapsed": false
   },
   "outputs": [
    {
     "data": {
      "text/plain": [
       "17"
      ]
     },
     "execution_count": 59,
     "metadata": {},
     "output_type": "execute_result"
    }
   ],
   "source": [
    "len(df_ml1)"
   ]
  },
  {
   "cell_type": "code",
   "execution_count": 60,
   "metadata": {
    "collapsed": false
   },
   "outputs": [
    {
     "data": {
      "image/png": "[encoded data removed]",
      "text/plain": [
       "<matplotlib.figure.Figure at 0x7f1e5feca790>"
      ]
     },
     "metadata": {},
     "output_type": "display_data"
    }
   ],
   "source": [
    "pd.DataFrame.hist(df_ml1, figsize = [10,10]);"
   ]
  },
  {
   "cell_type": "code",
   "execution_count": 61,
   "metadata": {
    "collapsed": false
   },
   "outputs": [
    {
     "data": {
      "text/html": [
       "<div>\n",
       "<table border=\"1\" class=\"dataframe\">\n",
       "  <thead>\n",
       "    <tr style=\"text-align: right;\">\n",
       "      <th></th>\n",
       "      <th>open</th>\n",
       "      <th>MSch</th>\n",
       "      <th>S_rev</th>\n",
       "      <th>S_strong</th>\n",
       "      <th>R</th>\n",
       "      <th>speedB</th>\n",
       "      <th>spreadB</th>\n",
       "      <th>e</th>\n",
       "      <th>MSch1</th>\n",
       "      <th>MSchg</th>\n",
       "    </tr>\n",
       "  </thead>\n",
       "  <tbody>\n",
       "    <tr>\n",
       "      <th>2017-01-20 09:35:10</th>\n",
       "      <td>227.0500</td>\n",
       "      <td>1</td>\n",
       "      <td>0</td>\n",
       "      <td>1</td>\n",
       "      <td>1</td>\n",
       "      <td>1</td>\n",
       "      <td>1</td>\n",
       "      <td>1</td>\n",
       "      <td>-1</td>\n",
       "      <td>2</td>\n",
       "    </tr>\n",
       "    <tr>\n",
       "      <th>2017-01-20 12:31:40</th>\n",
       "      <td>226.1800</td>\n",
       "      <td>-1</td>\n",
       "      <td>1</td>\n",
       "      <td>0</td>\n",
       "      <td>-1</td>\n",
       "      <td>0</td>\n",
       "      <td>-1</td>\n",
       "      <td>-1</td>\n",
       "      <td>1</td>\n",
       "      <td>-2</td>\n",
       "    </tr>\n",
       "    <tr>\n",
       "      <th>2017-01-23 09:36:10</th>\n",
       "      <td>226.6300</td>\n",
       "      <td>1</td>\n",
       "      <td>1</td>\n",
       "      <td>0</td>\n",
       "      <td>1</td>\n",
       "      <td>1</td>\n",
       "      <td>1</td>\n",
       "      <td>1</td>\n",
       "      <td>-1</td>\n",
       "      <td>2</td>\n",
       "    </tr>\n",
       "    <tr>\n",
       "      <th>2017-01-27 09:31:55</th>\n",
       "      <td>229.3600</td>\n",
       "      <td>-1</td>\n",
       "      <td>1</td>\n",
       "      <td>0</td>\n",
       "      <td>1</td>\n",
       "      <td>1</td>\n",
       "      <td>1</td>\n",
       "      <td>1</td>\n",
       "      <td>1</td>\n",
       "      <td>-2</td>\n",
       "    </tr>\n",
       "    <tr>\n",
       "      <th>2017-02-01 09:30:20</th>\n",
       "      <td>228.3700</td>\n",
       "      <td>1</td>\n",
       "      <td>0</td>\n",
       "      <td>0</td>\n",
       "      <td>1</td>\n",
       "      <td>1</td>\n",
       "      <td>1</td>\n",
       "      <td>1</td>\n",
       "      <td>-1</td>\n",
       "      <td>2</td>\n",
       "    </tr>\n",
       "    <tr>\n",
       "      <th>2017-02-01 10:59:15</th>\n",
       "      <td>227.3100</td>\n",
       "      <td>-1</td>\n",
       "      <td>1</td>\n",
       "      <td>0</td>\n",
       "      <td>0</td>\n",
       "      <td>0</td>\n",
       "      <td>0</td>\n",
       "      <td>0</td>\n",
       "      <td>1</td>\n",
       "      <td>-2</td>\n",
       "    </tr>\n",
       "    <tr>\n",
       "      <th>2017-02-02 10:56:05</th>\n",
       "      <td>227.7800</td>\n",
       "      <td>1</td>\n",
       "      <td>1</td>\n",
       "      <td>0</td>\n",
       "      <td>0</td>\n",
       "      <td>1</td>\n",
       "      <td>0</td>\n",
       "      <td>1</td>\n",
       "      <td>-1</td>\n",
       "      <td>2</td>\n",
       "    </tr>\n",
       "    <tr>\n",
       "      <th>2017-02-06 13:17:50</th>\n",
       "      <td>228.6150</td>\n",
       "      <td>-1</td>\n",
       "      <td>0</td>\n",
       "      <td>1</td>\n",
       "      <td>-1</td>\n",
       "      <td>-1</td>\n",
       "      <td>-1</td>\n",
       "      <td>-1</td>\n",
       "      <td>1</td>\n",
       "      <td>-2</td>\n",
       "    </tr>\n",
       "    <tr>\n",
       "      <th>2017-02-07 09:45:35</th>\n",
       "      <td>229.5700</td>\n",
       "      <td>1</td>\n",
       "      <td>0</td>\n",
       "      <td>1</td>\n",
       "      <td>0</td>\n",
       "      <td>1</td>\n",
       "      <td>1</td>\n",
       "      <td>1</td>\n",
       "      <td>-1</td>\n",
       "      <td>2</td>\n",
       "    </tr>\n",
       "    <tr>\n",
       "      <th>2017-02-07 12:22:50</th>\n",
       "      <td>229.0400</td>\n",
       "      <td>-1</td>\n",
       "      <td>1</td>\n",
       "      <td>0</td>\n",
       "      <td>-1</td>\n",
       "      <td>-1</td>\n",
       "      <td>-1</td>\n",
       "      <td>-1</td>\n",
       "      <td>1</td>\n",
       "      <td>-2</td>\n",
       "    </tr>\n",
       "    <tr>\n",
       "      <th>2017-02-08 11:03:10</th>\n",
       "      <td>229.1600</td>\n",
       "      <td>1</td>\n",
       "      <td>1</td>\n",
       "      <td>0</td>\n",
       "      <td>1</td>\n",
       "      <td>1</td>\n",
       "      <td>1</td>\n",
       "      <td>1</td>\n",
       "      <td>-1</td>\n",
       "      <td>2</td>\n",
       "    </tr>\n",
       "    <tr>\n",
       "      <th>2017-02-14 10:36:45</th>\n",
       "      <td>232.2450</td>\n",
       "      <td>-1</td>\n",
       "      <td>0</td>\n",
       "      <td>1</td>\n",
       "      <td>-1</td>\n",
       "      <td>0</td>\n",
       "      <td>-1</td>\n",
       "      <td>-1</td>\n",
       "      <td>1</td>\n",
       "      <td>-2</td>\n",
       "    </tr>\n",
       "    <tr>\n",
       "      <th>2017-02-14 12:51:25</th>\n",
       "      <td>233.1000</td>\n",
       "      <td>1</td>\n",
       "      <td>1</td>\n",
       "      <td>0</td>\n",
       "      <td>0</td>\n",
       "      <td>-1</td>\n",
       "      <td>0</td>\n",
       "      <td>1</td>\n",
       "      <td>-1</td>\n",
       "      <td>2</td>\n",
       "    </tr>\n",
       "    <tr>\n",
       "      <th>2017-02-16 10:52:10</th>\n",
       "      <td>234.2600</td>\n",
       "      <td>-1</td>\n",
       "      <td>1</td>\n",
       "      <td>0</td>\n",
       "      <td>-1</td>\n",
       "      <td>-1</td>\n",
       "      <td>-1</td>\n",
       "      <td>-1</td>\n",
       "      <td>1</td>\n",
       "      <td>-2</td>\n",
       "    </tr>\n",
       "    <tr>\n",
       "      <th>2017-02-17 14:17:35</th>\n",
       "      <td>234.5292</td>\n",
       "      <td>1</td>\n",
       "      <td>1</td>\n",
       "      <td>0</td>\n",
       "      <td>1</td>\n",
       "      <td>0</td>\n",
       "      <td>1</td>\n",
       "      <td>1</td>\n",
       "      <td>-1</td>\n",
       "      <td>2</td>\n",
       "    </tr>\n",
       "    <tr>\n",
       "      <th>2017-02-23 10:10:45</th>\n",
       "      <td>236.3550</td>\n",
       "      <td>-1</td>\n",
       "      <td>1</td>\n",
       "      <td>0</td>\n",
       "      <td>-1</td>\n",
       "      <td>-1</td>\n",
       "      <td>-1</td>\n",
       "      <td>-1</td>\n",
       "      <td>1</td>\n",
       "      <td>-2</td>\n",
       "    </tr>\n",
       "    <tr>\n",
       "      <th>2017-02-24 11:12:25</th>\n",
       "      <td>236.1700</td>\n",
       "      <td>1</td>\n",
       "      <td>1</td>\n",
       "      <td>0</td>\n",
       "      <td>0</td>\n",
       "      <td>1</td>\n",
       "      <td>1</td>\n",
       "      <td>0</td>\n",
       "      <td>-1</td>\n",
       "      <td>2</td>\n",
       "    </tr>\n",
       "  </tbody>\n",
       "</table>\n",
       "</div>"
      ],
      "text/plain": [
       "                         open  MSch  S_rev  S_strong  R  speedB  spreadB  e  \\\n",
       "2017-01-20 09:35:10  227.0500     1      0         1  1       1        1  1   \n",
       "2017-01-20 12:31:40  226.1800    -1      1         0 -1       0       -1 -1   \n",
       "2017-01-23 09:36:10  226.6300     1      1         0  1       1        1  1   \n",
       "2017-01-27 09:31:55  229.3600    -1      1         0  1       1        1  1   \n",
       "2017-02-01 09:30:20  228.3700     1      0         0  1       1        1  1   \n",
       "2017-02-01 10:59:15  227.3100    -1      1         0  0       0        0  0   \n",
       "2017-02-02 10:56:05  227.7800     1      1         0  0       1        0  1   \n",
       "2017-02-06 13:17:50  228.6150    -1      0         1 -1      -1       -1 -1   \n",
       "2017-02-07 09:45:35  229.5700     1      0         1  0       1        1  1   \n",
       "2017-02-07 12:22:50  229.0400    -1      1         0 -1      -1       -1 -1   \n",
       "2017-02-08 11:03:10  229.1600     1      1         0  1       1        1  1   \n",
       "2017-02-14 10:36:45  232.2450    -1      0         1 -1       0       -1 -1   \n",
       "2017-02-14 12:51:25  233.1000     1      1         0  0      -1        0  1   \n",
       "2017-02-16 10:52:10  234.2600    -1      1         0 -1      -1       -1 -1   \n",
       "2017-02-17 14:17:35  234.5292     1      1         0  1       0        1  1   \n",
       "2017-02-23 10:10:45  236.3550    -1      1         0 -1      -1       -1 -1   \n",
       "2017-02-24 11:12:25  236.1700     1      1         0  0       1        1  0   \n",
       "\n",
       "                     MSch1  MSchg  \n",
       "2017-01-20 09:35:10     -1      2  \n",
       "2017-01-20 12:31:40      1     -2  \n",
       "2017-01-23 09:36:10     -1      2  \n",
       "2017-01-27 09:31:55      1     -2  \n",
       "2017-02-01 09:30:20     -1      2  \n",
       "2017-02-01 10:59:15      1     -2  \n",
       "2017-02-02 10:56:05     -1      2  \n",
       "2017-02-06 13:17:50      1     -2  \n",
       "2017-02-07 09:45:35     -1      2  \n",
       "2017-02-07 12:22:50      1     -2  \n",
       "2017-02-08 11:03:10     -1      2  \n",
       "2017-02-14 10:36:45      1     -2  \n",
       "2017-02-14 12:51:25     -1      2  \n",
       "2017-02-16 10:52:10      1     -2  \n",
       "2017-02-17 14:17:35     -1      2  \n",
       "2017-02-23 10:10:45      1     -2  \n",
       "2017-02-24 11:12:25     -1      2  "
      ]
     },
     "execution_count": 61,
     "metadata": {},
     "output_type": "execute_result"
    }
   ],
   "source": [
    "df_ml1"
   ]
  },
  {
   "cell_type": "markdown",
   "metadata": {},
   "source": [
    "## Conclusion \n",
    "###### (1) Sentiment reverses by 25% (present price changes from opening price at 9:00:05 by 25% )of GAP[ open price-last closing price]\n",
    "###### (2) Reversal [ price diference between 5 min adding to 1 min] if goes beyond limit . If positive then positive change, negative for negative change.\n",
    "###### (3) High speed for positive change and low speed for negative change \n",
    "###### (4) Diference of open price and VWAP. If positive then positive change, negative for negative change. \n",
    "###### (5) Diference of open price and regressive predicted value. If positive then positive change, negative for negative change.\n",
    "\n",
    "## if 3 out of 5 signals confirm then state change is expected "
   ]
  },
  {
   "cell_type": "code",
   "execution_count": null,
   "metadata": {
    "collapsed": true
   },
   "outputs": [],
   "source": []
  }
 ],
 "metadata": {
  "kernelspec": {
   "display_name": "Python 2",
   "language": "python",
   "name": "python2"
  },
  "language_info": {
   "codemirror_mode": {
    "name": "ipython",
    "version": 2
   },
   "file_extension": ".py",
   "mimetype": "text/x-python",
   "name": "python",
   "nbconvert_exporter": "python",
   "pygments_lexer": "ipython2",
   "version": "2.7.11"
  }
 },
 "nbformat": 4,
 "nbformat_minor": 0
}
