{
 "cells": [
  {
   "cell_type": "markdown",
   "metadata": {
    "collapsed": true
   },
   "source": [
    "IQFeed 5 Sec data is saved at windows system using code there. Need to import from that system"
   ]
  },
  {
   "cell_type": "code",
   "execution_count": 3,
   "metadata": {
    "collapsed": false
   },
   "outputs": [
    {
     "name": "stdout",
     "output_type": "stream",
     "text": [
      "Populating the interactive namespace from numpy and matplotlib\n"
     ]
    },
    {
     "name": "stderr",
     "output_type": "stream",
     "text": [
      "WARNING: pylab import has clobbered these variables: ['randint', 'datetime']\n",
      "`%matplotlib` prevents importing * from pylab and numpy\n"
     ]
    }
   ],
   "source": [
    "import pandas as pd\n",
    "import numpy as np\n",
    "import urllib2\n",
    "import urllib\n",
    "import datetime\n",
    "import datetime as dt\n",
    "from datetime import datetime\n",
    "from pytz import timezone\n",
    "import pytz\n",
    "from time import gmtime, strftime\n",
    "import time\n",
    "import os\n",
    "from random import randint\n",
    "import math\n",
    "import seaborn\n",
    "from matplotlib import interactive\n",
    "interactive(False)\n",
    "from pylab import rcParams\n",
    "from pandas_datareader import data as web\n",
    "import seaborn as sns; sns.set()\n",
    "import matplotlib.pyplot as plt\n",
    "from matplotlib.pylab import rcParams\n",
    "rcParams['figure.figsize'] = 15, 6\n",
    "%matplotlib inline\n",
    "%pylab inline"
   ]
  },
  {
   "cell_type": "code",
   "execution_count": 4,
   "metadata": {
    "collapsed": false
   },
   "outputs": [
    {
     "data": {
      "text/plain": [
       "74803"
      ]
     },
     "execution_count": 4,
     "metadata": {},
     "output_type": "execute_result"
    }
   ],
   "source": [
    "os.environ['TZ'] = ':US/Eastern'; \n",
    "time.tzset()\n",
    "ti=time.strftime(\"%H%M%S\")\n",
    "int(ti)"
   ]
  },
  {
   "cell_type": "code",
   "execution_count": 4,
   "metadata": {
    "collapsed": false
   },
   "outputs": [],
   "source": [
    "#%run iqfeed_download.py \n",
    "#^^ above code is saved at "
   ]
  },
  {
   "cell_type": "code",
   "execution_count": 5,
   "metadata": {
    "collapsed": true
   },
   "outputs": [],
   "source": [
    "path = '/home/octo/Desktop/PROJECT_1/IQ_data/'"
   ]
  },
  {
   "cell_type": "code",
   "execution_count": 6,
   "metadata": {
    "collapsed": false
   },
   "outputs": [],
   "source": [
    "spy=pd.read_csv(path + 'SPY.csv',names = [\"high\", \"low\", \"open\",\"close\",\"total_volume\",\"volume\"],index_col=0, parse_dates=True)"
   ]
  },
  {
   "cell_type": "code",
   "execution_count": 7,
   "metadata": {
    "collapsed": false
   },
   "outputs": [],
   "source": [
    "import TA"
   ]
  },
  {
   "cell_type": "code",
   "execution_count": 8,
   "metadata": {
    "collapsed": true
   },
   "outputs": [],
   "source": [
    "#https://mrjbq7.github.io/ta-lib/func.html\n",
    "import talib"
   ]
  },
  {
   "cell_type": "code",
   "execution_count": 9,
   "metadata": {
    "collapsed": true
   },
   "outputs": [],
   "source": [
    "length=30"
   ]
  },
  {
   "cell_type": "code",
   "execution_count": 10,
   "metadata": {
    "collapsed": true
   },
   "outputs": [],
   "source": [
    "#pivot line "
   ]
  },
  {
   "cell_type": "code",
   "execution_count": 1,
   "metadata": {
    "collapsed": false
   },
   "outputs": [],
   "source": [
    "#pd.rolling_max(P,15)"
   ]
  },
  {
   "cell_type": "code",
   "execution_count": 21,
   "metadata": {
    "collapsed": false
   },
   "outputs": [],
   "source": [
    "data_price=data_price.dropna()"
   ]
  },
  {
   "cell_type": "code",
   "execution_count": 22,
   "metadata": {
    "collapsed": false
   },
   "outputs": [
    {
     "data": {
      "text/plain": [
       "[<matplotlib.lines.Line2D at 0x7f858c55ded0>]"
      ]
     },
     "execution_count": 22,
     "metadata": {},
     "output_type": "execute_result"
    },
    {
     "data": {
      "image/png": "[encoded data removed]",
      "text/plain": [
       "<matplotlib.figure.Figure at 0x7f858c5c6bd0>"
      ]
     },
     "metadata": {},
     "output_type": "display_data"
    }
   ],
   "source": [
    "#plt.plot(data_price.vwap)\n",
    "plt.plot(data_price.ATR)"
   ]
  },
  {
   "cell_type": "code",
   "execution_count": 55,
   "metadata": {
    "collapsed": false
   },
   "outputs": [],
   "source": [
    "#Calculating momentum of the close prices, with a time period of 5:\n",
    "#data_price['momentum'] = talib.MOM(np.asarray(data_price['close']), timeperiod=length)"
   ]
  },
  {
   "cell_type": "code",
   "execution_count": 59,
   "metadata": {
    "collapsed": true
   },
   "outputs": [],
   "source": [
    "#data_price['ROC'] = talib.ROC(np.asarray(data_price['close']), timeperiod=length)# good distribution of return -1 to +1 "
   ]
  },
  {
   "cell_type": "code",
   "execution_count": 58,
   "metadata": {
    "collapsed": true
   },
   "outputs": [],
   "source": [
    "#data_price['RSI'] = np.where(talib.RSI(np.asarray(data_price['close']), timeperiod=15)>65,1,np.where(talib.RSI(np.asarray(data_price['close']), timeperiod=15)<35,-1,0))"
   ]
  },
  {
   "cell_type": "code",
   "execution_count": 51,
   "metadata": {
    "collapsed": false
   },
   "outputs": [],
   "source": [
    "#data_price.dropna().plot(y= ['momentum'], title='SPY Close & Momentum',figsize = [15,15])"
   ]
  },
  {
   "cell_type": "code",
   "execution_count": 57,
   "metadata": {
    "collapsed": false
   },
   "outputs": [],
   "source": [
    "#pd.DataFrame.hist(data_price[['ROC']],bins=50,figsize = [5,5]);"
   ]
  },
  {
   "cell_type": "code",
   "execution_count": 65,
   "metadata": {
    "collapsed": false
   },
   "outputs": [],
   "source": [
    "#data_price[['ROC','momentum']]\n",
    "#data_price.dropna().plot(y= ['momentum'], title='SPY Close & Momentum',figsize = [15,15])\n",
    "#data_price.dropna().plot(y= ['ROC'], title='SPY Close & Momentum',figsize = [15,15])"
   ]
  },
  {
   "cell_type": "code",
   "execution_count": 61,
   "metadata": {
    "collapsed": false
   },
   "outputs": [],
   "source": [
    "#pd.DataFrame.hist(data_price[['RSI']],bins=10,figsize = [5,5]);"
   ]
  },
  {
   "cell_type": "code",
   "execution_count": 33,
   "metadata": {
    "collapsed": true
   },
   "outputs": [],
   "source": [
    "#pd.DataFrame.hist(data_price[['ADX']],bins=10,figsize = [5,5]);"
   ]
  },
  {
   "cell_type": "code",
   "execution_count": 64,
   "metadata": {
    "collapsed": false
   },
   "outputs": [],
   "source": [
    "#data_price['return']= np.where(data_price['open']>data_price['close'].shift(1),1,np.where(data_price['open']<data_price['close'].shift(1),-1,0))\n",
    "#data_price['volume_ch']=data_price['volume']/data_price['volume'].shift(1)\n",
    "#data_price['4Ch'] = data_price['open']-data_price['close'].shift(4)\n",
    "#data_price['4VCh'] =data_price['volume']/data_price['volume'].shift(4)\n",
    "#data_price['19Ch'] = data_price['open']-data_price['close'].shift(19)\n",
    "#data_price['19VCh'] = data_price['volume']/data_price['volume'].shift(19)"
   ]
  },
  {
   "cell_type": "code",
   "execution_count": 31,
   "metadata": {
    "collapsed": false
   },
   "outputs": [],
   "source": [
    "#data_price.dropna().head(2)"
   ]
  },
  {
   "cell_type": "code",
   "execution_count": 66,
   "metadata": {
    "collapsed": true
   },
   "outputs": [],
   "source": [
    "##volume above 1 to get trend \n",
    "#data_price['4J']=np.where(data_price['4Ch']>0.05,1,np.where(data_price['4Ch']<-0.05,-1,0))\n",
    "#data_price['4jHV']=np.where(np.logical_and(data_price['4J']==1,data_price['4VCh']>1.2),1,np.where(np.logical_and(data_price['4J']==-1,data_price['4VCh']>1.2),-1,0))"
   ]
  },
  {
   "cell_type": "code",
   "execution_count": 32,
   "metadata": {
    "collapsed": false
   },
   "outputs": [],
   "source": [
    "#data_price[['close','high','low']].tail(100).plot(figsize=(16, 10))\n",
    "#plt.xlabel('date')\n",
    "#plt.ylabel('Price')"
   ]
  },
  {
   "cell_type": "code",
   "execution_count": 33,
   "metadata": {
    "collapsed": false
   },
   "outputs": [],
   "source": [
    "#data_price[['volume']].tail(100).plot(figsize=(16, 10))\n",
    "#plt.xlabel('date')\n",
    "#plt.ylabel('Volume')"
   ]
  },
  {
   "cell_type": "code",
   "execution_count": 19,
   "metadata": {
    "collapsed": false
   },
   "outputs": [],
   "source": [
    "#data_price['Return'] = np.log(data_price['open'] /data_price['close'].shift(1))"
   ]
  },
  {
   "cell_type": "code",
   "execution_count": 35,
   "metadata": {
    "collapsed": false
   },
   "outputs": [],
   "source": [
    "  # reads data from Google Finance\n",
    "#data_price['14t'] = pd.rolling_mean(data_price['close'], 14)\n",
    "#data_price['42t'] = pd.rolling_mean(data_price['close'], 42)\n",
    "  # 42d and 252d trends"
   ]
  },
  {
   "cell_type": "code",
   "execution_count": 36,
   "metadata": {
    "collapsed": false
   },
   "outputs": [],
   "source": [
    "#data_price[['open', '14t', '42t']].tail(200).plot(figsize=(30,20), grid=True);"
   ]
  },
  {
   "cell_type": "code",
   "execution_count": 37,
   "metadata": {
    "collapsed": false
   },
   "outputs": [],
   "source": [
    "#data_price['Return'].tail(200).plot(figsize=(30,20), grid=True); "
   ]
  },
  {
   "cell_type": "code",
   "execution_count": 38,
   "metadata": {
    "collapsed": false
   },
   "outputs": [],
   "source": [
    "#np.cumsum(data_price['Return']).tail(200).plot(figsize=(30,20), grid=True); "
   ]
  },
  {
   "cell_type": "markdown",
   "metadata": {},
   "source": [
    "MOMENTUM: J_SPY at low/medium level of the ROC curve==upward indicator"
   ]
  },
  {
   "cell_type": "code",
   "execution_count": 39,
   "metadata": {
    "collapsed": false
   },
   "outputs": [],
   "source": [
    "#data_price['ROC'] = talib.ROC(np.asarray(data_price['close']), timeperiod=19)## good distribution of return -1 to +1 \n",
    "#data_price['ROC'] = np.where(data_price['ROC']>0.015,data_price['ROC'],np.where(data_price['ROC']<-0.015,data_price['ROC'],0))\n",
    "#SPY['ROC'] = np.where(np.logical_and(talib.ROC(np.asarray(SPY['close']), timeperiod=19)<-0.1,SPY['J_SPY']>0),1,np.where(np.logical_and(talib.ROC(np.asarray(SPY['close']), timeperiod=19)>0.1,SPY['J_SPY']<0),-1,0))"
   ]
  },
  {
   "cell_type": "code",
   "execution_count": 30,
   "metadata": {
    "collapsed": false
   },
   "outputs": [
    {
     "data": {
      "image/png": "[encoded data removed]",
      "text/plain": [
       "<matplotlib.figure.Figure at 0x7f664ee10a50>"
      ]
     },
     "metadata": {},
     "output_type": "display_data"
    }
   ],
   "source": [
    "pd.DataFrame.hist(data_price[['ROC']],bins=10,figsize = [5,5]);"
   ]
  },
  {
   "cell_type": "code",
   "execution_count": 40,
   "metadata": {
    "collapsed": true
   },
   "outputs": [],
   "source": [
    "roc3= talib.ROC(np.asarray(spy['close']), timeperiod=19)## good distribution of return -1 to +1 \n"
   ]
  },
  {
   "cell_type": "code",
   "execution_count": 48,
   "metadata": {
    "collapsed": false
   },
   "outputs": [],
   "source": [
    "spy['TR']=(pd.rolling_sum(spy.volume*P,length)/pd.rolling_sum(spy.volume,length)).shift(3)\n",
    "#TR is trading line along with P\n",
    "# Shift forwarded to avoid look back bias\n",
    "# What would be the lag????"
   ]
  },
  {
   "cell_type": "code",
   "execution_count": 18,
   "metadata": {
    "collapsed": false
   },
   "outputs": [],
   "source": [
    "spy['P']=((spy.high+spy.low+spy.close)/3).shift(3)#P=pd.rolling_mean(P,60)"
   ]
  },
  {
   "cell_type": "code",
   "execution_count": 19,
   "metadata": {
    "collapsed": false
   },
   "outputs": [],
   "source": [
    "spy['sprd_spy']=spy.close-spy.open"
   ]
  },
  {
   "cell_type": "code",
   "execution_count": 20,
   "metadata": {
    "collapsed": false
   },
   "outputs": [],
   "source": [
    "spy['ATR']=talib.ATR(np.asarray(spy['high']),np.asarray(spy['low']),np.asarray(spy['close']),timeperiod=15)"
   ]
  },
  {
   "cell_type": "code",
   "execution_count": 22,
   "metadata": {
    "collapsed": false
   },
   "outputs": [],
   "source": [
    "P=(spy.high+spy.low+spy.close)/3\n",
    "R1=P*2-spy.low\n",
    "R2=P+(spy.high-spy.low)\n",
    "S1=P*2-spy.high\n",
    "S2=P-(spy.high-spy.low)"
   ]
  },
  {
   "cell_type": "code",
   "execution_count": 26,
   "metadata": {
    "collapsed": true
   },
   "outputs": [],
   "source": [
    "spy['R2']=R2.shift(1)"
   ]
  },
  {
   "cell_type": "code",
   "execution_count": 29,
   "metadata": {
    "collapsed": true
   },
   "outputs": [],
   "source": [
    "spy['S2']=S2.shift(1)"
   ]
  },
  {
   "cell_type": "code",
   "execution_count": 30,
   "metadata": {
    "collapsed": false
   },
   "outputs": [
    {
     "data": {
      "text/html": [
       "<div>\n",
       "<table border=\"1\" class=\"dataframe\">\n",
       "  <thead>\n",
       "    <tr style=\"text-align: right;\">\n",
       "      <th></th>\n",
       "      <th>high</th>\n",
       "      <th>low</th>\n",
       "      <th>open</th>\n",
       "      <th>close</th>\n",
       "      <th>total_volume</th>\n",
       "      <th>volume</th>\n",
       "      <th>ATR</th>\n",
       "      <th>P</th>\n",
       "      <th>sprd_spy</th>\n",
       "      <th>R2</th>\n",
       "      <th>S2</th>\n",
       "    </tr>\n",
       "  </thead>\n",
       "  <tbody>\n",
       "    <tr>\n",
       "      <th>2016-11-16 15:59:40</th>\n",
       "      <td>217.95</td>\n",
       "      <td>217.90</td>\n",
       "      <td>217.920</td>\n",
       "      <td>217.93</td>\n",
       "      <td>58525889</td>\n",
       "      <td>58452</td>\n",
       "      <td>0.025510</td>\n",
       "      <td>217.891667</td>\n",
       "      <td>0.010</td>\n",
       "      <td>217.969967</td>\n",
       "      <td>217.869967</td>\n",
       "    </tr>\n",
       "    <tr>\n",
       "      <th>2016-11-16 15:59:45</th>\n",
       "      <td>217.96</td>\n",
       "      <td>217.93</td>\n",
       "      <td>217.935</td>\n",
       "      <td>217.95</td>\n",
       "      <td>58674698</td>\n",
       "      <td>145105</td>\n",
       "      <td>0.025810</td>\n",
       "      <td>217.891667</td>\n",
       "      <td>0.015</td>\n",
       "      <td>217.976667</td>\n",
       "      <td>217.876667</td>\n",
       "    </tr>\n",
       "    <tr>\n",
       "      <th>2016-11-16 15:59:50</th>\n",
       "      <td>217.97</td>\n",
       "      <td>217.93</td>\n",
       "      <td>217.950</td>\n",
       "      <td>217.93</td>\n",
       "      <td>58805627</td>\n",
       "      <td>126659</td>\n",
       "      <td>0.026756</td>\n",
       "      <td>217.919967</td>\n",
       "      <td>-0.020</td>\n",
       "      <td>217.976667</td>\n",
       "      <td>217.916667</td>\n",
       "    </tr>\n",
       "    <tr>\n",
       "      <th>2016-11-16 15:59:55</th>\n",
       "      <td>217.95</td>\n",
       "      <td>217.91</td>\n",
       "      <td>217.930</td>\n",
       "      <td>217.91</td>\n",
       "      <td>58911685</td>\n",
       "      <td>104482</td>\n",
       "      <td>0.027639</td>\n",
       "      <td>217.926667</td>\n",
       "      <td>-0.020</td>\n",
       "      <td>217.983333</td>\n",
       "      <td>217.903333</td>\n",
       "    </tr>\n",
       "    <tr>\n",
       "      <th>2016-11-16 16:00:00</th>\n",
       "      <td>217.95</td>\n",
       "      <td>217.91</td>\n",
       "      <td>217.920</td>\n",
       "      <td>217.93</td>\n",
       "      <td>59121491</td>\n",
       "      <td>207041</td>\n",
       "      <td>0.028463</td>\n",
       "      <td>217.946667</td>\n",
       "      <td>0.010</td>\n",
       "      <td>217.963333</td>\n",
       "      <td>217.883333</td>\n",
       "    </tr>\n",
       "  </tbody>\n",
       "</table>\n",
       "</div>"
      ],
      "text/plain": [
       "                       high     low     open   close  total_volume  volume  \\\n",
       "2016-11-16 15:59:40  217.95  217.90  217.920  217.93      58525889   58452   \n",
       "2016-11-16 15:59:45  217.96  217.93  217.935  217.95      58674698  145105   \n",
       "2016-11-16 15:59:50  217.97  217.93  217.950  217.93      58805627  126659   \n",
       "2016-11-16 15:59:55  217.95  217.91  217.930  217.91      58911685  104482   \n",
       "2016-11-16 16:00:00  217.95  217.91  217.920  217.93      59121491  207041   \n",
       "\n",
       "                          ATR           P  sprd_spy          R2          S2  \n",
       "2016-11-16 15:59:40  0.025510  217.891667     0.010  217.969967  217.869967  \n",
       "2016-11-16 15:59:45  0.025810  217.891667     0.015  217.976667  217.876667  \n",
       "2016-11-16 15:59:50  0.026756  217.919967    -0.020  217.976667  217.916667  \n",
       "2016-11-16 15:59:55  0.027639  217.926667    -0.020  217.983333  217.903333  \n",
       "2016-11-16 16:00:00  0.028463  217.946667     0.010  217.963333  217.883333  "
      ]
     },
     "execution_count": 30,
     "metadata": {},
     "output_type": "execute_result"
    }
   ],
   "source": [
    "spy.tail()"
   ]
  },
  {
   "cell_type": "code",
   "execution_count": null,
   "metadata": {
    "collapsed": true
   },
   "outputs": [],
   "source": []
  }
 ],
 "metadata": {
  "kernelspec": {
   "display_name": "Python 2",
   "language": "python",
   "name": "python2"
  },
  "language_info": {
   "codemirror_mode": {
    "name": "ipython",
    "version": 2
   },
   "file_extension": ".py",
   "mimetype": "text/x-python",
   "name": "python",
   "nbconvert_exporter": "python",
   "pygments_lexer": "ipython2",
   "version": "2.7.11"
  }
 },
 "nbformat": 4,
 "nbformat_minor": 0
}
