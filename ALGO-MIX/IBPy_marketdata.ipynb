{
 "cells": [
  {
   "cell_type": "markdown",
   "metadata": {},
   "source": [
    "reqMktData() to get bid-ask data is sucessful"
   ]
  },
  {
   "cell_type": "code",
   "execution_count": 10,
   "metadata": {
    "collapsed": true
   },
   "outputs": [],
   "source": [
    "from ib.opt import ibConnection, message\n",
    "from ib.ext.Contract import Contract\n",
    "from ib.ext.TickType import TickType as tt\n",
    "from time import sleep\n",
    "from __future__ import print_function #I'm using 3.x style print\n",
    "import pandas as pd"
   ]
  },
  {
   "cell_type": "code",
   "execution_count": 11,
   "metadata": {
    "collapsed": true
   },
   "outputs": [],
   "source": [
    "def error_handler(msg):\n",
    "    print (msg)"
   ]
  },
  {
   "cell_type": "code",
   "execution_count": 12,
   "metadata": {
    "collapsed": false
   },
   "outputs": [],
   "source": [
    "def my_callback_handler(msg):\n",
    "    inside_mkt_bid = ''\n",
    "    inside_mkt_ask = ''\n",
    "    \n",
    "    if msg.field == 1:\n",
    "        inside_mkt_bid = msg.price\n",
    "        print (\"bid\", inside_mkt_bid)\n",
    "    elif msg.field == 2:\n",
    "        inside_mkt_ask = msg.price\n",
    "        print ('ask', inside_mkt_ask)"
   ]
  },
  {
   "cell_type": "code",
   "execution_count": 13,
   "metadata": {
    "collapsed": true
   },
   "outputs": [],
   "source": [
    "def my_callback_handler(msg):\n",
    "    if msg.field in [tt.BID,tt.ASK,tt.LAST]:\n",
    "        #now we can just store the response in the data frame\n",
    "        contracts.loc[msg.tickerId,tt.getField(msg.field)] = msg.price\n",
    "        if msg.field == tt.LAST:\n",
    "            print(contracts.loc[msg.tickerId,'sym'],msg.price)"
   ]
  },
  {
   "cell_type": "code",
   "execution_count": 14,
   "metadata": {
    "collapsed": false
   },
   "outputs": [
    {
     "name": "stdout",
     "output_type": "stream",
     "text": [
      "Server Version: 76\n",
      "TWS Time at connection:20160921 21:57:22 IST\n"
     ]
    },
    {
     "data": {
      "text/plain": [
       "True"
      ]
     },
     "execution_count": 14,
     "metadata": {},
     "output_type": "execute_result"
    },
    {
     "name": "stdout",
     "output_type": "stream",
     "text": [
      "<error id=-1, errorCode=2104, errorMsg=Market data farm connection is OK:usfarm.us>\n",
      "<error id=-1, errorCode=2104, errorMsg=Market data farm connection is OK:hfarm>\n",
      "<error id=-1, errorCode=2104, errorMsg=Market data farm connection is OK:cashfarm>\n",
      "<error id=-1, errorCode=2104, errorMsg=Market data farm connection is OK:usfuture>\n",
      "<error id=-1, errorCode=2104, errorMsg=Market data farm connection is OK:usbond>\n",
      "<error id=-1, errorCode=2104, errorMsg=Market data farm connection is OK:jfarm>\n",
      "<error id=-1, errorCode=2104, errorMsg=Market data farm connection is OK:eufarm>\n",
      "<error id=-1, errorCode=2104, errorMsg=Market data farm connection is OK:usfarm>\n",
      "<error id=-1, errorCode=2106, errorMsg=HMDS data farm connection is OK:ilhmds>\n",
      "<error id=-1, errorCode=2106, errorMsg=HMDS data farm connection is OK:euhmds>\n",
      "<error id=-1, errorCode=2106, errorMsg=HMDS data farm connection is OK:fundfarm>\n",
      "<error id=-1, errorCode=2106, errorMsg=HMDS data farm connection is OK:ushmds>\n"
     ]
    }
   ],
   "source": [
    "#tws = ibConnection()\n",
    "tws = ibConnection(clientId=1)\n",
    "tws.register(my_callback_handler, message.tickPrice, message.tickSize)\n",
    "tws.register(error_handler, 'Error')\n",
    "tws.connect()"
   ]
  },
  {
   "cell_type": "code",
   "execution_count": 15,
   "metadata": {
    "collapsed": true
   },
   "outputs": [],
   "source": [
    "c = Contract()\n",
    "c.m_symbol = \"VIX\"\n",
    "c.m_secType = \"IND\"\n",
    "c.m_exchange = \"CBOE\"\n",
    "c.m_currency = \"USD\""
   ]
  },
  {
   "cell_type": "code",
   "execution_count": 16,
   "metadata": {
    "collapsed": false
   },
   "outputs": [],
   "source": [
    "tws.reqMktData(1,c,\"\",False)\n",
    "sleep(1)"
   ]
  },
  {
   "cell_type": "code",
   "execution_count": 17,
   "metadata": {
    "collapsed": false
   },
   "outputs": [
    {
     "data": {
      "text/plain": [
       "True"
      ]
     },
     "execution_count": 17,
     "metadata": {},
     "output_type": "execute_result"
    }
   ],
   "source": [
    "tws.disconnect()"
   ]
  },
  {
   "cell_type": "markdown",
   "metadata": {},
   "source": [
    "ANOTHER \n",
    "\n",
    "http://stackoverflow.com/questions/30130319/ibpy-extract-api-responces-for-multiple-contracts"
   ]
  },
  {
   "cell_type": "markdown",
   "metadata": {
    "collapsed": true
   },
   "source": [
    "ANOTHER"
   ]
  },
  {
   "cell_type": "code",
   "execution_count": 12,
   "metadata": {
    "collapsed": false
   },
   "outputs": [
    {
     "name": "stdout",
     "output_type": "stream",
     "text": [
      "Server Version: 76\n",
      "TWS Time at connection:20160919 20:45:49 IST\n",
      "Contract Values:SPY,STK,SMART,USD,,0.0,:\n",
      "* * * * REQUESTING MARKET DATA * * * *\n",
      "SPY:: bid: 214.35\n",
      "SPY:: ask: 214.36\n",
      "SPY:: bid: 214.37\n",
      "SPY:: ask: 214.38\n",
      "SPY:: bid: 214.38\n",
      "SPY:: ask: 214.39\n",
      "SPY:: ask: 214.4\n",
      "SPY:: bid: 214.39\n",
      "SPY:: bid: 214.4\n",
      "SPY:: ask: 214.41\n",
      "SPY:: bid: 214.41\n",
      "SPY:: ask: 214.42\n",
      "SPY:: bid: 214.43\n",
      "SPY:: ask: 214.44\n",
      "SPY:: bid: 214.44\n",
      "SPY:: ask: 214.45\n",
      "SPY:: bid: 214.42\n",
      "SPY:: ask: 214.43\n",
      "SPY:: bid: 214.43\n",
      "SPY:: ask: 214.44\n",
      "SPY:: bid: 214.44\n",
      "SPY:: ask: 214.45\n",
      "SPY:: bid: 214.45\n",
      "SPY:: ask: 214.46\n",
      "SPY:: bid: 214.46\n",
      "SPY:: ask: 214.47\n",
      "SPY:: bid: 214.45\n",
      "SPY:: ask: 214.46\n",
      "SPY:: bid: 214.46\n",
      "SPY:: ask: 214.47\n",
      "SPY:: bid: 214.45\n",
      "SPY:: ask: 214.46\n",
      "SPY:: bid: 214.46\n",
      "SPY:: ask: 214.47\n"
     ]
    }
   ],
   "source": [
    "%run ibpy_marketdata.py"
   ]
  },
  {
   "cell_type": "code",
   "execution_count": 14,
   "metadata": {
    "collapsed": false
   },
   "outputs": [
    {
     "name": "stdout",
     "output_type": "stream",
     "text": [
      "* * * * CANCELING MARKET DATA * * * *\n",
      "* * * * Disconnecting * * * *\n"
     ]
    }
   ],
   "source": [
    "print '* * * * CANCELING MARKET DATA * * * *'\n",
    "con.cancelMktData(tickId)\n",
    "sleep(1)\n",
    "print '* * * * Disconnecting * * * *'\n",
    "con.disconnect()\n",
    "sleep(1)"
   ]
  },
  {
   "cell_type": "markdown",
   "metadata": {},
   "source": [
    "Another"
   ]
  },
  {
   "cell_type": "code",
   "execution_count": null,
   "metadata": {
    "collapsed": true
   },
   "outputs": [],
   "source": [
    "from ib.ext.Contract import Contract\n",
    "from ib.opt import ibConnection, message\n",
    "from Queue import Queue, Empty\n",
    "from time import time, sleep\n",
    "from thread import start_new_thread"
   ]
  },
  {
   "cell_type": "code",
   "execution_count": null,
   "metadata": {
    "collapsed": true
   },
   "outputs": [],
   "source": [
    "#symbols = [\"AUDUSD\",\"EURUSD\",\"GBPUSD\",\"USDCAD\",\"USDCHF\",\"USDJPY\",\"GBPJPY\",\"EURJPY\"]\n",
    "symbols = [\"QQQ\",\"SPY\",\"SQQQ\"]\n",
    "q = [None] * len(symbols)"
   ]
  },
  {
   "cell_type": "code",
   "execution_count": null,
   "metadata": {
    "collapsed": false
   },
   "outputs": [],
   "source": [
    "def writer_thread_func(symbol_index):\n",
    "    global symbols, q\n",
    "    symbol = symbols[symbol_index]\n",
    "\n",
    "    while True:\n",
    "        try:\n",
    "            (time,price) = q[symbol_index].get(True,15)\n",
    "            print symbol, time, price\n",
    "            # Other processing with the data that might take some time.\n",
    "            # ...\n",
    "        except Empty:\n",
    "            print \"no data for 15 seconds\"\n",
    "            # Other processing for when 15 seconds elapsed without any data.\n",
    "            # ..."
   ]
  },
  {
   "cell_type": "code",
   "execution_count": null,
   "metadata": {
    "collapsed": true
   },
   "outputs": [],
   "source": [
    "def my_callback(msg):\n",
    "    global symbols, q\n",
    "    if isinstance(msg,message.TickPrice):\n",
    "        q[msg.tickerId].put_nowait((time(),msg.price))\n",
    "    #elif:\n",
    "        # other message types etc."
   ]
  },
  {
   "cell_type": "code",
   "execution_count": null,
   "metadata": {
    "collapsed": true
   },
   "outputs": [],
   "source": [
    "def make_contract(symbol,sectype,exchange,currency,expiry,strike,right):\n",
    "    cont = Contract()\n",
    "    cont.m_symbol = symbol\n",
    "    cont.m_secType = sectype\n",
    "    cont.m_exchange = exchange\n",
    "    cont.m_currency = currency\n",
    "    cont.m_expiry = expiry\n",
    "    cont.m_strike = strike\n",
    "    cont.m_right = right\n",
    "    return cont"
   ]
  },
  {
   "cell_type": "code",
   "execution_count": null,
   "metadata": {
    "collapsed": false
   },
   "outputs": [],
   "source": [
    "con = ibConnection('127.0.0.1', 7496, 123)\n",
    "con.registerAll(my_callback)\n",
    "con.connect()"
   ]
  },
  {
   "cell_type": "code",
   "execution_count": null,
   "metadata": {
    "collapsed": false
   },
   "outputs": [],
   "source": [
    "req_id = 0\n",
    "for symbol in symbols:\n",
    "\n",
    "    q[req_id] = Queue(0)\n",
    "    start_new_thread(writer_thread_func,(req_id,))\n",
    "    symbol_contract = make_contract(symbol[0:3], 'STK', 'IDEALPRO', symbol[3:6], '', 0.0, '')\n",
    "    con.reqMktData(req_id, symbol_contract, '', False)\n",
    "    req_id += 1\n",
    "\n",
    "#sleep(-1)"
   ]
  },
  {
   "cell_type": "code",
   "execution_count": null,
   "metadata": {
    "collapsed": false
   },
   "outputs": [],
   "source": [
    "con.disconnect()"
   ]
  },
  {
   "cell_type": "markdown",
   "metadata": {},
   "source": [
    "ANother"
   ]
  },
  {
   "cell_type": "code",
   "execution_count": 7,
   "metadata": {
    "collapsed": false
   },
   "outputs": [],
   "source": [
    "import re\n",
    "import ib\n",
    "from ib.ext.Contract import Contract\n",
    "from ib.opt import ibConnection, message\n",
    "from time import sleep"
   ]
  },
  {
   "cell_type": "code",
   "execution_count": 8,
   "metadata": {
    "collapsed": false
   },
   "outputs": [],
   "source": [
    "class Downloader(object):\n",
    "    field4price = ''\n",
    "\n",
    "    def __init__(self):\n",
    "        #self.tws = ibConnection('localhost',7496,123)\n",
    "        self.tws = ibConnection('localhost',7496,123)\n",
    "        self.tws.register(self.tickPriceHandler, 'TickPrice')\n",
    "        self.tws.connect()\n",
    "        self._reqId = 1 # current request id\n",
    "\n",
    "    def tickPriceHandler(self,msg):\n",
    "        if msg.field == 4:\n",
    "            self.field4price = msg.price\n",
    "            #print '[debug]', msg\n",
    "\n",
    "    def requestData(self,contract): \n",
    "        self.tws.reqMktData(self._reqId, contract, '', 1)\n",
    "        self._reqId+=1"
   ]
  },
  {
   "cell_type": "code",
   "execution_count": 9,
   "metadata": {
    "collapsed": false
   },
   "outputs": [
    {
     "name": "stdout",
     "output_type": "stream",
     "text": [
      "Server Version: 76\n",
      "TWS Time at connection:20160921 19:49:01 IST\n",
      "Price - field 4:  \n"
     ]
    }
   ],
   "source": [
    "#if __name__=='__main__':\n",
    "dl = Downloader()\n",
    "c = Contract()\n",
    "c.m_symbol = 'SPY'\n",
    "c.m_secType = 'STK'\n",
    "c.m_exchange = 'SMART'\n",
    "c.m_currency = 'USD'\n",
    "dl.requestData(c)\n",
    "sleep(0.01)\n",
    "print 'Price - field 4: ', dl.field4price"
   ]
  },
  {
   "cell_type": "markdown",
   "metadata": {
    "collapsed": true
   },
   "source": [
    "https://github.com/mementum/backtrader/issues/69"
   ]
  }
 ],
 "metadata": {
  "kernelspec": {
   "display_name": "Python 2",
   "language": "python",
   "name": "python2"
  },
  "language_info": {
   "codemirror_mode": {
    "name": "ipython",
    "version": 2
   },
   "file_extension": ".py",
   "mimetype": "text/x-python",
   "name": "python",
   "nbconvert_exporter": "python",
   "pygments_lexer": "ipython2",
   "version": "2.7.11"
  }
 },
 "nbformat": 4,
 "nbformat_minor": 0
}
