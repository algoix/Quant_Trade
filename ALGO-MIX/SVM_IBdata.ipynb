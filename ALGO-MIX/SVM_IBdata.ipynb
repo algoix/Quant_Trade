{
 "cells": [
  {
   "cell_type": "markdown",
   "metadata": {},
   "source": [
    "### IB tick data feed\n",
    "###### Market Data stored from IB by R code in .dat format.Need to import from dropbox for analysis\n",
    "#### SPXS data not avialable so SQQQ,TQQQ taken"
   ]
  },
  {
   "cell_type": "code",
   "execution_count": 161,
   "metadata": {
    "collapsed": true
   },
   "outputs": [],
   "source": [
    "import pandas as pd   \n",
    "import numpy as np\n",
    "\n",
    "with open('/home/octo/Dropbox/IB_data/SPY.dat','r') as f:\n",
    "    #next(f) # skip first row\n",
    "    df_spy = pd.DataFrame(l.rstrip().split() for l in f)\n",
    "with open('/home/octo/Dropbox/IB_data/SQQQ.dat','r') as f:\n",
    "    #next(f) # skip first row\n",
    "    df_sqqq = pd.DataFrame(l.rstrip().split() for l in f)\n",
    "with open('/home/octo/Dropbox/IB_data/TQQQ.dat','r') as f:\n",
    "    #next(f) # skip first row\n",
    "    df_tqqq = pd.DataFrame(l.rstrip().split() for l in f)    "
   ]
  },
  {
   "cell_type": "code",
   "execution_count": 162,
   "metadata": {},
   "outputs": [],
   "source": [
    "df_spy['time'] = df_spy[0].str.cat(df_spy[1].values.astype(str), sep=' ')\n",
    "df_sqqq['time'] = df_sqqq[0].str.cat(df_sqqq[1].values.astype(str), sep=' ')\n",
    "df_tqqq['time'] = df_tqqq[0].str.cat(df_tqqq[1].values.astype(str), sep=' ')"
   ]
  },
  {
   "cell_type": "code",
   "execution_count": 163,
   "metadata": {},
   "outputs": [],
   "source": [
    "df_spy.index=df_spy['time']\n",
    "df_spy=df_spy[[4,5,6,7]]\n",
    "df_sqqq.index=df_sqqq['time']\n",
    "df_sqqq=df_sqqq[[4,5,6,7]]\n",
    "df_tqqq.index=df_tqqq['time']\n",
    "df_tqqq=df_tqqq[[4,5,6,7]]"
   ]
  },
  {
   "cell_type": "code",
   "execution_count": 164,
   "metadata": {},
   "outputs": [
    {
     "data": {
      "text/plain": [
       "\"dfAV=df[df[4]=='averageVolume:']\\ndfCOI=df[df[4]=='optionCallOpenInterest:']\\ndfPOI=df[df[4]=='optionPutOpenInterest:']\\ndfCV=df[df[4]=='optionCallVolume:']\\ndfCV=df[df[4]=='optionPutVolume:']\\ndfIV=df[df[4]=='optionImpliedVol:']\""
      ]
     },
     "execution_count": 164,
     "metadata": {},
     "output_type": "execute_result"
    }
   ],
   "source": [
    "df_spyBID=df_spy[df_spy[4]=='bidPrice:']\n",
    "df_spyASK=df_spy[df_spy[4]=='askPrice:']\n",
    "df_spyV=df_spy[df_spy[4]=='Volume:']\n",
    "\"\"\"dfAV=df[df[4]=='averageVolume:']\n",
    "dfCOI=df[df[4]=='optionCallOpenInterest:']\n",
    "dfPOI=df[df[4]=='optionPutOpenInterest:']\n",
    "dfCV=df[df[4]=='optionCallVolume:']\n",
    "dfCV=df[df[4]=='optionPutVolume:']\n",
    "dfIV=df[df[4]=='optionImpliedVol:']\"\"\""
   ]
  },
  {
   "cell_type": "code",
   "execution_count": 165,
   "metadata": {},
   "outputs": [
    {
     "data": {
      "text/plain": [
       "\"dfCOI=dfCOI[[5]]\\ndfCOI.columns = ['CallOpenInt']\""
      ]
     },
     "execution_count": 165,
     "metadata": {},
     "output_type": "execute_result"
    }
   ],
   "source": [
    "\"\"\"dfCOI=dfCOI[[5]]\n",
    "dfCOI.columns = ['CallOpenInt']\"\"\""
   ]
  },
  {
   "cell_type": "code",
   "execution_count": 166,
   "metadata": {},
   "outputs": [],
   "source": [
    "df_spyBIDvalue=df_spyBID[[5]]\n",
    "df_spyBIDvalue.columns = ['bid']\n",
    "df_spyBIDsize=df_spyBID[[7]]\n",
    "df_spyBIDsize.columns = ['bidSize']\n",
    "df_spyASKvalue=df_spyASK[[5]]\n",
    "df_spyASKvalue.columns = ['ask']\n",
    "df_spyASKsize=df_spyASK[[7]]\n",
    "df_spyASKsize.columns = ['askSize']\n",
    "df_spyV=df_spyV[[5]]\n",
    "df_spyV.columns = ['volume']"
   ]
  },
  {
   "cell_type": "code",
   "execution_count": 167,
   "metadata": {},
   "outputs": [],
   "source": [
    "#dfBID.columns = ['bid','bidPrice','Size','bidSize']\n",
    "#dfASK.columns = ['ask','askPrice','Size','askSize']"
   ]
  },
  {
   "cell_type": "code",
   "execution_count": 168,
   "metadata": {
    "collapsed": true
   },
   "outputs": [],
   "source": [
    "#dfBID=dfBID[[1,3]].astype(float)\n",
    "#dfASK=dfASK[[1,3]].astype(float)"
   ]
  },
  {
   "cell_type": "code",
   "execution_count": 169,
   "metadata": {
    "collapsed": true
   },
   "outputs": [],
   "source": [
    "#data= pd.merge(dfASK,dfBID, left_index=True, right_index=True,how='outer')"
   ]
  },
  {
   "cell_type": "code",
   "execution_count": 170,
   "metadata": {},
   "outputs": [],
   "source": [
    "df_spyBID= pd.merge(df_spyBIDvalue,df_spyBIDsize, left_index=True, right_index=True,how='outer')\n",
    "df_spyASK= pd.merge(df_spyASKvalue,df_spyASKsize, left_index=True, right_index=True,how='outer')\n",
    "df_spy=pd.merge(df_spyBID,df_spyASK, left_index=True, right_index=True,how='outer')"
   ]
  },
  {
   "cell_type": "markdown",
   "metadata": {},
   "source": [
    "### !!! need time index to second only to avoid NaN"
   ]
  },
  {
   "cell_type": "code",
   "execution_count": 171,
   "metadata": {},
   "outputs": [
    {
     "data": {
      "text/html": [
       "<div>\n",
       "<table border=\"1\" class=\"dataframe\">\n",
       "  <thead>\n",
       "    <tr style=\"text-align: right;\">\n",
       "      <th></th>\n",
       "      <th>bid</th>\n",
       "      <th>bidSize</th>\n",
       "      <th>ask</th>\n",
       "      <th>askSize</th>\n",
       "    </tr>\n",
       "    <tr>\n",
       "      <th>time</th>\n",
       "      <th></th>\n",
       "      <th></th>\n",
       "      <th></th>\n",
       "      <th></th>\n",
       "    </tr>\n",
       "  </thead>\n",
       "  <tbody>\n",
       "    <tr>\n",
       "      <th>&lt;20170202 12:12:13.618969&gt;</th>\n",
       "      <td>NaN</td>\n",
       "      <td>NaN</td>\n",
       "      <td>227.31</td>\n",
       "      <td>420</td>\n",
       "    </tr>\n",
       "    <tr>\n",
       "      <th>&lt;20170202 12:12:15.678483&gt;</th>\n",
       "      <td>227.31</td>\n",
       "      <td>42</td>\n",
       "      <td>NaN</td>\n",
       "      <td>NaN</td>\n",
       "    </tr>\n",
       "    <tr>\n",
       "      <th>&lt;20170202 12:12:15.976486&gt;</th>\n",
       "      <td>NaN</td>\n",
       "      <td>NaN</td>\n",
       "      <td>227.32</td>\n",
       "      <td>226</td>\n",
       "    </tr>\n",
       "    <tr>\n",
       "      <th>&lt;20170202 12:12:35.323178&gt;</th>\n",
       "      <td>227.32</td>\n",
       "      <td>149</td>\n",
       "      <td>227.33</td>\n",
       "      <td>357</td>\n",
       "    </tr>\n",
       "    <tr>\n",
       "      <th>&lt;20170202 12:12:35.832199&gt;</th>\n",
       "      <td>227.33</td>\n",
       "      <td>115</td>\n",
       "      <td>227.34</td>\n",
       "      <td>45</td>\n",
       "    </tr>\n",
       "  </tbody>\n",
       "</table>\n",
       "</div>"
      ],
      "text/plain": [
       "                               bid bidSize     ask askSize\n",
       "time                                                      \n",
       "<20170202 12:12:13.618969>     NaN     NaN  227.31     420\n",
       "<20170202 12:12:15.678483>  227.31      42     NaN     NaN\n",
       "<20170202 12:12:15.976486>     NaN     NaN  227.32     226\n",
       "<20170202 12:12:35.323178>  227.32     149  227.33     357\n",
       "<20170202 12:12:35.832199>  227.33     115  227.34      45"
      ]
     },
     "execution_count": 171,
     "metadata": {},
     "output_type": "execute_result"
    }
   ],
   "source": [
    "df_spy.tail()"
   ]
  },
  {
   "cell_type": "code",
   "execution_count": 172,
   "metadata": {},
   "outputs": [],
   "source": [
    "#pd.DataFrame(df_spy['ask'])-pd.DataFrame(df_spy['bid'])"
   ]
  },
  {
   "cell_type": "code",
   "execution_count": 175,
   "metadata": {},
   "outputs": [],
   "source": [
    "h5s = pd.HDFStore('/home/octo/Dropbox/IB_data/df_spy_h' + '.h5s', 'w')"
   ]
  },
  {
   "cell_type": "code",
   "execution_count": 177,
   "metadata": {},
   "outputs": [],
   "source": [
    "h5s['df_spy_h'] =df_spy"
   ]
  },
  {
   "cell_type": "code",
   "execution_count": 178,
   "metadata": {
    "collapsed": true
   },
   "outputs": [],
   "source": [
    "h5s.close()"
   ]
  },
  {
   "cell_type": "code",
   "execution_count": 179,
   "metadata": {
    "collapsed": true
   },
   "outputs": [],
   "source": [
    "h5s = pd.HDFStore('/home/octo/Dropbox/IB_data/df_spy_h'+ '.h5s', 'r')\n",
    "df_spy_h = h5s['df_spy_h']\n",
    "h5s.close()"
   ]
  },
  {
   "cell_type": "code",
   "execution_count": 180,
   "metadata": {},
   "outputs": [
    {
     "data": {
      "text/html": [
       "<div>\n",
       "<table border=\"1\" class=\"dataframe\">\n",
       "  <thead>\n",
       "    <tr style=\"text-align: right;\">\n",
       "      <th></th>\n",
       "      <th>bid</th>\n",
       "      <th>bidSize</th>\n",
       "      <th>ask</th>\n",
       "      <th>askSize</th>\n",
       "    </tr>\n",
       "    <tr>\n",
       "      <th>time</th>\n",
       "      <th></th>\n",
       "      <th></th>\n",
       "      <th></th>\n",
       "      <th></th>\n",
       "    </tr>\n",
       "  </thead>\n",
       "  <tbody>\n",
       "    <tr>\n",
       "      <th>&lt;20170202 09:49:35.986062&gt;</th>\n",
       "      <td>227.33</td>\n",
       "      <td>167</td>\n",
       "      <td>NaN</td>\n",
       "      <td>NaN</td>\n",
       "    </tr>\n",
       "    <tr>\n",
       "      <th>&lt;20170202 09:49:35.992125&gt;</th>\n",
       "      <td>NaN</td>\n",
       "      <td>NaN</td>\n",
       "      <td>227.34</td>\n",
       "      <td>47</td>\n",
       "    </tr>\n",
       "    <tr>\n",
       "      <th>&lt;20170202 09:49:36.154540&gt;</th>\n",
       "      <td>227.34</td>\n",
       "      <td>2</td>\n",
       "      <td>227.35</td>\n",
       "      <td>210</td>\n",
       "    </tr>\n",
       "    <tr>\n",
       "      <th>&lt;20170202 09:49:38.968739&gt;</th>\n",
       "      <td>227.35</td>\n",
       "      <td>143</td>\n",
       "      <td>227.36</td>\n",
       "      <td>184</td>\n",
       "    </tr>\n",
       "    <tr>\n",
       "      <th>&lt;20170202 09:49:39.221487&gt;</th>\n",
       "      <td>227.34</td>\n",
       "      <td>229</td>\n",
       "      <td>227.35</td>\n",
       "      <td>3</td>\n",
       "    </tr>\n",
       "  </tbody>\n",
       "</table>\n",
       "</div>"
      ],
      "text/plain": [
       "                               bid bidSize     ask askSize\n",
       "time                                                      \n",
       "<20170202 09:49:35.986062>  227.33     167     NaN     NaN\n",
       "<20170202 09:49:35.992125>     NaN     NaN  227.34      47\n",
       "<20170202 09:49:36.154540>  227.34       2  227.35     210\n",
       "<20170202 09:49:38.968739>  227.35     143  227.36     184\n",
       "<20170202 09:49:39.221487>  227.34     229  227.35       3"
      ]
     },
     "execution_count": 180,
     "metadata": {},
     "output_type": "execute_result"
    }
   ],
   "source": [
    "df_spy_h.head()"
   ]
  },
  {
   "cell_type": "code",
   "execution_count": null,
   "metadata": {
    "collapsed": true
   },
   "outputs": [],
   "source": []
  }
 ],
 "metadata": {
  "kernelspec": {
   "display_name": "Python 2",
   "language": "python",
   "name": "python2"
  },
  "language_info": {
   "codemirror_mode": {
    "name": "ipython",
    "version": 2
   },
   "file_extension": ".py",
   "mimetype": "text/x-python",
   "name": "python",
   "nbconvert_exporter": "python",
   "pygments_lexer": "ipython2",
   "version": "2.7.13"
  }
 },
 "nbformat": 4,
 "nbformat_minor": 1
}
