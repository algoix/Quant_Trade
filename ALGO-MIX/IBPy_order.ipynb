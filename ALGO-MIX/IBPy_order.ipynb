{
 "cells": [
  {
   "cell_type": "markdown",
   "metadata": {},
   "source": [
    "ORDER placing not sucessful"
   ]
  },
  {
   "cell_type": "code",
   "execution_count": null,
   "metadata": {
    "collapsed": false
   },
   "outputs": [],
   "source": [
    "%run Ib_order.py"
   ]
  },
  {
   "cell_type": "code",
   "execution_count": null,
   "metadata": {
    "collapsed": true
   },
   "outputs": [],
   "source": [
    "# LOADing the ib.ext and ib.opt Libraries\n",
    "from time import sleep\n",
    "from ib.opt import Connection, message\n",
    "from ib.ext.Contract import Contract\n",
    "from ib.ext.Order import Order"
   ]
  },
  {
   "cell_type": "code",
   "execution_count": null,
   "metadata": {
    "collapsed": true
   },
   "outputs": [],
   "source": [
    "#a basic function to capture error messages\n",
    "def error_handler(msg):\n",
    "    print \"IB: Server Error = \", msg"
   ]
  },
  {
   "cell_type": "code",
   "execution_count": null,
   "metadata": {
    "collapsed": true
   },
   "outputs": [],
   "source": [
    "# DEFINE a basic function to capture all server replies\n",
    "def all_replies_handler(msg):\n",
    "    print \"IB: Server Response = \", msg.typeName, msg"
   ]
  },
  {
   "cell_type": "code",
   "execution_count": null,
   "metadata": {
    "collapsed": true
   },
   "outputs": [],
   "source": [
    "def make_contract(symbol, sec_type, exch, prim_exch, curr):\n",
    "    \"\"\"\n",
    "    symbol - The ticker symbol for the contract\n",
    "    sec_type - The security type for the contract ('STK' is 'stock')\n",
    "    exch - The exchange to carry out the contract on\n",
    "    prim_exch - The primary exchange to carry out the contract on\n",
    "    curr - The currency in which to purchase the contract\"\"\"\n",
    "    #Contract =Contract()\n",
    "    Contract.m_symbol = symbol\n",
    "    Contract.m_secType = sec_type\n",
    "    Contract.m_exchange = exch\n",
    "    Contract.m_primaryExch = prim_exch\n",
    "    Contract.m_currency = curr\n",
    "    return Contract"
   ]
  },
  {
   "cell_type": "code",
   "execution_count": null,
   "metadata": {
    "collapsed": true
   },
   "outputs": [],
   "source": [
    "def make_order(action,quantity, price = None):\n",
    "    \"\"\"Create an Order object (Market/Limit) to go long/short.\n",
    "\n",
    "    order_type - 'MKT', 'LMT' for Market or Limit orders\n",
    "    quantity - Integral number of assets to order\n",
    "    action - 'BUY' or 'SELL'\"\"\"\n",
    "\n",
    "    if price is not None:\n",
    "        order = Order()\n",
    "        order.m_orderType = 'LMT'\n",
    "        order.m_totalQuantity = quantity\n",
    "        order.m_action = action\n",
    "        order.m_lmtPrice = price\n",
    "\n",
    "    else:\n",
    "        order = Order()\n",
    "        order.m_orderType = 'MKT'\n",
    "        order.m_totalQuantity = quantity\n",
    "        order.m_action = action\n",
    "\n",
    "\n",
    "    return order"
   ]
  },
  {
   "cell_type": "code",
   "execution_count": null,
   "metadata": {
    "collapsed": true
   },
   "outputs": [],
   "source": [
    "cid = 303"
   ]
  },
  {
   "cell_type": "code",
   "execution_count": null,
   "metadata": {
    "collapsed": false
   },
   "outputs": [],
   "source": [
    "# Main code\n",
    "#con = ibConnection()\n",
    "con = Connection.create(port=7496, clientId=123)# this also workable\n",
    "con.connect()\n",
    "con.register(my_account_handler, 'UpdateAccountValue')\n",
    "\n",
    "#con.register(my_tick_handler, message.tickSize, message.tickPrice)\n",
    "con.register(error_handler, 'Error')\n",
    "con.registerAll(all_replies_handler)\n",
    "    # Map server replies to \"print_portfolio_position\" function for \"UpdatePortfolio\" client requests\n",
    "#con.register(print_portfolio_position, 'UpdatePortfolio')\n",
    "#con.register(reply_handler, 'UpdateAccountValue')\n",
    "    # Make client request for AccountUpdates (includes request for Portfolio positions)\n",
    "\n",
    "#con.reqAccountUpdates(1, '')\n",
    "#con.reqMktData(1,Contract, '', False)"
   ]
  },
  {
   "cell_type": "code",
   "execution_count": null,
   "metadata": {
    "collapsed": false
   },
   "outputs": [],
   "source": [
    "con.enableLogging()"
   ]
  },
  {
   "cell_type": "code",
   "execution_count": null,
   "metadata": {
    "collapsed": true
   },
   "outputs": [],
   "source": [
    "#tws.reqOpenOrders()\n",
    "con.reqAllOpenOrders()"
   ]
  },
  {
   "cell_type": "code",
   "execution_count": null,
   "metadata": {
    "collapsed": false
   },
   "outputs": [],
   "source": [
    "    # Make client request for AccountUpdates (includes request for Portfolio positions)\n",
    "#con.reqAccountUpdates(1, '')\n",
    "    # Stop client request for AccountUpdates\n",
    "#con.reqAccountUpdates(0, '')"
   ]
  },
  {
   "cell_type": "code",
   "execution_count": null,
   "metadata": {
    "collapsed": false
   },
   "outputs": [],
   "source": [
    "sleep(5)\n",
    "oid = cid\n",
    "cont = make_contract('XLU', 'STK', 'SMART', 'SMART', 'USD')\n",
    "offer = make_order('BUY', 1, 50.14)\n",
    "#offer = make_order('BUY', 1,'MKT')\n",
    "con.placeOrder(oid, cont, offer)\n",
    "con.disconnect()\n",
    "#x = raw_input('enter to resend')\n",
    "cid += 1"
   ]
  },
  {
   "cell_type": "code",
   "execution_count": null,
   "metadata": {
    "collapsed": false
   },
   "outputs": [],
   "source": [
    "con.reconnect()"
   ]
  },
  {
   "cell_type": "code",
   "execution_count": null,
   "metadata": {
    "collapsed": true
   },
   "outputs": [],
   "source": [
    "# Create a contract object\n",
    "# Update the parameters to be sent to the Market Order request\n",
    "order_ticker = Contract()\n",
    "order_ticker.m_symbol = 'QQQ'\n",
    "order_ticker.m_secType = 'STK'\n",
    "order_ticker.m_exchange = 'SMART'\n",
    "order_ticker.m_primaryExch = 'SMART'\n",
    "order_ticker.m_currency = 'USD'\n",
    "order_ticker.m_localSymbol = 'QQQ'"
   ]
  },
  {
   "cell_type": "code",
   "execution_count": null,
   "metadata": {
    "collapsed": true
   },
   "outputs": [],
   "source": [
    "# Create an order object\n",
    "# Update the parameters to be sent to the Market Order request\n",
    "order_desc = Order()\n",
    "order_desc.m_minQty = 100\n",
    "order_desc.m_lmtPrice = 117.69\n",
    "order_desc.m_orderType = 'LMT'\n",
    "order_desc.m_totalQuantity = 100\n",
    "order_desc.m_action = 'SELL'"
   ]
  },
  {
   "cell_type": "code",
   "execution_count": null,
   "metadata": {
    "collapsed": false
   },
   "outputs": [],
   "source": [
    "# Send the Market Order request\n",
    "con.placeOrder(cid, order_ticker, order_desc)\n",
    "print 'disconnected',con.disconnect()\n",
    "cid +=1"
   ]
  },
  {
   "cell_type": "code",
   "execution_count": null,
   "metadata": {
    "collapsed": true
   },
   "outputs": [],
   "source": []
  },
  {
   "cell_type": "code",
   "execution_count": null,
   "metadata": {
    "collapsed": true
   },
   "outputs": [],
   "source": [
    "from ib.opt import ibConnection, message\n",
    "from ib.ext.Contract import Contract\n",
    "from time import sleep"
   ]
  },
  {
   "cell_type": "code",
   "execution_count": null,
   "metadata": {
    "collapsed": true
   },
   "outputs": [],
   "source": [
    "def my_callback_handler(msg):\n",
    "    inside_mkt_bid = ''\n",
    "    inside_mkt_ask = ''\n",
    "\n",
    "    if msg.field == 1:\n",
    "        inside_mkt_bid = msg.price\n",
    "        print 'bid', inside_mkt_bid\n",
    "    elif msg.field == 2:\n",
    "        inside_mkt_ask = msg.price\n",
    "        print 'ask', inside_mkt_ask"
   ]
  },
  {
   "cell_type": "code",
   "execution_count": null,
   "metadata": {
    "collapsed": false
   },
   "outputs": [],
   "source": [
    "tws = ibConnection()\n",
    "tws.register(my_callback_handler, message.tickSize, message.tickPrice)\n",
    "tws.connect()"
   ]
  },
  {
   "cell_type": "code",
   "execution_count": null,
   "metadata": {
    "collapsed": true
   },
   "outputs": [],
   "source": [
    "c = Contract()\n",
    "c.m_symbol = \"QQQ\"\n",
    "c.m_secType = \"STK\"\n",
    "c.m_exchange = \"SMART\"\n",
    "c.m_currency = \"USD\""
   ]
  },
  {
   "cell_type": "code",
   "execution_count": null,
   "metadata": {
    "collapsed": false
   },
   "outputs": [],
   "source": [
    "tws.reqMktData(1,c,\"\",False)\n",
    "sleep(4)"
   ]
  },
  {
   "cell_type": "code",
   "execution_count": null,
   "metadata": {
    "collapsed": false
   },
   "outputs": [],
   "source": [
    "print 'All done'\n",
    "tws.disconnect()"
   ]
  },
  {
   "cell_type": "markdown",
   "metadata": {},
   "source": [
    "ANOTHER \n",
    "\n",
    "http://stackoverflow.com/questions/30130319/ibpy-extract-api-responces-for-multiple-contracts"
   ]
  },
  {
   "cell_type": "code",
   "execution_count": null,
   "metadata": {
    "collapsed": true
   },
   "outputs": [],
   "source": [
    "from __future__ import print_function #I'm using 3.x style print\n",
    "import pandas as pd\n",
    "from ib.opt import ibConnection, message\n",
    "from ib.ext.Contract import Contract\n",
    "from ib.ext.TickType import TickType as tt\n",
    "from time import sleep"
   ]
  },
  {
   "cell_type": "code",
   "execution_count": null,
   "metadata": {
    "collapsed": false
   },
   "outputs": [],
   "source": [
    "#better to read these from a file\n",
    "contracts = pd.DataFrame([\n",
    "        ['IBM','SMART','USD'],\n",
    "        ['AAPL','SMART','USD'],\n",
    "        ['GOOG','SMART','USD'],\n",
    "        ['QQQ','SMART','USD'],\n",
    "        ['SPY','SMART','USD','201506','1000']\n",
    "])\n",
    "\n",
    "# make decent column names\n",
    "contracts.columns = ['sym','exch','curr','expiry','mult']\n",
    "#add these specific column names to match the name returned by TickType.getField()\n",
    "contracts['bidPrice'] = 0\n",
    "contracts['askPrice'] = 0\n",
    "contracts['lastPrice'] = 0"
   ]
  },
  {
   "cell_type": "code",
   "execution_count": null,
   "metadata": {
    "collapsed": true
   },
   "outputs": [],
   "source": [
    "def error_handler(msg):\n",
    "    print (msg)"
   ]
  },
  {
   "cell_type": "code",
   "execution_count": null,
   "metadata": {
    "collapsed": true
   },
   "outputs": [],
   "source": [
    "def my_callback_handler(msg):\n",
    "    if msg.field in [tt.BID,tt.ASK,tt.LAST]:\n",
    "        #now we can just store the response in the data frame\n",
    "        contracts.loc[msg.tickerId,tt.getField(msg.field)] = msg.price\n",
    "        if msg.field == tt.LAST:\n",
    "            print(contracts.loc[msg.tickerId,'sym'],msg.price)"
   ]
  },
  {
   "cell_type": "code",
   "execution_count": null,
   "metadata": {
    "collapsed": false
   },
   "outputs": [],
   "source": [
    "tws = ibConnection(clientId=1)\n",
    "tws.register(my_callback_handler, message.tickPrice, message.tickSize)\n",
    "tws.register(error_handler, 'Error')\n",
    "tws.connect()"
   ]
  },
  {
   "cell_type": "code",
   "execution_count": null,
   "metadata": {
    "collapsed": false
   },
   "outputs": [],
   "source": [
    "for index, row in contracts.iterrows():\n",
    "    c = Contract()\n",
    "    c.m_symbol = row['sym']\n",
    "    c.m_exchange = row['exch']\n",
    "    c.m_currency = row['curr']\n",
    "    c.m_secType = 'STK' if row['expiry'] is None else 'FUT'\n",
    "    c.m_expiry = row['expiry']\n",
    "    c.m_multiplier = row['mult']\n",
    "    # the tickerId is just the index in but for some reason it needs str()\n",
    "    tws.reqMktData(str(index),c,\"\",False)"
   ]
  },
  {
   "cell_type": "code",
   "execution_count": null,
   "metadata": {
    "collapsed": false
   },
   "outputs": [],
   "source": [
    "tws.disconnect()"
   ]
  },
  {
   "cell_type": "code",
   "execution_count": null,
   "metadata": {
    "collapsed": true
   },
   "outputs": [],
   "source": [
    "ANOTHER"
   ]
  },
  {
   "cell_type": "code",
   "execution_count": 1,
   "metadata": {
    "collapsed": true
   },
   "outputs": [],
   "source": [
    "from ib.ext.Contract import Contract\n",
    "from ib.opt import ibConnection, message\n",
    "from time import sleep"
   ]
  },
  {
   "cell_type": "code",
   "execution_count": 2,
   "metadata": {
    "collapsed": false
   },
   "outputs": [],
   "source": [
    "# print all messages from TWS\n",
    "def watcher(msgs):\n",
    "    print msgs"
   ]
  },
  {
   "cell_type": "code",
   "execution_count": 3,
   "metadata": {
    "collapsed": false
   },
   "outputs": [],
   "source": [
    "# show Bid and Ask quotes\n",
    "def my_BidAsk(msg):\n",
    "    if msg.field == 1:\n",
    "        print '%s:%s: bid: %s' % (contractTuple[0],\n",
    "                       contractTuple[6], msg.price)\n",
    "    elif msg.field == 2:\n",
    "        print '%s:%s: ask: %s' % (contractTuple[0], contractTuple[6], msg.price)\n",
    "\n",
    "def makeStkContract(contractTuple):\n",
    "    newContract = Contract()\n",
    "    newContract.m_symbol = contractTuple[0]\n",
    "    newContract.m_secType = contractTuple[1]\n",
    "    newContract.m_exchange = contractTuple[2]\n",
    "    newContract.m_currency = contractTuple[3]\n",
    "    newContract.m_expiry = contractTuple[4]\n",
    "    newContract.m_strike = contractTuple[5]\n",
    "    newContract.m_right = contractTuple[6]\n",
    "    print 'Contract Values:%s,%s,%s,%s,%s,%s,%s:' % contractTuple\n",
    "    return newContract"
   ]
  },
  {
   "cell_type": "code",
   "execution_count": 4,
   "metadata": {
    "collapsed": false
   },
   "outputs": [
    {
     "name": "stdout",
     "output_type": "stream",
     "text": [
      "Server Version: 76\n",
      "TWS Time at connection:20160919 18:55:02 IST\n",
      "<managedAccounts accountsList=U1329952>\n",
      "<nextValidId orderId=14648>\n",
      "<error id=-1, errorCode=2104, errorMsg=Market data farm connection is OK:usfarm.us>\n",
      "<error id=-1, errorCode=2104, errorMsg=Market data farm connection is OK:hfarm>\n",
      "<error id=-1, errorCode=2104, errorMsg=Market data farm connection is OK:cashfarm>\n",
      "<error id=-1, errorCode=2104, errorMsg=Market data farm connection is OK:usfuture>\n",
      "<error id=-1, errorCode=2104, errorMsg=Market data farm connection is OK:usbond>\n",
      "<error id=-1, errorCode=2104, errorMsg=Market data farm connection is OK:jfarm>\n",
      "<error id=-1, errorCode=2104, errorMsg=Market data farm connection is OK:eufarm>\n",
      "<error id=-1, errorCode=2104, errorMsg=Market data farm connection is OK:usopt>\n",
      "<error id=-1, errorCode=2104, errorMsg=Market data farm connection is OK:usfarm>\n",
      "<error id=-1, errorCode=2106, errorMsg=HMDS data farm connection is OK:ilhmds>\n",
      "<error id=-1, errorCode=2106, errorMsg=HMDS data farm connection is OK:euhmds>\n",
      "<error id=-1, errorCode=2106, errorMsg=HMDS data farm connection is OK:hkhmds>\n",
      "<error id=-1, errorCode=2106, errorMsg=HMDS data farm connection is OK:fundfarm>\n",
      "<error id=-1, errorCode=2106, errorMsg=HMDS data farm connection is OK:ushmds>\n",
      "Contract Values:SPY,STK,SMART,USD,,0.0,:\n",
      "* * * * REQUESTING MARKET DATA * * * *\n",
      "SPY:: bid: 214.22\n",
      "SPY:: ask: 214.25\n",
      "<tickGeneric tickerId=1, tickType=49, value=0.0>\n",
      "<tickGeneric tickerId=1, tickType=49, value=0.0>\n",
      "SPY:: bid: 214.23\n",
      "* * * * CANCELING MARKET DATA * * * *\n"
     ]
    }
   ],
   "source": [
    "%run ibpy_marketdata.py"
   ]
  },
  {
   "cell_type": "code",
   "execution_count": 5,
   "metadata": {
    "collapsed": false
   },
   "outputs": [
    {
     "name": "stdout",
     "output_type": "stream",
     "text": [
      "Server Version: 76\n",
      "TWS Time at connection:20160919 18:55:20 IST\n",
      "\n",
      "Seen Message Types (count):\n",
      "    AccountDownloadEnd (1)\n",
      "    AccountSummary (2)\n",
      "    AccountSummaryEnd (1)\n",
      "    ContractDetails (1)\n",
      "    ContractDetailsEnd (1)\n",
      "    CurrentTime (1)\n",
      "    Error (22)\n",
      "    ExecDetailsEnd (2)\n",
      "    ManagedAccounts (2)\n",
      "    NextValidId (2)\n",
      "    OpenOrderEnd (2)\n",
      "    Position (4)\n",
      "    PositionEnd (1)\n",
      "    RealtimeBar (1)\n",
      "    ScannerParameters (1)\n",
      "    TickPrice (8)\n",
      "    TickSize (9)\n",
      "    TickString (1)\n",
      "    UpdateAccountTime (7)\n",
      "    UpdateAccountValue (127)\n",
      "    UpdatePortfolio (4)\n",
      "\n",
      "Unseen Message Types (help):\n",
      "    BondContractDetails\n",
      "    CommissionReport\n",
      "    ConnectionClosed (may work if TWS is closed during script)\n",
      "    DeltaNeutralValidation\n",
      "    ExecDetails\n",
      "    FundamentalData\n",
      "    HistoricalData\n",
      "    MarketDataType\n",
      "    OpenOrder (only works with existing order(s) before connecting)\n",
      "    OrderStatus\n",
      "    ReceiveFA (does not work with edemo account)\n",
      "    ScannerData\n",
      "    ScannerDataEnd\n",
      "    TickEFP\n",
      "    TickGeneric\n",
      "    TickOptionComputation\n",
      "    TickSnapshotEnd\n",
      "    UpdateMktDepth\n",
      "    UpdateMktDepthL2\n",
      "    UpdateNewsBulletin (news bulletins may not be available)\n",
      "\n",
      "Summary:\n",
      "   total:41  seen:21  unseen:20  coverage:51.22%\n"
     ]
    }
   ],
   "source": [
    "%run api_coverage.py"
   ]
  },
  {
   "cell_type": "code",
   "execution_count": null,
   "metadata": {
    "collapsed": true
   },
   "outputs": [],
   "source": []
  }
 ],
 "metadata": {
  "kernelspec": {
   "display_name": "Python 2",
   "language": "python",
   "name": "python2"
  },
  "language_info": {
   "codemirror_mode": {
    "name": "ipython",
    "version": 2
   },
   "file_extension": ".py",
   "mimetype": "text/x-python",
   "name": "python",
   "nbconvert_exporter": "python",
   "pygments_lexer": "ipython2",
   "version": "2.7.11"
  }
 },
 "nbformat": 4,
 "nbformat_minor": 0
}
