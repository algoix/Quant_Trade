{
 "cells": [
  {
   "cell_type": "code",
   "execution_count": 1,
   "metadata": {
    "collapsed": true
   },
   "outputs": [],
   "source": [
    "import numpy as np\n",
    "import pandas as pd\n",
    "import warnings; warnings.simplefilter('ignore')"
   ]
  },
  {
   "cell_type": "code",
   "execution_count": 2,
   "metadata": {
    "collapsed": true
   },
   "outputs": [],
   "source": [
    "# plotting\n",
    "import matplotlib.pyplot as plt\n",
    "import seaborn as sns; sns.set()\n",
    "%matplotlib inline"
   ]
  },
  {
   "cell_type": "code",
   "execution_count": 3,
   "metadata": {
    "collapsed": true
   },
   "outputs": [],
   "source": [
    "import pandas.io.data as web\n",
    "#from pandas_datareader import data as web\n",
    "import pandas_datareader as pdr"
   ]
  },
  {
   "cell_type": "code",
   "execution_count": 4,
   "metadata": {
    "collapsed": false
   },
   "outputs": [
    {
     "name": "stdout",
     "output_type": "stream",
     "text": [
      "<class 'pandas.core.frame.DataFrame'>\n",
      "DatetimeIndex: 1925 entries, 2008-01-01 to 2016-07-15\n",
      "Data columns (total 6 columns):\n",
      "Open         1925 non-null float64\n",
      "High         1925 non-null float64\n",
      "Low          1925 non-null float64\n",
      "Close        1925 non-null float64\n",
      "Volume       1925 non-null int64\n",
      "Adj Close    1925 non-null float64\n",
      "dtypes: float64(5), int64(1)\n",
      "memory usage: 105.3 KB\n"
     ]
    }
   ],
   "source": [
    "#pdr.get_data_yahoo('NIFTYBEES.NS')\n",
    "NB = web.DataReader(name='NIFTYBEES.NS', data_source='yahoo',start='2008-1-1')\n",
    "NB.info()"
   ]
  },
  {
   "cell_type": "code",
   "execution_count": 5,
   "metadata": {
    "collapsed": false
   },
   "outputs": [
    {
     "name": "stdout",
     "output_type": "stream",
     "text": [
      "<class 'pandas.core.frame.DataFrame'>\n",
      "DatetimeIndex: 2150 entries, 2008-01-02 to 2016-07-15\n",
      "Data columns (total 6 columns):\n",
      "Open         2150 non-null float64\n",
      "High         2150 non-null float64\n",
      "Low          2150 non-null float64\n",
      "Close        2150 non-null float64\n",
      "Volume       2150 non-null int64\n",
      "Adj Close    2150 non-null float64\n",
      "dtypes: float64(5), int64(1)\n",
      "memory usage: 117.6 KB\n"
     ]
    }
   ],
   "source": [
    "#Assumption: last day's US market close has impact on NIFTY\n",
    "SPY = web.DataReader(name='SPY', data_source='yahoo',start='2008-1-1')\n",
    "SPY.info()"
   ]
  },
  {
   "cell_type": "code",
   "execution_count": 6,
   "metadata": {
    "collapsed": true
   },
   "outputs": [],
   "source": [
    "NB['Change_'] = np.sign(np.log(NB['Open'] /NB['Close'].shift(1)))\n",
    "NB['Change'] = np.log(NB['Open'] /NB['Close'].shift(1))\n",
    "#NB['Return'] = np.log(NB['Close'] /NB['Close'].shift(1))"
   ]
  },
  {
   "cell_type": "code",
   "execution_count": 9,
   "metadata": {
    "collapsed": true
   },
   "outputs": [],
   "source": [
    "SPY['US_Mkt']= np.where(SPY['Close']>SPY['Close'].shift(1),1,np.where(SPY['Close']<SPY['Close'].shift(1),-1,0))\n",
    "NB['US_Mkt']=SPY['US_Mkt'].shift(1)"
   ]
  },
  {
   "cell_type": "code",
   "execution_count": 8,
   "metadata": {
    "collapsed": true
   },
   "outputs": [],
   "source": [
    "NB['Volume']=NB['Volume']/pd.rolling_mean(NB['Volume'],10)"
   ]
  },
  {
   "cell_type": "code",
   "execution_count": 10,
   "metadata": {
    "collapsed": true
   },
   "outputs": [],
   "source": [
    "NB['Volatility']=NB['Close'].apply(lambda x: np.log(x))/pd.rolling_std(NB['Close'],21)"
   ]
  },
  {
   "cell_type": "code",
   "execution_count": 11,
   "metadata": {
    "collapsed": true
   },
   "outputs": [],
   "source": [
    "flagD=np.logical_and(np.logical_and(NB['Open'].shift(2)<NB['Close'].shift(3),NB['Open'].shift(1)< NB['Close'].shift(2)),NB['Open']< NB['Close'].shift(1))\n",
    "flagU=np.logical_and(np.logical_and(NB['Open'].shift(2)>NB['Close'].shift(3),NB['Open'].shift(1)> NB['Close'].shift(2)),NB['Open']> NB['Close'].shift(1))"
   ]
  },
  {
   "cell_type": "code",
   "execution_count": 12,
   "metadata": {
    "collapsed": true
   },
   "outputs": [],
   "source": [
    "NB['3UD']= np.where(flagU,-1,np.where(flagD,1,0))"
   ]
  },
  {
   "cell_type": "code",
   "execution_count": 13,
   "metadata": {
    "collapsed": true
   },
   "outputs": [],
   "source": [
    "import TA# self made python file at PyCON16 folder for TA\n",
    "#https://mrjbq7.github.io/ta-lib/func.html\n",
    "import talib"
   ]
  },
  {
   "cell_type": "code",
   "execution_count": 14,
   "metadata": {
    "collapsed": true
   },
   "outputs": [],
   "source": [
    "#Calculating momentum of the close prices, with a time period of 5:\n",
    "NB['momentum_'] = np.where(talib.MOM(np.asarray(NB['Close']), timeperiod=14)>50,1,np.where(talib.MOM(np.asarray(NB['Close']), timeperiod=14)<-50,-1,0))\n",
    "NB['momentum'] = talib.MOM(np.asarray(NB['Close']), timeperiod=5)"
   ]
  },
  {
   "cell_type": "code",
   "execution_count": 15,
   "metadata": {
    "collapsed": true
   },
   "outputs": [],
   "source": [
    "NB['RSI_'] = np.where(talib.RSI(np.asarray(NB['Close']), timeperiod=14)>60,1,np.where(talib.RSI(np.asarray(NB['Close']), timeperiod=14)<45,-1,0))\n",
    "NB['RSI'] = talib.RSI(np.asarray(NB['Close']), timeperiod=14)"
   ]
  },
  {
   "cell_type": "code",
   "execution_count": 16,
   "metadata": {
    "collapsed": true
   },
   "outputs": [],
   "source": [
    "  # reads data from Google Finance\n",
    "NB['14d'] = pd.rolling_mean(NB['Close'], 14)\n",
    "NB['42d'] = pd.rolling_mean(NB['Close'], 42)\n",
    "  # 42d and 252d trends\n",
    "NB['Cross']=np.where(NB['14d']>NB['42d'], 1,np.where(NB['14d']<NB['42d'],-1,0))"
   ]
  },
  {
   "cell_type": "code",
   "execution_count": 17,
   "metadata": {
    "collapsed": true
   },
   "outputs": [],
   "source": [
    "NB['BS2']=np.where(np.logical_and(np.logical_and(NB['momentum_']==1,NB['RSI_']==1),NB['Cross']==1),-1,np.where(np.logical_and(np.logical_and(NB['momentum_']==-1,NB['RSI_']==-1),NB['Cross']==-1),1,0))"
   ]
  }
 ],
 "metadata": {
  "kernelspec": {
   "display_name": "Python 2",
   "language": "python",
   "name": "python2"
  },
  "language_info": {
   "codemirror_mode": {
    "name": "ipython",
    "version": 2
   },
   "file_extension": ".py",
   "mimetype": "text/x-python",
   "name": "python",
   "nbconvert_exporter": "python",
   "pygments_lexer": "ipython2",
   "version": "2.7.11"
  }
 },
 "nbformat": 4,
 "nbformat_minor": 0
}
