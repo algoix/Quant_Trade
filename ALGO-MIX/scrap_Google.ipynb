{
 "cells": [
  {
   "cell_type": "markdown",
   "metadata": {},
   "source": [
    "https://pypi.python.org/pypi/googlefinance/0.4"
   ]
  },
  {
   "cell_type": "markdown",
   "metadata": {},
   "source": [
    "Installation $pip install googlefinance"
   ]
  },
  {
   "cell_type": "code",
   "execution_count": null,
   "metadata": {
    "collapsed": false
   },
   "outputs": [],
   "source": [
    "from googlefinance import getQuotes\n",
    "import json"
   ]
  },
  {
   "cell_type": "code",
   "execution_count": null,
   "metadata": {
    "collapsed": false
   },
   "outputs": [],
   "source": [
    "#print json.dumps(getQuotes('AAPL'), indent=2)\n",
    "print json.dumps(getQuotes(['AAPL', 'GOOG']), indent=2)"
   ]
  },
  {
   "cell_type": "code",
   "execution_count": null,
   "metadata": {
    "collapsed": true
   },
   "outputs": [],
   "source": [
    "import urllib\n",
    "import re\n",
    "\n",
    "def get_quote(symbol):\n",
    "    base_url = 'http://finance.google.com/finance?q='\n",
    "    content = urllib.urlopen(base_url + symbol).read()\n",
    "    m = re.search('id=\"ref_(.*?)\">(.*?)<', content)\n",
    "    if m:\n",
    "        quote = m.group(2)\n",
    "    else:\n",
    "        quote = 'no quote available for: ' + symbol\n",
    "    return quote"
   ]
  },
  {
   "cell_type": "code",
   "execution_count": null,
   "metadata": {
    "collapsed": false
   },
   "outputs": [],
   "source": [
    "get_quote('AAPL')"
   ]
  },
  {
   "cell_type": "code",
   "execution_count": null,
   "metadata": {
    "collapsed": true
   },
   "outputs": [],
   "source": [
    "import urllib\n",
    "try:\n",
    "    from html.parser import HTMLParser\n",
    "except:\n",
    "    from HTMLParser import HTMLParser\n",
    "\n",
    "class QuoteData:\n",
    "    pass\n",
    "\n",
    "class GoogleFinanceParser(HTMLParser):\n",
    "    def __init__(self):\n",
    "        HTMLParser.__init__(self)\n",
    "        self.quote = QuoteData()\n",
    "        self.quote.price = -1\n",
    "\n",
    "    def handle_starttag(self, tag, attrs):\n",
    "        if tag == \"meta\":\n",
    "            last_itemprop = \"\"\n",
    "            for attr, value in attrs:\n",
    "                if attr == \"itemprop\":\n",
    "                    last_itemprop = value\n",
    "\n",
    "                if attr == \"content\" and last_itemprop == \"name\":\n",
    "                    self.quote.name = value\n",
    "                if attr == \"content\" and last_itemprop == \"price\":\n",
    "                    self.quote.price = value\n",
    "                if attr == \"content\" and last_itemprop == \"priceCurrency\":\n",
    "                    self.quote.priceCurrency = value\n",
    "                if attr == \"content\" and last_itemprop == \"priceChange\":\n",
    "                    self.quote.priceChange = value\n",
    "                if attr == \"content\" and last_itemprop == \"priceChangePercent\":\n",
    "                    self.quote.priceChangePercent = value\n",
    "                if attr == \"content\" and last_itemprop == \"quoteTime\":\n",
    "                    self.quote.quoteTime = value\n",
    "                if attr == \"content\" and last_itemprop == \"exchange\":\n",
    "                    self.quote.exchange = value\n",
    "                if attr == \"content\" and last_itemprop == \"exchangeTimezone\":\n",
    "                    self.quote.exchangeTimezone = value\n",
    "\n",
    "\n",
    "def getquote(symbol):\n",
    "    url = \"http://finance.google.com/finance?q=%s\" % symbol\n",
    "    content = urllib.urlopen(url).read()\n",
    "\n",
    "    gfp = GoogleFinanceParser()\n",
    "    gfp.feed(content)\n",
    "    return gfp.quote;\n"
   ]
  },
  {
   "cell_type": "code",
   "execution_count": null,
   "metadata": {
    "collapsed": false
   },
   "outputs": [],
   "source": [
    "quote = getquote('CSCO')\n",
    "print quote.name, quote.price"
   ]
  },
  {
   "cell_type": "markdown",
   "metadata": {},
   "source": [
    "ANOTHER"
   ]
  },
  {
   "cell_type": "code",
   "execution_count": null,
   "metadata": {
    "collapsed": true
   },
   "outputs": [],
   "source": [
    "import pandas as pd\n",
    "import numpy as np\n",
    "import urllib2\n",
    "import datetime as dt\n",
    "import matplotlib.pyplot as plt"
   ]
  },
  {
   "cell_type": "code",
   "execution_count": null,
   "metadata": {
    "collapsed": true
   },
   "outputs": [],
   "source": [
    "def get_google_data(symbol, period, window):\n",
    "    url_root = 'http://www.google.com/finance/getprices?i='\n",
    "    url_root += str(period) + '&p=' + str(window)\n",
    "    url_root += 'd&f=d,o,h,l,c,v&df=cpct&q=' + symbol\n",
    "    response = urllib2.urlopen(url_root)\n",
    "    data = response.read().split('\\n')\n",
    "    #actual data starts at index = 7\n",
    "    #first line contains full timestamp,\n",
    "    #every other line is offset of period from timestamp\n",
    "    parsed_data = []\n",
    "    anchor_stamp = ''\n",
    "    end = len(data)\n",
    "    for i in range(7, end):\n",
    "        cdata = data[i].split(',')\n",
    "        if 'a' in cdata[0]:\n",
    "            #first one record anchor timestamp\n",
    "            anchor_stamp = cdata[0].replace('a', '')\n",
    "            cts = int(anchor_stamp)\n",
    "        else:\n",
    "            try:\n",
    "                coffset = int(cdata[0])\n",
    "                cts = int(anchor_stamp) + (coffset * period)\n",
    "                parsed_data.append((dt.datetime.fromtimestamp(float(cts)), float(cdata[1]), float(cdata[2]), float(cdata[3]), float(cdata[4]), float(cdata[5])))\n",
    "            except:\n",
    "                pass # for time zone offsets thrown into data\n",
    "    df = pd.DataFrame(parsed_data)\n",
    "    df.columns = ['ts', 'o', 'h', 'l', 'c', 'v']\n",
    "    df.index = df.ts\n",
    "    del df['ts']\n",
    "    return df"
   ]
  },
  {
   "cell_type": "code",
   "execution_count": null,
   "metadata": {
    "collapsed": false
   },
   "outputs": [],
   "source": [
    "spy = get_google_data('SPY', 300, 10)"
   ]
  },
  {
   "cell_type": "code",
   "execution_count": null,
   "metadata": {
    "collapsed": false
   },
   "outputs": [],
   "source": [
    "spy.tail()"
   ]
  },
  {
   "cell_type": "code",
   "execution_count": null,
   "metadata": {
    "collapsed": true
   },
   "outputs": [],
   "source": [
    "def get_spread(base, hedge, ratio, period, window):\n",
    "    b = get_google_data(base, period, window)\n",
    "    h = get_google_data(hedge, period, window)\n",
    "    combo = pd.merge(pd.DataFrame(b.c), pd.DataFrame(h.c), left_index = True, right_index = True, how = 'outer')\n",
    "    combo = combo.fillna(method = 'ffill')\n",
    "    combo['spread'] = combo.ix[:,0] + ratio * combo.ix[:,1]\n",
    "    return(combo)"
   ]
  },
  {
   "cell_type": "code",
   "execution_count": null,
   "metadata": {
    "collapsed": false
   },
   "outputs": [],
   "source": [
    "sprd = get_spread(\"SSYS\", \"DDD\", -2.0, 60, 15)"
   ]
  },
  {
   "cell_type": "code",
   "execution_count": null,
   "metadata": {
    "collapsed": false
   },
   "outputs": [],
   "source": [
    "sprd.plot()\n",
    "plt.show()"
   ]
  },
  {
   "cell_type": "markdown",
   "metadata": {},
   "source": [
    "ANOTHER\n",
    "\n",
    "http://www.quantatrisk.com/2014/01/14/hacking-google-finance-in-real-time-for-algorithmic-traders/"
   ]
  },
  {
   "cell_type": "code",
   "execution_count": null,
   "metadata": {
    "collapsed": true
   },
   "outputs": [],
   "source": [
    "import urllib, time, os, re, csv\n",
    " \n",
    "def fetchGF(googleticker):\n",
    "    url=\"http://www.google.com/finance?&q=\"\n",
    "    txt=urllib.urlopen(url+googleticker).read()\n",
    "    k=re.search('id=\"ref_(.*?)\">(.*?)<',txt)\n",
    "    if k:\n",
    "        tmp=k.group(2)\n",
    "        q=tmp.replace(',','')\n",
    "    else:\n",
    "        q=\"Nothing found for: \"+googleticker\n",
    "    return q"
   ]
  },
  {
   "cell_type": "code",
   "execution_count": null,
   "metadata": {
    "collapsed": false
   },
   "outputs": [],
   "source": [
    "# display time corresponding to my location\n",
    "print(time.ctime())\n",
    "print\n",
    " \n",
    "# Set local time zone to NYC\n",
    "os.environ['TZ']='America/New_York'\n",
    "time.tzset()\n",
    "t=time.localtime() # string\n",
    "print(time.ctime())\n",
    "print"
   ]
  },
  {
   "cell_type": "code",
   "execution_count": null,
   "metadata": {
    "collapsed": true
   },
   "outputs": [],
   "source": [
    "def combine(ticker):\n",
    "    quote=fetchGF(ticker) # use the core-engine function\n",
    "    t=time.localtime()    # grasp the moment of time\n",
    "    output=[t.tm_year,t.tm_mon,t.tm_mday,t.tm_hour,  # build a list\n",
    "            t.tm_min,t.tm_sec,ticker,quote]\n",
    "    return output"
   ]
  },
  {
   "cell_type": "code",
   "execution_count": null,
   "metadata": {
    "collapsed": true
   },
   "outputs": [],
   "source": [
    "ticker=\"NYSEARCA:SPY\""
   ]
  },
  {
   "cell_type": "code",
   "execution_count": null,
   "metadata": {
    "collapsed": false
   },
   "outputs": [],
   "source": [
    "# define file name of the output record\n",
    "fname=\"/home/octo/Desktop/PROJECT/DATA/google/spy.dat\"\n",
    "# remove a file, if exist\n",
    "os.path.exists(fname) and os.remove(fname)"
   ]
  },
  {
   "cell_type": "code",
   "execution_count": null,
   "metadata": {
    "collapsed": true
   },
   "outputs": [],
   "source": [
    "freq=600 # fetch data every 600 sec (10 min)"
   ]
  },
  {
   "cell_type": "code",
   "execution_count": null,
   "metadata": {
    "collapsed": false
   },
   "outputs": [],
   "source": [
    "with open(fname,'a') as f:\n",
    "    writer=csv.writer(f,dialect=\"excel\") #,delimiter=\" \")\n",
    "    while(t.tm_hour<=16):\n",
    "        if(t.tm_hour==16):\n",
    "            while(t.tm_min<01):\n",
    "                data=combine(ticker)\n",
    "                print(data)\n",
    "                writer.writerow(data) # save data in the file\n",
    "                time.sleep(freq)\n",
    "            else:\n",
    "                break\n",
    "        else:\n",
    "            for ticker in tickers:\n",
    "                data=combine(ticker)\n",
    "                print(data)\n",
    "                writer.writerow(data) # save data in the file\n",
    "            time.sleep(freq)\n",
    "f.close()        "
   ]
  },
  {
   "cell_type": "code",
   "execution_count": null,
   "metadata": {
    "collapsed": false
   },
   "outputs": [],
   "source": [
    "tickers=[\"NASDAQ:AAPL\",\"NASDAQ:GOOG\",\"NASDAQ:BIDU\",\"NYSE:IBM\", \\\n",
    "         \"NASDAQ:INTC\",\"NASDAQ:MSFT\",\"NYSEARCA:SPY\"]\n",
    " \n",
    "# define the name of an output file\n",
    "fname=\"/home/octo/Desktop/PROJECT/DATA/google/portfolio.dat\"\n",
    "# remove a file, if exist\n",
    "os.path.exists(fname) and os.remove(fname)\n",
    " \n",
    "freq=60 # fetch data every 600 sec (10 min)\n",
    " \n",
    "with open(fname,'a') as f:\n",
    "    writer=csv.writer(f,dialect=\"excel\") #,delimiter=\" \")\n",
    "    while(t.tm_hour<=16):\n",
    "        if(t.tm_hour==16):\n",
    "            while(t.tm_min<01):\n",
    "                #for ticker in tickers:\n",
    "                    data=combine(ticker)\n",
    "                    print(data)\n",
    "                    writer.writerow(data)\n",
    "                    time.sleep(freq)\n",
    "            else:\n",
    "                break\n",
    "        else:\n",
    "            for ticker in tickers:\n",
    "                data=combine(ticker)\n",
    "                print(data)\n",
    "                writer.writerow(data)\n",
    "                time.sleep(freq)\n",
    " \n",
    "f.close()"
   ]
  },
  {
   "cell_type": "markdown",
   "metadata": {},
   "source": [
    "PREMARKET\n",
    "http://www.quantatrisk.com/2015/05/07/hacking-google-finance-in-pre-market-trading-python/"
   ]
  },
  {
   "cell_type": "code",
   "execution_count": null,
   "metadata": {
    "collapsed": false
   },
   "outputs": [],
   "source": [
    "import urllib2  # works fine with Python 2.7.9 (not 3.4.+)\n",
    "import json\n",
    "import time\n",
    " \n",
    "def fetchPreMarket(symbol, exchange):\n",
    "    link = \"http://finance.google.com/finance/info?client=ig&q=\"\n",
    "    url = link+\"%s:%s\" % (exchange, symbol)\n",
    "    u = urllib2.urlopen(url)\n",
    "    content = u.read()\n",
    "    data = json.loads(content[3:])\n",
    "    info = data[0]\n",
    "    t = str(info[\"elt\"])    # time stamp\n",
    "    l = float(info[\"l\"])    # close price (previous trading day)\n",
    "    p = float(info[\"el\"])   # stock price in pre-market (after-hours)\n",
    "    return (t,l,p)\n",
    " \n",
    " \n",
    "p0 = 0\n",
    "while True:\n",
    "    t, l, p = fetchPreMarket(\"SPY\",\"NYSEARCA\")\n",
    "    if(p!=p0):\n",
    "        p0 = p\n",
    "        print(\"%s\\t%.2f\\t%.2f\\t%+.2f\\t%+.2f%%\" % (t, l, p, p-l,\n",
    "                                                 (p/l-1)*100.))\n",
    "    time.sleep(60)"
   ]
  },
  {
   "cell_type": "markdown",
   "metadata": {},
   "source": [
    "IMPORTANT LINKS\n",
    "\n",
    "http://www.networkerror.org/component/content/article/1-technical-wootness/44-googles-undocumented-finance-api.html\n",
    "\n",
    "http://docs.python-requests.org/en/latest/\n",
    "\n",
    "https://github.com/reclosedev/requests-cache\n",
    "\n",
    "https://github.com/keevee09/hacking-google-finance-in-real-time"
   ]
  }
 ],
 "metadata": {
  "kernelspec": {
   "display_name": "Python 2",
   "language": "python",
   "name": "python2"
  },
  "language_info": {
   "codemirror_mode": {
    "name": "ipython",
    "version": 2
   },
   "file_extension": ".py",
   "mimetype": "text/x-python",
   "name": "python",
   "nbconvert_exporter": "python",
   "pygments_lexer": "ipython2",
   "version": "2.7.11"
  }
 },
 "nbformat": 4,
 "nbformat_minor": 0
}
