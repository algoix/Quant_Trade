{
 "cells": [
  {
   "cell_type": "code",
   "execution_count": 1,
   "metadata": {
    "collapsed": true
   },
   "outputs": [],
   "source": [
    "import numpy as np\n",
    "import pandas as pd\n",
    "import warnings; warnings.simplefilter('ignore')"
   ]
  },
  {
   "cell_type": "code",
   "execution_count": 2,
   "metadata": {
    "collapsed": true
   },
   "outputs": [],
   "source": [
    "# plotting\n",
    "import matplotlib.pyplot as plt\n",
    "import seaborn as sns; sns.set()\n",
    "%matplotlib inline"
   ]
  },
  {
   "cell_type": "code",
   "execution_count": 3,
   "metadata": {
    "collapsed": true
   },
   "outputs": [],
   "source": [
    "import pandas.io.data as web\n",
    "#from pandas_datareader import data as web\n",
    "import pandas_datareader as pdr"
   ]
  },
  {
   "cell_type": "code",
   "execution_count": 4,
   "metadata": {},
   "outputs": [
    {
     "name": "stdout",
     "output_type": "stream",
     "text": [
      "<class 'pandas.core.frame.DataFrame'>\n",
      "DatetimeIndex: 1925 entries, 2008-01-01 to 2016-07-15\n",
      "Data columns (total 6 columns):\n",
      "Open         1925 non-null float64\n",
      "High         1925 non-null float64\n",
      "Low          1925 non-null float64\n",
      "Close        1925 non-null float64\n",
      "Volume       1925 non-null int64\n",
      "Adj Close    1925 non-null float64\n",
      "dtypes: float64(5), int64(1)\n",
      "memory usage: 105.3 KB\n"
     ]
    }
   ],
   "source": [
    "#pdr.get_data_yahoo('NIFTYBEES.NS')\n",
    "NB = web.DataReader(name='NIFTYBEES.NS', data_source='yahoo',start='2008-1-1')\n",
    "NB.info()"
   ]
  },
  {
   "cell_type": "code",
   "execution_count": 5,
   "metadata": {},
   "outputs": [
    {
     "name": "stdout",
     "output_type": "stream",
     "text": [
      "<class 'pandas.core.frame.DataFrame'>\n",
      "DatetimeIndex: 2150 entries, 2008-01-02 to 2016-07-15\n",
      "Data columns (total 6 columns):\n",
      "Open         2150 non-null float64\n",
      "High         2150 non-null float64\n",
      "Low          2150 non-null float64\n",
      "Close        2150 non-null float64\n",
      "Volume       2150 non-null int64\n",
      "Adj Close    2150 non-null float64\n",
      "dtypes: float64(5), int64(1)\n",
      "memory usage: 117.6 KB\n"
     ]
    }
   ],
   "source": [
    "#Assumption: last day's US market close has impact on NIFTY\n",
    "SPY = web.DataReader(name='SPY', data_source='yahoo',start='2008-1-1')\n",
    "SPY.info()"
   ]
  },
  {
   "cell_type": "code",
   "execution_count": 92,
   "metadata": {
    "collapsed": true
   },
   "outputs": [],
   "source": [
    "#NB['Change'] = np.sign(np.log(NB['Open'] /NB['Close'].shift(1)))\n",
    "NB['Change'] = np.log(NB['Open'] /NB['Close'].shift(1))"
   ]
  },
  {
   "cell_type": "code",
   "execution_count": 6,
   "metadata": {
    "collapsed": true
   },
   "outputs": [],
   "source": [
    "NB['Open Change']= np.where(NB['Open']>NB['Close'].shift(1),1,np.where(NB['Open']<NB['Close'].shift(1),-1,0))"
   ]
  },
  {
   "cell_type": "code",
   "execution_count": 7,
   "metadata": {},
   "outputs": [],
   "source": [
    "SPY['US_Mkt']= np.where(SPY['Close']>SPY['Close'].shift(1),1,np.where(SPY['Close']<SPY['Close'].shift(1),-1,0))"
   ]
  },
  {
   "cell_type": "code",
   "execution_count": 8,
   "metadata": {
    "collapsed": true
   },
   "outputs": [],
   "source": [
    "NB['Volume']=NB['Volume']/pd.rolling_mean(NB['Volume'],10)"
   ]
  },
  {
   "cell_type": "code",
   "execution_count": 9,
   "metadata": {
    "collapsed": true
   },
   "outputs": [],
   "source": [
    "NB['US_Mkt']=SPY['US_Mkt'].shift(1)"
   ]
  },
  {
   "cell_type": "code",
   "execution_count": 12,
   "metadata": {
    "collapsed": true
   },
   "outputs": [],
   "source": [
    "NB['Volatility']=NB['Close'].apply(lambda x: np.log(x))/pd.rolling_std(NB['Close'],21)"
   ]
  },
  {
   "cell_type": "code",
   "execution_count": 11,
   "metadata": {
    "collapsed": true
   },
   "outputs": [],
   "source": [
    "flagD=np.logical_and(np.logical_and(NB['Open'].shift(2)<NB['Close'].shift(3),NB['Open'].shift(1)< NB['Close'].shift(2)),NB['Open']< NB['Close'].shift(1))\n",
    "flagU=np.logical_and(np.logical_and(NB['Open'].shift(2)>NB['Close'].shift(3),NB['Open'].shift(1)> NB['Close'].shift(2)),NB['Open']> NB['Close'].shift(1))"
   ]
  },
  {
   "cell_type": "code",
   "execution_count": 13,
   "metadata": {
    "collapsed": true
   },
   "outputs": [],
   "source": [
    "NB['3UD']= np.where(flagU,-1,np.where(flagD,1,0))"
   ]
  },
  {
   "cell_type": "code",
   "execution_count": 14,
   "metadata": {
    "collapsed": true
   },
   "outputs": [],
   "source": [
    "import TA# self made python file at PyCON16 folder for TA\n",
    "#https://mrjbq7.github.io/ta-lib/func.html\n",
    "import talib"
   ]
  },
  {
   "cell_type": "code",
   "execution_count": 36,
   "metadata": {
    "collapsed": true
   },
   "outputs": [],
   "source": [
    "#Calculating momentum of the close prices, with a time period of 5:\n",
    "NB['momentum_'] = np.where(talib.MOM(np.asarray(NB['Close']), timeperiod=14)>50,1,np.where(talib.MOM(np.asarray(NB['Close']), timeperiod=14)<-50,-1,0))\n",
    "NB['momentum'] = talib.MOM(np.asarray(NB['Close']), timeperiod=5)"
   ]
  },
  {
   "cell_type": "code",
   "execution_count": 35,
   "metadata": {
    "collapsed": true
   },
   "outputs": [],
   "source": [
    "NB['RSI_'] = np.where(talib.RSI(np.asarray(NB['Close']), timeperiod=14)>60,1,np.where(talib.RSI(np.asarray(NB['Close']), timeperiod=14)<45,-1,0))\n",
    "NB['RSI'] = talib.RSI(np.asarray(NB['Close']), timeperiod=14)"
   ]
  },
  {
   "cell_type": "code",
   "execution_count": 18,
   "metadata": {
    "collapsed": true
   },
   "outputs": [],
   "source": [
    "  # reads data from Google Finance\n",
    "NB['14d'] = pd.rolling_mean(NB['Close'], 14)\n",
    "NB['42d'] = pd.rolling_mean(NB['Close'], 42)\n",
    "  # 42d and 252d trends\n",
    "NB['Cross']=np.where(NB['14d']>NB['42d'], 1,np.where(NB['14d']<NB['42d'],-1,0))"
   ]
  },
  {
   "cell_type": "code",
   "execution_count": 37,
   "metadata": {
    "collapsed": true
   },
   "outputs": [],
   "source": [
    "NB['BS2']=np.where(np.logical_and(np.logical_and(NB['momentum_']==1,NB['RSI_']==1),NB['Cross']==1),-1,np.where(np.logical_and(np.logical_and(NB['momentum_']==-1,NB['RSI_']==-1),NB['Cross']==-1),1,0))"
   ]
  },
  {
   "cell_type": "code",
   "execution_count": 38,
   "metadata": {
    "collapsed": true
   },
   "outputs": [],
   "source": [
    "NB=NB.dropna()"
   ]
  },
  {
   "cell_type": "code",
   "execution_count": 93,
   "metadata": {},
   "outputs": [
    {
     "name": "stdout",
     "output_type": "stream",
     "text": [
      "            Open   High     Low   Close    Volume  Adj Close  Open Change  \\\n",
      "Date                                                                        \n",
      "2008-03-19   471  481.0  462.10  463.22  0.541796     454.57            1   \n",
      "2008-03-24   461  472.0  454.95  463.28  2.290142     454.63           -1   \n",
      "2008-03-25   473  493.0  473.00  490.17  1.084630     481.02            1   \n",
      "2008-03-26   492  494.0  486.05  489.15  0.588848     480.02            1   \n",
      "2008-03-27   487  491.7  483.00  488.27  0.641767     479.16           -1   \n",
      "\n",
      "            US_Mkt  Volatility  3UD  momentum        RSI         14d  \\\n",
      "Date                                                                   \n",
      "2008-03-19       1    0.236933    0    -31.03  24.415525  489.195714   \n",
      "2008-03-24       1    0.235345    0     -7.67  24.452459  484.429286   \n",
      "2008-03-25       1    0.244263    0     11.59  38.869415  482.062857   \n",
      "2008-03-26       1    0.251964    0     30.53  38.568750  480.787857   \n",
      "2008-03-27      -1    0.259302    0     26.76  38.293538  480.195714   \n",
      "\n",
      "                   42d  Cross  BS2  momentum_  RSI_    Change  \n",
      "Date                                                           \n",
      "2008-03-19  513.050476     -1    1         -1    -1       NaN  \n",
      "2008-03-24  511.333571     -1    1         -1    -1 -0.004804  \n",
      "2008-03-25  511.204286     -1    0          0    -1  0.020764  \n",
      "2008-03-26  510.429048     -1    0          0    -1  0.003726  \n",
      "2008-03-27  509.925000     -1    0          0    -1 -0.004405  \n"
     ]
    }
   ],
   "source": [
    "print(NB.head())"
   ]
  },
  {
   "cell_type": "code",
   "execution_count": 43,
   "metadata": {},
   "outputs": [],
   "source": [
    "#X=NB[['Volume','US_Mkt','Volatility','3UD','momentum','RSI','Cross','BS2']]\n",
    "X=NB[['Volume','Volatility','momentum','RSI']]"
   ]
  },
  {
   "cell_type": "code",
   "execution_count": 27,
   "metadata": {},
   "outputs": [],
   "source": [
    "#X.dropna()"
   ]
  },
  {
   "cell_type": "code",
   "execution_count": 80,
   "metadata": {
    "collapsed": true
   },
   "outputs": [],
   "source": [
    "y=NB[['Change']]"
   ]
  },
  {
   "cell_type": "code",
   "execution_count": 42,
   "metadata": {},
   "outputs": [
    {
     "data": {
      "image/png": "[encoded data removed]",
      "text/plain": [
       "<matplotlib.figure.Figure at 0x7f63d6c8e150>"
      ]
     },
     "metadata": {},
     "output_type": "display_data"
    }
   ],
   "source": [
    "pd.DataFrame.hist(X, figsize = [10,10]);"
   ]
  },
  {
   "cell_type": "code",
   "execution_count": 32,
   "metadata": {},
   "outputs": [
    {
     "data": {
      "image/png": "[encoded data removed]",
      "text/plain": [
       "<matplotlib.figure.Figure at 0x7f63d6d63b10>"
      ]
     },
     "metadata": {},
     "output_type": "display_data"
    }
   ],
   "source": [
    "pd.DataFrame.hist(y, figsize = [10,10]);"
   ]
  },
  {
   "cell_type": "code",
   "execution_count": 81,
   "metadata": {
    "collapsed": true
   },
   "outputs": [],
   "source": [
    "from sklearn.cross_validation import train_test_split\n",
    "X_train, X_test, y_train, y_test = train_test_split(X, y, test_size=0.2, random_state=42)"
   ]
  },
  {
   "cell_type": "code",
   "execution_count": 82,
   "metadata": {},
   "outputs": [
    {
     "name": "stderr",
     "output_type": "stream",
     "text": [
      "/home/octo/anaconda2/envs/PyAlgo/lib/python2.7/site-packages/sklearn/svm/base.py:216: DataConversionWarning: A column-vector y was passed when a 1d array was expected. Please change the shape of y to (n_samples, ), for example using ravel().\n",
      "  return column_or_1d(y, warn=True).astype(np.float64)\n"
     ]
    },
    {
     "name": "stdout",
     "output_type": "stream",
     "text": [
      "SVR accuracy for test set: -0.545749\n"
     ]
    }
   ],
   "source": [
    "from sklearn.svm import SVR\n",
    "svm = SVR(kernel='linear')\n",
    "svm_model_1 = svm.fit(X_train, y_train)\n",
    "print('SVR accuracy for test set: %f' % svm_model_1.score(X_test, y_test))"
   ]
  },
  {
   "cell_type": "code",
   "execution_count": 83,
   "metadata": {},
   "outputs": [
    {
     "name": "stderr",
     "output_type": "stream",
     "text": [
      "/home/octo/anaconda2/envs/PyAlgo/lib/python2.7/site-packages/sklearn/svm/base.py:216: DataConversionWarning: A column-vector y was passed when a 1d array was expected. Please change the shape of y to (n_samples, ), for example using ravel().\n",
      "  return column_or_1d(y, warn=True).astype(np.float64)\n",
      "/home/octo/anaconda2/envs/PyAlgo/lib/python2.7/site-packages/sklearn/svm/base.py:216: DataConversionWarning: A column-vector y was passed when a 1d array was expected. Please change the shape of y to (n_samples, ), for example using ravel().\n",
      "  return column_or_1d(y, warn=True).astype(np.float64)\n",
      "/home/octo/anaconda2/envs/PyAlgo/lib/python2.7/site-packages/sklearn/svm/base.py:216: DataConversionWarning: A column-vector y was passed when a 1d array was expected. Please change the shape of y to (n_samples, ), for example using ravel().\n",
      "  return column_or_1d(y, warn=True).astype(np.float64)\n"
     ]
    }
   ],
   "source": [
    "# Fit regression model\n",
    "svr_rbf = SVR(kernel='rbf', C=1e3, gamma=0.1)\n",
    "svr_lin = SVR(kernel='linear', C=1e3)\n",
    "svr_poly = SVR(kernel='poly', C=1e3, degree=2)\n",
    "y_rbf = svr_rbf.fit(X_train, y_train).predict(X_test)\n",
    "y_lin = svr_lin.fit(X_train, y_train).predict(X_test)\n",
    "y_poly = svr_poly.fit(X_train, y_train).predict(X_test)"
   ]
  },
  {
   "cell_type": "code",
   "execution_count": 88,
   "metadata": {},
   "outputs": [
    {
     "data": {
      "image/png": "[encoded data removed]",
      "text/plain": [
       "<matplotlib.figure.Figure at 0x7f63d6caed50>"
      ]
     },
     "metadata": {},
     "output_type": "display_data"
    }
   ],
   "source": [
    "# look at the results\n",
    "plt.scatter(X['RSI'], y, c='k', label='data')\n",
    "plt.hold('on')\n",
    "plt.plot(X_test['RSI'], y_rbf, c='g', label='RBF model')\n",
    "#plt.plot(X_test, y_lin, c='r', label='Linear model')\n",
    "#plt.plot(X_test, y_poly, c='b', label='Polynomial model')\n",
    "plt.xlabel('data')\n",
    "plt.ylabel('target')\n",
    "plt.title('Support Vector Regression')\n",
    "plt.legend()\n",
    "plt.show()"
   ]
  },
  {
   "cell_type": "code",
   "execution_count": 91,
   "metadata": {},
   "outputs": [
    {
     "data": {
      "text/plain": [
       "(0.45667821944141673,             Change\n",
       " Date              \n",
       " 2016-07-11       1\n",
       " 2016-07-12       1\n",
       " 2016-07-13      -1\n",
       " 2016-07-14       1\n",
       " 2016-07-15       1)"
      ]
     },
     "execution_count": 91,
     "metadata": {},
     "output_type": "execute_result"
    }
   ],
   "source": [
    "#predicted value\n",
    "y_rbf[0],y.tail()"
   ]
  },
  {
   "cell_type": "code",
   "execution_count": 52,
   "metadata": {},
   "outputs": [
    {
     "data": {
      "text/html": [
       "<div>\n",
       "<table border=\"1\" class=\"dataframe\">\n",
       "  <thead>\n",
       "    <tr style=\"text-align: right;\">\n",
       "      <th></th>\n",
       "      <th>Volume</th>\n",
       "      <th>Volatility</th>\n",
       "      <th>momentum</th>\n",
       "      <th>RSI</th>\n",
       "    </tr>\n",
       "    <tr>\n",
       "      <th>Date</th>\n",
       "      <th></th>\n",
       "      <th></th>\n",
       "      <th></th>\n",
       "      <th></th>\n",
       "    </tr>\n",
       "  </thead>\n",
       "  <tbody>\n",
       "    <tr>\n",
       "      <th>2016-07-15</th>\n",
       "      <td>0.627615</td>\n",
       "      <td>0.452437</td>\n",
       "      <td>22.6</td>\n",
       "      <td>73.69074</td>\n",
       "    </tr>\n",
       "  </tbody>\n",
       "</table>\n",
       "</div>"
      ],
      "text/plain": [
       "              Volume  Volatility  momentum       RSI\n",
       "Date                                                \n",
       "2016-07-15  0.627615    0.452437      22.6  73.69074"
      ]
     },
     "execution_count": 52,
     "metadata": {},
     "output_type": "execute_result"
    }
   ],
   "source": [
    "X.tail(1)"
   ]
  }
 ],
 "metadata": {
  "kernelspec": {
   "display_name": "Python 2",
   "language": "python",
   "name": "python2"
  },
  "language_info": {
   "codemirror_mode": {
    "name": "ipython",
    "version": 2
   },
   "file_extension": ".py",
   "mimetype": "text/x-python",
   "name": "python",
   "nbconvert_exporter": "python",
   "pygments_lexer": "ipython2",
   "version": "2.7.13"
  }
 },
 "nbformat": 4,
 "nbformat_minor": 1
}
