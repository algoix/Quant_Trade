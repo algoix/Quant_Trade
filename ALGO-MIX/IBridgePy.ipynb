{
 "cells": [
  {
   "cell_type": "markdown",
   "metadata": {},
   "source": [
    "https://www.interactivebrokers.com/en/software/api/api.htm\n",
    "\n",
    "https://github.com/IBridgePy/IBridgePy_Main_Repo\n",
    "\n",
    "https://github.com/IBridgePy/IBridgePy_Cpp_src\n",
    "\n",
    "http://tradingwithib.com/introduction/\n",
    "\n",
    "\n",
    "    "
   ]
  },
  {
   "cell_type": "code",
   "execution_count": 2,
   "metadata": {
    "collapsed": false
   },
   "outputs": [
    {
     "ename": "ImportError",
     "evalue": "No module named IBridgePy.IBridgePyBasicLib.IBAccountManager",
     "output_type": "error",
     "traceback": [
      "\u001b[1;31m---------------------------------------------------------------------------\u001b[0m",
      "\u001b[1;31mImportError\u001b[0m                               Traceback (most recent call last)",
      "\u001b[1;32m<ipython-input-2-d4b56a0d51ac>\u001b[0m in \u001b[0;36m<module>\u001b[1;34m()\u001b[0m\n\u001b[0;32m      1\u001b[0m \u001b[1;32mimport\u001b[0m \u001b[0mdatetime\u001b[0m\u001b[1;33m\u001b[0m\u001b[0m\n\u001b[1;32m----> 2\u001b[1;33m \u001b[1;32mfrom\u001b[0m \u001b[0mIBridgePy\u001b[0m\u001b[1;33m.\u001b[0m\u001b[0mIBridgePyBasicLib\u001b[0m\u001b[1;33m.\u001b[0m\u001b[0mIBAccountManager\u001b[0m \u001b[1;32mimport\u001b[0m \u001b[0mIBAccountManager\u001b[0m\u001b[1;33m,\u001b[0m \u001b[0mMSG_TABLE\u001b[0m\u001b[1;33m\u001b[0m\u001b[0m\n\u001b[0m\u001b[0;32m      3\u001b[0m \u001b[1;32mimport\u001b[0m \u001b[0mIBridgePy\u001b[0m\u001b[1;33m.\u001b[0m\u001b[0mIBridgePyBasicLib\u001b[0m\u001b[1;33m.\u001b[0m\u001b[0mquantopian\u001b[0m \u001b[1;32mas\u001b[0m \u001b[0mqtopian\u001b[0m\u001b[1;33m\u001b[0m\u001b[0m\n\u001b[0;32m      4\u001b[0m \u001b[1;32mimport\u001b[0m \u001b[0mBasicPyLib\u001b[0m\u001b[1;33m.\u001b[0m\u001b[0msimpleLogger\u001b[0m \u001b[1;32mas\u001b[0m \u001b[0msimpleLogger\u001b[0m\u001b[1;33m\u001b[0m\u001b[0m\n",
      "\u001b[1;31mImportError\u001b[0m: No module named IBridgePy.IBridgePyBasicLib.IBAccountManager"
     ]
    }
   ],
   "source": [
    "import datetime\n",
    "from IBridgePy.IBridgePyBasicLib.IBAccountManager import IBAccountManager, MSG_TABLE\n",
    "import IBridgePy.IBridgePyBasicLib.quantopian as qtopian\n",
    "import BasicPyLib.simpleLogger as simpleLogger"
   ]
  },
  {
   "cell_type": "code",
   "execution_count": null,
   "metadata": {
    "collapsed": true
   },
   "outputs": [],
   "source": []
  }
 ],
 "metadata": {
  "kernelspec": {
   "display_name": "Python 2",
   "language": "python",
   "name": "python2"
  },
  "language_info": {
   "codemirror_mode": {
    "name": "ipython",
    "version": 2
   },
   "file_extension": ".py",
   "mimetype": "text/x-python",
   "name": "python",
   "nbconvert_exporter": "python",
   "pygments_lexer": "ipython2",
   "version": "2.7.11"
  }
 },
 "nbformat": 4,
 "nbformat_minor": 0
}
