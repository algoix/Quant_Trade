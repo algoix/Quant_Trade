{
 "cells": [
  {
   "cell_type": "code",
   "execution_count": 1,
   "metadata": {
    "collapsed": true
   },
   "outputs": [],
   "source": [
    "import numpy as np\n",
    "import pandas as pd\n",
    "from pandas_datareader import data as web\n",
    "import seaborn as sns; sns.set()\n",
    "import matplotlib.pyplot as plt\n",
    "%matplotlib inline"
   ]
  },
  {
   "cell_type": "code",
   "execution_count": 277,
   "metadata": {
    "collapsed": true
   },
   "outputs": [],
   "source": [
    "path = '/home/octo/Desktop/PyCon2016/ML_Fea.ipynb'\n",
    "#path = '/home/octo/Desktop/QTPY/data/sec/'\n"
   ]
  },
  {
   "cell_type": "code",
   "execution_count": 281,
   "metadata": {},
   "outputs": [],
   "source": [
    "import TA# self made python file at PyCON16 folder for TA\n",
    "#https://mrjbq7.github.io/ta-lib/func.html\n",
    "import talib"
   ]
  },
  {
   "cell_type": "code",
   "execution_count": 3,
   "metadata": {
    "collapsed": true
   },
   "outputs": [],
   "source": [
    "data1='QQQ.csv'\n",
    "data2='SPY.csv'"
   ]
  },
  {
   "cell_type": "code",
   "execution_count": 13,
   "metadata": {
    "collapsed": true
   },
   "outputs": [],
   "source": [
    "SPY=pd.read_csv(path + 'SPY.csv',names = [\"high\", \"low\", \"open\",\"close\",\"total_volume\",\"volume\"],index_col=0, parse_dates=True)\n",
    "QQQ=pd.read_csv(path + 'QQQ.csv',names = [\"high\", \"low\", \"open\",\"close\",\"total_volume\",\"volume\"],index_col=0, parse_dates=True)"
   ]
  },
  {
   "cell_type": "code",
   "execution_count": 14,
   "metadata": {},
   "outputs": [
    {
     "name": "stdout",
     "output_type": "stream",
     "text": [
      "<class 'pandas.core.frame.DataFrame'>\n",
      "DatetimeIndex: 245538 entries, 2014-01-02 09:31:00 to 2016-06-30 16:01:00\n",
      "Data columns (total 6 columns):\n",
      "high            245538 non-null float64\n",
      "low             245538 non-null float64\n",
      "open            245538 non-null float64\n",
      "close           245538 non-null float64\n",
      "total_volume    245538 non-null int64\n",
      "volume          245538 non-null int64\n",
      "dtypes: float64(4), int64(2)\n",
      "memory usage: 13.1 MB\n"
     ]
    }
   ],
   "source": [
    "SPY.info()"
   ]
  },
  {
   "cell_type": "markdown",
   "metadata": {},
   "source": [
    "1. Jump up or down of 0.004 with higher volume is 12% each. So trading at these bars only. \u0000\u0000\u0000\u0000\u0000\u0000\u0000\u0000\u0000\u0000\u0000\u0000\u0000\u0000\u0000\u0000\u0000\u0000\u0000\u0000\u0000\u0000\u0000\u0000\u0000\u0000\u0000\u0000\u0000\u0000\u0000\u0000\u0000\u0000\u0000\u0000\u0000\u0000\u0000\u0000\u0000\u0000\u0000\u0000\u0000\u0000\u0000\u0000\u0000\u0000\u0000\u0000\u0000\u0000\u0000\u0000\u0000\u0000\u0000\u0000\u0000\u0000\u0000\u0000\u0000\u0000\u0000\u0000\u0000\u0000\u0000\u0000\u0000\u0000\u0000\u0000\u0000\u0000\u0000\u0000\u0000\u0000\u0000\u0000\u0000\u0000\u0000\u0000\u0000\u0000\n",
    "\n",
    "2. Change 12 bars of 0.07 with/without volume lead to trend and reversal\n",
    "\n",
    "3. cumsum return reversal and trend\n"
   ]
  },
  {
   "cell_type": "code",
   "execution_count": 647,
   "metadata": {},
   "outputs": [],
   "source": [
    "SPY['ROC_4'] = talib.ROC(np.asarray(SPY['close']), timeperiod=4)# good distribution of return -1 to +1 \n",
    "SPY['ROC_19'] = talib.ROC(np.asarray(SPY['close']), timeperiod=19)## good distribution of return -1 to +1 \n",
    "SPY['ROC'] = np.where(SPY['ROC_19']-SPY['ROC_4']>0.1,1,np.where(SPY['ROC_19']-SPY['ROC_4']<-0.1,-1,0))"
   ]
  },
  {
   "cell_type": "code",
   "execution_count": 648,
   "metadata": {},
   "outputs": [
    {
     "data": {
      "image/png": "[encoded data removed]",
      "text/plain": [
       "<matplotlib.figure.Figure at 0x7f832f199410>"
      ]
     },
     "metadata": {},
     "output_type": "display_data"
    }
   ],
   "source": [
    "pd.DataFrame.hist(SPY[['ROC']],bins=50,figsize = [5,5]);"
   ]
  },
  {
   "cell_type": "code",
   "execution_count": 655,
   "metadata": {},
   "outputs": [],
   "source": [
    "SPY['RSI'] = np.where(talib.RSI(np.asarray(SPY['close']), timeperiod=15)>61,1,np.where(talib.RSI(np.asarray(SPY['close']), timeperiod=15)<40,-1,0))"
   ]
  },
  {
   "cell_type": "code",
   "execution_count": 656,
   "metadata": {},
   "outputs": [
    {
     "data": {
      "image/png": "[encoded data removed]",
      "text/plain": [
       "<matplotlib.figure.Figure at 0x7f832f0950d0>"
      ]
     },
     "metadata": {},
     "output_type": "display_data"
    }
   ],
   "source": [
    "pd.DataFrame.hist(SPY[['RSI']],bins=10,figsize = [5,5]);"
   ]
  },
  {
   "cell_type": "code",
   "execution_count": 661,
   "metadata": {},
   "outputs": [],
   "source": [
    "SPY['ADX']=np.where(talib.ADX(np.asarray(SPY['close']),np.asarray(SPY['low']),np.asarray(SPY['high']),timeperiod=15)>32,1,0)"
   ]
  },
  {
   "cell_type": "code",
   "execution_count": 662,
   "metadata": {},
   "outputs": [
    {
     "data": {
      "image/png": "[encoded data removed]",
      "text/plain": [
       "<matplotlib.figure.Figure at 0x7f832f140050>"
      ]
     },
     "metadata": {},
     "output_type": "display_data"
    }
   ],
   "source": [
    "pd.DataFrame.hist(SPY[['ADX']],bins=10,figsize = [5,5]);"
   ]
  },
  {
   "cell_type": "code",
   "execution_count": 136,
   "metadata": {},
   "outputs": [],
   "source": [
    "#pd.DataFrame.hist(SPY[['Change']],bins=5,figsize = [5,5]);"
   ]
  },
  {
   "cell_type": "code",
   "execution_count": 135,
   "metadata": {},
   "outputs": [],
   "source": [
    "#plt.plot(SPY['Change'])"
   ]
  },
  {
   "cell_type": "code",
   "execution_count": 139,
   "metadata": {},
   "outputs": [],
   "source": [
    "#SPY['jUjD']=np.where(np.logical_and(SPY['jump'].shift(1)==1,SPY['Change']>0),1,np.where(np.logical_and(SPY['jump'].shift(1)==-1,SPY['Change']<0),-1,0))"
   ]
  },
  {
   "cell_type": "code",
   "execution_count": 140,
   "metadata": {},
   "outputs": [],
   "source": [
    "#SPY.info()"
   ]
  },
  {
   "cell_type": "code",
   "execution_count": 145,
   "metadata": {},
   "outputs": [],
   "source": [
    "#plt.plot(SPY['Change'].cumsum())"
   ]
  },
  {
   "cell_type": "code",
   "execution_count": 144,
   "metadata": {},
   "outputs": [],
   "source": [
    "#pd.DataFrame.hist(SPY[['jUjD']],bins=5,figsize = [5,5]);"
   ]
  },
  {
   "cell_type": "code",
   "execution_count": 147,
   "metadata": {},
   "outputs": [],
   "source": [
    "#SPY['volume_mean'].plot(figsize = [15,15])"
   ]
  },
  {
   "cell_type": "code",
   "execution_count": 155,
   "metadata": {
    "collapsed": true
   },
   "outputs": [],
   "source": [
    "#SPY['jUjD']=np.where(np.logical_and(SPY['jV'].shift(1)==1,SPY['Change']>0),1,np.where(np.logical_and(SPY['jV'].shift(1)==-1,SPY['Change']<0),-1,0))"
   ]
  },
  {
   "cell_type": "code",
   "execution_count": 154,
   "metadata": {},
   "outputs": [],
   "source": [
    "#pd.DataFrame.hist(SPY[['jUjD']],bins=5,figsize = [5,5]);"
   ]
  },
  {
   "cell_type": "markdown",
   "metadata": {},
   "source": [
    "So from avove we can conclude after jump neither reversal nor trend can be ovserved!!"
   ]
  },
  {
   "cell_type": "markdown",
   "metadata": {},
   "source": [
    "After 12 bars trend at next 50 or reversal??"
   ]
  },
  {
   "cell_type": "markdown",
   "metadata": {},
   "source": [
    "##### Total change after 5 min or 50 bars [O-Ref(C,-50)]"
   ]
  },
  {
   "cell_type": "code",
   "execution_count": 667,
   "metadata": {
    "collapsed": true
   },
   "outputs": [],
   "source": [
    "SPY['return']= np.where(SPY['open']>SPY['close'].shift(1),1,np.where(SPY['open']<SPY['close'].shift(1),-1,0))\n",
    "SPY['volume_ch']=SPY['volume']/SPY['volume'].shift(1)\n",
    "SPY['4Ch'] = SPY['open']-SPY['close'].shift(4)\n",
    "SPY['4VCh'] = SPY['volume']/SPY['volume'].shift(4)\n",
    "SPY['19Ch'] = SPY['open']-SPY['close'].shift(19)\n",
    "SPY['19VCh'] = SPY['volume']/SPY['volume'].shift(19)"
   ]
  },
  {
   "cell_type": "code",
   "execution_count": 666,
   "metadata": {
    "collapsed": true
   },
   "outputs": [],
   "source": [
    "##volume above 1 to get trend \n",
    "SPY['4J']=np.where(SPY['4Ch']>0.05,1,np.where(SPY['4Ch']<-0.05,-1,0))\n",
    "SPY['4jHV']=np.where(np.logical_and(SPY['4J']==1,SPY['4VCh']>1.2),1,np.where(np.logical_and(SPY['4J']==-1,SPY['4VCh']>1.2),-1,0))"
   ]
  },
  {
   "cell_type": "code",
   "execution_count": 672,
   "metadata": {
    "collapsed": true
   },
   "outputs": [],
   "source": [
    "##volume below 1 to get trend \n",
    "SPY['4J']=np.where(SPY['4Ch']>0.07,1,np.where(SPY['4Ch']<-0.07,-1,0))\n",
    "SPY['4jLV']=np.where(np.logical_and(SPY['4J']==1,SPY['4VCh']<0.70),1,np.where(np.logical_and(SPY['4J']==-1,SPY['4VCh']<0.70),-1,0))"
   ]
  },
  {
   "cell_type": "code",
   "execution_count": 670,
   "metadata": {
    "collapsed": true
   },
   "outputs": [],
   "source": [
    "##volume above 1 show tr possible\n",
    "SPY['19J']=np.where(SPY['19Ch']>0.2,1,np.where(SPY['19Ch']<-0.2,-1,0))"
   ]
  },
  {
   "cell_type": "code",
   "execution_count": 665,
   "metadata": {},
   "outputs": [
    {
     "data": {
      "image/png": "[encoded data removed]",
      "text/plain": [
       "<matplotlib.figure.Figure at 0x7f833c15c950>"
      ]
     },
     "metadata": {},
     "output_type": "display_data"
    }
   ],
   "source": [
    "pd.DataFrame.hist(SPY[['4jHV']],bins=5,figsize = [5,5]);"
   ]
  },
  {
   "cell_type": "code",
   "execution_count": 671,
   "metadata": {},
   "outputs": [
    {
     "data": {
      "image/png": "[encoded data removed]",
      "text/plain": [
       "<matplotlib.figure.Figure at 0x7f832efed190>"
      ]
     },
     "metadata": {},
     "output_type": "display_data"
    }
   ],
   "source": [
    "pd.DataFrame.hist(SPY[['19J']],bins=5,figsize = [5,5]);"
   ]
  },
  {
   "cell_type": "markdown",
   "metadata": {},
   "source": [
    "ROC,ADX with change 0.001% or 0.2, these have 16% frequency each"
   ]
  },
  {
   "cell_type": "code",
   "execution_count": 677,
   "metadata": {
    "collapsed": true
   },
   "outputs": [],
   "source": [
    "#after 4 bars\n",
    "SPY['4jHV_adx']=np.where(np.logical_and(SPY['4jHV']==1,SPY['ADX']==1),1,np.where(np.logical_and(SPY['4jHV']==-1,SPY['ADX']==1),-1,0))"
   ]
  },
  {
   "cell_type": "code",
   "execution_count": 678,
   "metadata": {},
   "outputs": [
    {
     "data": {
      "image/png": "[encoded data removed]",
      "text/plain": [
       "<matplotlib.figure.Figure at 0x7f832f79c0d0>"
      ]
     },
     "metadata": {},
     "output_type": "display_data"
    }
   ],
   "source": [
    "pd.DataFrame.hist(SPY[['4jHV_adx']],bins=5,figsize = [5,5]);"
   ]
  },
  {
   "cell_type": "code",
   "execution_count": 681,
   "metadata": {
    "collapsed": true
   },
   "outputs": [],
   "source": [
    "#after 4 bars\n",
    "SPY['4jHV_roc4']=np.where(np.logical_and(SPY['4jHV']==1,SPY['ROC_4']==1),1,np.where(np.logical_and(SPY['4jHV']==-1,SPY['ROC_4']==-1),-1,0))"
   ]
  },
  {
   "cell_type": "code",
   "execution_count": 682,
   "metadata": {},
   "outputs": [
    {
     "data": {
      "image/png": "[encoded data removed]",
      "text/plain": [
       "<matplotlib.figure.Figure at 0x7f832ef6bc50>"
      ]
     },
     "metadata": {},
     "output_type": "display_data"
    }
   ],
   "source": [
    "pd.DataFrame.hist(SPY[['4jHV_roc4']],bins=5,figsize = [5,5]);"
   ]
  },
  {
   "cell_type": "code",
   "execution_count": 685,
   "metadata": {
    "collapsed": true
   },
   "outputs": [],
   "source": [
    "#after 4 bars\n",
    "SPY['4jHV_roc']=np.where(np.logical_and(SPY['4jHV'].shift(15)==1,SPY['ROC']==1),1,np.where(np.logical_and(SPY['4jHV'].shift(15)==-1,SPY['ROC']==-1),-1,0))"
   ]
  },
  {
   "cell_type": "code",
   "execution_count": 686,
   "metadata": {},
   "outputs": [
    {
     "data": {
      "image/png": "[encoded data removed]",
      "text/plain": [
       "<matplotlib.figure.Figure at 0x7f832ef24250>"
      ]
     },
     "metadata": {},
     "output_type": "display_data"
    }
   ],
   "source": [
    "pd.DataFrame.hist(SPY[['4jHV_roc']],bins=5,figsize = [5,5]);"
   ]
  },
  {
   "cell_type": "code",
   "execution_count": 687,
   "metadata": {
    "collapsed": true
   },
   "outputs": [],
   "source": [
    "#after 4 bars\n",
    "SPY['19J_roc']=np.where(np.logical_and(SPY['19J']==1,SPY['ROC']==1),1,np.where(np.logical_and(SPY['19J']==-1,SPY['ROC']==-1),-1,0))"
   ]
  },
  {
   "cell_type": "code",
   "execution_count": 688,
   "metadata": {},
   "outputs": [
    {
     "data": {
      "image/png": "[encoded data removed]",
      "text/plain": [
       "<matplotlib.figure.Figure at 0x7f832e4e83d0>"
      ]
     },
     "metadata": {},
     "output_type": "display_data"
    }
   ],
   "source": [
    "pd.DataFrame.hist(SPY[['19J_roc']],bins=5,figsize = [5,5]);"
   ]
  },
  {
   "cell_type": "code",
   "execution_count": 468,
   "metadata": {
    "collapsed": true
   },
   "outputs": [],
   "source": [
    "SPY['trend']=np.where(np.logical_and(SPY['12jHV']==1,SPY['ADX']==1),1,np.where(np.logical_and(SPY['12jHV']==-1,SPY['momentum']==-1),-1,0))"
   ]
  },
  {
   "cell_type": "code",
   "execution_count": 469,
   "metadata": {},
   "outputs": [
    {
     "data": {
      "image/png": "[encoded data removed]",
      "text/plain": [
       "<matplotlib.figure.Figure at 0x7f832f4515d0>"
      ]
     },
     "metadata": {},
     "output_type": "display_data"
    }
   ],
   "source": [
    "pd.DataFrame.hist(SPY[['trend_adx']],bins=5,figsize = [5,5]);"
   ]
  },
  {
   "cell_type": "code",
   "execution_count": 507,
   "metadata": {
    "collapsed": true
   },
   "outputs": [],
   "source": [
    "##volume above 1 show tr possible\n",
    "SPY['120J']=np.where(SPY['120Ch']>0.35,1,np.where(SPY['120Ch']<-0.3,-1,0))"
   ]
  },
  {
   "cell_type": "code",
   "execution_count": 508,
   "metadata": {},
   "outputs": [
    {
     "data": {
      "image/png": "[encoded data removed]",
      "text/plain": [
       "<matplotlib.figure.Figure at 0x7f832f2d7910>"
      ]
     },
     "metadata": {},
     "output_type": "display_data"
    }
   ],
   "source": [
    "pd.DataFrame.hist(SPY[['120J']],bins=5,figsize = [5,5]);"
   ]
  },
  {
   "cell_type": "code",
   "execution_count": 509,
   "metadata": {
    "collapsed": true
   },
   "outputs": [],
   "source": [
    "SPY['1250jT']=np.where(np.logical_and(SPY['trend_cmo'].shift(38)==1,SPY['120J']==1),1,np.where(np.logical_and(SPY['trend_cmo'].shift(38)==-1,SPY['120J']==1),-1,0))"
   ]
  },
  {
   "cell_type": "code",
   "execution_count": 510,
   "metadata": {},
   "outputs": [
    {
     "data": {
      "image/png": "[encoded data removed]",
      "text/plain": [
       "<matplotlib.figure.Figure at 0x7f832f239390>"
      ]
     },
     "metadata": {},
     "output_type": "display_data"
    }
   ],
   "source": [
    "pd.DataFrame.hist(SPY[['1250jT']],bins=5,figsize = [5,5]);"
   ]
  },
  {
   "cell_type": "code",
   "execution_count": 494,
   "metadata": {
    "collapsed": true
   },
   "outputs": [],
   "source": [
    "SPY['1250jT']=np.where(np.logical_and(SPY['trend_adx'].shift(38)==1,SPY['50J']==1),1,np.where(np.logical_and(SPY['trend_adx'].shift(38)==-1,SPY['50J']==1),-1,0))"
   ]
  },
  {
   "cell_type": "code",
   "execution_count": 495,
   "metadata": {},
   "outputs": [
    {
     "data": {
      "image/png": "[encoded data removed]",
      "text/plain": [
       "<matplotlib.figure.Figure at 0x7f832f2e9890>"
      ]
     },
     "metadata": {},
     "output_type": "display_data"
    }
   ],
   "source": [
    "pd.DataFrame.hist(SPY[['1250jT']],bins=5,figsize = [5,5]);"
   ]
  },
  {
   "cell_type": "code",
   "execution_count": null,
   "metadata": {
    "collapsed": true
   },
   "outputs": [],
   "source": []
  }
 ],
 "metadata": {
  "kernelspec": {
   "display_name": "Python 2",
   "language": "python",
   "name": "python2"
  },
  "language_info": {
   "codemirror_mode": {
    "name": "ipython",
    "version": 2
   },
   "file_extension": ".py",
   "mimetype": "text/x-python",
   "name": "python",
   "nbconvert_exporter": "python",
   "pygments_lexer": "ipython2",
   "version": "2.7.13"
  }
 },
 "nbformat": 4,
 "nbformat_minor": 1
}
