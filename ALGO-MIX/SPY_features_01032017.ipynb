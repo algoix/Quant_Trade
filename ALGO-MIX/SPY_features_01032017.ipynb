{
 "cells": [
  {
   "cell_type": "code",
   "execution_count": 2,
   "metadata": {
    "collapsed": true
   },
   "outputs": [],
   "source": [
    "import numpy as np\n",
    "import pandas as pd\n",
    "import warnings; warnings.simplefilter('ignore')\n",
    "# plotting\n",
    "import matplotlib.pyplot as plt\n",
    "import seaborn as sns; sns.set()\n",
    "%matplotlib inline\n",
    "import matplotlib.pyplot as plt\n",
    "import numpy as np\n",
    "from sklearn import linear_model"
   ]
  },
  {
   "cell_type": "code",
   "execution_count": 3,
   "metadata": {
    "collapsed": true
   },
   "outputs": [],
   "source": [
    "#sqqq and tqqq are taken as IBdata feed not for SPXS \n",
    "path = '/home/octo/Dropbox/IQ_data/'\n",
    "spy=pd.read_csv(path + 'SPY.csv',names = [\"high\", \"low\", \"open\",\"close\",\"total_volume\",\"volume\"],index_col=0, parse_dates=True)\n",
    "sqqq= pd.read_csv(path + 'SQQQ.csv',names = [\"high\", \"low\", \"open\",\"close\",\"total_volume\",\"volume\"],index_col=0, parse_dates=True)\n",
    "tqqq=pd.read_csv(path + 'TQQQ.csv',names = [\"high\", \"low\", \"open\",\"close\",\"total_volume\",\"volume\"],index_col=0, parse_dates=True)\n",
    "spy=spy.tail(140000)\n",
    "sqqq=sqqq.tail(140000)\n",
    "tqqq=tqqq.tail(140000)"
   ]
  },
  {
   "cell_type": "code",
   "execution_count": 4,
   "metadata": {
    "collapsed": true
   },
   "outputs": [],
   "source": [
    "#df for datascience\n",
    "df=pd.DataFrame(data=spy)\n",
    "#df_ml for machine learning\n",
    "df_ml=pd.DataFrame(data=spy.open)"
   ]
  },
  {
   "cell_type": "code",
   "execution_count": 5,
   "metadata": {
    "collapsed": true
   },
   "outputs": [],
   "source": [
    "#df['time']=df.index.strftime('%H:%M:%S')\n",
    "time=df.index.strftime('%H:%M:%S')"
   ]
  },
  {
   "cell_type": "markdown",
   "metadata": {},
   "source": [
    "### EO will capture the overnight news impact"
   ]
  },
  {
   "cell_type": "code",
   "execution_count": 6,
   "metadata": {
    "collapsed": true
   },
   "outputs": [],
   "source": [
    "# difference at '09:30:05' from last day close\n",
    "EO=np.where(time=='09:30:05',df.open-df.close.shift(1),0)\n",
    "#last spread value at all cells\n",
    "df['EO']=EO[time=='09:30:05'][-1]"
   ]
  },
  {
   "cell_type": "code",
   "execution_count": 7,
   "metadata": {
    "collapsed": true
   },
   "outputs": [],
   "source": [
    "df['H']=pd.rolling_max(df.high,4600)\n",
    "df['L']=pd.rolling_min(df.low,4600)\n",
    "df['M']=(df.H+df.L)/2"
   ]
  },
  {
   "cell_type": "code",
   "execution_count": 8,
   "metadata": {
    "collapsed": true
   },
   "outputs": [],
   "source": [
    "P=(spy.high+spy.low+spy.close)/3\n",
    "df['vwap'] =pd.rolling_sum(spy.volume*P,12)/pd.rolling_sum(spy.volume,12)\n",
    "df['spread']=pd.rolling_sum(pd.DataFrame(data=(spy.open-df.vwap)),60)\n",
    "df['spreadqtop']=pd.rolling_quantile(df.spread,1000,.9)\n",
    "df['spreadqbot']=pd.rolling_quantile(df.spread,1000,.0)\n",
    "df['spreadb']=np.where(df.spread>df.spreadqtop,1,np.where(df.spread<df.spreadqbot,-1,0))"
   ]
  },
  {
   "cell_type": "code",
   "execution_count": 9,
   "metadata": {
    "collapsed": true
   },
   "outputs": [],
   "source": [
    "df['speed']=pd.rolling_sum(pd.DataFrame(data=(spy.open-spy.close.shift(1))),60)\n",
    "df['speedQtop']=pd.rolling_quantile(df.speed,1000,.7)\n",
    "#df['speedQbot']=pd.rolling_quantile(df.speed,1000,.1)\n",
    "#df['speedb']=np.where(df.speed>df.speedQtop,1,np.where(df.speed<df.speedQbot,-1,0))\n",
    "df['speedb']=np.where(df.speed<df.speedQtop,1,0)"
   ]
  },
  {
   "cell_type": "markdown",
   "metadata": {},
   "source": [
    "#### Regression for feature generation: Spread"
   ]
  },
  {
   "cell_type": "code",
   "execution_count": null,
   "metadata": {
    "collapsed": true
   },
   "outputs": [],
   "source": [
    "### pending  /ALGO/SPY_UD_ML_17022017.ipynb"
   ]
  },
  {
   "cell_type": "markdown",
   "metadata": {},
   "source": [
    "# SPREAD"
   ]
  },
  {
   "cell_type": "code",
   "execution_count": 10,
   "metadata": {
    "collapsed": true
   },
   "outputs": [],
   "source": [
    "OO=np.where(time=='09:30:05',df.open,0)\n",
    "HO=np.where(time=='09:30:05',df.H,0)\n",
    "LO=np.where(time=='09:30:05',df.L,0)\n",
    "MO=np.where(time=='09:30:05',df.M,0)"
   ]
  },
  {
   "cell_type": "code",
   "execution_count": 11,
   "metadata": {
    "collapsed": false
   },
   "outputs": [],
   "source": [
    "O=OO[time=='09:30:05'][-1]\n",
    "H=HO[time=='09:30:05'][-1]\n",
    "L=LO[time=='09:30:05'][-1]\n",
    "M=MO[time=='09:30:05'][-1]\n",
    "# for finding market state. EO for sentiment \n",
    "OH=O-H # +ve shows jump up\n",
    "OL=L-O # +ve shows jump down\n",
    "MO=M-O # +ve for state 2 or buy | -ve for state 3 or SS\n",
    "df['OL']=O\n",
    "df['HL']=H\n",
    "df['LL']=L\n",
    "df['ML']=M"
   ]
  },
  {
   "cell_type": "markdown",
   "metadata": {},
   "source": [
    "#### Market spread from opening price"
   ]
  },
  {
   "cell_type": "code",
   "execution_count": 12,
   "metadata": {
    "collapsed": false
   },
   "outputs": [],
   "source": [
    "#df['EO']=np.where(EO==0,EO[time=='09:30:05'][-1],0)\n",
    "df['OO']=df.open-O # changing points"
   ]
  },
  {
   "cell_type": "markdown",
   "metadata": {},
   "source": [
    "#### H L M price spread from opening price"
   ]
  },
  {
   "cell_type": "code",
   "execution_count": 13,
   "metadata": {
    "collapsed": true
   },
   "outputs": [],
   "source": [
    "#df['HO']=df.open-H # positive spread if at state 4\n",
    "#df['LO']=L- df.open # +ve shows jump down\n",
    "df['MO']=df.open-M # +ve for state 2 or buy | -ve for state 3 or SS"
   ]
  },
  {
   "cell_type": "markdown",
   "metadata": {},
   "source": [
    "##### VWAP spread"
   ]
  },
  {
   "cell_type": "code",
   "execution_count": 14,
   "metadata": {
    "collapsed": true
   },
   "outputs": [],
   "source": [
    "df_ml['spread']=df['spreadb'] # higher spread leads to reversal"
   ]
  },
  {
   "cell_type": "markdown",
   "metadata": {},
   "source": [
    "### Velocity"
   ]
  },
  {
   "cell_type": "code",
   "execution_count": 15,
   "metadata": {
    "collapsed": true
   },
   "outputs": [],
   "source": [
    "df_ml['speed']=df['speedb'] # 1 shows acceptable speed"
   ]
  },
  {
   "cell_type": "markdown",
   "metadata": {},
   "source": [
    "## Sentiment"
   ]
  },
  {
   "cell_type": "code",
   "execution_count": 41,
   "metadata": {
    "collapsed": false
   },
   "outputs": [],
   "source": [
    "df['S']=np.where(df.EO>0,1,np.where(df.EO<-0,-1,0))"
   ]
  },
  {
   "cell_type": "markdown",
   "metadata": {},
   "source": [
    "## Market state"
   ]
  },
  {
   "cell_type": "code",
   "execution_count": 17,
   "metadata": {
    "collapsed": true
   },
   "outputs": [],
   "source": [
    "df['MS']=np.where(OH>0,4,np.where(MO<0,3,np.where(MO>0,2,np.where(OL>0,1,0))))"
   ]
  },
  {
   "cell_type": "code",
   "execution_count": 18,
   "metadata": {
    "collapsed": true
   },
   "outputs": [],
   "source": [
    "df_ml['S']=df['S']\n",
    "df_ml['MS']=df['MS']\n",
    "df_ml['EO']=df['EO']\n",
    "df_ml['OO']=df['OO']\n",
    "#df_ml['HO']=df['HO']\n",
    "#df_ml['LO']=df['LO']\n",
    "df_ml['MO']=df['MO']"
   ]
  },
  {
   "cell_type": "markdown",
   "metadata": {},
   "source": [
    "## Reversal"
   ]
  },
  {
   "cell_type": "code",
   "execution_count": 50,
   "metadata": {
    "collapsed": false
   },
   "outputs": [],
   "source": [
    "# reversal, when market up or down\n",
    "df['NL']=pd.rolling_sum(pd.DataFrame(data=spy.open-spy.close.shift(60)),12)\n",
    "#df['spread']=df.open -df['vwap']\n",
    "df['NLqtop']=pd.rolling_quantile(df.NL,720,.9)\n",
    "df['NLqbot']=pd.rolling_quantile(df.NL,720,.1)\n",
    "df['R']=np.where(df.NL>df.NLqtop,1,np.where(df.j<df.NLqbot,1,0)) # only considering 1 and 0"
   ]
  },
  {
   "cell_type": "markdown",
   "metadata": {},
   "source": [
    "#### volume should be above 30%"
   ]
  },
  {
   "cell_type": "code",
   "execution_count": 21,
   "metadata": {
    "collapsed": true
   },
   "outputs": [],
   "source": [
    "# only when volume ==1\n",
    "volQbot=pd.rolling_quantile(spy.volume,1000,.3)\n",
    "df['vol']=np.where(spy.volume<volQbot,0,1)\n",
    "df_ml['V']=df['vol']"
   ]
  },
  {
   "cell_type": "markdown",
   "metadata": {},
   "source": [
    "## Visual"
   ]
  },
  {
   "cell_type": "code",
   "execution_count": 22,
   "metadata": {
    "collapsed": false
   },
   "outputs": [
    {
     "data": {
      "text/html": [
       "<div>\n",
       "<table border=\"1\" class=\"dataframe\">\n",
       "  <thead>\n",
       "    <tr style=\"text-align: right;\">\n",
       "      <th></th>\n",
       "      <th>open</th>\n",
       "      <th>spread</th>\n",
       "      <th>speed</th>\n",
       "      <th>S</th>\n",
       "      <th>MS</th>\n",
       "      <th>EO</th>\n",
       "      <th>OO</th>\n",
       "      <th>MO</th>\n",
       "      <th>R</th>\n",
       "      <th>RC</th>\n",
       "      <th>V</th>\n",
       "    </tr>\n",
       "  </thead>\n",
       "  <tbody>\n",
       "    <tr>\n",
       "      <th>2017-03-01 15:59:40</th>\n",
       "      <td>239.72</td>\n",
       "      <td>0</td>\n",
       "      <td>1</td>\n",
       "      <td>1</td>\n",
       "      <td>3</td>\n",
       "      <td>1.87</td>\n",
       "      <td>1.34</td>\n",
       "      <td>2.4775</td>\n",
       "      <td>0</td>\n",
       "      <td>-1</td>\n",
       "      <td>1</td>\n",
       "    </tr>\n",
       "    <tr>\n",
       "      <th>2017-03-01 15:59:45</th>\n",
       "      <td>239.78</td>\n",
       "      <td>0</td>\n",
       "      <td>1</td>\n",
       "      <td>1</td>\n",
       "      <td>3</td>\n",
       "      <td>1.87</td>\n",
       "      <td>1.40</td>\n",
       "      <td>2.5375</td>\n",
       "      <td>0</td>\n",
       "      <td>-1</td>\n",
       "      <td>1</td>\n",
       "    </tr>\n",
       "    <tr>\n",
       "      <th>2017-03-01 15:59:50</th>\n",
       "      <td>239.78</td>\n",
       "      <td>0</td>\n",
       "      <td>1</td>\n",
       "      <td>1</td>\n",
       "      <td>3</td>\n",
       "      <td>1.87</td>\n",
       "      <td>1.40</td>\n",
       "      <td>2.5375</td>\n",
       "      <td>0</td>\n",
       "      <td>-1</td>\n",
       "      <td>1</td>\n",
       "    </tr>\n",
       "    <tr>\n",
       "      <th>2017-03-01 15:59:55</th>\n",
       "      <td>239.75</td>\n",
       "      <td>0</td>\n",
       "      <td>1</td>\n",
       "      <td>1</td>\n",
       "      <td>3</td>\n",
       "      <td>1.87</td>\n",
       "      <td>1.37</td>\n",
       "      <td>2.5075</td>\n",
       "      <td>0</td>\n",
       "      <td>-1</td>\n",
       "      <td>1</td>\n",
       "    </tr>\n",
       "    <tr>\n",
       "      <th>2017-03-01 16:00:00</th>\n",
       "      <td>239.72</td>\n",
       "      <td>0</td>\n",
       "      <td>1</td>\n",
       "      <td>1</td>\n",
       "      <td>3</td>\n",
       "      <td>1.87</td>\n",
       "      <td>1.34</td>\n",
       "      <td>2.4775</td>\n",
       "      <td>0</td>\n",
       "      <td>-1</td>\n",
       "      <td>1</td>\n",
       "    </tr>\n",
       "  </tbody>\n",
       "</table>\n",
       "</div>"
      ],
      "text/plain": [
       "                       open  spread  speed  S  MS    EO    OO      MO  R  RC  \\\n",
       "2017-03-01 15:59:40  239.72       0      1  1   3  1.87  1.34  2.4775  0  -1   \n",
       "2017-03-01 15:59:45  239.78       0      1  1   3  1.87  1.40  2.5375  0  -1   \n",
       "2017-03-01 15:59:50  239.78       0      1  1   3  1.87  1.40  2.5375  0  -1   \n",
       "2017-03-01 15:59:55  239.75       0      1  1   3  1.87  1.37  2.5075  0  -1   \n",
       "2017-03-01 16:00:00  239.72       0      1  1   3  1.87  1.34  2.4775  0  -1   \n",
       "\n",
       "                     V  \n",
       "2017-03-01 15:59:40  1  \n",
       "2017-03-01 15:59:45  1  \n",
       "2017-03-01 15:59:50  1  \n",
       "2017-03-01 15:59:55  1  \n",
       "2017-03-01 16:00:00  1  "
      ]
     },
     "execution_count": 22,
     "metadata": {},
     "output_type": "execute_result"
    }
   ],
   "source": [
    "df_ml.tail()"
   ]
  },
  {
   "cell_type": "code",
   "execution_count": 56,
   "metadata": {
    "collapsed": false
   },
   "outputs": [
    {
     "data": {
      "image/png": "[encoded data removed]",
      "text/plain": [
       "<matplotlib.figure.Figure at 0x7f81179b9ad0>"
      ]
     },
     "metadata": {},
     "output_type": "display_data"
    }
   ],
   "source": [
    "df[['MO']].tail(5000).plot(figsize=(16, 10))\n",
    "plt.show()"
   ]
  },
  {
   "cell_type": "code",
   "execution_count": 53,
   "metadata": {
    "collapsed": false
   },
   "outputs": [
    {
     "data": {
      "image/png": "[encoded data removed]",
      "text/plain": [
       "<matplotlib.figure.Figure at 0x7f8117c8f7d0>"
      ]
     },
     "metadata": {},
     "output_type": "display_data"
    }
   ],
   "source": [
    "df[['NL']].tail(1000).plot(figsize=(16, 10))\n",
    "plt.show()"
   ]
  },
  {
   "cell_type": "code",
   "execution_count": null,
   "metadata": {
    "collapsed": false
   },
   "outputs": [],
   "source": [
    "#df_ml[['EO','HO','LO','MO','OO']].tail(1000).plot(figsize=(16, 10))\n",
    "#df_ml[['EO','HO','LO']].tail(1000).plot(figsize=(16, 10))\n",
    "df_ml[['EO','MO']].tail(1000).plot(figsize=(16, 10))\n",
    "plt.show()"
   ]
  },
  {
   "cell_type": "code",
   "execution_count": null,
   "metadata": {
    "collapsed": false
   },
   "outputs": [],
   "source": [
    "#df_ml[['spread','S','MS','R','RC','V']].tail(5000).plot(figsize=(16, 10))\n",
    "df[['MS']].plot(figsize=(16, 10))\n",
    "plt.show()"
   ]
  },
  {
   "cell_type": "markdown",
   "metadata": {},
   "source": [
    "### ANother data set with values not 0-1"
   ]
  },
  {
   "cell_type": "code",
   "execution_count": 42,
   "metadata": {
    "collapsed": true
   },
   "outputs": [],
   "source": [
    "df_val=pd.DataFrame(data=spy.open)\n",
    "df_val['spread']=df['spread'] # spread from VWAP\n",
    "df_val['speed']=df['speed'] # higher speed is bad\n",
    "df_val['MO']=df['MO'] # market position  from mean value\n",
    "df_val['MS']=df['MS'] # market state 4 states\n",
    "df_val['S']=df['S']# difference at '09:30:05' from last day close\n",
    "df_val['R']=df['R']"
   ]
  },
  {
   "cell_type": "code",
   "execution_count": 43,
   "metadata": {
    "collapsed": true
   },
   "outputs": [],
   "source": [
    "# reduce dataset based on volume and speed\n",
    "df_val=df_val[df.vol!=0] # all decision when volume above 30% or vol==1\n",
    "df_val=df_val[df.speedb!=0] # 1 shows acceptable speed\n",
    "df_val=df_val.dropna()"
   ]
  },
  {
   "cell_type": "code",
   "execution_count": 44,
   "metadata": {
    "collapsed": false
   },
   "outputs": [
    {
     "data": {
      "text/html": [
       "<div>\n",
       "<table border=\"1\" class=\"dataframe\">\n",
       "  <thead>\n",
       "    <tr style=\"text-align: right;\">\n",
       "      <th></th>\n",
       "      <th>open</th>\n",
       "      <th>spread</th>\n",
       "      <th>speed</th>\n",
       "      <th>MO</th>\n",
       "      <th>MS</th>\n",
       "      <th>S</th>\n",
       "      <th>R1</th>\n",
       "      <th>R2</th>\n",
       "    </tr>\n",
       "  </thead>\n",
       "  <tbody>\n",
       "    <tr>\n",
       "      <th>2017-03-01 15:59:40</th>\n",
       "      <td>239.72</td>\n",
       "      <td>-0.477297</td>\n",
       "      <td>-0.0282</td>\n",
       "      <td>2.4775</td>\n",
       "      <td>3</td>\n",
       "      <td>1</td>\n",
       "      <td>1</td>\n",
       "      <td>0</td>\n",
       "    </tr>\n",
       "    <tr>\n",
       "      <th>2017-03-01 15:59:45</th>\n",
       "      <td>239.78</td>\n",
       "      <td>-0.429714</td>\n",
       "      <td>-0.0182</td>\n",
       "      <td>2.5375</td>\n",
       "      <td>3</td>\n",
       "      <td>1</td>\n",
       "      <td>1</td>\n",
       "      <td>0</td>\n",
       "    </tr>\n",
       "    <tr>\n",
       "      <th>2017-03-01 15:59:50</th>\n",
       "      <td>239.78</td>\n",
       "      <td>-0.378651</td>\n",
       "      <td>-0.0232</td>\n",
       "      <td>2.5375</td>\n",
       "      <td>3</td>\n",
       "      <td>1</td>\n",
       "      <td>1</td>\n",
       "      <td>0</td>\n",
       "    </tr>\n",
       "    <tr>\n",
       "      <th>2017-03-01 15:59:55</th>\n",
       "      <td>239.75</td>\n",
       "      <td>-0.359606</td>\n",
       "      <td>-0.0232</td>\n",
       "      <td>2.5075</td>\n",
       "      <td>3</td>\n",
       "      <td>1</td>\n",
       "      <td>1</td>\n",
       "      <td>0</td>\n",
       "    </tr>\n",
       "    <tr>\n",
       "      <th>2017-03-01 16:00:00</th>\n",
       "      <td>239.72</td>\n",
       "      <td>-0.369014</td>\n",
       "      <td>-0.0232</td>\n",
       "      <td>2.4775</td>\n",
       "      <td>3</td>\n",
       "      <td>1</td>\n",
       "      <td>1</td>\n",
       "      <td>0</td>\n",
       "    </tr>\n",
       "  </tbody>\n",
       "</table>\n",
       "</div>"
      ],
      "text/plain": [
       "                       open    spread   speed      MO  MS  S  R1  R2\n",
       "2017-03-01 15:59:40  239.72 -0.477297 -0.0282  2.4775   3  1   1   0\n",
       "2017-03-01 15:59:45  239.78 -0.429714 -0.0182  2.5375   3  1   1   0\n",
       "2017-03-01 15:59:50  239.78 -0.378651 -0.0232  2.5375   3  1   1   0\n",
       "2017-03-01 15:59:55  239.75 -0.359606 -0.0232  2.5075   3  1   1   0\n",
       "2017-03-01 16:00:00  239.72 -0.369014 -0.0232  2.4775   3  1   1   0"
      ]
     },
     "execution_count": 44,
     "metadata": {},
     "output_type": "execute_result"
    }
   ],
   "source": [
    "df_val.tail()"
   ]
  },
  {
   "cell_type": "markdown",
   "metadata": {},
   "source": [
    "# Buy Sell signal"
   ]
  },
  {
   "cell_type": "code",
   "execution_count": null,
   "metadata": {
    "collapsed": true
   },
   "outputs": [],
   "source": []
  }
 ],
 "metadata": {
  "kernelspec": {
   "display_name": "Python 2",
   "language": "python",
   "name": "python2"
  },
  "language_info": {
   "codemirror_mode": {
    "name": "ipython",
    "version": 2
   },
   "file_extension": ".py",
   "mimetype": "text/x-python",
   "name": "python",
   "nbconvert_exporter": "python",
   "pygments_lexer": "ipython2",
   "version": "2.7.11"
  }
 },
 "nbformat": 4,
 "nbformat_minor": 0
}
