{
 "cells": [
  {
   "cell_type": "markdown",
   "metadata": {},
   "source": [
    "#order placing sucessful\n",
    "\n",
    "https://github.com/Komnomnomnom/swigibpy/blob/master/examples/placeorder.py\n",
    "\n",
    "https://github.com/Komnomnomnom/swigibpy"
   ]
  },
  {
   "cell_type": "markdown",
   "metadata": {},
   "source": [
    "https://pypi.python.org/pypi/swigibpy/0.4.1\n",
    "\n",
    "https://pypi.python.org/pypi/swigibpy\n",
    "    \n",
    "http://www.swig.org/"
   ]
  },
  {
   "cell_type": "code",
   "execution_count": 1,
   "metadata": {
    "collapsed": true
   },
   "outputs": [],
   "source": [
    "import sys\n",
    "from threading import Event\n",
    "from swigibpy import (EWrapper, EPosixClientSocket, Contract, Order, TagValue,TagValueList)"
   ]
  },
  {
   "cell_type": "code",
   "execution_count": 2,
   "metadata": {
    "collapsed": true
   },
   "outputs": [],
   "source": [
    "MAX_WAIT_SECONDS=10\n",
    "## This is the reqId IB API sends when a fill is received\n",
    "FILL_CODE=-1"
   ]
  },
  {
   "cell_type": "code",
   "execution_count": 3,
   "metadata": {
    "collapsed": true
   },
   "outputs": [],
   "source": [
    "try:\n",
    "    # Python 2 compatibility\n",
    "    input = raw_input\n",
    "    from Queue import Queue\n",
    "except:\n",
    "    from queue import Queue\n"
   ]
  },
  {
   "cell_type": "code",
   "execution_count": 4,
   "metadata": {
    "collapsed": true
   },
   "outputs": [],
   "source": [
    "\n",
    "class PlaceOrderExample(EWrapper):\n",
    "    '''Callback object passed to TWS, these functions will be called directly by TWS.\n",
    "    '''\n",
    "\n",
    "    def __init__(self):\n",
    "        super(PlaceOrderExample, self).__init__()\n",
    "        self.order_filled = Event()\n",
    "        self.order_ids = Queue()\n",
    "\n",
    "    def openOrderEnd(self):\n",
    "        '''Not relevant for our example'''\n",
    "        pass\n",
    "\n",
    "    def execDetails(self, id, contract, execution):\n",
    "        '''Not relevant for our example'''\n",
    "        pass\n",
    "\n",
    "    def managedAccounts(self, openOrderEnd):\n",
    "        '''Not relevant for our example'''\n",
    "        pass\n",
    "\n",
    "    ###############\n",
    "\n",
    "    def nextValidId(self, validOrderId):\n",
    "        '''Capture the next order id'''\n",
    "        self.order_ids.put(validOrderId)\n",
    "\n",
    "    def orderStatus(self, id, status, filled, remaining, avgFillPrice, permId,\n",
    "                    parentId, lastFilledPrice, clientId, whyHeld):\n",
    "\n",
    "        print((\"Order #%s - %s (filled %d, remaining %d, avgFillPrice %f,\"\n",
    "               \"last fill price %f)\") %\n",
    "              (id, status, filled, remaining, avgFillPrice, lastFilledPrice))\n",
    "        if remaining <= 0:\n",
    "            self.order_filled.set()\n",
    "\n",
    "    def openOrder(self, orderID, contract, order, orderState):\n",
    "\n",
    "        print(\"Order opened for %s\" % contract.symbol)\n",
    "\n",
    "    def commissionReport(self, commissionReport):\n",
    "        print 'Commission %s %s P&L: %s' % (commissionReport.currency,\n",
    "                                            commissionReport.commission,\n",
    "                                            commissionReport.realizedPNL)"
   ]
  },
  {
   "cell_type": "code",
   "execution_count": 5,
   "metadata": {
    "collapsed": false
   },
   "outputs": [
    {
     "name": "stdout",
     "output_type": "stream",
     "text": [
      "WARNING: This example will place an order on your IB account, are you sure? (Type yes to continue): yes\n"
     ]
    }
   ],
   "source": [
    "prompt = input(\"WARNING: This example will place an order on your IB \"\n",
    "               \"account, are you sure? (Type yes to continue): \")\n",
    "if prompt.lower() != 'yes':\n",
    "    sys.exit()"
   ]
  },
  {
   "cell_type": "code",
   "execution_count": 6,
   "metadata": {
    "collapsed": true
   },
   "outputs": [],
   "source": [
    "# Instantiate our callback object\n",
    "callback = PlaceOrderExample()\n",
    "\n",
    "# Instantiate a socket object, allowing us to call TWS directly. Pass our\n",
    "# callback object so TWS can respond.\n",
    "tws = EPosixClientSocket(callback)"
   ]
  },
  {
   "cell_type": "code",
   "execution_count": 7,
   "metadata": {
    "collapsed": false
   },
   "outputs": [
    {
     "name": "stderr",
     "output_type": "stream",
     "text": [
      "TWS Warning - 2104: Market data farm connection is OK:usbond\n",
      "TWS Warning - 2104: Market data farm connection is OK:hfarm\n",
      "TWS Warning - 2104: Market data farm connection is OK:eufarm\n",
      "TWS Warning - 2104: Market data farm connection is OK:usfuture\n",
      "TWS Warning - 2104: Market data farm connection is OK:jfarm\n",
      "TWS Warning - 2104: Market data farm connection is OK:cashfarm\n",
      "TWS Warning - 2104: Market data farm connection is OK:usfarm.us\n",
      "TWS Warning - 2104: Market data farm connection is OK:usfarm\n",
      "TWS Warning - 2106: HMDS data farm connection is OK:ilhmds\n",
      "TWS Warning - 2106: HMDS data farm connection is OK:euhmds\n",
      "TWS Warning - 2106: HMDS data farm connection is OK:fundfarm\n",
      "TWS Warning - 2106: HMDS data farm connection is OK:ushmds\n"
     ]
    }
   ],
   "source": [
    "# Connect to tws running on localhost\n",
    "if not tws.eConnect(\"\", 7496,101):\n",
    "    raise RuntimeError('Failed to connect to TWS')"
   ]
  },
  {
   "cell_type": "code",
   "execution_count": 8,
   "metadata": {
    "collapsed": true
   },
   "outputs": [],
   "source": [
    "# Simple contract for GOOG\n",
    "contract = Contract()\n",
    "contract.symbol = \"SPY\"\n",
    "contract.secType = \"STK\"\n",
    "contract.exchange = \"SMART\"\n",
    "contract.currency = \"USD\""
   ]
  },
  {
   "cell_type": "code",
   "execution_count": 9,
   "metadata": {
    "collapsed": false
   },
   "outputs": [
    {
     "name": "stdout",
     "output_type": "stream",
     "text": [
      "Waiting for valid order id\n"
     ]
    }
   ],
   "source": [
    "print('Waiting for valid order id')\n",
    "order_id = callback.order_ids.get(timeout=MAX_WAIT_SECONDS)\n",
    "if not order_id:\n",
    "    raise RuntimeError('Failed to receive order id after %ds' % MAX_WAIT_SECONDS)"
   ]
  },
  {
   "cell_type": "code",
   "execution_count": 10,
   "metadata": {
    "collapsed": true
   },
   "outputs": [],
   "source": [
    "# Order details\n",
    "algoParams = TagValueList()\n",
    "algoParams.append(TagValue(\"componentSize\", \"3\"))\n",
    "algoParams.append(TagValue(\"timeBetweenOrders\", \"60\"))\n",
    "algoParams.append(TagValue(\"randomizeTime20\", \"1\"))\n",
    "algoParams.append(TagValue(\"randomizeSize55\", \"1\"))\n",
    "algoParams.append(TagValue(\"giveUp\", \"1\"))\n",
    "algoParams.append(TagValue(\"catchUp\", \"1\"))\n",
    "algoParams.append(TagValue(\"waitForFill\", \"1\"))\n",
    "algoParams.append(TagValue(\"startTime\", \"20110302-14:30:00 GMT\"))\n",
    "algoParams.append(TagValue(\"endTime\", \"20110302-21:00:00 GMT\"))"
   ]
  },
  {
   "cell_type": "code",
   "execution_count": 11,
   "metadata": {
    "collapsed": true
   },
   "outputs": [],
   "source": [
    "order = Order()\n",
    "order.action = 'BUY'\n",
    "order.lmtPrice = 214\n",
    "order.orderType = 'LMT'\n",
    "order.totalQuantity = 10\n",
    "order.algoStrategy = \"AD\"\n",
    "order.tif = 'DAT'\n",
    "order.algoParams = algoParams\n",
    "#order.transmit = False"
   ]
  },
  {
   "cell_type": "code",
   "execution_count": 12,
   "metadata": {
    "collapsed": false
   },
   "outputs": [
    {
     "name": "stdout",
     "output_type": "stream",
     "text": [
      "Placing order for 10 SPY's (id: 1)\n",
      "\n",
      "====================================================================\n",
      " Order placed, waiting 10s for TWS responses\n",
      "====================================================================\n",
      "\n",
      "Waiting for order to be filled..\n",
      "Order opened for SPY\n",
      "Order #1 - PreSubmitted (filled 0, remaining 10, avgFillPrice 0.000000,last fill price 0.000000)\n",
      "Failed to fill order\n",
      "\n",
      "Disconnecting...\n"
     ]
    },
    {
     "name": "stderr",
     "output_type": "stream",
     "text": [
      "TWS Client Error - 503: The TWS is out of date and must be upgraded.\n"
     ]
    }
   ],
   "source": [
    "print(\"Placing order for %d %s's (id: %d)\" % (order.totalQuantity,\n",
    "                                              contract.symbol, order_id))\n",
    "\n",
    "# Place the order\n",
    "tws.placeOrder(\n",
    "    order_id,                                   # orderId,\n",
    "    contract,                                   # contract,\n",
    "    order                                       # order\n",
    ")\n",
    "\n",
    "print(\"\\n====================================================================\")\n",
    "print(\" Order placed, waiting %ds for TWS responses\" % WAIT_TIME)\n",
    "print(\"====================================================================\\n\")\n",
    "\n",
    "\n",
    "print(\"Waiting for order to be filled..\")\n",
    "\n",
    "try:\n",
    "    callback.order_filled.wait(WAIT_TIME)\n",
    "except KeyboardInterrupt:\n",
    "    pass\n",
    "finally:\n",
    "    if not callback.order_filled.is_set():\n",
    "        print('Failed to fill order')\n",
    "\n",
    "    print(\"\\nDisconnecting...\")\n",
    "    tws.eDisconnect()"
   ]
  },
  {
   "cell_type": "code",
   "execution_count": null,
   "metadata": {
    "collapsed": true
   },
   "outputs": [],
   "source": []
  }
 ],
 "metadata": {
  "kernelspec": {
   "display_name": "Python 2",
   "language": "python",
   "name": "python2"
  },
  "language_info": {
   "codemirror_mode": {
    "name": "ipython",
    "version": 2
   },
   "file_extension": ".py",
   "mimetype": "text/x-python",
   "name": "python",
   "nbconvert_exporter": "python",
   "pygments_lexer": "ipython2",
   "version": "2.7.11"
  }
 },
 "nbformat": 4,
 "nbformat_minor": 0
}
