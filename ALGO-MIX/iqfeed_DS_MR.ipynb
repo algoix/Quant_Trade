{
 "cells": [
  {
   "cell_type": "code",
   "execution_count": 2,
   "metadata": {
    "collapsed": true
   },
   "outputs": [],
   "source": [
    "import numpy as np\n",
    "import pandas as pd\n",
    "from pandas_datareader import data as web\n",
    "import seaborn as sns; sns.set()\n",
    "import matplotlib.pyplot as plt\n",
    "%matplotlib inline"
   ]
  },
  {
   "cell_type": "code",
   "execution_count": 7,
   "metadata": {
    "collapsed": true
   },
   "outputs": [],
   "source": [
    "path = '/home/octo/Desktop/QTPY/data/min/'\n",
    "#path = '/home/octo/Desktop/QTPY/data/sec/'\n"
   ]
  },
  {
   "cell_type": "code",
   "execution_count": 8,
   "metadata": {
    "collapsed": false
   },
   "outputs": [],
   "source": [
    "import TA# self made python file at PyCON16 folder for TA\n",
    "#https://mrjbq7.github.io/ta-lib/func.html\n",
    "import talib"
   ]
  },
  {
   "cell_type": "code",
   "execution_count": 9,
   "metadata": {
    "collapsed": true
   },
   "outputs": [],
   "source": [
    "data1='QQQ.csv'\n",
    "data2='SPY.csv'"
   ]
  },
  {
   "cell_type": "code",
   "execution_count": 12,
   "metadata": {
    "collapsed": false
   },
   "outputs": [],
   "source": [
    "SPY=pd.read_csv(path + 'SPY.csv',names = [\"high\", \"low\", \"open\",\"close\",\"total_volume\",\"volume\"],index_col=0, parse_dates=True)\n",
    "QQQ=pd.read_csv(path + 'QQQ.csv',names = [\"high\", \"low\", \"open\",\"close\",\"total_volume\",\"volume\"],index_col=0, parse_dates=True)"
   ]
  },
  {
   "cell_type": "markdown",
   "metadata": {},
   "source": [
    "1.ROC average of 5 15 25, changes 4% up from bottom then sell and buy when line 4% below up. so 4% up-down band of ROC\n",
    "2. \n"
   ]
  },
  {
   "cell_type": "code",
   "execution_count": 13,
   "metadata": {
    "collapsed": false
   },
   "outputs": [],
   "source": [
    "SPY['ROC_5'] = talib.ROC(np.asarray(SPY['close']), timeperiod=5)# good distribution of return -1 to +1 \n",
    "SPY['ROC_15'] = talib.ROC(np.asarray(SPY['close']), timeperiod=15)## good distribution of return -1 to +1 \n",
    "SPY['ROC_25'] = talib.ROC(np.asarray(SPY['close']), timeperiod=25)## good distribution of return -1 to +1 \n",
    "SPY['ROC'] = (SPY['ROC_5']+SPY['ROC_15']+SPY['ROC_25'])%3"
   ]
  },
  {
   "cell_type": "code",
   "execution_count": 14,
   "metadata": {
    "collapsed": false
   },
   "outputs": [
    {
     "data": {
      "image/png": "[encoded data removed]",
      "text/plain": [
       "<matplotlib.figure.Figure at 0x7f6c5f37ba10>"
      ]
     },
     "metadata": {},
     "output_type": "display_data"
    }
   ],
   "source": [
    "pd.DataFrame.hist(SPY[['ROC']],bins=50,figsize = [5,5]);"
   ]
  },
  {
   "cell_type": "code",
   "execution_count": 23,
   "metadata": {
    "collapsed": false
   },
   "outputs": [],
   "source": [
    "SPY['RSI'] = np.where(talib.RSI(np.asarray(SPY['close']), timeperiod=15)>75,1,np.where(talib.RSI(np.asarray(SPY['close']), timeperiod=15)<25,-1,0))"
   ]
  },
  {
   "cell_type": "code",
   "execution_count": 24,
   "metadata": {
    "collapsed": false
   },
   "outputs": [
    {
     "data": {
      "image/png": "[encoded data removed]",
      "text/plain": [
       "<matplotlib.figure.Figure at 0x7f6c5e793650>"
      ]
     },
     "metadata": {},
     "output_type": "display_data"
    }
   ],
   "source": [
    "pd.DataFrame.hist(SPY[['RSI']],bins=10,figsize = [5,5]);"
   ]
  },
  {
   "cell_type": "code",
   "execution_count": 29,
   "metadata": {
    "collapsed": false
   },
   "outputs": [],
   "source": [
    "SPY['ADX']=np.where(talib.ADX(np.asarray(SPY['close']),np.asarray(SPY['low']),np.asarray(SPY['high']),timeperiod=15)>45,1,0)"
   ]
  },
  {
   "cell_type": "code",
   "execution_count": 30,
   "metadata": {
    "collapsed": false
   },
   "outputs": [
    {
     "data": {
      "image/png": "[encoded data removed]",
      "text/plain": [
       "<matplotlib.figure.Figure at 0x7f6c5f2e5190>"
      ]
     },
     "metadata": {},
     "output_type": "display_data"
    }
   ],
   "source": [
    "pd.DataFrame.hist(SPY[['ADX']],bins=10,figsize = [5,5]);"
   ]
  },
  {
   "cell_type": "code",
   "execution_count": 136,
   "metadata": {
    "collapsed": false
   },
   "outputs": [],
   "source": [
    "#pd.DataFrame.hist(SPY[['Change']],bins=5,figsize = [5,5]);"
   ]
  },
  {
   "cell_type": "code",
   "execution_count": 135,
   "metadata": {
    "collapsed": false
   },
   "outputs": [],
   "source": [
    "#plt.plot(SPY['Change'])"
   ]
  },
  {
   "cell_type": "code",
   "execution_count": 139,
   "metadata": {
    "collapsed": false
   },
   "outputs": [],
   "source": [
    "#SPY['jUjD']=np.where(np.logical_and(SPY['jump'].shift(1)==1,SPY['Change']>0),1,np.where(np.logical_and(SPY['jump'].shift(1)==-1,SPY['Change']<0),-1,0))"
   ]
  },
  {
   "cell_type": "code",
   "execution_count": 140,
   "metadata": {
    "collapsed": false
   },
   "outputs": [],
   "source": [
    "#SPY.info()"
   ]
  },
  {
   "cell_type": "code",
   "execution_count": 145,
   "metadata": {
    "collapsed": false
   },
   "outputs": [],
   "source": [
    "#plt.plot(SPY['Change'].cumsum())"
   ]
  },
  {
   "cell_type": "code",
   "execution_count": 144,
   "metadata": {
    "collapsed": false
   },
   "outputs": [],
   "source": [
    "#pd.DataFrame.hist(SPY[['jUjD']],bins=5,figsize = [5,5]);"
   ]
  },
  {
   "cell_type": "code",
   "execution_count": 147,
   "metadata": {
    "collapsed": false
   },
   "outputs": [],
   "source": [
    "#SPY['volume_mean'].plot(figsize = [15,15])"
   ]
  },
  {
   "cell_type": "code",
   "execution_count": 155,
   "metadata": {
    "collapsed": true
   },
   "outputs": [],
   "source": [
    "#SPY['jUjD']=np.where(np.logical_and(SPY['jV'].shift(1)==1,SPY['Change']>0),1,np.where(np.logical_and(SPY['jV'].shift(1)==-1,SPY['Change']<0),-1,0))"
   ]
  },
  {
   "cell_type": "code",
   "execution_count": 154,
   "metadata": {
    "collapsed": false
   },
   "outputs": [],
   "source": [
    "#pd.DataFrame.hist(SPY[['jUjD']],bins=5,figsize = [5,5]);"
   ]
  },
  {
   "cell_type": "code",
   "execution_count": 38,
   "metadata": {
    "collapsed": true
   },
   "outputs": [],
   "source": [
    "def np_vwap():\n",
    "    return np.cumsum(SPY['volume']*(SPY['high']+SPY['low']+SPY['close'])/3) / np.cumsum(SPY['volume'])"
   ]
  },
  {
   "cell_type": "code",
   "execution_count": 39,
   "metadata": {
    "collapsed": false
   },
   "outputs": [],
   "source": [
    "SPY['VWAP']=np_vwap()"
   ]
  },
  {
   "cell_type": "markdown",
   "metadata": {},
   "source": [
    "str: if open/vwap > 1.001 then short and < 0.999 then buy.\n",
    "\n",
    "str:wap3 > vwap9*1.025 stop loss holding price*0.9\n",
    "\n",
    "Buy  =Cover=Ref(L,-1)>Ref(VWAP,-1)AND H>Ref(H,-1);\n",
    "Short=Sell=Ref(VWAP,-1)>Ref(H,-1)AND L\n"
   ]
  },
  {
   "cell_type": "code",
   "execution_count": 40,
   "metadata": {
    "collapsed": false
   },
   "outputs": [
    {
     "data": {
      "text/html": [
       "<div>\n",
       "<table border=\"1\" class=\"dataframe\">\n",
       "  <thead>\n",
       "    <tr style=\"text-align: right;\">\n",
       "      <th></th>\n",
       "      <th>high</th>\n",
       "      <th>low</th>\n",
       "      <th>open</th>\n",
       "      <th>close</th>\n",
       "      <th>total_volume</th>\n",
       "      <th>volume</th>\n",
       "      <th>ROC_5</th>\n",
       "      <th>ROC_15</th>\n",
       "      <th>ROC_25</th>\n",
       "      <th>ROC</th>\n",
       "      <th>RSI</th>\n",
       "      <th>ADX</th>\n",
       "      <th>VWAP</th>\n",
       "    </tr>\n",
       "  </thead>\n",
       "  <tbody>\n",
       "    <tr>\n",
       "      <th>2014-01-02 09:31:00</th>\n",
       "      <td>183.990</td>\n",
       "      <td>183.81</td>\n",
       "      <td>183.9800</td>\n",
       "      <td>183.890</td>\n",
       "      <td>4405796</td>\n",
       "      <td>942962</td>\n",
       "      <td>NaN</td>\n",
       "      <td>NaN</td>\n",
       "      <td>NaN</td>\n",
       "      <td>NaN</td>\n",
       "      <td>0</td>\n",
       "      <td>0</td>\n",
       "      <td>183.896667</td>\n",
       "    </tr>\n",
       "    <tr>\n",
       "      <th>2014-01-02 09:32:00</th>\n",
       "      <td>183.925</td>\n",
       "      <td>183.85</td>\n",
       "      <td>183.8900</td>\n",
       "      <td>183.895</td>\n",
       "      <td>5138040</td>\n",
       "      <td>722290</td>\n",
       "      <td>NaN</td>\n",
       "      <td>NaN</td>\n",
       "      <td>NaN</td>\n",
       "      <td>NaN</td>\n",
       "      <td>0</td>\n",
       "      <td>0</td>\n",
       "      <td>183.893775</td>\n",
       "    </tr>\n",
       "    <tr>\n",
       "      <th>2014-01-02 09:33:00</th>\n",
       "      <td>183.980</td>\n",
       "      <td>183.89</td>\n",
       "      <td>183.8901</td>\n",
       "      <td>183.960</td>\n",
       "      <td>5900903</td>\n",
       "      <td>753587</td>\n",
       "      <td>NaN</td>\n",
       "      <td>NaN</td>\n",
       "      <td>NaN</td>\n",
       "      <td>NaN</td>\n",
       "      <td>0</td>\n",
       "      <td>0</td>\n",
       "      <td>183.909215</td>\n",
       "    </tr>\n",
       "    <tr>\n",
       "      <th>2014-01-02 09:34:00</th>\n",
       "      <td>184.070</td>\n",
       "      <td>183.95</td>\n",
       "      <td>183.9600</td>\n",
       "      <td>183.970</td>\n",
       "      <td>6638010</td>\n",
       "      <td>722365</td>\n",
       "      <td>NaN</td>\n",
       "      <td>NaN</td>\n",
       "      <td>NaN</td>\n",
       "      <td>NaN</td>\n",
       "      <td>0</td>\n",
       "      <td>0</td>\n",
       "      <td>183.929326</td>\n",
       "    </tr>\n",
       "    <tr>\n",
       "      <th>2014-01-02 09:35:00</th>\n",
       "      <td>183.980</td>\n",
       "      <td>183.88</td>\n",
       "      <td>183.9700</td>\n",
       "      <td>183.880</td>\n",
       "      <td>6914733</td>\n",
       "      <td>271235</td>\n",
       "      <td>NaN</td>\n",
       "      <td>NaN</td>\n",
       "      <td>NaN</td>\n",
       "      <td>NaN</td>\n",
       "      <td>0</td>\n",
       "      <td>0</td>\n",
       "      <td>183.928055</td>\n",
       "    </tr>\n",
       "  </tbody>\n",
       "</table>\n",
       "</div>"
      ],
      "text/plain": [
       "                        high     low      open    close  total_volume  volume  \\\n",
       "2014-01-02 09:31:00  183.990  183.81  183.9800  183.890       4405796  942962   \n",
       "2014-01-02 09:32:00  183.925  183.85  183.8900  183.895       5138040  722290   \n",
       "2014-01-02 09:33:00  183.980  183.89  183.8901  183.960       5900903  753587   \n",
       "2014-01-02 09:34:00  184.070  183.95  183.9600  183.970       6638010  722365   \n",
       "2014-01-02 09:35:00  183.980  183.88  183.9700  183.880       6914733  271235   \n",
       "\n",
       "                     ROC_5  ROC_15  ROC_25  ROC  RSI  ADX        VWAP  \n",
       "2014-01-02 09:31:00    NaN     NaN     NaN  NaN    0    0  183.896667  \n",
       "2014-01-02 09:32:00    NaN     NaN     NaN  NaN    0    0  183.893775  \n",
       "2014-01-02 09:33:00    NaN     NaN     NaN  NaN    0    0  183.909215  \n",
       "2014-01-02 09:34:00    NaN     NaN     NaN  NaN    0    0  183.929326  \n",
       "2014-01-02 09:35:00    NaN     NaN     NaN  NaN    0    0  183.928055  "
      ]
     },
     "execution_count": 40,
     "metadata": {},
     "output_type": "execute_result"
    }
   ],
   "source": [
    "SPY.head()"
   ]
  },
  {
   "cell_type": "markdown",
   "metadata": {},
   "source": [
    "##### Total change after 5 min or 50 bars [O-Ref(C,-50)]"
   ]
  },
  {
   "cell_type": "code",
   "execution_count": 667,
   "metadata": {
    "collapsed": true
   },
   "outputs": [],
   "source": [
    "SPY['return']= np.where(SPY['open']>SPY['close'].shift(1),1,np.where(SPY['open']<SPY['close'].shift(1),-1,0))\n",
    "SPY['volume_ch']=SPY['volume']/SPY['volume'].shift(1)\n",
    "SPY['4Ch'] = SPY['open']-SPY['close'].shift(4)\n",
    "SPY['4VCh'] = SPY['volume']/SPY['volume'].shift(4)\n",
    "SPY['19Ch'] = SPY['open']-SPY['close'].shift(19)\n",
    "SPY['19VCh'] = SPY['volume']/SPY['volume'].shift(19)"
   ]
  },
  {
   "cell_type": "code",
   "execution_count": 666,
   "metadata": {
    "collapsed": true
   },
   "outputs": [],
   "source": [
    "##volume above 1 to get trend \n",
    "SPY['4J']=np.where(SPY['4Ch']>0.05,1,np.where(SPY['4Ch']<-0.05,-1,0))\n",
    "SPY['4jHV']=np.where(np.logical_and(SPY['4J']==1,SPY['4VCh']>1.2),1,np.where(np.logical_and(SPY['4J']==-1,SPY['4VCh']>1.2),-1,0))"
   ]
  },
  {
   "cell_type": "code",
   "execution_count": 672,
   "metadata": {
    "collapsed": true
   },
   "outputs": [],
   "source": [
    "##volume below 1 to get trend \n",
    "SPY['4J']=np.where(SPY['4Ch']>0.07,1,np.where(SPY['4Ch']<-0.07,-1,0))\n",
    "SPY['4jLV']=np.where(np.logical_and(SPY['4J']==1,SPY['4VCh']<0.70),1,np.where(np.logical_and(SPY['4J']==-1,SPY['4VCh']<0.70),-1,0))"
   ]
  },
  {
   "cell_type": "code",
   "execution_count": 670,
   "metadata": {
    "collapsed": true
   },
   "outputs": [],
   "source": [
    "##volume above 1 show tr possible\n",
    "SPY['19J']=np.where(SPY['19Ch']>0.2,1,np.where(SPY['19Ch']<-0.2,-1,0))"
   ]
  },
  {
   "cell_type": "code",
   "execution_count": 665,
   "metadata": {
    "collapsed": false
   },
   "outputs": [
    {
     "data": {
      "image/png": "[encoded data removed]",
      "text/plain": [
       "<matplotlib.figure.Figure at 0x7f833c15c950>"
      ]
     },
     "metadata": {},
     "output_type": "display_data"
    }
   ],
   "source": [
    "pd.DataFrame.hist(SPY[['4jHV']],bins=5,figsize = [5,5]);"
   ]
  },
  {
   "cell_type": "code",
   "execution_count": 671,
   "metadata": {
    "collapsed": false
   },
   "outputs": [
    {
     "data": {
      "image/png": "[encoded data removed]",
      "text/plain": [
       "<matplotlib.figure.Figure at 0x7f832efed190>"
      ]
     },
     "metadata": {},
     "output_type": "display_data"
    }
   ],
   "source": [
    "pd.DataFrame.hist(SPY[['19J']],bins=5,figsize = [5,5]);"
   ]
  },
  {
   "cell_type": "markdown",
   "metadata": {},
   "source": [
    "ROC,ADX with change 0.001% or 0.2, these have 16% frequency each"
   ]
  },
  {
   "cell_type": "code",
   "execution_count": 677,
   "metadata": {
    "collapsed": true
   },
   "outputs": [],
   "source": [
    "#after 4 bars\n",
    "SPY['4jHV_adx']=np.where(np.logical_and(SPY['4jHV']==1,SPY['ADX']==1),1,np.where(np.logical_and(SPY['4jHV']==-1,SPY['ADX']==1),-1,0))"
   ]
  },
  {
   "cell_type": "code",
   "execution_count": 678,
   "metadata": {
    "collapsed": false
   },
   "outputs": [
    {
     "data": {
      "image/png": "[encoded data removed]",
      "text/plain": [
       "<matplotlib.figure.Figure at 0x7f832f79c0d0>"
      ]
     },
     "metadata": {},
     "output_type": "display_data"
    }
   ],
   "source": [
    "pd.DataFrame.hist(SPY[['4jHV_adx']],bins=5,figsize = [5,5]);"
   ]
  },
  {
   "cell_type": "code",
   "execution_count": 681,
   "metadata": {
    "collapsed": true
   },
   "outputs": [],
   "source": [
    "#after 4 bars\n",
    "SPY['4jHV_roc4']=np.where(np.logical_and(SPY['4jHV']==1,SPY['ROC_4']==1),1,np.where(np.logical_and(SPY['4jHV']==-1,SPY['ROC_4']==-1),-1,0))"
   ]
  },
  {
   "cell_type": "code",
   "execution_count": 682,
   "metadata": {
    "collapsed": false
   },
   "outputs": [
    {
     "data": {
      "image/png": "[encoded data removed]",
      "text/plain": [
       "<matplotlib.figure.Figure at 0x7f832ef6bc50>"
      ]
     },
     "metadata": {},
     "output_type": "display_data"
    }
   ],
   "source": [
    "pd.DataFrame.hist(SPY[['4jHV_roc4']],bins=5,figsize = [5,5]);"
   ]
  },
  {
   "cell_type": "code",
   "execution_count": 685,
   "metadata": {
    "collapsed": true
   },
   "outputs": [],
   "source": [
    "#after 4 bars\n",
    "SPY['4jHV_roc']=np.where(np.logical_and(SPY['4jHV'].shift(15)==1,SPY['ROC']==1),1,np.where(np.logical_and(SPY['4jHV'].shift(15)==-1,SPY['ROC']==-1),-1,0))"
   ]
  },
  {
   "cell_type": "code",
   "execution_count": 686,
   "metadata": {
    "collapsed": false
   },
   "outputs": [
    {
     "data": {
      "image/png": "[encoded data removed]",
      "text/plain": [
       "<matplotlib.figure.Figure at 0x7f832ef24250>"
      ]
     },
     "metadata": {},
     "output_type": "display_data"
    }
   ],
   "source": [
    "pd.DataFrame.hist(SPY[['4jHV_roc']],bins=5,figsize = [5,5]);"
   ]
  },
  {
   "cell_type": "code",
   "execution_count": 687,
   "metadata": {
    "collapsed": true
   },
   "outputs": [],
   "source": [
    "#after 4 bars\n",
    "SPY['19J_roc']=np.where(np.logical_and(SPY['19J']==1,SPY['ROC']==1),1,np.where(np.logical_and(SPY['19J']==-1,SPY['ROC']==-1),-1,0))"
   ]
  },
  {
   "cell_type": "code",
   "execution_count": 688,
   "metadata": {
    "collapsed": false
   },
   "outputs": [
    {
     "data": {
      "image/png": "[encoded data removed]",
      "text/plain": [
       "<matplotlib.figure.Figure at 0x7f832e4e83d0>"
      ]
     },
     "metadata": {},
     "output_type": "display_data"
    }
   ],
   "source": [
    "pd.DataFrame.hist(SPY[['19J_roc']],bins=5,figsize = [5,5]);"
   ]
  },
  {
   "cell_type": "code",
   "execution_count": 468,
   "metadata": {
    "collapsed": true
   },
   "outputs": [],
   "source": [
    "SPY['trend']=np.where(np.logical_and(SPY['12jHV']==1,SPY['ADX']==1),1,np.where(np.logical_and(SPY['12jHV']==-1,SPY['momentum']==-1),-1,0))"
   ]
  },
  {
   "cell_type": "code",
   "execution_count": 469,
   "metadata": {
    "collapsed": false
   },
   "outputs": [
    {
     "data": {
      "image/png": "[encoded data removed]",
      "text/plain": [
       "<matplotlib.figure.Figure at 0x7f832f4515d0>"
      ]
     },
     "metadata": {},
     "output_type": "display_data"
    }
   ],
   "source": [
    "pd.DataFrame.hist(SPY[['trend_adx']],bins=5,figsize = [5,5]);"
   ]
  },
  {
   "cell_type": "code",
   "execution_count": 507,
   "metadata": {
    "collapsed": true
   },
   "outputs": [],
   "source": [
    "##volume above 1 show tr possible\n",
    "SPY['120J']=np.where(SPY['120Ch']>0.35,1,np.where(SPY['120Ch']<-0.3,-1,0))"
   ]
  },
  {
   "cell_type": "code",
   "execution_count": 508,
   "metadata": {
    "collapsed": false
   },
   "outputs": [
    {
     "data": {
      "image/png": "[encoded data removed]",
      "text/plain": [
       "<matplotlib.figure.Figure at 0x7f832f2d7910>"
      ]
     },
     "metadata": {},
     "output_type": "display_data"
    }
   ],
   "source": [
    "pd.DataFrame.hist(SPY[['120J']],bins=5,figsize = [5,5]);"
   ]
  },
  {
   "cell_type": "code",
   "execution_count": 509,
   "metadata": {
    "collapsed": true
   },
   "outputs": [],
   "source": [
    "SPY['1250jT']=np.where(np.logical_and(SPY['trend_cmo'].shift(38)==1,SPY['120J']==1),1,np.where(np.logical_and(SPY['trend_cmo'].shift(38)==-1,SPY['120J']==1),-1,0))"
   ]
  },
  {
   "cell_type": "code",
   "execution_count": 510,
   "metadata": {
    "collapsed": false
   },
   "outputs": [
    {
     "data": {
      "image/png": "[encoded data removed]",
      "text/plain": [
       "<matplotlib.figure.Figure at 0x7f832f239390>"
      ]
     },
     "metadata": {},
     "output_type": "display_data"
    }
   ],
   "source": [
    "pd.DataFrame.hist(SPY[['1250jT']],bins=5,figsize = [5,5]);"
   ]
  },
  {
   "cell_type": "code",
   "execution_count": 494,
   "metadata": {
    "collapsed": true
   },
   "outputs": [],
   "source": [
    "SPY['1250jT']=np.where(np.logical_and(SPY['trend_adx'].shift(38)==1,SPY['50J']==1),1,np.where(np.logical_and(SPY['trend_adx'].shift(38)==-1,SPY['50J']==1),-1,0))"
   ]
  },
  {
   "cell_type": "code",
   "execution_count": 495,
   "metadata": {
    "collapsed": false
   },
   "outputs": [
    {
     "data": {
      "image/png": "[encoded data removed]",
      "text/plain": [
       "<matplotlib.figure.Figure at 0x7f832f2e9890>"
      ]
     },
     "metadata": {},
     "output_type": "display_data"
    }
   ],
   "source": [
    "pd.DataFrame.hist(SPY[['1250jT']],bins=5,figsize = [5,5]);"
   ]
  },
  {
   "cell_type": "code",
   "execution_count": null,
   "metadata": {
    "collapsed": true
   },
   "outputs": [],
   "source": []
  }
 ],
 "metadata": {
  "kernelspec": {
   "display_name": "Python 2",
   "language": "python",
   "name": "python2"
  },
  "language_info": {
   "codemirror_mode": {
    "name": "ipython",
    "version": 2
   },
   "file_extension": ".py",
   "mimetype": "text/x-python",
   "name": "python",
   "nbconvert_exporter": "python",
   "pygments_lexer": "ipython2",
   "version": "2.7.11"
  }
 },
 "nbformat": 4,
 "nbformat_minor": 0
}
