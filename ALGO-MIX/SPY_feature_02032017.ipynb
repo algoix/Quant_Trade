{
 "cells": [
  {
   "cell_type": "code",
   "execution_count": 273,
   "metadata": {
    "collapsed": true
   },
   "outputs": [],
   "source": [
    "import numpy as np\n",
    "import pandas as pd\n",
    "import warnings; warnings.simplefilter('ignore')\n",
    "# plotting\n",
    "import matplotlib.pyplot as plt\n",
    "import seaborn as sns; sns.set()\n",
    "%matplotlib inline\n",
    "import matplotlib.pyplot as plt\n",
    "import numpy as np\n",
    "from sklearn import linear_model"
   ]
  },
  {
   "cell_type": "code",
   "execution_count": 274,
   "metadata": {
    "collapsed": true
   },
   "outputs": [],
   "source": [
    "#sqqq and tqqq are taken as IBdata feed not for SPXS \n",
    "path = '/home/octo/Dropbox/IQ_data/'\n",
    "spy=pd.read_csv(path + 'SPY.csv',names = [\"high\", \"low\", \"open\",\"close\",\"total_volume\",\"volume\"],index_col=0, parse_dates=True)\n",
    "sqqq= pd.read_csv(path + 'SQQQ.csv',names = [\"high\", \"low\", \"open\",\"close\",\"total_volume\",\"volume\"],index_col=0, parse_dates=True)\n",
    "tqqq=pd.read_csv(path + 'TQQQ.csv',names = [\"high\", \"low\", \"open\",\"close\",\"total_volume\",\"volume\"],index_col=0, parse_dates=True)\n",
    "spy=spy.tail(140000)\n",
    "sqqq=sqqq.tail(140000)\n",
    "tqqq=tqqq.tail(140000)"
   ]
  },
  {
   "cell_type": "code",
   "execution_count": 335,
   "metadata": {
    "collapsed": true
   },
   "outputs": [],
   "source": [
    "#df for datascience\n",
    "df=pd.DataFrame(data=spy.open)"
   ]
  },
  {
   "cell_type": "code",
   "execution_count": 336,
   "metadata": {
    "collapsed": true
   },
   "outputs": [],
   "source": [
    "#df['time']=df.index.strftime('%H:%M:%S')\n",
    "time=df.index.strftime('%H:%M:%S')"
   ]
  },
  {
   "cell_type": "markdown",
   "metadata": {},
   "source": [
    "# Feature Generation"
   ]
  },
  {
   "cell_type": "code",
   "execution_count": 337,
   "metadata": {
    "collapsed": false
   },
   "outputs": [],
   "source": [
    "# reversal, when market up or down\n",
    "NL=pd.rolling_sum(pd.DataFrame(data=spy.open-spy.close.shift(60)),12)\n",
    "NLqtop=pd.rolling_quantile(NL,720,.8)\n",
    "NLqbot=pd.rolling_quantile(NL,720,.2)\n",
    "df['R']=np.where(NL>NLqtop,1,np.where(NL<NLqbot,-1,0)) # only considering 1 and 0"
   ]
  },
  {
   "cell_type": "code",
   "execution_count": 298,
   "metadata": {
    "collapsed": false
   },
   "outputs": [],
   "source": [
    "df['speed']=pd.rolling_sum(pd.DataFrame(data=(spy.open-spy.close.shift(1))),60)\n",
    "speedQtop=pd.rolling_quantile(df.speed,1000,.7)\n",
    "speedb=np.where(df.speed<speedQtop,1,0) # 1 shows acceptable speed == speed below 70%"
   ]
  },
  {
   "cell_type": "code",
   "execution_count": 299,
   "metadata": {
    "collapsed": true
   },
   "outputs": [],
   "source": [
    "# only when volume ==1\n",
    "voltop=pd.rolling_quantile(spy.volume,1000,.7)\n",
    "df['vol']=np.where(spy.volume>voltop,1,0)"
   ]
  },
  {
   "cell_type": "markdown",
   "metadata": {},
   "source": [
    "#### ^^^ only dataset for speed ==1 and vol==1 ans R==1"
   ]
  },
  {
   "cell_type": "code",
   "execution_count": 300,
   "metadata": {
    "collapsed": true
   },
   "outputs": [],
   "source": [
    "P=(spy.high+spy.low+spy.close)/3\n",
    "vwap=pd.rolling_sum(spy.volume*P,12)/pd.rolling_sum(spy.volume,12)\n",
    "df['spread']=pd.rolling_sum(pd.DataFrame(data=(spy.open-vwap)),60)"
   ]
  },
  {
   "cell_type": "code",
   "execution_count": 301,
   "metadata": {
    "collapsed": false
   },
   "outputs": [],
   "source": [
    "# difference at '09:30:05' from last day close\n",
    "EO=np.where(time=='09:30:05',df.open-spy.close.shift(1),0)\n",
    "df['EO']=np.where(time=='09:30:05',df.open-spy.close.shift(1),0)     \n",
    "df['EO']=df.EO.replace(to_replace=0, method='ffill')"
   ]
  },
  {
   "cell_type": "code",
   "execution_count": 302,
   "metadata": {
    "collapsed": false
   },
   "outputs": [],
   "source": [
    "H=pd.rolling_max(spy.high,4600)\n",
    "L=pd.rolling_min(spy.low,4600)\n",
    "M=(H+L)/2"
   ]
  },
  {
   "cell_type": "code",
   "execution_count": 303,
   "metadata": {
    "collapsed": true
   },
   "outputs": [],
   "source": [
    "df['OF']=np.where(time=='09:30:05',df.open,0)\n",
    "df['OF']=df.OF.replace(to_replace=0, method='ffill')\n",
    "df['HF']=np.where(time=='09:30:05',H,0)\n",
    "df['HF']=df.HF.replace(to_replace=0, method='ffill')\n",
    "df['LF']=np.where(time=='09:30:05',L,0)\n",
    "df['LF']=df.LF.replace(to_replace=0, method='ffill')\n",
    "df['MF']=np.where(time=='09:30:05',M,0)\n",
    "df['MF']=df.MF.replace(to_replace=0, method='ffill')\n",
    "\n",
    "# for finding market state. EO for sentiment \n",
    "#df['HO']=df.OF-df.HF # +ve shows jump up\n",
    "#df['LO']=df.LF-df.OF # +ve shows jump down\n",
    "#df['MO']=df.OF-df.MF # +ve for state 3 or buy | -ve for state 2 or SS\n",
    "HO=df.OF-df.HF # +ve shows jump up\n",
    "LO=df.LF-df.OF # +ve shows jump down\n",
    "MO=df.OF-df.MF # +ve for state 3 or buy | -ve for state 2 or SS\n",
    "# for finding market state. EO for sentiment \n",
    "#df['HM']=df.HF-df.MF # +ve shows jump up\n",
    "#df['LM']=df.MF-df.LF # +ve shows jump down"
   ]
  },
  {
   "cell_type": "code",
   "execution_count": 304,
   "metadata": {
    "collapsed": true
   },
   "outputs": [],
   "source": [
    "#Market spread from opening price\n",
    "#df['EO']=np.where(EO==0,EO[time=='09:30:05'][-1],0)\n",
    "#df['OO']=df.open-O # changing points"
   ]
  },
  {
   "cell_type": "code",
   "execution_count": 305,
   "metadata": {
    "collapsed": true
   },
   "outputs": [],
   "source": [
    "#H L M price spread from opening price\n",
    "\n",
    "#df['HO']=df.open-df.HF # positive spread if at state 4\n",
    "#df['LO']=df.LF-df.open # +ve shows jump down\n",
    "#df['HO']=df.open-H # positive spread if at state 4\n",
    "#df['LO']=L- df.open # +ve shows jump down\n",
    "#df['MD']=df.open-df.MF # +ve for state 3 or buy | -ve for state 3 or SS\n",
    "df['OD']=df.open-df.OF"
   ]
  },
  {
   "cell_type": "code",
   "execution_count": 306,
   "metadata": {
    "collapsed": true
   },
   "outputs": [],
   "source": [
    "#SEntiment\n",
    "\n",
    "df['S']=np.where(df.EO>0,1,np.where(df.EO<-0,-1,0))"
   ]
  },
  {
   "cell_type": "code",
   "execution_count": 307,
   "metadata": {
    "collapsed": true
   },
   "outputs": [],
   "source": [
    "#market state\n",
    "\n",
    "df['MS']=np.where(HO>0,4,np.where(MO>0,3,np.where(MO<0,2,np.where(LO>0,1,0))))"
   ]
  },
  {
   "cell_type": "markdown",
   "metadata": {},
   "source": [
    "# Signal"
   ]
  },
  {
   "cell_type": "code",
   "execution_count": 308,
   "metadata": {
    "collapsed": true
   },
   "outputs": [],
   "source": [
    "UT=pd.rolling_max(P,60)+pd.rolling_mean((spy.high-spy.low), window=60)-0.02\n",
    "DT=pd.rolling_min(P,60)-pd.rolling_mean((spy.high-spy.low), window=60)+0.02\n",
    "df['BS']=np.where(df.open<=DT,1,np.where(df.open>=UT,-1,0))"
   ]
  },
  {
   "cell_type": "code",
   "execution_count": 310,
   "metadata": {
    "collapsed": false
   },
   "outputs": [
    {
     "data": {
      "image/png": "[encoded data removed]",
      "text/plain": [
       "<matplotlib.figure.Figure at 0x7f56f0c82550>"
      ]
     },
     "metadata": {},
     "output_type": "display_data"
    }
   ],
   "source": [
    "# market jumped up and down\n",
    "\n",
    "df[['HF','LF','open']].tail(15000).plot(figsize=(16, 10))\n",
    "plt.show()"
   ]
  },
  {
   "cell_type": "code",
   "execution_count": 311,
   "metadata": {
    "collapsed": false
   },
   "outputs": [
    {
     "data": {
      "image/png": "[encoded data removed]",
      "text/plain": [
       "<matplotlib.figure.Figure at 0x7f56ea07a990>"
      ]
     },
     "metadata": {},
     "output_type": "display_data"
    }
   ],
   "source": [
    "df[['EO','OD']].tail(15000).plot(figsize=(16, 10))\n",
    "plt.show()"
   ]
  },
  {
   "cell_type": "markdown",
   "metadata": {},
   "source": [
    "### Regression for feature generation: Reversal"
   ]
  },
  {
   "cell_type": "code",
   "execution_count": 313,
   "metadata": {
    "collapsed": true
   },
   "outputs": [],
   "source": [
    "p60=pd.DataFrame(data=spy.close.shift(60))\n",
    "df=df.tail(130000)"
   ]
  },
  {
   "cell_type": "code",
   "execution_count": 320,
   "metadata": {
    "collapsed": false
   },
   "outputs": [],
   "source": [
    "# Create linear regression object\n",
    "regr = linear_model.LinearRegression()\n",
    "# Train the model using the training sets\n",
    "regr.fit(pd.DataFrame(spy.open.tail(130000)),pd.DataFrame(p60.tail(130000)))\n",
    "df['pr']=regr.predict(pd.DataFrame(p60.tail(130000)))"
   ]
  },
  {
   "cell_type": "code",
   "execution_count": 321,
   "metadata": {
    "collapsed": false
   },
   "outputs": [],
   "source": [
    "err=df.open-df.pr\n",
    "errQtop=pd.rolling_quantile(err,1000,.95)\n",
    "errQbot=pd.rolling_quantile(err,1000,.05)\n",
    "df['err']=np.where(err>errQtop,1,np.where(err<errQbot,-1,0))"
   ]
  },
  {
   "cell_type": "code",
   "execution_count": 323,
   "metadata": {
    "collapsed": false
   },
   "outputs": [],
   "source": [
    "df=df.dropna()"
   ]
  },
  {
   "cell_type": "code",
   "execution_count": 327,
   "metadata": {
    "collapsed": true
   },
   "outputs": [],
   "source": [
    "df_ml=df"
   ]
  },
  {
   "cell_type": "code",
   "execution_count": 326,
   "metadata": {
    "collapsed": false
   },
   "outputs": [
    {
     "data": {
      "text/plain": [
       "\"df_ml['speed']=df.speed\\ndf_ml['V']=df.vol\\ndf_ml['R']=df.R\\ndf_ml['spread']=df.spread\\ndf_ml['EO']=df.EO\\ndf_ml['OD']=df.OD\\ndf_ml['HF']=df.HF\\ndf_ml['LF']=df.LF\\ndf_ml['S']=df.S\\ndf_ml['MS']=df.MS\\ndf_ml['err']=df.err\""
      ]
     },
     "execution_count": 326,
     "metadata": {},
     "output_type": "execute_result"
    }
   ],
   "source": [
    "\"\"\"df_ml['speed']=df.speed\n",
    "df_ml['V']=df.vol\n",
    "df_ml['R']=df.R\n",
    "df_ml['spread']=df.spread\n",
    "df_ml['EO']=df.EO\n",
    "df_ml['OD']=df.OD\n",
    "df_ml['HF']=df.HF\n",
    "df_ml['LF']=df.LF\n",
    "df_ml['S']=df.S\n",
    "df_ml['MS']=df.MS\n",
    "df_ml['err']=df.err\"\"\""
   ]
  },
  {
   "cell_type": "code",
   "execution_count": 334,
   "metadata": {
    "collapsed": false
   },
   "outputs": [
    {
     "data": {
      "text/html": [
       "<div>\n",
       "<table border=\"1\" class=\"dataframe\">\n",
       "  <thead>\n",
       "    <tr style=\"text-align: right;\">\n",
       "      <th></th>\n",
       "      <th>open</th>\n",
       "      <th>R</th>\n",
       "      <th>speed</th>\n",
       "      <th>vol</th>\n",
       "      <th>spread</th>\n",
       "      <th>EO</th>\n",
       "      <th>OF</th>\n",
       "      <th>HF</th>\n",
       "      <th>LF</th>\n",
       "      <th>MF</th>\n",
       "      <th>OD</th>\n",
       "      <th>S</th>\n",
       "      <th>MS</th>\n",
       "      <th>BS</th>\n",
       "      <th>pr</th>\n",
       "      <th>err</th>\n",
       "    </tr>\n",
       "  </thead>\n",
       "  <tbody>\n",
       "    <tr>\n",
       "      <th>2017-03-01 15:58:00</th>\n",
       "      <td>239.77</td>\n",
       "      <td>1</td>\n",
       "      <td>0.0164</td>\n",
       "      <td>1</td>\n",
       "      <td>-1.190232</td>\n",
       "      <td>1.87</td>\n",
       "      <td>238.38</td>\n",
       "      <td>238.47</td>\n",
       "      <td>236.015</td>\n",
       "      <td>237.2425</td>\n",
       "      <td>1.39</td>\n",
       "      <td>1</td>\n",
       "      <td>3</td>\n",
       "      <td>0</td>\n",
       "      <td>240.019313</td>\n",
       "      <td>-1</td>\n",
       "    </tr>\n",
       "    <tr>\n",
       "      <th>2017-03-01 15:58:05</th>\n",
       "      <td>239.75</td>\n",
       "      <td>1</td>\n",
       "      <td>0.0114</td>\n",
       "      <td>1</td>\n",
       "      <td>-1.185143</td>\n",
       "      <td>1.87</td>\n",
       "      <td>238.38</td>\n",
       "      <td>238.47</td>\n",
       "      <td>236.015</td>\n",
       "      <td>237.2425</td>\n",
       "      <td>1.37</td>\n",
       "      <td>1</td>\n",
       "      <td>3</td>\n",
       "      <td>0</td>\n",
       "      <td>240.004330</td>\n",
       "      <td>-1</td>\n",
       "    </tr>\n",
       "    <tr>\n",
       "      <th>2017-03-01 15:58:10</th>\n",
       "      <td>239.75</td>\n",
       "      <td>1</td>\n",
       "      <td>0.0014</td>\n",
       "      <td>1</td>\n",
       "      <td>-1.176132</td>\n",
       "      <td>1.87</td>\n",
       "      <td>238.38</td>\n",
       "      <td>238.47</td>\n",
       "      <td>236.015</td>\n",
       "      <td>237.2425</td>\n",
       "      <td>1.37</td>\n",
       "      <td>1</td>\n",
       "      <td>3</td>\n",
       "      <td>0</td>\n",
       "      <td>240.004430</td>\n",
       "      <td>-1</td>\n",
       "    </tr>\n",
       "    <tr>\n",
       "      <th>2017-03-01 15:58:15</th>\n",
       "      <td>239.77</td>\n",
       "      <td>1</td>\n",
       "      <td>0.0015</td>\n",
       "      <td>1</td>\n",
       "      <td>-1.156785</td>\n",
       "      <td>1.87</td>\n",
       "      <td>238.38</td>\n",
       "      <td>238.47</td>\n",
       "      <td>236.015</td>\n",
       "      <td>237.2425</td>\n",
       "      <td>1.39</td>\n",
       "      <td>1</td>\n",
       "      <td>3</td>\n",
       "      <td>0</td>\n",
       "      <td>240.014319</td>\n",
       "      <td>-1</td>\n",
       "    </tr>\n",
       "    <tr>\n",
       "      <th>2017-03-01 15:59:20</th>\n",
       "      <td>239.69</td>\n",
       "      <td>1</td>\n",
       "      <td>-0.0282</td>\n",
       "      <td>1</td>\n",
       "      <td>-0.482317</td>\n",
       "      <td>1.87</td>\n",
       "      <td>238.38</td>\n",
       "      <td>238.47</td>\n",
       "      <td>236.015</td>\n",
       "      <td>237.2425</td>\n",
       "      <td>1.31</td>\n",
       "      <td>1</td>\n",
       "      <td>3</td>\n",
       "      <td>1</td>\n",
       "      <td>239.894451</td>\n",
       "      <td>-1</td>\n",
       "    </tr>\n",
       "  </tbody>\n",
       "</table>\n",
       "</div>"
      ],
      "text/plain": [
       "                       open  R   speed  vol    spread    EO      OF      HF  \\\n",
       "2017-03-01 15:58:00  239.77  1  0.0164    1 -1.190232  1.87  238.38  238.47   \n",
       "2017-03-01 15:58:05  239.75  1  0.0114    1 -1.185143  1.87  238.38  238.47   \n",
       "2017-03-01 15:58:10  239.75  1  0.0014    1 -1.176132  1.87  238.38  238.47   \n",
       "2017-03-01 15:58:15  239.77  1  0.0015    1 -1.156785  1.87  238.38  238.47   \n",
       "2017-03-01 15:59:20  239.69  1 -0.0282    1 -0.482317  1.87  238.38  238.47   \n",
       "\n",
       "                          LF        MF    OD  S  MS  BS          pr  err  \n",
       "2017-03-01 15:58:00  236.015  237.2425  1.39  1   3   0  240.019313   -1  \n",
       "2017-03-01 15:58:05  236.015  237.2425  1.37  1   3   0  240.004330   -1  \n",
       "2017-03-01 15:58:10  236.015  237.2425  1.37  1   3   0  240.004430   -1  \n",
       "2017-03-01 15:58:15  236.015  237.2425  1.39  1   3   0  240.014319   -1  \n",
       "2017-03-01 15:59:20  236.015  237.2425  1.31  1   3   1  239.894451   -1  "
      ]
     },
     "execution_count": 334,
     "metadata": {},
     "output_type": "execute_result"
    }
   ],
   "source": [
    "df_ml.tail()"
   ]
  },
  {
   "cell_type": "code",
   "execution_count": 333,
   "metadata": {
    "collapsed": false
   },
   "outputs": [
    {
     "ename": "ValueError",
     "evalue": "Item wrong length 140000 instead of 14458.",
     "output_type": "error",
     "traceback": [
      "\u001b[1;31m---------------------------------------------------------------------------\u001b[0m",
      "\u001b[1;31mValueError\u001b[0m                                Traceback (most recent call last)",
      "\u001b[1;32m<ipython-input-333-2aa315e1f7f0>\u001b[0m in \u001b[0;36m<module>\u001b[1;34m()\u001b[0m\n\u001b[0;32m      1\u001b[0m \u001b[1;31m# reduce dataset based on volume and speed\u001b[0m\u001b[1;33m\u001b[0m\u001b[1;33m\u001b[0m\u001b[0m\n\u001b[0;32m      2\u001b[0m \u001b[0mdf_ml\u001b[0m\u001b[1;33m=\u001b[0m\u001b[0mdf_ml\u001b[0m\u001b[1;33m[\u001b[0m\u001b[0mdf_ml\u001b[0m\u001b[1;33m.\u001b[0m\u001b[0merr\u001b[0m\u001b[1;33m!=\u001b[0m\u001b[1;36m0\u001b[0m\u001b[1;33m]\u001b[0m \u001b[1;31m# all decision when volume above 30% or vol==1\u001b[0m\u001b[1;33m\u001b[0m\u001b[0m\n\u001b[1;32m----> 3\u001b[1;33m \u001b[0mdf_ml\u001b[0m\u001b[1;33m=\u001b[0m\u001b[0mdf_ml\u001b[0m\u001b[1;33m[\u001b[0m\u001b[0mspeedb\u001b[0m\u001b[1;33m!=\u001b[0m\u001b[1;36m0\u001b[0m\u001b[1;33m]\u001b[0m \u001b[1;31m# 1 shows acceptable speed\u001b[0m\u001b[1;33m\u001b[0m\u001b[0m\n\u001b[0m\u001b[0;32m      4\u001b[0m \u001b[0mdf_ml\u001b[0m\u001b[1;33m=\u001b[0m\u001b[0mdf_val\u001b[0m\u001b[1;33m.\u001b[0m\u001b[0mdropna\u001b[0m\u001b[1;33m(\u001b[0m\u001b[1;33m)\u001b[0m\u001b[1;33m\u001b[0m\u001b[0m\n",
      "\u001b[1;32m/home/octo/anaconda2/envs/PyAlgo/lib/python2.7/site-packages/pandas/core/frame.pyc\u001b[0m in \u001b[0;36m__getitem__\u001b[1;34m(self, key)\u001b[0m\n\u001b[0;32m   1961\u001b[0m         \u001b[1;32mif\u001b[0m \u001b[0misinstance\u001b[0m\u001b[1;33m(\u001b[0m\u001b[0mkey\u001b[0m\u001b[1;33m,\u001b[0m \u001b[1;33m(\u001b[0m\u001b[0mSeries\u001b[0m\u001b[1;33m,\u001b[0m \u001b[0mnp\u001b[0m\u001b[1;33m.\u001b[0m\u001b[0mndarray\u001b[0m\u001b[1;33m,\u001b[0m \u001b[0mIndex\u001b[0m\u001b[1;33m,\u001b[0m \u001b[0mlist\u001b[0m\u001b[1;33m)\u001b[0m\u001b[1;33m)\u001b[0m\u001b[1;33m:\u001b[0m\u001b[1;33m\u001b[0m\u001b[0m\n\u001b[0;32m   1962\u001b[0m             \u001b[1;31m# either boolean or fancy integer index\u001b[0m\u001b[1;33m\u001b[0m\u001b[1;33m\u001b[0m\u001b[0m\n\u001b[1;32m-> 1963\u001b[1;33m             \u001b[1;32mreturn\u001b[0m \u001b[0mself\u001b[0m\u001b[1;33m.\u001b[0m\u001b[0m_getitem_array\u001b[0m\u001b[1;33m(\u001b[0m\u001b[0mkey\u001b[0m\u001b[1;33m)\u001b[0m\u001b[1;33m\u001b[0m\u001b[0m\n\u001b[0m\u001b[0;32m   1964\u001b[0m         \u001b[1;32melif\u001b[0m \u001b[0misinstance\u001b[0m\u001b[1;33m(\u001b[0m\u001b[0mkey\u001b[0m\u001b[1;33m,\u001b[0m \u001b[0mDataFrame\u001b[0m\u001b[1;33m)\u001b[0m\u001b[1;33m:\u001b[0m\u001b[1;33m\u001b[0m\u001b[0m\n\u001b[0;32m   1965\u001b[0m             \u001b[1;32mreturn\u001b[0m \u001b[0mself\u001b[0m\u001b[1;33m.\u001b[0m\u001b[0m_getitem_frame\u001b[0m\u001b[1;33m(\u001b[0m\u001b[0mkey\u001b[0m\u001b[1;33m)\u001b[0m\u001b[1;33m\u001b[0m\u001b[0m\n",
      "\u001b[1;32m/home/octo/anaconda2/envs/PyAlgo/lib/python2.7/site-packages/pandas/core/frame.pyc\u001b[0m in \u001b[0;36m_getitem_array\u001b[1;34m(self, key)\u001b[0m\n\u001b[0;32m   1998\u001b[0m             \u001b[1;32melif\u001b[0m \u001b[0mlen\u001b[0m\u001b[1;33m(\u001b[0m\u001b[0mkey\u001b[0m\u001b[1;33m)\u001b[0m \u001b[1;33m!=\u001b[0m \u001b[0mlen\u001b[0m\u001b[1;33m(\u001b[0m\u001b[0mself\u001b[0m\u001b[1;33m.\u001b[0m\u001b[0mindex\u001b[0m\u001b[1;33m)\u001b[0m\u001b[1;33m:\u001b[0m\u001b[1;33m\u001b[0m\u001b[0m\n\u001b[0;32m   1999\u001b[0m                 raise ValueError('Item wrong length %d instead of %d.' %\n\u001b[1;32m-> 2000\u001b[1;33m                                  (len(key), len(self.index)))\n\u001b[0m\u001b[0;32m   2001\u001b[0m             \u001b[1;31m# check_bool_indexer will throw exception if Series key cannot\u001b[0m\u001b[1;33m\u001b[0m\u001b[1;33m\u001b[0m\u001b[0m\n\u001b[0;32m   2002\u001b[0m             \u001b[1;31m# be reindexed to match DataFrame rows\u001b[0m\u001b[1;33m\u001b[0m\u001b[1;33m\u001b[0m\u001b[0m\n",
      "\u001b[1;31mValueError\u001b[0m: Item wrong length 140000 instead of 14458."
     ]
    }
   ],
   "source": [
    "# reduce dataset based on volume and speed\n",
    "df_ml=df_ml[df_ml.err!=0] # all decision when volume above 30% or vol==1\n",
    "df_ml=df_ml[speedb!=0] # 1 shows acceptable speed\n",
    "df_ml=df_val.dropna()"
   ]
  },
  {
   "cell_type": "code",
   "execution_count": 332,
   "metadata": {
    "collapsed": false
   },
   "outputs": [
    {
     "data": {
      "text/plain": [
       "130000"
      ]
     },
     "execution_count": 332,
     "metadata": {},
     "output_type": "execute_result"
    }
   ],
   "source": [
    "len(df.speed)"
   ]
  },
  {
   "cell_type": "code",
   "execution_count": 331,
   "metadata": {
    "collapsed": false
   },
   "outputs": [
    {
     "data": {
      "text/plain": [
       "14458"
      ]
     },
     "execution_count": 331,
     "metadata": {},
     "output_type": "execute_result"
    }
   ],
   "source": [
    "len(df_ml.speed)"
   ]
  },
  {
   "cell_type": "markdown",
   "metadata": {},
   "source": [
    "# Machine Learning"
   ]
  },
  {
   "cell_type": "code",
   "execution_count": null,
   "metadata": {
    "collapsed": true
   },
   "outputs": [],
   "source": []
  }
 ],
 "metadata": {
  "kernelspec": {
   "display_name": "Python 2",
   "language": "python",
   "name": "python2"
  },
  "language_info": {
   "codemirror_mode": {
    "name": "ipython",
    "version": 2
   },
   "file_extension": ".py",
   "mimetype": "text/x-python",
   "name": "python",
   "nbconvert_exporter": "python",
   "pygments_lexer": "ipython2",
   "version": "2.7.11"
  }
 },
 "nbformat": 4,
 "nbformat_minor": 0
}
