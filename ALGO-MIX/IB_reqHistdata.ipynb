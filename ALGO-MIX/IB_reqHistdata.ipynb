{
 "cells": [
  {
   "cell_type": "markdown",
   "metadata": {},
   "source": [
    "https://github.com/busygin/ib_data_loader\n",
    "\n",
    "http://interactivebrokers.github.io/tws-api/historical_data.html#available_products_hd&gsc.tab=0"
   ]
  },
  {
   "cell_type": "code",
   "execution_count": 15,
   "metadata": {
    "collapsed": true
   },
   "outputs": [],
   "source": [
    "from time import sleep, strftime, localtime  \n",
    "from ib.ext.Contract import Contract\n",
    "from ib.opt import ibConnection, message\n",
    "import time\n",
    "import sys\n",
    "import pandas as pd\n",
    "import _mysql "
   ]
  },
  {
   "cell_type": "code",
   "execution_count": 16,
   "metadata": {
    "collapsed": true
   },
   "outputs": [],
   "source": [
    "def my_account_handler(msg):\n",
    "    print(msg)\n",
    "def my_tick_handler(msg):\n",
    "    print(msg)\n",
    "def my_hist_data_handler(msg):\n",
    "    print(msg)\n",
    "def watchAll(msg):\n",
    "    print(msg)"
   ]
  },
  {
   "cell_type": "code",
   "execution_count": 17,
   "metadata": {
    "collapsed": false
   },
   "outputs": [
    {
     "name": "stdout",
     "output_type": "stream",
     "text": [
      "Server Version: 76\n",
      "TWS Time at connection:20160914 15:01:50 IST\n"
     ]
    },
    {
     "data": {
      "text/plain": [
       "True"
      ]
     },
     "execution_count": 17,
     "metadata": {},
     "output_type": "execute_result"
    },
    {
     "name": "stdout",
     "output_type": "stream",
     "text": [
      "<managedAccounts accountsList=U1329952>\n",
      "<nextValidId orderId=14648>\n",
      "<error id=-1, errorCode=2104, errorMsg=Market data farm connection is OK:usfarm.us>\n",
      "<error id=-1, errorCode=2104, errorMsg=Market data farm connection is OK:hfarm>\n",
      "<error id=-1, errorCode=2104, errorMsg=Market data farm connection is OK:cashfarm>\n",
      "<error id=-1, errorCode=2104, errorMsg=Market data farm connection is OK:usfuture>\n",
      "<error id=-1, errorCode=2104, errorMsg=Market data farm connection is OK:afarm>\n",
      "<error id=-1, errorCode=2104, errorMsg=Market data farm connection is OK:usbond>\n",
      "<error id=-1, errorCode=2104, errorMsg=Market data farm connection is OK:jfarm>\n",
      "<error id=-1, errorCode=2104, errorMsg=Market data farm connection is OK:eufarm>\n",
      "<error id=-1, errorCode=2104, errorMsg=Market data farm connection is OK:usopt>\n",
      "<error id=-1, errorCode=2104, errorMsg=Market data farm connection is OK:usfarm>\n",
      "<error id=-1, errorCode=2106, errorMsg=HMDS data farm connection is OK:ushmds.us>\n",
      "<error id=-1, errorCode=2106, errorMsg=HMDS data farm connection is OK:ilhmds>\n",
      "<error id=-1, errorCode=2106, errorMsg=HMDS data farm connection is OK:hthmds>\n",
      "<error id=-1, errorCode=2106, errorMsg=HMDS data farm connection is OK:ethmds>\n",
      "<error id=-1, errorCode=2106, errorMsg=HMDS data farm connection is OK:fundfarm>\n",
      "<error id=-1, errorCode=2106, errorMsg=HMDS data farm connection is OK:ushmds>\n"
     ]
    }
   ],
   "source": [
    "con = ibConnection()  \n",
    "con.registerAll(watchAll)\n",
    "con.unregister(watchAll, message.historicalData)\n",
    "con.register(my_hist_data_handler, message.historicalData)  \n",
    "con.connect()"
   ]
  },
  {
   "cell_type": "code",
   "execution_count": 20,
   "metadata": {
    "collapsed": true
   },
   "outputs": [],
   "source": [
    "def inner():\n",
    "    symbol_id = 0\n",
    "    qqqq = Contract()\n",
    "    qqqq.m_secType = \"STK\" \n",
    "    qqqq.m_symbol = \"SQQQ\"\n",
    "    qqqq.m_currency = \"USD\"\n",
    "    qqqq.m_exchange = \"ARCA\"\n",
    "    endtime = strftime('%Y%m%d %H:%M:%S')\n",
    "    con.reqHistoricalData(symbol_id,qqqq,endtime,\"5 D\",\"5 secs\",\"TRADES\",1,1)\n",
    "    symbol_id = symbol_id + 1  \n",
    "    sleep(0.5)    "
   ]
  },
  {
   "cell_type": "code",
   "execution_count": 21,
   "metadata": {
    "collapsed": false
   },
   "outputs": [
    {
     "name": "stdout",
     "output_type": "stream",
     "text": [
      "None\n",
      "<error id=0, errorCode=162, errorMsg=Historical Market Data Service error message:invalid step: 5>\n"
     ]
    }
   ],
   "source": [
    "print(inner())"
   ]
  },
  {
   "cell_type": "code",
   "execution_count": 14,
   "metadata": {
    "collapsed": false
   },
   "outputs": [
    {
     "name": "stdout",
     "output_type": "stream",
     "text": [
      "('disconnected', True)\n"
     ]
    }
   ],
   "source": [
    "print('disconnected', con.disconnect())"
   ]
  },
  {
   "cell_type": "markdown",
   "metadata": {},
   "source": [
    "ANOTHER"
   ]
  },
  {
   "cell_type": "code",
   "execution_count": null,
   "metadata": {
    "collapsed": true
   },
   "outputs": [],
   "source": [
    "new_symbolinput = ['SQQQ','UWTI']\n",
    "#['MMM','ACE','AES','AFL','GAS','T','ABT','ANF','ACN','ADBE','AMD','AET','A','APD','ARG','AKAM','AA','ALXN','ATI','AGN','ALL','ANR','ALTR','MO','AMZN','AEE','AEP','AXP','AIG','AMT','AMP','ABC','AMGN','APH','APC','ADI','AON','APA','AIV','APOL','AAPL','AMAT','ADM','AIZ','AN','AZO','ADSK','ADP','AVB','AVY','AVP','BBT','BMC','BHI','BLL','BAC','BCR','BAX','BEAM','BDX','BBBY','BMS','BRK B','BBY','BIG','BIIB','BLK','HRB','BA','BWA','BXP','BSX','BMY','BRCM','BF B','CA','CBG','CBS','CF','CHRW','CMS','CNX','CSX','CVS','CVC','COG','CAM','CPB','COF','CAH','CFN','KMX','CCL','CAT','CELG','CNP','CTL','CERN','CHK','CVX','CME','CMG','CB','CI','CINF','CTAS','CSCO','C','CTXS','CLF','CLX','COH','KO','CCE','CTSH','CL','CMCSA','CMA','CSC','CAG','COP','ED','STZ','CBE','GLW','COST','CVH','COV','CCI','CMI','DTV','DTE','DHR','DRI','DVA','DV','DF','DE','DELL','DNR','XRAY','DVN','DO','DFS','DISCA','DLTR','D','RRD','DOV','DOW','DPS','DD','DUK','DNB','ETFC','EMC','EOG','EQT','EMN','ETN','ECL','EIX','EW','EA','EMR','ETR','EFX','EQR','EL','EXC','EXPE','EXPD','ESRX','XOM','FFIV','FLIR','FMC','FTI','FDO','FAST','FDX','FII','FIS','FITB','FHN','FSLR','FE','FISV','FLS','FLR','F','FRX','FOSL','BEN','FCX','FTR','GME','GCI','GPS','GD','GE','GIS','GPC','GNW','GILD','GS','GR','GT','GOOG','GWW','HCP','HAL','HOG','HAR','HRS','HIG','HAS','HCN','HNZ','HP','HSY','HES','HPQ','HD','HON','HRL','DHI','HSP','HST','HCBK','HUM','HBAN','ITW','IR','TEG','INTC','ICE','IPG','IBM','IFF','IGT','IP','INTU','ISRG','IVZ','IRM','JDSU','JPM','JBL','JEC','JNJ','JCI','JOY','JNPR','KLAC','K','KEY','KMB','KIM','KMI','KSS','KFT','KR','LLL','LSI','LH','LRCX','LM','LEG','LEN','LUK','LXK','LIFE','LLY','LTD','LNC','LLTC','LMT','L','LO','LOW','MTB','M','MRO','MPC','MAR','MMC','MAS','MA','MAT','MKC','MCD','MHP','MCK','MJN','MWV','MDT','MRK','MET','PCS','MCHP','MU','MSFT','MOLX','TAP','MON','MCO','MS','MOS','MSI','MUR','MYL','NKE','NRG','NYX','NBR','NDAQ','NOV','NTAP','NFLX','NWL','NFX','NEM','NWSA','NEE','NI','NE','NBL','JWN','NSC','NU','NTRS','NOC','NUE','NVDA','ORLY','OKE','OXY','OMC','ORCL','OI','PCAR','PCG','PNC','PPG','PPL','PLL','PH','PDCO','PAYX','BTU','JCP','PBCT','POM','PEP','PKI','PRGO','PFE','PM','PSX','PNW','PXD','PBI','PCL','PX','PCP','PCLN','PFG','PLD','PG','PGN','PGR','PRU','PEG','PSA','PHM','QEP','QCOM','PWR','DGX','RL','RRC','RTN','RHT','RF','RSG','RAI','RHI','ROK','COL','ROP','ROST','RDC','R','SAI','SCG','SLM','SWY','CRM','SNDK','SLE','SLB','SCHW','SNI','SEE','SHLD','SRE','SHW','SIAL','SPG','SJM','SNA','SO','LUV','SWN','SE','S','STJ','SWK','SPLS','SBUX','HOT','STT','SRCL','SYK','STI','SUN','SYMC','SYY','TROW','TEL','TE','TJX','TGT','THC','TDC','TER','TSO','TXN','TXT','BK','WMB','TMO','TIF','TWC','TWX','TIE','TMK','TSS','TRV','TRIP','TYC','TSN','USB','UNP','UPS','X','UTX','UNH','UNM','URBN','VFC','VLO','VAR','VTR','VRSN','VZ','VIAB','V','VNO','VMC','WPX','WMT','WAG','DIS','WPO','WM','WAT','WPI','WLP','WFC','WDC','WU','WY','WHR','WFM','WIN','WEC','WYN','WYNN','XL','XEL','XRX','XLNX','XYL','YHOO','YUM','ZMH','ZION','EBAY']  \n",
    "newDataList = []  \n",
    "dataDownload = [] \n",
    "def historical_data_handler(msg):\n",
    "  global newDataList\n",
    "  #print msg.reqId, msg.date, msg.open, msg.high, msg.low, msg.close, msg.volume\n",
    "  if ('finished' in str(msg.date)) == False:\n",
    "    new_symbol = new_symbolinput[msg.reqId]\n",
    "    dataStr = '%s, %s, %s, %s, %s, %s, %s' % (new_symbol, strftime(\"%Y-%m-%d %H:%M:%S\", localtime(int(msg.date))), msg.open, msg.high, msg.low, msg.close, msg.volume)\n",
    "    newDataList = newDataList + [dataStr]\n",
    "  else:\n",
    "    new_symbol = new_symbolinput[msg.reqId]\n",
    "    filename = 'minutetrades' + new_symbol + '.csv'\n",
    "    csvfile = open('/home/octo/Desktop/PROJECT/DATA/IB_data/' + filename,'wb')\n",
    "    for item in newDataList:\n",
    "      csvfile.write('%s \\n' % item)\n",
    "    csvfile.close()\n",
    "    newDataList = []\n",
    "    global dataDownload\n",
    "    dataDownload.append(new_symbol)\n",
    "con = ibConnection()\n",
    "con.register(historical_data_handler, message.historicalData)\n",
    "con.connect()\n",
    "symbol_id = 0 \n",
    "for i in new_symbolinput:  \n",
    "    print i  \n",
    "    qqq = Contract()  \n",
    "    qqq.m_symbol = i  \n",
    "    qqq.m_secType = 'STK'  \n",
    "    qqq.m_exchange = 'ARCA'  \n",
    "    qqq.m_currency = 'USD'  \n",
    "    con.reqHistoricalData(symbol_id, qqq, '', '1 D', '5 secs', 'TRADES', 1, 2)  # MIDPOINTS\n",
    "   \n",
    "    symbol_id = symbol_id + 1  \n",
    "    sleep(1) \n",
    "print dataDownload  \n",
    "filename = 'downloaded_symbols.csv' \n",
    "csvfile = open('/home/octo/Desktop/PROJECT/DATA/IB_data/' + filename,'wb') \n",
    "for item in dataDownload:  \n",
    "    csvfile.write('%s \\n' % item)  \n",
    "csvfile.close()     "
   ]
  }
 ],
 "metadata": {
  "kernelspec": {
   "display_name": "Python 2",
   "language": "python",
   "name": "python2"
  },
  "language_info": {
   "codemirror_mode": {
    "name": "ipython",
    "version": 2
   },
   "file_extension": ".py",
   "mimetype": "text/x-python",
   "name": "python",
   "nbconvert_exporter": "python",
   "pygments_lexer": "ipython2",
   "version": "2.7.11"
  }
 },
 "nbformat": 4,
 "nbformat_minor": 0
}
