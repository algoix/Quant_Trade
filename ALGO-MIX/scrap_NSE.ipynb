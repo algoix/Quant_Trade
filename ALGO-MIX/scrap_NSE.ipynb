{
 "cells": [
  {
   "cell_type": "code",
   "execution_count": 2,
   "metadata": {
    "collapsed": true
   },
   "outputs": [],
   "source": [
    "# pip install nsetools\n",
    "# http://nsetools.readthedocs.io/en/latest/   \n",
    "from nsetools import Nse \n",
    "from pprint import pprint # just for neatness of display"
   ]
  },
  {
   "cell_type": "code",
   "execution_count": 3,
   "metadata": {
    "collapsed": true
   },
   "outputs": [],
   "source": [
    "nse = Nse()"
   ]
  },
  {
   "cell_type": "code",
   "execution_count": 4,
   "metadata": {
    "collapsed": true
   },
   "outputs": [],
   "source": [
    "#print nse"
   ]
  },
  {
   "cell_type": "code",
   "execution_count": 5,
   "metadata": {
    "collapsed": true
   },
   "outputs": [],
   "source": [
    "q = nse.get_quote('infy')"
   ]
  },
  {
   "cell_type": "code",
   "execution_count": 6,
   "metadata": {
    "collapsed": false
   },
   "outputs": [
    {
     "name": "stdout",
     "output_type": "stream",
     "text": [
      "{'adhocMargin': None,\n",
      " 'applicableMargin': 12.5,\n",
      " 'averagePrice': 1026.8,\n",
      " 'bcEndDate': '11-JUN-16',\n",
      " 'bcStartDate': '11-JUN-16',\n",
      " 'buyPrice1': 1021.3,\n",
      " 'buyPrice2': None,\n",
      " 'buyPrice3': None,\n",
      " 'buyPrice4': None,\n",
      " 'buyPrice5': None,\n",
      " 'buyQuantity1': 249.0,\n",
      " 'buyQuantity2': None,\n",
      " 'buyQuantity3': None,\n",
      " 'buyQuantity4': None,\n",
      " 'buyQuantity5': None,\n",
      " 'change': None,\n",
      " 'closePrice': 1021.3,\n",
      " 'cm_adj_high_dt': '03-JUN-16',\n",
      " 'cm_adj_low_dt': '18-NOV-15',\n",
      " 'cm_ffm': 204090.65,\n",
      " 'companyName': 'Infosys Limited',\n",
      " 'css_status_desc': 'Listed',\n",
      " 'dayHigh': 1039.0,\n",
      " 'dayLow': 1018.45,\n",
      " 'deliveryQuantity': 3276027.0,\n",
      " 'deliveryToTradedQuantity': 77.69,\n",
      " 'exDate': '09-JUN-16',\n",
      " 'extremeLossMargin': 5.0,\n",
      " 'faceValue': 5.0,\n",
      " 'high52': 1279.3,\n",
      " 'indexVar': None,\n",
      " 'isExDateFlag': False,\n",
      " 'isinCode': 'INE009A01021',\n",
      " 'lastPrice': 1022.15,\n",
      " 'low52': 1011.25,\n",
      " 'marketType': 'N',\n",
      " 'ndEndDate': None,\n",
      " 'ndStartDate': None,\n",
      " 'open': 1030.0,\n",
      " 'pChange': None,\n",
      " 'previousClose': 1023.4,\n",
      " 'priceBand': 'No Band',\n",
      " 'pricebandlower': 921.1,\n",
      " 'pricebandupper': 1125.7,\n",
      " 'purpose': 'ANNUAL GENERAL MEETING AND FINAL DIVIDEND RS.14.25 PER SHARE',\n",
      " 'quantityTraded': 4217000.0,\n",
      " 'recordDate': None,\n",
      " 'secDate': '18AUG2016',\n",
      " 'securityVar': 5.12,\n",
      " 'sellPrice1': None,\n",
      " 'sellPrice2': None,\n",
      " 'sellPrice3': None,\n",
      " 'sellPrice4': None,\n",
      " 'sellPrice5': None,\n",
      " 'sellQuantity1': None,\n",
      " 'sellQuantity2': None,\n",
      " 'sellQuantity3': None,\n",
      " 'sellQuantity4': None,\n",
      " 'sellQuantity5': None,\n",
      " 'series': 'EQ',\n",
      " 'symbol': 'INFY',\n",
      " 'totalBuyQuantity': 249.0,\n",
      " 'totalSellQuantity': None,\n",
      " 'totalTradedValue': 29192.01,\n",
      " 'totalTradedVolume': 2843008.0,\n",
      " 'varMargin': 7.5}\n"
     ]
    }
   ],
   "source": [
    "pprint(q)"
   ]
  },
  {
   "cell_type": "code",
   "execution_count": null,
   "metadata": {
    "collapsed": true
   },
   "outputs": [],
   "source": [
    "nifty_quote = nse.get_index_quote('NIFTY 50')"
   ]
  },
  {
   "cell_type": "code",
   "execution_count": null,
   "metadata": {
    "collapsed": false
   },
   "outputs": [],
   "source": [
    "pprint(nifty_quote)"
   ]
  },
  {
   "cell_type": "code",
   "execution_count": null,
   "metadata": {
    "collapsed": true
   },
   "outputs": [],
   "source": [
    "q = nse.get_quote('infy')"
   ]
  },
  {
   "cell_type": "markdown",
   "metadata": {},
   "source": [
    "ANOTHER\n",
    "\n",
    "$pip install nsepy\n",
    "\n",
    "https://github.com/swapniljariwala/nsepy"
   ]
  },
  {
   "cell_type": "code",
   "execution_count": null,
   "metadata": {
    "collapsed": true
   },
   "outputs": [],
   "source": [
    "from nsepy import get_history, get_index_pe_history\n",
    "from datetime import date\n",
    "import matplotlib.pyplot as plt"
   ]
  },
  {
   "cell_type": "code",
   "execution_count": null,
   "metadata": {
    "collapsed": false
   },
   "outputs": [],
   "source": [
    "#Stock history\n",
    "sbin = get_history(symbol='SBIN',\n",
    "                    start=date(2015,1,1), \n",
    "                    end=date(2016,8,18))\n",
    "sbin[[ 'VWAP', 'Turnover']].plot(secondary_y='Turnover')\n",
    "\n",
    "\"\"\" Index price history\n",
    "    symbol can take these values (These indexes have derivatives as well)\n",
    "    \"NIFTY\" or \"NIFTY 50\",\n",
    "    \"BANKNIFTY\" or \"NIFTY BANK\",\n",
    "    \"NIFTYINFRA\" or \"NIFTY INFRA\",\n",
    "    \"NIFTYIT\" or \"NIFTY IT\",\n",
    "    \"NIFTYMID50\" or \"NIFTY MIDCAP 50\",\n",
    "    \"NIFTYPSE\" or \"NIFTY PSE\"\n",
    "    In addition to these there are many indices\n",
    "    For full list refer- http://www.nseindia.com/products/content/equities/indices/historical_index_data.htm\n",
    "\"\"\""
   ]
  },
  {
   "cell_type": "code",
   "execution_count": null,
   "metadata": {
    "collapsed": false
   },
   "outputs": [],
   "source": [
    "nifty = get_history(symbol=\"NIFTY\", \n",
    "                    start=date(2015,1,1), \n",
    "                    end=date(2016,8,10),\n",
    "                    index=True)\n",
    "nifty[['Close', 'Turnover']].plot(secondary_y='Turnover')\n",
    "plt.show()"
   ]
  },
  {
   "cell_type": "code",
   "execution_count": null,
   "metadata": {
    "collapsed": true
   },
   "outputs": [],
   "source": [
    "#Futures and Options historical data\n",
    "nifty_fut = get_history(symbol=\"NIFTY\", \n",
    "                        start=date(2015,1,1), \n",
    "                        end=date(2016,8,10),\n",
    "                        index=True,\n",
    "                        futures=True, expiry_date=date(2016,8,25))"
   ]
  },
  {
   "cell_type": "code",
   "execution_count": null,
   "metadata": {
    "collapsed": false
   },
   "outputs": [],
   "source": [
    "nifty_fut.plot()\n",
    "plt.show()"
   ]
  },
  {
   "cell_type": "code",
   "execution_count": null,
   "metadata": {
    "collapsed": false
   },
   "outputs": [],
   "source": [
    "stock_opt = get_history(symbol=\"SBIN\",\n",
    "                        start=date(2015,1,1), \n",
    "                        end=date(2016,8,10),\n",
    "                        option_type=\"CE\",\n",
    "                        strike_price=300,\n",
    "                        expiry_date=date(2015,8,25))\n"
   ]
  },
  {
   "cell_type": "code",
   "execution_count": null,
   "metadata": {
    "collapsed": true
   },
   "outputs": [],
   "source": [
    "#Index P/E ratio history\n",
    "nifty_pe = get_index_pe_history(symbol=\"NIFTY\",\n",
    "                                start=date(2015,1,1), \n",
    "                                end=date(2016,8,18))\n",
    "\n",
    "nifty_pe.plot()\n",
    "plt.show()"
   ]
  },
  {
   "cell_type": "markdown",
   "metadata": {},
   "source": [
    "GOOGLE"
   ]
  },
  {
   "cell_type": "code",
   "execution_count": null,
   "metadata": {
    "collapsed": true
   },
   "outputs": [],
   "source": [
    "import urllib2,json,time"
   ]
  },
  {
   "cell_type": "code",
   "execution_count": null,
   "metadata": {
    "collapsed": false
   },
   "outputs": [],
   "source": [
    "class GetMarketData:\n",
    "    def __init__(self):\n",
    "        self.prefix = \"http://finance.google.com/finance/info?client=ig&q=\"\n",
    "\n",
    "    def get(self,symbol,exchange):\n",
    "        url = self.prefix+\"%s:%s\"%(exchange,symbol)\n",
    "        u = urllib2.urlopen(url)\n",
    "        content = u.read()\n",
    "        obj = json.loads(content[3:])\n",
    "        return obj[0]"
   ]
  },
  {
   "cell_type": "code",
   "execution_count": null,
   "metadata": {
    "collapsed": false
   },
   "outputs": [],
   "source": [
    "#if __name__ == \"__main__\":\n",
    "c = GetMarketData()\n",
    "while 1:\n",
    "    quote = c.get(\"RELIANCE\",\"NSE\")\n",
    "    print quote\n",
    "time.sleep(60)"
   ]
  },
  {
   "cell_type": "code",
   "execution_count": null,
   "metadata": {
    "collapsed": true
   },
   "outputs": [],
   "source": []
  }
 ],
 "metadata": {
  "kernelspec": {
   "display_name": "Python 2",
   "language": "python",
   "name": "python2"
  },
  "language_info": {
   "codemirror_mode": {
    "name": "ipython",
    "version": 2
   },
   "file_extension": ".py",
   "mimetype": "text/x-python",
   "name": "python",
   "nbconvert_exporter": "python",
   "pygments_lexer": "ipython2",
   "version": "2.7.11"
  }
 },
 "nbformat": 4,
 "nbformat_minor": 0
}
