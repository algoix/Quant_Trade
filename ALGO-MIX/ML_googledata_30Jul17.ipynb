{
 "cells": [
  {
   "cell_type": "markdown",
   "metadata": {},
   "source": [
    "### 1 min Data Download from Google \n",
    "### https://github.com/parthasen/ALGO/blob/MIX/google_data"
   ]
  },
  {
   "cell_type": "code",
   "execution_count": 649,
   "metadata": {},
   "outputs": [],
   "source": [
    "import pandas as pd\n",
    "import numpy as np\n",
    "import urllib2\n",
    "import urllib\n",
    "import datetime\n",
    "import datetime as dt\n",
    "from datetime import datetime\n",
    "from pytz import timezone\n",
    "import pytz\n",
    "from time import gmtime, strftime\n",
    "import time\n",
    "import os\n",
    "from random import randint\n",
    "import math\n",
    "from pandas_datareader import data as web\n",
    "import seaborn as sns; sns.set()\n",
    "import matplotlib.pyplot as plt\n",
    "from matplotlib.pylab import rcParams\n",
    "rcParams['figure.figsize'] = 15, 6\n",
    "%matplotlib inline"
   ]
  },
  {
   "cell_type": "code",
   "execution_count": 658,
   "metadata": {
    "collapsed": true
   },
   "outputs": [],
   "source": [
    "def get_google_data(symbol, period, window):\n",
    "    url_root = 'http://www.google.com/finance/getprices?i='\n",
    "    url_root += str(period) + '&p=' + str(window)\n",
    "    url_root += 'd&f=d,o,h,l,c,v&df=cpct&q=' + symbol\n",
    "    response = urllib2.urlopen(url_root)\n",
    "    data = response.read().split('\\n')\n",
    "    #actual data starts at index = 7\n",
    "    #first line contains full timestamp,\n",
    "    #every other line is offset of period from timestamp\n",
    "    parsed_data = []\n",
    "    anchor_stamp = ''\n",
    "    end = len(data)\n",
    "    for i in range(7, end):\n",
    "        cdata = data[i].split(',')\n",
    "        if 'a' in cdata[0]:\n",
    "            #first one record anchor timestamp\n",
    "            anchor_stamp = cdata[0].replace('a', '')\n",
    "            cts = int(anchor_stamp)\n",
    "        else:\n",
    "            try:\n",
    "                coffset = int(cdata[0])\n",
    "                cts = int(anchor_stamp) + (coffset * period)\n",
    "                parsed_data.append((dt.datetime.fromtimestamp(float(cts)), float(cdata[1]), float(cdata[2]), float(cdata[3]), float(cdata[4]), float(cdata[5])))\n",
    "            except:\n",
    "                pass # for time zone offsets thrown into data\n",
    "    df = pd.DataFrame(parsed_data)\n",
    "    df.columns = ['ts', 'o', 'h', 'l', 'c', 'v']\n",
    "    df.index = df.ts\n",
    "    del df['ts']\n",
    "    return df"
   ]
  },
  {
   "cell_type": "code",
   "execution_count": 667,
   "metadata": {
    "collapsed": true
   },
   "outputs": [],
   "source": [
    "# another function\n",
    "def google_finance_datareader(symbol, interval_seconds, num_days):\n",
    "    url_string = \"http://www.google.com/finance/getprices?q={symbol}\".format(symbol=symbol.upper())\n",
    "    url_string += \"&i={interval_seconds}&p={num_days}d&f=d,o,h,l,c,v\".format(interval_seconds=interval_seconds, num_days=num_days)\n",
    "    #print(url_string)\n",
    "    page = urllib.urlopen(url_string)\n",
    "    df = pd.read_csv(page, skiprows=7, sep=',', names=['DATE', 'CLOSE', 'HIGH', 'LOW', 'OPEN', 'VOLUME'])\n",
    "    b_dateround = df['DATE'].map(lambda dt: dt[0]=='a')\n",
    "    dateround = df[b_dateround]['DATE'].map(lambda dt: int(dt[1:]))\n",
    "    df['DATE2'] = dateround\n",
    "    df['DATE2'] = df['DATE2'].fillna(method='ffill')\n",
    "    df['DATE3'] = df[~b_dateround]['DATE'].astype(int)*interval_seconds\n",
    "    df['DATE3'] = df['DATE3'].fillna(0)\n",
    "    df['DATE4'] = df['DATE2'] + df['DATE3']\n",
    "    df['DATE4'] = df['DATE4'].map(lambda s: dt.datetime.fromtimestamp(int(s), pytz.UTC))\n",
    "    del df['DATE']\n",
    "    del df['DATE2']\n",
    "    del df['DATE3']\n",
    "    df = df.set_index('DATE4', verify_integrity=True)\n",
    "    df.index.name = 'DATE'\n",
    "    return(df)"
   ]
  },
  {
   "cell_type": "code",
   "execution_count": 670,
   "metadata": {
    "collapsed": true
   },
   "outputs": [],
   "source": [
    "spy = get_google_data('SPY',60, 20)\n",
    "spy.to_csv('/home/octo/Desktop/PROJECT/DATA/RPy/data.csv',sep=',')"
   ]
  },
  {
   "cell_type": "code",
   "execution_count": 666,
   "metadata": {},
   "outputs": [
    {
     "data": {
      "text/html": [
       "<div>\n",
       "<table border=\"1\" class=\"dataframe\">\n",
       "  <thead>\n",
       "    <tr style=\"text-align: right;\">\n",
       "      <th></th>\n",
       "      <th>o</th>\n",
       "      <th>h</th>\n",
       "      <th>l</th>\n",
       "      <th>c</th>\n",
       "      <th>v</th>\n",
       "    </tr>\n",
       "    <tr>\n",
       "      <th>ts</th>\n",
       "      <th></th>\n",
       "      <th></th>\n",
       "      <th></th>\n",
       "      <th></th>\n",
       "      <th></th>\n",
       "    </tr>\n",
       "  </thead>\n",
       "  <tbody>\n",
       "    <tr>\n",
       "      <th>2016-08-27 01:26:00</th>\n",
       "      <td>217.22</td>\n",
       "      <td>217.235</td>\n",
       "      <td>217.12</td>\n",
       "      <td>217.12</td>\n",
       "      <td>129652</td>\n",
       "    </tr>\n",
       "    <tr>\n",
       "      <th>2016-08-27 01:27:00</th>\n",
       "      <td>217.20</td>\n",
       "      <td>217.240</td>\n",
       "      <td>217.12</td>\n",
       "      <td>217.22</td>\n",
       "      <td>237110</td>\n",
       "    </tr>\n",
       "    <tr>\n",
       "      <th>2016-08-27 01:28:00</th>\n",
       "      <td>217.20</td>\n",
       "      <td>217.200</td>\n",
       "      <td>217.17</td>\n",
       "      <td>217.20</td>\n",
       "      <td>107396</td>\n",
       "    </tr>\n",
       "    <tr>\n",
       "      <th>2016-08-27 01:29:00</th>\n",
       "      <td>217.25</td>\n",
       "      <td>217.310</td>\n",
       "      <td>217.19</td>\n",
       "      <td>217.19</td>\n",
       "      <td>205871</td>\n",
       "    </tr>\n",
       "    <tr>\n",
       "      <th>2016-08-27 01:30:00</th>\n",
       "      <td>217.28</td>\n",
       "      <td>217.310</td>\n",
       "      <td>217.18</td>\n",
       "      <td>217.26</td>\n",
       "      <td>2184335</td>\n",
       "    </tr>\n",
       "  </tbody>\n",
       "</table>\n",
       "</div>"
      ],
      "text/plain": [
       "                          o        h       l       c        v\n",
       "ts                                                           \n",
       "2016-08-27 01:26:00  217.22  217.235  217.12  217.12   129652\n",
       "2016-08-27 01:27:00  217.20  217.240  217.12  217.22   237110\n",
       "2016-08-27 01:28:00  217.20  217.200  217.17  217.20   107396\n",
       "2016-08-27 01:29:00  217.25  217.310  217.19  217.19   205871\n",
       "2016-08-27 01:30:00  217.28  217.310  217.18  217.26  2184335"
      ]
     },
     "execution_count": 666,
     "metadata": {},
     "output_type": "execute_result"
    }
   ],
   "source": [
    "spy.tail()"
   ]
  },
  {
   "cell_type": "code",
   "execution_count": 484,
   "metadata": {},
   "outputs": [],
   "source": [
    "spy = get_google_data('SPY',60, 10)\n",
    "sqqq = get_google_data('SQQQ',60, 10)\n",
    "uwti = get_google_data('UWTI',60, 10)\n",
    "vxx = get_google_data('VXX',60, 10)\n",
    "dia= get_google_data('DIA',60, 10)\n",
    "ndx= get_google_data('NDX',60, 10)\n",
    "oex= get_google_data('OEX',60, 10)\n",
    "xle= get_google_data('XLE',60, 10)\n",
    "xlf= get_google_data('XLF',60, 10)\n",
    "xlv= get_google_data('XLV',60, 10)\n",
    "xly= get_google_data('XLY',60, 10)\n",
    "xli= get_google_data('XLI',60, 10)"
   ]
  },
  {
   "cell_type": "code",
   "execution_count": 651,
   "metadata": {},
   "outputs": [],
   "source": [
    "symbol = 'spy'\n",
    "interval_seconds = 60\n",
    "num_days = 30\n",
    "df = google_finance_datareader(symbol, interval_seconds, num_days)"
   ]
  },
  {
   "cell_type": "markdown",
   "metadata": {},
   "source": [
    " http://machinelearningmastery.com/naive-bayes-classifier-scratch-python/\n",
    " \n",
    " https://www.talaikis.com/bayes-theorem-in-simple-words-and-bayesian-expected-returns-estimation-using-python/\n",
    " \n",
    "  \n",
    " Naive Bayes\n",
    " \n",
    " Naive Bayes algorithm is an intuitive method that uses the probabilities of each attribute belonging to each class to make a prediction. It is the supervised learning approach you would come up with if you wanted to model a predictive modeling problem probabilistically.\n",
    "\n",
    "Naive bayes simplifies the calculation of probabilities by assuming that the probability of each attribute belonging to a given class value is independent of all other attributes. This is a strong assumption but results in a fast and effective method."
   ]
  },
  {
   "cell_type": "markdown",
   "metadata": {},
   "source": [
    "2. Summarize Data\n",
    "\n",
    "We can break the preparation of this summary data down into the following sub-tasks:\n",
    "\n",
    "    Separate Data By Class\n",
    "    Calculate Mean\n",
    "    Calculate Standard Deviation\n",
    "    Summarize Dataset\n",
    "    Summarize Attributes By Class"
   ]
  },
  {
   "cell_type": "markdown",
   "metadata": {},
   "source": [
    "1. Split a given dataset into a given split ratio"
   ]
  },
  {
   "cell_type": "markdown",
   "metadata": {},
   "source": [
    "ML\n",
    "\n",
    "http://francescopochetti.com/stock-market-prediction-part-ii-feature-generation/"
   ]
  },
  {
   "cell_type": "code",
   "execution_count": 216,
   "metadata": {},
   "outputs": [],
   "source": [
    "import cPickle\n",
    "import numpy as np\n",
    "import pandas as pd\n",
    "import datetime\n",
    "from sklearn import preprocessing\n",
    "from datetime import datetime\n",
    "from sklearn.ensemble import RandomForestClassifier\n",
    "from sklearn import neighbors\n",
    "from sklearn.ensemble import AdaBoostClassifier\n",
    "from sklearn.ensemble import GradientBoostingClassifier\n",
    "from sklearn.svm import SVC\n",
    "import operator\n",
    "import pandas.io.data\n",
    "from sklearn.qda import QDA\n",
    "import re\n",
    "from dateutil import parser\n",
    "#from backtest import Strategy, Portfolio"
   ]
  },
  {
   "cell_type": "markdown",
   "metadata": {},
   "source": [
    "FEATURE generation\n",
    "\n",
    "Day return,Multiple day return,returns moving average,time lagged returns"
   ]
  },
  {
   "cell_type": "code",
   "execution_count": 375,
   "metadata": {
    "collapsed": true
   },
   "outputs": [],
   "source": [
    "df= pd.DataFrame(data=spy.c)"
   ]
  },
  {
   "cell_type": "code",
   "execution_count": 376,
   "metadata": {},
   "outputs": [],
   "source": [
    "df['ret_spy'] = pd.DataFrame(data=spy.c.pct_change(2).shift(-1))\n",
    "df['ret_sqqq'] = pd.DataFrame(data=sqqq.c.pct_change(2).shift(-1))\n",
    "df['ret_uwti'] = pd.DataFrame(data=uwti.c.pct_change(2).shift(-1))\n",
    "df['ret_vxx'] = pd.DataFrame(data=vxx.c.pct_change(2).shift(-1))\n",
    "df['ret_dia'] = pd.DataFrame(data=dia.c.pct_change(2).shift(-1))\n",
    "df['ret_ndx'] = pd.DataFrame(data=ndx.c.pct_change(2).shift(-1))\n",
    "df['ret_oex'] = pd.DataFrame(data=oex.c.pct_change(2).shift(-1))\n",
    "df['ret_xle'] = pd.DataFrame(data=xle.c.pct_change(2).shift(-1))\n",
    "df['ret_xlf'] = pd.DataFrame(data=xlf.c.pct_change(2).shift(-1))\n",
    "df['ret_xlv'] = pd.DataFrame(data=xlv.c.pct_change(2).shift(-1))\n",
    "df['ret_xly'] = pd.DataFrame(data=xly.c.pct_change(2).shift(-1))\n",
    "df['ret_xli'] = pd.DataFrame(data=xli.c.pct_change(2).shift(-1))"
   ]
  },
  {
   "cell_type": "code",
   "execution_count": 377,
   "metadata": {},
   "outputs": [],
   "source": [
    "df['mean_spy'] = pd.rolling_mean(df.ret_spy, 5)\n",
    "df['mean_sqqq'] = pd.rolling_mean(df.ret_sqqq, 5)\n",
    "df['mean_uwti'] = pd.rolling_mean(df.ret_uwti, 5)\n",
    "df['mean_vxx'] = pd.rolling_mean(df.ret_vxx, 5)\n",
    "df['mean_dia'] = pd.rolling_mean(df.ret_dia, 5)\n",
    "df['mean_ndx'] = pd.rolling_mean(df.ret_ndx, 5)\n",
    "df['mean_oex'] = pd.rolling_mean(df.ret_oex, 5)\n",
    "df['mean_xle'] = pd.rolling_mean(df.ret_xle, 5)\n",
    "df['mean_xlf'] = pd.rolling_mean(df.ret_xlf, 5)\n",
    "df['mean_xlv'] = pd.rolling_mean(df.ret_xlv, 5)\n",
    "df['mean_xly'] = pd.rolling_mean(df.ret_xly, 5)\n",
    "df['mean_xli'] = pd.rolling_mean(df.ret_xli, 5)"
   ]
  },
  {
   "cell_type": "code",
   "execution_count": 378,
   "metadata": {},
   "outputs": [],
   "source": [
    "df=df.drop('c',axis=1).dropna()"
   ]
  },
  {
   "cell_type": "code",
   "execution_count": 387,
   "metadata": {},
   "outputs": [
    {
     "data": {
      "text/html": [
       "<div>\n",
       "<table border=\"1\" class=\"dataframe\">\n",
       "  <thead>\n",
       "    <tr style=\"text-align: right;\">\n",
       "      <th></th>\n",
       "      <th>ret_spy</th>\n",
       "      <th>ret_sqqq</th>\n",
       "      <th>ret_uwti</th>\n",
       "      <th>ret_vxx</th>\n",
       "      <th>ret_dia</th>\n",
       "      <th>ret_ndx</th>\n",
       "      <th>ret_oex</th>\n",
       "      <th>ret_xle</th>\n",
       "      <th>ret_xlf</th>\n",
       "      <th>ret_xlv</th>\n",
       "      <th>...</th>\n",
       "      <th>mean_vxx</th>\n",
       "      <th>mean_dia</th>\n",
       "      <th>mean_ndx</th>\n",
       "      <th>mean_oex</th>\n",
       "      <th>mean_xle</th>\n",
       "      <th>mean_xlf</th>\n",
       "      <th>mean_xlv</th>\n",
       "      <th>mean_xly</th>\n",
       "      <th>mean_xli</th>\n",
       "      <th>UpDown</th>\n",
       "    </tr>\n",
       "    <tr>\n",
       "      <th>ts</th>\n",
       "      <th></th>\n",
       "      <th></th>\n",
       "      <th></th>\n",
       "      <th></th>\n",
       "      <th></th>\n",
       "      <th></th>\n",
       "      <th></th>\n",
       "      <th></th>\n",
       "      <th></th>\n",
       "      <th></th>\n",
       "      <th></th>\n",
       "      <th></th>\n",
       "      <th></th>\n",
       "      <th></th>\n",
       "      <th></th>\n",
       "      <th></th>\n",
       "      <th></th>\n",
       "      <th></th>\n",
       "      <th></th>\n",
       "      <th></th>\n",
       "      <th></th>\n",
       "    </tr>\n",
       "  </thead>\n",
       "  <tbody>\n",
       "    <tr>\n",
       "      <th>2016-08-24 20:04:00</th>\n",
       "      <td>-0.000206</td>\n",
       "      <td>0.000000</td>\n",
       "      <td>-0.004365</td>\n",
       "      <td>-0.000409</td>\n",
       "      <td>-0.000162</td>\n",
       "      <td>0.000328</td>\n",
       "      <td>0.000259</td>\n",
       "      <td>0.000429</td>\n",
       "      <td>0.000208</td>\n",
       "      <td>0.000000</td>\n",
       "      <td>...</td>\n",
       "      <td>-0.000136</td>\n",
       "      <td>5.730442e-08</td>\n",
       "      <td>0.000153</td>\n",
       "      <td>0.000044</td>\n",
       "      <td>-0.001056</td>\n",
       "      <td>0.000125</td>\n",
       "      <td>0.000161</td>\n",
       "      <td>0.000122</td>\n",
       "      <td>-6.783108e-05</td>\n",
       "      <td>1</td>\n",
       "    </tr>\n",
       "    <tr>\n",
       "      <th>2016-08-24 20:05:00</th>\n",
       "      <td>-0.000091</td>\n",
       "      <td>0.000000</td>\n",
       "      <td>-0.004381</td>\n",
       "      <td>0.001093</td>\n",
       "      <td>-0.000054</td>\n",
       "      <td>-0.000181</td>\n",
       "      <td>-0.000145</td>\n",
       "      <td>-0.000143</td>\n",
       "      <td>0.000000</td>\n",
       "      <td>0.000134</td>\n",
       "      <td>...</td>\n",
       "      <td>0.000082</td>\n",
       "      <td>4.330639e-05</td>\n",
       "      <td>0.000114</td>\n",
       "      <td>0.000031</td>\n",
       "      <td>-0.000714</td>\n",
       "      <td>0.000125</td>\n",
       "      <td>0.000201</td>\n",
       "      <td>0.000073</td>\n",
       "      <td>2.302872e-08</td>\n",
       "      <td>1</td>\n",
       "    </tr>\n",
       "    <tr>\n",
       "      <th>2016-08-24 20:06:00</th>\n",
       "      <td>0.000343</td>\n",
       "      <td>-0.000711</td>\n",
       "      <td>-0.001594</td>\n",
       "      <td>-0.000273</td>\n",
       "      <td>0.000433</td>\n",
       "      <td>-0.000018</td>\n",
       "      <td>-0.000145</td>\n",
       "      <td>0.000000</td>\n",
       "      <td>0.000000</td>\n",
       "      <td>0.000268</td>\n",
       "      <td>...</td>\n",
       "      <td>-0.000163</td>\n",
       "      <td>2.055042e-04</td>\n",
       "      <td>0.000101</td>\n",
       "      <td>0.000023</td>\n",
       "      <td>-0.000057</td>\n",
       "      <td>0.000125</td>\n",
       "      <td>0.000228</td>\n",
       "      <td>0.000073</td>\n",
       "      <td>6.787714e-05</td>\n",
       "      <td>2</td>\n",
       "    </tr>\n",
       "    <tr>\n",
       "      <th>2016-08-24 20:07:00</th>\n",
       "      <td>-0.000687</td>\n",
       "      <td>-0.001081</td>\n",
       "      <td>0.003200</td>\n",
       "      <td>-0.001365</td>\n",
       "      <td>0.000108</td>\n",
       "      <td>0.000319</td>\n",
       "      <td>0.000259</td>\n",
       "      <td>0.001432</td>\n",
       "      <td>0.000208</td>\n",
       "      <td>0.000000</td>\n",
       "      <td>...</td>\n",
       "      <td>-0.000464</td>\n",
       "      <td>1.730525e-04</td>\n",
       "      <td>0.000166</td>\n",
       "      <td>0.000091</td>\n",
       "      <td>0.000430</td>\n",
       "      <td>0.000125</td>\n",
       "      <td>0.000134</td>\n",
       "      <td>0.000073</td>\n",
       "      <td>1.357428e-04</td>\n",
       "      <td>1</td>\n",
       "    </tr>\n",
       "    <tr>\n",
       "      <th>2016-08-24 20:18:00</th>\n",
       "      <td>NaN</td>\n",
       "      <td>0.002392</td>\n",
       "      <td>0.000000</td>\n",
       "      <td>0.003816</td>\n",
       "      <td>-0.000108</td>\n",
       "      <td>-0.000667</td>\n",
       "      <td>-0.000571</td>\n",
       "      <td>-0.000716</td>\n",
       "      <td>-0.000624</td>\n",
       "      <td>-0.000537</td>\n",
       "      <td>...</td>\n",
       "      <td>0.002238</td>\n",
       "      <td>-5.082888e-04</td>\n",
       "      <td>-0.000413</td>\n",
       "      <td>-0.000409</td>\n",
       "      <td>-0.000573</td>\n",
       "      <td>-0.000499</td>\n",
       "      <td>-0.000457</td>\n",
       "      <td>-0.000392</td>\n",
       "      <td>-4.070327e-04</td>\n",
       "      <td>0</td>\n",
       "    </tr>\n",
       "  </tbody>\n",
       "</table>\n",
       "<p>5 rows × 25 columns</p>\n",
       "</div>"
      ],
      "text/plain": [
       "                      ret_spy  ret_sqqq  ret_uwti   ret_vxx   ret_dia  \\\n",
       "ts                                                                      \n",
       "2016-08-24 20:04:00 -0.000206  0.000000 -0.004365 -0.000409 -0.000162   \n",
       "2016-08-24 20:05:00 -0.000091  0.000000 -0.004381  0.001093 -0.000054   \n",
       "2016-08-24 20:06:00  0.000343 -0.000711 -0.001594 -0.000273  0.000433   \n",
       "2016-08-24 20:07:00 -0.000687 -0.001081  0.003200 -0.001365  0.000108   \n",
       "2016-08-24 20:18:00       NaN  0.002392  0.000000  0.003816 -0.000108   \n",
       "\n",
       "                      ret_ndx   ret_oex   ret_xle   ret_xlf   ret_xlv   ...    \\\n",
       "ts                                                                      ...     \n",
       "2016-08-24 20:04:00  0.000328  0.000259  0.000429  0.000208  0.000000   ...     \n",
       "2016-08-24 20:05:00 -0.000181 -0.000145 -0.000143  0.000000  0.000134   ...     \n",
       "2016-08-24 20:06:00 -0.000018 -0.000145  0.000000  0.000000  0.000268   ...     \n",
       "2016-08-24 20:07:00  0.000319  0.000259  0.001432  0.000208  0.000000   ...     \n",
       "2016-08-24 20:18:00 -0.000667 -0.000571 -0.000716 -0.000624 -0.000537   ...     \n",
       "\n",
       "                     mean_vxx      mean_dia  mean_ndx  mean_oex  mean_xle  \\\n",
       "ts                                                                          \n",
       "2016-08-24 20:04:00 -0.000136  5.730442e-08  0.000153  0.000044 -0.001056   \n",
       "2016-08-24 20:05:00  0.000082  4.330639e-05  0.000114  0.000031 -0.000714   \n",
       "2016-08-24 20:06:00 -0.000163  2.055042e-04  0.000101  0.000023 -0.000057   \n",
       "2016-08-24 20:07:00 -0.000464  1.730525e-04  0.000166  0.000091  0.000430   \n",
       "2016-08-24 20:18:00  0.002238 -5.082888e-04 -0.000413 -0.000409 -0.000573   \n",
       "\n",
       "                     mean_xlf  mean_xlv  mean_xly      mean_xli  UpDown  \n",
       "ts                                                                       \n",
       "2016-08-24 20:04:00  0.000125  0.000161  0.000122 -6.783108e-05       1  \n",
       "2016-08-24 20:05:00  0.000125  0.000201  0.000073  2.302872e-08       1  \n",
       "2016-08-24 20:06:00  0.000125  0.000228  0.000073  6.787714e-05       2  \n",
       "2016-08-24 20:07:00  0.000125  0.000134  0.000073  1.357428e-04       1  \n",
       "2016-08-24 20:18:00 -0.000499 -0.000457 -0.000392 -4.070327e-04       0  \n",
       "\n",
       "[5 rows x 25 columns]"
      ]
     },
     "execution_count": 387,
     "metadata": {},
     "output_type": "execute_result"
    }
   ],
   "source": [
    "df.tail()"
   ]
  },
  {
   "cell_type": "markdown",
   "metadata": {},
   "source": [
    "http://francescopochetti.com/wp-content/uploads/2014/09/machine_learning.png"
   ]
  },
  {
   "cell_type": "code",
   "execution_count": 391,
   "metadata": {
    "collapsed": true
   },
   "outputs": [],
   "source": [
    "def prepareDataForClassification(dataset, start_test):\n",
    "    \"\"\"\n",
    "    generates categorical output column, attach to dataframe \n",
    "    label the categories and split into train and test\n",
    "    \"\"\"\n",
    "    le = preprocessing.LabelEncoder()\n",
    "    \n",
    "    dataset['UpDown'] = dataset['ret_spy']\n",
    "    dataset.UpDown[dataset.UpDown >= 0] = 'Up'\n",
    "    dataset.UpDown[dataset.UpDown < 0] = 'Down'\n",
    "    dataset.UpDown = le.fit(dataset.UpDown).transform(dataset.UpDown)\n",
    "    \n",
    "    features = dataset.columns[1:-1]\n",
    "    X = dataset[features]    \n",
    "    y = dataset.UpDown    \n",
    "    \n",
    "    X_train = X[X.index < start_test]\n",
    "    y_train = y[y.index < start_test]              \n",
    "    \n",
    "    X_test = X[X.index >= start_test]    \n",
    "    y_test = y[y.index >= start_test]\n",
    "    \n",
    "    return X_train, y_train, X_test, y_test   "
   ]
  },
  {
   "cell_type": "code",
   "execution_count": 392,
   "metadata": {},
   "outputs": [
    {
     "name": "stderr",
     "output_type": "stream",
     "text": [
      "/home/octo/anaconda2/envs/PyAlgo/lib/python2.7/site-packages/ipykernel/__main__.py:10: SettingWithCopyWarning: \n",
      "A value is trying to be set on a copy of a slice from a DataFrame\n",
      "\n",
      "See the caveats in the documentation: http://pandas.pydata.org/pandas-docs/stable/indexing.html#indexing-view-versus-copy\n"
     ]
    }
   ],
   "source": [
    "X_train, y_train, X_test, y_test=prepareDataForClassification(df,'2016-08-23')"
   ]
  },
  {
   "cell_type": "code",
   "execution_count": 263,
   "metadata": {
    "collapsed": true
   },
   "outputs": [],
   "source": [
    "def performClassification(X_train, y_train, X_test, y_test, method, parameters, fout, savemodel):\n",
    "    \"\"\"\n",
    "    performs classification on daily returns using several algorithms (method).\n",
    "    method --> string algorithm\n",
    "    parameters --> list of parameters passed to the classifier (if any)\n",
    "    fout --> string with name of stock to be predicted\n",
    "    savemodel --> boolean. If TRUE saves the model to pickle file\n",
    "    \"\"\"\n",
    "   \n",
    "    if method == 'RF':   \n",
    "        return performRFClass(X_train, y_train, X_test, y_test, parameters, fout, savemodel)\n",
    "        \n",
    "    elif method == 'KNN':\n",
    "        return performKNNClass(X_train, y_train, X_test, y_test, parameters, fout, savemodel)\n",
    "    \n",
    "    elif method == 'SVM':   \n",
    "        return performSVMClass(X_train, y_train, X_test, y_test, parameters, fout, savemodel)\n",
    "    \n",
    "    elif method == 'ADA':\n",
    "        return performAdaBoostClass(X_train, y_train, X_test, y_test, parameters, fout, savemodel)\n",
    "    \n",
    "    elif method == 'GTB': \n",
    "        return performGTBClass(X_train, y_train, X_test, y_test, parameters, fout, savemodel)\n",
    " \n",
    "    elif method == 'QDA': \n",
    "        return performQDAClass(X_train, y_train, X_test, y_test, parameters, fout, savemodel)"
   ]
  },
  {
   "cell_type": "code",
   "execution_count": 264,
   "metadata": {
    "collapsed": true
   },
   "outputs": [],
   "source": [
    "def performRFClass(X_train, y_train, X_test, y_test, parameters, fout, savemodel):\n",
    "    \"\"\"\n",
    "    Random Forest Binary Classification\n",
    "    \"\"\"\n",
    "    clf = RandomForestClassifier(n_estimators=1000, n_jobs=-1)\n",
    "    clf.fit(X_train, y_train)\n",
    "    \n",
    "    if savemodel == True:\n",
    "        fname_out = '{}-{}.pickle'.format(fout, datetime.now())\n",
    "        with open(fname_out, 'wb') as f:\n",
    "            cPickle.dump(clf, f, -1)    \n",
    "    \n",
    "    accuracy = clf.score(X_test, y_test)\n",
    "    \n",
    "    return accuracy"
   ]
  },
  {
   "cell_type": "code",
   "execution_count": 265,
   "metadata": {
    "collapsed": true
   },
   "outputs": [],
   "source": [
    "def performKNNClass(X_train, y_train, X_test, y_test, parameters, fout, savemodel):\n",
    "    \"\"\"\n",
    "    KNN binary Classification\n",
    "    \"\"\"\n",
    "    clf = neighbors.KNeighborsClassifier()\n",
    "    clf.fit(X_train, y_train)\n",
    " \n",
    "    if savemodel == True:\n",
    "        fname_out = '{}-{}.pickle'.format(fout, datetime.now())\n",
    "        with open(fname_out, 'wb') as f:\n",
    "            cPickle.dump(clf, f, -1)    \n",
    "    \n",
    "    accuracy = clf.score(X_test, y_test)\n",
    "    \n",
    "    return accuracy"
   ]
  },
  {
   "cell_type": "code",
   "execution_count": 267,
   "metadata": {},
   "outputs": [],
   "source": [
    "def performSVMClass(X_train, y_train, X_test, y_test, parameters, fout, savemodel):\n",
    "    \"\"\"\n",
    "    SVM binary Classification\n",
    "    \"\"\"\n",
    "    c = parameters[0]\n",
    "    g =  parameters[1]\n",
    "    clf = SVC()\n",
    "    clf.fit(X_train, y_train)\n",
    " \n",
    "    if savemodel == True:\n",
    "        fname_out = '{}-{}.pickle'.format(fout, datetime.now())\n",
    "        with open(fname_out, 'wb') as f:\n",
    "            cPickle.dump(clf, f, -1)    \n",
    "    \n",
    "    accuracy = clf.score(X_test, y_test)\n",
    "    \n",
    "    return accuracy"
   ]
  },
  {
   "cell_type": "code",
   "execution_count": 268,
   "metadata": {
    "collapsed": true
   },
   "outputs": [],
   "source": [
    "def performAdaBoostClass(X_train, y_train, X_test, y_test, parameters, fout, savemodel):\n",
    "    \"\"\"\n",
    "    Ada Boosting binary Classification\n",
    "    \"\"\"\n",
    "    n = parameters[0]\n",
    "    l =  parameters[1]\n",
    "    clf = AdaBoostClassifier()\n",
    "    clf.fit(X_train, y_train)\n",
    " \n",
    "    if savemodel == True:\n",
    "        fname_out = '{}-{}.pickle'.format(fout, datetime.now())\n",
    "        with open(fname_out, 'wb') as f:\n",
    "            cPickle.dump(clf, f, -1)    \n",
    "    \n",
    "    accuracy = clf.score(X_test, y_test)\n",
    "    \n",
    "    return accuracy"
   ]
  },
  {
   "cell_type": "code",
   "execution_count": 269,
   "metadata": {
    "collapsed": true
   },
   "outputs": [],
   "source": [
    "def performGTBClass(X_train, y_train, X_test, y_test, parameters, fout, savemodel):\n",
    "    \"\"\"\n",
    "    Gradient Tree Boosting binary Classification\n",
    "    \"\"\"\n",
    "    clf = GradientBoostingClassifier(n_estimators=100)\n",
    "    clf.fit(X_train, y_train)\n",
    " \n",
    "    if savemodel == True:\n",
    "        fname_out = '{}-{}.pickle'.format(fout, datetime.now())\n",
    "        with open(fname_out, 'wb') as f:\n",
    "            cPickle.dump(clf, f, -1)    \n",
    "    \n",
    "    accuracy = clf.score(X_test, y_test)\n",
    "    \n",
    "    return accuracy"
   ]
  },
  {
   "cell_type": "code",
   "execution_count": 270,
   "metadata": {
    "collapsed": true
   },
   "outputs": [],
   "source": [
    "def performQDAClass(X_train, y_train, X_test, y_test, parameters, fout, savemodel):\n",
    "    \"\"\"\n",
    "    Quadratic Discriminant Analysis binary Classification\n",
    "    \"\"\"\n",
    "    def replaceTiny(x):\n",
    "        if (abs(x) < 0.0001):\n",
    "            x = 0.0001\n",
    "    \n",
    "    X_train = X_train.apply(replaceTiny)\n",
    "    X_test = X_test.apply(replaceTiny)\n",
    "    \n",
    "    clf = QDA()\n",
    "    clf.fit(X_train, y_train)\n",
    " \n",
    "    if savemodel == True:\n",
    "        fname_out = '{}-{}.pickle'.format(fout, datetime.now())\n",
    "        with open(fname_out, 'wb') as f:\n",
    "            cPickle.dump(clf, f, -1)    \n",
    "    \n",
    "    accuracy = clf.score(X_test, y_test)\n",
    "    \n",
    "    return accuracy"
   ]
  },
  {
   "cell_type": "markdown",
   "metadata": {},
   "source": [
    "Cross Validation"
   ]
  },
  {
   "cell_type": "code",
   "execution_count": 271,
   "metadata": {
    "collapsed": true
   },
   "outputs": [],
   "source": [
    "def performFeatureSelection(maxdeltas, maxlags, fout, cut, start_test, path_datasets, savemodel, method, folds, parameters):\n",
    "    \"\"\"\n",
    "    Performs Feature selection for a specific algorithm\n",
    "    \"\"\"\n",
    "    \n",
    "    for maxlag in range(3, maxlags + 2):\n",
    "        lags = range(2, maxlag) \n",
    "        print ''\n",
    "        print '============================================================='\n",
    "        print 'Maximum time lag applied', max(lags)\n",
    "        print ''\n",
    "        for maxdelta in range(3, maxdeltas + 2):\n",
    "            datasets = loadDatasets(path_datasets, fout)\n",
    "            delta = range(2, maxdelta) \n",
    "            print 'Delta days accounted: ', max(delta)\n",
    "            datasets = applyRollMeanDelayedReturns(datasets, delta)\n",
    "            finance = mergeDataframes(datasets, 6, cut)\n",
    "            print 'Size of data frame: ', finance.shape\n",
    "            print 'Number of NaN after merging: ', count_missing(finance)\n",
    "            finance = finance.interpolate(method='linear')\n",
    "            print 'Number of NaN after time interpolation: ', count_missing(finance)\n",
    "            finance = finance.fillna(finance.mean())\n",
    "            print 'Number of NaN after mean interpolation: ', count_missing(finance)    \n",
    "            finance = applyTimeLag(finance, lags, delta)\n",
    "            print 'Number of NaN after temporal shifting: ', count_missing(finance)\n",
    "            print 'Size of data frame after feature creation: ', finance.shape\n",
    "            X_train, y_train, X_test, y_test  = prepareDataForClassification(finance, start_test)\n",
    "            \n",
    "            print performCV(X_train, y_train, folds, method, parameters, fout, savemodel)\n",
    "            print ''"
   ]
  },
  {
   "cell_type": "code",
   "execution_count": 404,
   "metadata": {},
   "outputs": [
    {
     "data": {
      "text/plain": [
       "0.50847457627118642"
      ]
     },
     "execution_count": 404,
     "metadata": {},
     "output_type": "execute_result"
    }
   ],
   "source": [
    "performClassification(X_train, y_train, X_test, y_test,'KNN','','SPY','FALSE')"
   ]
  },
  {
   "cell_type": "markdown",
   "metadata": {},
   "source": [
    "K means intesive research"
   ]
  },
  {
   "cell_type": "code",
   "execution_count": 405,
   "metadata": {
    "collapsed": true
   },
   "outputs": [],
   "source": [
    "# Import the kmeans clustering model.\n",
    "from sklearn.cluster import KMeans"
   ]
  },
  {
   "cell_type": "code",
   "execution_count": 416,
   "metadata": {
    "collapsed": true
   },
   "outputs": [],
   "source": [
    "# Initialize the model with 2 parameters -- number of clusters and random state.\n",
    "kmeans_model = KMeans(n_clusters=8, random_state=1)\n",
    "# Fit the model using the good columns.\n",
    "kmeans_model.fit(X_train,y_train)\n",
    "# Get the cluster assignments.\n",
    "labels = kmeans_model.labels_"
   ]
  },
  {
   "cell_type": "code",
   "execution_count": 417,
   "metadata": {
    "collapsed": true
   },
   "outputs": [],
   "source": [
    "accuracy =kmeans_model.score(X_test, y_test)"
   ]
  },
  {
   "cell_type": "code",
   "execution_count": 418,
   "metadata": {},
   "outputs": [
    {
     "data": {
      "text/plain": [
       "-0.0015756909811929464"
      ]
     },
     "execution_count": 418,
     "metadata": {},
     "output_type": "execute_result"
    }
   ],
   "source": [
    "accuracy"
   ]
  },
  {
   "cell_type": "markdown",
   "metadata": {},
   "source": [
    "KNN"
   ]
  },
  {
   "cell_type": "code",
   "execution_count": 432,
   "metadata": {
    "collapsed": true
   },
   "outputs": [],
   "source": [
    "from sklearn import metrics\n",
    "from sklearn.neighbors import KNeighborsClassifier"
   ]
  },
  {
   "cell_type": "code",
   "execution_count": 433,
   "metadata": {},
   "outputs": [
    {
     "name": "stdout",
     "output_type": "stream",
     "text": [
      "KNeighborsClassifier(algorithm='auto', leaf_size=30, metric='minkowski',\n",
      "           metric_params=None, n_jobs=1, n_neighbors=5, p=2,\n",
      "           weights='uniform')\n"
     ]
    }
   ],
   "source": [
    "# fit a k-nearest neighbor model to the data\n",
    "model = KNeighborsClassifier()\n",
    "model.fit(X_train, y_train)\n",
    "print(model)"
   ]
  },
  {
   "cell_type": "code",
   "execution_count": 434,
   "metadata": {
    "collapsed": true
   },
   "outputs": [],
   "source": [
    "# make predictions\n",
    "expected = y_test\n",
    "predicted = model.predict(X_test)"
   ]
  },
  {
   "cell_type": "code",
   "execution_count": 435,
   "metadata": {},
   "outputs": [
    {
     "name": "stdout",
     "output_type": "stream",
     "text": [
      "             precision    recall  f1-score   support\n",
      "\n",
      "          0       0.00      0.00      0.00         1\n",
      "          1       0.47      0.52      0.49        27\n",
      "          2       0.55      0.52      0.53        31\n",
      "\n",
      "avg / total       0.50      0.51      0.51        59\n",
      "\n",
      "[[ 0  1  0]\n",
      " [ 0 14 13]\n",
      " [ 0 15 16]]\n"
     ]
    }
   ],
   "source": [
    "# summarize the fit of the model\n",
    "print(metrics.classification_report(expected, predicted))\n",
    "print(metrics.confusion_matrix(expected, predicted))"
   ]
  },
  {
   "cell_type": "code",
   "execution_count": 436,
   "metadata": {},
   "outputs": [
    {
     "data": {
      "text/plain": [
       "0.50847457627118642"
      ]
     },
     "execution_count": 436,
     "metadata": {},
     "output_type": "execute_result"
    }
   ],
   "source": [
    "accuracy =model.score(X_test, y_test) \n",
    "accuracy"
   ]
  },
  {
   "cell_type": "markdown",
   "metadata": {},
   "source": [
    " PCA takes multiple columns, and turns them into fewer columns while trying to preserve the unique information in each column. Dimensionality reduction techniques like PCA are widely used when preprocessing data for machine learning algorithms."
   ]
  },
  {
   "cell_type": "code",
   "execution_count": 420,
   "metadata": {
    "collapsed": true
   },
   "outputs": [],
   "source": [
    "# Import the PCA model.\n",
    "from sklearn.decomposition import PCA"
   ]
  },
  {
   "cell_type": "code",
   "execution_count": 421,
   "metadata": {
    "collapsed": true
   },
   "outputs": [],
   "source": [
    "# Create a PCA model.\n",
    "pca_2 = PCA(2)\n",
    "# Fit the PCA model on the numeric columns from earlier.\n",
    "plot_columns = pca_2.fit_transform(X_train)\n",
    "# Make a scatter plot of each game, shaded according to cluster assignment.\n",
    "plt.scatter(x=plot_columns[:,0], y=plot_columns[:,1], c=labels)\n",
    "# Show the plot.\n",
    "plt.show()"
   ]
  },
  {
   "cell_type": "code",
   "execution_count": 423,
   "metadata": {},
   "outputs": [
    {
     "data": {
      "text/plain": [
       "ret_spy      1.000000\n",
       "ret_sqqq    -0.277642\n",
       "ret_uwti     0.098874\n",
       "ret_vxx     -0.245318\n",
       "ret_dia      0.268160\n",
       "ret_ndx      0.235390\n",
       "ret_oex      0.234909\n",
       "ret_xle      0.112450\n",
       "ret_xlf      0.234065\n",
       "ret_xlv      0.263004\n",
       "ret_xly      0.261403\n",
       "ret_xli      0.205507\n",
       "mean_spy     0.079039\n",
       "mean_sqqq   -0.078610\n",
       "mean_uwti    0.021013\n",
       "mean_vxx    -0.068450\n",
       "mean_dia     0.084766\n",
       "mean_ndx     0.103389\n",
       "mean_oex     0.094920\n",
       "mean_xle     0.053404\n",
       "mean_xlf     0.073148\n",
       "mean_xlv     0.063772\n",
       "mean_xly     0.037034\n",
       "mean_xli     0.056012\n",
       "UpDown       0.656860\n",
       "Name: ret_spy, dtype: float64"
      ]
     },
     "execution_count": 423,
     "metadata": {},
     "output_type": "execute_result"
    }
   ],
   "source": [
    "df.corr()['ret_spy']# around 20% correlation"
   ]
  },
  {
   "cell_type": "markdown",
   "metadata": {},
   "source": [
    "choosing correct parameters"
   ]
  },
  {
   "cell_type": "code",
   "execution_count": 450,
   "metadata": {
    "collapsed": true
   },
   "outputs": [],
   "source": [
    "import numpy as np\n",
    "from sklearn.linear_model import Ridge\n",
    "from sklearn.grid_search import GridSearchCV"
   ]
  },
  {
   "cell_type": "code",
   "execution_count": 451,
   "metadata": {
    "collapsed": true
   },
   "outputs": [],
   "source": [
    "# prepare a range of alpha values to test\n",
    "alphas = np.array([0.001,0.0011,0.0012,0.0013,0.0014,0.0015,0])"
   ]
  },
  {
   "cell_type": "code",
   "execution_count": 452,
   "metadata": {},
   "outputs": [
    {
     "name": "stdout",
     "output_type": "stream",
     "text": [
      "GridSearchCV(cv=None, error_score='raise',\n",
      "       estimator=Ridge(alpha=1.0, copy_X=True, fit_intercept=True, max_iter=None,\n",
      "   normalize=False, random_state=None, solver='auto', tol=0.001),\n",
      "       fit_params={}, iid=True, n_jobs=1,\n",
      "       param_grid={'alpha': array([ 0.001 ,  0.0011,  0.0012,  0.0013,  0.0014,  0.0015,  0.    ])},\n",
      "       pre_dispatch='2*n_jobs', refit=True, scoring=None, verbose=0)\n"
     ]
    }
   ],
   "source": [
    "# create and fit a ridge regression model, testing each alpha\n",
    "model = Ridge()\n",
    "grid = GridSearchCV(estimator=model, param_grid=dict(alpha=alphas))\n",
    "grid.fit(X_train, y_train)\n",
    "print(grid)"
   ]
  },
  {
   "cell_type": "code",
   "execution_count": 453,
   "metadata": {},
   "outputs": [
    {
     "name": "stdout",
     "output_type": "stream",
     "text": [
      "0.0575737572557\n",
      "0.001\n"
     ]
    }
   ],
   "source": [
    "# summarize the results of the grid search\n",
    "print(grid.best_score_)\n",
    "print(grid.best_estimator_.alpha)"
   ]
  },
  {
   "cell_type": "code",
   "execution_count": 454,
   "metadata": {},
   "outputs": [
    {
     "data": {
      "text/plain": [
       "0.004780300938992732"
      ]
     },
     "execution_count": 454,
     "metadata": {},
     "output_type": "execute_result"
    }
   ],
   "source": [
    "accuracy =grid.score(X_test, y_test) \n",
    "accuracy"
   ]
  },
  {
   "cell_type": "markdown",
   "metadata": {},
   "source": [
    "ARCH Modeling\n",
    "\n",
    "http://nbviewer.jupyter.org/github/bashtage/arch/blob/master/examples/univariate_volatility_modeling.ipynb"
   ]
  },
  {
   "cell_type": "markdown",
   "metadata": {},
   "source": [
    "Unit Root Testing\n",
    "\n",
    "http://nbviewer.jupyter.org/github/bashtage/arch/blob/master/examples/unitroot_examples.ipynb"
   ]
  },
  {
   "cell_type": "code",
   "execution_count": 488,
   "metadata": {
    "collapsed": true
   },
   "outputs": [],
   "source": [
    "import datetime as dt\n",
    "import pandas as pd\n",
    "import statsmodels.api as sm"
   ]
  },
  {
   "cell_type": "code",
   "execution_count": 489,
   "metadata": {
    "collapsed": true
   },
   "outputs": [],
   "source": [
    "import warnings\n",
    "warnings.simplefilter('ignore')\n",
    "\n",
    "%matplotlib inline\n",
    "import seaborn\n",
    "seaborn.mpl.rcParams['figure.figsize'] = (10.0, 6.0)\n",
    "seaborn.mpl.rcParams['savefig.dpi'] = 90"
   ]
  },
  {
   "cell_type": "code",
   "execution_count": 512,
   "metadata": {},
   "outputs": [
    {
     "data": {
      "text/plain": [
       "o    False\n",
       "h    False\n",
       "l    False\n",
       "c    False\n",
       "v    False\n",
       "dtype: bool"
      ]
     },
     "execution_count": 512,
     "metadata": {},
     "output_type": "execute_result"
    }
   ],
   "source": [
    "oex.isnull().any()"
   ]
  },
  {
   "cell_type": "code",
   "execution_count": 518,
   "metadata": {},
   "outputs": [
    {
     "data": {
      "image/png": "[encoded data removed]",
      "text/plain": [
       "<matplotlib.figure.Figure at 0x7f81e8cf9610>"
      ]
     },
     "metadata": {},
     "output_type": "display_data"
    }
   ],
   "source": [
    "default = spy - oex\n",
    "fig = default.plot()"
   ]
  },
  {
   "cell_type": "code",
   "execution_count": 519,
   "metadata": {},
   "outputs": [
    {
     "data": {
      "text/plain": [
       "o    float64\n",
       "h    float64\n",
       "l    float64\n",
       "c    float64\n",
       "v    float64\n",
       "dtype: object"
      ]
     },
     "execution_count": 519,
     "metadata": {},
     "output_type": "execute_result"
    }
   ],
   "source": [
    "default.dtypes"
   ]
  },
  {
   "cell_type": "code",
   "execution_count": 506,
   "metadata": {},
   "outputs": [
    {
     "data": {
      "text/plain": [
       "o    True\n",
       "h    True\n",
       "l    True\n",
       "c    True\n",
       "v    True\n",
       "dtype: bool"
      ]
     },
     "execution_count": 506,
     "metadata": {},
     "output_type": "execute_result"
    }
   ],
   "source": [
    "default.isnull().any()#Will return the feature with True or False,True means have missing value else False"
   ]
  },
  {
   "cell_type": "code",
   "execution_count": 522,
   "metadata": {},
   "outputs": [
    {
     "data": {
      "text/html": [
       "<div>\n",
       "<table border=\"1\" class=\"dataframe\">\n",
       "  <thead>\n",
       "    <tr style=\"text-align: right;\">\n",
       "      <th></th>\n",
       "      <th>o</th>\n",
       "      <th>h</th>\n",
       "      <th>l</th>\n",
       "      <th>c</th>\n",
       "      <th>v</th>\n",
       "    </tr>\n",
       "    <tr>\n",
       "      <th>ts</th>\n",
       "      <th></th>\n",
       "      <th></th>\n",
       "      <th></th>\n",
       "      <th></th>\n",
       "      <th></th>\n",
       "    </tr>\n",
       "  </thead>\n",
       "  <tbody>\n",
       "    <tr>\n",
       "      <th>2016-08-15 19:01:00</th>\n",
       "      <td>-746.368431</td>\n",
       "      <td>-746.418938</td>\n",
       "      <td>-746.317346</td>\n",
       "      <td>-746.36815</td>\n",
       "      <td>44563.704895</td>\n",
       "    </tr>\n",
       "    <tr>\n",
       "      <th>2016-08-15 19:02:00</th>\n",
       "      <td>-749.490000</td>\n",
       "      <td>-749.510000</td>\n",
       "      <td>-749.210000</td>\n",
       "      <td>-749.31000</td>\n",
       "      <td>246097.000000</td>\n",
       "    </tr>\n",
       "    <tr>\n",
       "      <th>2016-08-15 19:03:00</th>\n",
       "      <td>-749.180000</td>\n",
       "      <td>-749.430000</td>\n",
       "      <td>-749.180000</td>\n",
       "      <td>-749.43000</td>\n",
       "      <td>105692.000000</td>\n",
       "    </tr>\n",
       "    <tr>\n",
       "      <th>2016-08-15 19:04:00</th>\n",
       "      <td>-749.320000</td>\n",
       "      <td>-749.370000</td>\n",
       "      <td>-749.170000</td>\n",
       "      <td>-749.20000</td>\n",
       "      <td>45636.000000</td>\n",
       "    </tr>\n",
       "    <tr>\n",
       "      <th>2016-08-15 19:05:00</th>\n",
       "      <td>-749.460000</td>\n",
       "      <td>-749.470000</td>\n",
       "      <td>-749.320000</td>\n",
       "      <td>-749.32000</td>\n",
       "      <td>78269.000000</td>\n",
       "    </tr>\n",
       "  </tbody>\n",
       "</table>\n",
       "</div>"
      ],
      "text/plain": [
       "                              o           h           l          c  \\\n",
       "ts                                                                   \n",
       "2016-08-15 19:01:00 -746.368431 -746.418938 -746.317346 -746.36815   \n",
       "2016-08-15 19:02:00 -749.490000 -749.510000 -749.210000 -749.31000   \n",
       "2016-08-15 19:03:00 -749.180000 -749.430000 -749.180000 -749.43000   \n",
       "2016-08-15 19:04:00 -749.320000 -749.370000 -749.170000 -749.20000   \n",
       "2016-08-15 19:05:00 -749.460000 -749.470000 -749.320000 -749.32000   \n",
       "\n",
       "                                 v  \n",
       "ts                                  \n",
       "2016-08-15 19:01:00   44563.704895  \n",
       "2016-08-15 19:02:00  246097.000000  \n",
       "2016-08-15 19:03:00  105692.000000  \n",
       "2016-08-15 19:04:00   45636.000000  \n",
       "2016-08-15 19:05:00   78269.000000  "
      ]
     },
     "execution_count": 522,
     "metadata": {},
     "output_type": "execute_result"
    }
   ],
   "source": [
    "default.head()"
   ]
  },
  {
   "cell_type": "code",
   "execution_count": 523,
   "metadata": {},
   "outputs": [],
   "source": [
    "#Impute numerical missing values with mean\n",
    "default = default.fillna(default.mean(),inplace=True)"
   ]
  },
  {
   "cell_type": "code",
   "execution_count": 524,
   "metadata": {},
   "outputs": [
    {
     "data": {
      "image/png": "[encoded data removed]",
      "text/plain": [
       "<matplotlib.figure.Figure at 0x7f81eabbd390>"
      ]
     },
     "metadata": {},
     "output_type": "display_data"
    }
   ],
   "source": [
    "acf = pd.DataFrame(sm.tsa.stattools.acf(default.c), columns=['ACF'])\n",
    "fig = acf[1:].plot(kind='bar', title='Autocorrelations')"
   ]
  },
  {
   "cell_type": "markdown",
   "metadata": {},
   "source": [
    "Agumented Dickey-Fuller Testing\n",
    "\n",
    " It is a regression of the first difference of the variable on its lagged level as well as additional lags of the first difference. The null is that the series contains a unit root, and the (one-sided) alternative is that the series is stationary."
   ]
  },
  {
   "cell_type": "code",
   "execution_count": 526,
   "metadata": {},
   "outputs": [
    {
     "name": "stdout",
     "output_type": "stream",
     "text": [
      "   Augmented Dickey-Fuller Results   \n",
      "=====================================\n",
      "Test Statistic                 -2.748\n",
      "P-value                         0.066\n",
      "Lags                               18\n",
      "-------------------------------------\n",
      "\n",
      "Trend: Constant\n",
      "Critical Values: -3.43 (1%), -2.86 (5%), -2.57 (10%)\n",
      "Null Hypothesis: The process contains a unit root.\n",
      "Alternative Hypothesis: The process is weakly stationary.\n"
     ]
    }
   ],
   "source": [
    "from arch.unitroot import ADF\n",
    "adf = ADF(default.c)\n",
    "print(adf.summary().as_text())"
   ]
  },
  {
   "cell_type": "code",
   "execution_count": 527,
   "metadata": {},
   "outputs": [
    {
     "name": "stdout",
     "output_type": "stream",
     "text": [
      "   Augmented Dickey-Fuller Results   \n",
      "=====================================\n",
      "Test Statistic                 -3.128\n",
      "P-value                         0.025\n",
      "Lags                                5\n",
      "-------------------------------------\n",
      "\n",
      "Trend: Constant\n",
      "Critical Values: -3.43 (1%), -2.86 (5%), -2.57 (10%)\n",
      "Null Hypothesis: The process contains a unit root.\n",
      "Alternative Hypothesis: The process is weakly stationary.\n"
     ]
    }
   ],
   "source": [
    "#Setting the number of lags\n",
    "adf.lags = 5\n",
    "print(adf.summary().as_text())"
   ]
  },
  {
   "cell_type": "markdown",
   "metadata": {},
   "source": [
    "Deterministic terms\n",
    "\n",
    "The deterministic terms can be altered using trend. The options are:\n",
    "\n",
    "'nc' : No deterministi terms\n",
    "'c' : Constant only\n",
    "'ct' : Constant and time trend\n",
    "'ctt' : Constant, time trend and time-trend squared\n",
    "Changing the type of constant also makes no difference for this data."
   ]
  },
  {
   "cell_type": "code",
   "execution_count": 528,
   "metadata": {},
   "outputs": [
    {
     "name": "stdout",
     "output_type": "stream",
     "text": [
      "   Augmented Dickey-Fuller Results   \n",
      "=====================================\n",
      "Test Statistic                 -3.832\n",
      "P-value                         0.015\n",
      "Lags                                5\n",
      "-------------------------------------\n",
      "\n",
      "Trend: Constant and Linear Time Trend\n",
      "Critical Values: -3.96 (1%), -3.41 (5%), -3.13 (10%)\n",
      "Null Hypothesis: The process contains a unit root.\n",
      "Alternative Hypothesis: The process is weakly stationary.\n"
     ]
    }
   ],
   "source": [
    "adf.trend = 'ct'\n",
    "print(adf.summary().as_text())"
   ]
  },
  {
   "cell_type": "markdown",
   "metadata": {},
   "source": [
    "Regression output"
   ]
  },
  {
   "cell_type": "code",
   "execution_count": 529,
   "metadata": {},
   "outputs": [
    {
     "name": "stdout",
     "output_type": "stream",
     "text": [
      "                            OLS Regression Results                            \n",
      "==============================================================================\n",
      "Dep. Variable:                      y   R-squared:                       0.036\n",
      "Model:                            OLS   Adj. R-squared:                  0.034\n",
      "Method:                 Least Squares   F-statistic:                     20.00\n",
      "Date:                Sun, 28 Aug 2016   Prob (F-statistic):           1.65e-26\n",
      "Time:                        09:39:49   Log-Likelihood:                -64.434\n",
      "No. Observations:                3740   AIC:                             144.9\n",
      "Df Residuals:                    3732   BIC:                             194.7\n",
      "Df Model:                           7                                         \n",
      "Covariance Type:            nonrobust                                         \n",
      "==============================================================================\n",
      "                 coef    std err          t      P>|t|      [95.0% Conf. Int.]\n",
      "------------------------------------------------------------------------------\n",
      "x1            -0.0102      0.003     -3.832      0.000        -0.015    -0.005\n",
      "x2            -0.1756      0.016    -10.698      0.000        -0.208    -0.143\n",
      "x3            -0.0373      0.017     -2.240      0.025        -0.070    -0.005\n",
      "x4            -0.0082      0.017     -0.493      0.622        -0.041     0.024\n",
      "x5            -0.0098      0.017     -0.590      0.555        -0.042     0.023\n",
      "x6             0.0091      0.016      0.564      0.573        -0.022     0.041\n",
      "const         -7.5961      1.983     -3.830      0.000       -11.485    -3.707\n",
      "x7          1.139e-05   5.05e-06      2.255      0.024      1.49e-06  2.13e-05\n",
      "==============================================================================\n",
      "Omnibus:                     2190.468   Durbin-Watson:                   2.000\n",
      "Prob(Omnibus):                  0.000   Jarque-Bera (JB):          3435181.259\n",
      "Skew:                           1.216   Prob(JB):                         0.00\n",
      "Kurtosis:                     151.452   Cond. No.                     1.11e+06\n",
      "==============================================================================\n",
      "\n",
      "Warnings:\n",
      "[1] Standard Errors assume that the covariance matrix of the errors is correctly specified.\n",
      "[2] The condition number is large, 1.11e+06. This might indicate that there are\n",
      "strong multicollinearity or other numerical problems.\n"
     ]
    }
   ],
   "source": [
    "reg_res = adf.regression\n",
    "print(reg_res.summary().as_text())"
   ]
  },
  {
   "cell_type": "code",
   "execution_count": 530,
   "metadata": {},
   "outputs": [
    {
     "data": {
      "image/png": "[encoded data removed]",
      "text/plain": [
       "<matplotlib.figure.Figure at 0x7f81ebb51b50>"
      ]
     },
     "metadata": {},
     "output_type": "display_data"
    }
   ],
   "source": [
    "import pandas as pd\n",
    "import matplotlib.pyplot as plt\n",
    "resids = pd.DataFrame(reg_res.resid, index=default.index[6:], columns=['resids'])\n",
    "fig = resids.plot()"
   ]
  },
  {
   "cell_type": "code",
   "execution_count": 531,
   "metadata": {},
   "outputs": [
    {
     "data": {
      "image/png": "[encoded data removed]",
      "text/plain": [
       "<matplotlib.figure.Figure at 0x7f81eb803650>"
      ]
     },
     "metadata": {},
     "output_type": "display_data"
    }
   ],
   "source": [
    "acf = pd.DataFrame(sm.tsa.stattools.acf(reg_res.resid), columns=['ACF'])\n",
    "fig = acf[1:].plot(kind='bar', title='Residual Autocorrelations')"
   ]
  },
  {
   "cell_type": "markdown",
   "metadata": {},
   "source": [
    "Dickey-Fuller GLS Testing\n",
    "\n",
    "The Dickey-Fuller GLS test is an improved version of the ADF which uses a GLS-detrending regression before running an ADF regression with no additional deterministic terms. This test is only available with a constant or constant and time trend (trend='c' or trend='ct')."
   ]
  },
  {
   "cell_type": "code",
   "execution_count": 532,
   "metadata": {},
   "outputs": [
    {
     "name": "stdout",
     "output_type": "stream",
     "text": [
      "      Dickey-Fuller GLS Results      \n",
      "=====================================\n",
      "Test Statistic                 -2.747\n",
      "P-value                         0.006\n",
      "Lags                               18\n",
      "-------------------------------------\n",
      "\n",
      "Trend: Constant\n",
      "Critical Values: -2.57 (1%), -1.95 (5%), -1.63 (10%)\n",
      "Null Hypothesis: The process contains a unit root.\n",
      "Alternative Hypothesis: The process is weakly stationary.\n"
     ]
    }
   ],
   "source": [
    "from arch.unitroot import DFGLS\n",
    "dfgls = DFGLS(default.c)\n",
    "print(dfgls.summary().as_text())"
   ]
  },
  {
   "cell_type": "code",
   "execution_count": 533,
   "metadata": {},
   "outputs": [
    {
     "name": "stdout",
     "output_type": "stream",
     "text": [
      "      Dickey-Fuller GLS Results      \n",
      "=====================================\n",
      "Test Statistic                 -2.903\n",
      "P-value                         0.045\n",
      "Lags                               18\n",
      "-------------------------------------\n",
      "\n",
      "Trend: Constant and Linear Time Trend\n",
      "Critical Values: -3.41 (1%), -2.85 (5%), -2.56 (10%)\n",
      "Null Hypothesis: The process contains a unit root.\n",
      "Alternative Hypothesis: The process is weakly stationary.\n"
     ]
    }
   ],
   "source": [
    "dfgls.trend = 'ct'\n",
    "print(dfgls.summary().as_text())"
   ]
  },
  {
   "cell_type": "markdown",
   "metadata": {},
   "source": [
    "Phillips-Perron Testing\n",
    "\n",
    "The Phippips-Perron test is similar to the ADF except that the regression run does not include lagged values of the first differences. Instead, the PP test fixed the t-statistic using a long run variance estimation, implemented using a Newey-West covariance estimator."
   ]
  },
  {
   "cell_type": "code",
   "execution_count": 534,
   "metadata": {},
   "outputs": [
    {
     "name": "stdout",
     "output_type": "stream",
     "text": [
      "     Phillips-Perron Test (Z-tau)    \n",
      "=====================================\n",
      "Test Statistic                 -3.068\n",
      "P-value                         0.029\n",
      "Lags                               30\n",
      "-------------------------------------\n",
      "\n",
      "Trend: Constant\n",
      "Critical Values: -3.43 (1%), -2.86 (5%), -2.57 (10%)\n",
      "Null Hypothesis: The process contains a unit root.\n",
      "Alternative Hypothesis: The process is weakly stationary.\n"
     ]
    }
   ],
   "source": [
    "from arch.unitroot import PhillipsPerron\n",
    "pp = PhillipsPerron(default.c)\n",
    "print(pp.summary().as_text())"
   ]
  },
  {
   "cell_type": "code",
   "execution_count": 535,
   "metadata": {},
   "outputs": [
    {
     "name": "stdout",
     "output_type": "stream",
     "text": [
      "     Phillips-Perron Test (Z-tau)    \n",
      "=====================================\n",
      "Test Statistic                 -3.222\n",
      "P-value                         0.019\n",
      "Lags                               12\n",
      "-------------------------------------\n",
      "\n",
      "Trend: Constant\n",
      "Critical Values: -3.43 (1%), -2.86 (5%), -2.57 (10%)\n",
      "Null Hypothesis: The process contains a unit root.\n",
      "Alternative Hypothesis: The process is weakly stationary.\n"
     ]
    }
   ],
   "source": [
    "pp.lags = 12\n",
    "print(pp.summary().as_text())"
   ]
  },
  {
   "cell_type": "code",
   "execution_count": 536,
   "metadata": {},
   "outputs": [
    {
     "name": "stdout",
     "output_type": "stream",
     "text": [
      "     Phillips-Perron Test (Z-tau)    \n",
      "=====================================\n",
      "Test Statistic                 -4.461\n",
      "P-value                         0.002\n",
      "Lags                               12\n",
      "-------------------------------------\n",
      "\n",
      "Trend: Constant and Linear Time Trend\n",
      "Critical Values: -3.96 (1%), -3.41 (5%), -3.13 (10%)\n",
      "Null Hypothesis: The process contains a unit root.\n",
      "Alternative Hypothesis: The process is weakly stationary.\n"
     ]
    }
   ],
   "source": [
    "pp.trend = 'ct'\n",
    "print(pp.summary().as_text())"
   ]
  },
  {
   "cell_type": "markdown",
   "metadata": {},
   "source": [
    "Finally, the PP testing framework includes two types of tests. One which uses an ADF-type regression of the first difference on the level, the other which regresses the level on the level. The default is the tau test, which is similar to an ADF regression, although this can be changed using test_type='rho'."
   ]
  },
  {
   "cell_type": "code",
   "execution_count": 537,
   "metadata": {},
   "outputs": [
    {
     "name": "stdout",
     "output_type": "stream",
     "text": [
      "     Phillips-Perron Test (Z-rho)    \n",
      "=====================================\n",
      "Test Statistic                -39.486\n",
      "P-value                         0.000\n",
      "Lags                               12\n",
      "-------------------------------------\n",
      "\n",
      "Trend: Constant and Linear Time Trend\n",
      "Critical Values: -29.29 (1%), -21.68 (5%), -18.22 (10%)\n",
      "Null Hypothesis: The process contains a unit root.\n",
      "Alternative Hypothesis: The process is weakly stationary.\n"
     ]
    }
   ],
   "source": [
    "pp.test_type = 'rho'\n",
    "print(pp.summary().as_text())"
   ]
  },
  {
   "cell_type": "markdown",
   "metadata": {},
   "source": [
    "KPSS Testing\n",
    "\n",
    "The KPSS test differs from the three previous in that the null is a stationary process and the alternative is a unit root.\n"
   ]
  },
  {
   "cell_type": "code",
   "execution_count": 539,
   "metadata": {},
   "outputs": [
    {
     "name": "stdout",
     "output_type": "stream",
     "text": [
      "    KPSS Stationarity Test Results   \n",
      "=====================================\n",
      "Test Statistic                  5.326\n",
      "P-value                         0.001\n",
      "Lags                               30\n",
      "-------------------------------------\n",
      "\n",
      "Trend: Constant\n",
      "Critical Values: 0.74 (1%), 0.46 (5%), 0.35 (10%)\n",
      "Null Hypothesis: The process is weakly stationary.\n",
      "Alternative Hypothesis: The process contains a unit root.\n"
     ]
    }
   ],
   "source": [
    "from arch.unitroot import KPSS\n",
    "kpss = KPSS(default.c)\n",
    "print(kpss.summary().as_text())"
   ]
  },
  {
   "cell_type": "code",
   "execution_count": 540,
   "metadata": {},
   "outputs": [
    {
     "name": "stdout",
     "output_type": "stream",
     "text": [
      "    KPSS Stationarity Test Results   \n",
      "=====================================\n",
      "Test Statistic                  0.610\n",
      "P-value                         0.001\n",
      "Lags                               30\n",
      "-------------------------------------\n",
      "\n",
      "Trend: Constant and Linear Time Trend\n",
      "Critical Values: 0.22 (1%), 0.15 (5%), 0.12 (10%)\n",
      "Null Hypothesis: The process is weakly stationary.\n",
      "Alternative Hypothesis: The process contains a unit root.\n"
     ]
    }
   ],
   "source": [
    "kpss.trend = 'ct'\n",
    "print(kpss.summary().as_text())"
   ]
  },
  {
   "cell_type": "markdown",
   "metadata": {},
   "source": [
    "Variance Ratio Testing\n",
    "\n",
    "\n",
    "Variance ratio tests are not usually used as unit root tests, and are instead used for testing whether a financial return series is a pure random walk versus having some predictability."
   ]
  },
  {
   "cell_type": "code",
   "execution_count": 541,
   "metadata": {},
   "outputs": [
    {
     "name": "stdout",
     "output_type": "stream",
     "text": [
      "     Variance-Ratio Test Results     \n",
      "=====================================\n",
      "Test Statistic                 -3.161\n",
      "P-value                         0.002\n",
      "Lags                               12\n",
      "-------------------------------------\n",
      "\n",
      "Computed with overlapping blocks (de-biased)\n"
     ]
    }
   ],
   "source": [
    "from arch.unitroot import VarianceRatio\n",
    "vr = VarianceRatio(default.c, 12)\n",
    "print(vr.summary().as_text())"
   ]
  },
  {
   "cell_type": "markdown",
   "metadata": {},
   "source": [
    "By default the VR test uses all overlapping blocks to estimate the variance of the long period's return. This can be changed by setting overlap=False. This lowers the power but doesn't change the conclusion.\n",
    "\n",
    " The warning is intentional. It appears here since when it is not possible to use all data since the data length isn't an integer multiple of the long period when using non-overlapping blocks. There is little reason to use overlap=False."
   ]
  },
  {
   "cell_type": "code",
   "execution_count": 542,
   "metadata": {},
   "outputs": [
    {
     "name": "stdout",
     "output_type": "stream",
     "text": [
      "     Variance-Ratio Test Results     \n",
      "=====================================\n",
      "Test Statistic                 -4.667\n",
      "P-value                         0.000\n",
      "Lags                               12\n",
      "-------------------------------------\n",
      "\n",
      "Computed with non-overlapping blocks\n"
     ]
    },
    {
     "name": "stderr",
     "output_type": "stream",
     "text": [
      "/home/octo/anaconda2/envs/PyAlgo/lib/python2.7/site-packages/arch/unitroot/unitroot.py:1041: InvalidLengthWarning: \n",
      "The length of y is not an exact multiple of 12, and so the final\n",
      "1 observations have been dropped.\n",
      "\n",
      "  InvalidLengthWarning)\n"
     ]
    }
   ],
   "source": [
    "warnings.simplefilter('always')  # Restore warnings\n",
    "\n",
    "vr.overlap = False\n",
    "print(vr.summary().as_text())"
   ]
  },
  {
   "cell_type": "markdown",
   "metadata": {},
   "source": [
    "Bootstrap Examples\n",
    "\n",
    "http://nbviewer.jupyter.org/github/bashtage/arch/blob/master/examples/bootstrap_examples.ipynb"
   ]
  },
  {
   "cell_type": "code",
   "execution_count": 554,
   "metadata": {},
   "outputs": [
    {
     "data": {
      "text/plain": [
       "3599"
      ]
     },
     "execution_count": 554,
     "metadata": {},
     "output_type": "execute_result"
    }
   ],
   "source": [
    "len(spy.c)"
   ]
  },
  {
   "cell_type": "code",
   "execution_count": 555,
   "metadata": {},
   "outputs": [],
   "source": [
    "# make a trended sine wave\n",
    "spy['wave'] = [10 * math.sin(i * 2 * math.pi / 25) + i * i /100.0 for i in range(3599)]\n",
    "s = [10 * math.sin(i * 2 * math.pi / 25) + i * i /100.0 for i in range(3599)]"
   ]
  },
  {
   "cell_type": "code",
   "execution_count": 564,
   "metadata": {},
   "outputs": [
    {
     "data": {
      "text/plain": [
       "[<matplotlib.lines.Line2D at 0x7f81ebcb9c50>]"
      ]
     },
     "execution_count": 564,
     "metadata": {},
     "output_type": "execute_result"
    },
    {
     "data": {
      "image/png": "[encoded data removed]",
      "text/plain": [
       "<matplotlib.figure.Figure at 0x7f81eb917fd0>"
      ]
     },
     "metadata": {},
     "output_type": "display_data"
    }
   ],
   "source": [
    "plt.plot(spy.wave)"
   ]
  },
  {
   "cell_type": "code",
   "execution_count": 567,
   "metadata": {},
   "outputs": [
    {
     "data": {
      "text/plain": [
       "[<matplotlib.lines.Line2D at 0x7f81ea929e50>]"
      ]
     },
     "execution_count": 567,
     "metadata": {},
     "output_type": "execute_result"
    },
    {
     "data": {
      "image/png": "[encoded data removed]",
      "text/plain": [
       "<matplotlib.figure.Figure at 0x7f81eb894890>"
      ]
     },
     "metadata": {},
     "output_type": "display_data"
    }
   ],
   "source": [
    "plt.plot(spy.wave,spy.c)"
   ]
  },
  {
   "cell_type": "code",
   "execution_count": 569,
   "metadata": {},
   "outputs": [
    {
     "data": {
      "text/plain": [
       "[<matplotlib.lines.Line2D at 0x7f81e8b0f810>,\n",
       " <matplotlib.lines.Line2D at 0x7f81e8acf950>]"
      ]
     },
     "execution_count": 569,
     "metadata": {},
     "output_type": "execute_result"
    },
    {
     "data": {
      "image/png": "[encoded data removed]",
      "text/plain": [
       "<matplotlib.figure.Figure at 0x7f81e8c32dd0>"
      ]
     },
     "metadata": {},
     "output_type": "display_data"
    }
   ],
   "source": [
    "plt.plot(spy[['c','wave']])"
   ]
  },
  {
   "cell_type": "markdown",
   "metadata": {},
   "source": [
    "Function for testing stationarity"
   ]
  },
  {
   "cell_type": "code",
   "execution_count": 570,
   "metadata": {
    "collapsed": true
   },
   "outputs": [],
   "source": [
    "import numpy as np\n",
    "import statsmodels.api as stat\n",
    "import statsmodels.tsa.stattools as ts"
   ]
  },
  {
   "cell_type": "code",
   "execution_count": 571,
   "metadata": {
    "collapsed": true
   },
   "outputs": [],
   "source": [
    "def cointegration_test(y, x): \n",
    "    return ts.adfuller(stat.OLS(y, x).fit().resid)"
   ]
  },
  {
   "cell_type": "code",
   "execution_count": 588,
   "metadata": {},
   "outputs": [],
   "source": [
    "spy=spy.join(oex.c,how='left',lsuffix='c').dropna()"
   ]
  },
  {
   "cell_type": "code",
   "execution_count": 598,
   "metadata": {},
   "outputs": [
    {
     "data": {
      "text/plain": [
       "(-1.0528615278011491, 0.73349969811769533, -3.4321840837544655)"
      ]
     },
     "execution_count": 598,
     "metadata": {},
     "output_type": "execute_result"
    }
   ],
   "source": [
    "c_t = cointegration_test(spy.cc,spy.c)\n",
    "    \n",
    "adf = c_t[0]\n",
    "p = c_t[1]\n",
    "critical_adf = c_t[4]['1%']\n",
    "#record(adf=adf,critical_adf=critical_adf,p=p)\n",
    "adf,p,critical_adf"
   ]
  },
  {
   "cell_type": "code",
   "execution_count": 601,
   "metadata": {},
   "outputs": [],
   "source": [
    "ret = (spy.o/spy.cc.shift(1))-1\n",
    "ret=ret.dropna()"
   ]
  },
  {
   "cell_type": "code",
   "execution_count": 610,
   "metadata": {
    "collapsed": true
   },
   "outputs": [],
   "source": [
    "ratio=spy.c/spy.cc#oex/spy"
   ]
  },
  {
   "cell_type": "code",
   "execution_count": 611,
   "metadata": {},
   "outputs": [
    {
     "name": "stdout",
     "output_type": "stream",
     "text": [
      "Iteration:      1,   Func. Count:      6,   Neg. LLF: -14461.3756091\n",
      "Inequality constraints incompatible    (Exit mode 4)\n",
      "            Current function value: -14461.3756226\n",
      "            Iterations: 1\n",
      "            Function evaluations: 6\n",
      "            Gradient evaluations: 1\n"
     ]
    },
    {
     "name": "stderr",
     "output_type": "stream",
     "text": [
      "/home/octo/anaconda2/envs/PyAlgo/lib/python2.7/site-packages/arch/univariate/base.py:510: ConvergenceWarning: \n",
      "The optimizer returned code 4. The message is:\n",
      "Inequality constraints incompatible\n",
      "See scipy.optimize.fmin_slsqp for code meaning.\n",
      "\n",
      "  ConvergenceWarning)\n"
     ]
    }
   ],
   "source": [
    "#https://pypi.python.org/pypi/arch/3.0\n",
    "### Unit Root Tests\n",
    "from arch import arch_model\n",
    "am = arch_model(ratio)\n",
    "res = am.fit()"
   ]
  },
  {
   "cell_type": "code",
   "execution_count": 612,
   "metadata": {},
   "outputs": [],
   "source": [
    "# Function to compute parameters\n",
    "def sharpe_ratio(x):\n",
    "    mu, sigma = 12 * x.mean(), np.sqrt(12 * x.var())\n",
    "    return np.array([mu, sigma, mu / sigma])\n",
    "\n",
    "# Bootstrap confidence intervals\n",
    "from arch.bootstrap import IIDBootstrap\n",
    "bs = IIDBootstrap(ret)\n",
    "ci = bs.conf_int(sharpe_ratio, 1000, method='percentile')\n",
    "\n",
    "### Multiple Comparison Procedures"
   ]
  },
  {
   "cell_type": "code",
   "execution_count": 613,
   "metadata": {},
   "outputs": [
    {
     "data": {
      "text/plain": [
       "array([[ -1.33832309e-04,   9.08471574e-04,  -1.37606784e-01],\n",
       "       [  9.34794695e-05,   1.09481630e-03,   9.48887473e-02]])"
      ]
     },
     "execution_count": 613,
     "metadata": {},
     "output_type": "execute_result"
    }
   ],
   "source": [
    "ci"
   ]
  },
  {
   "cell_type": "code",
   "execution_count": 614,
   "metadata": {
    "collapsed": true
   },
   "outputs": [],
   "source": [
    "from statsmodels.tsa.stattools import adfuller\n",
    "def test_stationarity(timeseries):\n",
    "    \n",
    "    #Determing rolling statistics\n",
    "    rolmean = pd.rolling_mean(timeseries, window=12)\n",
    "    rolstd = pd.rolling_std(timeseries, window=12)\n",
    "\n",
    "    #Plot rolling statistics:\n",
    "    orig = plt.plot(timeseries, color='blue',label='Original')\n",
    "    mean = plt.plot(rolmean, color='red', label='Rolling Mean')\n",
    "    std = plt.plot(rolstd, color='black', label = 'Rolling Std')\n",
    "    plt.legend(loc='best')\n",
    "    plt.title('Rolling Mean & Standard Deviation')\n",
    "    plt.show(block=False)\n",
    "    \n",
    "    #Perform Dickey-Fuller test:\n",
    "    print 'Results of Dickey-Fuller Test:'\n",
    "    dftest = adfuller(timeseries, autolag='AIC')\n",
    "    dfoutput = pd.Series(dftest[0:4], index=['Test Statistic','p-value','#Lags Used','Number of Observations Used'])\n",
    "    for key,value in dftest[4].items():\n",
    "        dfoutput['Critical Value (%s)'%key] = value\n",
    "    print dfoutput"
   ]
  },
  {
   "cell_type": "code",
   "execution_count": 615,
   "metadata": {},
   "outputs": [
    {
     "data": {
      "image/png": "[encoded data removed]",
      "text/plain": [
       "<matplotlib.figure.Figure at 0x7f81ebb8c4d0>"
      ]
     },
     "metadata": {},
     "output_type": "display_data"
    },
    {
     "name": "stdout",
     "output_type": "stream",
     "text": [
      "Results of Dickey-Fuller Test:\n",
      "Test Statistic                   -1.050543\n",
      "p-value                           0.734387\n",
      "#Lags Used                        6.000000\n",
      "Number of Observations Used    3568.000000\n",
      "Critical Value (5%)              -2.862350\n",
      "Critical Value (1%)              -3.432184\n",
      "Critical Value (10%)             -2.567201\n",
      "dtype: float64\n"
     ]
    }
   ],
   "source": [
    "test_stationarity(ratio)"
   ]
  },
  {
   "cell_type": "code",
   "execution_count": 619,
   "metadata": {},
   "outputs": [
    {
     "data": {
      "text/plain": [
       "[<matplotlib.lines.Line2D at 0x7f81e83ce890>]"
      ]
     },
     "execution_count": 619,
     "metadata": {},
     "output_type": "execute_result"
    },
    {
     "data": {
      "image/png": "[encoded data removed]",
      "text/plain": [
       "<matplotlib.figure.Figure at 0x7f81e84f0f50>"
      ]
     },
     "metadata": {},
     "output_type": "display_data"
    }
   ],
   "source": [
    "moving_avg = pd.rolling_mean(ratio,30)\n",
    "plt.plot(ratio.tail(100))\n",
    "plt.plot(moving_avg.tail(100), color='red')"
   ]
  },
  {
   "cell_type": "code",
   "execution_count": null,
   "metadata": {
    "collapsed": true
   },
   "outputs": [],
   "source": []
  }
 ],
 "metadata": {
  "kernelspec": {
   "display_name": "Python 2",
   "language": "python",
   "name": "python2"
  },
  "language_info": {
   "codemirror_mode": {
    "name": "ipython",
    "version": 2
   },
   "file_extension": ".py",
   "mimetype": "text/x-python",
   "name": "python",
   "nbconvert_exporter": "python",
   "pygments_lexer": "ipython2",
   "version": "2.7.13"
  }
 },
 "nbformat": 4,
 "nbformat_minor": 1
}
