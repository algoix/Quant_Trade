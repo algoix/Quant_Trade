{
 "cells": [
  {
   "cell_type": "code",
   "execution_count": 4,
   "metadata": {
    "collapsed": true
   },
   "outputs": [],
   "source": [
    "#Loaded \n",
    "#pip install gtrends \n",
    "#https://pypi.python.org/pypi/gtrends/0.1\n",
    "#https://github.com/GeneralMills/pytrends\n",
    "#https://pypi.python.org/pypi/pytrends"
   ]
  },
  {
   "cell_type": "markdown",
   "metadata": {},
   "source": [
    "#http://nbviewer.jupyter.org/github/twiecki/replicate_google_trends/blob/master/goog_repl.ipynb"
   ]
  },
  {
   "cell_type": "markdown",
   "metadata": {},
   "source": [
    "https://gist.github.com/gregroberts/11001277"
   ]
  },
  {
   "cell_type": "code",
   "execution_count": 3,
   "metadata": {
    "collapsed": false
   },
   "outputs": [],
   "source": [
    "# Requires pandas. For Windows users, I recommend installing the Anaconda Python distirbution.\n",
    "# Requires the pytrends library. To install, run \"pip install pytrends\".\n",
    "#https://github.com/GeneralMills/pytrends\n",
    "\n",
    "from pytrends.pyGTrends import pyGTrends\n",
    "import time\n",
    "import os\n",
    "from random import randint\n",
    "import pandas as pd\n",
    "import numpy as np"
   ]
  },
  {
   "cell_type": "code",
   "execution_count": 4,
   "metadata": {
    "collapsed": false
   },
   "outputs": [
    {
     "ename": "HTTPError",
     "evalue": "HTTP Error 400: Bad Request",
     "output_type": "error",
     "traceback": [
      "\u001b[1;31m---------------------------------------------------------------------------\u001b[0m",
      "\u001b[1;31mHTTPError\u001b[0m                                 Traceback (most recent call last)",
      "\u001b[1;32m<ipython-input-4-186dd27a312e>\u001b[0m in \u001b[0;36m<module>\u001b[1;34m()\u001b[0m\n\u001b[0;32m      2\u001b[0m \u001b[0mgoogle_username\u001b[0m \u001b[1;33m=\u001b[0m \u001b[1;34m\"senfinance\"\u001b[0m\u001b[1;33m\u001b[0m\u001b[0m\n\u001b[0;32m      3\u001b[0m \u001b[0mgoogle_password\u001b[0m \u001b[1;33m=\u001b[0m \u001b[1;34m\"parthasen2012\"\u001b[0m\u001b[1;33m\u001b[0m\u001b[0m\n\u001b[1;32m----> 4\u001b[1;33m \u001b[0mconnector\u001b[0m \u001b[1;33m=\u001b[0m \u001b[0mpyGTrends\u001b[0m\u001b[1;33m(\u001b[0m\u001b[0mgoogle_username\u001b[0m\u001b[1;33m,\u001b[0m \u001b[0mgoogle_password\u001b[0m\u001b[1;33m)\u001b[0m\u001b[1;33m\u001b[0m\u001b[0m\n\u001b[0m",
      "\u001b[1;32m/home/octo/anaconda2/envs/PyAlgo/lib/python2.7/site-packages/pytrends/pyGTrends.pyc\u001b[0m in \u001b[0;36m__init__\u001b[1;34m(self, username, password)\u001b[0m\n\u001b[0;32m     49\u001b[0m         \u001b[0mself\u001b[0m\u001b[1;33m.\u001b[0m\u001b[0murl_CookieCheck\u001b[0m \u001b[1;33m=\u001b[0m \u001b[1;34m'https://www.google.com/accounts/CheckCookie?chtml=LoginDoneHtml'\u001b[0m\u001b[1;33m\u001b[0m\u001b[0m\n\u001b[0;32m     50\u001b[0m         \u001b[0mself\u001b[0m\u001b[1;33m.\u001b[0m\u001b[0murl_PrefCookie\u001b[0m \u001b[1;33m=\u001b[0m \u001b[1;34m'http://www.google.com'\u001b[0m\u001b[1;33m\u001b[0m\u001b[0m\n\u001b[1;32m---> 51\u001b[1;33m         \u001b[0mself\u001b[0m\u001b[1;33m.\u001b[0m\u001b[0m_connect\u001b[0m\u001b[1;33m(\u001b[0m\u001b[1;33m)\u001b[0m\u001b[1;33m\u001b[0m\u001b[0m\n\u001b[0m\u001b[0;32m     52\u001b[0m \u001b[1;33m\u001b[0m\u001b[0m\n\u001b[0;32m     53\u001b[0m     \u001b[1;32mdef\u001b[0m \u001b[0m_connect\u001b[0m\u001b[1;33m(\u001b[0m\u001b[0mself\u001b[0m\u001b[1;33m)\u001b[0m\u001b[1;33m:\u001b[0m\u001b[1;33m\u001b[0m\u001b[0m\n",
      "\u001b[1;32m/home/octo/anaconda2/envs/PyAlgo/lib/python2.7/site-packages/pytrends/pyGTrends.pyc\u001b[0m in \u001b[0;36m_connect\u001b[1;34m(self)\u001b[0m\n\u001b[0;32m     73\u001b[0m         \u001b[0mparams\u001b[0m \u001b[1;33m=\u001b[0m \u001b[0murlencode\u001b[0m\u001b[1;33m(\u001b[0m\u001b[0mself\u001b[0m\u001b[1;33m.\u001b[0m\u001b[0mlogin_params\u001b[0m\u001b[1;33m)\u001b[0m\u001b[1;33m.\u001b[0m\u001b[0mencode\u001b[0m\u001b[1;33m(\u001b[0m\u001b[1;34m'utf-8'\u001b[0m\u001b[1;33m)\u001b[0m\u001b[1;33m\u001b[0m\u001b[0m\n\u001b[0;32m     74\u001b[0m         \u001b[0mself\u001b[0m\u001b[1;33m.\u001b[0m\u001b[0mopener\u001b[0m\u001b[1;33m.\u001b[0m\u001b[0mopen\u001b[0m\u001b[1;33m(\u001b[0m\u001b[0mself\u001b[0m\u001b[1;33m.\u001b[0m\u001b[0murl_ServiceLoginBoxAuth\u001b[0m\u001b[1;33m,\u001b[0m \u001b[0mparams\u001b[0m\u001b[1;33m)\u001b[0m\u001b[1;33m\u001b[0m\u001b[0m\n\u001b[1;32m---> 75\u001b[1;33m         \u001b[0mself\u001b[0m\u001b[1;33m.\u001b[0m\u001b[0mopener\u001b[0m\u001b[1;33m.\u001b[0m\u001b[0mopen\u001b[0m\u001b[1;33m(\u001b[0m\u001b[0mself\u001b[0m\u001b[1;33m.\u001b[0m\u001b[0murl_CookieCheck\u001b[0m\u001b[1;33m)\u001b[0m\u001b[1;33m\u001b[0m\u001b[0m\n\u001b[0m\u001b[0;32m     76\u001b[0m         \u001b[0mself\u001b[0m\u001b[1;33m.\u001b[0m\u001b[0mopener\u001b[0m\u001b[1;33m.\u001b[0m\u001b[0mopen\u001b[0m\u001b[1;33m(\u001b[0m\u001b[0mself\u001b[0m\u001b[1;33m.\u001b[0m\u001b[0murl_PrefCookie\u001b[0m\u001b[1;33m)\u001b[0m\u001b[1;33m\u001b[0m\u001b[0m\n\u001b[0;32m     77\u001b[0m \u001b[1;33m\u001b[0m\u001b[0m\n",
      "\u001b[1;32m/home/octo/anaconda2/envs/PyAlgo/lib/python2.7/urllib2.pyc\u001b[0m in \u001b[0;36mopen\u001b[1;34m(self, fullurl, data, timeout)\u001b[0m\n\u001b[0;32m    435\u001b[0m         \u001b[1;32mfor\u001b[0m \u001b[0mprocessor\u001b[0m \u001b[1;32min\u001b[0m \u001b[0mself\u001b[0m\u001b[1;33m.\u001b[0m\u001b[0mprocess_response\u001b[0m\u001b[1;33m.\u001b[0m\u001b[0mget\u001b[0m\u001b[1;33m(\u001b[0m\u001b[0mprotocol\u001b[0m\u001b[1;33m,\u001b[0m \u001b[1;33m[\u001b[0m\u001b[1;33m]\u001b[0m\u001b[1;33m)\u001b[0m\u001b[1;33m:\u001b[0m\u001b[1;33m\u001b[0m\u001b[0m\n\u001b[0;32m    436\u001b[0m             \u001b[0mmeth\u001b[0m \u001b[1;33m=\u001b[0m \u001b[0mgetattr\u001b[0m\u001b[1;33m(\u001b[0m\u001b[0mprocessor\u001b[0m\u001b[1;33m,\u001b[0m \u001b[0mmeth_name\u001b[0m\u001b[1;33m)\u001b[0m\u001b[1;33m\u001b[0m\u001b[0m\n\u001b[1;32m--> 437\u001b[1;33m             \u001b[0mresponse\u001b[0m \u001b[1;33m=\u001b[0m \u001b[0mmeth\u001b[0m\u001b[1;33m(\u001b[0m\u001b[0mreq\u001b[0m\u001b[1;33m,\u001b[0m \u001b[0mresponse\u001b[0m\u001b[1;33m)\u001b[0m\u001b[1;33m\u001b[0m\u001b[0m\n\u001b[0m\u001b[0;32m    438\u001b[0m \u001b[1;33m\u001b[0m\u001b[0m\n\u001b[0;32m    439\u001b[0m         \u001b[1;32mreturn\u001b[0m \u001b[0mresponse\u001b[0m\u001b[1;33m\u001b[0m\u001b[0m\n",
      "\u001b[1;32m/home/octo/anaconda2/envs/PyAlgo/lib/python2.7/urllib2.pyc\u001b[0m in \u001b[0;36mhttp_response\u001b[1;34m(self, request, response)\u001b[0m\n\u001b[0;32m    548\u001b[0m         \u001b[1;32mif\u001b[0m \u001b[1;32mnot\u001b[0m \u001b[1;33m(\u001b[0m\u001b[1;36m200\u001b[0m \u001b[1;33m<=\u001b[0m \u001b[0mcode\u001b[0m \u001b[1;33m<\u001b[0m \u001b[1;36m300\u001b[0m\u001b[1;33m)\u001b[0m\u001b[1;33m:\u001b[0m\u001b[1;33m\u001b[0m\u001b[0m\n\u001b[0;32m    549\u001b[0m             response = self.parent.error(\n\u001b[1;32m--> 550\u001b[1;33m                 'http', request, response, code, msg, hdrs)\n\u001b[0m\u001b[0;32m    551\u001b[0m \u001b[1;33m\u001b[0m\u001b[0m\n\u001b[0;32m    552\u001b[0m         \u001b[1;32mreturn\u001b[0m \u001b[0mresponse\u001b[0m\u001b[1;33m\u001b[0m\u001b[0m\n",
      "\u001b[1;32m/home/octo/anaconda2/envs/PyAlgo/lib/python2.7/urllib2.pyc\u001b[0m in \u001b[0;36merror\u001b[1;34m(self, proto, *args)\u001b[0m\n\u001b[0;32m    467\u001b[0m             \u001b[0mhttp_err\u001b[0m \u001b[1;33m=\u001b[0m \u001b[1;36m0\u001b[0m\u001b[1;33m\u001b[0m\u001b[0m\n\u001b[0;32m    468\u001b[0m         \u001b[0margs\u001b[0m \u001b[1;33m=\u001b[0m \u001b[1;33m(\u001b[0m\u001b[0mdict\u001b[0m\u001b[1;33m,\u001b[0m \u001b[0mproto\u001b[0m\u001b[1;33m,\u001b[0m \u001b[0mmeth_name\u001b[0m\u001b[1;33m)\u001b[0m \u001b[1;33m+\u001b[0m \u001b[0margs\u001b[0m\u001b[1;33m\u001b[0m\u001b[0m\n\u001b[1;32m--> 469\u001b[1;33m         \u001b[0mresult\u001b[0m \u001b[1;33m=\u001b[0m \u001b[0mself\u001b[0m\u001b[1;33m.\u001b[0m\u001b[0m_call_chain\u001b[0m\u001b[1;33m(\u001b[0m\u001b[1;33m*\u001b[0m\u001b[0margs\u001b[0m\u001b[1;33m)\u001b[0m\u001b[1;33m\u001b[0m\u001b[0m\n\u001b[0m\u001b[0;32m    470\u001b[0m         \u001b[1;32mif\u001b[0m \u001b[0mresult\u001b[0m\u001b[1;33m:\u001b[0m\u001b[1;33m\u001b[0m\u001b[0m\n\u001b[0;32m    471\u001b[0m             \u001b[1;32mreturn\u001b[0m \u001b[0mresult\u001b[0m\u001b[1;33m\u001b[0m\u001b[0m\n",
      "\u001b[1;32m/home/octo/anaconda2/envs/PyAlgo/lib/python2.7/urllib2.pyc\u001b[0m in \u001b[0;36m_call_chain\u001b[1;34m(self, chain, kind, meth_name, *args)\u001b[0m\n\u001b[0;32m    407\u001b[0m             \u001b[0mfunc\u001b[0m \u001b[1;33m=\u001b[0m \u001b[0mgetattr\u001b[0m\u001b[1;33m(\u001b[0m\u001b[0mhandler\u001b[0m\u001b[1;33m,\u001b[0m \u001b[0mmeth_name\u001b[0m\u001b[1;33m)\u001b[0m\u001b[1;33m\u001b[0m\u001b[0m\n\u001b[0;32m    408\u001b[0m \u001b[1;33m\u001b[0m\u001b[0m\n\u001b[1;32m--> 409\u001b[1;33m             \u001b[0mresult\u001b[0m \u001b[1;33m=\u001b[0m \u001b[0mfunc\u001b[0m\u001b[1;33m(\u001b[0m\u001b[1;33m*\u001b[0m\u001b[0margs\u001b[0m\u001b[1;33m)\u001b[0m\u001b[1;33m\u001b[0m\u001b[0m\n\u001b[0m\u001b[0;32m    410\u001b[0m             \u001b[1;32mif\u001b[0m \u001b[0mresult\u001b[0m \u001b[1;32mis\u001b[0m \u001b[1;32mnot\u001b[0m \u001b[0mNone\u001b[0m\u001b[1;33m:\u001b[0m\u001b[1;33m\u001b[0m\u001b[0m\n\u001b[0;32m    411\u001b[0m                 \u001b[1;32mreturn\u001b[0m \u001b[0mresult\u001b[0m\u001b[1;33m\u001b[0m\u001b[0m\n",
      "\u001b[1;32m/home/octo/anaconda2/envs/PyAlgo/lib/python2.7/urllib2.pyc\u001b[0m in \u001b[0;36mhttp_error_302\u001b[1;34m(self, req, fp, code, msg, headers)\u001b[0m\n\u001b[0;32m    654\u001b[0m         \u001b[0mfp\u001b[0m\u001b[1;33m.\u001b[0m\u001b[0mclose\u001b[0m\u001b[1;33m(\u001b[0m\u001b[1;33m)\u001b[0m\u001b[1;33m\u001b[0m\u001b[0m\n\u001b[0;32m    655\u001b[0m \u001b[1;33m\u001b[0m\u001b[0m\n\u001b[1;32m--> 656\u001b[1;33m         \u001b[1;32mreturn\u001b[0m \u001b[0mself\u001b[0m\u001b[1;33m.\u001b[0m\u001b[0mparent\u001b[0m\u001b[1;33m.\u001b[0m\u001b[0mopen\u001b[0m\u001b[1;33m(\u001b[0m\u001b[0mnew\u001b[0m\u001b[1;33m,\u001b[0m \u001b[0mtimeout\u001b[0m\u001b[1;33m=\u001b[0m\u001b[0mreq\u001b[0m\u001b[1;33m.\u001b[0m\u001b[0mtimeout\u001b[0m\u001b[1;33m)\u001b[0m\u001b[1;33m\u001b[0m\u001b[0m\n\u001b[0m\u001b[0;32m    657\u001b[0m \u001b[1;33m\u001b[0m\u001b[0m\n\u001b[0;32m    658\u001b[0m     \u001b[0mhttp_error_301\u001b[0m \u001b[1;33m=\u001b[0m \u001b[0mhttp_error_303\u001b[0m \u001b[1;33m=\u001b[0m \u001b[0mhttp_error_307\u001b[0m \u001b[1;33m=\u001b[0m \u001b[0mhttp_error_302\u001b[0m\u001b[1;33m\u001b[0m\u001b[0m\n",
      "\u001b[1;32m/home/octo/anaconda2/envs/PyAlgo/lib/python2.7/urllib2.pyc\u001b[0m in \u001b[0;36mopen\u001b[1;34m(self, fullurl, data, timeout)\u001b[0m\n\u001b[0;32m    435\u001b[0m         \u001b[1;32mfor\u001b[0m \u001b[0mprocessor\u001b[0m \u001b[1;32min\u001b[0m \u001b[0mself\u001b[0m\u001b[1;33m.\u001b[0m\u001b[0mprocess_response\u001b[0m\u001b[1;33m.\u001b[0m\u001b[0mget\u001b[0m\u001b[1;33m(\u001b[0m\u001b[0mprotocol\u001b[0m\u001b[1;33m,\u001b[0m \u001b[1;33m[\u001b[0m\u001b[1;33m]\u001b[0m\u001b[1;33m)\u001b[0m\u001b[1;33m:\u001b[0m\u001b[1;33m\u001b[0m\u001b[0m\n\u001b[0;32m    436\u001b[0m             \u001b[0mmeth\u001b[0m \u001b[1;33m=\u001b[0m \u001b[0mgetattr\u001b[0m\u001b[1;33m(\u001b[0m\u001b[0mprocessor\u001b[0m\u001b[1;33m,\u001b[0m \u001b[0mmeth_name\u001b[0m\u001b[1;33m)\u001b[0m\u001b[1;33m\u001b[0m\u001b[0m\n\u001b[1;32m--> 437\u001b[1;33m             \u001b[0mresponse\u001b[0m \u001b[1;33m=\u001b[0m \u001b[0mmeth\u001b[0m\u001b[1;33m(\u001b[0m\u001b[0mreq\u001b[0m\u001b[1;33m,\u001b[0m \u001b[0mresponse\u001b[0m\u001b[1;33m)\u001b[0m\u001b[1;33m\u001b[0m\u001b[0m\n\u001b[0m\u001b[0;32m    438\u001b[0m \u001b[1;33m\u001b[0m\u001b[0m\n\u001b[0;32m    439\u001b[0m         \u001b[1;32mreturn\u001b[0m \u001b[0mresponse\u001b[0m\u001b[1;33m\u001b[0m\u001b[0m\n",
      "\u001b[1;32m/home/octo/anaconda2/envs/PyAlgo/lib/python2.7/urllib2.pyc\u001b[0m in \u001b[0;36mhttp_response\u001b[1;34m(self, request, response)\u001b[0m\n\u001b[0;32m    548\u001b[0m         \u001b[1;32mif\u001b[0m \u001b[1;32mnot\u001b[0m \u001b[1;33m(\u001b[0m\u001b[1;36m200\u001b[0m \u001b[1;33m<=\u001b[0m \u001b[0mcode\u001b[0m \u001b[1;33m<\u001b[0m \u001b[1;36m300\u001b[0m\u001b[1;33m)\u001b[0m\u001b[1;33m:\u001b[0m\u001b[1;33m\u001b[0m\u001b[0m\n\u001b[0;32m    549\u001b[0m             response = self.parent.error(\n\u001b[1;32m--> 550\u001b[1;33m                 'http', request, response, code, msg, hdrs)\n\u001b[0m\u001b[0;32m    551\u001b[0m \u001b[1;33m\u001b[0m\u001b[0m\n\u001b[0;32m    552\u001b[0m         \u001b[1;32mreturn\u001b[0m \u001b[0mresponse\u001b[0m\u001b[1;33m\u001b[0m\u001b[0m\n",
      "\u001b[1;32m/home/octo/anaconda2/envs/PyAlgo/lib/python2.7/urllib2.pyc\u001b[0m in \u001b[0;36merror\u001b[1;34m(self, proto, *args)\u001b[0m\n\u001b[0;32m    473\u001b[0m         \u001b[1;32mif\u001b[0m \u001b[0mhttp_err\u001b[0m\u001b[1;33m:\u001b[0m\u001b[1;33m\u001b[0m\u001b[0m\n\u001b[0;32m    474\u001b[0m             \u001b[0margs\u001b[0m \u001b[1;33m=\u001b[0m \u001b[1;33m(\u001b[0m\u001b[0mdict\u001b[0m\u001b[1;33m,\u001b[0m \u001b[1;34m'default'\u001b[0m\u001b[1;33m,\u001b[0m \u001b[1;34m'http_error_default'\u001b[0m\u001b[1;33m)\u001b[0m \u001b[1;33m+\u001b[0m \u001b[0morig_args\u001b[0m\u001b[1;33m\u001b[0m\u001b[0m\n\u001b[1;32m--> 475\u001b[1;33m             \u001b[1;32mreturn\u001b[0m \u001b[0mself\u001b[0m\u001b[1;33m.\u001b[0m\u001b[0m_call_chain\u001b[0m\u001b[1;33m(\u001b[0m\u001b[1;33m*\u001b[0m\u001b[0margs\u001b[0m\u001b[1;33m)\u001b[0m\u001b[1;33m\u001b[0m\u001b[0m\n\u001b[0m\u001b[0;32m    476\u001b[0m \u001b[1;33m\u001b[0m\u001b[0m\n\u001b[0;32m    477\u001b[0m \u001b[1;31m# XXX probably also want an abstract factory that knows when it makes\u001b[0m\u001b[1;33m\u001b[0m\u001b[1;33m\u001b[0m\u001b[0m\n",
      "\u001b[1;32m/home/octo/anaconda2/envs/PyAlgo/lib/python2.7/urllib2.pyc\u001b[0m in \u001b[0;36m_call_chain\u001b[1;34m(self, chain, kind, meth_name, *args)\u001b[0m\n\u001b[0;32m    407\u001b[0m             \u001b[0mfunc\u001b[0m \u001b[1;33m=\u001b[0m \u001b[0mgetattr\u001b[0m\u001b[1;33m(\u001b[0m\u001b[0mhandler\u001b[0m\u001b[1;33m,\u001b[0m \u001b[0mmeth_name\u001b[0m\u001b[1;33m)\u001b[0m\u001b[1;33m\u001b[0m\u001b[0m\n\u001b[0;32m    408\u001b[0m \u001b[1;33m\u001b[0m\u001b[0m\n\u001b[1;32m--> 409\u001b[1;33m             \u001b[0mresult\u001b[0m \u001b[1;33m=\u001b[0m \u001b[0mfunc\u001b[0m\u001b[1;33m(\u001b[0m\u001b[1;33m*\u001b[0m\u001b[0margs\u001b[0m\u001b[1;33m)\u001b[0m\u001b[1;33m\u001b[0m\u001b[0m\n\u001b[0m\u001b[0;32m    410\u001b[0m             \u001b[1;32mif\u001b[0m \u001b[0mresult\u001b[0m \u001b[1;32mis\u001b[0m \u001b[1;32mnot\u001b[0m \u001b[0mNone\u001b[0m\u001b[1;33m:\u001b[0m\u001b[1;33m\u001b[0m\u001b[0m\n\u001b[0;32m    411\u001b[0m                 \u001b[1;32mreturn\u001b[0m \u001b[0mresult\u001b[0m\u001b[1;33m\u001b[0m\u001b[0m\n",
      "\u001b[1;32m/home/octo/anaconda2/envs/PyAlgo/lib/python2.7/urllib2.pyc\u001b[0m in \u001b[0;36mhttp_error_default\u001b[1;34m(self, req, fp, code, msg, hdrs)\u001b[0m\n\u001b[0;32m    556\u001b[0m \u001b[1;32mclass\u001b[0m \u001b[0mHTTPDefaultErrorHandler\u001b[0m\u001b[1;33m(\u001b[0m\u001b[0mBaseHandler\u001b[0m\u001b[1;33m)\u001b[0m\u001b[1;33m:\u001b[0m\u001b[1;33m\u001b[0m\u001b[0m\n\u001b[0;32m    557\u001b[0m     \u001b[1;32mdef\u001b[0m \u001b[0mhttp_error_default\u001b[0m\u001b[1;33m(\u001b[0m\u001b[0mself\u001b[0m\u001b[1;33m,\u001b[0m \u001b[0mreq\u001b[0m\u001b[1;33m,\u001b[0m \u001b[0mfp\u001b[0m\u001b[1;33m,\u001b[0m \u001b[0mcode\u001b[0m\u001b[1;33m,\u001b[0m \u001b[0mmsg\u001b[0m\u001b[1;33m,\u001b[0m \u001b[0mhdrs\u001b[0m\u001b[1;33m)\u001b[0m\u001b[1;33m:\u001b[0m\u001b[1;33m\u001b[0m\u001b[0m\n\u001b[1;32m--> 558\u001b[1;33m         \u001b[1;32mraise\u001b[0m \u001b[0mHTTPError\u001b[0m\u001b[1;33m(\u001b[0m\u001b[0mreq\u001b[0m\u001b[1;33m.\u001b[0m\u001b[0mget_full_url\u001b[0m\u001b[1;33m(\u001b[0m\u001b[1;33m)\u001b[0m\u001b[1;33m,\u001b[0m \u001b[0mcode\u001b[0m\u001b[1;33m,\u001b[0m \u001b[0mmsg\u001b[0m\u001b[1;33m,\u001b[0m \u001b[0mhdrs\u001b[0m\u001b[1;33m,\u001b[0m \u001b[0mfp\u001b[0m\u001b[1;33m)\u001b[0m\u001b[1;33m\u001b[0m\u001b[0m\n\u001b[0m\u001b[0;32m    559\u001b[0m \u001b[1;33m\u001b[0m\u001b[0m\n\u001b[0;32m    560\u001b[0m \u001b[1;32mclass\u001b[0m \u001b[0mHTTPRedirectHandler\u001b[0m\u001b[1;33m(\u001b[0m\u001b[0mBaseHandler\u001b[0m\u001b[1;33m)\u001b[0m\u001b[1;33m:\u001b[0m\u001b[1;33m\u001b[0m\u001b[0m\n",
      "\u001b[1;31mHTTPError\u001b[0m: HTTP Error 400: Bad Request"
     ]
    }
   ],
   "source": [
    "# Add your Gmail username to the google_username variable and your Gmail password to the google_password variable.\n",
    "google_username = \"senfinance\"\n",
    "google_password = \"parthasen2012\"\n",
    "connector = pyGTrends(google_username, google_password)"
   ]
  },
  {
   "cell_type": "code",
   "execution_count": 3,
   "metadata": {
    "collapsed": false
   },
   "outputs": [
    {
     "data": {
      "text/plain": [
       "-121"
      ]
     },
     "execution_count": 3,
     "metadata": {},
     "output_type": "execute_result"
    }
   ],
   "source": [
    "int(time.strftime('%H%M'))-2050"
   ]
  },
  {
   "cell_type": "code",
   "execution_count": 9,
   "metadata": {
    "collapsed": false
   },
   "outputs": [
    {
     "name": "stdout",
     "output_type": "stream",
     "text": [
      "Now downloading information for:\n",
      "http://www.google.com/trends/trendsReport?q=Crude%20oil%2CEIA%2Crigs%20count&date=now%201-H&hl=en-US&cmpt=q&content=1&export=1\n"
     ]
    }
   ],
   "source": [
    "keywords=\"Crude oil,EIA,rigs count\"\n",
    "connector.request_report(keywords, hl='en-US', cat=None, geo=None, date=\"now 1-H\")"
   ]
  },
  {
   "cell_type": "code",
   "execution_count": 10,
   "metadata": {
    "collapsed": false
   },
   "outputs": [],
   "source": [
    "path=\"/home/octo/Desktop/ALGO_python/TWIT/twepy/\"\n",
    "filename='OIL_pygtrends'\n",
    "#connector.save_csv(path,filename)\n",
    "connector.save_csv(path, '_' + \"GT_min\" + '.' + time.strftime('%Y%m%d-%H%M')+ '_' + filename.replace(' ', '_'))"
   ]
  },
  {
   "cell_type": "code",
   "execution_count": 11,
   "metadata": {
    "collapsed": true
   },
   "outputs": [],
   "source": [
    "name='_' + \"GT_min\" + '.' + time.strftime('%Y%m%d-%H%M')+ '_' + filename.replace(' ', '_')+\".csv\""
   ]
  },
  {
   "cell_type": "code",
   "execution_count": 12,
   "metadata": {
    "collapsed": false
   },
   "outputs": [],
   "source": [
    "trend = pd.read_csv(\"/home/octo/Desktop/ALGO_python/TWIT/twepy/\"+name,skiprows=4, nrows=60)"
   ]
  },
  {
   "cell_type": "code",
   "execution_count": 13,
   "metadata": {
    "collapsed": false
   },
   "outputs": [
    {
     "name": "stderr",
     "output_type": "stream",
     "text": [
      "/home/octo/anaconda2/envs/PyAlgo/lib/python2.7/site-packages/ipykernel/__main__.py:1: FutureWarning: convert_objects is deprecated.  Use the data-type specific converters pd.to_datetime, pd.to_timedelta and pd.to_numeric.\n",
      "  if __name__ == '__main__':\n",
      "/home/octo/anaconda2/envs/PyAlgo/lib/python2.7/site-packages/ipykernel/__main__.py:2: FutureWarning: convert_objects is deprecated.  Use the data-type specific converters pd.to_datetime, pd.to_timedelta and pd.to_numeric.\n",
      "  from ipykernel import kernelapp as app\n"
     ]
    }
   ],
   "source": [
    "trend['crude oil'] = trend['crude oil'].convert_objects(convert_numeric=True)\n",
    "trend['eia'] = trend['eia'].convert_objects(convert_numeric=True)\n",
    "#trend['crude oil']=trend['crude oil'].convert_objects(convert_numeric=True).plot()"
   ]
  },
  {
   "cell_type": "code",
   "execution_count": 14,
   "metadata": {
    "collapsed": false
   },
   "outputs": [
    {
     "data": {
      "text/plain": [
       "\"for i in range(0,59):\\n    trend['Time'].ix[i]=pd.Timestamp(trend['Time'].ix[i]).tz_convert('US/Eastern').strftime('%Y-%m-%d %H:%M:%S') #EST\\n\""
      ]
     },
     "execution_count": 14,
     "metadata": {},
     "output_type": "execute_result"
    }
   ],
   "source": [
    "#Second based\n",
    "'''for i in range(0,59):\n",
    "    trend['Time'].ix[i]=pd.Timestamp(trend['Time'].ix[i]).tz_convert('US/Eastern').strftime('%Y-%m-%d %H:%M:%S') #EST\n",
    "'''    "
   ]
  },
  {
   "cell_type": "code",
   "execution_count": 15,
   "metadata": {
    "collapsed": false
   },
   "outputs": [
    {
     "name": "stderr",
     "output_type": "stream",
     "text": [
      "/home/octo/anaconda2/envs/PyAlgo/lib/python2.7/site-packages/pandas/core/indexing.py:117: SettingWithCopyWarning: \n",
      "A value is trying to be set on a copy of a slice from a DataFrame\n",
      "\n",
      "See the caveats in the documentation: http://pandas.pydata.org/pandas-docs/stable/indexing.html#indexing-view-versus-copy\n",
      "  self._setitem_with_indexer(indexer, value)\n"
     ]
    }
   ],
   "source": [
    "#Minute based\n",
    "for i in range(0,59):\n",
    "    trend['Time'].ix[i]=pd.Timestamp(trend['Time'].ix[i]).tz_convert('US/Eastern').strftime('%Y-%m-%d %H:%M') #EST"
   ]
  },
  {
   "cell_type": "code",
   "execution_count": 16,
   "metadata": {
    "collapsed": true
   },
   "outputs": [],
   "source": [
    "trend.index= trend['Time']"
   ]
  },
  {
   "cell_type": "code",
   "execution_count": 17,
   "metadata": {
    "collapsed": false
   },
   "outputs": [
    {
     "data": {
      "text/plain": [
       "'2016-08-04 09:03'"
      ]
     },
     "execution_count": 17,
     "metadata": {},
     "output_type": "execute_result"
    }
   ],
   "source": [
    " trend.index[1]"
   ]
  },
  {
   "cell_type": "code",
   "execution_count": 18,
   "metadata": {
    "collapsed": false
   },
   "outputs": [],
   "source": [
    "#trend.dtypes"
   ]
  },
  {
   "cell_type": "code",
   "execution_count": 19,
   "metadata": {
    "collapsed": false
   },
   "outputs": [],
   "source": [
    "trend=trend.drop('Time',axis=1)"
   ]
  },
  {
   "cell_type": "code",
   "execution_count": 20,
   "metadata": {
    "collapsed": false
   },
   "outputs": [],
   "source": [
    "trend=trend.dropna()"
   ]
  },
  {
   "cell_type": "code",
   "execution_count": 21,
   "metadata": {
    "collapsed": false
   },
   "outputs": [
    {
     "data": {
      "text/plain": [
       "\"trend[['crude oil','eia']].plot()\\n#trend['crude oil'].convert_objects(convert_numeric=True).cumsum().plot()\\nplt.show()\""
      ]
     },
     "execution_count": 21,
     "metadata": {},
     "output_type": "execute_result"
    }
   ],
   "source": [
    "'''trend[['crude oil','eia']].plot()\n",
    "#trend['crude oil'].convert_objects(convert_numeric=True).cumsum().plot()\n",
    "plt.show()'''"
   ]
  },
  {
   "cell_type": "markdown",
   "metadata": {},
   "source": [
    "http://searchwilderness.com/google-trends-api-slope/"
   ]
  },
  {
   "cell_type": "code",
   "execution_count": 361,
   "metadata": {
    "collapsed": false
   },
   "outputs": [
    {
     "data": {
      "text/plain": [
       "\"import requests\\na = requests.get('http://www.google.com/trends/fetchComponent?q=nepal&cid=TIMESERIES_GRAPH_0&export=3')\\n#a.text\""
      ]
     },
     "execution_count": 361,
     "metadata": {},
     "output_type": "execute_result"
    }
   ],
   "source": [
    "#working\n",
    "\"\"\"import requests\n",
    "a = requests.get('http://www.google.com/trends/fetchComponent?q=nepal&cid=TIMESERIES_GRAPH_0&export=3')\n",
    "#a.text\"\"\""
   ]
  },
  {
   "cell_type": "markdown",
   "metadata": {},
   "source": [
    "IQFeed Data in minute"
   ]
  },
  {
   "cell_type": "code",
   "execution_count": 362,
   "metadata": {
    "collapsed": true
   },
   "outputs": [],
   "source": [
    "import numpy as np\n",
    "import pandas as pd\n",
    "from pandas_datareader import data as web\n",
    "import seaborn as sns; sns.set()\n",
    "import matplotlib.pyplot as plt\n",
    "%matplotlib inline"
   ]
  },
  {
   "cell_type": "code",
   "execution_count": 52,
   "metadata": {
    "collapsed": true
   },
   "outputs": [],
   "source": [
    "path = '/home/octo/Desktop/ALGO_python/QTPY/data/min/'\n",
    "#path = '/home/octo/Desktop/QTPY/data/sec/'"
   ]
  },
  {
   "cell_type": "code",
   "execution_count": 53,
   "metadata": {
    "collapsed": false
   },
   "outputs": [],
   "source": [
    "data_price=pd.read_csv(path + 'SPY.csv',names = [\"high\", \"low\", \"open\",\"close\",\"total_volume\",\"volume\"],index_col=0, parse_dates=True)"
   ]
  },
  {
   "cell_type": "code",
   "execution_count": 54,
   "metadata": {
    "collapsed": false
   },
   "outputs": [],
   "source": [
    "data_price['returns'] = np.log(data_price.close / data_price.close.shift(1))"
   ]
  },
  {
   "cell_type": "code",
   "execution_count": 55,
   "metadata": {
    "collapsed": false
   },
   "outputs": [
    {
     "data": {
      "text/plain": [
       "2016-06-30 15:57:00   -0.000024\n",
       "2016-06-30 15:58:00   -0.000024\n",
       "2016-06-30 15:59:00    0.000502\n",
       "2016-06-30 16:00:00    0.001457\n",
       "2016-06-30 16:01:00   -0.001624\n",
       "Name: returns, dtype: float64"
      ]
     },
     "execution_count": 55,
     "metadata": {},
     "output_type": "execute_result"
    }
   ],
   "source": [
    "data_price['returns'].tail()"
   ]
  },
  {
   "cell_type": "markdown",
   "metadata": {},
   "source": [
    "TWIT"
   ]
  },
  {
   "cell_type": "code",
   "execution_count": 1,
   "metadata": {
    "collapsed": true
   },
   "outputs": [],
   "source": [
    "import json\n",
    "import pandas as pd\n",
    "import matplotlib.pyplot as plt"
   ]
  },
  {
   "cell_type": "code",
   "execution_count": 2,
   "metadata": {
    "collapsed": false
   },
   "outputs": [
    {
     "ename": "IOError",
     "evalue": "[Errno 2] No such file or directory: 'OIL.20160804-183401.json'",
     "output_type": "error",
     "traceback": [
      "\u001b[1;31m---------------------------------------------------------------------------\u001b[0m",
      "\u001b[1;31mIOError\u001b[0m                                   Traceback (most recent call last)",
      "\u001b[1;32m<ipython-input-2-027f6776ca23>\u001b[0m in \u001b[0;36m<module>\u001b[1;34m()\u001b[0m\n\u001b[0;32m      2\u001b[0m \u001b[0mtweets_data_path\u001b[0m \u001b[1;33m=\u001b[0m\u001b[1;34m'OIL.20160804-183401.json'\u001b[0m\u001b[1;33m\u001b[0m\u001b[0m\n\u001b[0;32m      3\u001b[0m \u001b[0mtweets_data\u001b[0m \u001b[1;33m=\u001b[0m \u001b[1;33m[\u001b[0m\u001b[1;33m]\u001b[0m\u001b[1;33m\u001b[0m\u001b[0m\n\u001b[1;32m----> 4\u001b[1;33m \u001b[0mtweets_file\u001b[0m \u001b[1;33m=\u001b[0m \u001b[0mopen\u001b[0m\u001b[1;33m(\u001b[0m\u001b[0mtweets_data_path\u001b[0m\u001b[1;33m,\u001b[0m \u001b[1;34m\"r\"\u001b[0m\u001b[1;33m)\u001b[0m\u001b[1;33m\u001b[0m\u001b[0m\n\u001b[0m\u001b[0;32m      5\u001b[0m \u001b[1;32mfor\u001b[0m \u001b[0mline\u001b[0m \u001b[1;32min\u001b[0m \u001b[0mtweets_file\u001b[0m\u001b[1;33m:\u001b[0m\u001b[1;33m\u001b[0m\u001b[0m\n\u001b[0;32m      6\u001b[0m     \u001b[1;32mtry\u001b[0m\u001b[1;33m:\u001b[0m\u001b[1;33m\u001b[0m\u001b[0m\n",
      "\u001b[1;31mIOError\u001b[0m: [Errno 2] No such file or directory: 'OIL.20160804-183401.json'"
     ]
    }
   ],
   "source": [
    "#tweets_data_path ='OIL' + '.' + time.strftime('%Y%m%d-%H%M%S') + '.json'\n",
    "tweets_data_path ='OIL.20160804-183401.json'\n",
    "tweets_data = []\n",
    "tweets_file = open(tweets_data_path, \"r\")\n",
    "for line in tweets_file:\n",
    "    try:\n",
    "        tweet = json.loads(line)\n",
    "        tweets_data.append(tweet)\n",
    "    except:\n",
    "        continue"
   ]
  },
  {
   "cell_type": "code",
   "execution_count": 24,
   "metadata": {
    "collapsed": false
   },
   "outputs": [
    {
     "name": "stdout",
     "output_type": "stream",
     "text": [
      "1299\n"
     ]
    }
   ],
   "source": [
    "print len(tweets_data)"
   ]
  },
  {
   "cell_type": "code",
   "execution_count": 25,
   "metadata": {
    "collapsed": true
   },
   "outputs": [],
   "source": [
    "tweets = pd.DataFrame()"
   ]
  },
  {
   "cell_type": "code",
   "execution_count": 26,
   "metadata": {
    "collapsed": true
   },
   "outputs": [],
   "source": [
    "tweets['created_at'] = map(lambda tweet: tweet['created_at'], tweets_data)\n",
    "tweets['text'] = map(lambda tweet: tweet['text'], tweets_data)"
   ]
  },
  {
   "cell_type": "code",
   "execution_count": 27,
   "metadata": {
    "collapsed": true
   },
   "outputs": [],
   "source": [
    "from pytz import timezone\n",
    "from datetime import datetime"
   ]
  },
  {
   "cell_type": "code",
   "execution_count": 156,
   "metadata": {
    "collapsed": true
   },
   "outputs": [],
   "source": [
    "# for second level precision\n",
    "eastern = timezone('US/Eastern')\n",
    "utc = timezone('UTC')\n",
    "for i in range(1, len(tweets)):\n",
    "    tweets['created_at'].ix[i]=utc.localize(datetime.strptime(tweets['created_at'].ix[i], '%a %b %d %H:%M:%S +0000 %Y')).astimezone(eastern).strftime('%Y-%m-%d %H:%M:%S')\n",
    "\n",
    "    #print est_created_at.strftime('%Y-%m-%d %H:%M:%S')\n",
    "#pd.Timestamp(tweets['created_at'].ix[1]).tz_convert('EST').strftime('%Y-%m-%d %H:%M:%S')"
   ]
  },
  {
   "cell_type": "code",
   "execution_count": 28,
   "metadata": {
    "collapsed": true
   },
   "outputs": [],
   "source": [
    "eastern = timezone('US/Eastern')\n",
    "utc = timezone('UTC')\n",
    "for i in range(1, len(tweets)):\n",
    "    tweets['created_at'].ix[i]=utc.localize(datetime.strptime(tweets['created_at'].ix[i], '%a %b %d %H:%M:%S +0000 %Y')).astimezone(eastern).strftime('%Y-%m-%d %H:%M')\n",
    "\n",
    "    #print est_created_at.strftime('%Y-%m-%d %H:%M:%S')\n",
    "#pd.Timestamp(tweets['created_at'].ix[1]).tz_convert('EST').strftime('%Y-%m-%d %H:%M:%S')"
   ]
  },
  {
   "cell_type": "code",
   "execution_count": 29,
   "metadata": {
    "collapsed": true
   },
   "outputs": [],
   "source": [
    "tweets.index=tweets['created_at']\n",
    "tweets=tweets.drop('created_at',axis=1)"
   ]
  },
  {
   "cell_type": "code",
   "execution_count": 30,
   "metadata": {
    "collapsed": true
   },
   "outputs": [],
   "source": [
    "import re"
   ]
  },
  {
   "cell_type": "code",
   "execution_count": 31,
   "metadata": {
    "collapsed": true
   },
   "outputs": [],
   "source": [
    "def word_in_text(word, text):\n",
    "    word = word.lower()\n",
    "    text = text.lower()\n",
    "    match = re.search(word, text)\n",
    "    if match:\n",
    "        return True\n",
    "    return False"
   ]
  },
  {
   "cell_type": "code",
   "execution_count": 32,
   "metadata": {
    "collapsed": true
   },
   "outputs": [],
   "source": [
    "tweets['Re_Tweet'] = tweets['text'].apply(lambda tweet: word_in_text('RT @', tweet))\n",
    "tweets['Strike'] = tweets['text'].apply(lambda tweet: word_in_text('strike', tweet))\n",
    "tweets['stock'] = tweets['text'].apply(lambda tweet: word_in_text('stock', tweet))\n",
    "tweets['supply'] = tweets['text'].apply(lambda tweet: word_in_text('suppl', tweet))\n",
    "tweets['inventories'] = tweets['text'].apply(lambda tweet: word_in_text('inventor', tweet))# high N for UP\n",
    "tweets['rigs'] = tweets['text'].apply(lambda tweet: word_in_text('rigs', tweet))# rise N for UP\n",
    "tweets['pipeline'] = tweets['text'].apply(lambda tweet: word_in_text('pipeline', tweet))\n",
    "tweets['price'] = tweets['text'].apply(lambda tweet: word_in_text('price', tweet))\n",
    "tweets['glut'] = tweets['text'].apply(lambda tweet: word_in_text('glut', tweet))\n",
    "tweets['fall'] = tweets['text'].apply(lambda tweet: word_in_text('fall', tweet))\n",
    "tweets['fell'] = tweets['text'].apply(lambda tweet: word_in_text('fell', tweet))\n",
    "tweets['slide'] = tweets['text'].apply(lambda tweet: word_in_text('slide', tweet))\n",
    "tweets['plummets'] = tweets['text'].apply(lambda tweet: word_in_text('plummets', tweet))\n",
    "tweets['rise'] = tweets['text'].apply(lambda tweet: word_in_text('rise', tweet))\n",
    "tweets['climbs'] = tweets['text'].apply(lambda tweet: word_in_text('climb', tweet))\n",
    "tweets['down'] = tweets['text'].apply(lambda tweet: word_in_text('down', tweet))\n",
    "tweets['pummeled'] = tweets['text'].apply(lambda tweet: word_in_text('pummeled', tweet))#decrese of price\n",
    "tweets['up'] = tweets['text'].apply(lambda tweet: word_in_text('up', tweet)) \n",
    "tweets['high'] = tweets['text'].apply(lambda tweet: word_in_text('high', tweet))\n",
    "tweets['low'] = tweets['text'].apply(lambda tweet: word_in_text('low', tweet)) \n",
    "tweets['decline'] = tweets['text'].apply(lambda tweet: word_in_text('decline', tweet)) \n",
    "tweets['rebalancing'] = tweets['text'].apply(lambda tweet: word_in_text('rebalancing', tweet))\n",
    "tweets['imports'] = tweets['text'].apply(lambda tweet: word_in_text('import', tweet))\n",
    "tweets['export'] = tweets['text'].apply(lambda tweet: word_in_text('export', tweet))\n",
    "tweets['strong'] = tweets['text'].apply(lambda tweet: word_in_text('strong', tweet))\n",
    "tweets['weak'] = tweets['text'].apply(lambda tweet: word_in_text('weak', tweet))"
   ]
  },
  {
   "cell_type": "code",
   "execution_count": 33,
   "metadata": {
    "collapsed": true
   },
   "outputs": [],
   "source": [
    "tweets=tweets[tweets.Re_Tweet==False]"
   ]
  },
  {
   "cell_type": "code",
   "execution_count": 34,
   "metadata": {
    "collapsed": true
   },
   "outputs": [],
   "source": [
    "tweets=tweets[tweets.Strike|tweets.pummeled|tweets.stock|tweets.supply|tweets.inventories|tweets.rigs|tweets.pipeline|tweets.glut|tweets.price|tweets.fall|tweets.fell|tweets.slide|tweets.plummets|tweets.rise|tweets.climbs|tweets.down|tweets.up|tweets.high|tweets.low|tweets.decline|tweets.imports|tweets.export|tweets.strong|tweets.weak==True]"
   ]
  },
  {
   "cell_type": "code",
   "execution_count": 35,
   "metadata": {
    "collapsed": false
   },
   "outputs": [
    {
     "name": "stdout",
     "output_type": "stream",
     "text": [
      "145\n"
     ]
    }
   ],
   "source": [
    "print len(tweets)#nearly 75% noise, we need to decrease noise level"
   ]
  },
  {
   "cell_type": "code",
   "execution_count": 36,
   "metadata": {
    "collapsed": true
   },
   "outputs": [],
   "source": [
    "tweets['signal']=0#-1=negative +1=positive 0=neutral"
   ]
  },
  {
   "cell_type": "code",
   "execution_count": 37,
   "metadata": {
    "collapsed": true
   },
   "outputs": [],
   "source": [
    "tweets['signal']=(tweets.stock & tweets.rise)*-1|(tweets.rigs & tweets.rise)*-1|(tweets.inventories & tweets.rise)*-1|tweets.Strike*1|tweets.down*-1"
   ]
  },
  {
   "cell_type": "code",
   "execution_count": 38,
   "metadata": {
    "collapsed": true
   },
   "outputs": [],
   "source": [
    "#tweets.index=tweets['created_at']\n",
    "#tweets=tweets.drop('created_at',axis=1)"
   ]
  },
  {
   "cell_type": "code",
   "execution_count": 39,
   "metadata": {
    "collapsed": true
   },
   "outputs": [],
   "source": [
    "#tweets.drop('created_at',axis=1)"
   ]
  },
  {
   "cell_type": "code",
   "execution_count": 40,
   "metadata": {
    "collapsed": false
   },
   "outputs": [
    {
     "data": {
      "text/plain": [
       "'for i in range(0, len(tweets)):\\n    tweets.index[i]=i    '"
      ]
     },
     "execution_count": 40,
     "metadata": {},
     "output_type": "execute_result"
    }
   ],
   "source": [
    "\"\"\"for i in range(0, len(tweets)):\n",
    "    tweets.index[i]=i    \"\"\""
   ]
  },
  {
   "cell_type": "code",
   "execution_count": 41,
   "metadata": {
    "collapsed": false
   },
   "outputs": [],
   "source": [
    "#tweets.head(0)"
   ]
  },
  {
   "cell_type": "code",
   "execution_count": 42,
   "metadata": {
    "collapsed": false
   },
   "outputs": [],
   "source": [
    "tweets[['signal']].plot()\n",
    "#tweets[['created_at','signal']].cumsum().plot()\n",
    "plt.show()"
   ]
  },
  {
   "cell_type": "code",
   "execution_count": 43,
   "metadata": {
    "collapsed": false
   },
   "outputs": [
    {
     "data": {
      "text/html": [
       "<div>\n",
       "<table border=\"1\" class=\"dataframe\">\n",
       "  <thead>\n",
       "    <tr style=\"text-align: right;\">\n",
       "      <th></th>\n",
       "      <th>signal</th>\n",
       "    </tr>\n",
       "    <tr>\n",
       "      <th>created_at</th>\n",
       "      <th></th>\n",
       "    </tr>\n",
       "  </thead>\n",
       "  <tbody>\n",
       "    <tr>\n",
       "      <th>2016-08-04 09:58</th>\n",
       "      <td>0</td>\n",
       "    </tr>\n",
       "    <tr>\n",
       "      <th>2016-08-04 09:59</th>\n",
       "      <td>0</td>\n",
       "    </tr>\n",
       "    <tr>\n",
       "      <th>2016-08-04 09:59</th>\n",
       "      <td>0</td>\n",
       "    </tr>\n",
       "    <tr>\n",
       "      <th>2016-08-04 09:59</th>\n",
       "      <td>0</td>\n",
       "    </tr>\n",
       "    <tr>\n",
       "      <th>2016-08-04 10:00</th>\n",
       "      <td>0</td>\n",
       "    </tr>\n",
       "    <tr>\n",
       "      <th>2016-08-04 10:00</th>\n",
       "      <td>0</td>\n",
       "    </tr>\n",
       "    <tr>\n",
       "      <th>2016-08-04 10:00</th>\n",
       "      <td>0</td>\n",
       "    </tr>\n",
       "    <tr>\n",
       "      <th>2016-08-04 10:00</th>\n",
       "      <td>0</td>\n",
       "    </tr>\n",
       "    <tr>\n",
       "      <th>2016-08-04 10:00</th>\n",
       "      <td>0</td>\n",
       "    </tr>\n",
       "    <tr>\n",
       "      <th>2016-08-04 10:01</th>\n",
       "      <td>0</td>\n",
       "    </tr>\n",
       "  </tbody>\n",
       "</table>\n",
       "</div>"
      ],
      "text/plain": [
       "                  signal\n",
       "created_at              \n",
       "2016-08-04 09:58       0\n",
       "2016-08-04 09:59       0\n",
       "2016-08-04 09:59       0\n",
       "2016-08-04 09:59       0\n",
       "2016-08-04 10:00       0\n",
       "2016-08-04 10:00       0\n",
       "2016-08-04 10:00       0\n",
       "2016-08-04 10:00       0\n",
       "2016-08-04 10:00       0\n",
       "2016-08-04 10:01       0"
      ]
     },
     "execution_count": 43,
     "metadata": {},
     "output_type": "execute_result"
    }
   ],
   "source": [
    "tweets[['signal']].tail(10)"
   ]
  },
  {
   "cell_type": "code",
   "execution_count": 128,
   "metadata": {
    "collapsed": false
   },
   "outputs": [
    {
     "ename": "NameError",
     "evalue": "name 'data_price' is not defined",
     "output_type": "error",
     "traceback": [
      "\u001b[1;31m---------------------------------------------------------------------------\u001b[0m",
      "\u001b[1;31mNameError\u001b[0m                                 Traceback (most recent call last)",
      "\u001b[1;32m<ipython-input-128-652794e92815>\u001b[0m in \u001b[0;36m<module>\u001b[1;34m()\u001b[0m\n\u001b[1;32m----> 1\u001b[1;33m \u001b[0mdata_price\u001b[0m\u001b[1;33m[\u001b[0m\u001b[1;34m'returns'\u001b[0m\u001b[1;33m]\u001b[0m\u001b[1;33m.\u001b[0m\u001b[0mtail\u001b[0m\u001b[1;33m(\u001b[0m\u001b[1;33m)\u001b[0m\u001b[1;33m\u001b[0m\u001b[0m\n\u001b[0m",
      "\u001b[1;31mNameError\u001b[0m: name 'data_price' is not defined"
     ]
    }
   ],
   "source": [
    "data_price['returns'].tail()"
   ]
  },
  {
   "cell_type": "code",
   "execution_count": 203,
   "metadata": {
    "collapsed": false
   },
   "outputs": [],
   "source": [
    "data_price.index.name=\"Time\""
   ]
  },
  {
   "cell_type": "code",
   "execution_count": 204,
   "metadata": {
    "collapsed": false
   },
   "outputs": [
    {
     "data": {
      "text/html": [
       "<div>\n",
       "<table border=\"1\" class=\"dataframe\">\n",
       "  <thead>\n",
       "    <tr style=\"text-align: right;\">\n",
       "      <th></th>\n",
       "      <th>high</th>\n",
       "      <th>low</th>\n",
       "      <th>open</th>\n",
       "      <th>close</th>\n",
       "      <th>total_volume</th>\n",
       "      <th>volume</th>\n",
       "      <th>returns</th>\n",
       "    </tr>\n",
       "    <tr>\n",
       "      <th>Time</th>\n",
       "      <th></th>\n",
       "      <th></th>\n",
       "      <th></th>\n",
       "      <th></th>\n",
       "      <th></th>\n",
       "      <th></th>\n",
       "      <th></th>\n",
       "    </tr>\n",
       "  </thead>\n",
       "  <tbody>\n",
       "    <tr>\n",
       "      <th>2016-06-30 15:57:00</th>\n",
       "      <td>209.13</td>\n",
       "      <td>209.05</td>\n",
       "      <td>209.110</td>\n",
       "      <td>209.095</td>\n",
       "      <td>127751609</td>\n",
       "      <td>801173</td>\n",
       "      <td>-0.000024</td>\n",
       "    </tr>\n",
       "    <tr>\n",
       "      <th>2016-06-30 15:58:00</th>\n",
       "      <td>209.13</td>\n",
       "      <td>209.08</td>\n",
       "      <td>209.090</td>\n",
       "      <td>209.090</td>\n",
       "      <td>128520349</td>\n",
       "      <td>652274</td>\n",
       "      <td>-0.000024</td>\n",
       "    </tr>\n",
       "    <tr>\n",
       "      <th>2016-06-30 15:59:00</th>\n",
       "      <td>209.22</td>\n",
       "      <td>209.07</td>\n",
       "      <td>209.080</td>\n",
       "      <td>209.195</td>\n",
       "      <td>131728572</td>\n",
       "      <td>2180889</td>\n",
       "      <td>0.000502</td>\n",
       "    </tr>\n",
       "    <tr>\n",
       "      <th>2016-06-30 16:00:00</th>\n",
       "      <td>209.54</td>\n",
       "      <td>209.16</td>\n",
       "      <td>209.195</td>\n",
       "      <td>209.500</td>\n",
       "      <td>137953765</td>\n",
       "      <td>4926630</td>\n",
       "      <td>0.001457</td>\n",
       "    </tr>\n",
       "    <tr>\n",
       "      <th>2016-06-30 16:01:00</th>\n",
       "      <td>209.53</td>\n",
       "      <td>209.13</td>\n",
       "      <td>209.500</td>\n",
       "      <td>209.160</td>\n",
       "      <td>144713138</td>\n",
       "      <td>6723330</td>\n",
       "      <td>-0.001624</td>\n",
       "    </tr>\n",
       "  </tbody>\n",
       "</table>\n",
       "</div>"
      ],
      "text/plain": [
       "                       high     low     open    close  total_volume   volume  \\\n",
       "Time                                                                           \n",
       "2016-06-30 15:57:00  209.13  209.05  209.110  209.095     127751609   801173   \n",
       "2016-06-30 15:58:00  209.13  209.08  209.090  209.090     128520349   652274   \n",
       "2016-06-30 15:59:00  209.22  209.07  209.080  209.195     131728572  2180889   \n",
       "2016-06-30 16:00:00  209.54  209.16  209.195  209.500     137953765  4926630   \n",
       "2016-06-30 16:01:00  209.53  209.13  209.500  209.160     144713138  6723330   \n",
       "\n",
       "                      returns  \n",
       "Time                           \n",
       "2016-06-30 15:57:00 -0.000024  \n",
       "2016-06-30 15:58:00 -0.000024  \n",
       "2016-06-30 15:59:00  0.000502  \n",
       "2016-06-30 16:00:00  0.001457  \n",
       "2016-06-30 16:01:00 -0.001624  "
      ]
     },
     "execution_count": 204,
     "metadata": {},
     "output_type": "execute_result"
    }
   ],
   "source": [
    "data_price.tail()"
   ]
  },
  {
   "cell_type": "markdown",
   "metadata": {},
   "source": [
    "Merging Twit,Google trend and Price"
   ]
  },
  {
   "cell_type": "code",
   "execution_count": 63,
   "metadata": {
    "collapsed": false
   },
   "outputs": [
    {
     "ename": "NameError",
     "evalue": "name 'data_price' is not defined",
     "output_type": "error",
     "traceback": [
      "\u001b[1;31m---------------------------------------------------------------------------\u001b[0m",
      "\u001b[1;31mNameError\u001b[0m                                 Traceback (most recent call last)",
      "\u001b[1;32m<ipython-input-63-d30cfa3d7b72>\u001b[0m in \u001b[0;36m<module>\u001b[1;34m()\u001b[0m\n\u001b[1;32m----> 1\u001b[1;33m \u001b[0mdata_price\u001b[0m\u001b[1;33m.\u001b[0m\u001b[0mindex\u001b[0m\u001b[1;33m[\u001b[0m\u001b[1;36m0\u001b[0m\u001b[1;33m]\u001b[0m\u001b[1;33m\u001b[0m\u001b[0m\n\u001b[0m",
      "\u001b[1;31mNameError\u001b[0m: name 'data_price' is not defined"
     ]
    }
   ],
   "source": [
    "data_price.index[0]"
   ]
  },
  {
   "cell_type": "code",
   "execution_count": 550,
   "metadata": {
    "collapsed": false
   },
   "outputs": [],
   "source": [
    "#tweets.dtypes"
   ]
  },
  {
   "cell_type": "code",
   "execution_count": 43,
   "metadata": {
    "collapsed": false
   },
   "outputs": [],
   "source": [
    "#pd.Timestamp('2016-08-03-11:30 UTC')"
   ]
  },
  {
   "cell_type": "code",
   "execution_count": 44,
   "metadata": {
    "collapsed": false
   },
   "outputs": [],
   "source": [
    "#pd.Timestamp(trend['Time'].ix[1]).tz_convert('US/Eastern').strftime('%Y-%m-%d %H:%M:%S')"
   ]
  },
  {
   "cell_type": "code",
   "execution_count": 18,
   "metadata": {
    "collapsed": false
   },
   "outputs": [],
   "source": [
    "#datetime.strptime(tweets.index[2], '%a %b %d %H:%M:%S +0000 %Y').strftime('%Y-%m-%d %H:%M:%S')\n"
   ]
  },
  {
   "cell_type": "code",
   "execution_count": 45,
   "metadata": {
    "collapsed": false
   },
   "outputs": [
    {
     "data": {
      "text/plain": [
       "\"from pytz import timezone\\nfrom datetime import datetime\\neastern = timezone('US/Eastern')\\nutc = timezone('UTC')\\nfor i in range(0, len(tweets)):\\n    created_at = datetime.strptime(tweets.index[i], '%a %b %d %H:%M:%S +0000 %Y')\\n    utc_created_at = utc.localize(created_at)\\n    est_created_at = utc_created_at.astimezone(eastern)\\n    tweets['time']=est_created_at.strftime('%Y-%m-%d %H:%M:%S')\\n    #print est_created_at.strftime('%Y-%m-%d %H:%M:%S')\\n#pd.Timestamp(tweets['created_at'].ix[1]).tz_convert('EST').strftime('%Y-%m-%d %H:%M:%S')\""
      ]
     },
     "execution_count": 45,
     "metadata": {},
     "output_type": "execute_result"
    }
   ],
   "source": [
    "'''from pytz import timezone\n",
    "from datetime import datetime\n",
    "eastern = timezone('US/Eastern')\n",
    "utc = timezone('UTC')\n",
    "for i in range(0, len(tweets)):\n",
    "    created_at = datetime.strptime(tweets.index[i], '%a %b %d %H:%M:%S +0000 %Y')\n",
    "    utc_created_at = utc.localize(created_at)\n",
    "    est_created_at = utc_created_at.astimezone(eastern)\n",
    "    tweets['time']=est_created_at.strftime('%Y-%m-%d %H:%M:%S')\n",
    "    #print est_created_at.strftime('%Y-%m-%d %H:%M:%S')\n",
    "#pd.Timestamp(tweets['created_at'].ix[1]).tz_convert('EST').strftime('%Y-%m-%d %H:%M:%S')'''"
   ]
  },
  {
   "cell_type": "code",
   "execution_count": 44,
   "metadata": {
    "collapsed": false
   },
   "outputs": [
    {
     "data": {
      "text/plain": [
       "Index([u'2016-08-04 09:04', u'2016-08-04 09:04', u'2016-08-04 09:04',\n",
       "       u'2016-08-04 09:04', u'2016-08-04 09:05', u'2016-08-04 09:05',\n",
       "       u'2016-08-04 09:05', u'2016-08-04 09:06', u'2016-08-04 09:07',\n",
       "       u'2016-08-04 09:08',\n",
       "       ...\n",
       "       u'2016-08-04 09:58', u'2016-08-04 09:59', u'2016-08-04 09:59',\n",
       "       u'2016-08-04 09:59', u'2016-08-04 10:00', u'2016-08-04 10:00',\n",
       "       u'2016-08-04 10:00', u'2016-08-04 10:00', u'2016-08-04 10:00',\n",
       "       u'2016-08-04 10:01'],\n",
       "      dtype='object', name=u'created_at', length=145)"
      ]
     },
     "execution_count": 44,
     "metadata": {},
     "output_type": "execute_result"
    }
   ],
   "source": [
    "tweets.index"
   ]
  },
  {
   "cell_type": "code",
   "execution_count": 45,
   "metadata": {
    "collapsed": false
   },
   "outputs": [
    {
     "data": {
      "text/html": [
       "<div>\n",
       "<table border=\"1\" class=\"dataframe\">\n",
       "  <thead>\n",
       "    <tr style=\"text-align: right;\">\n",
       "      <th></th>\n",
       "      <th>signal</th>\n",
       "    </tr>\n",
       "    <tr>\n",
       "      <th>created_at</th>\n",
       "      <th></th>\n",
       "    </tr>\n",
       "  </thead>\n",
       "  <tbody>\n",
       "    <tr>\n",
       "      <th>2016-08-04 09:55</th>\n",
       "      <td>0</td>\n",
       "    </tr>\n",
       "    <tr>\n",
       "      <th>2016-08-04 09:55</th>\n",
       "      <td>0</td>\n",
       "    </tr>\n",
       "    <tr>\n",
       "      <th>2016-08-04 09:56</th>\n",
       "      <td>0</td>\n",
       "    </tr>\n",
       "    <tr>\n",
       "      <th>2016-08-04 09:56</th>\n",
       "      <td>0</td>\n",
       "    </tr>\n",
       "    <tr>\n",
       "      <th>2016-08-04 09:57</th>\n",
       "      <td>0</td>\n",
       "    </tr>\n",
       "    <tr>\n",
       "      <th>2016-08-04 09:58</th>\n",
       "      <td>0</td>\n",
       "    </tr>\n",
       "    <tr>\n",
       "      <th>2016-08-04 09:59</th>\n",
       "      <td>0</td>\n",
       "    </tr>\n",
       "    <tr>\n",
       "      <th>2016-08-04 09:59</th>\n",
       "      <td>0</td>\n",
       "    </tr>\n",
       "    <tr>\n",
       "      <th>2016-08-04 09:59</th>\n",
       "      <td>0</td>\n",
       "    </tr>\n",
       "    <tr>\n",
       "      <th>2016-08-04 10:00</th>\n",
       "      <td>0</td>\n",
       "    </tr>\n",
       "    <tr>\n",
       "      <th>2016-08-04 10:00</th>\n",
       "      <td>0</td>\n",
       "    </tr>\n",
       "    <tr>\n",
       "      <th>2016-08-04 10:00</th>\n",
       "      <td>0</td>\n",
       "    </tr>\n",
       "    <tr>\n",
       "      <th>2016-08-04 10:00</th>\n",
       "      <td>0</td>\n",
       "    </tr>\n",
       "    <tr>\n",
       "      <th>2016-08-04 10:00</th>\n",
       "      <td>0</td>\n",
       "    </tr>\n",
       "    <tr>\n",
       "      <th>2016-08-04 10:01</th>\n",
       "      <td>0</td>\n",
       "    </tr>\n",
       "  </tbody>\n",
       "</table>\n",
       "</div>"
      ],
      "text/plain": [
       "                  signal\n",
       "created_at              \n",
       "2016-08-04 09:55       0\n",
       "2016-08-04 09:55       0\n",
       "2016-08-04 09:56       0\n",
       "2016-08-04 09:56       0\n",
       "2016-08-04 09:57       0\n",
       "2016-08-04 09:58       0\n",
       "2016-08-04 09:59       0\n",
       "2016-08-04 09:59       0\n",
       "2016-08-04 09:59       0\n",
       "2016-08-04 10:00       0\n",
       "2016-08-04 10:00       0\n",
       "2016-08-04 10:00       0\n",
       "2016-08-04 10:00       0\n",
       "2016-08-04 10:00       0\n",
       "2016-08-04 10:01       0"
      ]
     },
     "execution_count": 45,
     "metadata": {},
     "output_type": "execute_result"
    }
   ],
   "source": [
    "tweets[['signal']].tail(15)"
   ]
  },
  {
   "cell_type": "code",
   "execution_count": 46,
   "metadata": {
    "collapsed": false
   },
   "outputs": [
    {
     "data": {
      "text/plain": [
       "'2016-08-04 09:03'"
      ]
     },
     "execution_count": 46,
     "metadata": {},
     "output_type": "execute_result"
    }
   ],
   "source": [
    "trend.index[1]"
   ]
  },
  {
   "cell_type": "code",
   "execution_count": 47,
   "metadata": {
    "collapsed": true
   },
   "outputs": [],
   "source": [
    "trend['log_oil']=np.log(trend['crude oil'])"
   ]
  },
  {
   "cell_type": "code",
   "execution_count": 48,
   "metadata": {
    "collapsed": false
   },
   "outputs": [
    {
     "data": {
      "text/html": [
       "<div>\n",
       "<table border=\"1\" class=\"dataframe\">\n",
       "  <thead>\n",
       "    <tr style=\"text-align: right;\">\n",
       "      <th></th>\n",
       "      <th>crude oil</th>\n",
       "      <th>eia</th>\n",
       "      <th>rigs count</th>\n",
       "      <th>log_oil</th>\n",
       "    </tr>\n",
       "    <tr>\n",
       "      <th>Time</th>\n",
       "      <th></th>\n",
       "      <th></th>\n",
       "      <th></th>\n",
       "      <th></th>\n",
       "    </tr>\n",
       "  </thead>\n",
       "  <tbody>\n",
       "    <tr>\n",
       "      <th>2016-08-04 09:40</th>\n",
       "      <td>50</td>\n",
       "      <td>16</td>\n",
       "      <td>0</td>\n",
       "      <td>3.912023</td>\n",
       "    </tr>\n",
       "    <tr>\n",
       "      <th>2016-08-04 09:41</th>\n",
       "      <td>56</td>\n",
       "      <td>22</td>\n",
       "      <td>0</td>\n",
       "      <td>4.025352</td>\n",
       "    </tr>\n",
       "    <tr>\n",
       "      <th>2016-08-04 09:42</th>\n",
       "      <td>59</td>\n",
       "      <td>38</td>\n",
       "      <td>0</td>\n",
       "      <td>4.077537</td>\n",
       "    </tr>\n",
       "    <tr>\n",
       "      <th>2016-08-04 09:43</th>\n",
       "      <td>85</td>\n",
       "      <td>16</td>\n",
       "      <td>0</td>\n",
       "      <td>4.442651</td>\n",
       "    </tr>\n",
       "    <tr>\n",
       "      <th>2016-08-04 09:44</th>\n",
       "      <td>100</td>\n",
       "      <td>16</td>\n",
       "      <td>0</td>\n",
       "      <td>4.605170</td>\n",
       "    </tr>\n",
       "    <tr>\n",
       "      <th>2016-08-04 09:45</th>\n",
       "      <td>57</td>\n",
       "      <td>16</td>\n",
       "      <td>0</td>\n",
       "      <td>4.043051</td>\n",
       "    </tr>\n",
       "    <tr>\n",
       "      <th>2016-08-04 09:46</th>\n",
       "      <td>50</td>\n",
       "      <td>28</td>\n",
       "      <td>0</td>\n",
       "      <td>3.912023</td>\n",
       "    </tr>\n",
       "    <tr>\n",
       "      <th>2016-08-04 09:47</th>\n",
       "      <td>63</td>\n",
       "      <td>9</td>\n",
       "      <td>0</td>\n",
       "      <td>4.143135</td>\n",
       "    </tr>\n",
       "    <tr>\n",
       "      <th>2016-08-04 09:48</th>\n",
       "      <td>90</td>\n",
       "      <td>28</td>\n",
       "      <td>0</td>\n",
       "      <td>4.499810</td>\n",
       "    </tr>\n",
       "    <tr>\n",
       "      <th>2016-08-04 09:49</th>\n",
       "      <td>63</td>\n",
       "      <td>16</td>\n",
       "      <td>0</td>\n",
       "      <td>4.143135</td>\n",
       "    </tr>\n",
       "    <tr>\n",
       "      <th>2016-08-04 09:50</th>\n",
       "      <td>45</td>\n",
       "      <td>19</td>\n",
       "      <td>0</td>\n",
       "      <td>3.806662</td>\n",
       "    </tr>\n",
       "    <tr>\n",
       "      <th>2016-08-04 09:51</th>\n",
       "      <td>58</td>\n",
       "      <td>13</td>\n",
       "      <td>0</td>\n",
       "      <td>4.060443</td>\n",
       "    </tr>\n",
       "    <tr>\n",
       "      <th>2016-08-04 09:52</th>\n",
       "      <td>65</td>\n",
       "      <td>20</td>\n",
       "      <td>0</td>\n",
       "      <td>4.174387</td>\n",
       "    </tr>\n",
       "    <tr>\n",
       "      <th>2016-08-04 09:53</th>\n",
       "      <td>53</td>\n",
       "      <td>10</td>\n",
       "      <td>0</td>\n",
       "      <td>3.970292</td>\n",
       "    </tr>\n",
       "    <tr>\n",
       "      <th>2016-08-04 09:54</th>\n",
       "      <td>22</td>\n",
       "      <td>0</td>\n",
       "      <td>0</td>\n",
       "      <td>3.091042</td>\n",
       "    </tr>\n",
       "  </tbody>\n",
       "</table>\n",
       "</div>"
      ],
      "text/plain": [
       "                  crude oil  eia rigs count   log_oil\n",
       "Time                                                 \n",
       "2016-08-04 09:40         50   16          0  3.912023\n",
       "2016-08-04 09:41         56   22          0  4.025352\n",
       "2016-08-04 09:42         59   38          0  4.077537\n",
       "2016-08-04 09:43         85   16          0  4.442651\n",
       "2016-08-04 09:44        100   16          0  4.605170\n",
       "2016-08-04 09:45         57   16          0  4.043051\n",
       "2016-08-04 09:46         50   28          0  3.912023\n",
       "2016-08-04 09:47         63    9          0  4.143135\n",
       "2016-08-04 09:48         90   28          0  4.499810\n",
       "2016-08-04 09:49         63   16          0  4.143135\n",
       "2016-08-04 09:50         45   19          0  3.806662\n",
       "2016-08-04 09:51         58   13          0  4.060443\n",
       "2016-08-04 09:52         65   20          0  4.174387\n",
       "2016-08-04 09:53         53   10          0  3.970292\n",
       "2016-08-04 09:54         22    0          0  3.091042"
      ]
     },
     "execution_count": 48,
     "metadata": {},
     "output_type": "execute_result"
    }
   ],
   "source": [
    "trend.tail(15)"
   ]
  },
  {
   "cell_type": "code",
   "execution_count": 544,
   "metadata": {
    "collapsed": false
   },
   "outputs": [],
   "source": [
    "import datetime\n",
    "#my_date_object = datetime.utcnow()\n",
    "#datetime.datetime.fromtimestamp(trend['Time1']).strftime('%Y-%m-%d %H:%M:%S')\n",
    "#unix_timestamp\n",
    "#pd.Timestamp(trend['Time'].ix[1]).strftime('%Y-%m-%d %H:%M:%S')"
   ]
  },
  {
   "cell_type": "code",
   "execution_count": 49,
   "metadata": {
    "collapsed": false
   },
   "outputs": [],
   "source": [
    "signal=pd.merge(left=tweets[['signal']], right=trend, left_index=True, right_index=True, how='left')"
   ]
  },
  {
   "cell_type": "code",
   "execution_count": 50,
   "metadata": {
    "collapsed": false
   },
   "outputs": [
    {
     "data": {
      "text/html": [
       "<div>\n",
       "<table border=\"1\" class=\"dataframe\">\n",
       "  <thead>\n",
       "    <tr style=\"text-align: right;\">\n",
       "      <th></th>\n",
       "      <th>signal</th>\n",
       "      <th>crude oil</th>\n",
       "      <th>eia</th>\n",
       "      <th>rigs count</th>\n",
       "      <th>log_oil</th>\n",
       "    </tr>\n",
       "  </thead>\n",
       "  <tbody>\n",
       "    <tr>\n",
       "      <th>2016-08-04 09:04</th>\n",
       "      <td>1</td>\n",
       "      <td>65</td>\n",
       "      <td>23</td>\n",
       "      <td>0</td>\n",
       "      <td>4.174387</td>\n",
       "    </tr>\n",
       "    <tr>\n",
       "      <th>2016-08-04 09:04</th>\n",
       "      <td>0</td>\n",
       "      <td>65</td>\n",
       "      <td>23</td>\n",
       "      <td>0</td>\n",
       "      <td>4.174387</td>\n",
       "    </tr>\n",
       "    <tr>\n",
       "      <th>2016-08-04 09:04</th>\n",
       "      <td>0</td>\n",
       "      <td>65</td>\n",
       "      <td>23</td>\n",
       "      <td>0</td>\n",
       "      <td>4.174387</td>\n",
       "    </tr>\n",
       "    <tr>\n",
       "      <th>2016-08-04 09:04</th>\n",
       "      <td>0</td>\n",
       "      <td>65</td>\n",
       "      <td>23</td>\n",
       "      <td>0</td>\n",
       "      <td>4.174387</td>\n",
       "    </tr>\n",
       "    <tr>\n",
       "      <th>2016-08-04 09:05</th>\n",
       "      <td>0</td>\n",
       "      <td>65</td>\n",
       "      <td>13</td>\n",
       "      <td>0</td>\n",
       "      <td>4.174387</td>\n",
       "    </tr>\n",
       "  </tbody>\n",
       "</table>\n",
       "</div>"
      ],
      "text/plain": [
       "                  signal  crude oil  eia rigs count   log_oil\n",
       "2016-08-04 09:04       1         65   23          0  4.174387\n",
       "2016-08-04 09:04       0         65   23          0  4.174387\n",
       "2016-08-04 09:04       0         65   23          0  4.174387\n",
       "2016-08-04 09:04       0         65   23          0  4.174387\n",
       "2016-08-04 09:05       0         65   13          0  4.174387"
      ]
     },
     "execution_count": 50,
     "metadata": {},
     "output_type": "execute_result"
    }
   ],
   "source": [
    "signal.head()"
   ]
  },
  {
   "cell_type": "code",
   "execution_count": 51,
   "metadata": {
    "collapsed": false
   },
   "outputs": [
    {
     "data": {
      "text/html": [
       "<div>\n",
       "<table border=\"1\" class=\"dataframe\">\n",
       "  <thead>\n",
       "    <tr style=\"text-align: right;\">\n",
       "      <th></th>\n",
       "      <th>signal</th>\n",
       "      <th>crude oil</th>\n",
       "      <th>eia</th>\n",
       "      <th>rigs count</th>\n",
       "      <th>log_oil</th>\n",
       "    </tr>\n",
       "  </thead>\n",
       "  <tbody>\n",
       "    <tr>\n",
       "      <th>2016-08-04 10:00</th>\n",
       "      <td>0</td>\n",
       "      <td>NaN</td>\n",
       "      <td>NaN</td>\n",
       "      <td>NaN</td>\n",
       "      <td>NaN</td>\n",
       "    </tr>\n",
       "    <tr>\n",
       "      <th>2016-08-04 10:00</th>\n",
       "      <td>0</td>\n",
       "      <td>NaN</td>\n",
       "      <td>NaN</td>\n",
       "      <td>NaN</td>\n",
       "      <td>NaN</td>\n",
       "    </tr>\n",
       "    <tr>\n",
       "      <th>2016-08-04 10:00</th>\n",
       "      <td>0</td>\n",
       "      <td>NaN</td>\n",
       "      <td>NaN</td>\n",
       "      <td>NaN</td>\n",
       "      <td>NaN</td>\n",
       "    </tr>\n",
       "    <tr>\n",
       "      <th>2016-08-04 10:00</th>\n",
       "      <td>0</td>\n",
       "      <td>NaN</td>\n",
       "      <td>NaN</td>\n",
       "      <td>NaN</td>\n",
       "      <td>NaN</td>\n",
       "    </tr>\n",
       "    <tr>\n",
       "      <th>2016-08-04 10:01</th>\n",
       "      <td>0</td>\n",
       "      <td>NaN</td>\n",
       "      <td>NaN</td>\n",
       "      <td>NaN</td>\n",
       "      <td>NaN</td>\n",
       "    </tr>\n",
       "  </tbody>\n",
       "</table>\n",
       "</div>"
      ],
      "text/plain": [
       "                  signal  crude oil  eia rigs count  log_oil\n",
       "2016-08-04 10:00       0        NaN  NaN        NaN      NaN\n",
       "2016-08-04 10:00       0        NaN  NaN        NaN      NaN\n",
       "2016-08-04 10:00       0        NaN  NaN        NaN      NaN\n",
       "2016-08-04 10:00       0        NaN  NaN        NaN      NaN\n",
       "2016-08-04 10:01       0        NaN  NaN        NaN      NaN"
      ]
     },
     "execution_count": 51,
     "metadata": {},
     "output_type": "execute_result"
    }
   ],
   "source": [
    "signal.tail()"
   ]
  },
  {
   "cell_type": "code",
   "execution_count": 52,
   "metadata": {
    "collapsed": false
   },
   "outputs": [],
   "source": [
    "signal[['signal','log_oil']].plot()\n",
    "plt.show()"
   ]
  },
  {
   "cell_type": "code",
   "execution_count": null,
   "metadata": {
    "collapsed": true
   },
   "outputs": [],
   "source": []
  }
 ],
 "metadata": {
  "kernelspec": {
   "display_name": "Python 2",
   "language": "python",
   "name": "python2"
  },
  "language_info": {
   "codemirror_mode": {
    "name": "ipython",
    "version": 2
   },
   "file_extension": ".py",
   "mimetype": "text/x-python",
   "name": "python",
   "nbconvert_exporter": "python",
   "pygments_lexer": "ipython2",
   "version": "2.7.11"
  }
 },
 "nbformat": 4,
 "nbformat_minor": 0
}
