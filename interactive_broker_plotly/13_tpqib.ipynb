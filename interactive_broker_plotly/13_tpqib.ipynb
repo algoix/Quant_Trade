{
 "cells": [
  {
   "cell_type": "markdown",
   "metadata": {},
   "source": [
    "## Preliminaries"
   ]
  },
  {
   "cell_type": "markdown",
   "metadata": {},
   "source": [
    "### Installing and starting Interactive Brokers TWS "
   ]
  },
  {
   "cell_type": "markdown",
   "metadata": {},
   "source": [
    "Visit the <a href='https://www.interactivebrokers.com/en/home.php'>Interactive Brokers</a> website and click on the button \n",
    "**Free Trial**."
   ]
  },
  {
   "cell_type": "markdown",
   "metadata": {},
   "source": [
    "<img src=\"http://web-training2.pqp.io/training2/schwed/start_ib.png\" width=\"80%\" align=\"left\"><br>"
   ]
  },
  {
   "cell_type": "markdown",
   "metadata": {},
   "source": [
    "Follow the installation instructions from Interactive Brokers."
   ]
  },
  {
   "cell_type": "markdown",
   "metadata": {},
   "source": [
    "When the installation finished Interactive Broker's Traders Workstation (TWS) starts automatically. If not, click on the TWS icon."
   ]
  },
  {
   "cell_type": "markdown",
   "metadata": {},
   "source": [
    "First, a login pop-up appears."
   ]
  },
  {
   "cell_type": "markdown",
   "metadata": {},
   "source": [
    "<img src=\"http://web-training2.pqp.io/training2/schwed/login_ib.png\" width=\"50%\" align=\"left\"><br>"
   ]
  },
  {
   "cell_type": "markdown",
   "metadata": {},
   "source": [
    "Login as user **edemo** and password **demouser** and select **Paper Trading**.\n",
    "### Caution\n",
    "Do **not** use the login credentials you used when you register for the Interactive Trial."
   ]
  },
  {
   "cell_type": "markdown",
   "metadata": {},
   "source": [
    "### Configure TWS for API Usage"
   ]
  },
  {
   "cell_type": "markdown",
   "metadata": {},
   "source": [
    "In the main menu of the TWS screen, click  `File --> GlobalConfiguration`."
   ]
  },
  {
   "cell_type": "markdown",
   "metadata": {},
   "source": [
    "<img src=\"http://web-training2.pqp.io/training2/schwed/TWS_conf.png\" width=\"50%\" align=\"left\"><br>"
   ]
  },
  {
   "cell_type": "markdown",
   "metadata": {},
   "source": [
    "The configuration window opens. There, click on `API` in the menu on the left hand side. "
   ]
  },
  {
   "cell_type": "markdown",
   "metadata": {},
   "source": [
    "<img src=\"http://web-training2.pqp.io/training2/schwed/TWS_settings.png\" width=\"50%\" align=\"left\"><br>"
   ]
  },
  {
   "cell_type": "markdown",
   "metadata": {},
   "source": [
    "If you then click on the item `Settings`, a new form appears. Select or unselect the items as in the screenshot below. "
   ]
  },
  {
   "cell_type": "markdown",
   "metadata": {},
   "source": [
    "<img src=\"http://web-training2.pqp.io/training2/schwed/TWS_api.png\" width=\"50%\" align=\"left\"><br>"
   ]
  },
  {
   "cell_type": "markdown",
   "metadata": {},
   "source": [
    "Then click on the item `Precaution`. On the new form select the first checkbox."
   ]
  },
  {
   "cell_type": "markdown",
   "metadata": {},
   "source": [
    "<img src=\"http://web-training2.pqp.io/training2/schwed/TWS_api2.png\" width=\"50%\" align=\"left\"><br>"
   ]
  },
  {
   "cell_type": "markdown",
   "metadata": {},
   "source": [
    "Now, your TWS is ready to accept incoming connections from the Python API."
   ]
  },
  {
   "cell_type": "markdown",
   "metadata": {},
   "source": [
    "## Installing ibpy"
   ]
  },
  {
   "cell_type": "markdown",
   "metadata": {},
   "source": [
    "tpqib is based on ibpy, a Python wrapper library for the TWS API. \n",
    "The code and detailed installing instructions can be found <a href='https://github.com/blampe/IbPy'>here</a>.\n",
    "\n",
    "Basically, you need to do the following:\n",
    "\n",
    "`git clone https://github.com/blampe/IbPy.git`\n",
    "\n",
    "`cd IbPy`\n",
    "\n",
    "`python setup.py install`"
   ]
  },
  {
   "cell_type": "markdown",
   "metadata": {},
   "source": [
    "## Using tpqib"
   ]
  },
  {
   "cell_type": "markdown",
   "metadata": {},
   "source": [
    "After installing TWS and ibpy, you are ready to test the API. Please ensure that your local TWS is running. "
   ]
  },
  {
   "cell_type": "markdown",
   "metadata": {},
   "source": [
    "First, we import our class."
   ]
  },
  {
   "cell_type": "code",
   "execution_count": 1,
   "metadata": {
    "collapsed": true
   },
   "outputs": [],
   "source": [
    "import tpqib\n",
    "import datetime as dt\n",
    "import seaborn as sns; sns.set()\n",
    "%matplotlib inline"
   ]
  },
  {
   "cell_type": "markdown",
   "metadata": {},
   "source": [
    "Making a new connection is easy:"
   ]
  },
  {
   "cell_type": "code",
   "execution_count": 2,
   "metadata": {},
   "outputs": [
    {
     "name": "stdout",
     "output_type": "stream",
     "text": [
      "Server Version: 76\n",
      "TWS Time at connection:20161010 11:27:32 CET\n"
     ]
    }
   ],
   "source": [
    "conn = tpqib.tpqibcon()"
   ]
  },
  {
   "cell_type": "markdown",
   "metadata": {},
   "source": [
    "Your local TWS will ask for a confirmation of the connection, if you want to proceed click `yes`."
   ]
  },
  {
   "cell_type": "markdown",
   "metadata": {},
   "source": [
    "<img src=\"http://web-training2.pqp.io/training2/schwed/TWS_confirm.png\" width=\"50%\" align=\"left\"><br>"
   ]
  },
  {
   "cell_type": "markdown",
   "metadata": {},
   "source": [
    "You can avoid being prompted for confirmation by adding `127.0.0.1` to the field `Trusted IPs` in the API configuration of the TWS application."
   ]
  },
  {
   "cell_type": "markdown",
   "metadata": {},
   "source": [
    "### The contract object"
   ]
  },
  {
   "cell_type": "markdown",
   "metadata": {},
   "source": [
    "After a connection is established, we can define contract objects. The syntax is\n",
    "\n",
    "**create_contract(*symbol*, *security type*, *primary exchange*, *exchange*, *currency*)**\n",
    "\n",
    "For detailed information about the parameters see <a href='http://interactivebrokers.github.io/tws-api/basic_contracts.html#gsc.tab=0'>here</a>. For the moment, we will define a contract for Google stock in USD, we let Interactive Broker choose the exchange by their *SMART* algorithm.\n"
   ]
  },
  {
   "cell_type": "code",
   "execution_count": null,
   "metadata": {
    "collapsed": true
   },
   "outputs": [],
   "source": [
    "goog_contract = conn.create_contract('GOOG', 'STK', 'SMART', 'SMART', 'USD')"
   ]
  },
  {
   "cell_type": "markdown",
   "metadata": {},
   "source": [
    "The same for Apple stock."
   ]
  },
  {
   "cell_type": "code",
   "execution_count": null,
   "metadata": {
    "collapsed": true
   },
   "outputs": [],
   "source": [
    "aapl_contract = conn.create_contract('AAPL', 'STK', 'SMART', 'SMART', 'USD')"
   ]
  },
  {
   "cell_type": "markdown",
   "metadata": {},
   "source": [
    "You can examine the contract object:"
   ]
  },
  {
   "cell_type": "code",
   "execution_count": null,
   "metadata": {
    "collapsed": true
   },
   "outputs": [],
   "source": [
    "conn.req_contract_details(aapl_contract)"
   ]
  },
  {
   "cell_type": "markdown",
   "metadata": {},
   "source": [
    "Or get market data for it:"
   ]
  },
  {
   "cell_type": "code",
   "execution_count": null,
   "metadata": {
    "collapsed": true
   },
   "outputs": [],
   "source": [
    "conn.get_market_data_once(aapl_contract)"
   ]
  },
  {
   "cell_type": "markdown",
   "metadata": {},
   "source": [
    "Please note that the **data requests are asynchronous**. That means that the notebook cell above will appear as finished before the data is received.\n",
    "\n",
    "Also, the demo version of the TWS is quite slow, so please be patient."
   ]
  },
  {
   "cell_type": "markdown",
   "metadata": {},
   "source": [
    "## Defining and placing orders"
   ]
  },
  {
   "cell_type": "markdown",
   "metadata": {},
   "source": [
    "Before placing an order, we need to define an order object. This is done by the method\n",
    "\n",
    "**create_order(*order type*, *quantity*, *action*)**\n",
    "\n",
    "More on available order types can be found on the <a href='http://interactivebrokers.github.io/tws-api/basic_orders.html#gsc.tab=0'> TWS API sites</a>."
   ]
  },
  {
   "cell_type": "markdown",
   "metadata": {},
   "source": [
    "We define an order to buy 100 shares of whatever on market conditions."
   ]
  },
  {
   "cell_type": "code",
   "execution_count": null,
   "metadata": {
    "collapsed": true
   },
   "outputs": [],
   "source": [
    "buy_100_order = conn.create_order('MKT', 100, 'Buy')"
   ]
  },
  {
   "cell_type": "markdown",
   "metadata": {},
   "source": [
    "The following executes such an order for the Apple contact."
   ]
  },
  {
   "cell_type": "code",
   "execution_count": null,
   "metadata": {
    "collapsed": true
   },
   "outputs": [],
   "source": [
    "conn.place_order(aapl_contract, buy_100_order)"
   ]
  },
  {
   "cell_type": "markdown",
   "metadata": {},
   "source": [
    "**Congratulations**, you just bought 100 shares of Apple!"
   ]
  },
  {
   "cell_type": "markdown",
   "metadata": {},
   "source": [
    "A small note about order ids. \n",
    "If you are already familiar with one of the Interactive Brokers APIs (either their own ones in Java or C++ or ibpy), you know that every order has its own unique order id (an integer which is increased by one with every order) and that you must take care of that id for your own. \n",
    "An tpqib object handles that job for you. When initializing the object, tpqib synchronizes the order id with your TWS application and counts it up for every transaction."
   ]
  },
  {
   "cell_type": "markdown",
   "metadata": {},
   "source": [
    "So, lets look for the next order id, buy another 100 shares of Apple and examine the order id again."
   ]
  },
  {
   "cell_type": "code",
   "execution_count": null,
   "metadata": {
    "collapsed": true
   },
   "outputs": [],
   "source": [
    "conn.get_next_order_id()"
   ]
  },
  {
   "cell_type": "code",
   "execution_count": null,
   "metadata": {
    "collapsed": true
   },
   "outputs": [],
   "source": [
    "conn.place_order(aapl_contract, buy_100_order)"
   ]
  },
  {
   "cell_type": "code",
   "execution_count": null,
   "metadata": {
    "collapsed": true
   },
   "outputs": [],
   "source": [
    "conn.get_next_order_id()"
   ]
  },
  {
   "cell_type": "markdown",
   "metadata": {},
   "source": [
    "### The portfolio"
   ]
  },
  {
   "cell_type": "markdown",
   "metadata": {},
   "source": [
    "Lets have a look at our portfolio:"
   ]
  },
  {
   "cell_type": "code",
   "execution_count": null,
   "metadata": {
    "collapsed": true
   },
   "outputs": [],
   "source": [
    "conn.req_positions()"
   ]
  },
  {
   "cell_type": "markdown",
   "metadata": {},
   "source": [
    "### Loading historical data\n",
    "\n",
    "You can load historical data with the method\n",
    "\n",
    "**request_historical_data(*contract*, *end_date_time*, *duration*, *bar_size*, *what_to_show*, *use_RTH*, *format_date*)**\n",
    "\n",
    "A detailed description of the parameters can be found on the <a href='http://interactivebrokers.github.io/tws-api/historical_data.html#hd_receive&gsc.tab=0'> TWS API sites</a>.\n",
    "\n",
    "As the `request_market_data` method, `request_historical_data` returns a request id. That id is used to get the data from the  tpqib object.\n",
    "\n",
    "In the example below, we load the historical prices of Apple from today and up to 5 days in the past for 2 hours bars."
   ]
  },
  {
   "cell_type": "code",
   "execution_count": null,
   "metadata": {
    "collapsed": true
   },
   "outputs": [],
   "source": [
    "end_date = dt.datetime.now()\n",
    "request_id = conn.request_historical_data(aapl_contract, end_date,\n",
    "                                          '1 W', '8 hours', 'TRADES')"
   ]
  },
  {
   "cell_type": "code",
   "execution_count": null,
   "metadata": {
    "collapsed": true
   },
   "outputs": [],
   "source": [
    "conn.get_historical_data(request_id)"
   ]
  },
  {
   "cell_type": "markdown",
   "metadata": {},
   "source": [
    "When the data is still loading due to a call of ***get_historical_data(request_id)***, the method returns *False*. "
   ]
  },
  {
   "cell_type": "code",
   "execution_count": null,
   "metadata": {
    "collapsed": true
   },
   "outputs": [],
   "source": [
    "request_id = conn.request_historical_data(aapl_contract, end_date,\n",
    "                                        '1 W', '2 hours', 'TRADES')\n",
    "conn.get_historical_data(request_id)"
   ]
  },
  {
   "cell_type": "markdown",
   "metadata": {},
   "source": [
    "If you want to suppress the 'still loading' message, call the method with the argument ***silent=True***."
   ]
  },
  {
   "cell_type": "code",
   "execution_count": null,
   "metadata": {
    "collapsed": true
   },
   "outputs": [],
   "source": [
    "request_id = conn.request_historical_data(aapl_contract, end_date,\n",
    "                                          '1 W', '2 hours', 'TRADES')\n",
    "data = conn.get_historical_data(request_id, silent=True)\n",
    "print(data)"
   ]
  },
  {
   "cell_type": "markdown",
   "metadata": {},
   "source": [
    "To check, if a historical data request is still loading, you can also use the method ***is_historical_data_loading(request_id)***.\n",
    "\n",
    "The method returns `True` if the request has not yet finished loading and `False` else."
   ]
  },
  {
   "cell_type": "code",
   "execution_count": null,
   "metadata": {
    "collapsed": true
   },
   "outputs": [],
   "source": [
    "request_id = conn.request_historical_data(aapl_contract, end_date,\n",
    "                                          '1 W', '1 min', 'TRADES')\n",
    "print('loading the data')\n",
    "while conn.is_historical_data_loading(request_id):\n",
    "    pass    \n",
    "print('finished loading')"
   ]
  },
  {
   "cell_type": "markdown",
   "metadata": {},
   "source": [
    "Now data is ready, let's use it to perform a backtest of a simple moving average strategy."
   ]
  },
  {
   "cell_type": "code",
   "execution_count": null,
   "metadata": {
    "collapsed": true
   },
   "outputs": [],
   "source": [
    "data = conn.get_historical_data(request_id)"
   ]
  },
  {
   "cell_type": "code",
   "execution_count": null,
   "metadata": {
    "collapsed": true
   },
   "outputs": [],
   "source": [
    "data.head()"
   ]
  },
  {
   "cell_type": "markdown",
   "metadata": {},
   "source": [
    "The short leg should be the average of the last ten minutes, the long leg the average of the last 60 minutes.\n",
    "The first step is to resample the pandas DataFrame object to 10 minutes timesteps and add the spot closing price to the new dataset:"
   ]
  },
  {
   "cell_type": "code",
   "execution_count": null,
   "metadata": {
    "collapsed": true
   },
   "outputs": [],
   "source": [
    "resampled_data = data.resample('10min').mean()\n",
    "resampled_data['spot_close'] = data['close']"
   ]
  },
  {
   "cell_type": "markdown",
   "metadata": {},
   "source": [
    "Lets compare the two datasets."
   ]
  },
  {
   "cell_type": "code",
   "execution_count": null,
   "metadata": {
    "collapsed": true
   },
   "outputs": [],
   "source": [
    "resampled_data[['spot_close', 'close']].plot(figsize=(10, 6));"
   ]
  },
  {
   "cell_type": "markdown",
   "metadata": {},
   "source": [
    "Next, we define the long leg, which is the rolling mean of the last 6 close prices."
   ]
  },
  {
   "cell_type": "code",
   "execution_count": null,
   "metadata": {
    "collapsed": true
   },
   "outputs": [],
   "source": [
    "resampled_data['long'] = resampled_data['close'].rolling(6).mean()\n",
    "resampled_data[['close', 'long']].plot(figsize=(10, 6));"
   ]
  },
  {
   "cell_type": "markdown",
   "metadata": {},
   "source": [
    "To find out if the short leg (which is equal to the close price of the resampled dataset) crosses the long leg, we first compare the two legs:"
   ]
  },
  {
   "cell_type": "code",
   "execution_count": null,
   "metadata": {
    "collapsed": true
   },
   "outputs": [],
   "source": [
    "resampled_data['state'] = resampled_data.apply(\n",
    "                        lambda x: -1 if (x['close'] < x['long'])\n",
    "                        else 1 if x['long'] > 1 else 0, axis=1 )"
   ]
  },
  {
   "cell_type": "code",
   "execution_count": null,
   "metadata": {
    "collapsed": true
   },
   "outputs": [],
   "source": [
    "resampled_data.head(20)"
   ]
  },
  {
   "cell_type": "markdown",
   "metadata": {},
   "source": [
    "A crossing of the two lines appears if the sign of two consecutive states changes."
   ]
  },
  {
   "cell_type": "code",
   "execution_count": null,
   "metadata": {
    "collapsed": true
   },
   "outputs": [],
   "source": [
    "resampled_data['help'] = (resampled_data['state'] +\n",
    "                          resampled_data['state'].shift(1))\n",
    "resampled_data['execute'] = resampled_data.apply(\n",
    "                            lambda x: 1 if x['state'] != 0\n",
    "                            and x['help'] == 0 else None, axis=1)"
   ]
  },
  {
   "cell_type": "code",
   "execution_count": null,
   "metadata": {
    "collapsed": true
   },
   "outputs": [],
   "source": [
    "resampled_data.head(20)"
   ]
  },
  {
   "cell_type": "code",
   "execution_count": null,
   "metadata": {
    "collapsed": true
   },
   "outputs": [],
   "source": [
    "resampled_data[['close', 'long']].plot(figsize=(10, 6));\n",
    "(resampled_data['spot_close'] * resampled_data['execute']).plot(style='r.');"
   ]
  },
  {
   "cell_type": "markdown",
   "metadata": {},
   "source": [
    "### Streaming market data "
   ]
  },
  {
   "cell_type": "markdown",
   "metadata": {},
   "source": [
    "You can stream market data for a contract by using the method ***request_market_data(contract, callback)***.\n",
    "\n",
    "Every data tick received from TWS is sent to the function given as the callback parameter during the method call.\n",
    "\n",
    "That function should take two arguments, `field` and `value`, where `field` is the type of data received and `value` is its value.\n",
    "\n",
    "`field` can be from the following list:"
   ]
  },
  {
   "cell_type": "code",
   "execution_count": null,
   "metadata": {
    "collapsed": true
   },
   "outputs": [],
   "source": [
    "field = ['lastTimestamp', 'askPrice', 'askSize',\n",
    "         'bidPrice', 'bidSize',\n",
    "         'low', 'high', 'close',\n",
    "         'volume', 'lastPrice', 'lastSize', 'halted']"
   ]
  },
  {
   "cell_type": "markdown",
   "metadata": {},
   "source": [
    "The method returns a request id. That id is used to stop streaming. "
   ]
  },
  {
   "cell_type": "markdown",
   "metadata": {},
   "source": [
    "**Example:** The following function prints all streamed bid prices for Google"
   ]
  },
  {
   "cell_type": "code",
   "execution_count": null,
   "metadata": {
    "collapsed": true
   },
   "outputs": [],
   "source": [
    "def print_bid_price(field, value):\n",
    "    if field == 'bidPrice':\n",
    "        print('bid for %s' % value)"
   ]
  },
  {
   "cell_type": "code",
   "execution_count": null,
   "metadata": {
    "collapsed": true
   },
   "outputs": [],
   "source": [
    "request_id = conn.request_market_data(goog_contract, print_bid_price)"
   ]
  },
  {
   "cell_type": "markdown",
   "metadata": {},
   "source": [
    "To **stop**, execute the cell below."
   ]
  },
  {
   "cell_type": "code",
   "execution_count": null,
   "metadata": {
    "collapsed": true
   },
   "outputs": [],
   "source": [
    "conn.cancel_market_data(request_id)"
   ]
  },
  {
   "cell_type": "markdown",
   "metadata": {},
   "source": [
    "### An Example with Order Execution"
   ]
  },
  {
   "cell_type": "markdown",
   "metadata": {},
   "source": [
    "Let us stream market data for Google and buy 10 shares every time the bid price is below 1000 (and it is, at least at the moment) until there is no money left. "
   ]
  },
  {
   "cell_type": "markdown",
   "metadata": {},
   "source": [
    "First, we define a new order object."
   ]
  },
  {
   "cell_type": "code",
   "execution_count": null,
   "metadata": {
    "collapsed": true
   },
   "outputs": [],
   "source": [
    "buy_10_order = conn.create_order('MKT', 10, 'Buy')"
   ]
  },
  {
   "cell_type": "markdown",
   "metadata": {},
   "source": [
    "The capital we are willing to invest."
   ]
  },
  {
   "cell_type": "code",
   "execution_count": null,
   "metadata": {
    "collapsed": true
   },
   "outputs": [],
   "source": [
    "money = 50000"
   ]
  },
  {
   "cell_type": "markdown",
   "metadata": {},
   "source": [
    "And the respective callback function."
   ]
  },
  {
   "cell_type": "code",
   "execution_count": null,
   "metadata": {
    "collapsed": true
   },
   "outputs": [],
   "source": [
    "def buy_or_bust(field, value):\n",
    "    global money\n",
    "    global request_id\n",
    "    if field == 'bidPrice' and value < 1000:\n",
    "        print('10 shares cost %s USD, I have %s USD, so .. '\n",
    "              % (10 * value, money))\n",
    "        if 10 * value < money:\n",
    "            print('I buy!')\n",
    "            conn.place_order(goog_contract, buy_10_order)\n",
    "            money = money - 10 * value\n",
    "        else:\n",
    "            print('I quit')\n",
    "            conn.cancel_market_data(request_id)"
   ]
  },
  {
   "cell_type": "markdown",
   "metadata": {},
   "source": [
    "Let us start the algorithm."
   ]
  },
  {
   "cell_type": "code",
   "execution_count": null,
   "metadata": {
    "collapsed": true
   },
   "outputs": [],
   "source": [
    "request_id = conn.request_market_data(goog_contract, buy_or_bust)"
   ]
  },
  {
   "cell_type": "markdown",
   "metadata": {},
   "source": [
    "A view on the resulting portfolio positions."
   ]
  },
  {
   "cell_type": "code",
   "execution_count": null,
   "metadata": {
    "collapsed": true
   },
   "outputs": [],
   "source": [
    "conn.req_positions()"
   ]
  },
  {
   "cell_type": "markdown",
   "metadata": {},
   "source": [
    "Finally, it is time to close the connection."
   ]
  },
  {
   "cell_type": "code",
   "execution_count": null,
   "metadata": {
    "collapsed": true
   },
   "outputs": [],
   "source": [
    "conn.close()"
   ]
  }
 ],
 "metadata": {
  "anaconda-cloud": {},
  "kernelspec": {
   "display_name": "Python 3",
   "language": "python",
   "name": "python3"
  },
  "language_info": {
   "codemirror_mode": {
    "name": "ipython",
    "version": 3
   },
   "file_extension": ".py",
   "mimetype": "text/x-python",
   "name": "python",
   "nbconvert_exporter": "python",
   "pygments_lexer": "ipython3",
   "version": "3.6.1"
  },
  "widgets": {
   "state": {},
   "version": "1.1.2"
  }
 },
 "nbformat": 4,
 "nbformat_minor": 1
}
