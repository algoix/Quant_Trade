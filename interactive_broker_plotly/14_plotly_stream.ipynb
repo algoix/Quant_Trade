{
 "cells": [
  {
   "cell_type": "markdown",
   "metadata": {},
   "source": [
    "# plotly_stream"
   ]
  },
  {
   "cell_type": "markdown",
   "metadata": {},
   "source": [
    "**A class for easily generating streaming plots with plotly**"
   ]
  },
  {
   "cell_type": "markdown",
   "metadata": {},
   "source": [
    "## The imports"
   ]
  },
  {
   "cell_type": "code",
   "execution_count": null,
   "metadata": {
    "collapsed": true
   },
   "outputs": [],
   "source": [
    "import plotly_stream as plyst\n",
    "import plotly.tools as plyt\n",
    "import plotly.plotly as ply"
   ]
  },
  {
   "cell_type": "markdown",
   "metadata": {},
   "source": [
    "## Signing in to your Plotly account"
   ]
  },
  {
   "cell_type": "markdown",
   "metadata": {},
   "source": [
    "The first time you use `plotly_stream` (or the plotly API directly) on a computer, you have to set your credentials. "
   ]
  },
  {
   "cell_type": "code",
   "execution_count": null,
   "metadata": {
    "collapsed": true
   },
   "outputs": [],
   "source": [
    "import json\n",
    "pc = json.load(open('creds/plotly_creds.json', 'r'))"
   ]
  },
  {
   "cell_type": "code",
   "execution_count": null,
   "metadata": {
    "collapsed": true
   },
   "outputs": [],
   "source": [
    "plyt.set_credentials_file(username=pc['username'], api_key=pc['api_key'])"
   ]
  },
  {
   "cell_type": "markdown",
   "metadata": {},
   "source": [
    "where `username` and `api_key` can be found on the settings page of your Plotly account. \n",
    "The command creates a credentials file `~/.plotly/.credentials`. "
   ]
  },
  {
   "cell_type": "markdown",
   "metadata": {},
   "source": [
    "To stream to Plotly you also need **streaming tokens** which you can create on the settings page of your Plotly account. \n",
    "\n",
    "Unfortunately, and in contrary to Plotly's documentation, `set_credentials_file` does not write the streaming tokens to the credentials file, so we have to do that on our own:"
   ]
  },
  {
   "cell_type": "code",
   "execution_count": null,
   "metadata": {
    "collapsed": true
   },
   "outputs": [],
   "source": [
    "plyst.plotly_stream.set_stream_tokens(pc['stream_ids'])"
   ]
  },
  {
   "cell_type": "markdown",
   "metadata": {},
   "source": [
    "## A first streaming example\n",
    "\n",
    "**Note:** At the moment, streaming runs in a blocking way, so you will have to interrupt the kernel after any example in order to proceed. "
   ]
  },
  {
   "cell_type": "markdown",
   "metadata": {},
   "source": [
    "The **plotly_stream** constructor has the following syntax:\n",
    "\n",
    "    ploty_stream(title, subplot_rows, subplot_columns, maxpoints, token_number)\n",
    "    \n",
    "Here:\n",
    "- **title:**           Is the title of the whole plot.\n",
    "- **subplot_rows:**     Describes the number of subplot rows, default is 1.\n",
    "- **subplot_columns:** Describes the number of subplot columns, default is 1.\n",
    "- **maxpoints:**       The maximum number of points\n",
    "displayed by each trace of the plot, default is 50.\n",
    "- **token_number:**    By default, any instance of *plotly_stream* takes the first (and subsequent if necessary) streaming tokens from the tokens list. To avoid that a token is used twice, *token_number* can set to another starting point within the tokens list."
   ]
  },
  {
   "cell_type": "code",
   "execution_count": null,
   "metadata": {
    "collapsed": true
   },
   "outputs": [],
   "source": [
    "plot = plyst.plotly_stream('A first streaming plot')"
   ]
  },
  {
   "cell_type": "markdown",
   "metadata": {},
   "source": [
    "The first thing we need is a data source. To this end, we use\n",
    "\n",
    "       add_data_source(ip, port)\n",
    "\n",
    "For this tutorial, The Python Quants have set up 3 dummy data servers which run under the IP 80.82.223.74 on ports 6669 to 6671."
   ]
  },
  {
   "cell_type": "code",
   "execution_count": null,
   "metadata": {
    "collapsed": true
   },
   "outputs": [],
   "source": [
    "sock = plot.add_data_source('80.82.223.74', 6669)"
   ]
  },
  {
   "cell_type": "markdown",
   "metadata": {},
   "source": [
    "Next, we can define a trace object by using the method **add_trace**. The syntax is\n",
    "\n",
    "    add_trace(kind, data_source, name, row, col, parse_data)\n",
    "    \n",
    "Where \n",
    " - **kind** is the kind of plot, one of '*scatter*' or '*bars*'.\n",
    " - **data_source** is a data source as defined above.\n",
    " - **name** is the name of the trace as it appears in the plot's legend for example; default is *None*.\n",
    " - **row** and **col** define the subplot the trace should appear in; default is 1 for both parameters.\n",
    " - **parse_data** is an optional callback function to parse the incoming data; the function must accept one string parameter (the incoming message from the data source) and return the new x and y values for the plot."
   ]
  },
  {
   "cell_type": "code",
   "execution_count": null,
   "metadata": {
    "collapsed": true
   },
   "outputs": [],
   "source": [
    "plot.add_trace('scatter', sock, 'Data from Server 1')"
   ]
  },
  {
   "cell_type": "markdown",
   "metadata": {},
   "source": [
    "In order to embed the plot to this notebook, we need the plot url. "
   ]
  },
  {
   "cell_type": "code",
   "execution_count": null,
   "metadata": {
    "collapsed": true
   },
   "outputs": [],
   "source": [
    "url = plot.get_plot_url()\n",
    "plyt.embed(url)"
   ]
  },
  {
   "cell_type": "markdown",
   "metadata": {},
   "source": [
    "After that, we can start our first stream with \n",
    "\n",
    "    start_streaming(auto_open)\n",
    "    \n",
    "where **auto_open** is a boolean. If True, which is default, the browser opens automatically the new plot.\n",
    "\n",
    "If there was no former call of ***plyt.embed(self.plot_url)*** the method prints the url of the new plot."
   ]
  },
  {
   "cell_type": "code",
   "execution_count": null,
   "metadata": {
    "collapsed": true
   },
   "outputs": [],
   "source": [
    "plot.start_streaming(auto_open=False)"
   ]
  },
  {
   "cell_type": "markdown",
   "metadata": {},
   "source": [
    "To preceed, interrupt the kernel. To restart the streaming you can always execute the cell above again."
   ]
  },
  {
   "cell_type": "markdown",
   "metadata": {},
   "source": [
    "## Working with subplots and layout"
   ]
  },
  {
   "cell_type": "markdown",
   "metadata": {},
   "source": [
    "In this example, we will create a plot with 3 subplots with some additional layout. We also introduce the ***parse_data*** callback."
   ]
  },
  {
   "cell_type": "code",
   "execution_count": null,
   "metadata": {
    "collapsed": true
   },
   "outputs": [],
   "source": [
    "plot = plyst.plotly_stream('Two Subplots', subplot_rows=1, subplot_columns=2)\n",
    "sock = plot.add_data_source('80.82.223.74', 6669)"
   ]
  },
  {
   "cell_type": "code",
   "execution_count": null,
   "metadata": {
    "collapsed": true
   },
   "outputs": [],
   "source": [
    "plot.add_trace('scatter', sock, 'Data from server 1', row=1, col=1)"
   ]
  },
  {
   "cell_type": "markdown",
   "metadata": {},
   "source": [
    "So far, nothing new. But for the second plot, we want the x axis values as number of seconds since midnight and not as time. For that reason, we write a callback function:"
   ]
  },
  {
   "cell_type": "code",
   "execution_count": null,
   "metadata": {
    "collapsed": true
   },
   "outputs": [],
   "source": [
    "def time_to_seconds(msg):\n",
    "    # input is of form \"time, value\", where time is hh:mm:ss.msmsms\n",
    "    parts = msg.split(',')\n",
    "    x1 = str(parts[0])\n",
    "    x = int(x1[:2]) * 60 * 60 + int(x1[3:5]) * 60 + int(x1[6:8]) + 0.001 * int(x1[10:])\n",
    "    y = float(parts[1])\n",
    "    return x, y"
   ]
  },
  {
   "cell_type": "markdown",
   "metadata": {},
   "source": [
    "The new trace is defined with that callback function."
   ]
  },
  {
   "cell_type": "code",
   "execution_count": null,
   "metadata": {
    "collapsed": true
   },
   "outputs": [],
   "source": [
    "plot.add_trace('scatter', sock, 'Data from server 1 in seconds', 1, 2, time_to_seconds)"
   ]
  },
  {
   "cell_type": "markdown",
   "metadata": {},
   "source": [
    "Defining titles for the subplots is easy:"
   ]
  },
  {
   "cell_type": "code",
   "execution_count": null,
   "metadata": {
    "collapsed": true
   },
   "outputs": [],
   "source": [
    "plot.set_subplot_title(1, 1, 'Data from Server 1 unparsed')\n",
    "plot.set_subplot_title(1, 2, 'Data from Server 1 parsed')"
   ]
  },
  {
   "cell_type": "markdown",
   "metadata": {},
   "source": [
    "Adding layout features is accomplished by with ***add_layout***. The syntax is\n",
    "\n",
    "    add_layout(target, values)\n",
    "    \n",
    "where\n",
    " - **target** is the object on which the layout is applied, examples are `yaxis, xaxis, legend`; if target is empty, the layout is applied to the whole plot\n",
    " - **values** is a dictionary with the layout keys/values"
   ]
  },
  {
   "cell_type": "markdown",
   "metadata": {},
   "source": [
    "Setting the width and height of the plot:"
   ]
  },
  {
   "cell_type": "code",
   "execution_count": null,
   "metadata": {
    "collapsed": true
   },
   "outputs": [],
   "source": [
    "plot.add_layout('', {'height': 1000, 'width': 600})"
   ]
  },
  {
   "cell_type": "markdown",
   "metadata": {},
   "source": [
    "Setting labels and grids for the axes:"
   ]
  },
  {
   "cell_type": "code",
   "execution_count": null,
   "metadata": {
    "collapsed": true
   },
   "outputs": [],
   "source": [
    "plot.add_layout('yaxis1', {'title': 'Y-Axis 1', 'showgrid': True})\n",
    "plot.add_layout('yaxis2', {'title': 'Y-Axis 2', 'showgrid': False})\n",
    "\n",
    "plot.add_layout('xaxis1', {'title': 'As times', 'showgrid': True})\n",
    "plot.add_layout('xaxis2', {'title': 'As seconds', 'showgrid': False})"
   ]
  },
  {
   "cell_type": "markdown",
   "metadata": {},
   "source": [
    "Setting ticks on the axes:"
   ]
  },
  {
   "cell_type": "code",
   "execution_count": null,
   "metadata": {
    "collapsed": true
   },
   "outputs": [],
   "source": [
    "y_ticks = dict(autotick=False,\n",
    "               ticks='outside',\n",
    "               tick0=0,\n",
    "               dtick=10,\n",
    "               ticklen=8,\n",
    "               tickwidth=2,\n",
    "               tickcolor='#000'\n",
    "              )\n",
    "plot.add_layout('yaxis1', y_ticks)\n",
    "\n",
    "x_ticks = dict(tickfont=dict(\n",
    "                   size=10,\n",
    "                   color='blue'\n",
    "                   ),\n",
    "               tickangle=45)\n",
    "\n",
    "plot.add_layout('xaxis1', x_ticks)"
   ]
  },
  {
   "cell_type": "markdown",
   "metadata": {},
   "source": [
    "Let's have a look at what we have defined so far ..."
   ]
  },
  {
   "cell_type": "code",
   "execution_count": null,
   "metadata": {
    "collapsed": true
   },
   "outputs": [],
   "source": [
    "url = plot.get_plot_url()\n",
    "plyt.embed(url)"
   ]
  },
  {
   "cell_type": "markdown",
   "metadata": {},
   "source": [
    "... and start the streaming."
   ]
  },
  {
   "cell_type": "code",
   "execution_count": null,
   "metadata": {
    "collapsed": true
   },
   "outputs": [],
   "source": [
    "plot.start_streaming(auto_open=False)"
   ]
  },
  {
   "cell_type": "markdown",
   "metadata": {},
   "source": [
    "## Several traces in one plot\n",
    "\n",
    "In this example, we add a new row of subplots to the figure above, containing one plot spanning both columns with the streamed data of both server 1 and server 2."
   ]
  },
  {
   "cell_type": "code",
   "execution_count": null,
   "metadata": {
    "collapsed": true
   },
   "outputs": [],
   "source": [
    "plot = plyst.plotly_stream('Streaming several traces in one plot', subplot_rows=2, subplot_columns=2)\n",
    "sock = plot.add_data_source('80.82.223.74', 6669)\n",
    "sock2 = plot.add_data_source('80.82.223.74', 6670)\n",
    "\n",
    "plot.add_trace('scatter', sock, 'Data from server 1', row=1, col=1)\n",
    "plot.add_trace('scatter', sock2, 'Data from server 2', row=1, col=2)\n",
    "\n",
    "plot.set_subplot_title(1, 1, 'Data from Server 1')\n",
    "plot.set_subplot_title(1, 2, 'Data from Server 1')"
   ]
  },
  {
   "cell_type": "markdown",
   "metadata": {},
   "source": [
    "The next two traces will both be inserted into subplot 2/1."
   ]
  },
  {
   "cell_type": "code",
   "execution_count": null,
   "metadata": {
    "collapsed": true
   },
   "outputs": [],
   "source": [
    "plot.add_trace('scatter', sock, 'Data from server 1', 2, 1)\n",
    "plot.add_trace('scatter', sock2, 'Data from server 2', 2, 1)\n",
    "\n",
    "plot.set_subplot_title(2, 1, 'Combined Data from Server 1 & 2')"
   ]
  },
  {
   "cell_type": "markdown",
   "metadata": {},
   "source": [
    "To combine subplot 2/1 and subplot 2/2 we use the method \n",
    "\n",
    "    set_subplot_spec()    "
   ]
  },
  {
   "cell_type": "code",
   "execution_count": null,
   "metadata": {
    "collapsed": true
   },
   "outputs": [],
   "source": [
    "plot.set_subplot_specs(2, 1, {'colspan': 2})\n",
    "plot.set_subplot_specs(2, 2, None)"
   ]
  },
  {
   "cell_type": "code",
   "execution_count": null,
   "metadata": {
    "collapsed": true
   },
   "outputs": [],
   "source": [
    "x_ticks = dict(tickfont=dict(\n",
    "                   size=10,\n",
    "                   ),\n",
    "               tickangle=45)\n",
    "\n",
    "plot.add_layout('xaxis1', x_ticks)\n",
    "plot.add_layout('xaxis2', x_ticks)\n",
    "plot.add_layout('xaxis3', x_ticks)"
   ]
  },
  {
   "cell_type": "code",
   "execution_count": null,
   "metadata": {
    "collapsed": true
   },
   "outputs": [],
   "source": [
    "url = plot.get_plot_url()\n",
    "plyt.embed(url)"
   ]
  },
  {
   "cell_type": "code",
   "execution_count": null,
   "metadata": {
    "collapsed": true
   },
   "outputs": [],
   "source": [
    "plot.start_streaming(auto_open=False)"
   ]
  },
  {
   "cell_type": "markdown",
   "metadata": {
    "collapsed": true
   },
   "source": [
    "## Ploting bars"
   ]
  },
  {
   "cell_type": "markdown",
   "metadata": {},
   "source": [
    "Plotting bars is analogous to scatter plots, the only difference being that the optional callback function must return two list object, namely for the the bars labels and the bars values."
   ]
  },
  {
   "cell_type": "code",
   "execution_count": null,
   "metadata": {
    "collapsed": true
   },
   "outputs": [],
   "source": [
    "plot = plyst.plotly_stream('CPU usage of PythonQuants01')\n",
    "sock3 = plot.add_data_source('80.82.223.74', 6671)\n",
    "\n",
    "def callback_for_bars(msg):\n",
    "    parts = msg.split(',')\n",
    "    y = [float(p)+1 if float(p)==0 else float(p) for p in parts]\n",
    "    x = ['cpu %s' %(i+1) for i in range(len(parts))]\n",
    "    return x, y\n",
    "\n",
    "plot.add_trace('bars', sock3, 'cpu usage', parse_data=callback_for_bars )\n",
    "plot.add_layout('yaxis1', {'range': [0,100]})\n",
    "plot.add_layout('yaxis1', {'title': 'cpu usage in %'})"
   ]
  },
  {
   "cell_type": "code",
   "execution_count": null,
   "metadata": {
    "collapsed": true
   },
   "outputs": [],
   "source": [
    "url = plot.get_plot_url()\n",
    "plyt.embed(url)"
   ]
  },
  {
   "cell_type": "code",
   "execution_count": null,
   "metadata": {
    "collapsed": true
   },
   "outputs": [],
   "source": [
    "plot.start_streaming(auto_open=False)"
   ]
  }
 ],
 "metadata": {
  "kernelspec": {
   "display_name": "Python 3",
   "language": "python",
   "name": "python3"
  },
  "language_info": {
   "codemirror_mode": {
    "name": "ipython",
    "version": 3
   },
   "file_extension": ".py",
   "mimetype": "text/x-python",
   "name": "python",
   "nbconvert_exporter": "python",
   "pygments_lexer": "ipython3",
   "version": "3.5.2"
  },
  "widgets": {
   "state": {},
   "version": "1.1.2"
  }
 },
 "nbformat": 4,
 "nbformat_minor": 1
}
