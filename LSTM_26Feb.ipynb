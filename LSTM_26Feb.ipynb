{
 "cells": [
  {
   "cell_type": "markdown",
   "metadata": {},
   "source": [
    "https://keras.io/layers/recurrent/"
   ]
  },
  {
   "cell_type": "code",
   "execution_count": 1,
   "metadata": {
    "collapsed": false
   },
   "outputs": [
    {
     "name": "stderr",
     "output_type": "stream",
     "text": [
      "Using TensorFlow backend.\n"
     ]
    }
   ],
   "source": [
    "import numpy\n",
    "import matplotlib.pyplot as plt\n",
    "import pandas\n",
    "import math\n",
    "from keras.models import Sequential\n",
    "from keras.layers import Dense\n",
    "from keras.layers import LSTM\n",
    "from sklearn.preprocessing import MinMaxScaler\n",
    "from sklearn.metrics import mean_squared_error\n",
    "import numpy\n",
    "import matplotlib.pyplot as plt\n",
    "import pandas\n",
    "import math\n",
    "from keras.models import Sequential\n",
    "from keras.layers import Dense\n",
    "from keras.layers import LSTM\n",
    "from sklearn.preprocessing import MinMaxScaler\n",
    "from sklearn.metrics import mean_squared_error"
   ]
  },
  {
   "cell_type": "code",
   "execution_count": 2,
   "metadata": {
    "collapsed": false
   },
   "outputs": [
    {
     "name": "stderr",
     "output_type": "stream",
     "text": [
      "/home/octo/anaconda2/envs/carnd-term1/lib/python3.5/site-packages/statsmodels/compat/pandas.py:56: FutureWarning: The pandas.core.datetools module is deprecated and will be removed in a future version. Please use the pandas.tseries module instead.\n",
      "  from pandas.core import datetools\n"
     ]
    }
   ],
   "source": [
    "import processing\n",
    "import ds\n",
    "import ml\n",
    "import model_saving"
   ]
  },
  {
   "cell_type": "code",
   "execution_count": 3,
   "metadata": {
    "collapsed": true
   },
   "outputs": [],
   "source": [
    "filename = '/home/octo/Dropbox'+ '/SPY29Dec.csv'"
   ]
  },
  {
   "cell_type": "code",
   "execution_count": 4,
   "metadata": {
    "collapsed": true
   },
   "outputs": [],
   "source": [
    "data=processing.get_csv_pd(filename)\n",
    "data=processing.BA(data)\n",
    "data=processing.preprocessing(data)\n",
    "data_km=ml.kalman_ma(data)\n",
    "data['km']=data_km"
   ]
  },
  {
   "cell_type": "code",
   "execution_count": 5,
   "metadata": {
    "collapsed": true
   },
   "outputs": [],
   "source": [
    "import numpy as np\n",
    "data['diff']=np.where(np.logical_and(data.Open>data.km,data.spread>0),data.vwap-data.km,np.where(np.logical_and(data.Open<data.km,data.spread<0),data.vwap-data.km,0))"
   ]
  },
  {
   "cell_type": "code",
   "execution_count": 7,
   "metadata": {
    "collapsed": false
   },
   "outputs": [
    {
     "data": {
      "text/html": [
       "<div>\n",
       "<style scoped>\n",
       "    .dataframe tbody tr th:only-of-type {\n",
       "        vertical-align: middle;\n",
       "    }\n",
       "\n",
       "    .dataframe tbody tr th {\n",
       "        vertical-align: top;\n",
       "    }\n",
       "\n",
       "    .dataframe thead th {\n",
       "        text-align: right;\n",
       "    }\n",
       "</style>\n",
       "<table border=\"1\" class=\"dataframe\">\n",
       "  <thead>\n",
       "    <tr style=\"text-align: right;\">\n",
       "      <th></th>\n",
       "      <th>askPrice</th>\n",
       "      <th>askSize</th>\n",
       "      <th>bidPrice</th>\n",
       "      <th>bidSize</th>\n",
       "      <th>Open</th>\n",
       "      <th>Close</th>\n",
       "      <th>High</th>\n",
       "      <th>Low</th>\n",
       "      <th>Volume</th>\n",
       "      <th>vwap</th>\n",
       "      <th>change</th>\n",
       "      <th>liq</th>\n",
       "      <th>spread</th>\n",
       "      <th>vel</th>\n",
       "      <th>return</th>\n",
       "      <th>km</th>\n",
       "      <th>diff</th>\n",
       "    </tr>\n",
       "  </thead>\n",
       "  <tbody>\n",
       "    <tr>\n",
       "      <th>2017-12-29 21:14:58.820995</th>\n",
       "      <td>267.820007</td>\n",
       "      <td>54.0</td>\n",
       "      <td>267.809998</td>\n",
       "      <td>19.0</td>\n",
       "      <td>267.815002</td>\n",
       "      <td>267.815002</td>\n",
       "      <td>267.820007</td>\n",
       "      <td>267.809998</td>\n",
       "      <td>73.0</td>\n",
       "      <td>267.817383</td>\n",
       "      <td>0.0</td>\n",
       "      <td>0.01001</td>\n",
       "      <td>-0.002380</td>\n",
       "      <td>0.01001</td>\n",
       "      <td>0.000037</td>\n",
       "      <td>258.907501</td>\n",
       "      <td>0.0</td>\n",
       "    </tr>\n",
       "    <tr>\n",
       "      <th>2017-12-29 21:15:00.302764</th>\n",
       "      <td>267.820007</td>\n",
       "      <td>54.0</td>\n",
       "      <td>267.809998</td>\n",
       "      <td>23.0</td>\n",
       "      <td>267.815002</td>\n",
       "      <td>267.815002</td>\n",
       "      <td>267.820007</td>\n",
       "      <td>267.809998</td>\n",
       "      <td>77.0</td>\n",
       "      <td>267.817017</td>\n",
       "      <td>0.0</td>\n",
       "      <td>0.01001</td>\n",
       "      <td>-0.002014</td>\n",
       "      <td>0.01001</td>\n",
       "      <td>0.000037</td>\n",
       "      <td>261.915995</td>\n",
       "      <td>0.0</td>\n",
       "    </tr>\n",
       "    <tr>\n",
       "      <th>2017-12-29 21:15:00.310661</th>\n",
       "      <td>267.820007</td>\n",
       "      <td>49.0</td>\n",
       "      <td>267.809998</td>\n",
       "      <td>23.0</td>\n",
       "      <td>267.815002</td>\n",
       "      <td>267.815002</td>\n",
       "      <td>267.820007</td>\n",
       "      <td>267.809998</td>\n",
       "      <td>72.0</td>\n",
       "      <td>267.816803</td>\n",
       "      <td>0.0</td>\n",
       "      <td>0.01001</td>\n",
       "      <td>-0.001801</td>\n",
       "      <td>0.01001</td>\n",
       "      <td>0.000037</td>\n",
       "      <td>263.438067</td>\n",
       "      <td>0.0</td>\n",
       "    </tr>\n",
       "    <tr>\n",
       "      <th>2017-12-29 21:15:00.323921</th>\n",
       "      <td>267.820007</td>\n",
       "      <td>49.0</td>\n",
       "      <td>267.809998</td>\n",
       "      <td>28.0</td>\n",
       "      <td>267.815002</td>\n",
       "      <td>267.815002</td>\n",
       "      <td>267.820007</td>\n",
       "      <td>267.809998</td>\n",
       "      <td>77.0</td>\n",
       "      <td>267.816345</td>\n",
       "      <td>0.0</td>\n",
       "      <td>0.01001</td>\n",
       "      <td>-0.001343</td>\n",
       "      <td>0.01001</td>\n",
       "      <td>0.000037</td>\n",
       "      <td>264.363220</td>\n",
       "      <td>0.0</td>\n",
       "    </tr>\n",
       "    <tr>\n",
       "      <th>2017-12-29 21:15:00.332070</th>\n",
       "      <td>267.820007</td>\n",
       "      <td>45.0</td>\n",
       "      <td>267.809998</td>\n",
       "      <td>28.0</td>\n",
       "      <td>267.815002</td>\n",
       "      <td>267.815002</td>\n",
       "      <td>267.820007</td>\n",
       "      <td>267.809998</td>\n",
       "      <td>73.0</td>\n",
       "      <td>267.816162</td>\n",
       "      <td>0.0</td>\n",
       "      <td>0.01001</td>\n",
       "      <td>-0.001160</td>\n",
       "      <td>0.01001</td>\n",
       "      <td>0.000037</td>\n",
       "      <td>264.988846</td>\n",
       "      <td>0.0</td>\n",
       "    </tr>\n",
       "  </tbody>\n",
       "</table>\n",
       "</div>"
      ],
      "text/plain": [
       "                              askPrice  askSize    bidPrice  bidSize  \\\n",
       "2017-12-29 21:14:58.820995  267.820007     54.0  267.809998     19.0   \n",
       "2017-12-29 21:15:00.302764  267.820007     54.0  267.809998     23.0   \n",
       "2017-12-29 21:15:00.310661  267.820007     49.0  267.809998     23.0   \n",
       "2017-12-29 21:15:00.323921  267.820007     49.0  267.809998     28.0   \n",
       "2017-12-29 21:15:00.332070  267.820007     45.0  267.809998     28.0   \n",
       "\n",
       "                                  Open       Close        High         Low  \\\n",
       "2017-12-29 21:14:58.820995  267.815002  267.815002  267.820007  267.809998   \n",
       "2017-12-29 21:15:00.302764  267.815002  267.815002  267.820007  267.809998   \n",
       "2017-12-29 21:15:00.310661  267.815002  267.815002  267.820007  267.809998   \n",
       "2017-12-29 21:15:00.323921  267.815002  267.815002  267.820007  267.809998   \n",
       "2017-12-29 21:15:00.332070  267.815002  267.815002  267.820007  267.809998   \n",
       "\n",
       "                            Volume        vwap  change      liq    spread  \\\n",
       "2017-12-29 21:14:58.820995    73.0  267.817383     0.0  0.01001 -0.002380   \n",
       "2017-12-29 21:15:00.302764    77.0  267.817017     0.0  0.01001 -0.002014   \n",
       "2017-12-29 21:15:00.310661    72.0  267.816803     0.0  0.01001 -0.001801   \n",
       "2017-12-29 21:15:00.323921    77.0  267.816345     0.0  0.01001 -0.001343   \n",
       "2017-12-29 21:15:00.332070    73.0  267.816162     0.0  0.01001 -0.001160   \n",
       "\n",
       "                                vel    return          km  diff  \n",
       "2017-12-29 21:14:58.820995  0.01001  0.000037  258.907501   0.0  \n",
       "2017-12-29 21:15:00.302764  0.01001  0.000037  261.915995   0.0  \n",
       "2017-12-29 21:15:00.310661  0.01001  0.000037  263.438067   0.0  \n",
       "2017-12-29 21:15:00.323921  0.01001  0.000037  264.363220   0.0  \n",
       "2017-12-29 21:15:00.332070  0.01001  0.000037  264.988846   0.0  "
      ]
     },
     "execution_count": 7,
     "metadata": {},
     "output_type": "execute_result"
    }
   ],
   "source": [
    "data.head()"
   ]
  },
  {
   "cell_type": "code",
   "execution_count": 9,
   "metadata": {
    "collapsed": false
   },
   "outputs": [],
   "source": [
    "dataset=data[['askPrice','askSize','bidPrice','bidSize','Open','Close','High','Low','vwap','km']]"
   ]
  },
  {
   "cell_type": "code",
   "execution_count": 10,
   "metadata": {
    "collapsed": true
   },
   "outputs": [],
   "source": [
    "dataset =dataset.astype('float32')"
   ]
  },
  {
   "cell_type": "code",
   "execution_count": 11,
   "metadata": {
    "collapsed": false
   },
   "outputs": [
    {
     "data": {
      "text/html": [
       "<div>\n",
       "<style scoped>\n",
       "    .dataframe tbody tr th:only-of-type {\n",
       "        vertical-align: middle;\n",
       "    }\n",
       "\n",
       "    .dataframe tbody tr th {\n",
       "        vertical-align: top;\n",
       "    }\n",
       "\n",
       "    .dataframe thead th {\n",
       "        text-align: right;\n",
       "    }\n",
       "</style>\n",
       "<table border=\"1\" class=\"dataframe\">\n",
       "  <thead>\n",
       "    <tr style=\"text-align: right;\">\n",
       "      <th></th>\n",
       "      <th>askPrice</th>\n",
       "      <th>askSize</th>\n",
       "      <th>bidPrice</th>\n",
       "      <th>bidSize</th>\n",
       "      <th>Open</th>\n",
       "      <th>Close</th>\n",
       "      <th>High</th>\n",
       "      <th>Low</th>\n",
       "      <th>vwap</th>\n",
       "      <th>km</th>\n",
       "    </tr>\n",
       "  </thead>\n",
       "  <tbody>\n",
       "    <tr>\n",
       "      <th>2017-12-29 21:14:58.820995</th>\n",
       "      <td>267.820007</td>\n",
       "      <td>54.0</td>\n",
       "      <td>267.809998</td>\n",
       "      <td>19.0</td>\n",
       "      <td>267.815002</td>\n",
       "      <td>267.815002</td>\n",
       "      <td>267.820007</td>\n",
       "      <td>267.809998</td>\n",
       "      <td>267.817383</td>\n",
       "      <td>258.907501</td>\n",
       "    </tr>\n",
       "    <tr>\n",
       "      <th>2017-12-29 21:15:00.302764</th>\n",
       "      <td>267.820007</td>\n",
       "      <td>54.0</td>\n",
       "      <td>267.809998</td>\n",
       "      <td>23.0</td>\n",
       "      <td>267.815002</td>\n",
       "      <td>267.815002</td>\n",
       "      <td>267.820007</td>\n",
       "      <td>267.809998</td>\n",
       "      <td>267.817017</td>\n",
       "      <td>261.915985</td>\n",
       "    </tr>\n",
       "    <tr>\n",
       "      <th>2017-12-29 21:15:00.310661</th>\n",
       "      <td>267.820007</td>\n",
       "      <td>49.0</td>\n",
       "      <td>267.809998</td>\n",
       "      <td>23.0</td>\n",
       "      <td>267.815002</td>\n",
       "      <td>267.815002</td>\n",
       "      <td>267.820007</td>\n",
       "      <td>267.809998</td>\n",
       "      <td>267.816803</td>\n",
       "      <td>263.438080</td>\n",
       "    </tr>\n",
       "    <tr>\n",
       "      <th>2017-12-29 21:15:00.323921</th>\n",
       "      <td>267.820007</td>\n",
       "      <td>49.0</td>\n",
       "      <td>267.809998</td>\n",
       "      <td>28.0</td>\n",
       "      <td>267.815002</td>\n",
       "      <td>267.815002</td>\n",
       "      <td>267.820007</td>\n",
       "      <td>267.809998</td>\n",
       "      <td>267.816345</td>\n",
       "      <td>264.363220</td>\n",
       "    </tr>\n",
       "    <tr>\n",
       "      <th>2017-12-29 21:15:00.332070</th>\n",
       "      <td>267.820007</td>\n",
       "      <td>45.0</td>\n",
       "      <td>267.809998</td>\n",
       "      <td>28.0</td>\n",
       "      <td>267.815002</td>\n",
       "      <td>267.815002</td>\n",
       "      <td>267.820007</td>\n",
       "      <td>267.809998</td>\n",
       "      <td>267.816162</td>\n",
       "      <td>264.988861</td>\n",
       "    </tr>\n",
       "  </tbody>\n",
       "</table>\n",
       "</div>"
      ],
      "text/plain": [
       "                              askPrice  askSize    bidPrice  bidSize  \\\n",
       "2017-12-29 21:14:58.820995  267.820007     54.0  267.809998     19.0   \n",
       "2017-12-29 21:15:00.302764  267.820007     54.0  267.809998     23.0   \n",
       "2017-12-29 21:15:00.310661  267.820007     49.0  267.809998     23.0   \n",
       "2017-12-29 21:15:00.323921  267.820007     49.0  267.809998     28.0   \n",
       "2017-12-29 21:15:00.332070  267.820007     45.0  267.809998     28.0   \n",
       "\n",
       "                                  Open       Close        High         Low  \\\n",
       "2017-12-29 21:14:58.820995  267.815002  267.815002  267.820007  267.809998   \n",
       "2017-12-29 21:15:00.302764  267.815002  267.815002  267.820007  267.809998   \n",
       "2017-12-29 21:15:00.310661  267.815002  267.815002  267.820007  267.809998   \n",
       "2017-12-29 21:15:00.323921  267.815002  267.815002  267.820007  267.809998   \n",
       "2017-12-29 21:15:00.332070  267.815002  267.815002  267.820007  267.809998   \n",
       "\n",
       "                                  vwap          km  \n",
       "2017-12-29 21:14:58.820995  267.817383  258.907501  \n",
       "2017-12-29 21:15:00.302764  267.817017  261.915985  \n",
       "2017-12-29 21:15:00.310661  267.816803  263.438080  \n",
       "2017-12-29 21:15:00.323921  267.816345  264.363220  \n",
       "2017-12-29 21:15:00.332070  267.816162  264.988861  "
      ]
     },
     "execution_count": 11,
     "metadata": {},
     "output_type": "execute_result"
    }
   ],
   "source": [
    "dataset.head()"
   ]
  },
  {
   "cell_type": "code",
   "execution_count": 12,
   "metadata": {
    "collapsed": true
   },
   "outputs": [],
   "source": [
    "# fix random seed for reproducibility\n",
    "numpy.random.seed(7)"
   ]
  },
  {
   "cell_type": "code",
   "execution_count": 13,
   "metadata": {
    "collapsed": true
   },
   "outputs": [],
   "source": [
    "# normalize the dataset\n",
    "scaler = MinMaxScaler(feature_range=(0, 1))\n",
    "dataset = scaler.fit_transform(dataset)"
   ]
  },
  {
   "cell_type": "code",
   "execution_count": 14,
   "metadata": {
    "collapsed": false
   },
   "outputs": [
    {
     "name": "stdout",
     "output_type": "stream",
     "text": [
      "52291 13073\n"
     ]
    }
   ],
   "source": [
    "# split into train and test sets\n",
    "train_size = int(len(dataset) * 0.80)\n",
    "test_size = len(dataset) - train_size\n",
    "train, test = dataset[0:train_size,:], dataset[train_size:len(dataset),:]\n",
    "print(len(train), len(test))"
   ]
  },
  {
   "cell_type": "code",
   "execution_count": 16,
   "metadata": {
    "collapsed": false
   },
   "outputs": [
    {
     "data": {
      "text/plain": [
       "array([[0.97608235, 0.04892966, 0.97608235, 0.02358079, 0.97608235,\n",
       "        0.97608235, 0.97608235, 0.97608235, 0.97446258, 0.60920281],\n",
       "       [0.97608235, 0.04485219, 0.97608235, 0.02358079, 0.97608235,\n",
       "        0.97608235, 0.97608235, 0.97608235, 0.97437537, 0.67906384]])"
      ]
     },
     "execution_count": 16,
     "metadata": {},
     "output_type": "execute_result"
    }
   ],
   "source": [
    "dataset[3:5]"
   ]
  },
  {
   "cell_type": "code",
   "execution_count": 20,
   "metadata": {
    "collapsed": false
   },
   "outputs": [
    {
     "data": {
      "image/png": "[encoded data removed]",
      "text/plain": [
       "<matplotlib.figure.Figure at 0x7f0e7c191fd0>"
      ]
     },
     "metadata": {},
     "output_type": "display_data"
    },
    {
     "data": {
      "image/png": "[encoded data removed]",
      "text/plain": [
       "<matplotlib.figure.Figure at 0x7f0e7c180128>"
      ]
     },
     "metadata": {},
     "output_type": "display_data"
    }
   ],
   "source": [
    "from matplotlib import pyplot\n",
    "# specify columns to plot\n",
    "groups = [0,2,8,9]\n",
    "i = 1\n",
    "values = data.values\n",
    "# plot each column\n",
    "pyplot.figure()\n",
    "for group in groups:\n",
    "\tpyplot.subplot(len(groups), 1, i)\n",
    "\tpyplot.plot(values[:, group])\n",
    "\tpyplot.title(data.columns[group], y=0.5, loc='right')\n",
    "\ti += 1\n",
    "pyplot.show()"
   ]
  },
  {
   "cell_type": "markdown",
   "metadata": {},
   "source": [
    "https://machinelearningmastery.com/multivariate-time-series-forecasting-lstms-keras/\n",
    "\n",
    "https://machinelearningmastery.com/time-series-prediction-lstm-recurrent-neural-networks-python-keras/"
   ]
  },
  {
   "cell_type": "markdown",
   "metadata": {},
   "source": [
    "http://colah.github.io/posts/2015-08-Understanding-LSTMs/"
   ]
  },
  {
   "cell_type": "markdown",
   "metadata": {},
   "source": [
    "http://www.jakob-aungiers.com/articles/a/LSTM-Neural-Network-for-Time-Series-Prediction"
   ]
  },
  {
   "cell_type": "markdown",
   "metadata": {},
   "source": [
    "https://deeplearning4j.org/lstm"
   ]
  },
  {
   "cell_type": "code",
   "execution_count": null,
   "metadata": {
    "collapsed": true
   },
   "outputs": [],
   "source": []
  }
 ],
 "metadata": {
  "kernelspec": {
   "display_name": "Python 3",
   "language": "python",
   "name": "python3"
  },
  "language_info": {
   "codemirror_mode": {
    "name": "ipython",
    "version": 3
   },
   "file_extension": ".py",
   "mimetype": "text/x-python",
   "name": "python",
   "nbconvert_exporter": "python",
   "pygments_lexer": "ipython3",
   "version": "3.5.2"
  }
 },
 "nbformat": 4,
 "nbformat_minor": 1
}
