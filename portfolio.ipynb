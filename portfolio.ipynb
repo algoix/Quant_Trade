{
 "cells": [
  {
   "cell_type": "markdown",
   "metadata": {},
   "source": [
    "https://gitlab.com/parthasen/AI/blob/ALGO2.1/tree.md"
   ]
  },
  {
   "cell_type": "code",
   "execution_count": 1,
   "metadata": {
    "collapsed": false
   },
   "outputs": [
    {
     "name": "stderr",
     "output_type": "stream",
     "text": [
      "/home/octo/anaconda2/envs/carnd-term1/lib/python3.5/site-packages/statsmodels/compat/pandas.py:56: FutureWarning: The pandas.core.datetools module is deprecated and will be removed in a future version. Please use the pandas.tseries module instead.\n",
      "  from pandas.core import datetools\n",
      "Using TensorFlow backend.\n"
     ]
    }
   ],
   "source": [
    "import processing\n",
    "import ds\n",
    "import ml\n",
    "import model_saving\n",
    "import TS"
   ]
  },
  {
   "cell_type": "code",
   "execution_count": 8,
   "metadata": {
    "collapsed": false
   },
   "outputs": [
    {
     "name": "stdout",
     "output_type": "stream",
     "text": [
      "Requirement already satisfied: update in /home/octo/anaconda2/envs/carnd-term1/lib/python3.5/site-packages\r\n",
      "Requirement already satisfied: Ta-Lib in /home/octo/anaconda2/envs/carnd-term1/lib/python3.5/site-packages\r\n",
      "Requirement already satisfied: style==1.1.0 in /home/octo/anaconda2/envs/carnd-term1/lib/python3.5/site-packages (from update)\r\n",
      "Requirement already satisfied: numpy in /home/octo/anaconda2/envs/carnd-term1/lib/python3.5/site-packages (from Ta-Lib)\r\n"
     ]
    }
   ],
   "source": [
    "!pip install update Ta-Lib"
   ]
  },
  {
   "cell_type": "code",
   "execution_count": 10,
   "metadata": {
    "collapsed": false
   },
   "outputs": [],
   "source": [
    "import os\n",
    "import sys\n",
    "import numpy as np\n",
    "import pandas as pd\n",
    "#import talib"
   ]
  },
  {
   "cell_type": "code",
   "execution_count": 3,
   "metadata": {
    "collapsed": false
   },
   "outputs": [
    {
     "name": "stdout",
     "output_type": "stream",
     "text": [
      "Machine: Linux x86_64\n",
      "\n",
      "3.5.2 | packaged by conda-forge | (default, Jul 26 2016, 01:32:08) \n",
      "[GCC 4.8.2 20140120 (Red Hat 4.8.2-15)]\n"
     ]
    }
   ],
   "source": [
    "p = print\n",
    "p('Machine: {} {}\\n'.format(os.uname().sysname,os.uname().machine))\n",
    "p(sys.version)"
   ]
  },
  {
   "cell_type": "code",
   "execution_count": 4,
   "metadata": {
    "collapsed": true
   },
   "outputs": [],
   "source": [
    "filename = '/home/octo/Dropbox'+ '/SPY29Dec.csv'"
   ]
  },
  {
   "cell_type": "code",
   "execution_count": 5,
   "metadata": {
    "collapsed": true
   },
   "outputs": [],
   "source": [
    "data=processing.get_csv_pd(filename)\n",
    "data=processing.BA(data)\n",
    "data=processing.preprocessing(data)\n",
    "data_km=ml.kalman_ma(data)\n",
    "data['km']=data_km\n",
    "#data['diff']=np.where(np.logical_and(data.Open>data.km,data.spread>0),data.vwap-data.km,np.where(np.logical_and(data.Open<data.km,data.spread<0),data.vwap-data.km,0))"
   ]
  },
  {
   "cell_type": "code",
   "execution_count": 7,
   "metadata": {
    "collapsed": true
   },
   "outputs": [],
   "source": [
    "df_clf=data.astype('float64')"
   ]
  },
  {
   "cell_type": "code",
   "execution_count": 13,
   "metadata": {
    "collapsed": false
   },
   "outputs": [
    {
     "data": {
      "text/html": [
       "<div>\n",
       "<style>\n",
       "    .dataframe thead tr:only-child th {\n",
       "        text-align: right;\n",
       "    }\n",
       "\n",
       "    .dataframe thead th {\n",
       "        text-align: left;\n",
       "    }\n",
       "\n",
       "    .dataframe tbody tr th {\n",
       "        vertical-align: top;\n",
       "    }\n",
       "</style>\n",
       "<table border=\"1\" class=\"dataframe\">\n",
       "  <thead>\n",
       "    <tr style=\"text-align: right;\">\n",
       "      <th></th>\n",
       "      <th>askPrice</th>\n",
       "      <th>askSize</th>\n",
       "      <th>bidPrice</th>\n",
       "      <th>bidSize</th>\n",
       "      <th>Open</th>\n",
       "      <th>Close</th>\n",
       "      <th>High</th>\n",
       "      <th>Low</th>\n",
       "      <th>...</th>\n",
       "      <th>vwap</th>\n",
       "      <th>change</th>\n",
       "      <th>liq</th>\n",
       "      <th>spread</th>\n",
       "      <th>vel</th>\n",
       "      <th>return</th>\n",
       "      <th>km</th>\n",
       "      <th>sma</th>\n",
       "    </tr>\n",
       "  </thead>\n",
       "  <tbody>\n",
       "    <tr>\n",
       "      <th>2017-12-29 21:14:58.820995</th>\n",
       "      <td>267.82001</td>\n",
       "      <td>54.00000</td>\n",
       "      <td>267.81000</td>\n",
       "      <td>19.00000</td>\n",
       "      <td>267.81500</td>\n",
       "      <td>267.81500</td>\n",
       "      <td>267.82001</td>\n",
       "      <td>267.81000</td>\n",
       "      <td>...</td>\n",
       "      <td>267.81738</td>\n",
       "      <td>0.00000</td>\n",
       "      <td>0.01001</td>\n",
       "      <td>-0.00238</td>\n",
       "      <td>0.01001</td>\n",
       "      <td>0.00004</td>\n",
       "      <td>257.90750</td>\n",
       "      <td>nan</td>\n",
       "    </tr>\n",
       "    <tr>\n",
       "      <th>2017-12-29 21:15:00.302764</th>\n",
       "      <td>267.82001</td>\n",
       "      <td>54.00000</td>\n",
       "      <td>267.81000</td>\n",
       "      <td>23.00000</td>\n",
       "      <td>267.81500</td>\n",
       "      <td>267.81500</td>\n",
       "      <td>267.82001</td>\n",
       "      <td>267.81000</td>\n",
       "      <td>...</td>\n",
       "      <td>267.81702</td>\n",
       "      <td>0.00000</td>\n",
       "      <td>0.01001</td>\n",
       "      <td>-0.00201</td>\n",
       "      <td>0.01001</td>\n",
       "      <td>0.00004</td>\n",
       "      <td>261.25374</td>\n",
       "      <td>nan</td>\n",
       "    </tr>\n",
       "    <tr>\n",
       "      <th>2017-12-29 21:15:00.310661</th>\n",
       "      <td>267.82001</td>\n",
       "      <td>49.00000</td>\n",
       "      <td>267.81000</td>\n",
       "      <td>23.00000</td>\n",
       "      <td>267.81500</td>\n",
       "      <td>267.81500</td>\n",
       "      <td>267.82001</td>\n",
       "      <td>267.81000</td>\n",
       "      <td>...</td>\n",
       "      <td>267.81680</td>\n",
       "      <td>0.00000</td>\n",
       "      <td>0.01001</td>\n",
       "      <td>-0.00180</td>\n",
       "      <td>0.01001</td>\n",
       "      <td>0.00004</td>\n",
       "      <td>262.94669</td>\n",
       "      <td>nan</td>\n",
       "    </tr>\n",
       "    <tr>\n",
       "      <th>2017-12-29 21:15:00.323921</th>\n",
       "      <td>267.82001</td>\n",
       "      <td>49.00000</td>\n",
       "      <td>267.81000</td>\n",
       "      <td>28.00000</td>\n",
       "      <td>267.81500</td>\n",
       "      <td>267.81500</td>\n",
       "      <td>267.82001</td>\n",
       "      <td>267.81000</td>\n",
       "      <td>...</td>\n",
       "      <td>267.81635</td>\n",
       "      <td>0.00000</td>\n",
       "      <td>0.01001</td>\n",
       "      <td>-0.00134</td>\n",
       "      <td>0.01001</td>\n",
       "      <td>0.00004</td>\n",
       "      <td>263.97571</td>\n",
       "      <td>nan</td>\n",
       "    </tr>\n",
       "    <tr>\n",
       "      <th>2017-12-29 21:15:00.332070</th>\n",
       "      <td>267.82001</td>\n",
       "      <td>45.00000</td>\n",
       "      <td>267.81000</td>\n",
       "      <td>28.00000</td>\n",
       "      <td>267.81500</td>\n",
       "      <td>267.81500</td>\n",
       "      <td>267.82001</td>\n",
       "      <td>267.81000</td>\n",
       "      <td>...</td>\n",
       "      <td>267.81616</td>\n",
       "      <td>0.00000</td>\n",
       "      <td>0.01001</td>\n",
       "      <td>-0.00116</td>\n",
       "      <td>0.01001</td>\n",
       "      <td>0.00004</td>\n",
       "      <td>264.67157</td>\n",
       "      <td>nan</td>\n",
       "    </tr>\n",
       "  </tbody>\n",
       "</table>\n",
       "<p>5 rows × 17 columns</p>\n",
       "</div>"
      ],
      "text/plain": [
       "                            askPrice  askSize  bidPrice  bidSize      Open  \\\n",
       "2017-12-29 21:14:58.820995 267.82001 54.00000 267.81000 19.00000 267.81500   \n",
       "2017-12-29 21:15:00.302764 267.82001 54.00000 267.81000 23.00000 267.81500   \n",
       "2017-12-29 21:15:00.310661 267.82001 49.00000 267.81000 23.00000 267.81500   \n",
       "2017-12-29 21:15:00.323921 267.82001 49.00000 267.81000 28.00000 267.81500   \n",
       "2017-12-29 21:15:00.332070 267.82001 45.00000 267.81000 28.00000 267.81500   \n",
       "\n",
       "                               Close      High       Low ...       vwap  \\\n",
       "2017-12-29 21:14:58.820995 267.81500 267.82001 267.81000 ...  267.81738   \n",
       "2017-12-29 21:15:00.302764 267.81500 267.82001 267.81000 ...  267.81702   \n",
       "2017-12-29 21:15:00.310661 267.81500 267.82001 267.81000 ...  267.81680   \n",
       "2017-12-29 21:15:00.323921 267.81500 267.82001 267.81000 ...  267.81635   \n",
       "2017-12-29 21:15:00.332070 267.81500 267.82001 267.81000 ...  267.81616   \n",
       "\n",
       "                            change     liq   spread     vel  return        km  \\\n",
       "2017-12-29 21:14:58.820995 0.00000 0.01001 -0.00238 0.01001 0.00004 257.90750   \n",
       "2017-12-29 21:15:00.302764 0.00000 0.01001 -0.00201 0.01001 0.00004 261.25374   \n",
       "2017-12-29 21:15:00.310661 0.00000 0.01001 -0.00180 0.01001 0.00004 262.94669   \n",
       "2017-12-29 21:15:00.323921 0.00000 0.01001 -0.00134 0.01001 0.00004 263.97571   \n",
       "2017-12-29 21:15:00.332070 0.00000 0.01001 -0.00116 0.01001 0.00004 264.67157   \n",
       "\n",
       "                            sma  \n",
       "2017-12-29 21:14:58.820995  nan  \n",
       "2017-12-29 21:15:00.302764  nan  \n",
       "2017-12-29 21:15:00.310661  nan  \n",
       "2017-12-29 21:15:00.323921  nan  \n",
       "2017-12-29 21:15:00.332070  nan  \n",
       "\n",
       "[5 rows x 17 columns]"
      ]
     },
     "execution_count": 13,
     "metadata": {},
     "output_type": "execute_result"
    }
   ],
   "source": [
    "df_clf.head()"
   ]
  },
  {
   "cell_type": "code",
   "execution_count": 10,
   "metadata": {
    "collapsed": false
   },
   "outputs": [],
   "source": [
    "#data['sma']=talib.SMA(np.array(data.Close.astype('float64')))"
   ]
  },
  {
   "cell_type": "code",
   "execution_count": 12,
   "metadata": {
    "collapsed": true
   },
   "outputs": [],
   "source": [
    "df_clf['sma']=talib.SMA(np.array(df_clf.Close))"
   ]
  },
  {
   "cell_type": "code",
   "execution_count": 14,
   "metadata": {
    "collapsed": false
   },
   "outputs": [
    {
     "data": {
      "text/html": [
       "<div>\n",
       "<style>\n",
       "    .dataframe thead tr:only-child th {\n",
       "        text-align: right;\n",
       "    }\n",
       "\n",
       "    .dataframe thead th {\n",
       "        text-align: left;\n",
       "    }\n",
       "\n",
       "    .dataframe tbody tr th {\n",
       "        vertical-align: top;\n",
       "    }\n",
       "</style>\n",
       "<table border=\"1\" class=\"dataframe\">\n",
       "  <thead>\n",
       "    <tr style=\"text-align: right;\">\n",
       "      <th></th>\n",
       "      <th>askPrice</th>\n",
       "      <th>askSize</th>\n",
       "      <th>bidPrice</th>\n",
       "      <th>bidSize</th>\n",
       "      <th>Open</th>\n",
       "      <th>Close</th>\n",
       "      <th>High</th>\n",
       "      <th>Low</th>\n",
       "      <th>...</th>\n",
       "      <th>vwap</th>\n",
       "      <th>change</th>\n",
       "      <th>liq</th>\n",
       "      <th>spread</th>\n",
       "      <th>vel</th>\n",
       "      <th>return</th>\n",
       "      <th>km</th>\n",
       "      <th>sma</th>\n",
       "    </tr>\n",
       "  </thead>\n",
       "  <tbody>\n",
       "    <tr>\n",
       "      <th>2017-12-31 07:37:42.198573</th>\n",
       "      <td>266.00000</td>\n",
       "      <td>59.00000</td>\n",
       "      <td>265.98999</td>\n",
       "      <td>5.00000</td>\n",
       "      <td>265.99500</td>\n",
       "      <td>265.99500</td>\n",
       "      <td>266.00000</td>\n",
       "      <td>265.98999</td>\n",
       "      <td>...</td>\n",
       "      <td>265.99921</td>\n",
       "      <td>0.00000</td>\n",
       "      <td>0.01001</td>\n",
       "      <td>-0.00421</td>\n",
       "      <td>-0.06500</td>\n",
       "      <td>0.00004</td>\n",
       "      <td>265.99740</td>\n",
       "      <td>266.00049</td>\n",
       "    </tr>\n",
       "    <tr>\n",
       "      <th>2017-12-31 07:37:45.649633</th>\n",
       "      <td>266.00000</td>\n",
       "      <td>58.00000</td>\n",
       "      <td>265.98999</td>\n",
       "      <td>5.00000</td>\n",
       "      <td>265.99500</td>\n",
       "      <td>265.99500</td>\n",
       "      <td>266.00000</td>\n",
       "      <td>265.98999</td>\n",
       "      <td>...</td>\n",
       "      <td>265.99921</td>\n",
       "      <td>0.00000</td>\n",
       "      <td>0.01001</td>\n",
       "      <td>-0.00421</td>\n",
       "      <td>-0.05499</td>\n",
       "      <td>0.00004</td>\n",
       "      <td>265.99717</td>\n",
       "      <td>265.99949</td>\n",
       "    </tr>\n",
       "    <tr>\n",
       "      <th>2017-12-31 07:37:49.946201</th>\n",
       "      <td>266.00000</td>\n",
       "      <td>55.00000</td>\n",
       "      <td>265.98999</td>\n",
       "      <td>5.00000</td>\n",
       "      <td>265.99500</td>\n",
       "      <td>265.99500</td>\n",
       "      <td>266.00000</td>\n",
       "      <td>265.98999</td>\n",
       "      <td>...</td>\n",
       "      <td>265.99918</td>\n",
       "      <td>0.00000</td>\n",
       "      <td>0.01001</td>\n",
       "      <td>-0.00418</td>\n",
       "      <td>-0.05499</td>\n",
       "      <td>0.00004</td>\n",
       "      <td>265.99696</td>\n",
       "      <td>265.99849</td>\n",
       "    </tr>\n",
       "    <tr>\n",
       "      <th>2017-12-31 07:37:52.921372</th>\n",
       "      <td>266.00000</td>\n",
       "      <td>55.00000</td>\n",
       "      <td>265.98999</td>\n",
       "      <td>1.00000</td>\n",
       "      <td>265.99500</td>\n",
       "      <td>265.99500</td>\n",
       "      <td>266.00000</td>\n",
       "      <td>265.98999</td>\n",
       "      <td>...</td>\n",
       "      <td>265.99982</td>\n",
       "      <td>0.00000</td>\n",
       "      <td>0.01001</td>\n",
       "      <td>-0.00482</td>\n",
       "      <td>-0.04999</td>\n",
       "      <td>0.00004</td>\n",
       "      <td>265.99678</td>\n",
       "      <td>265.99749</td>\n",
       "    </tr>\n",
       "    <tr>\n",
       "      <th>2017-12-31 07:37:56.170620</th>\n",
       "      <td>266.00000</td>\n",
       "      <td>50.00000</td>\n",
       "      <td>265.98999</td>\n",
       "      <td>1.00000</td>\n",
       "      <td>265.99500</td>\n",
       "      <td>265.99500</td>\n",
       "      <td>266.00000</td>\n",
       "      <td>265.98999</td>\n",
       "      <td>...</td>\n",
       "      <td>265.99982</td>\n",
       "      <td>0.00000</td>\n",
       "      <td>0.01001</td>\n",
       "      <td>-0.00482</td>\n",
       "      <td>-0.04999</td>\n",
       "      <td>0.00004</td>\n",
       "      <td>265.99661</td>\n",
       "      <td>265.99666</td>\n",
       "    </tr>\n",
       "  </tbody>\n",
       "</table>\n",
       "<p>5 rows × 17 columns</p>\n",
       "</div>"
      ],
      "text/plain": [
       "                            askPrice  askSize  bidPrice  bidSize      Open  \\\n",
       "2017-12-31 07:37:42.198573 266.00000 59.00000 265.98999  5.00000 265.99500   \n",
       "2017-12-31 07:37:45.649633 266.00000 58.00000 265.98999  5.00000 265.99500   \n",
       "2017-12-31 07:37:49.946201 266.00000 55.00000 265.98999  5.00000 265.99500   \n",
       "2017-12-31 07:37:52.921372 266.00000 55.00000 265.98999  1.00000 265.99500   \n",
       "2017-12-31 07:37:56.170620 266.00000 50.00000 265.98999  1.00000 265.99500   \n",
       "\n",
       "                               Close      High       Low    ...         vwap  \\\n",
       "2017-12-31 07:37:42.198573 265.99500 266.00000 265.98999    ...    265.99921   \n",
       "2017-12-31 07:37:45.649633 265.99500 266.00000 265.98999    ...    265.99921   \n",
       "2017-12-31 07:37:49.946201 265.99500 266.00000 265.98999    ...    265.99918   \n",
       "2017-12-31 07:37:52.921372 265.99500 266.00000 265.98999    ...    265.99982   \n",
       "2017-12-31 07:37:56.170620 265.99500 266.00000 265.98999    ...    265.99982   \n",
       "\n",
       "                            change     liq   spread      vel  return  \\\n",
       "2017-12-31 07:37:42.198573 0.00000 0.01001 -0.00421 -0.06500 0.00004   \n",
       "2017-12-31 07:37:45.649633 0.00000 0.01001 -0.00421 -0.05499 0.00004   \n",
       "2017-12-31 07:37:49.946201 0.00000 0.01001 -0.00418 -0.05499 0.00004   \n",
       "2017-12-31 07:37:52.921372 0.00000 0.01001 -0.00482 -0.04999 0.00004   \n",
       "2017-12-31 07:37:56.170620 0.00000 0.01001 -0.00482 -0.04999 0.00004   \n",
       "\n",
       "                                  km       sma  \n",
       "2017-12-31 07:37:42.198573 265.99740 266.00049  \n",
       "2017-12-31 07:37:45.649633 265.99717 265.99949  \n",
       "2017-12-31 07:37:49.946201 265.99696 265.99849  \n",
       "2017-12-31 07:37:52.921372 265.99678 265.99749  \n",
       "2017-12-31 07:37:56.170620 265.99661 265.99666  \n",
       "\n",
       "[5 rows x 17 columns]"
      ]
     },
     "execution_count": 14,
     "metadata": {},
     "output_type": "execute_result"
    }
   ],
   "source": [
    "df_clf.tail()"
   ]
  },
  {
   "cell_type": "markdown",
   "metadata": {},
   "source": [
    "# Daily Data Analysis"
   ]
  },
  {
   "cell_type": "code",
   "execution_count": 19,
   "metadata": {
    "collapsed": true
   },
   "outputs": [],
   "source": [
    "import quandl\n",
    "import pandas as pd\n",
    "from builtins import print\n",
    "\n",
    "quandl.ApiConfig.api_key = 'BBYnpt_WS8bVDykzCkvu'"
   ]
  },
  {
   "cell_type": "markdown",
   "metadata": {},
   "source": [
    "https://github.com/quandl/quandl-python/blob/master/FOR_DEVELOPERS.md"
   ]
  },
  {
   "cell_type": "code",
   "execution_count": 83,
   "metadata": {
    "collapsed": false
   },
   "outputs": [
    {
     "data": {
      "text/html": [
       "<div>\n",
       "<style>\n",
       "    .dataframe thead tr:only-child th {\n",
       "        text-align: right;\n",
       "    }\n",
       "\n",
       "    .dataframe thead th {\n",
       "        text-align: left;\n",
       "    }\n",
       "\n",
       "    .dataframe tbody tr th {\n",
       "        vertical-align: top;\n",
       "    }\n",
       "</style>\n",
       "<table border=\"1\" class=\"dataframe\">\n",
       "  <thead>\n",
       "    <tr>\n",
       "      <th></th>\n",
       "      <th colspan=\"3\" halign=\"left\">adj_close</th>\n",
       "    </tr>\n",
       "    <tr>\n",
       "      <th>ticker</th>\n",
       "      <th>AAPL</th>\n",
       "      <th>MSFT</th>\n",
       "      <th>WMT</th>\n",
       "    </tr>\n",
       "    <tr>\n",
       "      <th>date</th>\n",
       "      <th></th>\n",
       "      <th></th>\n",
       "      <th></th>\n",
       "    </tr>\n",
       "  </thead>\n",
       "  <tbody>\n",
       "    <tr>\n",
       "      <th>2015-12-31</th>\n",
       "      <td>101.69681</td>\n",
       "      <td>52.82911</td>\n",
       "      <td>58.37977</td>\n",
       "    </tr>\n",
       "    <tr>\n",
       "      <th>2016-01-04</th>\n",
       "      <td>101.78376</td>\n",
       "      <td>52.18160</td>\n",
       "      <td>58.53214</td>\n",
       "    </tr>\n",
       "    <tr>\n",
       "      <th>2016-01-05</th>\n",
       "      <td>99.23313</td>\n",
       "      <td>52.41965</td>\n",
       "      <td>59.92259</td>\n",
       "    </tr>\n",
       "    <tr>\n",
       "      <th>2016-01-06</th>\n",
       "      <td>97.29117</td>\n",
       "      <td>51.46743</td>\n",
       "      <td>60.52258</td>\n",
       "    </tr>\n",
       "    <tr>\n",
       "      <th>2016-01-07</th>\n",
       "      <td>93.18504</td>\n",
       "      <td>49.67726</td>\n",
       "      <td>61.93208</td>\n",
       "    </tr>\n",
       "  </tbody>\n",
       "</table>\n",
       "</div>"
      ],
      "text/plain": [
       "           adj_close                  \n",
       "ticker          AAPL     MSFT      WMT\n",
       "date                                  \n",
       "2015-12-31 101.69681 52.82911 58.37977\n",
       "2016-01-04 101.78376 52.18160 58.53214\n",
       "2016-01-05  99.23313 52.41965 59.92259\n",
       "2016-01-06  97.29117 51.46743 60.52258\n",
       "2016-01-07  93.18504 49.67726 61.93208"
      ]
     },
     "execution_count": 83,
     "metadata": {},
     "output_type": "execute_result"
    }
   ],
   "source": [
    "import quandl\n",
    "quandl.ApiConfig.api_key = 'BBYnpt_WS8bVDykzCkvu'\n",
    "\n",
    "\n",
    "# get the table for daily stock prices and,\n",
    "# filter the table for selected tickers, columns within a time range\n",
    "# set paginate to True because Quandl limits tables API to 10,000 rows per call\n",
    "data = quandl.get_table('WIKI/PRICES', ticker = ['AAPL', 'MSFT', 'WMT'], \n",
    "                        qopts = { 'columns': ['ticker', 'date', 'adj_close'] }, \n",
    "                        date = { 'gte': '2015-12-31', 'lte': '2016-12-31' }, \n",
    "                        paginate=True)\n",
    "\n",
    "# create a new dataframe with 'date' column as index\n",
    "new = data.set_index('date')\n",
    "\n",
    "# use pandas pivot function to sort adj_close by tickers\n",
    "clean_data = new.pivot(columns='ticker')\n",
    "# check the head of the output\n",
    "clean_data.head()"
   ]
  },
  {
   "cell_type": "code",
   "execution_count": 125,
   "metadata": {
    "collapsed": false
   },
   "outputs": [],
   "source": [
    "data = quandl.get(['WIKI/SPY.11','WIKI/AAPL.11','WIKI/MSFT.11','WIKI/GOOGL.11','WIKI/FB.11','WIKI/AMZN.11','WIKI/NFLX.11','WIKI/NVDA.11'], start_date=\"2016-01-01\", end_date=\"2018-02-08\")"
   ]
  },
  {
   "cell_type": "code",
   "execution_count": 128,
   "metadata": {
    "collapsed": false
   },
   "outputs": [
    {
     "data": {
      "text/html": [
       "<div>\n",
       "<style>\n",
       "    .dataframe thead tr:only-child th {\n",
       "        text-align: right;\n",
       "    }\n",
       "\n",
       "    .dataframe thead th {\n",
       "        text-align: left;\n",
       "    }\n",
       "\n",
       "    .dataframe tbody tr th {\n",
       "        vertical-align: top;\n",
       "    }\n",
       "</style>\n",
       "<table border=\"1\" class=\"dataframe\">\n",
       "  <thead>\n",
       "    <tr style=\"text-align: right;\">\n",
       "      <th></th>\n",
       "      <th>WIKI/SPY - Not Found</th>\n",
       "      <th>WIKI/AAPL - Adj. Close</th>\n",
       "      <th>WIKI/MSFT - Adj. Close</th>\n",
       "      <th>WIKI/GOOGL - Adj. Close</th>\n",
       "      <th>WIKI/FB - Adj. Close</th>\n",
       "      <th>WIKI/AMZN - Adj. Close</th>\n",
       "      <th>WIKI/NFLX - Adj. Close</th>\n",
       "      <th>WIKI/NVDA - Adj. Close</th>\n",
       "    </tr>\n",
       "    <tr>\n",
       "      <th>Date</th>\n",
       "      <th></th>\n",
       "      <th></th>\n",
       "      <th></th>\n",
       "      <th></th>\n",
       "      <th></th>\n",
       "      <th></th>\n",
       "      <th></th>\n",
       "      <th></th>\n",
       "    </tr>\n",
       "  </thead>\n",
       "  <tbody>\n",
       "    <tr>\n",
       "      <th>2018-02-02</th>\n",
       "      <td>NaN</td>\n",
       "      <td>160.37000</td>\n",
       "      <td>91.78000</td>\n",
       "      <td>1119.20000</td>\n",
       "      <td>190.28000</td>\n",
       "      <td>1431.00000</td>\n",
       "      <td>267.43000</td>\n",
       "      <td>233.52000</td>\n",
       "    </tr>\n",
       "    <tr>\n",
       "      <th>2018-02-05</th>\n",
       "      <td>NaN</td>\n",
       "      <td>157.49000</td>\n",
       "      <td>89.05000</td>\n",
       "      <td>1068.76000</td>\n",
       "      <td>182.65000</td>\n",
       "      <td>1396.62000</td>\n",
       "      <td>255.59000</td>\n",
       "      <td>215.19000</td>\n",
       "    </tr>\n",
       "    <tr>\n",
       "      <th>2018-02-06</th>\n",
       "      <td>NaN</td>\n",
       "      <td>163.03000</td>\n",
       "      <td>91.33000</td>\n",
       "      <td>1084.43000</td>\n",
       "      <td>185.31000</td>\n",
       "      <td>1442.84000</td>\n",
       "      <td>265.72000</td>\n",
       "      <td>225.58000</td>\n",
       "    </tr>\n",
       "    <tr>\n",
       "      <th>2018-02-07</th>\n",
       "      <td>NaN</td>\n",
       "      <td>159.54000</td>\n",
       "      <td>89.61000</td>\n",
       "      <td>1055.41000</td>\n",
       "      <td>180.18000</td>\n",
       "      <td>1416.78000</td>\n",
       "      <td>264.56000</td>\n",
       "      <td>228.80000</td>\n",
       "    </tr>\n",
       "    <tr>\n",
       "      <th>2018-02-08</th>\n",
       "      <td>NaN</td>\n",
       "      <td>155.32000</td>\n",
       "      <td>84.89000</td>\n",
       "      <td>1005.60000</td>\n",
       "      <td>171.54990</td>\n",
       "      <td>1350.47000</td>\n",
       "      <td>250.05420</td>\n",
       "      <td>217.52000</td>\n",
       "    </tr>\n",
       "  </tbody>\n",
       "</table>\n",
       "</div>"
      ],
      "text/plain": [
       "           WIKI/SPY - Not Found  WIKI/AAPL - Adj. Close  \\\n",
       "Date                                                      \n",
       "2018-02-02                  NaN               160.37000   \n",
       "2018-02-05                  NaN               157.49000   \n",
       "2018-02-06                  NaN               163.03000   \n",
       "2018-02-07                  NaN               159.54000   \n",
       "2018-02-08                  NaN               155.32000   \n",
       "\n",
       "            WIKI/MSFT - Adj. Close  WIKI/GOOGL - Adj. Close  \\\n",
       "Date                                                          \n",
       "2018-02-02                91.78000               1119.20000   \n",
       "2018-02-05                89.05000               1068.76000   \n",
       "2018-02-06                91.33000               1084.43000   \n",
       "2018-02-07                89.61000               1055.41000   \n",
       "2018-02-08                84.89000               1005.60000   \n",
       "\n",
       "            WIKI/FB - Adj. Close  WIKI/AMZN - Adj. Close  \\\n",
       "Date                                                       \n",
       "2018-02-02             190.28000              1431.00000   \n",
       "2018-02-05             182.65000              1396.62000   \n",
       "2018-02-06             185.31000              1442.84000   \n",
       "2018-02-07             180.18000              1416.78000   \n",
       "2018-02-08             171.54990              1350.47000   \n",
       "\n",
       "            WIKI/NFLX - Adj. Close  WIKI/NVDA - Adj. Close  \n",
       "Date                                                        \n",
       "2018-02-02               267.43000               233.52000  \n",
       "2018-02-05               255.59000               215.19000  \n",
       "2018-02-06               265.72000               225.58000  \n",
       "2018-02-07               264.56000               228.80000  \n",
       "2018-02-08               250.05420               217.52000  "
      ]
     },
     "execution_count": 128,
     "metadata": {},
     "output_type": "execute_result"
    }
   ],
   "source": [
    "data.tail()"
   ]
  },
  {
   "cell_type": "code",
   "execution_count": 111,
   "metadata": {
    "collapsed": false
   },
   "outputs": [
    {
     "data": {
      "text/plain": [
       "Date\n",
       "2016-01-04   101.78376\n",
       "2016-01-05    99.23313\n",
       "2016-01-06    97.29117\n",
       "2016-01-07    93.18504\n",
       "2016-01-08    93.67778\n",
       "Name: WIKI/AAPL - Adj. Close, dtype: float64"
      ]
     },
     "execution_count": 111,
     "metadata": {},
     "output_type": "execute_result"
    }
   ],
   "source": [
    "data['WIKI/AAPL - Adj. Close'].head()"
   ]
  },
  {
   "cell_type": "markdown",
   "metadata": {},
   "source": [
    "#### SPY not available in QUANDL"
   ]
  },
  {
   "cell_type": "markdown",
   "metadata": {},
   "source": [
    "### from yahoo\n",
    "/home/octo/Downloads/IBEXPredictor/src"
   ]
  },
  {
   "cell_type": "code",
   "execution_count": 180,
   "metadata": {
    "collapsed": true
   },
   "outputs": [],
   "source": [
    "spy=pd.read_csv('/home/octo/Downloads/IBEXPredictor/src/SPY.csv')"
   ]
  },
  {
   "cell_type": "code",
   "execution_count": 181,
   "metadata": {
    "collapsed": false
   },
   "outputs": [],
   "source": [
    "aapl=pd.read_csv('/home/octo/Downloads/IBEXPredictor/src/AAPL.csv')\n",
    "amzn=pd.read_csv('/home/octo/Downloads/IBEXPredictor/src/AMZN.csv')\n",
    "fb=pd.read_csv('/home/octo/Downloads/IBEXPredictor/src/FB.csv')\n",
    "goog=pd.read_csv('/home/octo/Downloads/IBEXPredictor/src/GOOG.csv')\n",
    "nvda=pd.read_csv('/home/octo/Downloads/IBEXPredictor/src/NVDA.csv')\n",
    "msft=pd.read_csv('/home/octo/Downloads/IBEXPredictor/src/MSFT.csv')\n",
    "nflx=pd.read_csv('/home/octo/Downloads/IBEXPredictor/src/NFLX.csv')"
   ]
  },
  {
   "cell_type": "code",
   "execution_count": 207,
   "metadata": {
    "collapsed": false
   },
   "outputs": [],
   "source": [
    "spy_=spy[['Date','Adj Close']]\n",
    "aapl_=aapl[['Date','Adj Close']]\n",
    "amzn_=amzn[['Date','Adj Close']]\n",
    "fb_=fb[['Date','Adj Close']]\n",
    "goog_=goog[['Date','Adj Close']]\n",
    "nvda_=nvda[['Date','Adj Close']]\n",
    "msft_=msft[['Date','Adj Close']]\n",
    "nflx_=nflx[['Date','Adj Close']]"
   ]
  },
  {
   "cell_type": "code",
   "execution_count": 223,
   "metadata": {
    "collapsed": false
   },
   "outputs": [],
   "source": [
    "#result=pd.merge(spy_,aapl_, on='Date', how='inner')"
   ]
  },
  {
   "cell_type": "code",
   "execution_count": 232,
   "metadata": {
    "collapsed": true
   },
   "outputs": [],
   "source": [
    "result=spy_.merge(aapl_, on='Date', how='inner').merge(amzn_, on='Date', how='inner').merge(fb_, on='Date', how='inner').merge(goog_, on='Date', how='inner').merge(nvda_, on='Date', how='inner').merge(msft_, on='Date', how='inner').merge(nflx_, on='Date', how='inner')"
   ]
  },
  {
   "cell_type": "code",
   "execution_count": 237,
   "metadata": {
    "collapsed": true
   },
   "outputs": [],
   "source": [
    "result.columns = ['Date', 'SPY','AAPL','AMZN','FB','GOOG','NVDA','MSFT','NFLX']"
   ]
  },
  {
   "cell_type": "code",
   "execution_count": 244,
   "metadata": {
    "collapsed": false
   },
   "outputs": [],
   "source": [
    "result=result.set_index('Date')"
   ]
  },
  {
   "cell_type": "code",
   "execution_count": 227,
   "metadata": {
    "collapsed": false
   },
   "outputs": [],
   "source": [
    "#result = pd.concat([spy_,aapl_,amzn_,fb_,goog_,nvda_,msft_,nflx_], axis=1, join_axes=[spy_.Date])"
   ]
  },
  {
   "cell_type": "code",
   "execution_count": 226,
   "metadata": {
    "collapsed": false
   },
   "outputs": [],
   "source": [
    "#result = pd.concat([spy_,aapl_,amzn_,fb_,goog_,nvda_,msft_,nflx_], axis=1)"
   ]
  },
  {
   "cell_type": "code",
   "execution_count": 245,
   "metadata": {
    "collapsed": false
   },
   "outputs": [],
   "source": [
    "result=result.dropna()"
   ]
  },
  {
   "cell_type": "code",
   "execution_count": 246,
   "metadata": {
    "collapsed": false
   },
   "outputs": [
    {
     "data": {
      "text/html": [
       "<div>\n",
       "<style>\n",
       "    .dataframe thead tr:only-child th {\n",
       "        text-align: right;\n",
       "    }\n",
       "\n",
       "    .dataframe thead th {\n",
       "        text-align: left;\n",
       "    }\n",
       "\n",
       "    .dataframe tbody tr th {\n",
       "        vertical-align: top;\n",
       "    }\n",
       "</style>\n",
       "<table border=\"1\" class=\"dataframe\">\n",
       "  <thead>\n",
       "    <tr style=\"text-align: right;\">\n",
       "      <th></th>\n",
       "      <th>SPY</th>\n",
       "      <th>AAPL</th>\n",
       "      <th>AMZN</th>\n",
       "      <th>FB</th>\n",
       "      <th>GOOG</th>\n",
       "      <th>NVDA</th>\n",
       "      <th>MSFT</th>\n",
       "      <th>NFLX</th>\n",
       "    </tr>\n",
       "    <tr>\n",
       "      <th>Date</th>\n",
       "      <th></th>\n",
       "      <th></th>\n",
       "      <th></th>\n",
       "      <th></th>\n",
       "      <th></th>\n",
       "      <th></th>\n",
       "      <th></th>\n",
       "      <th></th>\n",
       "    </tr>\n",
       "  </thead>\n",
       "  <tbody>\n",
       "    <tr>\n",
       "      <th>2018-02-02</th>\n",
       "      <td>275.450012</td>\n",
       "      <td>159.848282</td>\n",
       "      <td>1429.94995</td>\n",
       "      <td>190.28000</td>\n",
       "      <td>1111.90002</td>\n",
       "      <td>233.52000</td>\n",
       "      <td>91.78000</td>\n",
       "      <td>267.42999</td>\n",
       "    </tr>\n",
       "    <tr>\n",
       "      <th>2018-02-05</th>\n",
       "      <td>263.929993</td>\n",
       "      <td>155.854568</td>\n",
       "      <td>1390.00000</td>\n",
       "      <td>181.26000</td>\n",
       "      <td>1055.80005</td>\n",
       "      <td>213.70000</td>\n",
       "      <td>88.00000</td>\n",
       "      <td>254.26000</td>\n",
       "    </tr>\n",
       "    <tr>\n",
       "      <th>2018-02-06</th>\n",
       "      <td>269.130005</td>\n",
       "      <td>162.368011</td>\n",
       "      <td>1442.83997</td>\n",
       "      <td>185.31000</td>\n",
       "      <td>1080.59998</td>\n",
       "      <td>225.58000</td>\n",
       "      <td>91.33000</td>\n",
       "      <td>265.72000</td>\n",
       "    </tr>\n",
       "    <tr>\n",
       "      <th>2018-02-07</th>\n",
       "      <td>267.670013</td>\n",
       "      <td>158.892166</td>\n",
       "      <td>1416.78003</td>\n",
       "      <td>180.17999</td>\n",
       "      <td>1048.57996</td>\n",
       "      <td>228.80000</td>\n",
       "      <td>89.61000</td>\n",
       "      <td>264.56000</td>\n",
       "    </tr>\n",
       "    <tr>\n",
       "      <th>2018-02-08</th>\n",
       "      <td>257.630005</td>\n",
       "      <td>154.520004</td>\n",
       "      <td>1350.50000</td>\n",
       "      <td>171.58000</td>\n",
       "      <td>1001.52002</td>\n",
       "      <td>217.52000</td>\n",
       "      <td>85.01000</td>\n",
       "      <td>250.10001</td>\n",
       "    </tr>\n",
       "  </tbody>\n",
       "</table>\n",
       "</div>"
      ],
      "text/plain": [
       "                   SPY        AAPL       AMZN        FB       GOOG      NVDA  \\\n",
       "Date                                                                           \n",
       "2018-02-02  275.450012  159.848282 1429.94995 190.28000 1111.90002 233.52000   \n",
       "2018-02-05  263.929993  155.854568 1390.00000 181.26000 1055.80005 213.70000   \n",
       "2018-02-06  269.130005  162.368011 1442.83997 185.31000 1080.59998 225.58000   \n",
       "2018-02-07  267.670013  158.892166 1416.78003 180.17999 1048.57996 228.80000   \n",
       "2018-02-08  257.630005  154.520004 1350.50000 171.58000 1001.52002 217.52000   \n",
       "\n",
       "               MSFT      NFLX  \n",
       "Date                           \n",
       "2018-02-02 91.78000 267.42999  \n",
       "2018-02-05 88.00000 254.26000  \n",
       "2018-02-06 91.33000 265.72000  \n",
       "2018-02-07 89.61000 264.56000  \n",
       "2018-02-08 85.01000 250.10001  "
      ]
     },
     "execution_count": 246,
     "metadata": {},
     "output_type": "execute_result"
    }
   ],
   "source": [
    "result.tail()"
   ]
  },
  {
   "cell_type": "markdown",
   "metadata": {},
   "source": [
    "http://ahmedas91.github.io/blog/2016/07/01/predicting-us-equities-trends-using-random-forests/"
   ]
  },
  {
   "cell_type": "markdown",
   "metadata": {
    "collapsed": true
   },
   "source": [
    "### Portfolio"
   ]
  },
  {
   "cell_type": "markdown",
   "metadata": {},
   "source": [
    "    https://medium.com/python-data/effient-frontier-in-python-34b0c3043314\n",
    "    https://medium.com/python-data/efficient-frontier-portfolio-optimization-with-python-part-2-2-2fe23413ad94"
   ]
  },
  {
   "cell_type": "markdown",
   "metadata": {},
   "source": [
    " http://www.turingfinance.com/computational-investing-with-python-week-one/"
   ]
  },
  {
   "cell_type": "code",
   "execution_count": 16,
   "metadata": {
    "collapsed": false
   },
   "outputs": [
    {
     "ename": "ConnectionError",
     "evalue": "HTTPConnectionPool(host='ichart.finance.yahoo.com', port=80): Max retries exceeded with url: /table.csv?s=AAPL&a=00&b=01&c=2011&d=00&e=01&f=2012&g=d&ignore=.csv (Caused by NewConnectionError('<requests.packages.urllib3.connection.HTTPConnection object at 0x7f256b3c1d68>: Failed to establish a new connection: [Errno -2] Name or service not known',))",
     "output_type": "error",
     "traceback": [
      "\u001b[0;31m---------------------------------------------------------------------------\u001b[0m",
      "\u001b[0;31mgaierror\u001b[0m                                  Traceback (most recent call last)",
      "\u001b[0;32m/home/octo/anaconda2/envs/carnd-term1/lib/python3.5/site-packages/requests/packages/urllib3/connection.py\u001b[0m in \u001b[0;36m_new_conn\u001b[0;34m(self)\u001b[0m\n\u001b[1;32m    140\u001b[0m             conn = connection.create_connection(\n\u001b[0;32m--> 141\u001b[0;31m                 (self.host, self.port), self.timeout, **extra_kw)\n\u001b[0m\u001b[1;32m    142\u001b[0m \u001b[0;34m\u001b[0m\u001b[0m\n",
      "\u001b[0;32m/home/octo/anaconda2/envs/carnd-term1/lib/python3.5/site-packages/requests/packages/urllib3/util/connection.py\u001b[0m in \u001b[0;36mcreate_connection\u001b[0;34m(address, timeout, source_address, socket_options)\u001b[0m\n\u001b[1;32m     59\u001b[0m \u001b[0;34m\u001b[0m\u001b[0m\n\u001b[0;32m---> 60\u001b[0;31m     \u001b[0;32mfor\u001b[0m \u001b[0mres\u001b[0m \u001b[0;32min\u001b[0m \u001b[0msocket\u001b[0m\u001b[0;34m.\u001b[0m\u001b[0mgetaddrinfo\u001b[0m\u001b[0;34m(\u001b[0m\u001b[0mhost\u001b[0m\u001b[0;34m,\u001b[0m \u001b[0mport\u001b[0m\u001b[0;34m,\u001b[0m \u001b[0mfamily\u001b[0m\u001b[0;34m,\u001b[0m \u001b[0msocket\u001b[0m\u001b[0;34m.\u001b[0m\u001b[0mSOCK_STREAM\u001b[0m\u001b[0;34m)\u001b[0m\u001b[0;34m:\u001b[0m\u001b[0;34m\u001b[0m\u001b[0m\n\u001b[0m\u001b[1;32m     61\u001b[0m         \u001b[0maf\u001b[0m\u001b[0;34m,\u001b[0m \u001b[0msocktype\u001b[0m\u001b[0;34m,\u001b[0m \u001b[0mproto\u001b[0m\u001b[0;34m,\u001b[0m \u001b[0mcanonname\u001b[0m\u001b[0;34m,\u001b[0m \u001b[0msa\u001b[0m \u001b[0;34m=\u001b[0m \u001b[0mres\u001b[0m\u001b[0;34m\u001b[0m\u001b[0m\n",
      "\u001b[0;32m/home/octo/anaconda2/envs/carnd-term1/lib/python3.5/socket.py\u001b[0m in \u001b[0;36mgetaddrinfo\u001b[0;34m(host, port, family, type, proto, flags)\u001b[0m\n\u001b[1;32m    731\u001b[0m     \u001b[0maddrlist\u001b[0m \u001b[0;34m=\u001b[0m \u001b[0;34m[\u001b[0m\u001b[0;34m]\u001b[0m\u001b[0;34m\u001b[0m\u001b[0m\n\u001b[0;32m--> 732\u001b[0;31m     \u001b[0;32mfor\u001b[0m \u001b[0mres\u001b[0m \u001b[0;32min\u001b[0m \u001b[0m_socket\u001b[0m\u001b[0;34m.\u001b[0m\u001b[0mgetaddrinfo\u001b[0m\u001b[0;34m(\u001b[0m\u001b[0mhost\u001b[0m\u001b[0;34m,\u001b[0m \u001b[0mport\u001b[0m\u001b[0;34m,\u001b[0m \u001b[0mfamily\u001b[0m\u001b[0;34m,\u001b[0m \u001b[0mtype\u001b[0m\u001b[0;34m,\u001b[0m \u001b[0mproto\u001b[0m\u001b[0;34m,\u001b[0m \u001b[0mflags\u001b[0m\u001b[0;34m)\u001b[0m\u001b[0;34m:\u001b[0m\u001b[0;34m\u001b[0m\u001b[0m\n\u001b[0m\u001b[1;32m    733\u001b[0m         \u001b[0maf\u001b[0m\u001b[0;34m,\u001b[0m \u001b[0msocktype\u001b[0m\u001b[0;34m,\u001b[0m \u001b[0mproto\u001b[0m\u001b[0;34m,\u001b[0m \u001b[0mcanonname\u001b[0m\u001b[0;34m,\u001b[0m \u001b[0msa\u001b[0m \u001b[0;34m=\u001b[0m \u001b[0mres\u001b[0m\u001b[0;34m\u001b[0m\u001b[0m\n",
      "\u001b[0;31mgaierror\u001b[0m: [Errno -2] Name or service not known",
      "\nDuring handling of the above exception, another exception occurred:\n",
      "\u001b[0;31mNewConnectionError\u001b[0m                        Traceback (most recent call last)",
      "\u001b[0;32m/home/octo/anaconda2/envs/carnd-term1/lib/python3.5/site-packages/requests/packages/urllib3/connectionpool.py\u001b[0m in \u001b[0;36murlopen\u001b[0;34m(self, method, url, body, headers, retries, redirect, assert_same_host, timeout, pool_timeout, release_conn, chunked, body_pos, **response_kw)\u001b[0m\n\u001b[1;32m    599\u001b[0m                                                   \u001b[0mbody\u001b[0m\u001b[0;34m=\u001b[0m\u001b[0mbody\u001b[0m\u001b[0;34m,\u001b[0m \u001b[0mheaders\u001b[0m\u001b[0;34m=\u001b[0m\u001b[0mheaders\u001b[0m\u001b[0;34m,\u001b[0m\u001b[0;34m\u001b[0m\u001b[0m\n\u001b[0;32m--> 600\u001b[0;31m                                                   chunked=chunked)\n\u001b[0m\u001b[1;32m    601\u001b[0m \u001b[0;34m\u001b[0m\u001b[0m\n",
      "\u001b[0;32m/home/octo/anaconda2/envs/carnd-term1/lib/python3.5/site-packages/requests/packages/urllib3/connectionpool.py\u001b[0m in \u001b[0;36m_make_request\u001b[0;34m(self, conn, method, url, timeout, chunked, **httplib_request_kw)\u001b[0m\n\u001b[1;32m    355\u001b[0m         \u001b[0;32melse\u001b[0m\u001b[0;34m:\u001b[0m\u001b[0;34m\u001b[0m\u001b[0m\n\u001b[0;32m--> 356\u001b[0;31m             \u001b[0mconn\u001b[0m\u001b[0;34m.\u001b[0m\u001b[0mrequest\u001b[0m\u001b[0;34m(\u001b[0m\u001b[0mmethod\u001b[0m\u001b[0;34m,\u001b[0m \u001b[0murl\u001b[0m\u001b[0;34m,\u001b[0m \u001b[0;34m**\u001b[0m\u001b[0mhttplib_request_kw\u001b[0m\u001b[0;34m)\u001b[0m\u001b[0;34m\u001b[0m\u001b[0m\n\u001b[0m\u001b[1;32m    357\u001b[0m \u001b[0;34m\u001b[0m\u001b[0m\n",
      "\u001b[0;32m/home/octo/anaconda2/envs/carnd-term1/lib/python3.5/http/client.py\u001b[0m in \u001b[0;36mrequest\u001b[0;34m(self, method, url, body, headers)\u001b[0m\n\u001b[1;32m   1105\u001b[0m         \u001b[0;34m\"\"\"Send a complete request to the server.\"\"\"\u001b[0m\u001b[0;34m\u001b[0m\u001b[0m\n\u001b[0;32m-> 1106\u001b[0;31m         \u001b[0mself\u001b[0m\u001b[0;34m.\u001b[0m\u001b[0m_send_request\u001b[0m\u001b[0;34m(\u001b[0m\u001b[0mmethod\u001b[0m\u001b[0;34m,\u001b[0m \u001b[0murl\u001b[0m\u001b[0;34m,\u001b[0m \u001b[0mbody\u001b[0m\u001b[0;34m,\u001b[0m \u001b[0mheaders\u001b[0m\u001b[0;34m)\u001b[0m\u001b[0;34m\u001b[0m\u001b[0m\n\u001b[0m\u001b[1;32m   1107\u001b[0m \u001b[0;34m\u001b[0m\u001b[0m\n",
      "\u001b[0;32m/home/octo/anaconda2/envs/carnd-term1/lib/python3.5/http/client.py\u001b[0m in \u001b[0;36m_send_request\u001b[0;34m(self, method, url, body, headers)\u001b[0m\n\u001b[1;32m   1150\u001b[0m             \u001b[0mbody\u001b[0m \u001b[0;34m=\u001b[0m \u001b[0m_encode\u001b[0m\u001b[0;34m(\u001b[0m\u001b[0mbody\u001b[0m\u001b[0;34m,\u001b[0m \u001b[0;34m'body'\u001b[0m\u001b[0;34m)\u001b[0m\u001b[0;34m\u001b[0m\u001b[0m\n\u001b[0;32m-> 1151\u001b[0;31m         \u001b[0mself\u001b[0m\u001b[0;34m.\u001b[0m\u001b[0mendheaders\u001b[0m\u001b[0;34m(\u001b[0m\u001b[0mbody\u001b[0m\u001b[0;34m)\u001b[0m\u001b[0;34m\u001b[0m\u001b[0m\n\u001b[0m\u001b[1;32m   1152\u001b[0m \u001b[0;34m\u001b[0m\u001b[0m\n",
      "\u001b[0;32m/home/octo/anaconda2/envs/carnd-term1/lib/python3.5/http/client.py\u001b[0m in \u001b[0;36mendheaders\u001b[0;34m(self, message_body)\u001b[0m\n\u001b[1;32m   1101\u001b[0m             \u001b[0;32mraise\u001b[0m \u001b[0mCannotSendHeader\u001b[0m\u001b[0;34m(\u001b[0m\u001b[0;34m)\u001b[0m\u001b[0;34m\u001b[0m\u001b[0m\n\u001b[0;32m-> 1102\u001b[0;31m         \u001b[0mself\u001b[0m\u001b[0;34m.\u001b[0m\u001b[0m_send_output\u001b[0m\u001b[0;34m(\u001b[0m\u001b[0mmessage_body\u001b[0m\u001b[0;34m)\u001b[0m\u001b[0;34m\u001b[0m\u001b[0m\n\u001b[0m\u001b[1;32m   1103\u001b[0m \u001b[0;34m\u001b[0m\u001b[0m\n",
      "\u001b[0;32m/home/octo/anaconda2/envs/carnd-term1/lib/python3.5/http/client.py\u001b[0m in \u001b[0;36m_send_output\u001b[0;34m(self, message_body)\u001b[0m\n\u001b[1;32m    933\u001b[0m \u001b[0;34m\u001b[0m\u001b[0m\n\u001b[0;32m--> 934\u001b[0;31m         \u001b[0mself\u001b[0m\u001b[0;34m.\u001b[0m\u001b[0msend\u001b[0m\u001b[0;34m(\u001b[0m\u001b[0mmsg\u001b[0m\u001b[0;34m)\u001b[0m\u001b[0;34m\u001b[0m\u001b[0m\n\u001b[0m\u001b[1;32m    935\u001b[0m         \u001b[0;32mif\u001b[0m \u001b[0mmessage_body\u001b[0m \u001b[0;32mis\u001b[0m \u001b[0;32mnot\u001b[0m \u001b[0;32mNone\u001b[0m\u001b[0;34m:\u001b[0m\u001b[0;34m\u001b[0m\u001b[0m\n",
      "\u001b[0;32m/home/octo/anaconda2/envs/carnd-term1/lib/python3.5/http/client.py\u001b[0m in \u001b[0;36msend\u001b[0;34m(self, data)\u001b[0m\n\u001b[1;32m    876\u001b[0m             \u001b[0;32mif\u001b[0m \u001b[0mself\u001b[0m\u001b[0;34m.\u001b[0m\u001b[0mauto_open\u001b[0m\u001b[0;34m:\u001b[0m\u001b[0;34m\u001b[0m\u001b[0m\n\u001b[0;32m--> 877\u001b[0;31m                 \u001b[0mself\u001b[0m\u001b[0;34m.\u001b[0m\u001b[0mconnect\u001b[0m\u001b[0;34m(\u001b[0m\u001b[0;34m)\u001b[0m\u001b[0;34m\u001b[0m\u001b[0m\n\u001b[0m\u001b[1;32m    878\u001b[0m             \u001b[0;32melse\u001b[0m\u001b[0;34m:\u001b[0m\u001b[0;34m\u001b[0m\u001b[0m\n",
      "\u001b[0;32m/home/octo/anaconda2/envs/carnd-term1/lib/python3.5/site-packages/requests/packages/urllib3/connection.py\u001b[0m in \u001b[0;36mconnect\u001b[0;34m(self)\u001b[0m\n\u001b[1;32m    165\u001b[0m     \u001b[0;32mdef\u001b[0m \u001b[0mconnect\u001b[0m\u001b[0;34m(\u001b[0m\u001b[0mself\u001b[0m\u001b[0;34m)\u001b[0m\u001b[0;34m:\u001b[0m\u001b[0;34m\u001b[0m\u001b[0m\n\u001b[0;32m--> 166\u001b[0;31m         \u001b[0mconn\u001b[0m \u001b[0;34m=\u001b[0m \u001b[0mself\u001b[0m\u001b[0;34m.\u001b[0m\u001b[0m_new_conn\u001b[0m\u001b[0;34m(\u001b[0m\u001b[0;34m)\u001b[0m\u001b[0;34m\u001b[0m\u001b[0m\n\u001b[0m\u001b[1;32m    167\u001b[0m         \u001b[0mself\u001b[0m\u001b[0;34m.\u001b[0m\u001b[0m_prepare_conn\u001b[0m\u001b[0;34m(\u001b[0m\u001b[0mconn\u001b[0m\u001b[0;34m)\u001b[0m\u001b[0;34m\u001b[0m\u001b[0m\n",
      "\u001b[0;32m/home/octo/anaconda2/envs/carnd-term1/lib/python3.5/site-packages/requests/packages/urllib3/connection.py\u001b[0m in \u001b[0;36m_new_conn\u001b[0;34m(self)\u001b[0m\n\u001b[1;32m    149\u001b[0m             raise NewConnectionError(\n\u001b[0;32m--> 150\u001b[0;31m                 self, \"Failed to establish a new connection: %s\" % e)\n\u001b[0m\u001b[1;32m    151\u001b[0m \u001b[0;34m\u001b[0m\u001b[0m\n",
      "\u001b[0;31mNewConnectionError\u001b[0m: <requests.packages.urllib3.connection.HTTPConnection object at 0x7f256b3c1d68>: Failed to establish a new connection: [Errno -2] Name or service not known",
      "\nDuring handling of the above exception, another exception occurred:\n",
      "\u001b[0;31mMaxRetryError\u001b[0m                             Traceback (most recent call last)",
      "\u001b[0;32m/home/octo/anaconda2/envs/carnd-term1/lib/python3.5/site-packages/requests/adapters.py\u001b[0m in \u001b[0;36msend\u001b[0;34m(self, request, stream, timeout, verify, cert, proxies)\u001b[0m\n\u001b[1;32m    422\u001b[0m                     \u001b[0mretries\u001b[0m\u001b[0;34m=\u001b[0m\u001b[0mself\u001b[0m\u001b[0;34m.\u001b[0m\u001b[0mmax_retries\u001b[0m\u001b[0;34m,\u001b[0m\u001b[0;34m\u001b[0m\u001b[0m\n\u001b[0;32m--> 423\u001b[0;31m                     \u001b[0mtimeout\u001b[0m\u001b[0;34m=\u001b[0m\u001b[0mtimeout\u001b[0m\u001b[0;34m\u001b[0m\u001b[0m\n\u001b[0m\u001b[1;32m    424\u001b[0m                 )\n",
      "\u001b[0;32m/home/octo/anaconda2/envs/carnd-term1/lib/python3.5/site-packages/requests/packages/urllib3/connectionpool.py\u001b[0m in \u001b[0;36murlopen\u001b[0;34m(self, method, url, body, headers, retries, redirect, assert_same_host, timeout, pool_timeout, release_conn, chunked, body_pos, **response_kw)\u001b[0m\n\u001b[1;32m    648\u001b[0m             retries = retries.increment(method, url, error=e, _pool=self,\n\u001b[0;32m--> 649\u001b[0;31m                                         _stacktrace=sys.exc_info()[2])\n\u001b[0m\u001b[1;32m    650\u001b[0m             \u001b[0mretries\u001b[0m\u001b[0;34m.\u001b[0m\u001b[0msleep\u001b[0m\u001b[0;34m(\u001b[0m\u001b[0;34m)\u001b[0m\u001b[0;34m\u001b[0m\u001b[0m\n",
      "\u001b[0;32m/home/octo/anaconda2/envs/carnd-term1/lib/python3.5/site-packages/requests/packages/urllib3/util/retry.py\u001b[0m in \u001b[0;36mincrement\u001b[0;34m(self, method, url, response, error, _pool, _stacktrace)\u001b[0m\n\u001b[1;32m    375\u001b[0m         \u001b[0;32mif\u001b[0m \u001b[0mnew_retry\u001b[0m\u001b[0;34m.\u001b[0m\u001b[0mis_exhausted\u001b[0m\u001b[0;34m(\u001b[0m\u001b[0;34m)\u001b[0m\u001b[0;34m:\u001b[0m\u001b[0;34m\u001b[0m\u001b[0m\n\u001b[0;32m--> 376\u001b[0;31m             \u001b[0;32mraise\u001b[0m \u001b[0mMaxRetryError\u001b[0m\u001b[0;34m(\u001b[0m\u001b[0m_pool\u001b[0m\u001b[0;34m,\u001b[0m \u001b[0murl\u001b[0m\u001b[0;34m,\u001b[0m \u001b[0merror\u001b[0m \u001b[0;32mor\u001b[0m \u001b[0mResponseError\u001b[0m\u001b[0;34m(\u001b[0m\u001b[0mcause\u001b[0m\u001b[0;34m)\u001b[0m\u001b[0;34m)\u001b[0m\u001b[0;34m\u001b[0m\u001b[0m\n\u001b[0m\u001b[1;32m    377\u001b[0m \u001b[0;34m\u001b[0m\u001b[0m\n",
      "\u001b[0;31mMaxRetryError\u001b[0m: HTTPConnectionPool(host='ichart.finance.yahoo.com', port=80): Max retries exceeded with url: /table.csv?s=AAPL&a=00&b=01&c=2011&d=00&e=01&f=2012&g=d&ignore=.csv (Caused by NewConnectionError('<requests.packages.urllib3.connection.HTTPConnection object at 0x7f256b3c1d68>: Failed to establish a new connection: [Errno -2] Name or service not known',))",
      "\nDuring handling of the above exception, another exception occurred:\n",
      "\u001b[0;31mConnectionError\u001b[0m                           Traceback (most recent call last)",
      "\u001b[0;32m<ipython-input-16-456717b35ee8>\u001b[0m in \u001b[0;36m<module>\u001b[0;34m()\u001b[0m\n\u001b[1;32m     16\u001b[0m \u001b[0murl\u001b[0m \u001b[0;34m=\u001b[0m \u001b[0;34m'?'\u001b[0m\u001b[0;34m.\u001b[0m\u001b[0mjoin\u001b[0m\u001b[0;34m(\u001b[0m\u001b[0;34m[\u001b[0m\u001b[0murl\u001b[0m\u001b[0;34m,\u001b[0m \u001b[0mget_params\u001b[0m\u001b[0;34m]\u001b[0m\u001b[0;34m)\u001b[0m\u001b[0;34m\u001b[0m\u001b[0m\n\u001b[1;32m     17\u001b[0m \u001b[0;32mfor\u001b[0m \u001b[0mt\u001b[0m \u001b[0;32min\u001b[0m \u001b[0mtickers\u001b[0m\u001b[0;34m:\u001b[0m\u001b[0;34m\u001b[0m\u001b[0m\n\u001b[0;32m---> 18\u001b[0;31m     \u001b[0mr\u001b[0m \u001b[0;34m=\u001b[0m \u001b[0mrequests\u001b[0m\u001b[0;34m.\u001b[0m\u001b[0mget\u001b[0m\u001b[0;34m(\u001b[0m\u001b[0murl\u001b[0m \u001b[0;34m%\u001b[0m \u001b[0;34m{\u001b[0m\u001b[0;34m't'\u001b[0m\u001b[0;34m:\u001b[0m \u001b[0mt\u001b[0m\u001b[0;34m}\u001b[0m\u001b[0;34m)\u001b[0m\u001b[0;34m\u001b[0m\u001b[0m\n\u001b[0m\u001b[1;32m     19\u001b[0m     \u001b[0;32mif\u001b[0m \u001b[0mr\u001b[0m\u001b[0;34m.\u001b[0m\u001b[0mstatus_code\u001b[0m \u001b[0;34m!=\u001b[0m \u001b[0;36m200\u001b[0m\u001b[0;34m:\u001b[0m\u001b[0;34m\u001b[0m\u001b[0m\n\u001b[1;32m     20\u001b[0m         \u001b[0;32mcontinue\u001b[0m\u001b[0;34m\u001b[0m\u001b[0m\n",
      "\u001b[0;32m/home/octo/anaconda2/envs/carnd-term1/lib/python3.5/site-packages/requests/api.py\u001b[0m in \u001b[0;36mget\u001b[0;34m(url, params, **kwargs)\u001b[0m\n\u001b[1;32m     68\u001b[0m \u001b[0;34m\u001b[0m\u001b[0m\n\u001b[1;32m     69\u001b[0m     \u001b[0mkwargs\u001b[0m\u001b[0;34m.\u001b[0m\u001b[0msetdefault\u001b[0m\u001b[0;34m(\u001b[0m\u001b[0;34m'allow_redirects'\u001b[0m\u001b[0;34m,\u001b[0m \u001b[0;32mTrue\u001b[0m\u001b[0;34m)\u001b[0m\u001b[0;34m\u001b[0m\u001b[0m\n\u001b[0;32m---> 70\u001b[0;31m     \u001b[0;32mreturn\u001b[0m \u001b[0mrequest\u001b[0m\u001b[0;34m(\u001b[0m\u001b[0;34m'get'\u001b[0m\u001b[0;34m,\u001b[0m \u001b[0murl\u001b[0m\u001b[0;34m,\u001b[0m \u001b[0mparams\u001b[0m\u001b[0;34m=\u001b[0m\u001b[0mparams\u001b[0m\u001b[0;34m,\u001b[0m \u001b[0;34m**\u001b[0m\u001b[0mkwargs\u001b[0m\u001b[0;34m)\u001b[0m\u001b[0;34m\u001b[0m\u001b[0m\n\u001b[0m\u001b[1;32m     71\u001b[0m \u001b[0;34m\u001b[0m\u001b[0m\n\u001b[1;32m     72\u001b[0m \u001b[0;34m\u001b[0m\u001b[0m\n",
      "\u001b[0;32m/home/octo/anaconda2/envs/carnd-term1/lib/python3.5/site-packages/requests/api.py\u001b[0m in \u001b[0;36mrequest\u001b[0;34m(method, url, **kwargs)\u001b[0m\n\u001b[1;32m     54\u001b[0m     \u001b[0;31m# cases, and look like a memory leak in others.\u001b[0m\u001b[0;34m\u001b[0m\u001b[0;34m\u001b[0m\u001b[0m\n\u001b[1;32m     55\u001b[0m     \u001b[0;32mwith\u001b[0m \u001b[0msessions\u001b[0m\u001b[0;34m.\u001b[0m\u001b[0mSession\u001b[0m\u001b[0;34m(\u001b[0m\u001b[0;34m)\u001b[0m \u001b[0;32mas\u001b[0m \u001b[0msession\u001b[0m\u001b[0;34m:\u001b[0m\u001b[0;34m\u001b[0m\u001b[0m\n\u001b[0;32m---> 56\u001b[0;31m         \u001b[0;32mreturn\u001b[0m \u001b[0msession\u001b[0m\u001b[0;34m.\u001b[0m\u001b[0mrequest\u001b[0m\u001b[0;34m(\u001b[0m\u001b[0mmethod\u001b[0m\u001b[0;34m=\u001b[0m\u001b[0mmethod\u001b[0m\u001b[0;34m,\u001b[0m \u001b[0murl\u001b[0m\u001b[0;34m=\u001b[0m\u001b[0murl\u001b[0m\u001b[0;34m,\u001b[0m \u001b[0;34m**\u001b[0m\u001b[0mkwargs\u001b[0m\u001b[0;34m)\u001b[0m\u001b[0;34m\u001b[0m\u001b[0m\n\u001b[0m\u001b[1;32m     57\u001b[0m \u001b[0;34m\u001b[0m\u001b[0m\n\u001b[1;32m     58\u001b[0m \u001b[0;34m\u001b[0m\u001b[0m\n",
      "\u001b[0;32m/home/octo/anaconda2/envs/carnd-term1/lib/python3.5/site-packages/requests/sessions.py\u001b[0m in \u001b[0;36mrequest\u001b[0;34m(self, method, url, params, data, headers, cookies, files, auth, timeout, allow_redirects, proxies, hooks, stream, verify, cert, json)\u001b[0m\n\u001b[1;32m    486\u001b[0m         }\n\u001b[1;32m    487\u001b[0m         \u001b[0msend_kwargs\u001b[0m\u001b[0;34m.\u001b[0m\u001b[0mupdate\u001b[0m\u001b[0;34m(\u001b[0m\u001b[0msettings\u001b[0m\u001b[0;34m)\u001b[0m\u001b[0;34m\u001b[0m\u001b[0m\n\u001b[0;32m--> 488\u001b[0;31m         \u001b[0mresp\u001b[0m \u001b[0;34m=\u001b[0m \u001b[0mself\u001b[0m\u001b[0;34m.\u001b[0m\u001b[0msend\u001b[0m\u001b[0;34m(\u001b[0m\u001b[0mprep\u001b[0m\u001b[0;34m,\u001b[0m \u001b[0;34m**\u001b[0m\u001b[0msend_kwargs\u001b[0m\u001b[0;34m)\u001b[0m\u001b[0;34m\u001b[0m\u001b[0m\n\u001b[0m\u001b[1;32m    489\u001b[0m \u001b[0;34m\u001b[0m\u001b[0m\n\u001b[1;32m    490\u001b[0m         \u001b[0;32mreturn\u001b[0m \u001b[0mresp\u001b[0m\u001b[0;34m\u001b[0m\u001b[0m\n",
      "\u001b[0;32m/home/octo/anaconda2/envs/carnd-term1/lib/python3.5/site-packages/requests/sessions.py\u001b[0m in \u001b[0;36msend\u001b[0;34m(self, request, **kwargs)\u001b[0m\n\u001b[1;32m    607\u001b[0m \u001b[0;34m\u001b[0m\u001b[0m\n\u001b[1;32m    608\u001b[0m         \u001b[0;31m# Send the request\u001b[0m\u001b[0;34m\u001b[0m\u001b[0;34m\u001b[0m\u001b[0m\n\u001b[0;32m--> 609\u001b[0;31m         \u001b[0mr\u001b[0m \u001b[0;34m=\u001b[0m \u001b[0madapter\u001b[0m\u001b[0;34m.\u001b[0m\u001b[0msend\u001b[0m\u001b[0;34m(\u001b[0m\u001b[0mrequest\u001b[0m\u001b[0;34m,\u001b[0m \u001b[0;34m**\u001b[0m\u001b[0mkwargs\u001b[0m\u001b[0;34m)\u001b[0m\u001b[0;34m\u001b[0m\u001b[0m\n\u001b[0m\u001b[1;32m    610\u001b[0m \u001b[0;34m\u001b[0m\u001b[0m\n\u001b[1;32m    611\u001b[0m         \u001b[0;31m# Total elapsed time of the request (approximately)\u001b[0m\u001b[0;34m\u001b[0m\u001b[0;34m\u001b[0m\u001b[0m\n",
      "\u001b[0;32m/home/octo/anaconda2/envs/carnd-term1/lib/python3.5/site-packages/requests/adapters.py\u001b[0m in \u001b[0;36msend\u001b[0;34m(self, request, stream, timeout, verify, cert, proxies)\u001b[0m\n\u001b[1;32m    485\u001b[0m                 \u001b[0;32mraise\u001b[0m \u001b[0mProxyError\u001b[0m\u001b[0;34m(\u001b[0m\u001b[0me\u001b[0m\u001b[0;34m,\u001b[0m \u001b[0mrequest\u001b[0m\u001b[0;34m=\u001b[0m\u001b[0mrequest\u001b[0m\u001b[0;34m)\u001b[0m\u001b[0;34m\u001b[0m\u001b[0m\n\u001b[1;32m    486\u001b[0m \u001b[0;34m\u001b[0m\u001b[0m\n\u001b[0;32m--> 487\u001b[0;31m             \u001b[0;32mraise\u001b[0m \u001b[0mConnectionError\u001b[0m\u001b[0;34m(\u001b[0m\u001b[0me\u001b[0m\u001b[0;34m,\u001b[0m \u001b[0mrequest\u001b[0m\u001b[0;34m=\u001b[0m\u001b[0mrequest\u001b[0m\u001b[0;34m)\u001b[0m\u001b[0;34m\u001b[0m\u001b[0m\n\u001b[0m\u001b[1;32m    488\u001b[0m \u001b[0;34m\u001b[0m\u001b[0m\n\u001b[1;32m    489\u001b[0m         \u001b[0;32mexcept\u001b[0m \u001b[0mClosedPoolError\u001b[0m \u001b[0;32mas\u001b[0m \u001b[0me\u001b[0m\u001b[0;34m:\u001b[0m\u001b[0;34m\u001b[0m\u001b[0m\n",
      "\u001b[0;31mConnectionError\u001b[0m: HTTPConnectionPool(host='ichart.finance.yahoo.com', port=80): Max retries exceeded with url: /table.csv?s=AAPL&a=00&b=01&c=2011&d=00&e=01&f=2012&g=d&ignore=.csv (Caused by NewConnectionError('<requests.packages.urllib3.connection.HTTPConnection object at 0x7f256b3c1d68>: Failed to establish a new connection: [Errno -2] Name or service not known',))"
     ]
    }
   ],
   "source": [
    "import requests\n",
    "import os\n",
    "\n",
    "\n",
    "tickers_file = '/home/octo/Dropbox/data/file.txt'\n",
    "with open(tickers_file) as f:\n",
    "    tickers = [l.strip() for l in f.readlines()]\n",
    "\n",
    "# path is where I save downloaded tickers\n",
    "path = '/home/octo/Dropbox/data'\n",
    "# Yahoo API URL\n",
    "url = \"http://ichart.finance.yahoo.com/table.csv\"\n",
    "# Yahoo get parameters where date range 2011/01/01 - 2012/01/01\n",
    "# although 2012/01/01 is an international holiday and won't be in the data\n",
    "get_params = \"s=%(t)s&a=00&b=01&c=2011&d=00&e=01&f=2012&g=d&ignore=.csv\"\n",
    "url = '?'.join([url, get_params])\n",
    "for t in tickers:\n",
    "    r = requests.get(url % {'t': t})\n",
    "    if r.status_code != 200:\n",
    "        continue\n",
    "    fname = os.path.join(path, '%(t)s.csv' % {'t': t})\n",
    "    with open(fname, 'w') as f:\n",
    "        f.write(r.text)"
   ]
  },
  {
   "cell_type": "code",
   "execution_count": null,
   "metadata": {
    "collapsed": true
   },
   "outputs": [],
   "source": []
  }
 ],
 "metadata": {
  "kernelspec": {
   "display_name": "Python 3",
   "language": "python",
   "name": "python3"
  },
  "language_info": {
   "codemirror_mode": {
    "name": "ipython",
    "version": 3
   },
   "file_extension": ".py",
   "mimetype": "text/x-python",
   "name": "python",
   "nbconvert_exporter": "python",
   "pygments_lexer": "ipython3",
   "version": "3.5.2"
  }
 },
 "nbformat": 4,
 "nbformat_minor": 2
}
