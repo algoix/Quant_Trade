{
 "cells": [
  {
   "cell_type": "markdown",
   "metadata": {},
   "source": [
    "#### Observations\n",
    "    (1) Return series show little serial correlation.\n",
    "    This supports the random walk hypothesis, as increments of a\n",
    "    random walk are independent, but...\n",
    "    (2) Series of absolute or squared returns show profound serial correlation.\n",
    "    This contradicts the random walk hyphotesis, as if X, Y are independent,\n",
    "    then |X|, |Y | are independent, and X2 , Y 2 are also\n",
    "    independent, and in consequence they should be non-correlated.\n",
    "    The conclussion is that financial time series are uncorrelated but\n",
    "    not independent.\n",
    "    (3) Conditional expected returns are close to zero.\n",
    "    More problems: this gives that the daily returns form a martingale\n",
    "    difference, i.e. the accumulated process (sum of daily\n",
    "    returns) is a martingale. This supports the martingale hypothesis,\n",
    "    so it is very difficult to predict future values, based on\n",
    "    historical data.\n",
    "    (4) Volatility appears to vary over time.\n",
    "    Defining the volatility as the conditional standard deviation of\n",
    "    the returns given the past information, it is observed that if\n",
    "    recent returns have been large, it is expected to have large returns.\n",
    "    (5) Return series are leptokurtic or heavy-tailed.\n",
    "    A random variable with positive kurtosis is named leptokurtic.\n",
    "    It models a large amount of small movements, plus some relatively\n",
    "    large movements, in other terms, its density is more\n",
    "    narrow around its expectation, and has heavier tails than a\n",
    "    gaussian random variable.\n",
    "    This contradicts the gaussian returns hypothesis in the BlackScholes\n",
    "    model.\n",
    "    (6) Extreme returns apperar in clusters: volatility clustering phenomena\n",
    "    Is a tendency for large returns to be followed by large returns\n",
    "    (positive or negative, as they are uncorrelated)\n",
    "    Remarks:\n",
    "    • The longer the time intervals considered, the less pronunciated\n",
    "    the reported facts appear.\n",
    "    • For intraday data new statistical phenomena, not discussed\n",
    "    here, appears."
   ]
  },
  {
   "cell_type": "markdown",
   "metadata": {},
   "source": [
    "Covariance\n",
    "\n",
    "Covariance indicates how two variables are related. A positive covariance means the variables are positively related, while a negative covariance means the variables are inversely related. The formula for calculating covariance of sample data is shown below.\n",
    "\n",
    "Correlation\n",
    "\n",
    "Correlation is another way to determine how two variables are related. In addition to telling you whether variables are positively or inversely related, correlation also tells you the degree to which the variables tend to move together."
   ]
  },
  {
   "cell_type": "markdown",
   "metadata": {},
   "source": [
    "##### stock exchange is not efficient even in weak form and that follows the random walk model. The idealized stock price in the stock exchange is a martingale. Martingale defines the fairness or unfairness of the investment and no investor can alter the stock price as defined by expectation. "
   ]
  },
  {
   "cell_type": "markdown",
   "metadata": {},
   "source": [
    "##### The random walk model:\n",
    "    Let Xt be the price of stock on any particular day t. At each subsequent time unit,Xt  varies in an unpredictable fashion such that during each time unit the stock price moves its location either one unit left ward, or one unit right ward or it remains the same. We suppose that the system can either remain in i, or move to state i-1 or to state i+1 and the random direction of each jump is independent of all earlier jumps.  \n",
    "\n",
    "     Independent and identically distributed random variables each taking either the value -1 with probability q, or the value +1 with probability p,or remain the same at value 0 with probability r\n",
    "     \n",
    "    http://thescipub.com/PDF/jmssp.2010.342.346.pdf\n",
    "    "
   ]
  },
  {
   "cell_type": "markdown",
   "metadata": {},
   "source": [
    "### EMH\n",
    "The EMH is the underpinning of the theory that share prices could\n",
    "follow a random walk. Currently there is no real answer to whether stock\n",
    "prices follow a random walk, although there is increasing evidence they do\n",
    "not. "
   ]
  },
  {
   "cell_type": "markdown",
   "metadata": {},
   "source": [
    "### EMH and RW\n",
    "the idea of stock prices following a random walk is connected to that of the EMH. The premise is that investors react\n",
    "instantaneously to any informational advantages they have thereby eliminating profit opportunities. Thus, prices always fully reflect the information available and no profit can be made from information based trading (Lo and MacKinley, 1999). This leads to a random walk where the more efficient the market, the more random the sequence of price changes. The EMH and random walks do not amount to the same thing. A random walk of stock prices does not imply\n",
    "that the stock market is efficient with rational investors.\n",
    "A random walk is defined by the fact that price changes are independent of each other (Brealey et al, 2005). For a more technical definition, Cuthbertson and Nitzsche (2004) define a random walk with a drift (δ) as an individual\n",
    "stochastic series Xt  that behaves as:\n",
    "Xt = ∂+ Xt−1 + εt+1 \n",
    "~iid(0,sigma2)\n",
    "The drift is a simple idea. It is merely a weighted average of the probabilities of each price the stock price could possibly move to in the next period. For example, if we had €100 and this moved either 3.0% up or 2.5% down with\n",
    "P=0.5 for each case, then the drift would be 0.25%, calculated by (Brealey etal, 2005):\n",
    "0.5(0.03) + 0.5(-0.025) = 0.0025 = 0.25%\n",
    "However, even though it is useful, the model is quite restrictive as it assumes that there is no probabilistic independence between consecutive price increments. Due to this, a more flexible model called the ‘martingale’ was\n",
    "devised. This improved on the random walk model as it can “be generated within a reasonably broad class of optimizing models” (LeRoy, 1989:1588). \n",
    "https://www.tcd.ie/Economics/assets/pdf/SER/2007/Samuel_Dupernex.pdf\n"
   ]
  },
  {
   "cell_type": "markdown",
   "metadata": {},
   "source": [
    "#### Markovian process, Markov chain or markovian property \n",
    "    P{Sn+1 = in+1\\Sn = in} Equation is also known as the nearest neighbor property. Since the idea of a nearest neighbor system does not involve any preferred direction of time, we then consider only what happens when a Markov chain is observed as n decreases in value instead of increasing. These provide a complete description of a Markov process. "
   ]
  },
  {
   "cell_type": "markdown",
   "metadata": {},
   "source": [
    "### REF:\n",
    "https://www.chicagobooth.edu/~/media/34F68FFD9CC04EF1A76901F6C61C0A76.PDF\n",
    "\n",
    "http://thescipub.com/PDF/jmssp.2010.342.346.pdf\n",
    "\n",
    "https://web.williams.edu/Mathematics/sjmiller/public_html/341Fa09/handouts/Fama_RandomWalksStockPrices.pdf\n",
    "\n",
    "http://www.cmat.edu.uy/~mordecki/hk/lecture6.pdf"
   ]
  },
  {
   "cell_type": "code",
   "execution_count": null,
   "metadata": {
    "collapsed": true
   },
   "outputs": [],
   "source": []
  }
 ],
 "metadata": {
  "kernelspec": {
   "display_name": "Python 3",
   "language": "python",
   "name": "python3"
  },
  "language_info": {
   "codemirror_mode": {
    "name": "ipython",
    "version": 3
   },
   "file_extension": ".py",
   "mimetype": "text/x-python",
   "name": "python",
   "nbconvert_exporter": "python",
   "pygments_lexer": "ipython3",
   "version": "3.5.2"
  }
 },
 "nbformat": 4,
 "nbformat_minor": 1
}
