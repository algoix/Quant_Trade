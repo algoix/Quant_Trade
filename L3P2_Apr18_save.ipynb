{
 "cells": [
  {
   "cell_type": "code",
   "execution_count": 1,
   "metadata": {
    "collapsed": false
   },
   "outputs": [
    {
     "name": "stderr",
     "output_type": "stream",
     "text": [
      "/home/octo/anaconda2/envs/carnd-term1/lib/python3.5/site-packages/statsmodels/compat/pandas.py:56: FutureWarning: The pandas.core.datetools module is deprecated and will be removed in a future version. Please use the pandas.tseries module instead.\n",
      "  from pandas.core import datetools\n",
      "Using TensorFlow backend.\n"
     ]
    }
   ],
   "source": [
    "#import processing\n",
    "import ds\n",
    "#import ml\n",
    "import model_saving\n",
    "import TS\n",
    "import TA\n",
    "# Load the necessary packages and modules\n",
    "#from pandas_datareader import data as pdr\n",
    "import matplotlib.pyplot as plt\n",
    "import pandas as pd\n",
    "import numpy\n",
    "import numpy as np\n",
    "import math as m\n",
    "import talib\n",
    "import pickle\n",
    "from sklearn import svm\n",
    "\n",
    "from hmmlearn.hmm import GaussianHMM\n",
    "from sklearn.externals import joblib"
   ]
  },
  {
   "cell_type": "code",
   "execution_count": 2,
   "metadata": {
    "collapsed": true
   },
   "outputs": [],
   "source": [
    "filename='/home/octo/Dropbox'+ '/SPY19.csv'"
   ]
  },
  {
   "cell_type": "code",
   "execution_count": 3,
   "metadata": {
    "collapsed": true
   },
   "outputs": [],
   "source": [
    "# Import a Kalman filter and other useful libraries\n",
    "from pykalman import KalmanFilter\n",
    "import numpy as np\n",
    "import pandas as pd\n",
    "import matplotlib.pyplot as plt\n",
    "from scipy import poly1d\n",
    "\n",
    "def kalman_ma(data):\n",
    "    x=data.Close\n",
    "    # Construct a Kalman filter\n",
    "    kf = KalmanFilter(transition_matrices = [1],\n",
    "                  observation_matrices = [1],\n",
    "                  initial_state_mean = x[1],\n",
    "                  initial_state_covariance = 1,\n",
    "                  observation_covariance=1,\n",
    "                  transition_covariance=.01)\n",
    "\n",
    "    # Use the observed values of the price to get a rolling mean\n",
    "    state_means, _ = kf.filter(x.values)\n",
    "    state_means = pd.Series(state_means.flatten(), index=x.index)\n",
    "    #df_ml['km']=state_means\n",
    "    return state_means"
   ]
  },
  {
   "cell_type": "code",
   "execution_count": 6,
   "metadata": {
    "collapsed": true
   },
   "outputs": [],
   "source": [
    "# loading csv file\n",
    "def get_csv_pd(path):\n",
    "    spy_pd=pd.read_csv(path,sep=',',dtype={'askPrice':np.float32,'askSize':np.float32,\n",
    "                                           'bidPrice':np.float32,'bidSize':np.float32},index_col=0,parse_dates=True)\n",
    "    return spy_pd\n",
    "def processing(df):\n",
    "    df=df.drop(['Stock'], axis=1)\n",
    "    df['Open']=((df.askPrice+df.bidPrice)/2)\n",
    "    df['ABSR']=df.askSize/df.bidSize\n",
    "    df['ABST']=(df.askSize+df.bidSize)\n",
    "    #df['ABP']=df.Open-df.Open.rolling(6).mean()\n",
    "    df.Volume=df.Volume.diff(6) \n",
    "    df['vwap']=((df.loc[:,'bidPrice']*df.loc[:,'bidSize'])+(df.loc[:,'askPrice']*df.loc[:,'askSize']))/(df.loc[:,'bidSize']+df.loc[:,'askSize'])\n",
    "    df['OC']=df.Open-df.Close\n",
    "    df['HL']=df.High-df.Low #if positive then market positive rather market negative\n",
    "    df.Close=df.lastprice\n",
    "    df['km']=df.Open-kalman_ma(df)\n",
    "    df['UD']=np.where(np.logical_and(df.Open.diff(6)>0.005,df.km>0),1,np.where(np.logical_and(df.Open.diff(6)<-0.005,df.km<0),-1,0))\n",
    "    df['U']=np.where(np.logical_and(df.Open.diff(6)>0.005,df.km>0),1,0)\n",
    "    df['D']=np.where(np.logical_and(df.Open.diff(6)<-0.005,df.km<0),-1,0)\n",
    "    #df=df.drop(['askSize','bidSize','lastprice','askPrice','bidPrice','km'], axis=1)\n",
    "    #df.ABD=df.ABD.diff(1)\n",
    "    #df.OC=df.OC.diff(1)\n",
    "    #df.HL=df.HL.diff(1)\n",
    "    df.ABST=df.ABST/df.ABST.rolling(6).mean()\n",
    "    df.vwap=df.vwap-df.Open.rolling(6).mean() \n",
    "    return df\n",
    "\n",
    "def tech_ind(data):\n",
    "    data['rsi']=talib.RSI(np.array(data.Close.astype('float64')),timeperiod=6)\n",
    "    data.rsi=data.rsi/100\n",
    "    data['atr']=talib.ATR(np.array(data.High.astype('float64')),np.array(data.Low.astype('float64')),np.array(data.Close.astype  ('float64')),timeperiod=6)\n",
    "    data['mom']=talib.MOM(np.array(data.Close.astype('float64')), timeperiod=6)# mom consists 0\n",
    "    #data.atr=data.atr-data.atr.rolling(6).mean()\n",
    "    #data.mom=data.mom-data.mom.rolling(6).mean()\n",
    "    #data=data.drop(['Open','High','Close','Low'], axis=1)\n",
    "    return data"
   ]
  },
  {
   "cell_type": "code",
   "execution_count": 7,
   "metadata": {
    "collapsed": false
   },
   "outputs": [],
   "source": [
    "data=get_csv_pd(filename)\n",
    "data=processing(data)\n",
    "data=tech_ind(data)\n",
    "data=data[500:]"
   ]
  },
  {
   "cell_type": "code",
   "execution_count": 8,
   "metadata": {
    "collapsed": true
   },
   "outputs": [],
   "source": [
    "data=data.astype('float64')\n",
    "data=data.dropna()"
   ]
  },
  {
   "cell_type": "code",
   "execution_count": 9,
   "metadata": {
    "collapsed": false
   },
   "outputs": [
    {
     "data": {
      "text/html": [
       "<div>\n",
       "<style scoped>\n",
       "    .dataframe tbody tr th:only-of-type {\n",
       "        vertical-align: middle;\n",
       "    }\n",
       "\n",
       "    .dataframe tbody tr th {\n",
       "        vertical-align: top;\n",
       "    }\n",
       "\n",
       "    .dataframe thead th {\n",
       "        text-align: right;\n",
       "    }\n",
       "</style>\n",
       "<table border=\"1\" class=\"dataframe\">\n",
       "  <thead>\n",
       "    <tr style=\"text-align: right;\">\n",
       "      <th></th>\n",
       "      <th>Close</th>\n",
       "      <th>High</th>\n",
       "      <th>Low</th>\n",
       "      <th>Volume</th>\n",
       "      <th>askPrice</th>\n",
       "      <th>askSize</th>\n",
       "      <th>bidPrice</th>\n",
       "      <th>bidSize</th>\n",
       "      <th>...</th>\n",
       "      <th>HL</th>\n",
       "      <th>km</th>\n",
       "      <th>UD</th>\n",
       "      <th>U</th>\n",
       "      <th>D</th>\n",
       "      <th>rsi</th>\n",
       "      <th>atr</th>\n",
       "      <th>mom</th>\n",
       "    </tr>\n",
       "  </thead>\n",
       "  <tbody>\n",
       "    <tr>\n",
       "      <th>2018-04-19 19:12:39.267220</th>\n",
       "      <td>269.40000</td>\n",
       "      <td>269.81000</td>\n",
       "      <td>269.05000</td>\n",
       "      <td>0.00000</td>\n",
       "      <td>269.42001</td>\n",
       "      <td>7.00000</td>\n",
       "      <td>269.39999</td>\n",
       "      <td>105.00000</td>\n",
       "      <td>...</td>\n",
       "      <td>0.76000</td>\n",
       "      <td>0.00708</td>\n",
       "      <td>0.00000</td>\n",
       "      <td>0.00000</td>\n",
       "      <td>0.00000</td>\n",
       "      <td>0.22328</td>\n",
       "      <td>0.76000</td>\n",
       "      <td>0.00000</td>\n",
       "    </tr>\n",
       "    <tr>\n",
       "      <th>2018-04-19 19:12:39.269495</th>\n",
       "      <td>269.40000</td>\n",
       "      <td>269.81000</td>\n",
       "      <td>269.05000</td>\n",
       "      <td>0.00000</td>\n",
       "      <td>269.41000</td>\n",
       "      <td>7.00000</td>\n",
       "      <td>269.39999</td>\n",
       "      <td>105.00000</td>\n",
       "      <td>...</td>\n",
       "      <td>0.76000</td>\n",
       "      <td>0.00235</td>\n",
       "      <td>0.00000</td>\n",
       "      <td>0.00000</td>\n",
       "      <td>0.00000</td>\n",
       "      <td>0.22328</td>\n",
       "      <td>0.76000</td>\n",
       "      <td>0.00000</td>\n",
       "    </tr>\n",
       "    <tr>\n",
       "      <th>2018-04-19 19:12:39.271532</th>\n",
       "      <td>269.40000</td>\n",
       "      <td>269.81000</td>\n",
       "      <td>269.05000</td>\n",
       "      <td>0.00000</td>\n",
       "      <td>269.41000</td>\n",
       "      <td>3.00000</td>\n",
       "      <td>269.39999</td>\n",
       "      <td>105.00000</td>\n",
       "      <td>...</td>\n",
       "      <td>0.76000</td>\n",
       "      <td>0.00261</td>\n",
       "      <td>0.00000</td>\n",
       "      <td>0.00000</td>\n",
       "      <td>0.00000</td>\n",
       "      <td>0.22328</td>\n",
       "      <td>0.76000</td>\n",
       "      <td>0.00000</td>\n",
       "    </tr>\n",
       "    <tr>\n",
       "      <th>2018-04-19 19:12:39.273635</th>\n",
       "      <td>269.40000</td>\n",
       "      <td>269.81000</td>\n",
       "      <td>269.05000</td>\n",
       "      <td>0.00000</td>\n",
       "      <td>269.41000</td>\n",
       "      <td>3.00000</td>\n",
       "      <td>269.39999</td>\n",
       "      <td>105.00000</td>\n",
       "      <td>...</td>\n",
       "      <td>0.76000</td>\n",
       "      <td>0.00283</td>\n",
       "      <td>0.00000</td>\n",
       "      <td>0.00000</td>\n",
       "      <td>0.00000</td>\n",
       "      <td>0.22328</td>\n",
       "      <td>0.76000</td>\n",
       "      <td>0.00000</td>\n",
       "    </tr>\n",
       "    <tr>\n",
       "      <th>2018-04-19 19:12:39.275695</th>\n",
       "      <td>269.40000</td>\n",
       "      <td>269.81000</td>\n",
       "      <td>269.05000</td>\n",
       "      <td>0.00000</td>\n",
       "      <td>269.41000</td>\n",
       "      <td>3.00000</td>\n",
       "      <td>269.39999</td>\n",
       "      <td>105.00000</td>\n",
       "      <td>...</td>\n",
       "      <td>0.76000</td>\n",
       "      <td>0.00304</td>\n",
       "      <td>0.00000</td>\n",
       "      <td>0.00000</td>\n",
       "      <td>0.00000</td>\n",
       "      <td>0.22328</td>\n",
       "      <td>0.76000</td>\n",
       "      <td>0.00000</td>\n",
       "    </tr>\n",
       "  </tbody>\n",
       "</table>\n",
       "<p>5 rows × 22 columns</p>\n",
       "</div>"
      ],
      "text/plain": [
       "                               Close      High       Low  Volume  askPrice  \\\n",
       "2018-04-19 19:12:39.267220 269.40000 269.81000 269.05000 0.00000 269.42001   \n",
       "2018-04-19 19:12:39.269495 269.40000 269.81000 269.05000 0.00000 269.41000   \n",
       "2018-04-19 19:12:39.271532 269.40000 269.81000 269.05000 0.00000 269.41000   \n",
       "2018-04-19 19:12:39.273635 269.40000 269.81000 269.05000 0.00000 269.41000   \n",
       "2018-04-19 19:12:39.275695 269.40000 269.81000 269.05000 0.00000 269.41000   \n",
       "\n",
       "                            askSize  bidPrice   bidSize   ...        HL  \\\n",
       "2018-04-19 19:12:39.267220  7.00000 269.39999 105.00000   ...   0.76000   \n",
       "2018-04-19 19:12:39.269495  7.00000 269.39999 105.00000   ...   0.76000   \n",
       "2018-04-19 19:12:39.271532  3.00000 269.39999 105.00000   ...   0.76000   \n",
       "2018-04-19 19:12:39.273635  3.00000 269.39999 105.00000   ...   0.76000   \n",
       "2018-04-19 19:12:39.275695  3.00000 269.39999 105.00000   ...   0.76000   \n",
       "\n",
       "                                km      UD       U       D     rsi     atr  \\\n",
       "2018-04-19 19:12:39.267220 0.00708 0.00000 0.00000 0.00000 0.22328 0.76000   \n",
       "2018-04-19 19:12:39.269495 0.00235 0.00000 0.00000 0.00000 0.22328 0.76000   \n",
       "2018-04-19 19:12:39.271532 0.00261 0.00000 0.00000 0.00000 0.22328 0.76000   \n",
       "2018-04-19 19:12:39.273635 0.00283 0.00000 0.00000 0.00000 0.22328 0.76000   \n",
       "2018-04-19 19:12:39.275695 0.00304 0.00000 0.00000 0.00000 0.22328 0.76000   \n",
       "\n",
       "                               mom  \n",
       "2018-04-19 19:12:39.267220 0.00000  \n",
       "2018-04-19 19:12:39.269495 0.00000  \n",
       "2018-04-19 19:12:39.271532 0.00000  \n",
       "2018-04-19 19:12:39.273635 0.00000  \n",
       "2018-04-19 19:12:39.275695 0.00000  \n",
       "\n",
       "[5 rows x 22 columns]"
      ]
     },
     "execution_count": 9,
     "metadata": {},
     "output_type": "execute_result"
    }
   ],
   "source": [
    "data.head()"
   ]
  },
  {
   "cell_type": "code",
   "execution_count": 15,
   "metadata": {
    "collapsed": false
   },
   "outputs": [
    {
     "data": {
      "text/plain": [
       "array([[1.     , 0.19067],\n",
       "       [0.19067, 1.     ]])"
      ]
     },
     "execution_count": 15,
     "metadata": {},
     "output_type": "execute_result"
    }
   ],
   "source": [
    "np.corrcoef(data.UD,data.ABSR)"
   ]
  },
  {
   "cell_type": "code",
   "execution_count": 16,
   "metadata": {
    "collapsed": false
   },
   "outputs": [
    {
     "name": "stdout",
     "output_type": "stream",
     "text": [
      "UD\n",
      "-1.00000     6465\n",
      "0.00000     14816\n",
      "1.00000      6012\n",
      "dtype: int64\n"
     ]
    }
   ],
   "source": [
    "print(data.groupby('UD').size())"
   ]
  },
  {
   "cell_type": "markdown",
   "metadata": {},
   "source": [
    "## State Analysis"
   ]
  },
  {
   "cell_type": "code",
   "execution_count": 24,
   "metadata": {
    "collapsed": false
   },
   "outputs": [
    {
     "name": "stdout",
     "output_type": "stream",
     "text": [
      "fitting to HMM and decoding ..."
     ]
    },
    {
     "data": {
      "text/plain": [
       "GaussianHMM(algorithm='viterbi', covariance_type='full', covars_prior=0.01,\n",
       "      covars_weight=1, init_params='stmc', means_prior=0, means_weight=0,\n",
       "      min_covar=0.001, n_components=3, n_iter=1000, params='stmc',\n",
       "      random_state=None, startprob_prior=1.0, tol=0.01, transmat_prior=1.0,\n",
       "      verbose=False)"
      ]
     },
     "execution_count": 24,
     "metadata": {},
     "output_type": "execute_result"
    }
   ],
   "source": [
    "from hmmlearn.hmm import GaussianHMM\n",
    "print(\"fitting to HMM and decoding ...\", end=\"\")\n",
    "# Make an HMM instance and execute fit\n",
    "model_hmm = GaussianHMM(n_components=3, covariance_type=\"full\", n_iter=1000)\n",
    "#model_hmm.fit(data[['Volume','vwap','km','rsi', 'atr','mom']])\n",
    "model_hmm.fit(data[['Volume','ABSR','ABST','vwap','OC','HL']])"
   ]
  },
  {
   "cell_type": "code",
   "execution_count": 25,
   "metadata": {
    "collapsed": false
   },
   "outputs": [
    {
     "data": {
      "text/plain": [
       "['markov_hmm.pkl']"
      ]
     },
     "execution_count": 25,
     "metadata": {},
     "output_type": "execute_result"
    }
   ],
   "source": [
    "from sklearn.externals import joblib\n",
    "joblib.dump(model_hmm, \"markov_hmm.pkl\")"
   ]
  },
  {
   "cell_type": "code",
   "execution_count": 27,
   "metadata": {
    "collapsed": true
   },
   "outputs": [],
   "source": [
    "X=data[['Volume','ABSR','ABST','vwap','OC','HL','rsi','atr','mom']]\n",
    "Y=data.UD"
   ]
  },
  {
   "cell_type": "markdown",
   "metadata": {},
   "source": [
    "## SMOTE"
   ]
  },
  {
   "cell_type": "code",
   "execution_count": 26,
   "metadata": {
    "collapsed": true
   },
   "outputs": [],
   "source": [
    "import numpy as np\n",
    "import pandas as pd\n",
    "from sklearn.ensemble import RandomForestClassifier\n",
    "from sklearn.model_selection import train_test_split\n",
    "from sklearn.metrics import recall_score\n",
    "from imblearn.over_sampling import SMOTE"
   ]
  },
  {
   "cell_type": "code",
   "execution_count": 28,
   "metadata": {
    "collapsed": true
   },
   "outputs": [],
   "source": [
    "sm = SMOTE(random_state=14, ratio ='minority')\n",
    "X_o,Y_o = sm.fit_sample(X,Y)"
   ]
  },
  {
   "cell_type": "markdown",
   "metadata": {},
   "source": [
    "## BAYES"
   ]
  },
  {
   "cell_type": "code",
   "execution_count": 29,
   "metadata": {
    "collapsed": true
   },
   "outputs": [],
   "source": [
    "import numpy as np\n",
    "import sklearn\n",
    "from sklearn.naive_bayes import BernoulliNB\n",
    "#from sklearn.naive_bayes import GaussianNB"
   ]
  },
  {
   "cell_type": "code",
   "execution_count": 30,
   "metadata": {
    "collapsed": true
   },
   "outputs": [],
   "source": [
    "X=data[['Volume','ABSR','ABST','vwap','OC','HL','rsi','atr','mom']]\n",
    "Yu=data.U\n",
    "Yd=data.D"
   ]
  },
  {
   "cell_type": "markdown",
   "metadata": {},
   "source": [
    "#### UP"
   ]
  },
  {
   "cell_type": "code",
   "execution_count": 31,
   "metadata": {
    "collapsed": true
   },
   "outputs": [],
   "source": [
    "sm = SMOTE(random_state=14, ratio ='minority')\n",
    "X_o,Y_o = sm.fit_sample(X,Yu)"
   ]
  },
  {
   "cell_type": "code",
   "execution_count": 32,
   "metadata": {
    "collapsed": false
   },
   "outputs": [
    {
     "data": {
      "text/plain": [
       "BernoulliNB(alpha=1.0, binarize=0.0, class_prior=None, fit_prior=True)"
      ]
     },
     "execution_count": 32,
     "metadata": {},
     "output_type": "execute_result"
    }
   ],
   "source": [
    "bnb = BernoulliNB()\n",
    "bnb.fit(X_o, Y_o)"
   ]
  },
  {
   "cell_type": "code",
   "execution_count": 33,
   "metadata": {
    "collapsed": true
   },
   "outputs": [],
   "source": [
    "filename_nb = 'nbU.sav'\n",
    "pickle.dump(bnb, open(filename_nb, 'wb'))"
   ]
  },
  {
   "cell_type": "markdown",
   "metadata": {},
   "source": [
    "#### DN"
   ]
  },
  {
   "cell_type": "code",
   "execution_count": 34,
   "metadata": {
    "collapsed": true
   },
   "outputs": [],
   "source": [
    "sm = SMOTE(random_state=15, ratio ='minority')\n",
    "X_o,Y_o = sm.fit_sample(X,Yd)"
   ]
  },
  {
   "cell_type": "code",
   "execution_count": 35,
   "metadata": {
    "collapsed": false
   },
   "outputs": [
    {
     "data": {
      "text/plain": [
       "BernoulliNB(alpha=1.0, binarize=0.0, class_prior=None, fit_prior=True)"
      ]
     },
     "execution_count": 35,
     "metadata": {},
     "output_type": "execute_result"
    }
   ],
   "source": [
    "bnb = BernoulliNB()\n",
    "bnb.fit(X_o, Y_o)"
   ]
  },
  {
   "cell_type": "code",
   "execution_count": 36,
   "metadata": {
    "collapsed": true
   },
   "outputs": [],
   "source": [
    "filename_nb = 'nbD.sav'\n",
    "pickle.dump(bnb, open(filename_nb, 'wb'))"
   ]
  },
  {
   "cell_type": "markdown",
   "metadata": {},
   "source": [
    "## outlier"
   ]
  },
  {
   "cell_type": "code",
   "execution_count": 37,
   "metadata": {
    "collapsed": false
   },
   "outputs": [
    {
     "data": {
      "text/plain": [
       "OneClassSVM(cache_size=200, coef0=4.0, degree=3, gamma='auto', kernel='poly',\n",
       "      max_iter=-1, nu=0.05, random_state=None, shrinking=True, tol=0.001,\n",
       "      verbose=False)"
      ]
     },
     "execution_count": 37,
     "metadata": {},
     "output_type": "execute_result"
    }
   ],
   "source": [
    "#outlier = svm.OneClassSVM(nu=0.05, kernel=\"rbf\", gamma=0.1)\n",
    "outlier = svm.OneClassSVM(kernel=\"poly\", degree=3, gamma=\"auto\", coef0=4.0, tol=0.001, nu=0.05, shrinking=True, cache_size=200, verbose=False, max_iter=-1, random_state=None)\n",
    "outlier.fit(data[['Volume','ABSR','ABST','vwap','OC','HL','rsi','atr','mom']])"
   ]
  },
  {
   "cell_type": "code",
   "execution_count": 38,
   "metadata": {
    "collapsed": true
   },
   "outputs": [],
   "source": [
    "filename_outlr = 'outlr.sav'\n",
    "pickle.dump(outlier, open(filename_outlr, 'wb'))"
   ]
  },
  {
   "cell_type": "markdown",
   "metadata": {},
   "source": [
    "## RF for UD"
   ]
  },
  {
   "cell_type": "code",
   "execution_count": 39,
   "metadata": {
    "collapsed": true
   },
   "outputs": [],
   "source": [
    "sm = SMOTE(random_state=11, ratio ='minority')\n",
    "X_o,Y_o = sm.fit_sample(X,Y)"
   ]
  },
  {
   "cell_type": "code",
   "execution_count": 40,
   "metadata": {
    "collapsed": false
   },
   "outputs": [
    {
     "data": {
      "text/plain": [
       "RandomForestClassifier(bootstrap=True, class_weight=None, criterion='gini',\n",
       "            max_depth=None, max_features=6, max_leaf_nodes=None,\n",
       "            min_impurity_decrease=0.0, min_impurity_split=None,\n",
       "            min_samples_leaf=1, min_samples_split=2,\n",
       "            min_weight_fraction_leaf=0.0, n_estimators=9, n_jobs=1,\n",
       "            oob_score=False, random_state=15, verbose=0, warm_start=False)"
      ]
     },
     "execution_count": 40,
     "metadata": {},
     "output_type": "execute_result"
    }
   ],
   "source": [
    "SEED=15\n",
    "rf = RandomForestClassifier(\n",
    "    n_estimators=9,\n",
    "    max_features=6,\n",
    "    random_state=SEED\n",
    ")\n",
    "\n",
    "rf.fit(X_o,Y_o)"
   ]
  },
  {
   "cell_type": "code",
   "execution_count": 41,
   "metadata": {
    "collapsed": true
   },
   "outputs": [],
   "source": [
    "filename_rf = 'rf.sav'\n",
    "pickle.dump(rf, open(filename_rf, 'wb'))"
   ]
  },
  {
   "cell_type": "markdown",
   "metadata": {
    "collapsed": true
   },
   "source": [
    "## Analysis\n",
    "Not for modeling"
   ]
  },
  {
   "cell_type": "code",
   "execution_count": 12,
   "metadata": {
    "collapsed": false
   },
   "outputs": [
    {
     "data": {
      "image/png": "[encoded data removed]",
      "text/plain": [
       "<matplotlib.figure.Figure at 0x7fd573946fd0>"
      ]
     },
     "metadata": {},
     "output_type": "display_data"
    }
   ],
   "source": [
    "import matplotlib.pyplot as plt\n",
    "data['ABSR'].plot(kind='hist', grid=True, title='return')\n",
    "plt.show()"
   ]
  },
  {
   "cell_type": "code",
   "execution_count": 13,
   "metadata": {
    "collapsed": true
   },
   "outputs": [],
   "source": [
    "data_a=data"
   ]
  },
  {
   "cell_type": "code",
   "execution_count": 24,
   "metadata": {
    "collapsed": true
   },
   "outputs": [],
   "source": [
    "data_a['as']=np.where(data_a.askSize>50,1,0)"
   ]
  },
  {
   "cell_type": "code",
   "execution_count": 25,
   "metadata": {
    "collapsed": false
   },
   "outputs": [
    {
     "name": "stdout",
     "output_type": "stream",
     "text": [
      "as\n",
      "0    130960\n",
      "1     77695\n",
      "dtype: int64\n"
     ]
    }
   ],
   "source": [
    "print(data.groupby('as').size())"
   ]
  },
  {
   "cell_type": "code",
   "execution_count": 26,
   "metadata": {
    "collapsed": true
   },
   "outputs": [],
   "source": [
    "data_a['bs']=np.where(data_a.bidSize>50,1,0)"
   ]
  },
  {
   "cell_type": "code",
   "execution_count": 27,
   "metadata": {
    "collapsed": false
   },
   "outputs": [
    {
     "name": "stdout",
     "output_type": "stream",
     "text": [
      "bs\n",
      "0    144241\n",
      "1     64414\n",
      "dtype: int64\n"
     ]
    }
   ],
   "source": [
    "print(data.groupby('bs').size())"
   ]
  },
  {
   "cell_type": "code",
   "execution_count": 28,
   "metadata": {
    "collapsed": false
   },
   "outputs": [
    {
     "data": {
      "text/html": [
       "<div>\n",
       "<style scoped>\n",
       "    .dataframe tbody tr th:only-of-type {\n",
       "        vertical-align: middle;\n",
       "    }\n",
       "\n",
       "    .dataframe tbody tr th {\n",
       "        vertical-align: top;\n",
       "    }\n",
       "\n",
       "    .dataframe thead th {\n",
       "        text-align: right;\n",
       "    }\n",
       "</style>\n",
       "<table border=\"1\" class=\"dataframe\">\n",
       "  <thead>\n",
       "    <tr style=\"text-align: right;\">\n",
       "      <th>bs</th>\n",
       "      <th>0</th>\n",
       "      <th>1</th>\n",
       "    </tr>\n",
       "    <tr>\n",
       "      <th>UD</th>\n",
       "      <th></th>\n",
       "      <th></th>\n",
       "    </tr>\n",
       "  </thead>\n",
       "  <tbody>\n",
       "    <tr>\n",
       "      <th>-1.00000</th>\n",
       "      <td>20948</td>\n",
       "      <td>33515</td>\n",
       "    </tr>\n",
       "    <tr>\n",
       "      <th>0.00000</th>\n",
       "      <td>74843</td>\n",
       "      <td>25309</td>\n",
       "    </tr>\n",
       "    <tr>\n",
       "      <th>1.00000</th>\n",
       "      <td>48450</td>\n",
       "      <td>5590</td>\n",
       "    </tr>\n",
       "  </tbody>\n",
       "</table>\n",
       "</div>"
      ],
      "text/plain": [
       "bs            0      1\n",
       "UD                    \n",
       "-1.00000  20948  33515\n",
       "0.00000   74843  25309\n",
       "1.00000   48450   5590"
      ]
     },
     "execution_count": 28,
     "metadata": {},
     "output_type": "execute_result"
    }
   ],
   "source": [
    "pd.crosstab(index=data.UD,columns=data.bs)"
   ]
  },
  {
   "cell_type": "code",
   "execution_count": 29,
   "metadata": {
    "collapsed": false
   },
   "outputs": [
    {
     "data": {
      "text/html": [
       "<div>\n",
       "<style scoped>\n",
       "    .dataframe tbody tr th:only-of-type {\n",
       "        vertical-align: middle;\n",
       "    }\n",
       "\n",
       "    .dataframe tbody tr th {\n",
       "        vertical-align: top;\n",
       "    }\n",
       "\n",
       "    .dataframe thead th {\n",
       "        text-align: right;\n",
       "    }\n",
       "</style>\n",
       "<table border=\"1\" class=\"dataframe\">\n",
       "  <thead>\n",
       "    <tr style=\"text-align: right;\">\n",
       "      <th>as</th>\n",
       "      <th>0</th>\n",
       "      <th>1</th>\n",
       "    </tr>\n",
       "    <tr>\n",
       "      <th>UD</th>\n",
       "      <th></th>\n",
       "      <th></th>\n",
       "    </tr>\n",
       "  </thead>\n",
       "  <tbody>\n",
       "    <tr>\n",
       "      <th>-1.00000</th>\n",
       "      <td>44714</td>\n",
       "      <td>9749</td>\n",
       "    </tr>\n",
       "    <tr>\n",
       "      <th>0.00000</th>\n",
       "      <td>65271</td>\n",
       "      <td>34881</td>\n",
       "    </tr>\n",
       "    <tr>\n",
       "      <th>1.00000</th>\n",
       "      <td>20975</td>\n",
       "      <td>33065</td>\n",
       "    </tr>\n",
       "  </tbody>\n",
       "</table>\n",
       "</div>"
      ],
      "text/plain": [
       "as            0      1\n",
       "UD                    \n",
       "-1.00000  44714   9749\n",
       "0.00000   65271  34881\n",
       "1.00000   20975  33065"
      ]
     },
     "execution_count": 29,
     "metadata": {},
     "output_type": "execute_result"
    }
   ],
   "source": [
    "pd.crosstab(index=data.UD,columns=data['as'])"
   ]
  },
  {
   "cell_type": "markdown",
   "metadata": {},
   "source": [
    "# bidsize>50 for down and asksize>50 for up"
   ]
  },
  {
   "cell_type": "code",
   "execution_count": null,
   "metadata": {
    "collapsed": true
   },
   "outputs": [],
   "source": []
  }
 ],
 "metadata": {
  "kernelspec": {
   "display_name": "Python 3",
   "language": "python",
   "name": "python3"
  },
  "language_info": {
   "codemirror_mode": {
    "name": "ipython",
    "version": 3
   },
   "file_extension": ".py",
   "mimetype": "text/x-python",
   "name": "python",
   "nbconvert_exporter": "python",
   "pygments_lexer": "ipython3",
   "version": "3.5.2"
  }
 },
 "nbformat": 4,
 "nbformat_minor": 1
}
