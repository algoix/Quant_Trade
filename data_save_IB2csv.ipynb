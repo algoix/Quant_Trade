{
 "cells": [
  {
   "cell_type": "code",
   "execution_count": 1,
   "metadata": {
    "collapsed": true
   },
   "outputs": [],
   "source": [
    "import tpqib\n",
    "import datetime\n",
    "import zmq\n",
    "import pandas as pd"
   ]
  },
  {
   "cell_type": "code",
   "execution_count": 2,
   "metadata": {
    "collapsed": false
   },
   "outputs": [
    {
     "name": "stdout",
     "output_type": "stream",
     "text": [
      "Server Version: 76\n",
      "TWS Time at connection:20180423 19:09:41 IST\n"
     ]
    }
   ],
   "source": [
    "conn = tpqib.tpqibcon(clientId=1001)"
   ]
  },
  {
   "cell_type": "code",
   "execution_count": 3,
   "metadata": {
    "collapsed": false
   },
   "outputs": [],
   "source": [
    "df= pd.DataFrame()\n",
    "df['Stock']='SPY'\n",
    "df['bidPrice']=0\n",
    "df['bidSize']=0\n",
    "df['askPrice']=0\n",
    "df['askSize']=0\n",
    "df['Close']=0\n",
    "df['High']=0\n",
    "df['Low']=0\n",
    "df['Volume']=0\n",
    "df['lastprice']=0"
   ]
  },
  {
   "cell_type": "code",
   "execution_count": 4,
   "metadata": {
    "collapsed": true
   },
   "outputs": [],
   "source": [
    "#portfolio=['SPY','KMT','CNC','WLK','PAM','HFC','WGO','CONN']\n",
    "#stk=portfolio[0]"
   ]
  },
  {
   "cell_type": "code",
   "execution_count": 5,
   "metadata": {
    "collapsed": true
   },
   "outputs": [],
   "source": [
    "field = ['lastTimestamp', 'askPrice', 'askSize',\n",
    "         'bidPrice', 'bidSize',\n",
    "         'low', 'high', 'close',\n",
    "         'volume', 'lastPrice', 'lastSize', 'halted']"
   ]
  },
  {
   "cell_type": "code",
   "execution_count": 6,
   "metadata": {
    "collapsed": false
   },
   "outputs": [],
   "source": [
    "def send_tick(field, value):\n",
    "    bid_price = ''\n",
    "    bid_size=''\n",
    "    ask_price=''\n",
    "    ask_size=''\n",
    "    high=''\n",
    "    low=''\n",
    "    close=''\n",
    "    volume=''\n",
    "    lastprice='' \n",
    "    global df\n",
    "    \n",
    "    if field == 'bidPrice':\n",
    "        bid_price = value\n",
    "        bid_size=0\n",
    "        ask_price=0\n",
    "        ask_size=0\n",
    "        high=0\n",
    "        low=0\n",
    "        close=0\n",
    "        volume=0\n",
    "        lastprice=0 \n",
    "        msg = 'SPY %s %s %s %s %s %s %s %s %s' %(bid_price,bid_size,ask_price,ask_size,high,low,close,volume,lastprice)\n",
    "        #print(msg)\n",
    "        #socket_7000.send_string(msg)\n",
    "        dt = datetime.datetime.now()\n",
    "        df =df.append(pd.DataFrame({'Stock':'SPY','bidPrice': float(value),'bidSize':float(0),'askPrice':float(0),'askSize':float(0),'Close':float(0),'High':float(0),'Low':float(0),'Volume':float(0),'lastprice':float(0)}, index=[dt]))\n",
    "        \n",
    "    if field == 'bidSize':\n",
    "        bid_price = 0\n",
    "        bid_size= value\n",
    "        ask_price=0\n",
    "        ask_size=0\n",
    "        high=0\n",
    "        low=0\n",
    "        close=0\n",
    "        volume=0\n",
    "        msg = 'SPY %s %s %s %s %s %s %s %s %s' %(bid_price,bid_size,ask_price,ask_size,high,low,close,volume,lastprice)\n",
    "        #print(msg)\n",
    "        #socket_7000.send_string(msg)\n",
    "        #df.bidSize=float(value) \n",
    "        dt = datetime.datetime.now()\n",
    "        df =df.append(pd.DataFrame({'Stock':'SPY','bidPrice':0,'bidSize': float(value),'askPrice':float(0),'askSize':float(0),'Close':float(0),'High':float(0),'Low':float(0),'Volume':float(0),'lastprice':float(0)}, index=[dt]))\n",
    "\n",
    "    if field == 'askPrice':\n",
    "        bid_price = 0\n",
    "        bid_size= 0\n",
    "        ask_price =value\n",
    "        ask_size=0\n",
    "        high=0\n",
    "        low=0\n",
    "        close=0\n",
    "        volume=0\n",
    "        msg = 'SPY %s %s %s %s %s %s %s %s %s' %(bid_price,bid_size,ask_price,ask_size,high,low,close,volume,lastprice)\n",
    "        #print(msg)\n",
    "        #socket_7000.send_string(msg)\n",
    "        #df.askprice=float(value)\n",
    "        dt = datetime.datetime.now()\n",
    "        df =df.append(pd.DataFrame({'Stock':'SPY','bidPrice':0,'bidSize': float(0),'askPrice':float(value),'askSize':float(0),'Close':float(0),'High':float(0),'Low':float(0),'Volume':float(0),'lastprice':float(0)}, index=[dt]))\n",
    " \n",
    "    if field == 'askSize':\n",
    "        bid_price = 0\n",
    "        bid_size= 0\n",
    "        ask_price =0\n",
    "        ask_size=value\n",
    "        high=0\n",
    "        low=0\n",
    "        close=0\n",
    "        volume=0\n",
    "        msg = 'SPY %s %s %s %s %s %s %s %s %s' %(bid_price,bid_size,ask_price,ask_size,high,low,close,volume,lastprice)\n",
    "        #print(msg)\n",
    "        #socket_7000.send_string(msg)\n",
    "        dt = datetime.datetime.now()\n",
    "        df =df.append(pd.DataFrame({'Stock':'SPY','bidPrice':0,'bidSize': float(0),'askPrice':float(0),'askSize':float(value),'Close':float(0),'High':float(0),'Low':float(0),'Volume':float(0),'lastprice':float(0)}, index=[dt]))\n",
    " \n",
    "    if field == 'high':\n",
    "        bid_price = 0\n",
    "        bid_size= 0\n",
    "        ask_price =0\n",
    "        ask_size=0\n",
    "        high=value\n",
    "        low=0\n",
    "        close=0\n",
    "        volume=0\n",
    "        msg = 'SPY %s %s %s %s %s %s %s %s %s' %(bid_price,bid_size,ask_price,ask_size,high,low,close,volume,lastprice)\n",
    "        #print(msg)\n",
    "        #socket_7000.send_string(msg)\n",
    "        dt = datetime.datetime.now()\n",
    "        df =df.append(pd.DataFrame({'Stock':'SPY','bidPrice':0,'bidSize': float(0),'askPrice':float(0),'askSize':float(0),'Close':float(0),'High':float(value),'Low':float(0),'Volume':float(0),'lastprice':float(0)}, index=[dt]))\n",
    "\n",
    "    if field == 'low':\n",
    "        bid_price = 0\n",
    "        bid_size= 0\n",
    "        ask_price =0\n",
    "        ask_size=0\n",
    "        high=0\n",
    "        low=value\n",
    "        close=0\n",
    "        volume=0\n",
    "        msg = 'SPY %s %s %s %s %s %s %s %s %s' %(bid_price,bid_size,ask_price,ask_size,high,low,close,volume,lastprice)\n",
    "        #print(msg)\n",
    "        #socket_7000.send_string(msg)\n",
    "        dt = datetime.datetime.now()\n",
    "        df =df.append(pd.DataFrame({'Stock':'SPY','bidPrice':0,'bidSize': float(0),'askPrice':float(0),'askSize':float(0),'Close':float(0),'High':float(0),'Low':float(value),'Volume':float(0),'lastprice':float(0)}, index=[dt]))\n",
    "\n",
    "    if field == 'close':\n",
    "        bid_price = 0\n",
    "        bid_size= 0\n",
    "        ask_price =0\n",
    "        ask_size=0\n",
    "        high=0\n",
    "        low=0\n",
    "        close=value\n",
    "        volume=0\n",
    "        astprice=0\n",
    "        msg = 'SPY %s %s %s %s %s %s %s %s %s' %(bid_price,bid_size,ask_price,ask_size,high,low,close,volume,lastprice)\n",
    "        #print(msg)\n",
    "        #socket_7000.send_string(msg) \n",
    "        #df.Close=float(value)\n",
    "        dt = datetime.datetime.now()\n",
    "        df =df.append(pd.DataFrame({'Stock':'SPY','bidPrice':0,'bidSize': float(0),'askPrice':float(0),'askSize':float(0),'Close':float(value),'High':float(0),'Low':float(0),'Volume':float(0),'lastprice':float(0)}, index=[dt]))\n",
    "\n",
    "    if field == 'volume':\n",
    "        bid_price = 0\n",
    "        bid_size= 0\n",
    "        ask_price =0\n",
    "        ask_size=0\n",
    "        high=0\n",
    "        low=0\n",
    "        close=0\n",
    "        volume=value\n",
    "        lastprice=0\n",
    "        msg = 'SPY %s %s %s %s %s %s %s %s %s' %(bid_price,bid_size,ask_price,ask_size,high,low,close,volume,lastprice)\n",
    "        #print(msg)\n",
    "        #socket_7000.send_string(msg) \n",
    "        dt = datetime.datetime.now()\n",
    "        df =df.append(pd.DataFrame({'Stock':'SPY','bidPrice':0,'bidSize': float(0),'askPrice':float(0),'askSize':float(0),'Close':float(0),'High':float(0),'Low':float(0),'Volume':float(value),'lastprice':float(0)}, index=[dt]))\n",
    "\n",
    "    if field == 'lastPrice':\n",
    "        bid_price = 0\n",
    "        bid_size= 0\n",
    "        ask_price =0\n",
    "        ask_size=0\n",
    "        high=0\n",
    "        low=0\n",
    "        close=0\n",
    "        volume=0\n",
    "        lastprice=value\n",
    "        msg = 'SPY %s %s %s %s %s %s %s %s %s' %(bid_price,bid_size,ask_price,ask_size,high,low,close,volume,lastprice)\n",
    "        #print(msg)\n",
    "        #socket_7000.send_string(msg) \n",
    "        dt = datetime.datetime.now()\n",
    "        df =df.append(pd.DataFrame({'Stock':'SPY','bidPrice':0,'bidSize': float(0),'askPrice':float(0),'askSize':float(0),'Close':float(0),'High':float(0),'Low':float(0),'Volume':float(0),'lastprice':float(value)}, index=[dt]))\n",
    "    #print(df[-1:])"
   ]
  },
  {
   "cell_type": "code",
   "execution_count": null,
   "metadata": {
    "collapsed": false
   },
   "outputs": [],
   "source": [
    "#conn.cancel_market_data(request_id)\n",
    "#conn.close()"
   ]
  },
  {
   "cell_type": "code",
   "execution_count": 7,
   "metadata": {
    "collapsed": false
   },
   "outputs": [],
   "source": [
    "request_id = conn.request_market_data(conn.create_contract('SPY', 'STK', 'SMART', 'SMART', 'USD'), send_tick)"
   ]
  },
  {
   "cell_type": "code",
   "execution_count": 8,
   "metadata": {
    "collapsed": true
   },
   "outputs": [],
   "source": [
    "def BA(df):\n",
    "    df.bidPrice=df.loc[:,'bidPrice'].replace(to_replace=0, method='ffill')\n",
    "    df.bidSize=df.loc[:,'bidSize'].replace(to_replace=0, method='ffill')\n",
    "    df.askPrice=df.loc[:,'askPrice'].replace(to_replace=0, method='ffill')\n",
    "    df.askSize=df.loc[:,'askSize'].replace(to_replace=0, method='ffill')\n",
    "    df.Close=df.loc[:,'Close'].replace(to_replace=0, method='ffill')\n",
    "    df.High=df.loc[:,'High'].replace(to_replace=0, method='ffill')\n",
    "    df.Low=df.loc[:,'Low'].replace(to_replace=0, method='ffill')\n",
    "    df.Volume=df.loc[:,'Volume'].replace(to_replace=0, method='ffill')\n",
    "    df.lastprice=df.loc[:,'lastprice'].replace(to_replace=0, method='ffill')\n",
    "    #df=df.dropna()\n",
    "    return df"
   ]
  },
  {
   "cell_type": "code",
   "execution_count": 27,
   "metadata": {
    "collapsed": false
   },
   "outputs": [],
   "source": [
    "data=BA(df)"
   ]
  },
  {
   "cell_type": "code",
   "execution_count": 28,
   "metadata": {
    "collapsed": false
   },
   "outputs": [
    {
     "data": {
      "text/html": [
       "<div>\n",
       "<style scoped>\n",
       "    .dataframe tbody tr th:only-of-type {\n",
       "        vertical-align: middle;\n",
       "    }\n",
       "\n",
       "    .dataframe tbody tr th {\n",
       "        vertical-align: top;\n",
       "    }\n",
       "\n",
       "    .dataframe thead th {\n",
       "        text-align: right;\n",
       "    }\n",
       "</style>\n",
       "<table border=\"1\" class=\"dataframe\">\n",
       "  <thead>\n",
       "    <tr style=\"text-align: right;\">\n",
       "      <th></th>\n",
       "      <th>Close</th>\n",
       "      <th>High</th>\n",
       "      <th>Low</th>\n",
       "      <th>Stock</th>\n",
       "      <th>Volume</th>\n",
       "      <th>askPrice</th>\n",
       "      <th>askSize</th>\n",
       "      <th>bidPrice</th>\n",
       "      <th>bidSize</th>\n",
       "      <th>lastprice</th>\n",
       "    </tr>\n",
       "  </thead>\n",
       "  <tbody>\n",
       "    <tr>\n",
       "      <th>2018-04-20 23:44:44.460079</th>\n",
       "      <td>268.89</td>\n",
       "      <td>269.06</td>\n",
       "      <td>266.08</td>\n",
       "      <td>SPY</td>\n",
       "      <td>521573.0</td>\n",
       "      <td>266.80</td>\n",
       "      <td>1.0</td>\n",
       "      <td>266.8</td>\n",
       "      <td>1.0</td>\n",
       "      <td>266.79</td>\n",
       "    </tr>\n",
       "    <tr>\n",
       "      <th>2018-04-20 23:44:44.470449</th>\n",
       "      <td>268.89</td>\n",
       "      <td>269.06</td>\n",
       "      <td>266.08</td>\n",
       "      <td>SPY</td>\n",
       "      <td>521573.0</td>\n",
       "      <td>266.81</td>\n",
       "      <td>1.0</td>\n",
       "      <td>266.8</td>\n",
       "      <td>1.0</td>\n",
       "      <td>266.79</td>\n",
       "    </tr>\n",
       "    <tr>\n",
       "      <th>2018-04-20 23:44:44.482776</th>\n",
       "      <td>268.89</td>\n",
       "      <td>269.06</td>\n",
       "      <td>266.08</td>\n",
       "      <td>SPY</td>\n",
       "      <td>521573.0</td>\n",
       "      <td>266.81</td>\n",
       "      <td>175.0</td>\n",
       "      <td>266.8</td>\n",
       "      <td>1.0</td>\n",
       "      <td>266.79</td>\n",
       "    </tr>\n",
       "    <tr>\n",
       "      <th>2018-04-20 23:44:44.491787</th>\n",
       "      <td>268.89</td>\n",
       "      <td>269.06</td>\n",
       "      <td>266.08</td>\n",
       "      <td>SPY</td>\n",
       "      <td>521573.0</td>\n",
       "      <td>266.81</td>\n",
       "      <td>175.0</td>\n",
       "      <td>266.8</td>\n",
       "      <td>1.0</td>\n",
       "      <td>266.79</td>\n",
       "    </tr>\n",
       "    <tr>\n",
       "      <th>2018-04-20 23:44:44.500123</th>\n",
       "      <td>268.89</td>\n",
       "      <td>269.06</td>\n",
       "      <td>266.08</td>\n",
       "      <td>SPY</td>\n",
       "      <td>521573.0</td>\n",
       "      <td>266.81</td>\n",
       "      <td>175.0</td>\n",
       "      <td>266.8</td>\n",
       "      <td>1.0</td>\n",
       "      <td>266.79</td>\n",
       "    </tr>\n",
       "  </tbody>\n",
       "</table>\n",
       "</div>"
      ],
      "text/plain": [
       "                             Close    High     Low Stock    Volume  askPrice  \\\n",
       "2018-04-20 23:44:44.460079  268.89  269.06  266.08   SPY  521573.0    266.80   \n",
       "2018-04-20 23:44:44.470449  268.89  269.06  266.08   SPY  521573.0    266.81   \n",
       "2018-04-20 23:44:44.482776  268.89  269.06  266.08   SPY  521573.0    266.81   \n",
       "2018-04-20 23:44:44.491787  268.89  269.06  266.08   SPY  521573.0    266.81   \n",
       "2018-04-20 23:44:44.500123  268.89  269.06  266.08   SPY  521573.0    266.81   \n",
       "\n",
       "                            askSize  bidPrice  bidSize  lastprice  \n",
       "2018-04-20 23:44:44.460079      1.0     266.8      1.0     266.79  \n",
       "2018-04-20 23:44:44.470449      1.0     266.8      1.0     266.79  \n",
       "2018-04-20 23:44:44.482776    175.0     266.8      1.0     266.79  \n",
       "2018-04-20 23:44:44.491787    175.0     266.8      1.0     266.79  \n",
       "2018-04-20 23:44:44.500123    175.0     266.8      1.0     266.79  "
      ]
     },
     "execution_count": 28,
     "metadata": {},
     "output_type": "execute_result"
    }
   ],
   "source": [
    "data.tail()"
   ]
  },
  {
   "cell_type": "code",
   "execution_count": 29,
   "metadata": {
    "collapsed": false
   },
   "outputs": [
    {
     "data": {
      "text/plain": [
       "128874"
      ]
     },
     "execution_count": 29,
     "metadata": {},
     "output_type": "execute_result"
    }
   ],
   "source": [
    "len(data)"
   ]
  },
  {
   "cell_type": "code",
   "execution_count": 30,
   "metadata": {
    "collapsed": false
   },
   "outputs": [],
   "source": [
    "data.to_csv('/home/octo/Dropbox/SPY23.csv', sep=',', encoding='utf-8')"
   ]
  },
  {
   "cell_type": "code",
   "execution_count": null,
   "metadata": {
    "collapsed": true
   },
   "outputs": [],
   "source": []
  }
 ],
 "metadata": {
  "kernelspec": {
   "display_name": "Python 3",
   "language": "python",
   "name": "python3"
  },
  "language_info": {
   "codemirror_mode": {
    "name": "ipython",
    "version": 3
   },
   "file_extension": ".py",
   "mimetype": "text/x-python",
   "name": "python",
   "nbconvert_exporter": "python",
   "pygments_lexer": "ipython3",
   "version": "3.5.2"
  }
 },
 "nbformat": 4,
 "nbformat_minor": 1
}
