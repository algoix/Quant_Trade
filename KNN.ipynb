{
 "cells": [
  {
   "cell_type": "code",
   "execution_count": 1,
   "metadata": {
    "collapsed": false
   },
   "outputs": [
    {
     "name": "stderr",
     "output_type": "stream",
     "text": [
      "Using TensorFlow backend.\n"
     ]
    }
   ],
   "source": [
    "import processing\n",
    "import ds\n",
    "import ml\n",
    "import model_saving\n",
    "import TS"
   ]
  },
  {
   "cell_type": "code",
   "execution_count": 2,
   "metadata": {
    "collapsed": true
   },
   "outputs": [],
   "source": [
    "filename = '/home/octo/Dropbox'+ '/SPY21Dec.csv'"
   ]
  },
  {
   "cell_type": "code",
   "execution_count": 3,
   "metadata": {
    "collapsed": true
   },
   "outputs": [],
   "source": [
    "data=processing.get_csv_pd(filename)\n",
    "data=processing.BA(data)\n",
    "data=processing.preprocessing(data)\n",
    "data_km=ml.kalman_ma(data)\n",
    "data['km']=data_km"
   ]
  },
  {
   "cell_type": "code",
   "execution_count": 4,
   "metadata": {
    "collapsed": true
   },
   "outputs": [],
   "source": [
    "import numpy as np\n",
    "data['diff']=np.where(np.logical_and(data.Open>data.km,data.spread>0),data.vwap-data.km,np.where(np.logical_and(data.Open<data.km,data.spread<0),data.vwap-data.km,0))"
   ]
  },
  {
   "cell_type": "markdown",
   "metadata": {},
   "source": [
    "https://www.quantinsti.com/blog/machine-learning-k-nearest-neighbors-knn-algorithm-python/"
   ]
  },
  {
   "cell_type": "code",
   "execution_count": 6,
   "metadata": {
    "collapsed": false
   },
   "outputs": [],
   "source": [
    "import numpy as np\n",
    "import pandas as pd\n",
    "\n",
    "import matplotlib.pyplot as plt\n",
    "\n",
    "from sklearn.neighbors import KNeighborsClassifier\n",
    "from sklearn.metrics import accuracy_score"
   ]
  },
  {
   "cell_type": "code",
   "execution_count": 25,
   "metadata": {
    "collapsed": false
   },
   "outputs": [
    {
     "data": {
      "text/html": [
       "<div>\n",
       "<table border=\"1\" class=\"dataframe\">\n",
       "  <thead>\n",
       "    <tr style=\"text-align: right;\">\n",
       "      <th></th>\n",
       "      <th>askPrice</th>\n",
       "      <th>askSize</th>\n",
       "      <th>bidPrice</th>\n",
       "      <th>bidSize</th>\n",
       "      <th>Open</th>\n",
       "      <th>Close</th>\n",
       "      <th>High</th>\n",
       "      <th>Low</th>\n",
       "      <th>...</th>\n",
       "      <th>spread</th>\n",
       "      <th>vel</th>\n",
       "      <th>return</th>\n",
       "      <th>km</th>\n",
       "      <th>diff</th>\n",
       "      <th>Op-Cl</th>\n",
       "      <th>H-L</th>\n",
       "      <th>CLD</th>\n",
       "    </tr>\n",
       "  </thead>\n",
       "  <tbody>\n",
       "    <tr>\n",
       "      <th>2017-12-22 08:43:41.354203</th>\n",
       "      <td>268.01001</td>\n",
       "      <td>67.00000</td>\n",
       "      <td>268.00000</td>\n",
       "      <td>38.00000</td>\n",
       "      <td>268.00500</td>\n",
       "      <td>268.00500</td>\n",
       "      <td>268.01001</td>\n",
       "      <td>268.00000</td>\n",
       "      <td>...</td>\n",
       "      <td>-0.00137</td>\n",
       "      <td>0.02002</td>\n",
       "      <td>0.00004</td>\n",
       "      <td>268.00133</td>\n",
       "      <td>0.00000</td>\n",
       "      <td>0.00000</td>\n",
       "      <td>0.01001</td>\n",
       "      <td>0.00000</td>\n",
       "    </tr>\n",
       "    <tr>\n",
       "      <th>2017-12-22 08:43:43.959309</th>\n",
       "      <td>268.01001</td>\n",
       "      <td>67.00000</td>\n",
       "      <td>268.00000</td>\n",
       "      <td>33.00000</td>\n",
       "      <td>268.00500</td>\n",
       "      <td>268.00500</td>\n",
       "      <td>268.01001</td>\n",
       "      <td>268.00000</td>\n",
       "      <td>...</td>\n",
       "      <td>-0.00171</td>\n",
       "      <td>0.02002</td>\n",
       "      <td>0.00004</td>\n",
       "      <td>268.00168</td>\n",
       "      <td>0.00000</td>\n",
       "      <td>0.00000</td>\n",
       "      <td>0.01001</td>\n",
       "      <td>0.00000</td>\n",
       "    </tr>\n",
       "    <tr>\n",
       "      <th>2017-12-22 08:43:46.158100</th>\n",
       "      <td>268.01001</td>\n",
       "      <td>74.00000</td>\n",
       "      <td>268.00000</td>\n",
       "      <td>33.00000</td>\n",
       "      <td>268.00500</td>\n",
       "      <td>268.00500</td>\n",
       "      <td>268.01001</td>\n",
       "      <td>268.00000</td>\n",
       "      <td>...</td>\n",
       "      <td>-0.00192</td>\n",
       "      <td>0.02002</td>\n",
       "      <td>0.00004</td>\n",
       "      <td>268.00199</td>\n",
       "      <td>0.00000</td>\n",
       "      <td>0.00000</td>\n",
       "      <td>0.01001</td>\n",
       "      <td>0.00000</td>\n",
       "    </tr>\n",
       "    <tr>\n",
       "      <th>2017-12-22 08:43:48.568004</th>\n",
       "      <td>268.01001</td>\n",
       "      <td>74.00000</td>\n",
       "      <td>268.00000</td>\n",
       "      <td>32.00000</td>\n",
       "      <td>268.00500</td>\n",
       "      <td>268.00500</td>\n",
       "      <td>268.01001</td>\n",
       "      <td>268.00000</td>\n",
       "      <td>...</td>\n",
       "      <td>-0.00198</td>\n",
       "      <td>0.02002</td>\n",
       "      <td>0.00004</td>\n",
       "      <td>268.00228</td>\n",
       "      <td>0.00000</td>\n",
       "      <td>0.00000</td>\n",
       "      <td>0.01001</td>\n",
       "      <td>0.00000</td>\n",
       "    </tr>\n",
       "    <tr>\n",
       "      <th>2017-12-22 08:43:51.341810</th>\n",
       "      <td>268.01001</td>\n",
       "      <td>201.00000</td>\n",
       "      <td>268.00000</td>\n",
       "      <td>32.00000</td>\n",
       "      <td>268.00500</td>\n",
       "      <td>268.00500</td>\n",
       "      <td>268.01001</td>\n",
       "      <td>268.00000</td>\n",
       "      <td>...</td>\n",
       "      <td>-0.00363</td>\n",
       "      <td>0.02002</td>\n",
       "      <td>0.00004</td>\n",
       "      <td>268.00254</td>\n",
       "      <td>0.00000</td>\n",
       "      <td>0.00000</td>\n",
       "      <td>0.01001</td>\n",
       "      <td>0.00000</td>\n",
       "    </tr>\n",
       "  </tbody>\n",
       "</table>\n",
       "<p>5 rows × 20 columns</p>\n",
       "</div>"
      ],
      "text/plain": [
       "                            askPrice   askSize  bidPrice  bidSize      Open  \\\n",
       "2017-12-22 08:43:41.354203 268.01001  67.00000 268.00000 38.00000 268.00500   \n",
       "2017-12-22 08:43:43.959309 268.01001  67.00000 268.00000 33.00000 268.00500   \n",
       "2017-12-22 08:43:46.158100 268.01001  74.00000 268.00000 33.00000 268.00500   \n",
       "2017-12-22 08:43:48.568004 268.01001  74.00000 268.00000 32.00000 268.00500   \n",
       "2017-12-22 08:43:51.341810 268.01001 201.00000 268.00000 32.00000 268.00500   \n",
       "\n",
       "                               Close      High       Low   ...     spread  \\\n",
       "2017-12-22 08:43:41.354203 268.00500 268.01001 268.00000   ...   -0.00137   \n",
       "2017-12-22 08:43:43.959309 268.00500 268.01001 268.00000   ...   -0.00171   \n",
       "2017-12-22 08:43:46.158100 268.00500 268.01001 268.00000   ...   -0.00192   \n",
       "2017-12-22 08:43:48.568004 268.00500 268.01001 268.00000   ...   -0.00198   \n",
       "2017-12-22 08:43:51.341810 268.00500 268.01001 268.00000   ...   -0.00363   \n",
       "\n",
       "                               vel  return        km    diff   Op-Cl     H-L  \\\n",
       "2017-12-22 08:43:41.354203 0.02002 0.00004 268.00133 0.00000 0.00000 0.01001   \n",
       "2017-12-22 08:43:43.959309 0.02002 0.00004 268.00168 0.00000 0.00000 0.01001   \n",
       "2017-12-22 08:43:46.158100 0.02002 0.00004 268.00199 0.00000 0.00000 0.01001   \n",
       "2017-12-22 08:43:48.568004 0.02002 0.00004 268.00228 0.00000 0.00000 0.01001   \n",
       "2017-12-22 08:43:51.341810 0.02002 0.00004 268.00254 0.00000 0.00000 0.01001   \n",
       "\n",
       "                               CLD  \n",
       "2017-12-22 08:43:41.354203 0.00000  \n",
       "2017-12-22 08:43:43.959309 0.00000  \n",
       "2017-12-22 08:43:46.158100 0.00000  \n",
       "2017-12-22 08:43:48.568004 0.00000  \n",
       "2017-12-22 08:43:51.341810 0.00000  \n",
       "\n",
       "[5 rows x 20 columns]"
      ]
     },
     "execution_count": 25,
     "metadata": {},
     "output_type": "execute_result"
    }
   ],
   "source": [
    "data.tail()"
   ]
  },
  {
   "cell_type": "code",
   "execution_count": 26,
   "metadata": {
    "collapsed": false
   },
   "outputs": [
    {
     "data": {
      "text/html": [
       "<div>\n",
       "<table border=\"1\" class=\"dataframe\">\n",
       "  <thead>\n",
       "    <tr style=\"text-align: right;\">\n",
       "      <th></th>\n",
       "      <th>BASD</th>\n",
       "      <th>H-L</th>\n",
       "      <th>diff</th>\n",
       "      <th>vel</th>\n",
       "    </tr>\n",
       "  </thead>\n",
       "  <tbody>\n",
       "    <tr>\n",
       "      <th>2017-12-21 20:00:11.350348</th>\n",
       "      <td>153.00000</td>\n",
       "      <td>0.02002</td>\n",
       "      <td>0.44007</td>\n",
       "      <td>-0.03500</td>\n",
       "    </tr>\n",
       "    <tr>\n",
       "      <th>2017-12-21 20:00:11.572921</th>\n",
       "      <td>153.00000</td>\n",
       "      <td>0.02002</td>\n",
       "      <td>0.40383</td>\n",
       "      <td>-0.03000</td>\n",
       "    </tr>\n",
       "    <tr>\n",
       "      <th>2017-12-21 20:00:11.583070</th>\n",
       "      <td>-70.00000</td>\n",
       "      <td>0.02002</td>\n",
       "      <td>0.00000</td>\n",
       "      <td>-0.01999</td>\n",
       "    </tr>\n",
       "    <tr>\n",
       "      <th>2017-12-21 20:00:11.592699</th>\n",
       "      <td>-70.00000</td>\n",
       "      <td>0.02002</td>\n",
       "      <td>0.00000</td>\n",
       "      <td>-0.01999</td>\n",
       "    </tr>\n",
       "    <tr>\n",
       "      <th>2017-12-21 20:00:11.602544</th>\n",
       "      <td>-191.00000</td>\n",
       "      <td>0.02002</td>\n",
       "      <td>0.00000</td>\n",
       "      <td>-0.01999</td>\n",
       "    </tr>\n",
       "  </tbody>\n",
       "</table>\n",
       "</div>"
      ],
      "text/plain": [
       "                                 BASD     H-L    diff      vel\n",
       "2017-12-21 20:00:11.350348  153.00000 0.02002 0.44007 -0.03500\n",
       "2017-12-21 20:00:11.572921  153.00000 0.02002 0.40383 -0.03000\n",
       "2017-12-21 20:00:11.583070  -70.00000 0.02002 0.00000 -0.01999\n",
       "2017-12-21 20:00:11.592699  -70.00000 0.02002 0.00000 -0.01999\n",
       "2017-12-21 20:00:11.602544 -191.00000 0.02002 0.00000 -0.01999"
      ]
     },
     "execution_count": 26,
     "metadata": {},
     "output_type": "execute_result"
    }
   ],
   "source": [
    "# defining predictor variable\n",
    "data['BASD']=data.bidSize-data.askSize\n",
    "data['H-L']=data.High-data.Low\n",
    "data=data.dropna()\n",
    "X=data[['BASD','H-L','diff','vel']]\n",
    "X.head()"
   ]
  },
  {
   "cell_type": "code",
   "execution_count": 27,
   "metadata": {
    "collapsed": true
   },
   "outputs": [],
   "source": [
    "# Defining target variable\n",
    "Y=np.where(data.Close.diff(5)>0,1,-1)"
   ]
  },
  {
   "cell_type": "code",
   "execution_count": 28,
   "metadata": {
    "collapsed": false
   },
   "outputs": [
    {
     "data": {
      "text/plain": [
       "array([-1, -1, -1, -1, -1])"
      ]
     },
     "execution_count": 28,
     "metadata": {},
     "output_type": "execute_result"
    }
   ],
   "source": [
    "Y[:5]"
   ]
  },
  {
   "cell_type": "code",
   "execution_count": 29,
   "metadata": {
    "collapsed": true
   },
   "outputs": [],
   "source": [
    "# training set and test set\n",
    "split_percentage=0.7\n",
    "split=int(split_percentage*len(data))\n",
    "X_train=X[:split]\n",
    "Y_train=Y[:split]\n",
    "X_test=X[split:]\n",
    "Y_test=Y[split:]"
   ]
  },
  {
   "cell_type": "code",
   "execution_count": 30,
   "metadata": {
    "collapsed": false
   },
   "outputs": [
    {
     "name": "stdout",
     "output_type": "stream",
     "text": [
      "training set sccuracy:  1\n",
      "test set sccuracy:  1\n"
     ]
    }
   ],
   "source": [
    "knn=KNeighborsClassifier(n_neighbors=15)\n",
    "knn.fit(X_train,Y_train)\n",
    "accuracy_train=accuracy_score(Y_train,knn.predict(X_train))\n",
    "accuracy_test=accuracy_score(Y_test,knn.predict(X_test))\n",
    "print('training set sccuracy: %2.f' %accuracy_train)\n",
    "print('test set sccuracy: %2.f' %accuracy_test)"
   ]
  },
  {
   "cell_type": "code",
   "execution_count": 32,
   "metadata": {
    "collapsed": false
   },
   "outputs": [],
   "source": [
    "# Creating trading strategy\n",
    "data['pr_signal']=knn.predict(X)\n",
    "data['ret']=np.log(data.Close/data.Close.shift(5))\n",
    "cum_ret=data[split:].ret.cumsum()*100\n",
    "data['strat_ret']=data.ret*data.pr_signal.shift(1)\n",
    "cum_strat_ret=data[split:].strat_ret.cumsum()*100"
   ]
  },
  {
   "cell_type": "code",
   "execution_count": 33,
   "metadata": {
    "collapsed": false
   },
   "outputs": [
    {
     "data": {
      "image/png": "[encoded data removed]",
      "text/plain": [
       "<matplotlib.figure.Figure at 0x7f15a83f9400>"
      ]
     },
     "metadata": {},
     "output_type": "display_data"
    }
   ],
   "source": [
    "#plot\n",
    "plt.figure(figsize=(15,5))\n",
    "plt.plot(cum_ret,color='r',label='index return')\n",
    "plt.plot(cum_strat_ret,color='g',label='strategy return')\n",
    "plt.legend()\n",
    "plt.show()"
   ]
  },
  {
   "cell_type": "code",
   "execution_count": 36,
   "metadata": {
    "collapsed": false
   },
   "outputs": [
    {
     "name": "stdout",
     "output_type": "stream",
     "text": [
      "Sharpe ratio: 1.70\n"
     ]
    }
   ],
   "source": [
    "# sharp ratio\n",
    "std=cum_strat_ret.std()\n",
    "Sharpe=(cum_strat_ret-cum_ret)/std\n",
    "Sharpe=Sharpe.mean()\n",
    "print('Sharpe ratio: %.2f' %Sharpe)"
   ]
  },
  {
   "cell_type": "code",
   "execution_count": null,
   "metadata": {
    "collapsed": true
   },
   "outputs": [],
   "source": []
  }
 ],
 "metadata": {
  "kernelspec": {
   "display_name": "Python 3",
   "language": "python",
   "name": "python3"
  },
  "language_info": {
   "codemirror_mode": {
    "name": "ipython",
    "version": 3
   },
   "file_extension": ".py",
   "mimetype": "text/x-python",
   "name": "python",
   "nbconvert_exporter": "python",
   "pygments_lexer": "ipython3",
   "version": "3.5.2"
  }
 },
 "nbformat": 4,
 "nbformat_minor": 1
}
